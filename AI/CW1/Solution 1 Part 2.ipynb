{
 "cells": [
  {
   "cell_type": "code",
   "execution_count": 1,
   "metadata": {},
   "outputs": [],
   "source": [
    "from amnesiac import blurry_memory\n",
    "import random\n",
    "import numpy as np\n",
    "import matplotlib.pyplot as plt\n",
    "import time\n",
    "import string"
   ]
  },
  {
   "cell_type": "code",
   "execution_count": 2,
   "metadata": {},
   "outputs": [
    {
     "name": "stdout",
     "output_type": "stream",
     "text": [
      "['W', 'H', 'E', 'L', '6', '1', 'P', 'F', 'Z', 'M', 'U', '4', 'N', '5', 'V', '_', 'O', '3', 'B', '9', 'G', 'K', 'I', 'A', '8', '7', '2', 'Y', 'T', 'X', 'J', 'R', 'Q', 'D', '0', 'C', 'S']\n"
     ]
    }
   ],
   "source": [
    "passcode_length = 10\n",
    "# passcode_lower_bound = 0\n",
    "# passcode_upper_bound = 9\n",
    "passcode_options = list(string.ascii_uppercase+string.digits+'_')\n",
    "np.random.shuffle(passcode_options)\n",
    "print(passcode_options)"
   ]
  },
  {
   "cell_type": "code",
   "execution_count": 3,
   "metadata": {},
   "outputs": [],
   "source": [
    "population_size = 10\n",
    "num_parents = 5\n",
    "elite_size = 2"
   ]
  },
  {
   "cell_type": "code",
   "execution_count": 4,
   "metadata": {},
   "outputs": [],
   "source": [
    "population = []\n",
    "for i in range(population_size):\n",
    "    chromosome = []\n",
    "    for x in range(passcode_length):\n",
    "#         chromosome.append(int(round(random.uniform(passcode_lower_bound,passcode_upper_bound),0)))\n",
    "        chromosome.append(str(np.random.choice(passcode_options, 1)[0]))\n",
    "    population.append(chromosome)"
   ]
  },
  {
   "cell_type": "code",
   "execution_count": 5,
   "metadata": {},
   "outputs": [],
   "source": [
    "def fitness(population):\n",
    "    fitness_scores = []\n",
    "    for chromosome in population:\n",
    "        matches = 0\n",
    "        str_chromosome = \"\".join(chromosome)\n",
    "        matches_percentage = blurry_memory([str_chromosome],190573735,0)[str_chromosome]\n",
    "        match = int(matches_percentage*10)        \n",
    "        result = [chromosome,match]\n",
    "        fitness_scores.append(result)\n",
    "    return fitness_scores\n",
    "    "
   ]
  },
  {
   "cell_type": "code",
   "execution_count": 6,
   "metadata": {},
   "outputs": [],
   "source": [
    "def select_parents(fitness_scores):\n",
    "    parents_list = []\n",
    "    for chromosome in sorted(fitness_scores, key=lambda x: x[1], reverse = True)[:num_parents]:\n",
    "        parents_list.append(chromosome[0])\n",
    "    return(parents_list)"
   ]
  },
  {
   "cell_type": "code",
   "execution_count": 7,
   "metadata": {},
   "outputs": [],
   "source": [
    "# breeding logic\n",
    "def breed(parent1,parent2):\n",
    "    child = []\n",
    "\n",
    "    parent1 = parents[0]\n",
    "    parent2 = parents[1]\n",
    "\n",
    "    geneA = int(random.random() * passcode_length)\n",
    "    geneB = int(random.random() * passcode_length)\n",
    "\n",
    "    startGene = min(geneA, geneB)\n",
    "    endGene = max(geneA, geneB)\n",
    "\n",
    "    for i in range(0,passcode_length):\n",
    "        if (i < startGene) or (i > endGene):\n",
    "            child.append(parent1[i])\n",
    "        else:\n",
    "            child.append(parent2[i])\n",
    "    return child\n",
    "\n",
    "# breeding and elitism\n",
    "def create_children(parents_pool):\n",
    "    children = []\n",
    "    num_new_children = len(population) - elite_size\n",
    "\n",
    "    for i in range(0,elite_size):\n",
    "        children.append(parents_pool[i])\n",
    "\n",
    "    for i in range(0,num_new_children):\n",
    "        parent1 = parents_pool[int(random.random() * len(parents_pool))]\n",
    "        parent2 = parents_pool[int(random.random() * len(parents_pool))]\n",
    "        children.append(breed(parent1,parent2))\n",
    "    return children"
   ]
  },
  {
   "cell_type": "code",
   "execution_count": 8,
   "metadata": {},
   "outputs": [],
   "source": [
    "def mutation(children_set):\n",
    "    for i in range(len(children_set)):\n",
    "        if random.random() > 0.1:\n",
    "            continue\n",
    "        else:\n",
    "            mutated_position = int(random.random() * passcode_length)\n",
    "#             mutation = int(round(random.uniform(passcode_lower_bound,passcode_upper_bound+1),0))\n",
    "            mutation = str(np.random.choice(passcode_options, 1)[0])\n",
    "            children_set[i][mutated_position] = mutation\n",
    "    return children_set"
   ]
  },
  {
   "cell_type": "code",
   "execution_count": 9,
   "metadata": {},
   "outputs": [
    {
     "name": "stdout",
     "output_type": "stream",
     "text": [
      "Cracked in 278866 generations, and 23.273167371749878 seconds! \n",
      "Discovered passcode = ['C', 'H', 'U', 'K', 'N', '0', '8', '8', 'I', 'S']\n"
     ]
    }
   ],
   "source": [
    "success = []\n",
    "generations = 0\n",
    "t0 = time.time()\n",
    "while True:\n",
    "\n",
    "    fitness_scores = fitness(population)\n",
    "    success.append(max([i[1] for i in fitness_scores]))\n",
    "    if max([i[1] for i in fitness_scores]) == passcode_length:\n",
    "        print(\"Cracked in {} generations, and {} seconds! \\nDiscovered passcode = {}\".format(generations,time.time() - t0,[i[0] for i in fitness_scores if i[1] == passcode_length][0]))\n",
    "        break\n",
    "    parents = select_parents(fitness_scores)\n",
    "    children = create_children(parents)\n",
    "    population = mutation(children)\n",
    "    generations += 1"
   ]
  },
  {
   "cell_type": "code",
   "execution_count": 10,
   "metadata": {},
   "outputs": [
    {
     "name": "stderr",
     "output_type": "stream",
     "text": [
      "/home/nv/virtpy3tf/lib/python3.6/site-packages/ipykernel_launcher.py:4: MatplotlibDeprecationWarning: Adding an axes using the same arguments as a previous axes currently reuses the earlier instance.  In a future version, a new instance will always be created and returned.  Meanwhile, this warning can be suppressed, and the future behavior ensured, by passing a unique label to each axes instance.\n",
      "  after removing the cwd from sys.path.\n"
     ]
    },
    {
     "data": {
      "image/png": "[encoded data removed]",
      "text/plain": [
       "<Figure size 432x288 with 1 Axes>"
      ]
     },
     "metadata": {
      "needs_background": "light"
     },
     "output_type": "display_data"
    }
   ],
   "source": [
    "fig = plt.figure()\n",
    "plt.plot(list(range(generations+1)), success)\n",
    "fig.suptitle('Fitness Score by Generation', fontsize=14, fontweight='bold')\n",
    "ax = fig.add_subplot(111)\n",
    "ax.set_xlabel('Generation')\n",
    "ax.set_ylabel('Fitness Score')\n",
    "plt.show()"
   ]
  }
 ],
 "metadata": {
  "kernelspec": {
   "display_name": "Python 3",
   "language": "python",
   "name": "python3"
  },
  "language_info": {
   "codemirror_mode": {
    "name": "ipython",
    "version": 3
   },
   "file_extension": ".py",
   "mimetype": "text/x-python",
   "name": "python",
   "nbconvert_exporter": "python",
   "pygments_lexer": "ipython3",
   "version": "3.6.8"
  }
 },
 "nbformat": 4,
 "nbformat_minor": 2
}
