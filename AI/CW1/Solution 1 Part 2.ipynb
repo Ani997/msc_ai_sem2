{
 "cells": [
  {
   "cell_type": "code",
   "execution_count": 1,
   "metadata": {},
   "outputs": [],
   "source": [
    "from amnesiac import blurry_memory\n",
    "import random\n",
    "import numpy as np\n",
    "import matplotlib.pyplot as plt\n",
    "import time\n",
    "import string"
   ]
  },
  {
   "cell_type": "code",
   "execution_count": 2,
   "metadata": {},
   "outputs": [],
   "source": [
    "random.seed(10)"
   ]
  },
  {
   "cell_type": "code",
   "execution_count": 3,
   "metadata": {},
   "outputs": [],
   "source": [
    "def fitness(population,user_id,passwd_no):\n",
    "    return [[i,int(blurry_memory([''.join(i)],user_id,passwd_no)[''.join(i)]*10)] for i in population]"
   ]
  },
  {
   "cell_type": "code",
   "execution_count": 4,
   "metadata": {},
   "outputs": [],
   "source": [
    "def select_parents(fitness_scores,method='rank'):\n",
    "    if method == 'rank':\n",
    "        return [i[0] for i in sorted(fitness_scores, key=lambda x: x[1], reverse = True)[:num_parents]]\n",
    "    if method == 'mixed_rank':\n",
    "        fitness_scores_sorted = sorted(fitness_scores, key=lambda x: x[1], reverse = True)\n",
    "        parents = [i[0] for i in fitness_scores_sorted]\n",
    "        selected_parents = parents[:int(num_parents*0.6)]+parents[-int(num_parents*0.2):]\n",
    "        return random.choices(parents[int(num_parents*0.6):-int(num_parents*0.2):],k=int(num_parents*0.2)) + selected_parents\n",
    "    if method == 'tournament':\n",
    "        parents_list = []\n",
    "        while len(parents_list) <= num_parents:\n",
    "            best_random_tounamenet_players = random.choices(fitness_scores,k=3)\n",
    "            best_random_tounamenet_players = sorted(best_random_tounamenet_players, key=lambda x: x[1], reverse = True)\n",
    "            parents_list.append(best_random_tounamenet_players[0][0])\n",
    "            fitness_scores.remove(best_random_tounamenet_players[0])\n",
    "        return parents_list"
   ]
  },
  {
   "cell_type": "code",
   "execution_count": 5,
   "metadata": {},
   "outputs": [],
   "source": [
    "# crossover logic\n",
    "def crossover(parent1,parent2):\n",
    "    [startGene,endGene] = sorted(random.choices(range(passcode_length),k=2))\n",
    "    if random.random()>0.5:\n",
    "        return parent1[:startGene]+parent2[startGene:endGene]+parent1[endGene:]\n",
    "    else:\n",
    "        return parent2[:startGene]+parent1[startGene:endGene]+parent2[endGene:]\n",
    "\n",
    "\n",
    "# reproduction (gen -1) * population\n",
    "def create_children(all_parents):\n",
    "    children = []\n",
    "    for i in range(len(population)):\n",
    "        parent1 = all_parents[int(random.random() * len(all_parents))]\n",
    "        parent2 = all_parents[int(random.random() * len(all_parents))]\n",
    "        children.append(crossover(parent1,parent2))\n",
    "    return children"
   ]
  },
  {
   "cell_type": "code",
   "execution_count": 6,
   "metadata": {},
   "outputs": [],
   "source": [
    "def mutation(children_set):\n",
    "    for child in children_set:\n",
    "        if random.random() < mutation_rate:\n",
    "            #mutate if rate is less 20 percent \n",
    "            child[int(random.random() * passcode_length)] = random.choice(passcode_options)\n",
    "    return children_set"
   ]
  },
  {
   "cell_type": "code",
   "execution_count": 7,
   "metadata": {},
   "outputs": [],
   "source": [
    "# password_option = 1\n",
    "\n",
    "# population_size = 1000\n",
    "# num_parents = 20\n",
    "# mutation_rate = 0.2\n",
    "# passcode_options = list(string.ascii_uppercase+string.digits+'_')\n",
    "# passcode_length = 10\n",
    "\n",
    "# population = [random.choices(passcode_options,k=passcode_length) for i in range(population_size)]\n",
    "# selection_method = 'tournament'\n",
    "\n",
    "\n",
    "# fitness_tracker = []\n",
    "# fitness_scores_list = []\n",
    "# generations = 0\n",
    "# t_start = time.time()\n",
    "# while True:\n",
    "#     fitness_scores = fitness(population,190573735,password_option)\n",
    "#     fitness_scores_list.append(fitness_scores)\n",
    "#     if max([i[1] for i in fitness_scores]) == passcode_length:\n",
    "#         time_taken = time.time() - t_start\n",
    "#         password_resolved = ''.join([i[0] for i in fitness_scores if i[1] == passcode_length][0])        \n",
    "#         print(\"Passwod resolved in {} generations and {} seconds! \\nDiscovered passcode = {}\".format(generations,time_taken,password_resolved))\n",
    "#         break\n",
    "#     parents = select_parents(fitness_scores,method=selection_method)\n",
    "#     children = create_children(parents)\n",
    "#     population = mutation(children)\n",
    "#     generations += 1    \n",
    "    \n",
    "# fitness_tracker = [max([i[1] for i in fitness_scores_list[j]]) for j in range(len(fitness_scores_list))]        \n",
    "# fig = plt.figure()\n",
    "# plt.plot(list(range(generations+1)), fitness_tracker)\n",
    "# fig.suptitle('Fitness Score by Generation', fontsize=14, fontweight='bold')\n",
    "# ax = fig.add_subplot(111)\n",
    "# ax.set_xlabel('Generation')\n",
    "# ax.set_ylabel('Fitness Score')\n",
    "# plt.savefig('images/'+str(password_option)+'_'+str(population_size)+'_'+str(num_parents)+'_'+str(mutation_rate)+'_'+str(selection_method)+'-'+str(generations)+'-'+str(round(time_taken,3))+'.png',dpi=300, bbox_inches='tight')\n",
    "# plt.show()  \n",
    "\n",
    "    \n",
    "    \n"
   ]
  },
  {
   "cell_type": "code",
   "execution_count": 8,
   "metadata": {},
   "outputs": [
    {
     "name": "stdout",
     "output_type": "stream",
     "text": [
      "0\n"
     ]
    }
   ],
   "source": [
    "from sklearn.model_selection import ParameterGrid\n",
    "param_grid = {'population_size': [100, 250, 500, 750, 1000, 2000, 3000],\n",
    "              'num_parents' : [5, 10, 15, 20, 25, 35, 50],\n",
    "              'mutation_rate':[0.1,0.3,0.5,0.8,0.9,1],\n",
    "              'selection_method':['rank','mixed_rank','tournament']\n",
    "             }\n",
    "\n",
    "grid = ParameterGrid(param_grid)\n",
    "password_option = 1\n",
    "passcode_options = list(string.ascii_uppercase+string.digits+'_')\n",
    "passcode_length = 10\n",
    "f = open('grid_search.csv','a')\n",
    "for i,params in enumerate(grid):\n",
    "    population_size = params['population_size']\n",
    "    num_parents = params['num_parents']\n",
    "    mutation_rate = params['mutation_rate']\n",
    "    selection_method = params['selection_method']\n",
    "#     print(population_size, num_parents , mutation_rate, selection_method)\n",
    "    print(i)\n",
    "    population = [random.choices(passcode_options,k=passcode_length) for i in range(population_size)]\n",
    "    fitness_tracker = []\n",
    "    fitness_scores_list = []\n",
    "    generations = 0\n",
    "    t_start = time.time()\n",
    "    while True:\n",
    "        fitness_scores = fitness(population,190573735,password_option)\n",
    "        fitness_scores_list.append(fitness_scores)\n",
    "        if max([i[1] for i in fitness_scores]) == passcode_length:\n",
    "            time_taken = time.time() - t_start\n",
    "            password_resolved = ''.join([i[0] for i in fitness_scores if i[1] == passcode_length][0])        \n",
    "            f.write(str(password_option)+', '+str(population_size)+', '+str(num_parents)+', '+str(mutation_rate)+', '+str(selection_method)+', '+str(generations)+', '+str(round(time_taken,3))+'\\n')\n",
    "#             print(\"Passwod resolved in {} generations and {} seconds! \\nDiscovered passcode = {}\".format(generations,time_taken,password_resolved))\n",
    "            break\n",
    "        parents = select_parents(fitness_scores,method=selection_method)\n",
    "        children = create_children(parents)\n",
    "        population = mutation(children)\n",
    "        generations += 1    \n",
    "\n",
    "f.close()\n",
    "    \n",
    "    "
   ]
  },
  {
   "cell_type": "code",
   "execution_count": 9,
   "metadata": {},
   "outputs": [
    {
     "data": {
      "text/plain": [
       "882"
      ]
     },
     "execution_count": 9,
     "metadata": {},
     "output_type": "execute_result"
    }
   ],
   "source": [
    "len(grid)"
   ]
  }
 ],
 "metadata": {
  "kernelspec": {
   "display_name": "Python 3",
   "language": "python",
   "name": "python3"
  },
  "language_info": {
   "codemirror_mode": {
    "name": "ipython",
    "version": 3
   },
   "file_extension": ".py",
   "mimetype": "text/x-python",
   "name": "python",
   "nbconvert_exporter": "python",
   "pygments_lexer": "ipython3",
   "version": "3.6.8"
  }
 },
 "nbformat": 4,
 "nbformat_minor": 2
}
