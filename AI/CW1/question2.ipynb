{
 "cells": [
  {
   "cell_type": "code",
   "execution_count": 1,
   "metadata": {},
   "outputs": [],
   "source": [
    "from amnesiac import blurry_memory\n",
    "import random\n",
    "import numpy as np\n",
    "import matplotlib.pyplot as plt\n",
    "import time\n",
    "import string\n",
    "import statistics "
   ]
  },
  {
   "cell_type": "code",
   "execution_count": 2,
   "metadata": {},
   "outputs": [],
   "source": [
    "random.seed(10)"
   ]
  },
  {
   "cell_type": "code",
   "execution_count": 3,
   "metadata": {},
   "outputs": [],
   "source": [
    "def fitness(population,user_id,passwd_no):\n",
    "    '''\n",
    "    calculates the match percentage(fitness) of each popul-\n",
    "        ation chromosome and returns a list of list with [-\n",
    "        [chrmosome,int(fitness*10)],[..]]\n",
    "    params, population, a list\n",
    "        user_id, integer\n",
    "        passwd_no, integer, 0 or 1\n",
    "    return list, fitness scored population       \n",
    "    '''\n",
    "    return [[i,int(blurry_memory([''.join(i)],user_id,passwd_no)[''.join(i)]*10)] for i in population]"
   ]
  },
  {
   "cell_type": "code",
   "execution_count": 4,
   "metadata": {},
   "outputs": [],
   "source": [
    "def select_parents(fitness_scores,method='rank'):\n",
    "    '''\n",
    "    performs selection of parents on the basis of method, \n",
    "        (rank,mixed_rank,tournament)\n",
    "    rank, top N parents are returned from the sorted fitne-\n",
    "        ess scores\n",
    "    mixed_rank, 60 % top parents, 20% worst parents and 20-\n",
    "        % random parents are selected, evalaution is done\n",
    "        on fitness_score\n",
    "    params, fitness_scores, list of list object\n",
    "        method, string\n",
    "    returns list, N parent list\n",
    "    '''\n",
    "    if method == 'rank':\n",
    "        return [i[0] for i in sorted(fitness_scores, key=lambda x: x[1], reverse = True)[:num_parents]]\n",
    "    if method == 'mixed_rank':\n",
    "        fitness_scores_sorted = sorted(fitness_scores, key=lambda x: x[1], reverse = True)\n",
    "        parents = [i[0] for i in fitness_scores_sorted]\n",
    "        selected_parents = parents[:int(num_parents*0.6)]+parents[-int(num_parents*0.2):]\n",
    "        return random.choices(parents[int(num_parents*0.6):-int(num_parents*0.2):],k=int(num_parents*0.2)) + selected_parents\n",
    "    if method == 'tournament':\n",
    "        parents_list = []\n",
    "        while len(parents_list) <= num_parents:\n",
    "            best_random_tounamenet_players = random.choices(fitness_scores,k=3)\n",
    "            best_random_tounamenet_players = sorted(best_random_tounamenet_players, key=lambda x: x[1], reverse = True)\n",
    "            parents_list.append(best_random_tounamenet_players[0][0])\n",
    "            fitness_scores.remove(best_random_tounamenet_players[0])\n",
    "        return parents_list"
   ]
  },
  {
   "cell_type": "code",
   "execution_count": 5,
   "metadata": {},
   "outputs": [],
   "source": [
    "# reproduction (gen -1) * population\n",
    "def create_children(all_parents):\n",
    "    '''\n",
    "    randomly select two parent from population corpus and \n",
    "    performs crossover\n",
    "    params, all_parents, list\n",
    "    return, children, list\n",
    "    '''\n",
    "    children = []\n",
    "    for i in range(len(population)):\n",
    "        parent1 = all_parents[int(random.random() * len(all_parents))]\n",
    "        parent2 = all_parents[int(random.random() * len(all_parents))]\n",
    "        children.append(crossover(parent1,parent2))\n",
    "    return children\n",
    "\n",
    "\n",
    "# crossover logic\n",
    "def crossover(parent1,parent2):\n",
    "    '''\n",
    "    performs N-point (2) cross over between parent1 and pa-\n",
    "        rent 2, first calculates the 2 points in startGene\n",
    "        and endGene then if the random value is greater th-\n",
    "        an 0.5 perform and return [parent1:parent2:parent1-\n",
    "        ] else [parent2:parent1:parent2] \n",
    "    params, parent1, list\n",
    "        parent2, list\n",
    "    returns, list, children    \n",
    "    '''\n",
    "    [startGene,endGene] = sorted(random.choices(range(passcode_length),k=2))\n",
    "    if random.random()>0.5:\n",
    "        return parent1[:startGene]+parent2[startGene:endGene]+parent1[endGene:]\n",
    "    else:\n",
    "        return parent2[:startGene]+parent1[startGene:endGene]+parent2[endGene:]"
   ]
  },
  {
   "cell_type": "code",
   "execution_count": 6,
   "metadata": {},
   "outputs": [],
   "source": [
    "def mutation(childrens):\n",
    "    '''\n",
    "    performs chnage in chrmosome of the given childrens i-\n",
    "        f the randomness factor is less than mutation_rate\n",
    "    params, childrens, list\n",
    "    return, list, childrens\n",
    "    '''\n",
    "    for i,child in enumerate(childrens):\n",
    "        if random.random() < mutation_rate:\n",
    "            #mutate if rate is less mutation_rate percent \n",
    "            childrens[i][int(random.random() * passcode_length)] = random.choice(passcode_options)\n",
    "    return childrens"
   ]
  },
  {
   "cell_type": "code",
   "execution_count": 7,
   "metadata": {},
   "outputs": [
    {
     "name": "stdout",
     "output_type": "stream",
     "text": [
      "Passwod resolved in21generations and0.33693647384643555seconds \n",
      "Discovered passcode = 1_L1K3TH4T\n"
     ]
    },
    {
     "name": "stderr",
     "output_type": "stream",
     "text": [
      "/home/nv/virtpy3tf/lib/python3.6/site-packages/ipykernel_launcher.py:33: MatplotlibDeprecationWarning: Adding an axes using the same arguments as a previous axes currently reuses the earlier instance.  In a future version, a new instance will always be created and returned.  Meanwhile, this warning can be suppressed, and the future behavior ensured, by passing a unique label to each axes instance.\n"
     ]
    },
    {
     "data": {
      "image/png": "[encoded data removed]",
      "text/plain": [
       "<Figure size 432x288 with 1 Axes>"
      ]
     },
     "metadata": {
      "needs_background": "light"
     },
     "output_type": "display_data"
    }
   ],
   "source": [
    "# Q2 a \n",
    "password_option = 1\n",
    "population_size = 1000\n",
    "num_parents = 500\n",
    "mutation_rate = 0.2\n",
    "passcode_options = list(string.ascii_uppercase+string.digits+'_')\n",
    "passcode_length = 10\n",
    "# generate a popluation of list of list [[list(chromosome1)],[list(chromosome2)],[]]\n",
    "population = [random.choices(passcode_options,k=passcode_length) for i in range(population_size)]\n",
    "selection_method = 'tournament'\n",
    "\n",
    "fitness_tracker = []\n",
    "fitness_scores_list = []\n",
    "generations = 0\n",
    "t_start = time.time()\n",
    "while True:\n",
    "    fitness_scores = fitness(population,190573735,password_option)\n",
    "    fitness_scores_list.append(fitness_scores)\n",
    "    if max([i[1] for i in fitness_scores]) == passcode_length:\n",
    "        time_taken = time.time() - t_start\n",
    "        password_resolved = ''.join([i[0] for i in fitness_scores if i[1] == passcode_length][0])        \n",
    "        print(\"Passwod resolved in\"+str(generations)+\"generations and\"+str(time_taken)+\"seconds \\nDiscovered passcode =\",password_resolved)\n",
    "        break\n",
    "    parents = select_parents(fitness_scores,method=selection_method)\n",
    "    children = create_children(parents)\n",
    "    population = mutation(children)\n",
    "    generations += 1    \n",
    "    \n",
    "fitness_tracker = [max([i[1] for i in fitness_scores_list[j]]) for j in range(len(fitness_scores_list))]        \n",
    "fig = plt.figure()\n",
    "plt.plot(list(range(generations+1)), fitness_tracker)\n",
    "fig.suptitle('Fitness Score according to Generation', fontsize=14, fontweight='bold')\n",
    "ax = fig.add_subplot(111)\n",
    "ax.set_xlabel('Generation')\n",
    "ax.set_ylabel('Fitness Score')\n",
    "# plt.savefig('images/'+str(password_option)+'_'+str(population_size)+'_'+str(num_parents)+'_'+str(mutation_rate)+'_'+str(selection_method)+'-'+str(generations)+'-'+str(round(time_taken,3))+'.png',dpi=300, bbox_inches='tight')\n",
    "plt.show()\n",
    "\n"
   ]
  },
  {
   "cell_type": "code",
   "execution_count": 8,
   "metadata": {},
   "outputs": [
    {
     "name": "stdout",
     "output_type": "stream",
     "text": [
      "working on tournament please wait...\n",
      "Average Reproductions for 50 iterations for tournament are 33702.0\n",
      "Standard deveation of Reproductions for 50 iterations for tournament are 13966.51228138659\n",
      "Average Time for 50 iterations for tournament are 0.3383001661300659 \n",
      "\n",
      "working on rank please wait...\n"
     ]
    },
    {
     "ename": "KeyboardInterrupt",
     "evalue": "",
     "output_type": "error",
     "traceback": [
      "\u001b[0;31m---------------------------------------------------------------------------\u001b[0m",
      "\u001b[0;31mKeyboardInterrupt\u001b[0m                         Traceback (most recent call last)",
      "\u001b[0;32m<ipython-input-8-37507ab1d805>\u001b[0m in \u001b[0;36m<module>\u001b[0;34m\u001b[0m\n\u001b[1;32m     18\u001b[0m         \u001b[0mt_start\u001b[0m \u001b[0;34m=\u001b[0m \u001b[0mtime\u001b[0m\u001b[0;34m.\u001b[0m\u001b[0mtime\u001b[0m\u001b[0;34m(\u001b[0m\u001b[0;34m)\u001b[0m\u001b[0;34m\u001b[0m\u001b[0;34m\u001b[0m\u001b[0m\n\u001b[1;32m     19\u001b[0m         \u001b[0;32mwhile\u001b[0m \u001b[0;32mTrue\u001b[0m\u001b[0;34m:\u001b[0m\u001b[0;34m\u001b[0m\u001b[0;34m\u001b[0m\u001b[0m\n\u001b[0;32m---> 20\u001b[0;31m             \u001b[0mfitness_scores\u001b[0m \u001b[0;34m=\u001b[0m \u001b[0mfitness\u001b[0m\u001b[0;34m(\u001b[0m\u001b[0mpopulation\u001b[0m\u001b[0;34m,\u001b[0m\u001b[0;36m190573735\u001b[0m\u001b[0;34m,\u001b[0m\u001b[0mpassword_option\u001b[0m\u001b[0;34m)\u001b[0m\u001b[0;34m\u001b[0m\u001b[0;34m\u001b[0m\u001b[0m\n\u001b[0m\u001b[1;32m     21\u001b[0m             \u001b[0mfitness_scores_list\u001b[0m\u001b[0;34m.\u001b[0m\u001b[0mappend\u001b[0m\u001b[0;34m(\u001b[0m\u001b[0mfitness_scores\u001b[0m\u001b[0;34m)\u001b[0m\u001b[0;34m\u001b[0m\u001b[0;34m\u001b[0m\u001b[0m\n\u001b[1;32m     22\u001b[0m             \u001b[0;32mif\u001b[0m \u001b[0mmax\u001b[0m\u001b[0;34m(\u001b[0m\u001b[0;34m[\u001b[0m\u001b[0mi\u001b[0m\u001b[0;34m[\u001b[0m\u001b[0;36m1\u001b[0m\u001b[0;34m]\u001b[0m \u001b[0;32mfor\u001b[0m \u001b[0mi\u001b[0m \u001b[0;32min\u001b[0m \u001b[0mfitness_scores\u001b[0m\u001b[0;34m]\u001b[0m\u001b[0;34m)\u001b[0m \u001b[0;34m==\u001b[0m \u001b[0mpasscode_length\u001b[0m\u001b[0;34m:\u001b[0m\u001b[0;34m\u001b[0m\u001b[0;34m\u001b[0m\u001b[0m\n",
      "\u001b[0;32m<ipython-input-3-2135abc1b4fa>\u001b[0m in \u001b[0;36mfitness\u001b[0;34m(population, user_id, passwd_no)\u001b[0m\n\u001b[1;32m      9\u001b[0m     \u001b[0;32mreturn\u001b[0m \u001b[0mlist\u001b[0m\u001b[0;34m,\u001b[0m \u001b[0mfitness\u001b[0m \u001b[0mscored\u001b[0m \u001b[0mpopulation\u001b[0m\u001b[0;34m\u001b[0m\u001b[0;34m\u001b[0m\u001b[0m\n\u001b[1;32m     10\u001b[0m     '''\n\u001b[0;32m---> 11\u001b[0;31m     \u001b[0;32mreturn\u001b[0m \u001b[0;34m[\u001b[0m\u001b[0;34m[\u001b[0m\u001b[0mi\u001b[0m\u001b[0;34m,\u001b[0m\u001b[0mint\u001b[0m\u001b[0;34m(\u001b[0m\u001b[0mblurry_memory\u001b[0m\u001b[0;34m(\u001b[0m\u001b[0;34m[\u001b[0m\u001b[0;34m''\u001b[0m\u001b[0;34m.\u001b[0m\u001b[0mjoin\u001b[0m\u001b[0;34m(\u001b[0m\u001b[0mi\u001b[0m\u001b[0;34m)\u001b[0m\u001b[0;34m]\u001b[0m\u001b[0;34m,\u001b[0m\u001b[0muser_id\u001b[0m\u001b[0;34m,\u001b[0m\u001b[0mpasswd_no\u001b[0m\u001b[0;34m)\u001b[0m\u001b[0;34m[\u001b[0m\u001b[0;34m''\u001b[0m\u001b[0;34m.\u001b[0m\u001b[0mjoin\u001b[0m\u001b[0;34m(\u001b[0m\u001b[0mi\u001b[0m\u001b[0;34m)\u001b[0m\u001b[0;34m]\u001b[0m\u001b[0;34m*\u001b[0m\u001b[0;36m10\u001b[0m\u001b[0;34m)\u001b[0m\u001b[0;34m]\u001b[0m \u001b[0;32mfor\u001b[0m \u001b[0mi\u001b[0m \u001b[0;32min\u001b[0m \u001b[0mpopulation\u001b[0m\u001b[0;34m]\u001b[0m\u001b[0;34m\u001b[0m\u001b[0;34m\u001b[0m\u001b[0m\n\u001b[0m",
      "\u001b[0;32m<ipython-input-3-2135abc1b4fa>\u001b[0m in \u001b[0;36m<listcomp>\u001b[0;34m(.0)\u001b[0m\n\u001b[1;32m      9\u001b[0m     \u001b[0;32mreturn\u001b[0m \u001b[0mlist\u001b[0m\u001b[0;34m,\u001b[0m \u001b[0mfitness\u001b[0m \u001b[0mscored\u001b[0m \u001b[0mpopulation\u001b[0m\u001b[0;34m\u001b[0m\u001b[0;34m\u001b[0m\u001b[0m\n\u001b[1;32m     10\u001b[0m     '''\n\u001b[0;32m---> 11\u001b[0;31m     \u001b[0;32mreturn\u001b[0m \u001b[0;34m[\u001b[0m\u001b[0;34m[\u001b[0m\u001b[0mi\u001b[0m\u001b[0;34m,\u001b[0m\u001b[0mint\u001b[0m\u001b[0;34m(\u001b[0m\u001b[0mblurry_memory\u001b[0m\u001b[0;34m(\u001b[0m\u001b[0;34m[\u001b[0m\u001b[0;34m''\u001b[0m\u001b[0;34m.\u001b[0m\u001b[0mjoin\u001b[0m\u001b[0;34m(\u001b[0m\u001b[0mi\u001b[0m\u001b[0;34m)\u001b[0m\u001b[0;34m]\u001b[0m\u001b[0;34m,\u001b[0m\u001b[0muser_id\u001b[0m\u001b[0;34m,\u001b[0m\u001b[0mpasswd_no\u001b[0m\u001b[0;34m)\u001b[0m\u001b[0;34m[\u001b[0m\u001b[0;34m''\u001b[0m\u001b[0;34m.\u001b[0m\u001b[0mjoin\u001b[0m\u001b[0;34m(\u001b[0m\u001b[0mi\u001b[0m\u001b[0;34m)\u001b[0m\u001b[0;34m]\u001b[0m\u001b[0;34m*\u001b[0m\u001b[0;36m10\u001b[0m\u001b[0;34m)\u001b[0m\u001b[0;34m]\u001b[0m \u001b[0;32mfor\u001b[0m \u001b[0mi\u001b[0m \u001b[0;32min\u001b[0m \u001b[0mpopulation\u001b[0m\u001b[0;34m]\u001b[0m\u001b[0;34m\u001b[0m\u001b[0;34m\u001b[0m\u001b[0m\n\u001b[0m",
      "\u001b[0;32m~/msc_ai_sem2/AI/CW1/amnesiac.pyc\u001b[0m in \u001b[0;36mblurry_memory\u001b[0;34m(list_of_password, student_number, index)\u001b[0m\n",
      "\u001b[0;32m~/msc_ai_sem2/AI/CW1/amnesiac.pyc\u001b[0m in \u001b[0;36mscore_function\u001b[0;34m(string_one, string_two)\u001b[0m\n",
      "\u001b[0;31mKeyboardInterrupt\u001b[0m: "
     ]
    }
   ],
   "source": [
    "password_option = 0\n",
    "population_size = 100\n",
    "num_parents = 75\n",
    "mutation_rate = 0.2\n",
    "passcode_options = list(string.ascii_uppercase+string.digits+'_')\n",
    "passcode_length = 10\n",
    "selection_method_list = ['tournament','rank','mixed_rank']\n",
    "\n",
    "for selection_method in selection_method_list:\n",
    "    reproduction_list = []\n",
    "    time_list=[]\n",
    "    print('working on',selection_method, 'please wait...')\n",
    "    for i in range(50):\n",
    "        fitness_tracker = []\n",
    "        fitness_scores_list = []\n",
    "        generations = 0\n",
    "        population = [random.choices(passcode_options,k=passcode_length) for i in range(population_size)]\n",
    "        t_start = time.time()\n",
    "        while True:\n",
    "            fitness_scores = fitness(population,190573735,password_option)\n",
    "            fitness_scores_list.append(fitness_scores)\n",
    "            if max([i[1] for i in fitness_scores]) == passcode_length:\n",
    "                time_taken = time.time() - t_start\n",
    "                password_resolved = ''.join([i[0] for i in fitness_scores if i[1] == passcode_length][0]) \n",
    "                reproduction_list.append(generations*population_size)\n",
    "                time_list.append(time_taken)\n",
    "#                 f.write(str(generations)+','+str(generations*population_size)+','+str(time_taken)+'\\n')\n",
    "#                 print(\"Passwod resolved in {} generations and {} seconds! \\nDiscovered passcode = {}\".format(generations,time_taken,password_resolved))\n",
    "                break\n",
    "            parents = select_parents(fitness_scores,method=selection_method)\n",
    "            children = create_children(parents)\n",
    "            population = mutation(children)\n",
    "            generations += 1    \n",
    "    print(\"Average Reproductions for 50 iterations for\",selection_method,\"are\",np.average(reproduction_list))\n",
    "\n",
    "    print(\"Standard deveation of Reproductions for 50 iterations for\",selection_method,\"are\",statistics.stdev(reproduction_list))\n",
    "    print(\"Average Time for 50 iterations for\",selection_method,\"are\",np.average(time_list),\"\\n\")\n"
   ]
  },
  {
   "cell_type": "code",
   "execution_count": 9,
   "metadata": {},
   "outputs": [
    {
     "name": "stdout",
     "output_type": "stream",
     "text": [
      "working on tournament for population size 100 please wait...\n",
      "working on tournament for population size 250 please wait...\n"
     ]
    },
    {
     "ename": "KeyboardInterrupt",
     "evalue": "",
     "output_type": "error",
     "traceback": [
      "\u001b[0;31m---------------------------------------------------------------------------\u001b[0m",
      "\u001b[0;31mKeyboardInterrupt\u001b[0m                         Traceback (most recent call last)",
      "\u001b[0;32m<ipython-input-9-f203286b9fe5>\u001b[0m in \u001b[0;36m<module>\u001b[0;34m\u001b[0m\n\u001b[1;32m     31\u001b[0m     \u001b[0;31m#                 print(\"Passwod resolved in {} generations and {} seconds! \\nDiscovered passcode = {}\".format(generations,time_taken,password_resolved))\u001b[0m\u001b[0;34m\u001b[0m\u001b[0;34m\u001b[0m\u001b[0;34m\u001b[0m\u001b[0m\n\u001b[1;32m     32\u001b[0m                     \u001b[0;32mbreak\u001b[0m\u001b[0;34m\u001b[0m\u001b[0;34m\u001b[0m\u001b[0m\n\u001b[0;32m---> 33\u001b[0;31m                 \u001b[0mparents\u001b[0m \u001b[0;34m=\u001b[0m \u001b[0mselect_parents\u001b[0m\u001b[0;34m(\u001b[0m\u001b[0mfitness_scores\u001b[0m\u001b[0;34m,\u001b[0m\u001b[0mmethod\u001b[0m\u001b[0;34m=\u001b[0m\u001b[0mselection_method\u001b[0m\u001b[0;34m)\u001b[0m\u001b[0;34m\u001b[0m\u001b[0;34m\u001b[0m\u001b[0m\n\u001b[0m\u001b[1;32m     34\u001b[0m                 \u001b[0mchildren\u001b[0m \u001b[0;34m=\u001b[0m \u001b[0mcreate_children\u001b[0m\u001b[0;34m(\u001b[0m\u001b[0mparents\u001b[0m\u001b[0;34m)\u001b[0m\u001b[0;34m\u001b[0m\u001b[0;34m\u001b[0m\u001b[0m\n\u001b[1;32m     35\u001b[0m                 \u001b[0mpopulation\u001b[0m \u001b[0;34m=\u001b[0m \u001b[0mmutation\u001b[0m\u001b[0;34m(\u001b[0m\u001b[0mchildren\u001b[0m\u001b[0;34m)\u001b[0m\u001b[0;34m\u001b[0m\u001b[0;34m\u001b[0m\u001b[0m\n",
      "\u001b[0;32m<ipython-input-4-60a3cca1d191>\u001b[0m in \u001b[0;36mselect_parents\u001b[0;34m(fitness_scores, method)\u001b[0m\n\u001b[1;32m     25\u001b[0m             \u001b[0mbest_random_tounamenet_players\u001b[0m \u001b[0;34m=\u001b[0m \u001b[0msorted\u001b[0m\u001b[0;34m(\u001b[0m\u001b[0mbest_random_tounamenet_players\u001b[0m\u001b[0;34m,\u001b[0m \u001b[0mkey\u001b[0m\u001b[0;34m=\u001b[0m\u001b[0;32mlambda\u001b[0m \u001b[0mx\u001b[0m\u001b[0;34m:\u001b[0m \u001b[0mx\u001b[0m\u001b[0;34m[\u001b[0m\u001b[0;36m1\u001b[0m\u001b[0;34m]\u001b[0m\u001b[0;34m,\u001b[0m \u001b[0mreverse\u001b[0m \u001b[0;34m=\u001b[0m \u001b[0;32mTrue\u001b[0m\u001b[0;34m)\u001b[0m\u001b[0;34m\u001b[0m\u001b[0;34m\u001b[0m\u001b[0m\n\u001b[1;32m     26\u001b[0m             \u001b[0mparents_list\u001b[0m\u001b[0;34m.\u001b[0m\u001b[0mappend\u001b[0m\u001b[0;34m(\u001b[0m\u001b[0mbest_random_tounamenet_players\u001b[0m\u001b[0;34m[\u001b[0m\u001b[0;36m0\u001b[0m\u001b[0;34m]\u001b[0m\u001b[0;34m[\u001b[0m\u001b[0;36m0\u001b[0m\u001b[0;34m]\u001b[0m\u001b[0;34m)\u001b[0m\u001b[0;34m\u001b[0m\u001b[0;34m\u001b[0m\u001b[0m\n\u001b[0;32m---> 27\u001b[0;31m             \u001b[0mfitness_scores\u001b[0m\u001b[0;34m.\u001b[0m\u001b[0mremove\u001b[0m\u001b[0;34m(\u001b[0m\u001b[0mbest_random_tounamenet_players\u001b[0m\u001b[0;34m[\u001b[0m\u001b[0;36m0\u001b[0m\u001b[0;34m]\u001b[0m\u001b[0;34m)\u001b[0m\u001b[0;34m\u001b[0m\u001b[0;34m\u001b[0m\u001b[0m\n\u001b[0m\u001b[1;32m     28\u001b[0m         \u001b[0;32mreturn\u001b[0m \u001b[0mparents_list\u001b[0m\u001b[0;34m\u001b[0m\u001b[0;34m\u001b[0m\u001b[0m\n",
      "\u001b[0;31mKeyboardInterrupt\u001b[0m: "
     ]
    }
   ],
   "source": [
    "population_size_list = [100, 250, 500, 750, 1000, 2000, 3000]\n",
    "password_option = 0\n",
    "num_parents = 75\n",
    "mutation_rate = 0.2\n",
    "passcode_options = list(string.ascii_uppercase+string.digits+'_')\n",
    "passcode_length = 10\n",
    "selection_method_list = ['tournament','rank','mixed_rank']\n",
    "\n",
    "for selection_method in selection_method_list:\n",
    "    reproduction_rate = []\n",
    "    time_rate = []\n",
    "    for population_size in population_size_list:\n",
    "        reproduction_list = []\n",
    "        time_list=[]\n",
    "        print('working on',selection_method,'for population size',population_size,'please wait...')\n",
    "        for i in range(50):\n",
    "            fitness_tracker = []\n",
    "            fitness_scores_list = []\n",
    "            generations = 0\n",
    "            population = [random.choices(passcode_options,k=passcode_length) for i in range(population_size)]\n",
    "            t_start = time.time()\n",
    "            while True:\n",
    "                fitness_scores = fitness(population,190573735,password_option)\n",
    "                fitness_scores_list.append(fitness_scores)\n",
    "                if max([i[1] for i in fitness_scores]) == passcode_length:\n",
    "                    time_taken = time.time() - t_start\n",
    "                    password_resolved = ''.join([i[0] for i in fitness_scores if i[1] == passcode_length][0]) \n",
    "                    reproduction_list.append(generations*population_size)\n",
    "                    time_list.append(time_taken)\n",
    "    #                 f.write(str(generations)+','+str(generations*population_size)+','+str(time_taken)+'\\n')\n",
    "    #                 print(\"Passwod resolved in {} generations and {} seconds! \\nDiscovered passcode = {}\".format(generations,time_taken,password_resolved))\n",
    "                    break\n",
    "                parents = select_parents(fitness_scores,method=selection_method)\n",
    "                children = create_children(parents)\n",
    "                population = mutation(children)\n",
    "                generations += 1    \n",
    "        reproduction_rate.append(np.average(reproduction_list))\n",
    "        time_rate.append(np.average(time_list))\n",
    "    print(reproduction_rate)\n",
    "    print(time_rate)\n",
    "    fig = plt.figure()\n",
    "    plt.plot(population_size_list, reproduction_rate)\n",
    "    fig.suptitle('Reproduction rate according to Population size', fontsize=14, fontweight='bold')\n",
    "    ax = fig.add_subplot(111)\n",
    "    ax.set_xlabel('population size')\n",
    "    ax.set_ylabel('reproduction rate')\n",
    "#     plt.savefig('images/'+str(password_option)+'_'+str(population_size)+'_'+str(num_parents)+'_'+str(mutation_rate)+'_'+str(selection_method)+'-'+str(generations)+'-'+str(round(time_taken,3))+'.png',dpi=300, bbox_inches='tight')\n",
    "    plt.show()\n"
   ]
  },
  {
   "cell_type": "code",
   "execution_count": null,
   "metadata": {},
   "outputs": [],
   "source": [
    "# parameter selection using grid search\n",
    "\n",
    "# from sklearn.model_selection import ParameterGrid\n",
    "# param_grid = {'population_size': [100, 250, 500, 750, 1000, 2000, 3000],\n",
    "#               'num_parents' : [5, 10, 15, 20, 25, 35, 50],\n",
    "#               'mutation_rate':[0.1,0.3,0.5,0.8,0.9,1],\n",
    "#               'selection_method':['rank','mixed_rank','tournament']\n",
    "#              }\n",
    "\n",
    "# grid = ParameterGrid(param_grid)\n",
    "# password_option = 1\n",
    "# passcode_options = list(string.ascii_uppercase+string.digits+'_')\n",
    "# passcode_length = 10\n",
    "# f = open('grid_search.csv','a')\n",
    "# for i,params in enumerate(grid):\n",
    "#     population_size = params['population_size']\n",
    "#     num_parents = params['num_parents']\n",
    "#     mutation_rate = params['mutation_rate']\n",
    "#     selection_method = params['selection_method']\n",
    "# #     print(population_size, num_parents , mutation_rate, selection_method)\n",
    "#     print(i)\n",
    "#     population = [random.choices(passcode_options,k=passcode_length) for i in range(population_size)]\n",
    "#     fitness_tracker = []\n",
    "#     fitness_scores_list = []\n",
    "#     generations = 0\n",
    "#     t_start = time.time()\n",
    "#     while True:\n",
    "#         fitness_scores = fitness(population,190573735,password_option)\n",
    "#         fitness_scores_list.append(fitness_scores)\n",
    "#         if max([i[1] for i in fitness_scores]) == passcode_length:\n",
    "#             time_taken = time.time() - t_start\n",
    "#             password_resolved = ''.join([i[0] for i in fitness_scores if i[1] == passcode_length][0])        \n",
    "#             f.write(str(password_option)+', '+str(population_size)+', '+str(num_parents)+', '+str(mutation_rate)+', '+str(selection_method)+', '+str(generations)+', '+str(round(time_taken,3))+'\\n')\n",
    "# #             print(\"Passwod resolved in {} generations and {} seconds! \\nDiscovered passcode = {}\".format(generations,time_taken,password_resolved))\n",
    "#             break\n",
    "#         parents = select_parents(fitness_scores,method=selection_method)\n",
    "#         children = create_children(parents)\n",
    "#         population = mutation(children)\n",
    "#         generations += 1    \n",
    "\n",
    "# f.close()\n",
    "    \n",
    "    "
   ]
  },
  {
   "cell_type": "code",
   "execution_count": null,
   "metadata": {},
   "outputs": [],
   "source": []
  }
 ],
 "metadata": {
  "kernelspec": {
   "display_name": "Python 3",
   "language": "python",
   "name": "python3"
  },
  "language_info": {
   "codemirror_mode": {
    "name": "ipython",
    "version": 3
   },
   "file_extension": ".py",
   "mimetype": "text/x-python",
   "name": "python",
   "nbconvert_exporter": "python",
   "pygments_lexer": "ipython3",
   "version": "3.6.8"
  }
 },
 "nbformat": 4,
 "nbformat_minor": 2
}
