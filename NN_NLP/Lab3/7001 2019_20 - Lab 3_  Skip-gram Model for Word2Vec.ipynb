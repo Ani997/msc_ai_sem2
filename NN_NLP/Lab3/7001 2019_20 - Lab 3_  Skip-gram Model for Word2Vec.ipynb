{
 "cells": [
  {
   "cell_type": "code",
   "execution_count": 1,
   "metadata": {
    "colab": {
     "base_uri": "https://localhost:8080/",
     "height": 133
    },
    "colab_type": "code",
    "id": "W2Lnwl2iQwXA",
    "outputId": "2dd991ab-fada-4ebe-fae7-18c1d9dded6c"
   },
   "outputs": [
    {
     "name": "stdout",
     "output_type": "stream",
     "text": [
      "[nltk_data] Downloading package punkt to /root/nltk_data...\n",
      "[nltk_data]   Package punkt is already up-to-date!\n",
      "[nltk_data] Downloading package gutenberg to /root/nltk_data...\n",
      "[nltk_data]   Package gutenberg is already up-to-date!\n",
      "[nltk_data] Downloading package stopwords to /root/nltk_data...\n",
      "[nltk_data]   Package stopwords is already up-to-date!\n"
     ]
    }
   ],
   "source": [
    "import nltk\n",
    "import numpy as np\n",
    "import string\n",
    "nltk.download('punkt')\n",
    "nltk.download('gutenberg')\n",
    "nltk.download('stopwords')\n",
    "from nltk.corpus import gutenberg\n",
    "austen = gutenberg.sents('austen-sense.txt')+gutenberg.sents('austen-emma.txt')+gutenberg.sents('austen-persuasion.txt')"
   ]
  },
  {
   "cell_type": "code",
   "execution_count": 2,
   "metadata": {
    "colab": {
     "base_uri": "https://localhost:8080/",
     "height": 36
    },
    "colab_type": "code",
    "id": "xmcgXSSMQwXO",
    "outputId": "e23823bf-bcec-4397-a707-a16786791648"
   },
   "outputs": [
    {
     "name": "stdout",
     "output_type": "stream",
     "text": [
      "16498\n"
     ]
    }
   ],
   "source": [
    "print(len(austen))"
   ]
  },
  {
   "cell_type": "code",
   "execution_count": 3,
   "metadata": {
    "colab": {
     "base_uri": "https://localhost:8080/",
     "height": 269
    },
    "colab_type": "code",
    "id": "3eX70DyJQwXb",
    "outputId": "7f3ed80f-2b55-4d59-83ea-7d209e8b2cc3"
   },
   "outputs": [
    {
     "data": {
      "text/plain": [
       "[['[', 'Sense', 'and', 'Sensibility', 'by', 'Jane', 'Austen', '1811', ']'],\n",
       " ['CHAPTER', '1'],\n",
       " ['The',\n",
       "  'family',\n",
       "  'of',\n",
       "  'Dashwood',\n",
       "  'had',\n",
       "  'long',\n",
       "  'been',\n",
       "  'settled',\n",
       "  'in',\n",
       "  'Sussex',\n",
       "  '.']]"
      ]
     },
     "execution_count": 3,
     "metadata": {
      "tags": []
     },
     "output_type": "execute_result"
    }
   ],
   "source": [
    "austen[:3]"
   ]
  },
  {
   "cell_type": "code",
   "execution_count": 4,
   "metadata": {
    "colab": {
     "base_uri": "https://localhost:8080/",
     "height": 104
    },
    "colab_type": "code",
    "id": "xIGMuTqrQwXl",
    "outputId": "002995e2-a04d-4732-e7de-8881861f2897"
   },
   "outputs": [
    {
     "data": {
      "text/html": [
       "<p style=\"color: red;\">\n",
       "The default version of TensorFlow in Colab will soon switch to TensorFlow 2.x.<br>\n",
       "We recommend you <a href=\"https://www.tensorflow.org/guide/migrate\" target=\"_blank\">upgrade</a> now \n",
       "or ensure your notebook will continue to use TensorFlow 1.x via the <code>%tensorflow_version 1.x</code> magic:\n",
       "<a href=\"https://colab.research.google.com/notebooks/tensorflow_version.ipynb\" target=\"_blank\">more info</a>.</p>\n"
      ],
      "text/plain": [
       "<IPython.core.display.HTML object>"
      ]
     },
     "metadata": {
      "tags": []
     },
     "output_type": "display_data"
    },
    {
     "name": "stdout",
     "output_type": "stream",
     "text": [
      "[nltk_data] Downloading package stopwords to /root/nltk_data...\n",
      "[nltk_data]   Package stopwords is already up-to-date!\n"
     ]
    }
   ],
   "source": [
    "from tensorflow.keras import preprocessing \n",
    "from nltk.corpus import stopwords \n",
    "import re\n",
    "stop_words = set(stopwords.words('english')) \n",
    "nltk.download('stopwords')\n",
    "normalized_corpus_temp = []\n",
    "text = [token for alist in austen for token in alist ]\n",
    "for tokenList in austen:\n",
    "    normalisedTokenList = preprocessing.text.text_to_word_sequence(' '.join(tokenList), filters='!\"#$%&()*+,-./:;<=>?@[\\\\]^_`{|}~\\t\\n', lower=True, split=' ')\n",
    "    normalisedTokenList = [w for w in normalisedTokenList if not w in stop_words]\n",
    "    normalisedTokenList = [w for w in normalisedTokenList if not w in string.punctuation]\n",
    "    normalisedTokenList = [w for w in normalisedTokenList if not re.search(r'\\d',w) ]\n",
    "    \n",
    "    normalized_corpus_temp.append(normalisedTokenList)\n",
    "normalized_corpus = [' '.join(w) for w in normalized_corpus_temp if w and len(w) > 3]\n",
    "normalized_corpus_tokens = [w for w in normalized_corpus_temp if w and len(w) > 3]"
   ]
  },
  {
   "cell_type": "code",
   "execution_count": 5,
   "metadata": {
    "colab": {
     "base_uri": "https://localhost:8080/",
     "height": 36
    },
    "colab_type": "code",
    "id": "njkLRn2EQwXv",
    "outputId": "55cd338e-d75c-473b-a725-8f79f8f40fc1"
   },
   "outputs": [
    {
     "data": {
      "text/plain": [
       "12498"
      ]
     },
     "execution_count": 5,
     "metadata": {
      "tags": []
     },
     "output_type": "execute_result"
    }
   ],
   "source": [
    "len(normalized_corpus)"
   ]
  },
  {
   "cell_type": "code",
   "execution_count": 6,
   "metadata": {
    "colab": {
     "base_uri": "https://localhost:8080/",
     "height": 36
    },
    "colab_type": "code",
    "id": "jxUwecZYQwX5",
    "outputId": "f5681dbd-aa46-4492-bb3c-6604e7aa727f"
   },
   "outputs": [
    {
     "data": {
      "text/plain": [
       "'therefore succession norland estate really important sisters fortune independent might arise father inheriting property could small'"
      ]
     },
     "execution_count": 6,
     "metadata": {
      "tags": []
     },
     "output_type": "execute_result"
    }
   ],
   "source": [
    "normalized_corpus[10]"
   ]
  },
  {
   "cell_type": "code",
   "execution_count": 7,
   "metadata": {
    "colab": {
     "base_uri": "https://localhost:8080/",
     "height": 404
    },
    "colab_type": "code",
    "id": "2eFjUnKlvkJy",
    "outputId": "57ec732a-cd2c-4a53-aa01-5acb66040f0e"
   },
   "outputs": [
    {
     "data": {
      "text/plain": [
       "[['sense', 'sensibility', 'jane', 'austen'],\n",
       " ['family', 'dashwood', 'long', 'settled', 'sussex'],\n",
       " ['estate',\n",
       "  'large',\n",
       "  'residence',\n",
       "  'norland',\n",
       "  'park',\n",
       "  'centre',\n",
       "  'property',\n",
       "  'many',\n",
       "  'generations',\n",
       "  'lived',\n",
       "  'respectable',\n",
       "  'manner',\n",
       "  'engage',\n",
       "  'general',\n",
       "  'good',\n",
       "  'opinion',\n",
       "  'surrounding',\n",
       "  'acquaintance']]"
      ]
     },
     "execution_count": 7,
     "metadata": {
      "tags": []
     },
     "output_type": "execute_result"
    }
   ],
   "source": [
    "normalized_corpus_tokens[:3]"
   ]
  },
  {
   "cell_type": "code",
   "execution_count": 0,
   "metadata": {
    "colab": {},
    "colab_type": "code",
    "id": "Cp0fWdj7QwYA"
   },
   "outputs": [],
   "source": [
    "import collections, itertools\n",
    "word_counter = collections.Counter(list(itertools.chain.from_iterable(normalized_corpus_tokens)))"
   ]
  },
  {
   "cell_type": "code",
   "execution_count": 9,
   "metadata": {
    "colab": {
     "base_uri": "https://localhost:8080/",
     "height": 36
    },
    "colab_type": "code",
    "id": "kfJxGGfWQwYG",
    "outputId": "e3f82262-6351-47dd-885c-cc40c5a2057d"
   },
   "outputs": [
    {
     "data": {
      "text/plain": [
       "10038"
      ]
     },
     "execution_count": 9,
     "metadata": {
      "tags": []
     },
     "output_type": "execute_result"
    }
   ],
   "source": [
    "len(set(list(itertools.chain.from_iterable(normalized_corpus_tokens))))"
   ]
  },
  {
   "cell_type": "code",
   "execution_count": 0,
   "metadata": {
    "colab": {},
    "colab_type": "code",
    "id": "aX4z3XtLQwYP"
   },
   "outputs": [],
   "source": [
    "word_ids = list(set(list(itertools.chain.from_iterable(normalized_corpus_tokens))))"
   ]
  },
  {
   "cell_type": "code",
   "execution_count": 0,
   "metadata": {
    "colab": {},
    "colab_type": "code",
    "id": "edpYKWUZQwYV"
   },
   "outputs": [],
   "source": [
    "word2idx = {}\n",
    "word2idx = {token:id+1 for id,token in enumerate(word_ids)}\n",
    "# word2idx['<PAD>'] = 0\n",
    "# word2idx['<UNK>'] = 1"
   ]
  },
  {
   "cell_type": "code",
   "execution_count": 0,
   "metadata": {
    "colab": {},
    "colab_type": "code",
    "id": "X498vMAVQwYc"
   },
   "outputs": [],
   "source": [
    "idx2word = {v: k for k,v in word2idx.items()}"
   ]
  },
  {
   "cell_type": "code",
   "execution_count": 0,
   "metadata": {
    "colab": {},
    "colab_type": "code",
    "id": "NboLfP6IQwYm"
   },
   "outputs": [],
   "source": [
    "# sents_as_ids = []\n",
    "    \n",
    "# for sent_token in normalized_corpus_tokens:\n",
    "#     temp=[]\n",
    "#     for token in sent_token:\n",
    "#         if token in word_ids:\n",
    "#             temp.append(word2idx[token])\n",
    "#         else:\n",
    "#             temp.append(word2idx['<UNK>']) \n",
    "#     sents_as_ids.append(temp)\n",
    "\n",
    "sents_as_ids = []\n",
    "for i in range(len(normalized_corpus_tokens)):\n",
    "    sents_as_ids.append([word2idx[j] for j in normalized_corpus_tokens[i]])\n"
   ]
  },
  {
   "cell_type": "code",
   "execution_count": 0,
   "metadata": {
    "colab": {},
    "colab_type": "code",
    "id": "MamLja_3QwYs"
   },
   "outputs": [],
   "source": [
    "vocab_size = len(word_ids) + 1  # 1 was added for zero padding\n",
    "embed_size = 100   # We are creating 100D embeddings."
   ]
  },
  {
   "cell_type": "code",
   "execution_count": 15,
   "metadata": {
    "colab": {
     "base_uri": "https://localhost:8080/",
     "height": 230
    },
    "colab_type": "code",
    "id": "NX_I7dQaQwYz",
    "outputId": "8568faed-ab54-4ee8-aea9-df245e947f92"
   },
   "outputs": [
    {
     "name": "stdout",
     "output_type": "stream",
     "text": [
      "Number of unique words: 10038\n"
     ]
    },
    {
     "data": {
      "text/plain": [
       "['playing',\n",
       " 'robbing',\n",
       " 'unattended',\n",
       " 'hill',\n",
       " 'opinion',\n",
       " 'lists',\n",
       " 'retarding',\n",
       " 'villages',\n",
       " 'drift',\n",
       " 'employed']"
      ]
     },
     "execution_count": 15,
     "metadata": {
      "tags": []
     },
     "output_type": "execute_result"
    }
   ],
   "source": [
    "print('Number of unique words:', len(word_ids))\n",
    "word_ids[0:10]"
   ]
  },
  {
   "cell_type": "code",
   "execution_count": 16,
   "metadata": {
    "colab": {
     "base_uri": "https://localhost:8080/",
     "height": 76
    },
    "colab_type": "code",
    "id": "t4lw--kvQwY5",
    "outputId": "979b5879-ee40-452f-a736-62a62fbfb166"
   },
   "outputs": [
    {
     "name": "stdout",
     "output_type": "stream",
     "text": [
      "\n",
      "Sample word2idx:  [('playing', 1), ('robbing', 2), ('unattended', 3), ('hill', 4), ('opinion', 5), ('lists', 6), ('retarding', 7), ('villages', 8), ('drift', 9), ('employed', 10)]\n"
     ]
    }
   ],
   "source": [
    "print('\\nSample word2idx: ', list(word2idx.items())[:10])"
   ]
  },
  {
   "cell_type": "code",
   "execution_count": 17,
   "metadata": {
    "colab": {
     "base_uri": "https://localhost:8080/",
     "height": 76
    },
    "colab_type": "code",
    "id": "XKuokxFJQwY-",
    "outputId": "052307e9-6395-4604-af40-78225eaf4c0e"
   },
   "outputs": [
    {
     "name": "stdout",
     "output_type": "stream",
     "text": [
      "\n",
      "Sample idx2word: [(1, 'playing'), (2, 'robbing'), (3, 'unattended'), (4, 'hill'), (5, 'opinion'), (6, 'lists'), (7, 'retarding'), (8, 'villages'), (9, 'drift'), (10, 'employed')]\n"
     ]
    }
   ],
   "source": [
    "print('\\nSample idx2word:', list(idx2word.items())[:10])"
   ]
  },
  {
   "cell_type": "code",
   "execution_count": 18,
   "metadata": {
    "colab": {
     "base_uri": "https://localhost:8080/",
     "height": 76
    },
    "colab_type": "code",
    "id": "shVVZLpyQwZE",
    "outputId": "4a3c8673-db18-4830-f54e-23d2a3e1aafe"
   },
   "outputs": [
    {
     "name": "stdout",
     "output_type": "stream",
     "text": [
      "\n",
      "Sample normalized corpus: ['sense sensibility jane austen', 'family dashwood long settled sussex', 'estate large residence norland park centre property many generations lived respectable manner engage general good opinion surrounding acquaintance']\n"
     ]
    }
   ],
   "source": [
    "print('\\nSample normalized corpus:', normalized_corpus[:3])"
   ]
  },
  {
   "cell_type": "code",
   "execution_count": 19,
   "metadata": {
    "colab": {
     "base_uri": "https://localhost:8080/",
     "height": 76
    },
    "colab_type": "code",
    "id": "sqD2wN49QwZK",
    "outputId": "bb95ca31-05b7-458a-bc7c-e4528a3fbd10"
   },
   "outputs": [
    {
     "name": "stdout",
     "output_type": "stream",
     "text": [
      "\n",
      "Above sentence as a list of ids: [[4866, 8100, 3422, 1322], [4805, 8599, 2756, 7884, 1330], [8903, 3590, 1172, 348, 4891, 91, 9134, 9131, 9113, 578, 2141, 2204, 9128, 8210, 3299, 5, 4549, 1657], [751, 4999, 8903, 1152, 5691, 578, 2716, 8895, 9131, 2076, 1932, 4599, 1697, 7194, 7108], [2682, 1253, 8552, 2076, 93, 4433, 8587, 8007, 6117, 8904, 8298, 8198, 3040, 4805, 944, 2621, 7303, 8599, 8091, 5806, 348, 8903, 8991, 2060, 4946], [4900, 944, 8374, 4576, 2663, 5351, 6664, 4775, 9813], [4599, 6716, 2621, 418, 7303, 8599, 7806, 3409, 3832, 8217, 9228, 4860, 4072, 3903, 8420, 7928, 1102, 8895, 3603, 5889, 3438, 4576, 9723, 1873, 2979], [9006, 4276, 2621, 7303, 8599, 4605, 1495, 7018, 4338, 5311, 3879], [1495, 2808, 2141, 5819, 5691, 9260, 9245, 9119, 5090, 3590, 3035, 5207, 8566, 8895], [4276, 6646, 1253, 9862, 3082, 9723, 3650], [677, 1029, 348, 8903, 9401, 9368, 6819, 9119, 6460, 6666, 321, 6096, 9903, 9134, 3603, 222], [5090, 8429, 6096, 8926, 1325, 4067, 8631, 6514, 546, 4687, 6834, 9119, 252, 6890, 9550, 1932, 8217], [2663, 5351, 2744, 9419, 678, 3738, 3903, 4072, 3781, 8424, 1423], [1332, 342, 7209, 2445, 8903, 944, 5952, 3885, 1888, 3035, 1705, 6210], [2621, 8599, 3223, 4519, 6834, 3879, 1495, 1495, 1495, 1495, 9550, 8275, 2076, 2663, 6890, 5130, 2445, 9910, 9594, 4493, 101, 7779, 9132, 8903, 7274, 2974, 8021], [9466, 3524, 8719, 9550, 76, 1823, 6096, 5090, 348, 8620, 5264, 6461, 1214, 7916, 1216, 4554, 4576, 296, 5311, 2076, 2663, 1266, 8476, 6442, 2619, 5130, 9131, 4401, 4081, 4433, 1716, 512, 9012, 1705, 6716, 2076, 8198, 8374, 3879], [6205, 8316, 7059, 5294, 905, 5311, 5075, 5952, 1325, 4067, 3443], [2621, 8599, 8424, 4687, 7839, 490, 7611, 5511, 6666, 6278, 603, 197, 9131, 2076, 3495, 2074, 889, 1254, 8197, 5061, 8903, 4104, 3590, 7821, 3738, 6446, 5837], [9119, 7981, 8566, 4605, 2901], [3660, 1214, 3335, 8552, 1325, 4067, 1571, 751, 8650, 921, 2740, 3879], [1495, 5989, 9862, 3249, 580, 2621, 8599, 159, 7222, 9534, 5884, 3603, 7402, 8217, 5090, 2569, 6819], [2621, 2271, 8599, 1033, 8802, 750, 4805, 3598, 7391, 3596, 8179, 4383, 3903, 8944, 9910, 346, 6538], [6096, 2782, 5986, 4798, 2621, 2271, 8599, 8321, 8415, 3781, 6666, 3835, 9910], [9037, 2548, 5819, 5691, 8310, 4864, 3852, 273, 4864, 2633, 9037, 2548, 8210, 1416, 3939, 666, 7007, 636, 3050, 8709], [2615, 6836, 6168, 6666, 408, 6519, 2141, 6666, 9528, 408, 6836, 5819, 2615, 4424, 6834], [418, 2271, 8599, 1033, 6711, 431, 5732, 2633], [4072, 8278, 6096, 9598, 1408, 1504, 4748, 6819, 7018, 1325, 4067, 3443], [3599, 8275, 1325, 2093, 2837, 7018, 1999, 656, 6514, 3035, 5090, 9119, 1950, 4860, 408, 6011, 7821, 8678, 1979, 7853, 1892, 5311, 1325, 4067, 7853, 4818, 5667], [7853, 8062, 346, 1069, 5986], [3603, 5711, 1254, 8197, 6887, 7113]]\n"
     ]
    }
   ],
   "source": [
    "print('\\nAbove sentence as a list of ids:' , sents_as_ids[:30])"
   ]
  },
  {
   "cell_type": "code",
   "execution_count": 20,
   "metadata": {
    "colab": {
     "base_uri": "https://localhost:8080/",
     "height": 36
    },
    "colab_type": "code",
    "id": "o_R1Vf9mQwZP",
    "outputId": "cbf9d136-0457-4ec5-9ea9-691d971a446f"
   },
   "outputs": [
    {
     "name": "stderr",
     "output_type": "stream",
     "text": [
      "Using TensorFlow backend.\n"
     ]
    }
   ],
   "source": [
    "from keras.preprocessing.sequence import skipgrams\n",
    "skip_grams=[skipgrams(sent, vocabulary_size=vocab_size, window_size=5, negative_samples=1.0) for sent in sents_as_ids]"
   ]
  },
  {
   "cell_type": "code",
   "execution_count": 21,
   "metadata": {
    "colab": {
     "base_uri": "https://localhost:8080/",
     "height": 482
    },
    "colab_type": "code",
    "id": "u90l31KLQwZV",
    "outputId": "8086ff27-2f6e-48e9-f39a-b0e150464411"
   },
   "outputs": [
    {
     "name": "stdout",
     "output_type": "stream",
     "text": [
      "(sensibility (8100), repentance (3004)) -> 0\n",
      "(sensibility (8100), assisted (3743)) -> 0\n",
      "(sense (4866), farther (7701)) -> 0\n",
      "(sense (4866), jane (3422)) -> 1\n",
      "(sense (4866), stormy (7479)) -> 0\n",
      "(jane (3422), vile (7914)) -> 0\n",
      "(sensibility (8100), jane (3422)) -> 1\n",
      "(sense (4866), partly (4384)) -> 0\n",
      "(sense (4866), sensibility (8100)) -> 1\n",
      "(austen (1322), eccentric (7897)) -> 0\n",
      "(austen (1322), sensibility (8100)) -> 1\n",
      "(sensibility (8100), sense (4866)) -> 1\n",
      "(jane (3422), came (3233)) -> 0\n",
      "(austen (1322), hurting (4962)) -> 0\n",
      "(austen (1322), sense (4866)) -> 1\n",
      "(jane (3422), sense (4866)) -> 1\n",
      "(sensibility (8100), austen (1322)) -> 1\n",
      "(austen (1322), jane (3422)) -> 1\n",
      "(sense (4866), austen (1322)) -> 1\n",
      "(jane (3422), shoes (8079)) -> 0\n",
      "(jane (3422), sensibility (8100)) -> 1\n",
      "(austen (1322), sold (9557)) -> 0\n",
      "(sensibility (8100), refer (3803)) -> 0\n",
      "(jane (3422), austen (1322)) -> 1\n"
     ]
    }
   ],
   "source": [
    "pairs, labels = skip_grams[0][0], skip_grams[0][1]\n",
    "for i in range(len(pairs)):\n",
    "    print('({:s} ({:d}), {:s} ({:d})) -> {:d}'.format(\n",
    "        # the first word and its index\n",
    "        idx2word[pairs[i][0]], pairs[i][0],\n",
    "        # the second word and its index\n",
    "        idx2word[pairs[i][1]], pairs[i][1],\n",
    "        # the label\n",
    "        labels[i]))"
   ]
  },
  {
   "cell_type": "code",
   "execution_count": 0,
   "metadata": {
    "colab": {},
    "colab_type": "code",
    "id": "ume7UDxhQwZa"
   },
   "outputs": [],
   "source": [
    "from keras.layers import Dot, Input\n",
    "from keras.layers.core import Dense, Reshape\n",
    "from keras.layers.embeddings import Embedding\n",
    "from keras.models import Model\n",
    "from keras.utils import plot_model\n",
    "# from tensorflow.keras import optimizers"
   ]
  },
  {
   "cell_type": "code",
   "execution_count": 23,
   "metadata": {
    "colab": {
     "base_uri": "https://localhost:8080/",
     "height": 153
    },
    "colab_type": "code",
    "id": "VGpv57x2QwZg",
    "outputId": "fe1631ce-f586-4ce5-fa63-062d105c10a5"
   },
   "outputs": [
    {
     "name": "stdout",
     "output_type": "stream",
     "text": [
      "WARNING:tensorflow:From /usr/local/lib/python3.6/dist-packages/keras/backend/tensorflow_backend.py:66: The name tf.get_default_graph is deprecated. Please use tf.compat.v1.get_default_graph instead.\n",
      "\n",
      "WARNING:tensorflow:From /usr/local/lib/python3.6/dist-packages/keras/backend/tensorflow_backend.py:541: The name tf.placeholder is deprecated. Please use tf.compat.v1.placeholder instead.\n",
      "\n",
      "WARNING:tensorflow:From /usr/local/lib/python3.6/dist-packages/keras/backend/tensorflow_backend.py:4432: The name tf.random_uniform is deprecated. Please use tf.random.uniform instead.\n",
      "\n"
     ]
    }
   ],
   "source": [
    "target_word = Input((1,), dtype='int32')\n",
    "target_embedding = Embedding(vocab_size,\n",
    "                             embed_size,\n",
    "                             name='target_embed_layer',\n",
    "                             embeddings_initializer='glorot_uniform',\n",
    "                             input_length=1)(target_word)\n",
    "target_input = Reshape((embed_size,))(target_embedding)"
   ]
  },
  {
   "cell_type": "code",
   "execution_count": 0,
   "metadata": {
    "colab": {},
    "colab_type": "code",
    "id": "5IAIkY6tQwZm"
   },
   "outputs": [],
   "source": [
    "context_word = Input((1,), dtype='int32')\n",
    "context_embedding = Embedding(vocab_size,\n",
    "                              embed_size,\n",
    "                              name='context_embed_layer',\n",
    "                              embeddings_initializer='glorot_uniform',\n",
    "                              input_length=1)(context_word)\n",
    "context_input = Reshape((embed_size,))(context_embedding)"
   ]
  },
  {
   "cell_type": "code",
   "execution_count": 0,
   "metadata": {
    "colab": {},
    "colab_type": "code",
    "id": "d3qEb7jOQwZq"
   },
   "outputs": [],
   "source": [
    "merged_inputs = Dot(axes=-1, normalize=False)([target_input, context_input])"
   ]
  },
  {
   "cell_type": "code",
   "execution_count": 0,
   "metadata": {
    "colab": {},
    "colab_type": "code",
    "id": "mocwo9UpQwZv"
   },
   "outputs": [],
   "source": [
    "label = Dense(1, activation='sigmoid', kernel_initializer='glorot_uniform')(merged_inputs)"
   ]
  },
  {
   "cell_type": "code",
   "execution_count": 0,
   "metadata": {
    "colab": {},
    "colab_type": "code",
    "id": "QuGUsB7JQwZz"
   },
   "outputs": [],
   "source": [
    "model=Model(inputs=[target_word,context_word],outputs=[label])"
   ]
  },
  {
   "cell_type": "code",
   "execution_count": 28,
   "metadata": {
    "colab": {
     "base_uri": "https://localhost:8080/",
     "height": 76
    },
    "colab_type": "code",
    "id": "3lIPL7NEQwZ4",
    "outputId": "506d8192-3e64-4328-f8b0-64b2ff82124f"
   },
   "outputs": [
    {
     "name": "stdout",
     "output_type": "stream",
     "text": [
      "WARNING:tensorflow:From /usr/local/lib/python3.6/dist-packages/keras/optimizers.py:793: The name tf.train.Optimizer is deprecated. Please use tf.compat.v1.train.Optimizer instead.\n",
      "\n"
     ]
    }
   ],
   "source": [
    "model.compile(loss = 'mean_squared_error',\n",
    "              optimizer = 'rmsprop')"
   ]
  },
  {
   "cell_type": "code",
   "execution_count": 29,
   "metadata": {
    "colab": {
     "base_uri": "https://localhost:8080/",
     "height": 501
    },
    "colab_type": "code",
    "id": "9pTiSHibQwZ7",
    "outputId": "79bcda00-75a0-443c-e9f4-c0ab5cf47107"
   },
   "outputs": [
    {
     "name": "stdout",
     "output_type": "stream",
     "text": [
      "Model: \"model_1\"\n",
      "__________________________________________________________________________________________________\n",
      "Layer (type)                    Output Shape         Param #     Connected to                     \n",
      "==================================================================================================\n",
      "input_1 (InputLayer)            (None, 1)            0                                            \n",
      "__________________________________________________________________________________________________\n",
      "input_2 (InputLayer)            (None, 1)            0                                            \n",
      "__________________________________________________________________________________________________\n",
      "target_embed_layer (Embedding)  (None, 1, 100)       1003900     input_1[0][0]                    \n",
      "__________________________________________________________________________________________________\n",
      "context_embed_layer (Embedding) (None, 1, 100)       1003900     input_2[0][0]                    \n",
      "__________________________________________________________________________________________________\n",
      "reshape_1 (Reshape)             (None, 100)          0           target_embed_layer[0][0]         \n",
      "__________________________________________________________________________________________________\n",
      "reshape_2 (Reshape)             (None, 100)          0           context_embed_layer[0][0]        \n",
      "__________________________________________________________________________________________________\n",
      "dot_1 (Dot)                     (None, 1)            0           reshape_1[0][0]                  \n",
      "                                                                 reshape_2[0][0]                  \n",
      "__________________________________________________________________________________________________\n",
      "dense_1 (Dense)                 (None, 1)            2           dot_1[0][0]                      \n",
      "==================================================================================================\n",
      "Total params: 2,007,802\n",
      "Trainable params: 2,007,802\n",
      "Non-trainable params: 0\n",
      "__________________________________________________________________________________________________\n"
     ]
    }
   ],
   "source": [
    "model.summary()"
   ]
  },
  {
   "cell_type": "code",
   "execution_count": 30,
   "metadata": {
    "colab": {
     "base_uri": "https://localhost:8080/",
     "height": 728
    },
    "colab_type": "code",
    "id": "AFuXeSlhQwZ_",
    "outputId": "558eb8e6-82d4-4859-caf3-6e2b8365b0af"
   },
   "outputs": [
    {
     "data": {
      "image/svg+xml": [
       "<svg height=\"516pt\" viewBox=\"0.00 0.00 765.50 387.00\" width=\"1021pt\" xmlns=\"http://www.w3.org/2000/svg\" xmlns:xlink=\"http://www.w3.org/1999/xlink\">\n",
       "<g class=\"graph\" id=\"graph0\" transform=\"scale(1.3333 1.3333) rotate(0) translate(4 383)\">\n",
       "<title>G</title>\n",
       "<polygon fill=\"#ffffff\" points=\"-4,4 -4,-383 761.5,-383 761.5,4 -4,4\" stroke=\"transparent\"/>\n",
       "<!-- 140184290637864 -->\n",
       "<g class=\"node\" id=\"node1\">\n",
       "<title>140184290637864</title>\n",
       "<polygon fill=\"none\" points=\"50.5,-332.5 50.5,-378.5 313.5,-378.5 313.5,-332.5 50.5,-332.5\" stroke=\"#000000\"/>\n",
       "<text fill=\"#000000\" font-family=\"Times,serif\" font-size=\"14.00\" text-anchor=\"middle\" x=\"117\" y=\"-351.8\">input_1: InputLayer</text>\n",
       "<polyline fill=\"none\" points=\"183.5,-332.5 183.5,-378.5 \" stroke=\"#000000\"/>\n",
       "<text fill=\"#000000\" font-family=\"Times,serif\" font-size=\"14.00\" text-anchor=\"middle\" x=\"212.5\" y=\"-363.3\">input:</text>\n",
       "<polyline fill=\"none\" points=\"183.5,-355.5 241.5,-355.5 \" stroke=\"#000000\"/>\n",
       "<text fill=\"#000000\" font-family=\"Times,serif\" font-size=\"14.00\" text-anchor=\"middle\" x=\"212.5\" y=\"-340.3\">output:</text>\n",
       "<polyline fill=\"none\" points=\"241.5,-332.5 241.5,-378.5 \" stroke=\"#000000\"/>\n",
       "<text fill=\"#000000\" font-family=\"Times,serif\" font-size=\"14.00\" text-anchor=\"middle\" x=\"277.5\" y=\"-363.3\">(None, 1)</text>\n",
       "<polyline fill=\"none\" points=\"241.5,-355.5 313.5,-355.5 \" stroke=\"#000000\"/>\n",
       "<text fill=\"#000000\" font-family=\"Times,serif\" font-size=\"14.00\" text-anchor=\"middle\" x=\"277.5\" y=\"-340.3\">(None, 1)</text>\n",
       "</g>\n",
       "<!-- 140184290637416 -->\n",
       "<g class=\"node\" id=\"node3\">\n",
       "<title>140184290637416</title>\n",
       "<polygon fill=\"none\" points=\"0,-249.5 0,-295.5 364,-295.5 364,-249.5 0,-249.5\" stroke=\"#000000\"/>\n",
       "<text fill=\"#000000\" font-family=\"Times,serif\" font-size=\"14.00\" text-anchor=\"middle\" x=\"102\" y=\"-268.8\">target_embed_layer: Embedding</text>\n",
       "<polyline fill=\"none\" points=\"204,-249.5 204,-295.5 \" stroke=\"#000000\"/>\n",
       "<text fill=\"#000000\" font-family=\"Times,serif\" font-size=\"14.00\" text-anchor=\"middle\" x=\"233\" y=\"-280.3\">input:</text>\n",
       "<polyline fill=\"none\" points=\"204,-272.5 262,-272.5 \" stroke=\"#000000\"/>\n",
       "<text fill=\"#000000\" font-family=\"Times,serif\" font-size=\"14.00\" text-anchor=\"middle\" x=\"233\" y=\"-257.3\">output:</text>\n",
       "<polyline fill=\"none\" points=\"262,-249.5 262,-295.5 \" stroke=\"#000000\"/>\n",
       "<text fill=\"#000000\" font-family=\"Times,serif\" font-size=\"14.00\" text-anchor=\"middle\" x=\"313\" y=\"-280.3\">(None, 1)</text>\n",
       "<polyline fill=\"none\" points=\"262,-272.5 364,-272.5 \" stroke=\"#000000\"/>\n",
       "<text fill=\"#000000\" font-family=\"Times,serif\" font-size=\"14.00\" text-anchor=\"middle\" x=\"313\" y=\"-257.3\">(None, 1, 100)</text>\n",
       "</g>\n",
       "<!-- 140184290637864&#45;&gt;140184290637416 -->\n",
       "<g class=\"edge\" id=\"edge1\">\n",
       "<title>140184290637864-&gt;140184290637416</title>\n",
       "<path d=\"M182,-332.3799C182,-324.1745 182,-314.7679 182,-305.8786\" fill=\"none\" stroke=\"#000000\"/>\n",
       "<polygon fill=\"#000000\" points=\"185.5001,-305.784 182,-295.784 178.5001,-305.784 185.5001,-305.784\" stroke=\"#000000\"/>\n",
       "</g>\n",
       "<!-- 140184290637024 -->\n",
       "<g class=\"node\" id=\"node2\">\n",
       "<title>140184290637024</title>\n",
       "<polygon fill=\"none\" points=\"438.5,-332.5 438.5,-378.5 701.5,-378.5 701.5,-332.5 438.5,-332.5\" stroke=\"#000000\"/>\n",
       "<text fill=\"#000000\" font-family=\"Times,serif\" font-size=\"14.00\" text-anchor=\"middle\" x=\"505\" y=\"-351.8\">input_2: InputLayer</text>\n",
       "<polyline fill=\"none\" points=\"571.5,-332.5 571.5,-378.5 \" stroke=\"#000000\"/>\n",
       "<text fill=\"#000000\" font-family=\"Times,serif\" font-size=\"14.00\" text-anchor=\"middle\" x=\"600.5\" y=\"-363.3\">input:</text>\n",
       "<polyline fill=\"none\" points=\"571.5,-355.5 629.5,-355.5 \" stroke=\"#000000\"/>\n",
       "<text fill=\"#000000\" font-family=\"Times,serif\" font-size=\"14.00\" text-anchor=\"middle\" x=\"600.5\" y=\"-340.3\">output:</text>\n",
       "<polyline fill=\"none\" points=\"629.5,-332.5 629.5,-378.5 \" stroke=\"#000000\"/>\n",
       "<text fill=\"#000000\" font-family=\"Times,serif\" font-size=\"14.00\" text-anchor=\"middle\" x=\"665.5\" y=\"-363.3\">(None, 1)</text>\n",
       "<polyline fill=\"none\" points=\"629.5,-355.5 701.5,-355.5 \" stroke=\"#000000\"/>\n",
       "<text fill=\"#000000\" font-family=\"Times,serif\" font-size=\"14.00\" text-anchor=\"middle\" x=\"665.5\" y=\"-340.3\">(None, 1)</text>\n",
       "</g>\n",
       "<!-- 140184250759656 -->\n",
       "<g class=\"node\" id=\"node4\">\n",
       "<title>140184250759656</title>\n",
       "<polygon fill=\"none\" points=\"382.5,-249.5 382.5,-295.5 757.5,-295.5 757.5,-249.5 382.5,-249.5\" stroke=\"#000000\"/>\n",
       "<text fill=\"#000000\" font-family=\"Times,serif\" font-size=\"14.00\" text-anchor=\"middle\" x=\"490\" y=\"-268.8\">context_embed_layer: Embedding</text>\n",
       "<polyline fill=\"none\" points=\"597.5,-249.5 597.5,-295.5 \" stroke=\"#000000\"/>\n",
       "<text fill=\"#000000\" font-family=\"Times,serif\" font-size=\"14.00\" text-anchor=\"middle\" x=\"626.5\" y=\"-280.3\">input:</text>\n",
       "<polyline fill=\"none\" points=\"597.5,-272.5 655.5,-272.5 \" stroke=\"#000000\"/>\n",
       "<text fill=\"#000000\" font-family=\"Times,serif\" font-size=\"14.00\" text-anchor=\"middle\" x=\"626.5\" y=\"-257.3\">output:</text>\n",
       "<polyline fill=\"none\" points=\"655.5,-249.5 655.5,-295.5 \" stroke=\"#000000\"/>\n",
       "<text fill=\"#000000\" font-family=\"Times,serif\" font-size=\"14.00\" text-anchor=\"middle\" x=\"706.5\" y=\"-280.3\">(None, 1)</text>\n",
       "<polyline fill=\"none\" points=\"655.5,-272.5 757.5,-272.5 \" stroke=\"#000000\"/>\n",
       "<text fill=\"#000000\" font-family=\"Times,serif\" font-size=\"14.00\" text-anchor=\"middle\" x=\"706.5\" y=\"-257.3\">(None, 1, 100)</text>\n",
       "</g>\n",
       "<!-- 140184290637024&#45;&gt;140184250759656 -->\n",
       "<g class=\"edge\" id=\"edge2\">\n",
       "<title>140184290637024-&gt;140184250759656</title>\n",
       "<path d=\"M570,-332.3799C570,-324.1745 570,-314.7679 570,-305.8786\" fill=\"none\" stroke=\"#000000\"/>\n",
       "<polygon fill=\"#000000\" points=\"573.5001,-305.784 570,-295.784 566.5001,-305.784 573.5001,-305.784\" stroke=\"#000000\"/>\n",
       "</g>\n",
       "<!-- 140184290639712 -->\n",
       "<g class=\"node\" id=\"node5\">\n",
       "<title>140184290639712</title>\n",
       "<polygon fill=\"none\" points=\"77,-166.5 77,-212.5 367,-212.5 367,-166.5 77,-166.5\" stroke=\"#000000\"/>\n",
       "<text fill=\"#000000\" font-family=\"Times,serif\" font-size=\"14.00\" text-anchor=\"middle\" x=\"142\" y=\"-185.8\">reshape_1: Reshape</text>\n",
       "<polyline fill=\"none\" points=\"207,-166.5 207,-212.5 \" stroke=\"#000000\"/>\n",
       "<text fill=\"#000000\" font-family=\"Times,serif\" font-size=\"14.00\" text-anchor=\"middle\" x=\"236\" y=\"-197.3\">input:</text>\n",
       "<polyline fill=\"none\" points=\"207,-189.5 265,-189.5 \" stroke=\"#000000\"/>\n",
       "<text fill=\"#000000\" font-family=\"Times,serif\" font-size=\"14.00\" text-anchor=\"middle\" x=\"236\" y=\"-174.3\">output:</text>\n",
       "<polyline fill=\"none\" points=\"265,-166.5 265,-212.5 \" stroke=\"#000000\"/>\n",
       "<text fill=\"#000000\" font-family=\"Times,serif\" font-size=\"14.00\" text-anchor=\"middle\" x=\"316\" y=\"-197.3\">(None, 1, 100)</text>\n",
       "<polyline fill=\"none\" points=\"265,-189.5 367,-189.5 \" stroke=\"#000000\"/>\n",
       "<text fill=\"#000000\" font-family=\"Times,serif\" font-size=\"14.00\" text-anchor=\"middle\" x=\"316\" y=\"-174.3\">(None, 100)</text>\n",
       "</g>\n",
       "<!-- 140184290637416&#45;&gt;140184290639712 -->\n",
       "<g class=\"edge\" id=\"edge3\">\n",
       "<title>140184290637416-&gt;140184290639712</title>\n",
       "<path d=\"M193.1422,-249.3799C197.2256,-240.907 201.9262,-231.1531 206.3322,-222.0107\" fill=\"none\" stroke=\"#000000\"/>\n",
       "<polygon fill=\"#000000\" points=\"209.5903,-223.312 210.7788,-212.784 203.2844,-220.2729 209.5903,-223.312\" stroke=\"#000000\"/>\n",
       "</g>\n",
       "<!-- 140184012869416 -->\n",
       "<g class=\"node\" id=\"node6\">\n",
       "<title>140184012869416</title>\n",
       "<polygon fill=\"none\" points=\"405,-166.5 405,-212.5 695,-212.5 695,-166.5 405,-166.5\" stroke=\"#000000\"/>\n",
       "<text fill=\"#000000\" font-family=\"Times,serif\" font-size=\"14.00\" text-anchor=\"middle\" x=\"470\" y=\"-185.8\">reshape_2: Reshape</text>\n",
       "<polyline fill=\"none\" points=\"535,-166.5 535,-212.5 \" stroke=\"#000000\"/>\n",
       "<text fill=\"#000000\" font-family=\"Times,serif\" font-size=\"14.00\" text-anchor=\"middle\" x=\"564\" y=\"-197.3\">input:</text>\n",
       "<polyline fill=\"none\" points=\"535,-189.5 593,-189.5 \" stroke=\"#000000\"/>\n",
       "<text fill=\"#000000\" font-family=\"Times,serif\" font-size=\"14.00\" text-anchor=\"middle\" x=\"564\" y=\"-174.3\">output:</text>\n",
       "<polyline fill=\"none\" points=\"593,-166.5 593,-212.5 \" stroke=\"#000000\"/>\n",
       "<text fill=\"#000000\" font-family=\"Times,serif\" font-size=\"14.00\" text-anchor=\"middle\" x=\"644\" y=\"-197.3\">(None, 1, 100)</text>\n",
       "<polyline fill=\"none\" points=\"593,-189.5 695,-189.5 \" stroke=\"#000000\"/>\n",
       "<text fill=\"#000000\" font-family=\"Times,serif\" font-size=\"14.00\" text-anchor=\"middle\" x=\"644\" y=\"-174.3\">(None, 100)</text>\n",
       "</g>\n",
       "<!-- 140184250759656&#45;&gt;140184012869416 -->\n",
       "<g class=\"edge\" id=\"edge4\">\n",
       "<title>140184250759656-&gt;140184012869416</title>\n",
       "<path d=\"M564.4289,-249.3799C562.4302,-241.0854 560.1357,-231.5633 557.9732,-222.5889\" fill=\"none\" stroke=\"#000000\"/>\n",
       "<polygon fill=\"#000000\" points=\"561.3559,-221.6858 555.6106,-212.784 554.5507,-223.3257 561.3559,-221.6858\" stroke=\"#000000\"/>\n",
       "</g>\n",
       "<!-- 140184290639040 -->\n",
       "<g class=\"node\" id=\"node7\">\n",
       "<title>140184290639040</title>\n",
       "<polygon fill=\"none\" points=\"220,-83.5 220,-129.5 532,-129.5 532,-83.5 220,-83.5\" stroke=\"#000000\"/>\n",
       "<text fill=\"#000000\" font-family=\"Times,serif\" font-size=\"14.00\" text-anchor=\"middle\" x=\"260\" y=\"-102.8\">dot_1: Dot</text>\n",
       "<polyline fill=\"none\" points=\"300,-83.5 300,-129.5 \" stroke=\"#000000\"/>\n",
       "<text fill=\"#000000\" font-family=\"Times,serif\" font-size=\"14.00\" text-anchor=\"middle\" x=\"329\" y=\"-114.3\">input:</text>\n",
       "<polyline fill=\"none\" points=\"300,-106.5 358,-106.5 \" stroke=\"#000000\"/>\n",
       "<text fill=\"#000000\" font-family=\"Times,serif\" font-size=\"14.00\" text-anchor=\"middle\" x=\"329\" y=\"-91.3\">output:</text>\n",
       "<polyline fill=\"none\" points=\"358,-83.5 358,-129.5 \" stroke=\"#000000\"/>\n",
       "<text fill=\"#000000\" font-family=\"Times,serif\" font-size=\"14.00\" text-anchor=\"middle\" x=\"445\" y=\"-114.3\">[(None, 100), (None, 100)]</text>\n",
       "<polyline fill=\"none\" points=\"358,-106.5 532,-106.5 \" stroke=\"#000000\"/>\n",
       "<text fill=\"#000000\" font-family=\"Times,serif\" font-size=\"14.00\" text-anchor=\"middle\" x=\"445\" y=\"-91.3\">(None, 1)</text>\n",
       "</g>\n",
       "<!-- 140184290639712&#45;&gt;140184290639040 -->\n",
       "<g class=\"edge\" id=\"edge5\">\n",
       "<title>140184290639712-&gt;140184290639040</title>\n",
       "<path d=\"M264.8976,-166.3799C283.2602,-156.4832 304.8653,-144.8388 324.1178,-134.4625\" fill=\"none\" stroke=\"#000000\"/>\n",
       "<polygon fill=\"#000000\" points=\"325.9233,-137.4654 333.0656,-129.6399 322.6022,-131.3034 325.9233,-137.4654\" stroke=\"#000000\"/>\n",
       "</g>\n",
       "<!-- 140184012869416&#45;&gt;140184290639040 -->\n",
       "<g class=\"edge\" id=\"edge6\">\n",
       "<title>140184012869416-&gt;140184290639040</title>\n",
       "<path d=\"M501.5313,-166.3799C480.5023,-156.3488 455.7095,-144.5224 433.7358,-134.0406\" fill=\"none\" stroke=\"#000000\"/>\n",
       "<polygon fill=\"#000000\" points=\"435.0429,-130.7864 424.5103,-129.6399 432.0291,-137.1044 435.0429,-130.7864\" stroke=\"#000000\"/>\n",
       "</g>\n",
       "<!-- 140184290637976 -->\n",
       "<g class=\"node\" id=\"node8\">\n",
       "<title>140184290637976</title>\n",
       "<polygon fill=\"none\" points=\"257.5,-.5 257.5,-46.5 494.5,-46.5 494.5,-.5 257.5,-.5\" stroke=\"#000000\"/>\n",
       "<text fill=\"#000000\" font-family=\"Times,serif\" font-size=\"14.00\" text-anchor=\"middle\" x=\"311\" y=\"-19.8\">dense_1: Dense</text>\n",
       "<polyline fill=\"none\" points=\"364.5,-.5 364.5,-46.5 \" stroke=\"#000000\"/>\n",
       "<text fill=\"#000000\" font-family=\"Times,serif\" font-size=\"14.00\" text-anchor=\"middle\" x=\"393.5\" y=\"-31.3\">input:</text>\n",
       "<polyline fill=\"none\" points=\"364.5,-23.5 422.5,-23.5 \" stroke=\"#000000\"/>\n",
       "<text fill=\"#000000\" font-family=\"Times,serif\" font-size=\"14.00\" text-anchor=\"middle\" x=\"393.5\" y=\"-8.3\">output:</text>\n",
       "<polyline fill=\"none\" points=\"422.5,-.5 422.5,-46.5 \" stroke=\"#000000\"/>\n",
       "<text fill=\"#000000\" font-family=\"Times,serif\" font-size=\"14.00\" text-anchor=\"middle\" x=\"458.5\" y=\"-31.3\">(None, 1)</text>\n",
       "<polyline fill=\"none\" points=\"422.5,-23.5 494.5,-23.5 \" stroke=\"#000000\"/>\n",
       "<text fill=\"#000000\" font-family=\"Times,serif\" font-size=\"14.00\" text-anchor=\"middle\" x=\"458.5\" y=\"-8.3\">(None, 1)</text>\n",
       "</g>\n",
       "<!-- 140184290639040&#45;&gt;140184290637976 -->\n",
       "<g class=\"edge\" id=\"edge7\">\n",
       "<title>140184290639040-&gt;140184290637976</title>\n",
       "<path d=\"M376,-83.3799C376,-75.1745 376,-65.7679 376,-56.8786\" fill=\"none\" stroke=\"#000000\"/>\n",
       "<polygon fill=\"#000000\" points=\"379.5001,-56.784 376,-46.784 372.5001,-56.784 379.5001,-56.784\" stroke=\"#000000\"/>\n",
       "</g>\n",
       "</g>\n",
       "</svg>"
      ],
      "text/plain": [
       "<IPython.core.display.SVG object>"
      ]
     },
     "execution_count": 30,
     "metadata": {
      "tags": []
     },
     "output_type": "execute_result"
    }
   ],
   "source": [
    "from IPython.display import SVG\n",
    "from keras.utils import vis_utils\n",
    "SVG(vis_utils.model_to_dot(model, show_shapes=True,show_layer_names=True).create(prog='dot', format='svg'))"
   ]
  },
  {
   "cell_type": "code",
   "execution_count": 32,
   "metadata": {
    "colab": {
     "base_uri": "https://localhost:8080/",
     "height": 598
    },
    "colab_type": "code",
    "id": "CgjiImztQwaF",
    "outputId": "c67419bd-55bc-4393-b32d-03c8418c272c"
   },
   "outputs": [
    {
     "name": "stdout",
     "output_type": "stream",
     "text": [
      "Processed 0 sentences\n",
      "Processed 5000 sentences\n",
      "Processed 10000 sentences\n",
      "Processed all 12497 sentences\n",
      "Epoch: 1 Loss: 0.22258619964122772 \n",
      "\n",
      "Processed 0 sentences\n",
      "Processed 5000 sentences\n",
      "Processed 10000 sentences\n",
      "Processed all 12497 sentences\n",
      "Epoch: 2 Loss: 0.2058556228876114 \n",
      "\n",
      "Processed 0 sentences\n",
      "Processed 5000 sentences\n",
      "Processed 10000 sentences\n",
      "Processed all 12497 sentences\n",
      "Epoch: 3 Loss: 0.19753141701221466 \n",
      "\n",
      "Processed 0 sentences\n",
      "Processed 5000 sentences\n",
      "Processed 10000 sentences\n",
      "Processed all 12497 sentences\n",
      "Epoch: 4 Loss: 0.19213007390499115 \n",
      "\n",
      "Processed 0 sentences\n",
      "Processed 5000 sentences\n",
      "Processed 10000 sentences\n",
      "Processed all 12497 sentences\n",
      "Epoch: 5 Loss: 0.18818321824073792 \n",
      "\n"
     ]
    }
   ],
   "source": [
    "for epoch in range(1,25):\n",
    "    epoch_loss = 0\n",
    "    for i,sent_examples in enumerate(skip_grams):\n",
    "        target_wds = np.array([pair[0] for pair in sent_examples[0]],dtype='int32')\n",
    "        context_wds = np.array([pair[1] for pair in sent_examples[0]],dtype='int32')\n",
    "        labels = np.array(sent_examples[1],dtype='int32')\n",
    "        X = [target_wds,context_wds]\n",
    "        Y = labels\n",
    "        if i%5000 == 0:\n",
    "            print('processed %d sentences' %i)\n",
    "        epoch_loss += model.train_on_batch(X,Y)\n",
    "    print('Processec all %d sentences' %i)\n",
    "    print('Epoch:',epoch,'Loss:',epoch_loss,'\\n')"
   ]
  },
  {
   "cell_type": "code",
   "execution_count": 0,
   "metadata": {
    "colab": {},
    "colab_type": "code",
    "id": "ljP88oVafR6H"
   },
   "outputs": [],
   "source": [
    "word_embeddings = model.get_layer('target_embed_layer').get_weights()[0][1:] # Recall that 0was left for padding"
   ]
  },
  {
   "cell_type": "code",
   "execution_count": 0,
   "metadata": {
    "colab": {},
    "colab_type": "code",
    "id": "t3U0XoWRfcJB"
   },
   "outputs": [],
   "source": [
    "import pandas as pd\n",
    "pd.DataFrame(word_embeddings, index=list(idx2word.values())[2:]).head(10)"
   ]
  },
  {
   "cell_type": "code",
   "execution_count": 0,
   "metadata": {
    "colab": {},
    "colab_type": "code",
    "id": "XD-SHGfBfg1t"
   },
   "outputs": [],
   "source": [
    "from sklearn.metrics.pairwise import cosine_similarity\n",
    "similarity_matrix = cosine_similarity(word_embeddings)"
   ]
  },
  {
   "cell_type": "code",
   "execution_count": 0,
   "metadata": {
    "colab": {},
    "colab_type": "code",
    "id": "uZJ9ZJyAflVo"
   },
   "outputs": [],
   "source": [
    "search_terms = ['<UNK>','man', 'love', 'hatred', 'woman', 'wisdom',  'kindness', 'god', 'man', 'folly', 'fool']"
   ]
  },
  {
   "cell_type": "code",
   "execution_count": 0,
   "metadata": {
    "colab": {},
    "colab_type": "code",
    "id": "0P474pUffo8e"
   },
   "outputs": [],
   "source": [
    "similar_words = {term: [idx2word[idx]\n",
    "                        for idx in (-1 * similarity_matrix[word2idx[term]-1]).argsort()[1:6] + 1]\n",
    "                        for term in search_terms}"
   ]
  },
  {
   "cell_type": "code",
   "execution_count": 0,
   "metadata": {
    "colab": {},
    "colab_type": "code",
    "id": "NiU0oM76fr5p"
   },
   "outputs": [],
   "source": [
    "print(similar_words)"
   ]
  },
  {
   "cell_type": "code",
   "execution_count": 0,
   "metadata": {
    "colab": {},
    "colab_type": "code",
    "id": "50rKyRcGfvAM"
   },
   "outputs": [],
   "source": [
    "from sklearn.manifold import TSNE\n",
    "import matplotlib.pyplot as plt"
   ]
  },
  {
   "cell_type": "code",
   "execution_count": 0,
   "metadata": {
    "colab": {},
    "colab_type": "code",
    "id": "deubhO9mfzRQ"
   },
   "outputs": [],
   "source": [
    "tsne = TSNE(perplexity=3, n_components=2, init='pca', n_iter=5000, method='exact')\n",
    "np.set_printoptions(suppress=True)\n",
    "plot_only = 50\n",
    "T = tsne.fit_transform(word_embeddings[:plot_only, :])\n",
    "labels = [idx2word[i+1] for i in range(plot_only)]\n",
    "plt.figure(figsize=(14, 8))\n",
    "plt.scatter(T[:, 0], T[:, 1])\n",
    "\n",
    "for label, x, y in zip(labels, T[:, 0], T[:, 1]):\n",
    "    plt.annotate(label, xy=(x+1, y+1), xytext=(0, 0), textcoords='offset points', ha='right', va='bottom')"
   ]
  }
 ],
 "metadata": {
  "accelerator": "GPU",
  "colab": {
   "collapsed_sections": [],
   "name": "7001 2019_20 - Lab 3_  Skip-gram Model for Word2Vec.ipynb",
   "provenance": []
  },
  "kernelspec": {
   "display_name": "Python 3",
   "language": "python",
   "name": "python3"
  },
  "language_info": {
   "codemirror_mode": {
    "name": "ipython",
    "version": 3
   },
   "file_extension": ".py",
   "mimetype": "text/x-python",
   "name": "python",
   "nbconvert_exporter": "python",
   "pygments_lexer": "ipython3",
   "version": "3.6.8"
  }
 },
 "nbformat": 4,
 "nbformat_minor": 1
}
