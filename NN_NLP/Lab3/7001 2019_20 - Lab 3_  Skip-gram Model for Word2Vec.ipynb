{
 "cells": [
  {
   "cell_type": "code",
   "execution_count": 1,
   "metadata": {},
   "outputs": [
    {
     "name": "stderr",
     "output_type": "stream",
     "text": [
      "[nltk_data] Downloading package punkt to /home/nv/nltk_data...\n",
      "[nltk_data]   Package punkt is already up-to-date!\n",
      "[nltk_data] Downloading package gutenberg to /home/nv/nltk_data...\n",
      "[nltk_data]   Package gutenberg is already up-to-date!\n",
      "[nltk_data] Downloading package stopwords to /home/nv/nltk_data...\n",
      "[nltk_data]   Package stopwords is already up-to-date!\n"
     ]
    }
   ],
   "source": [
    "import nltk\n",
    "import numpy as np\n",
    "import string\n",
    "nltk.download('punkt')\n",
    "nltk.download('gutenberg')\n",
    "nltk.download('stopwords')\n",
    "from nltk.corpus import gutenberg\n",
    "austen = gutenberg.sents('austen-sense.txt')+gutenberg.sents('austen-emma.txt')+gutenberg.sents('austen-persuasion.txt')"
   ]
  },
  {
   "cell_type": "code",
   "execution_count": 2,
   "metadata": {},
   "outputs": [
    {
     "name": "stdout",
     "output_type": "stream",
     "text": [
      "16498\n"
     ]
    }
   ],
   "source": [
    "print(len(austen))"
   ]
  },
  {
   "cell_type": "code",
   "execution_count": 3,
   "metadata": {},
   "outputs": [
    {
     "data": {
      "text/plain": [
       "[['[', 'Sense', 'and', 'Sensibility', 'by', 'Jane', 'Austen', '1811', ']'],\n",
       " ['CHAPTER', '1'],\n",
       " ['The',\n",
       "  'family',\n",
       "  'of',\n",
       "  'Dashwood',\n",
       "  'had',\n",
       "  'long',\n",
       "  'been',\n",
       "  'settled',\n",
       "  'in',\n",
       "  'Sussex',\n",
       "  '.']]"
      ]
     },
     "execution_count": 3,
     "metadata": {},
     "output_type": "execute_result"
    }
   ],
   "source": [
    "austen[:3]"
   ]
  },
  {
   "cell_type": "code",
   "execution_count": 4,
   "metadata": {},
   "outputs": [
    {
     "name": "stderr",
     "output_type": "stream",
     "text": [
      "/home/nv/virtpy3tf/lib/python3.6/site-packages/tensorflow/python/framework/dtypes.py:526: FutureWarning: Passing (type, 1) or '1type' as a synonym of type is deprecated; in a future version of numpy, it will be understood as (type, (1,)) / '(1,)type'.\n",
      "  _np_qint8 = np.dtype([(\"qint8\", np.int8, 1)])\n",
      "/home/nv/virtpy3tf/lib/python3.6/site-packages/tensorflow/python/framework/dtypes.py:527: FutureWarning: Passing (type, 1) or '1type' as a synonym of type is deprecated; in a future version of numpy, it will be understood as (type, (1,)) / '(1,)type'.\n",
      "  _np_quint8 = np.dtype([(\"quint8\", np.uint8, 1)])\n",
      "/home/nv/virtpy3tf/lib/python3.6/site-packages/tensorflow/python/framework/dtypes.py:528: FutureWarning: Passing (type, 1) or '1type' as a synonym of type is deprecated; in a future version of numpy, it will be understood as (type, (1,)) / '(1,)type'.\n",
      "  _np_qint16 = np.dtype([(\"qint16\", np.int16, 1)])\n",
      "/home/nv/virtpy3tf/lib/python3.6/site-packages/tensorflow/python/framework/dtypes.py:529: FutureWarning: Passing (type, 1) or '1type' as a synonym of type is deprecated; in a future version of numpy, it will be understood as (type, (1,)) / '(1,)type'.\n",
      "  _np_quint16 = np.dtype([(\"quint16\", np.uint16, 1)])\n",
      "/home/nv/virtpy3tf/lib/python3.6/site-packages/tensorflow/python/framework/dtypes.py:530: FutureWarning: Passing (type, 1) or '1type' as a synonym of type is deprecated; in a future version of numpy, it will be understood as (type, (1,)) / '(1,)type'.\n",
      "  _np_qint32 = np.dtype([(\"qint32\", np.int32, 1)])\n",
      "/home/nv/virtpy3tf/lib/python3.6/site-packages/tensorflow/python/framework/dtypes.py:535: FutureWarning: Passing (type, 1) or '1type' as a synonym of type is deprecated; in a future version of numpy, it will be understood as (type, (1,)) / '(1,)type'.\n",
      "  np_resource = np.dtype([(\"resource\", np.ubyte, 1)])\n",
      "[nltk_data] Downloading package stopwords to /home/nv/nltk_data...\n",
      "[nltk_data]   Package stopwords is already up-to-date!\n"
     ]
    }
   ],
   "source": [
    "from tensorflow.keras import preprocessing \n",
    "from nltk.corpus import stopwords \n",
    "import re\n",
    "stop_words = set(stopwords.words('english')) \n",
    "nltk.download('stopwords')\n",
    "normalized_corpus_temp = []\n",
    "text = [token for alist in austen for token in alist ]\n",
    "for tokenList in austen:\n",
    "    normalisedTokenList = preprocessing.text.text_to_word_sequence(' '.join(tokenList), filters='!\"#$%&()*+,-./:;<=>?@[\\\\]^_`{|}~\\t\\n', lower=True, split=' ')\n",
    "    normalisedTokenList = [w for w in normalisedTokenList if not w in stop_words]\n",
    "    normalisedTokenList = [w for w in normalisedTokenList if not w in string.punctuation]\n",
    "    normalisedTokenList = [w for w in normalisedTokenList if not re.search(r'\\d',w) ]\n",
    "    \n",
    "    normalized_corpus_temp.append(normalisedTokenList)\n",
    "normalized_corpus = [' '.join(w) for w in normalized_corpus_temp if w and len(w) > 3]\n",
    "normalized_corpus_tokens = [w for w in normalized_corpus_temp if w and len(w) > 3]"
   ]
  },
  {
   "cell_type": "code",
   "execution_count": 5,
   "metadata": {},
   "outputs": [
    {
     "data": {
      "text/plain": [
       "12498"
      ]
     },
     "execution_count": 5,
     "metadata": {},
     "output_type": "execute_result"
    }
   ],
   "source": [
    "len(normalized_corpus)"
   ]
  },
  {
   "cell_type": "code",
   "execution_count": 6,
   "metadata": {},
   "outputs": [
    {
     "data": {
      "text/plain": [
       "'therefore succession norland estate really important sisters fortune independent might arise father inheriting property could small'"
      ]
     },
     "execution_count": 6,
     "metadata": {},
     "output_type": "execute_result"
    }
   ],
   "source": [
    "normalized_corpus[10]"
   ]
  },
  {
   "cell_type": "code",
   "execution_count": 7,
   "metadata": {},
   "outputs": [],
   "source": [
    "import collections,random\n",
    "word_counter = collections.Counter(' '.join(normalized_corpus).split())"
   ]
  },
  {
   "cell_type": "code",
   "execution_count": 8,
   "metadata": {},
   "outputs": [
    {
     "data": {
      "text/plain": [
       "10038"
      ]
     },
     "execution_count": 8,
     "metadata": {},
     "output_type": "execute_result"
    }
   ],
   "source": [
    "len(word_counter.keys())"
   ]
  },
  {
   "cell_type": "code",
   "execution_count": 9,
   "metadata": {},
   "outputs": [],
   "source": [
    "word_ids = [k for k,v in word_counter.items()]\n",
    "random.shuffle(word_ids)"
   ]
  },
  {
   "cell_type": "code",
   "execution_count": 10,
   "metadata": {},
   "outputs": [],
   "source": [
    "word2idx = {}\n",
    "word2idx = {token:id+2 for id,token in enumerate(word_ids)}\n",
    "word2idx['<PAD>'] = 0\n",
    "word2idx['<UNK>'] = 1"
   ]
  },
  {
   "cell_type": "code",
   "execution_count": 11,
   "metadata": {},
   "outputs": [],
   "source": [
    "idx2word = {v: k for k,v in word2idx.items()}"
   ]
  },
  {
   "cell_type": "code",
   "execution_count": 12,
   "metadata": {},
   "outputs": [],
   "source": [
    "sents_as_ids = []\n",
    "    \n",
    "for sent_token in normalized_corpus_tokens:\n",
    "    temp=[]\n",
    "    for token in sent_token:\n",
    "        if token in word_ids:\n",
    "            temp.append(word2idx[token])\n",
    "        else:\n",
    "            temp.append(word2idx['<UNK>']) \n",
    "    sents_as_ids.append(temp)"
   ]
  },
  {
   "cell_type": "code",
   "execution_count": 13,
   "metadata": {},
   "outputs": [],
   "source": [
    "vocab_size = len(word_ids) + 1  # 1 was added for zero padding\n",
    "embed_size = 100   # We are creating 100D embeddings."
   ]
  },
  {
   "cell_type": "code",
   "execution_count": 14,
   "metadata": {},
   "outputs": [
    {
     "name": "stdout",
     "output_type": "stream",
     "text": [
      "Number of unique words: 10038\n"
     ]
    },
    {
     "data": {
      "text/plain": [
       "['reproaching',\n",
       " 'stile',\n",
       " 'associate',\n",
       " 'lodged',\n",
       " 'darings',\n",
       " 'hair',\n",
       " 'obligingly',\n",
       " 'news',\n",
       " 'dowager',\n",
       " 'thunderbolt']"
      ]
     },
     "execution_count": 14,
     "metadata": {},
     "output_type": "execute_result"
    }
   ],
   "source": [
    "print('Number of unique words:', len(word_ids))\n",
    "word_ids[0:10]"
   ]
  },
  {
   "cell_type": "code",
   "execution_count": 15,
   "metadata": {},
   "outputs": [
    {
     "name": "stdout",
     "output_type": "stream",
     "text": [
      "\n",
      "Sample word2idx:  [('reproaching', 2), ('stile', 3), ('associate', 4), ('lodged', 5), ('darings', 6), ('hair', 7), ('obligingly', 8), ('news', 9), ('dowager', 10), ('thunderbolt', 11)]\n"
     ]
    }
   ],
   "source": [
    "print('\\nSample word2idx: ', list(word2idx.items())[:10])"
   ]
  },
  {
   "cell_type": "code",
   "execution_count": 16,
   "metadata": {},
   "outputs": [
    {
     "name": "stdout",
     "output_type": "stream",
     "text": [
      "\n",
      "Sample idx2word: [(2, 'reproaching'), (3, 'stile'), (4, 'associate'), (5, 'lodged'), (6, 'darings'), (7, 'hair'), (8, 'obligingly'), (9, 'news'), (10, 'dowager'), (11, 'thunderbolt')]\n"
     ]
    }
   ],
   "source": [
    "print('\\nSample idx2word:', list(idx2word.items())[:10])"
   ]
  },
  {
   "cell_type": "code",
   "execution_count": 17,
   "metadata": {},
   "outputs": [
    {
     "name": "stdout",
     "output_type": "stream",
     "text": [
      "\n",
      "Sample normalized corpus: ['sense sensibility jane austen', 'family dashwood long settled sussex', 'estate large residence norland park centre property many generations lived respectable manner engage general good opinion surrounding acquaintance']\n"
     ]
    }
   ],
   "source": [
    "print('\\nSample normalized corpus:', normalized_corpus[:3])"
   ]
  },
  {
   "cell_type": "code",
   "execution_count": 18,
   "metadata": {},
   "outputs": [
    {
     "name": "stdout",
     "output_type": "stream",
     "text": [
      "\n",
      "Above sentence as a list of ids: [[2493, 8323, 890, 6469], [2284, 884, 1319, 2866, 7561], [1100, 9431, 250, 4650, 1285, 6816, 7863, 3560, 499, 9727, 623, 9719, 6084, 3843, 4064, 3829, 488, 373], [8562, 9228, 1100, 8454, 981, 9727, 6182, 7255, 3560, 3077, 8347, 5529, 586, 215, 795], [1252, 8279, 1570, 3077, 2634, 9043, 1004, 3025, 8128, 8625, 5409, 4105, 2245, 2284, 540, 6112, 2720, 884, 5058, 6025, 4650, 1100, 8452, 4858, 2001], [6991, 540, 2581, 1563, 6850, 5847, 1613, 1043, 72], [5529, 9086, 6112, 4798, 2720, 884, 5156, 3963, 7017, 2089, 334, 671, 5354, 8181, 1745, 7819, 6904, 7255, 5234, 7583, 2085, 1563, 5893, 261, 1944], [3571, 6645, 6112, 2720, 884, 3748, 9171, 7490, 4236, 3431, 5241], [9171, 990, 623, 2676, 981, 3941, 8327, 1919, 5108, 9431, 676, 5181, 1031, 7255], [6645, 6108, 8279, 6255, 5675, 5893, 3808], [1986, 6073, 4650, 1100, 2108, 649, 9381, 1919, 3681, 696, 3313, 4555, 860, 7863, 5234, 8553], [5108, 7588, 4555, 5344, 2506, 2640, 3641, 3664, 1734, 6931, 290, 1919, 4945, 5886, 4595, 8347, 2089], [6850, 5847, 5946, 7698, 6839, 2758, 8181, 5354, 4346, 4730, 9481], [8021, 356, 2684, 6033, 1100, 540, 6273, 319, 3955, 676, 3439, 1232], [6112, 884, 6894, 991, 290, 5241, 9171, 9171, 9171, 9171, 4595, 5921, 3077, 6850, 5886, 4506, 6033, 1413, 9532, 9169, 2627, 2754, 9735, 1100, 2388, 1182, 3263], [4351, 6513, 7802, 4595, 1656, 9200, 4555, 5108, 4650, 4699, 4785, 8420, 4479, 2327, 4530, 112, 1563, 1834, 3431, 3077, 6850, 798, 6517, 6294, 3917, 4506, 3560, 8567, 9363, 9043, 4698, 1962, 4788, 3439, 9086, 3077, 4105, 2581, 5241], [1396, 2741, 5101, 2567, 3824, 3431, 3676, 6273, 2506, 2640, 5314], [6112, 884, 4730, 6931, 9291, 4381, 7067, 2722, 696, 1852, 2521, 3455, 3560, 3077, 1634, 5807, 3002, 371, 681, 8917, 1100, 2339, 9431, 2372, 2758, 9229, 3991], [1919, 1163, 1031, 3748, 1603], [4768, 4479, 9199, 1570, 2506, 2640, 206, 8562, 1671, 6627, 2331, 5241], [9171, 1113, 6255, 1038, 9305, 6112, 884, 9140, 3066, 1122, 7028, 5234, 9117, 2089, 5108, 4940, 9381], [6112, 1176, 884, 6674, 402, 4548, 2284, 6229, 3696, 5590, 1419, 3252, 8181, 4732, 1413, 4136, 785], [4555, 3809, 2575, 5878, 6112, 1176, 884, 6856, 1418, 4346, 696, 10017, 1413], [9342, 9834, 2676, 981, 1903, 6547, 4490, 9704, 6547, 8940, 9342, 9834, 3843, 7965, 8710, 4862, 9433, 789, 4125, 5614], [1137, 2833, 4046, 696, 6179, 4560, 623, 696, 5424, 6179, 2833, 2676, 1137, 719, 290], [4798, 1176, 884, 6674, 9910, 3240, 23, 8940], [5354, 9779, 4555, 7679, 6085, 5617, 9604, 9381, 7490, 2506, 2640, 5314], [9553, 5921, 2506, 7885, 2918, 7490, 9912, 6844, 3664, 676, 5108, 1919, 1655, 671, 6179, 7643, 2372, 5012, 6005, 9554, 4810, 3431, 2506, 2640, 9554, 2386, 4235], [9554, 4483, 4136, 8069, 2575], [5234, 948, 371, 681, 1032, 7956]]\n"
     ]
    }
   ],
   "source": [
    "print('\\nAbove sentence as a list of ids:' , sents_as_ids[:30])"
   ]
  },
  {
   "cell_type": "code",
   "execution_count": 19,
   "metadata": {},
   "outputs": [
    {
     "name": "stderr",
     "output_type": "stream",
     "text": [
      "Using TensorFlow backend.\n"
     ]
    }
   ],
   "source": [
    "from keras.preprocessing.sequence import skipgrams\n",
    "skip_grams=[skipgrams(sent,vocabulary_size=vocab_size,window_size=5) for sent in sents_as_ids]"
   ]
  },
  {
   "cell_type": "code",
   "execution_count": 20,
   "metadata": {},
   "outputs": [
    {
     "name": "stdout",
     "output_type": "stream",
     "text": [
      "(sense (2493), favourably (2433)) -> 0\n",
      "(austen (6469), sensibility (8323)) -> 1\n",
      "(sense (2493), alternative (4454)) -> 0\n",
      "(sense (2493), jane (890)) -> 1\n",
      "(jane (890), adoring (4981)) -> 0\n",
      "(jane (890), disagreeableness (4167)) -> 0\n",
      "(sense (2493), neatly (941)) -> 0\n",
      "(austen (6469), prodigies (1598)) -> 0\n",
      "(sensibility (8323), centered (7773)) -> 0\n",
      "(sense (2493), sensibility (8323)) -> 1\n",
      "(sensibility (8323), austen (6469)) -> 1\n",
      "(sensibility (8323), jane (890)) -> 1\n",
      "(jane (890), sense (2493)) -> 1\n",
      "(sensibility (8323), familiar (3733)) -> 0\n",
      "(jane (890), bonnet (9147)) -> 0\n",
      "(austen (6469), fraternal (7324)) -> 0\n",
      "(sensibility (8323), mum (3705)) -> 0\n",
      "(austen (6469), jane (890)) -> 1\n",
      "(jane (890), austen (6469)) -> 1\n",
      "(austen (6469), sense (2493)) -> 1\n",
      "(sensibility (8323), sense (2493)) -> 1\n",
      "(jane (890), sensibility (8323)) -> 1\n",
      "(sense (2493), austen (6469)) -> 1\n",
      "(austen (6469), sealed (835)) -> 0\n"
     ]
    }
   ],
   "source": [
    "pairs, labels = skip_grams[0][0], skip_grams[0][1]\n",
    "for i in range(len(pairs)):\n",
    "    print('({:s} ({:d}), {:s} ({:d})) -> {:d}'.format(\n",
    "        # the first word and its index\n",
    "        idx2word[pairs[i][0]], pairs[i][0],\n",
    "        # the second word and its index\n",
    "        idx2word[pairs[i][1]], pairs[i][1],\n",
    "        # the label\n",
    "        labels[i]))"
   ]
  },
  {
   "cell_type": "code",
   "execution_count": 21,
   "metadata": {},
   "outputs": [],
   "source": [
    "from keras.layers import Dot, Input\n",
    "from keras.layers.core import Dense, Reshape\n",
    "from keras.layers.embeddings import Embedding\n",
    "from keras.models import Model\n",
    "from keras.utils import plot_model\n",
    "from tensorflow.keras import optimizers"
   ]
  },
  {
   "cell_type": "code",
   "execution_count": 22,
   "metadata": {},
   "outputs": [
    {
     "name": "stdout",
     "output_type": "stream",
     "text": [
      "WARNING:tensorflow:From /home/nv/virtpy3tf/lib/python3.6/site-packages/tensorflow/python/framework/op_def_library.py:263: colocate_with (from tensorflow.python.framework.ops) is deprecated and will be removed in a future version.\n",
      "Instructions for updating:\n",
      "Colocations handled automatically by placer.\n"
     ]
    }
   ],
   "source": [
    "target_word = Input((1,), dtype='int32')\n",
    "target_embedding = Embedding(vocab_size,embed_size,name='target_embed_layer',embeddings_initializer='glorot_uniform',input_length=1)(target_word)\n",
    "target_input = Reshape((embed_size,))(target_embedding)"
   ]
  },
  {
   "cell_type": "code",
   "execution_count": 23,
   "metadata": {},
   "outputs": [],
   "source": [
    "context_word = Input((1,), dtype='int32')\n",
    "context_embedding = Embedding(vocab_size,embed_size,name='context_embed_layer',embeddings_initializer='glorot_uniform',input_length=1)(context_word)\n",
    "context_input = Reshape((embed_size,))(context_embedding)"
   ]
  },
  {
   "cell_type": "code",
   "execution_count": 24,
   "metadata": {},
   "outputs": [],
   "source": [
    "merged_inputs = Dot(axes=-1, normalize=False)([target_input, context_input])"
   ]
  },
  {
   "cell_type": "code",
   "execution_count": 25,
   "metadata": {},
   "outputs": [],
   "source": [
    "label = Dense(1, activation='sigmoid', kernel_initializer='glorot_uniform')(merged_inputs)"
   ]
  },
  {
   "cell_type": "code",
   "execution_count": 26,
   "metadata": {},
   "outputs": [],
   "source": [
    "model=Model(inputs=[target_word,context_word],outputs=[label])"
   ]
  },
  {
   "cell_type": "code",
   "execution_count": 27,
   "metadata": {},
   "outputs": [],
   "source": [
    "# Loss=‘mean_squared_error’,optimizer = ‘rmsprop’.\n",
    "model.compile(optimizer='rmsprop',loss='mean_squared_error')"
   ]
  },
  {
   "cell_type": "code",
   "execution_count": 28,
   "metadata": {},
   "outputs": [
    {
     "name": "stdout",
     "output_type": "stream",
     "text": [
      "__________________________________________________________________________________________________\n",
      "Layer (type)                    Output Shape         Param #     Connected to                     \n",
      "==================================================================================================\n",
      "input_1 (InputLayer)            (None, 1)            0                                            \n",
      "__________________________________________________________________________________________________\n",
      "input_2 (InputLayer)            (None, 1)            0                                            \n",
      "__________________________________________________________________________________________________\n",
      "target_embed_layer (Embedding)  (None, 1, 100)       1003900     input_1[0][0]                    \n",
      "__________________________________________________________________________________________________\n",
      "context_embed_layer (Embedding) (None, 1, 100)       1003900     input_2[0][0]                    \n",
      "__________________________________________________________________________________________________\n",
      "reshape_1 (Reshape)             (None, 100)          0           target_embed_layer[0][0]         \n",
      "__________________________________________________________________________________________________\n",
      "reshape_2 (Reshape)             (None, 100)          0           context_embed_layer[0][0]        \n",
      "__________________________________________________________________________________________________\n",
      "dot_1 (Dot)                     (None, 1)            0           reshape_1[0][0]                  \n",
      "                                                                 reshape_2[0][0]                  \n",
      "__________________________________________________________________________________________________\n",
      "dense_1 (Dense)                 (None, 1)            2           dot_1[0][0]                      \n",
      "==================================================================================================\n",
      "Total params: 2,007,802\n",
      "Trainable params: 2,007,802\n",
      "Non-trainable params: 0\n",
      "__________________________________________________________________________________________________\n"
     ]
    }
   ],
   "source": [
    "model.summary()"
   ]
  },
  {
   "cell_type": "code",
   "execution_count": 29,
   "metadata": {},
   "outputs": [
    {
     "data": {
      "image/svg+xml": [
       "<svg height=\"387pt\" viewBox=\"0.00 0.00 728.50 387.00\" width=\"729pt\" xmlns=\"http://www.w3.org/2000/svg\" xmlns:xlink=\"http://www.w3.org/1999/xlink\">\n",
       "<g class=\"graph\" id=\"graph0\" transform=\"scale(1 1) rotate(0) translate(4 383)\">\n",
       "<title>G</title>\n",
       "<polygon fill=\"#ffffff\" points=\"-4,4 -4,-383 724.5,-383 724.5,4 -4,4\" stroke=\"transparent\"/>\n",
       "<!-- 139733264948808 -->\n",
       "<g class=\"node\" id=\"node1\">\n",
       "<title>139733264948808</title>\n",
       "<polygon fill=\"none\" points=\"49,-332.5 49,-378.5 298,-378.5 298,-332.5 49,-332.5\" stroke=\"#000000\"/>\n",
       "<text fill=\"#000000\" font-family=\"Times,serif\" font-size=\"14.00\" text-anchor=\"middle\" x=\"111.5\" y=\"-351.8\">input_1: InputLayer</text>\n",
       "<polyline fill=\"none\" points=\"174,-332.5 174,-378.5 \" stroke=\"#000000\"/>\n",
       "<text fill=\"#000000\" font-family=\"Times,serif\" font-size=\"14.00\" text-anchor=\"middle\" x=\"201.5\" y=\"-363.3\">input:</text>\n",
       "<polyline fill=\"none\" points=\"174,-355.5 229,-355.5 \" stroke=\"#000000\"/>\n",
       "<text fill=\"#000000\" font-family=\"Times,serif\" font-size=\"14.00\" text-anchor=\"middle\" x=\"201.5\" y=\"-340.3\">output:</text>\n",
       "<polyline fill=\"none\" points=\"229,-332.5 229,-378.5 \" stroke=\"#000000\"/>\n",
       "<text fill=\"#000000\" font-family=\"Times,serif\" font-size=\"14.00\" text-anchor=\"middle\" x=\"263.5\" y=\"-363.3\">(None, 1)</text>\n",
       "<polyline fill=\"none\" points=\"229,-355.5 298,-355.5 \" stroke=\"#000000\"/>\n",
       "<text fill=\"#000000\" font-family=\"Times,serif\" font-size=\"14.00\" text-anchor=\"middle\" x=\"263.5\" y=\"-340.3\">(None, 1)</text>\n",
       "</g>\n",
       "<!-- 139733264948528 -->\n",
       "<g class=\"node\" id=\"node3\">\n",
       "<title>139733264948528</title>\n",
       "<polygon fill=\"none\" points=\"0,-249.5 0,-295.5 347,-295.5 347,-249.5 0,-249.5\" stroke=\"#000000\"/>\n",
       "<text fill=\"#000000\" font-family=\"Times,serif\" font-size=\"14.00\" text-anchor=\"middle\" x=\"97.5\" y=\"-268.8\">target_embed_layer: Embedding</text>\n",
       "<polyline fill=\"none\" points=\"195,-249.5 195,-295.5 \" stroke=\"#000000\"/>\n",
       "<text fill=\"#000000\" font-family=\"Times,serif\" font-size=\"14.00\" text-anchor=\"middle\" x=\"222.5\" y=\"-280.3\">input:</text>\n",
       "<polyline fill=\"none\" points=\"195,-272.5 250,-272.5 \" stroke=\"#000000\"/>\n",
       "<text fill=\"#000000\" font-family=\"Times,serif\" font-size=\"14.00\" text-anchor=\"middle\" x=\"222.5\" y=\"-257.3\">output:</text>\n",
       "<polyline fill=\"none\" points=\"250,-249.5 250,-295.5 \" stroke=\"#000000\"/>\n",
       "<text fill=\"#000000\" font-family=\"Times,serif\" font-size=\"14.00\" text-anchor=\"middle\" x=\"298.5\" y=\"-280.3\">(None, 1)</text>\n",
       "<polyline fill=\"none\" points=\"250,-272.5 347,-272.5 \" stroke=\"#000000\"/>\n",
       "<text fill=\"#000000\" font-family=\"Times,serif\" font-size=\"14.00\" text-anchor=\"middle\" x=\"298.5\" y=\"-257.3\">(None, 1, 100)</text>\n",
       "</g>\n",
       "<!-- 139733264948808&#45;&gt;139733264948528 -->\n",
       "<g class=\"edge\" id=\"edge1\">\n",
       "<title>139733264948808-&gt;139733264948528</title>\n",
       "<path d=\"M173.5,-332.3799C173.5,-324.1745 173.5,-314.7679 173.5,-305.8786\" fill=\"none\" stroke=\"#000000\"/>\n",
       "<polygon fill=\"#000000\" points=\"177.0001,-305.784 173.5,-295.784 170.0001,-305.784 177.0001,-305.784\" stroke=\"#000000\"/>\n",
       "</g>\n",
       "<!-- 139731227543480 -->\n",
       "<g class=\"node\" id=\"node2\">\n",
       "<title>139731227543480</title>\n",
       "<polygon fill=\"none\" points=\"418,-332.5 418,-378.5 667,-378.5 667,-332.5 418,-332.5\" stroke=\"#000000\"/>\n",
       "<text fill=\"#000000\" font-family=\"Times,serif\" font-size=\"14.00\" text-anchor=\"middle\" x=\"480.5\" y=\"-351.8\">input_2: InputLayer</text>\n",
       "<polyline fill=\"none\" points=\"543,-332.5 543,-378.5 \" stroke=\"#000000\"/>\n",
       "<text fill=\"#000000\" font-family=\"Times,serif\" font-size=\"14.00\" text-anchor=\"middle\" x=\"570.5\" y=\"-363.3\">input:</text>\n",
       "<polyline fill=\"none\" points=\"543,-355.5 598,-355.5 \" stroke=\"#000000\"/>\n",
       "<text fill=\"#000000\" font-family=\"Times,serif\" font-size=\"14.00\" text-anchor=\"middle\" x=\"570.5\" y=\"-340.3\">output:</text>\n",
       "<polyline fill=\"none\" points=\"598,-332.5 598,-378.5 \" stroke=\"#000000\"/>\n",
       "<text fill=\"#000000\" font-family=\"Times,serif\" font-size=\"14.00\" text-anchor=\"middle\" x=\"632.5\" y=\"-363.3\">(None, 1)</text>\n",
       "<polyline fill=\"none\" points=\"598,-355.5 667,-355.5 \" stroke=\"#000000\"/>\n",
       "<text fill=\"#000000\" font-family=\"Times,serif\" font-size=\"14.00\" text-anchor=\"middle\" x=\"632.5\" y=\"-340.3\">(None, 1)</text>\n",
       "</g>\n",
       "<!-- 139731227543200 -->\n",
       "<g class=\"node\" id=\"node4\">\n",
       "<title>139731227543200</title>\n",
       "<polygon fill=\"none\" points=\"364.5,-249.5 364.5,-295.5 720.5,-295.5 720.5,-249.5 364.5,-249.5\" stroke=\"#000000\"/>\n",
       "<text fill=\"#000000\" font-family=\"Times,serif\" font-size=\"14.00\" text-anchor=\"middle\" x=\"466.5\" y=\"-268.8\">context_embed_layer: Embedding</text>\n",
       "<polyline fill=\"none\" points=\"568.5,-249.5 568.5,-295.5 \" stroke=\"#000000\"/>\n",
       "<text fill=\"#000000\" font-family=\"Times,serif\" font-size=\"14.00\" text-anchor=\"middle\" x=\"596\" y=\"-280.3\">input:</text>\n",
       "<polyline fill=\"none\" points=\"568.5,-272.5 623.5,-272.5 \" stroke=\"#000000\"/>\n",
       "<text fill=\"#000000\" font-family=\"Times,serif\" font-size=\"14.00\" text-anchor=\"middle\" x=\"596\" y=\"-257.3\">output:</text>\n",
       "<polyline fill=\"none\" points=\"623.5,-249.5 623.5,-295.5 \" stroke=\"#000000\"/>\n",
       "<text fill=\"#000000\" font-family=\"Times,serif\" font-size=\"14.00\" text-anchor=\"middle\" x=\"672\" y=\"-280.3\">(None, 1)</text>\n",
       "<polyline fill=\"none\" points=\"623.5,-272.5 720.5,-272.5 \" stroke=\"#000000\"/>\n",
       "<text fill=\"#000000\" font-family=\"Times,serif\" font-size=\"14.00\" text-anchor=\"middle\" x=\"672\" y=\"-257.3\">(None, 1, 100)</text>\n",
       "</g>\n",
       "<!-- 139731227543480&#45;&gt;139731227543200 -->\n",
       "<g class=\"edge\" id=\"edge2\">\n",
       "<title>139731227543480-&gt;139731227543200</title>\n",
       "<path d=\"M542.5,-332.3799C542.5,-324.1745 542.5,-314.7679 542.5,-305.8786\" fill=\"none\" stroke=\"#000000\"/>\n",
       "<polygon fill=\"#000000\" points=\"546.0001,-305.784 542.5,-295.784 539.0001,-305.784 546.0001,-305.784\" stroke=\"#000000\"/>\n",
       "</g>\n",
       "<!-- 139733212421200 -->\n",
       "<g class=\"node\" id=\"node5\">\n",
       "<title>139733212421200</title>\n",
       "<polygon fill=\"none\" points=\"72,-166.5 72,-212.5 349,-212.5 349,-166.5 72,-166.5\" stroke=\"#000000\"/>\n",
       "<text fill=\"#000000\" font-family=\"Times,serif\" font-size=\"14.00\" text-anchor=\"middle\" x=\"134.5\" y=\"-185.8\">reshape_1: Reshape</text>\n",
       "<polyline fill=\"none\" points=\"197,-166.5 197,-212.5 \" stroke=\"#000000\"/>\n",
       "<text fill=\"#000000\" font-family=\"Times,serif\" font-size=\"14.00\" text-anchor=\"middle\" x=\"224.5\" y=\"-197.3\">input:</text>\n",
       "<polyline fill=\"none\" points=\"197,-189.5 252,-189.5 \" stroke=\"#000000\"/>\n",
       "<text fill=\"#000000\" font-family=\"Times,serif\" font-size=\"14.00\" text-anchor=\"middle\" x=\"224.5\" y=\"-174.3\">output:</text>\n",
       "<polyline fill=\"none\" points=\"252,-166.5 252,-212.5 \" stroke=\"#000000\"/>\n",
       "<text fill=\"#000000\" font-family=\"Times,serif\" font-size=\"14.00\" text-anchor=\"middle\" x=\"300.5\" y=\"-197.3\">(None, 1, 100)</text>\n",
       "<polyline fill=\"none\" points=\"252,-189.5 349,-189.5 \" stroke=\"#000000\"/>\n",
       "<text fill=\"#000000\" font-family=\"Times,serif\" font-size=\"14.00\" text-anchor=\"middle\" x=\"300.5\" y=\"-174.3\">(None, 100)</text>\n",
       "</g>\n",
       "<!-- 139733264948528&#45;&gt;139733212421200 -->\n",
       "<g class=\"edge\" id=\"edge3\">\n",
       "<title>139733264948528-&gt;139733212421200</title>\n",
       "<path d=\"M183.8066,-249.3799C187.5836,-240.907 191.9317,-231.1531 196.0073,-222.0107\" fill=\"none\" stroke=\"#000000\"/>\n",
       "<polygon fill=\"#000000\" points=\"199.2455,-223.3427 200.1204,-212.784 192.852,-220.4925 199.2455,-223.3427\" stroke=\"#000000\"/>\n",
       "</g>\n",
       "<!-- 139731227544712 -->\n",
       "<g class=\"node\" id=\"node6\">\n",
       "<title>139731227544712</title>\n",
       "<polygon fill=\"none\" points=\"385,-166.5 385,-212.5 662,-212.5 662,-166.5 385,-166.5\" stroke=\"#000000\"/>\n",
       "<text fill=\"#000000\" font-family=\"Times,serif\" font-size=\"14.00\" text-anchor=\"middle\" x=\"447.5\" y=\"-185.8\">reshape_2: Reshape</text>\n",
       "<polyline fill=\"none\" points=\"510,-166.5 510,-212.5 \" stroke=\"#000000\"/>\n",
       "<text fill=\"#000000\" font-family=\"Times,serif\" font-size=\"14.00\" text-anchor=\"middle\" x=\"537.5\" y=\"-197.3\">input:</text>\n",
       "<polyline fill=\"none\" points=\"510,-189.5 565,-189.5 \" stroke=\"#000000\"/>\n",
       "<text fill=\"#000000\" font-family=\"Times,serif\" font-size=\"14.00\" text-anchor=\"middle\" x=\"537.5\" y=\"-174.3\">output:</text>\n",
       "<polyline fill=\"none\" points=\"565,-166.5 565,-212.5 \" stroke=\"#000000\"/>\n",
       "<text fill=\"#000000\" font-family=\"Times,serif\" font-size=\"14.00\" text-anchor=\"middle\" x=\"613.5\" y=\"-197.3\">(None, 1, 100)</text>\n",
       "<polyline fill=\"none\" points=\"565,-189.5 662,-189.5 \" stroke=\"#000000\"/>\n",
       "<text fill=\"#000000\" font-family=\"Times,serif\" font-size=\"14.00\" text-anchor=\"middle\" x=\"613.5\" y=\"-174.3\">(None, 100)</text>\n",
       "</g>\n",
       "<!-- 139731227543200&#45;&gt;139731227544712 -->\n",
       "<g class=\"edge\" id=\"edge4\">\n",
       "<title>139731227543200-&gt;139731227544712</title>\n",
       "<path d=\"M537.2074,-249.3799C535.3087,-241.0854 533.1289,-231.5633 531.0746,-222.5889\" fill=\"none\" stroke=\"#000000\"/>\n",
       "<polygon fill=\"#000000\" points=\"534.4733,-221.7508 528.8301,-212.784 527.6498,-223.3129 534.4733,-221.7508\" stroke=\"#000000\"/>\n",
       "</g>\n",
       "<!-- 139731229345104 -->\n",
       "<g class=\"node\" id=\"node7\">\n",
       "<title>139731229345104</title>\n",
       "<polygon fill=\"none\" points=\"210,-83.5 210,-129.5 505,-129.5 505,-83.5 210,-83.5\" stroke=\"#000000\"/>\n",
       "<text fill=\"#000000\" font-family=\"Times,serif\" font-size=\"14.00\" text-anchor=\"middle\" x=\"247.5\" y=\"-102.8\">dot_1: Dot</text>\n",
       "<polyline fill=\"none\" points=\"285,-83.5 285,-129.5 \" stroke=\"#000000\"/>\n",
       "<text fill=\"#000000\" font-family=\"Times,serif\" font-size=\"14.00\" text-anchor=\"middle\" x=\"312.5\" y=\"-114.3\">input:</text>\n",
       "<polyline fill=\"none\" points=\"285,-106.5 340,-106.5 \" stroke=\"#000000\"/>\n",
       "<text fill=\"#000000\" font-family=\"Times,serif\" font-size=\"14.00\" text-anchor=\"middle\" x=\"312.5\" y=\"-91.3\">output:</text>\n",
       "<polyline fill=\"none\" points=\"340,-83.5 340,-129.5 \" stroke=\"#000000\"/>\n",
       "<text fill=\"#000000\" font-family=\"Times,serif\" font-size=\"14.00\" text-anchor=\"middle\" x=\"422.5\" y=\"-114.3\">[(None, 100), (None, 100)]</text>\n",
       "<polyline fill=\"none\" points=\"340,-106.5 505,-106.5 \" stroke=\"#000000\"/>\n",
       "<text fill=\"#000000\" font-family=\"Times,serif\" font-size=\"14.00\" text-anchor=\"middle\" x=\"422.5\" y=\"-91.3\">(None, 1)</text>\n",
       "</g>\n",
       "<!-- 139733212421200&#45;&gt;139731229345104 -->\n",
       "<g class=\"edge\" id=\"edge5\">\n",
       "<title>139733212421200-&gt;139731229345104</title>\n",
       "<path d=\"M251.4477,-166.3799C268.8963,-156.5279 289.4122,-144.9442 307.7265,-134.6034\" fill=\"none\" stroke=\"#000000\"/>\n",
       "<polygon fill=\"#000000\" points=\"309.5302,-137.6044 316.5172,-129.6399 306.0885,-131.5089 309.5302,-137.6044\" stroke=\"#000000\"/>\n",
       "</g>\n",
       "<!-- 139731227544712&#45;&gt;139731229345104 -->\n",
       "<g class=\"edge\" id=\"edge6\">\n",
       "<title>139731227544712-&gt;139731229345104</title>\n",
       "<path d=\"M477.2597,-166.3799C457.2872,-156.3936 433.7558,-144.6279 412.8622,-134.1811\" fill=\"none\" stroke=\"#000000\"/>\n",
       "<polygon fill=\"#000000\" points=\"414.2894,-130.9816 403.7799,-129.6399 411.1589,-137.2426 414.2894,-130.9816\" stroke=\"#000000\"/>\n",
       "</g>\n",
       "<!-- 139733128427728 -->\n",
       "<g class=\"node\" id=\"node8\">\n",
       "<title>139733128427728</title>\n",
       "<polygon fill=\"none\" points=\"244.5,-.5 244.5,-46.5 470.5,-46.5 470.5,-.5 244.5,-.5\" stroke=\"#000000\"/>\n",
       "<text fill=\"#000000\" font-family=\"Times,serif\" font-size=\"14.00\" text-anchor=\"middle\" x=\"295.5\" y=\"-19.8\">dense_1: Dense</text>\n",
       "<polyline fill=\"none\" points=\"346.5,-.5 346.5,-46.5 \" stroke=\"#000000\"/>\n",
       "<text fill=\"#000000\" font-family=\"Times,serif\" font-size=\"14.00\" text-anchor=\"middle\" x=\"374\" y=\"-31.3\">input:</text>\n",
       "<polyline fill=\"none\" points=\"346.5,-23.5 401.5,-23.5 \" stroke=\"#000000\"/>\n",
       "<text fill=\"#000000\" font-family=\"Times,serif\" font-size=\"14.00\" text-anchor=\"middle\" x=\"374\" y=\"-8.3\">output:</text>\n",
       "<polyline fill=\"none\" points=\"401.5,-.5 401.5,-46.5 \" stroke=\"#000000\"/>\n",
       "<text fill=\"#000000\" font-family=\"Times,serif\" font-size=\"14.00\" text-anchor=\"middle\" x=\"436\" y=\"-31.3\">(None, 1)</text>\n",
       "<polyline fill=\"none\" points=\"401.5,-23.5 470.5,-23.5 \" stroke=\"#000000\"/>\n",
       "<text fill=\"#000000\" font-family=\"Times,serif\" font-size=\"14.00\" text-anchor=\"middle\" x=\"436\" y=\"-8.3\">(None, 1)</text>\n",
       "</g>\n",
       "<!-- 139731229345104&#45;&gt;139733128427728 -->\n",
       "<g class=\"edge\" id=\"edge7\">\n",
       "<title>139731229345104-&gt;139733128427728</title>\n",
       "<path d=\"M357.5,-83.3799C357.5,-75.1745 357.5,-65.7679 357.5,-56.8786\" fill=\"none\" stroke=\"#000000\"/>\n",
       "<polygon fill=\"#000000\" points=\"361.0001,-56.784 357.5,-46.784 354.0001,-56.784 361.0001,-56.784\" stroke=\"#000000\"/>\n",
       "</g>\n",
       "</g>\n",
       "</svg>"
      ],
      "text/plain": [
       "<IPython.core.display.SVG object>"
      ]
     },
     "execution_count": 29,
     "metadata": {},
     "output_type": "execute_result"
    }
   ],
   "source": [
    "from IPython.display import SVG\n",
    "from keras.utils import vis_utils\n",
    "SVG(vis_utils.model_to_dot(model, show_shapes=True,show_layer_names=True).create(prog='dot', format='svg'))"
   ]
  },
  {
   "cell_type": "code",
   "execution_count": 30,
   "metadata": {},
   "outputs": [
    {
     "name": "stdout",
     "output_type": "stream",
     "text": [
      "processed 0 sentences\n",
      "WARNING:tensorflow:From /home/nv/virtpy3tf/lib/python3.6/site-packages/tensorflow/python/ops/math_ops.py:3066: to_int32 (from tensorflow.python.ops.math_ops) is deprecated and will be removed in a future version.\n",
      "Instructions for updating:\n",
      "Use tf.cast instead.\n",
      "processed 5000 sentences\n",
      "processed 10000 sentences\n",
      "Processec all 12497 sentences\n",
      "Epoch: 1 Loss: 2175.190807471052 \n",
      "\n",
      "processed 0 sentences\n",
      "processed 5000 sentences\n",
      "processed 10000 sentences\n",
      "Processec all 12497 sentences\n",
      "Epoch: 2 Loss: 1777.6643357514404 \n",
      "\n",
      "processed 0 sentences\n",
      "processed 5000 sentences\n",
      "processed 10000 sentences\n",
      "Processec all 12497 sentences\n",
      "Epoch: 3 Loss: 1701.5114387522917 \n",
      "\n",
      "processed 0 sentences\n",
      "processed 5000 sentences\n",
      "processed 10000 sentences\n",
      "Processec all 12497 sentences\n",
      "Epoch: 4 Loss: 1660.9955589899328 \n",
      "\n",
      "processed 0 sentences\n",
      "processed 5000 sentences\n",
      "processed 10000 sentences\n",
      "Processec all 12497 sentences\n",
      "Epoch: 5 Loss: 1641.8238103061449 \n",
      "\n"
     ]
    }
   ],
   "source": [
    "for epoch in range(1,6):\n",
    "    epoch_loss = 0\n",
    "    for i,sent_examples in enumerate(skip_grams):\n",
    "        target_wds = np.array([pair[0] for pair in sent_examples[0]],dtype='int32')\n",
    "        context_wds = np.array([pair[1] for pair in sent_examples[0]],dtype='int32')\n",
    "        labels = np.array(sent_examples[1],dtype='int32')\n",
    "        X = [target_wds,context_wds]\n",
    "        Y = labels\n",
    "        if i%5000 == 0:\n",
    "            print('processed %d sentences' %i)\n",
    "        epoch_loss += model.train_on_batch(X,Y)\n",
    "    print('Processec all %d sentences' %i)\n",
    "    print('Epoch:',epoch,'Loss:',epoch_loss,'\\n')"
   ]
  },
  {
   "cell_type": "code",
   "execution_count": 31,
   "metadata": {},
   "outputs": [],
   "source": [
    "word_embeddings = model.get_layer('target_embed_layer').get_weights()[0][1:] # Recall that 0was left for padding"
   ]
  },
  {
   "cell_type": "code",
   "execution_count": 32,
   "metadata": {},
   "outputs": [
    {
     "name": "stdout",
     "output_type": "stream",
     "text": [
      "(10038, 100)\n"
     ]
    }
   ],
   "source": [
    "print(word_embeddings.shape)"
   ]
  },
  {
   "cell_type": "code",
   "execution_count": 37,
   "metadata": {},
   "outputs": [
    {
     "data": {
      "text/html": [
       "<div>\n",
       "<style scoped>\n",
       "    .dataframe tbody tr th:only-of-type {\n",
       "        vertical-align: middle;\n",
       "    }\n",
       "\n",
       "    .dataframe tbody tr th {\n",
       "        vertical-align: top;\n",
       "    }\n",
       "\n",
       "    .dataframe thead th {\n",
       "        text-align: right;\n",
       "    }\n",
       "</style>\n",
       "<table border=\"1\" class=\"dataframe\">\n",
       "  <thead>\n",
       "    <tr style=\"text-align: right;\">\n",
       "      <th></th>\n",
       "      <th>0</th>\n",
       "      <th>1</th>\n",
       "      <th>2</th>\n",
       "      <th>3</th>\n",
       "      <th>4</th>\n",
       "      <th>5</th>\n",
       "      <th>6</th>\n",
       "      <th>7</th>\n",
       "      <th>8</th>\n",
       "      <th>9</th>\n",
       "      <th>...</th>\n",
       "      <th>90</th>\n",
       "      <th>91</th>\n",
       "      <th>92</th>\n",
       "      <th>93</th>\n",
       "      <th>94</th>\n",
       "      <th>95</th>\n",
       "      <th>96</th>\n",
       "      <th>97</th>\n",
       "      <th>98</th>\n",
       "      <th>99</th>\n",
       "    </tr>\n",
       "  </thead>\n",
       "  <tbody>\n",
       "    <tr>\n",
       "      <th>associate</th>\n",
       "      <td>-0.020045</td>\n",
       "      <td>-0.001763</td>\n",
       "      <td>0.016535</td>\n",
       "      <td>-0.003175</td>\n",
       "      <td>0.002000</td>\n",
       "      <td>0.012117</td>\n",
       "      <td>0.011768</td>\n",
       "      <td>0.018643</td>\n",
       "      <td>0.022655</td>\n",
       "      <td>-0.015000</td>\n",
       "      <td>...</td>\n",
       "      <td>-0.001846</td>\n",
       "      <td>-0.008644</td>\n",
       "      <td>-0.003889</td>\n",
       "      <td>-0.023789</td>\n",
       "      <td>0.023965</td>\n",
       "      <td>-0.020347</td>\n",
       "      <td>-0.002838</td>\n",
       "      <td>0.001289</td>\n",
       "      <td>0.018343</td>\n",
       "      <td>0.017297</td>\n",
       "    </tr>\n",
       "    <tr>\n",
       "      <th>lodged</th>\n",
       "      <td>-0.011502</td>\n",
       "      <td>-0.013534</td>\n",
       "      <td>0.007688</td>\n",
       "      <td>0.007331</td>\n",
       "      <td>-0.012501</td>\n",
       "      <td>0.005507</td>\n",
       "      <td>-0.018638</td>\n",
       "      <td>0.012154</td>\n",
       "      <td>0.028323</td>\n",
       "      <td>0.000536</td>\n",
       "      <td>...</td>\n",
       "      <td>-0.002149</td>\n",
       "      <td>0.022356</td>\n",
       "      <td>-0.005134</td>\n",
       "      <td>-0.017383</td>\n",
       "      <td>-0.021293</td>\n",
       "      <td>-0.022368</td>\n",
       "      <td>0.002379</td>\n",
       "      <td>0.012588</td>\n",
       "      <td>0.000249</td>\n",
       "      <td>-0.018521</td>\n",
       "    </tr>\n",
       "    <tr>\n",
       "      <th>darings</th>\n",
       "      <td>-0.021454</td>\n",
       "      <td>-0.008721</td>\n",
       "      <td>-0.019221</td>\n",
       "      <td>0.006020</td>\n",
       "      <td>-0.009952</td>\n",
       "      <td>0.007173</td>\n",
       "      <td>-0.028548</td>\n",
       "      <td>-0.018850</td>\n",
       "      <td>-0.011907</td>\n",
       "      <td>-0.024341</td>\n",
       "      <td>...</td>\n",
       "      <td>0.005108</td>\n",
       "      <td>0.033651</td>\n",
       "      <td>0.009149</td>\n",
       "      <td>-0.013178</td>\n",
       "      <td>-0.028106</td>\n",
       "      <td>-0.021036</td>\n",
       "      <td>0.019629</td>\n",
       "      <td>0.002787</td>\n",
       "      <td>-0.013306</td>\n",
       "      <td>-0.021206</td>\n",
       "    </tr>\n",
       "    <tr>\n",
       "      <th>hair</th>\n",
       "      <td>0.006446</td>\n",
       "      <td>-0.007346</td>\n",
       "      <td>0.013194</td>\n",
       "      <td>-0.011496</td>\n",
       "      <td>0.020060</td>\n",
       "      <td>-0.009993</td>\n",
       "      <td>0.000003</td>\n",
       "      <td>-0.019468</td>\n",
       "      <td>0.006430</td>\n",
       "      <td>-0.009254</td>\n",
       "      <td>...</td>\n",
       "      <td>-0.013349</td>\n",
       "      <td>0.013188</td>\n",
       "      <td>-0.009857</td>\n",
       "      <td>0.005631</td>\n",
       "      <td>0.007394</td>\n",
       "      <td>0.004340</td>\n",
       "      <td>0.013096</td>\n",
       "      <td>0.008186</td>\n",
       "      <td>0.016919</td>\n",
       "      <td>-0.025155</td>\n",
       "    </tr>\n",
       "    <tr>\n",
       "      <th>obligingly</th>\n",
       "      <td>-0.012690</td>\n",
       "      <td>0.017057</td>\n",
       "      <td>-0.006539</td>\n",
       "      <td>0.017323</td>\n",
       "      <td>0.003551</td>\n",
       "      <td>0.000967</td>\n",
       "      <td>0.017196</td>\n",
       "      <td>-0.012516</td>\n",
       "      <td>0.010532</td>\n",
       "      <td>0.008085</td>\n",
       "      <td>...</td>\n",
       "      <td>-0.012575</td>\n",
       "      <td>0.006714</td>\n",
       "      <td>-0.004461</td>\n",
       "      <td>-0.012357</td>\n",
       "      <td>-0.029997</td>\n",
       "      <td>0.014858</td>\n",
       "      <td>0.008793</td>\n",
       "      <td>-0.008614</td>\n",
       "      <td>-0.000711</td>\n",
       "      <td>0.000999</td>\n",
       "    </tr>\n",
       "    <tr>\n",
       "      <th>news</th>\n",
       "      <td>0.010553</td>\n",
       "      <td>-0.006085</td>\n",
       "      <td>-0.024651</td>\n",
       "      <td>0.013164</td>\n",
       "      <td>-0.018086</td>\n",
       "      <td>-0.003133</td>\n",
       "      <td>-0.018105</td>\n",
       "      <td>-0.007672</td>\n",
       "      <td>0.008750</td>\n",
       "      <td>-0.001008</td>\n",
       "      <td>...</td>\n",
       "      <td>-0.022329</td>\n",
       "      <td>0.024261</td>\n",
       "      <td>0.020816</td>\n",
       "      <td>-0.013305</td>\n",
       "      <td>0.014875</td>\n",
       "      <td>-0.005669</td>\n",
       "      <td>0.005019</td>\n",
       "      <td>-0.006773</td>\n",
       "      <td>0.011401</td>\n",
       "      <td>0.012212</td>\n",
       "    </tr>\n",
       "    <tr>\n",
       "      <th>dowager</th>\n",
       "      <td>-0.004592</td>\n",
       "      <td>-0.038555</td>\n",
       "      <td>0.005749</td>\n",
       "      <td>0.010398</td>\n",
       "      <td>-0.000224</td>\n",
       "      <td>-0.043308</td>\n",
       "      <td>0.033031</td>\n",
       "      <td>0.012996</td>\n",
       "      <td>0.005726</td>\n",
       "      <td>0.011796</td>\n",
       "      <td>...</td>\n",
       "      <td>0.059280</td>\n",
       "      <td>0.039796</td>\n",
       "      <td>0.012714</td>\n",
       "      <td>0.012364</td>\n",
       "      <td>-0.016442</td>\n",
       "      <td>0.010909</td>\n",
       "      <td>-0.013742</td>\n",
       "      <td>0.007409</td>\n",
       "      <td>0.035789</td>\n",
       "      <td>-0.020307</td>\n",
       "    </tr>\n",
       "    <tr>\n",
       "      <th>thunderbolt</th>\n",
       "      <td>-0.024162</td>\n",
       "      <td>-0.028190</td>\n",
       "      <td>-0.022987</td>\n",
       "      <td>0.004669</td>\n",
       "      <td>0.010412</td>\n",
       "      <td>-0.029003</td>\n",
       "      <td>0.021878</td>\n",
       "      <td>0.015911</td>\n",
       "      <td>-0.001880</td>\n",
       "      <td>-0.018695</td>\n",
       "      <td>...</td>\n",
       "      <td>-0.007800</td>\n",
       "      <td>0.025498</td>\n",
       "      <td>0.021908</td>\n",
       "      <td>0.016312</td>\n",
       "      <td>0.005331</td>\n",
       "      <td>0.016152</td>\n",
       "      <td>-0.018840</td>\n",
       "      <td>0.017649</td>\n",
       "      <td>0.020949</td>\n",
       "      <td>0.012666</td>\n",
       "    </tr>\n",
       "    <tr>\n",
       "      <th>worked</th>\n",
       "      <td>0.008922</td>\n",
       "      <td>0.011492</td>\n",
       "      <td>-0.010323</td>\n",
       "      <td>-0.043553</td>\n",
       "      <td>-0.008437</td>\n",
       "      <td>-0.017712</td>\n",
       "      <td>0.021775</td>\n",
       "      <td>0.059808</td>\n",
       "      <td>-0.002090</td>\n",
       "      <td>-0.005783</td>\n",
       "      <td>...</td>\n",
       "      <td>0.031426</td>\n",
       "      <td>-0.008801</td>\n",
       "      <td>0.003642</td>\n",
       "      <td>0.036072</td>\n",
       "      <td>-0.011250</td>\n",
       "      <td>-0.001391</td>\n",
       "      <td>-0.032551</td>\n",
       "      <td>0.000666</td>\n",
       "      <td>0.006626</td>\n",
       "      <td>0.006104</td>\n",
       "    </tr>\n",
       "    <tr>\n",
       "      <th>hot</th>\n",
       "      <td>-0.024068</td>\n",
       "      <td>0.004079</td>\n",
       "      <td>-0.026159</td>\n",
       "      <td>-0.024993</td>\n",
       "      <td>0.020006</td>\n",
       "      <td>0.016663</td>\n",
       "      <td>0.023872</td>\n",
       "      <td>0.009441</td>\n",
       "      <td>0.005688</td>\n",
       "      <td>0.000390</td>\n",
       "      <td>...</td>\n",
       "      <td>0.010868</td>\n",
       "      <td>0.013765</td>\n",
       "      <td>-0.020443</td>\n",
       "      <td>0.009221</td>\n",
       "      <td>0.000599</td>\n",
       "      <td>0.013203</td>\n",
       "      <td>0.018071</td>\n",
       "      <td>-0.019516</td>\n",
       "      <td>0.001830</td>\n",
       "      <td>-0.017500</td>\n",
       "    </tr>\n",
       "  </tbody>\n",
       "</table>\n",
       "<p>10 rows × 100 columns</p>\n",
       "</div>"
      ],
      "text/plain": [
       "                   0         1         2         3         4         5   \\\n",
       "associate   -0.020045 -0.001763  0.016535 -0.003175  0.002000  0.012117   \n",
       "lodged      -0.011502 -0.013534  0.007688  0.007331 -0.012501  0.005507   \n",
       "darings     -0.021454 -0.008721 -0.019221  0.006020 -0.009952  0.007173   \n",
       "hair         0.006446 -0.007346  0.013194 -0.011496  0.020060 -0.009993   \n",
       "obligingly  -0.012690  0.017057 -0.006539  0.017323  0.003551  0.000967   \n",
       "news         0.010553 -0.006085 -0.024651  0.013164 -0.018086 -0.003133   \n",
       "dowager     -0.004592 -0.038555  0.005749  0.010398 -0.000224 -0.043308   \n",
       "thunderbolt -0.024162 -0.028190 -0.022987  0.004669  0.010412 -0.029003   \n",
       "worked       0.008922  0.011492 -0.010323 -0.043553 -0.008437 -0.017712   \n",
       "hot         -0.024068  0.004079 -0.026159 -0.024993  0.020006  0.016663   \n",
       "\n",
       "                   6         7         8         9   ...        90        91  \\\n",
       "associate    0.011768  0.018643  0.022655 -0.015000  ... -0.001846 -0.008644   \n",
       "lodged      -0.018638  0.012154  0.028323  0.000536  ... -0.002149  0.022356   \n",
       "darings     -0.028548 -0.018850 -0.011907 -0.024341  ...  0.005108  0.033651   \n",
       "hair         0.000003 -0.019468  0.006430 -0.009254  ... -0.013349  0.013188   \n",
       "obligingly   0.017196 -0.012516  0.010532  0.008085  ... -0.012575  0.006714   \n",
       "news        -0.018105 -0.007672  0.008750 -0.001008  ... -0.022329  0.024261   \n",
       "dowager      0.033031  0.012996  0.005726  0.011796  ...  0.059280  0.039796   \n",
       "thunderbolt  0.021878  0.015911 -0.001880 -0.018695  ... -0.007800  0.025498   \n",
       "worked       0.021775  0.059808 -0.002090 -0.005783  ...  0.031426 -0.008801   \n",
       "hot          0.023872  0.009441  0.005688  0.000390  ...  0.010868  0.013765   \n",
       "\n",
       "                   92        93        94        95        96        97  \\\n",
       "associate   -0.003889 -0.023789  0.023965 -0.020347 -0.002838  0.001289   \n",
       "lodged      -0.005134 -0.017383 -0.021293 -0.022368  0.002379  0.012588   \n",
       "darings      0.009149 -0.013178 -0.028106 -0.021036  0.019629  0.002787   \n",
       "hair        -0.009857  0.005631  0.007394  0.004340  0.013096  0.008186   \n",
       "obligingly  -0.004461 -0.012357 -0.029997  0.014858  0.008793 -0.008614   \n",
       "news         0.020816 -0.013305  0.014875 -0.005669  0.005019 -0.006773   \n",
       "dowager      0.012714  0.012364 -0.016442  0.010909 -0.013742  0.007409   \n",
       "thunderbolt  0.021908  0.016312  0.005331  0.016152 -0.018840  0.017649   \n",
       "worked       0.003642  0.036072 -0.011250 -0.001391 -0.032551  0.000666   \n",
       "hot         -0.020443  0.009221  0.000599  0.013203  0.018071 -0.019516   \n",
       "\n",
       "                   98        99  \n",
       "associate    0.018343  0.017297  \n",
       "lodged       0.000249 -0.018521  \n",
       "darings     -0.013306 -0.021206  \n",
       "hair         0.016919 -0.025155  \n",
       "obligingly  -0.000711  0.000999  \n",
       "news         0.011401  0.012212  \n",
       "dowager      0.035789 -0.020307  \n",
       "thunderbolt  0.020949  0.012666  \n",
       "worked       0.006626  0.006104  \n",
       "hot          0.001830 -0.017500  \n",
       "\n",
       "[10 rows x 100 columns]"
      ]
     },
     "execution_count": 37,
     "metadata": {},
     "output_type": "execute_result"
    }
   ],
   "source": [
    "import pandas as pd\n",
    "pd.DataFrame(word_embeddings, index=list(idx2word.values())[2:]).head(10)"
   ]
  },
  {
   "cell_type": "code",
   "execution_count": 38,
   "metadata": {},
   "outputs": [],
   "source": [
    "from sklearn.metrics.pairwise import cosine_similarity\n",
    "similarity_matrix = cosine_similarity(word_embeddings)"
   ]
  },
  {
   "cell_type": "code",
   "execution_count": 39,
   "metadata": {},
   "outputs": [
    {
     "name": "stdout",
     "output_type": "stream",
     "text": [
      "(10038, 10038)\n"
     ]
    }
   ],
   "source": [
    "print(similarity_matrix.shape)"
   ]
  },
  {
   "cell_type": "code",
   "execution_count": 47,
   "metadata": {},
   "outputs": [],
   "source": [
    "search_terms = ['<UNK>','man', 'love', 'hatred', 'woman', 'wisdom',  'kindness', 'god', 'man', 'folly', 'fool']"
   ]
  },
  {
   "cell_type": "code",
   "execution_count": 48,
   "metadata": {},
   "outputs": [],
   "source": [
    "similar_words = {term: [idx2word[idx]\n",
    "                        for idx in (-1 * similarity_matrix[word2idx[term]-1]).argsort()[1:6] + 1]\n",
    "                        for term in search_terms}"
   ]
  },
  {
   "cell_type": "code",
   "execution_count": 49,
   "metadata": {},
   "outputs": [
    {
     "name": "stdout",
     "output_type": "stream",
     "text": [
      "{'<UNK>': ['upwards', 'failure', 'agitation', 'cattle', 'pembroke'], 'man': ['lively', 'mortgage', 'readily', 'woman', 'retrenching'], 'love': ['wanted', 'saving', 'consistency', 'heels', 'feared'], 'hatred': ['befall', 'scholar', 'taken', 'faculties', 'retire'], 'woman': ['secured', 'manners', 'suit', 'would', 'man'], 'wisdom': ['harbour', 'watching', 'discompose', 'prepossessed', 'pretends'], 'kindness': ['exit', 'deal', 'prepared', 'marriages', 'recalled'], 'god': ['henceforth', 'unmirthful', 'securing', 'appreciating', 'accord'], 'folly': ['help', 'ecstasy', 'complimenter', 'farthing', 'accommodate'], 'fool': ['uniting', 'curl', 'campbells', 'footman', 'impartial']}\n"
     ]
    }
   ],
   "source": [
    "print(similar_words)"
   ]
  },
  {
   "cell_type": "code",
   "execution_count": 44,
   "metadata": {},
   "outputs": [],
   "source": [
    "from sklearn.manifold import TSNE\n",
    "import matplotlib.pyplot as plt"
   ]
  },
  {
   "cell_type": "code",
   "execution_count": 46,
   "metadata": {},
   "outputs": [
    {
     "data": {
      "image/png": "[encoded data removed]",
      "text/plain": [
       "<Figure size 1008x576 with 1 Axes>"
      ]
     },
     "metadata": {
      "needs_background": "light"
     },
     "output_type": "display_data"
    }
   ],
   "source": [
    "tsne = TSNE(perplexity=3, n_components=2, init='pca', n_iter=5000, method='exact')\n",
    "np.set_printoptions(suppress=True)\n",
    "plot_only = 50\n",
    "T = tsne.fit_transform(word_embeddings[:plot_only, :])\n",
    "labels = [idx2word[i+1] for i in range(plot_only)]\n",
    "plt.figure(figsize=(14, 8))\n",
    "plt.scatter(T[:, 0], T[:, 1])\n",
    "\n",
    "for label, x, y in zip(labels, T[:, 0], T[:, 1]):\n",
    "    plt.annotate(label, xy=(x+1, y+1), xytext=(0, 0), textcoords='offset points', ha='right', va='bottom')"
   ]
  }
 ],
 "metadata": {
  "kernelspec": {
   "display_name": "Python 3",
   "language": "python",
   "name": "python3"
  },
  "language_info": {
   "codemirror_mode": {
    "name": "ipython",
    "version": 3
   },
   "file_extension": ".py",
   "mimetype": "text/x-python",
   "name": "python",
   "nbconvert_exporter": "python",
   "pygments_lexer": "ipython3",
   "version": "3.6.8"
  }
 },
 "nbformat": 4,
 "nbformat_minor": 2
}
