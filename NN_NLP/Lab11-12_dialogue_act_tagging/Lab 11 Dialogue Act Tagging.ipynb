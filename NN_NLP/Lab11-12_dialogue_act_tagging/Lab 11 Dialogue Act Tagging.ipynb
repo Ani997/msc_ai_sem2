{
 "cells": [
  {
   "cell_type": "markdown",
   "metadata": {
    "colab_type": "text",
    "id": "9_ZORURKg-fp"
   },
   "source": [
    "# Lab 11: Dialogue Act Tagging\n",
    "\n",
    "Dialogue act (DA) tagging is an important step in the process of developing dialog systems. DA tagging is a problem usually solved by supervised machine learning approaches that all require large amounts of hand labeled data. A wide range of techniques have been investigated for DA tagging. In this lab, we explore two approaches to DA classification. We are using the Switchboard Dialog Act Corpus for training.\n",
    "Corpus can be downloaded from http://compprag.christopherpotts.net/swda.html.\n"
   ]
  },
  {
   "cell_type": "code",
   "execution_count": 1,
   "metadata": {},
   "outputs": [
    {
     "name": "stdout",
     "output_type": "stream",
     "text": [
      "/homes/nv304/virtpy3/bin/python\r\n"
     ]
    }
   ],
   "source": [
    "!which python"
   ]
  },
  {
   "cell_type": "markdown",
   "metadata": {
    "colab_type": "text",
    "id": "ziKyA9R4gyw9"
   },
   "source": [
    "The downloaded dataset should be kept in a data folder in the same directory as this file. "
   ]
  },
  {
   "cell_type": "code",
   "execution_count": 2,
   "metadata": {
    "colab": {},
    "colab_type": "code",
    "id": "jmTpKt_uefe5",
    "outputId": "860d0f6a-ed72-4486-9fed-2307105ba67c"
   },
   "outputs": [
    {
     "name": "stderr",
     "output_type": "stream",
     "text": [
      "Using TensorFlow backend.\n",
      "/homes/nv304/virtpy3/lib/python3.6/site-packages/tensorflow/python/framework/dtypes.py:526: FutureWarning: Passing (type, 1) or '1type' as a synonym of type is deprecated; in a future version of numpy, it will be understood as (type, (1,)) / '(1,)type'.\n",
      "  _np_qint8 = np.dtype([(\"qint8\", np.int8, 1)])\n",
      "/homes/nv304/virtpy3/lib/python3.6/site-packages/tensorflow/python/framework/dtypes.py:527: FutureWarning: Passing (type, 1) or '1type' as a synonym of type is deprecated; in a future version of numpy, it will be understood as (type, (1,)) / '(1,)type'.\n",
      "  _np_quint8 = np.dtype([(\"quint8\", np.uint8, 1)])\n",
      "/homes/nv304/virtpy3/lib/python3.6/site-packages/tensorflow/python/framework/dtypes.py:528: FutureWarning: Passing (type, 1) or '1type' as a synonym of type is deprecated; in a future version of numpy, it will be understood as (type, (1,)) / '(1,)type'.\n",
      "  _np_qint16 = np.dtype([(\"qint16\", np.int16, 1)])\n",
      "/homes/nv304/virtpy3/lib/python3.6/site-packages/tensorflow/python/framework/dtypes.py:529: FutureWarning: Passing (type, 1) or '1type' as a synonym of type is deprecated; in a future version of numpy, it will be understood as (type, (1,)) / '(1,)type'.\n",
      "  _np_quint16 = np.dtype([(\"quint16\", np.uint16, 1)])\n",
      "/homes/nv304/virtpy3/lib/python3.6/site-packages/tensorflow/python/framework/dtypes.py:530: FutureWarning: Passing (type, 1) or '1type' as a synonym of type is deprecated; in a future version of numpy, it will be understood as (type, (1,)) / '(1,)type'.\n",
      "  _np_qint32 = np.dtype([(\"qint32\", np.int32, 1)])\n",
      "/homes/nv304/virtpy3/lib/python3.6/site-packages/tensorflow/python/framework/dtypes.py:535: FutureWarning: Passing (type, 1) or '1type' as a synonym of type is deprecated; in a future version of numpy, it will be understood as (type, (1,)) / '(1,)type'.\n",
      "  np_resource = np.dtype([(\"resource\", np.ubyte, 1)])\n"
     ]
    }
   ],
   "source": [
    "import pandas as pd\n",
    "import glob\n",
    "from keras.preprocessing.sequence import pad_sequences\n",
    "from sklearn.model_selection import train_test_split\n",
    "import numpy as np\n",
    "\n",
    "import sklearn.metrics\n",
    "import tensorflow as tf\n",
    "import matplotlib.pyplot as plt\n",
    "from tqdm import tqdm_notebook as tqdm"
   ]
  },
  {
   "cell_type": "code",
   "execution_count": 3,
   "metadata": {
    "colab": {},
    "colab_type": "code",
    "id": "6E8axaw1hAbM"
   },
   "outputs": [],
   "source": [
    "f = glob.glob(\"swda/sw*/sw*.csv\")\n",
    "frames = []\n",
    "for i in range(0, len(f)):\n",
    "    frames.append(pd.read_csv(f[i]))\n",
    "\n",
    "result = pd.concat(frames, ignore_index=True)\n",
    "result.to_csv('swda_all_data.csv',index=False)"
   ]
  },
  {
   "cell_type": "code",
   "execution_count": 4,
   "metadata": {},
   "outputs": [
    {
     "name": "stderr",
     "output_type": "stream",
     "text": [
      "/homes/nv304/virtpy3/lib/python3.6/site-packages/IPython/core/interactiveshell.py:3063: DtypeWarning: Columns (10,11) have mixed types.Specify dtype option on import or set low_memory=False.\n",
      "  interactivity=interactivity, compiler=compiler, result=result)\n"
     ]
    }
   ],
   "source": [
    "result = pd.read_csv('swda_all_data.csv')"
   ]
  },
  {
   "cell_type": "code",
   "execution_count": 5,
   "metadata": {
    "colab": {
     "base_uri": "https://localhost:8080/",
     "height": 34
    },
    "colab_type": "code",
    "id": "b7hKGF7EhM4s",
    "outputId": "bbcb107d-00cd-4837-975f-8d86fb0d28ae"
   },
   "outputs": [
    {
     "name": "stdout",
     "output_type": "stream",
     "text": [
      "Number of converations in the dataset: 223606\n"
     ]
    }
   ],
   "source": [
    "print(\"Number of converations in the dataset:\",len(result))\n"
   ]
  },
  {
   "cell_type": "markdown",
   "metadata": {
    "colab_type": "text",
    "id": "0ttyB2lQhc7B"
   },
   "source": [
    "The dataset has many different features, we are only using act_tag and text for this training.\n"
   ]
  },
  {
   "cell_type": "code",
   "execution_count": 6,
   "metadata": {
    "colab": {},
    "colab_type": "code",
    "id": "-jUifIdshhD0"
   },
   "outputs": [],
   "source": [
    "reduced_df = result[['act_tag','text']]\n"
   ]
  },
  {
   "cell_type": "markdown",
   "metadata": {
    "colab_type": "text",
    "id": "-iPmZvysqg2i"
   },
   "source": [
    "Reduce down the number of tags to 43 - converting the combined tags to their generic classes:"
   ]
  },
  {
   "cell_type": "code",
   "execution_count": 7,
   "metadata": {
    "colab": {},
    "colab_type": "code",
    "id": "MQuHm0jPt_lz"
   },
   "outputs": [],
   "source": [
    "# Imported from \"https://github.com/cgpotts/swda\"\n",
    "# Convert the combination tags to the generic 43 tags\n",
    "\n",
    "import re\n",
    "def damsl_act_tag(input):\n",
    "        \"\"\"\n",
    "        Seeks to duplicate the tag simplification described at the\n",
    "        Coders' Manual: http://www.stanford.edu/~jurafsky/ws97/manual.august1.html\n",
    "        \"\"\"\n",
    "        d_tags = []\n",
    "        tags = re.split(r\"\\s*[,;]\\s*\", input)\n",
    "        for tag in tags:\n",
    "            if tag in ('qy^d', 'qw^d', 'b^m'): pass\n",
    "            elif tag == 'nn^e': tag = 'ng'\n",
    "            elif tag == 'ny^e': tag = 'na'\n",
    "            else: \n",
    "                tag = re.sub(r'(.)\\^.*', r'\\1', tag)\n",
    "                tag = re.sub(r'[\\(\\)@*]', '', tag)            \n",
    "                if tag in ('qr', 'qy'):                         tag = 'qy'\n",
    "                elif tag in ('fe', 'ba'):                       tag = 'ba'\n",
    "                elif tag in ('oo', 'co', 'cc'):                 tag = 'oo_co_cc'\n",
    "                elif tag in ('fx', 'sv'):                       tag = 'sv'\n",
    "                elif tag in ('aap', 'am'):                      tag = 'aap_am'\n",
    "                elif tag in ('arp', 'nd'):                      tag = 'arp_nd'\n",
    "                elif tag in ('fo', 'o', 'fw', '\"', 'by', 'bc'): tag = 'fo_o_fw_\"_by_bc'            \n",
    "            d_tags.append(tag)\n",
    "        # Dan J says (p.c.) that it makes sense to take the first;\n",
    "        # there are only a handful of examples with 2 tags here.\n",
    "        return d_tags[0]"
   ]
  },
  {
   "cell_type": "code",
   "execution_count": 8,
   "metadata": {
    "colab": {
     "base_uri": "https://localhost:8080/",
     "height": 118
    },
    "colab_type": "code",
    "id": "S8N_PUCAblq3",
    "outputId": "eb927335-7bdc-48d5-8850-4be54efdf3dd",
    "scrolled": true
   },
   "outputs": [
    {
     "name": "stderr",
     "output_type": "stream",
     "text": [
      "/homes/nv304/virtpy3/lib/python3.6/site-packages/ipykernel_launcher.py:1: SettingWithCopyWarning: \n",
      "A value is trying to be set on a copy of a slice from a DataFrame.\n",
      "Try using .loc[row_indexer,col_indexer] = value instead\n",
      "\n",
      "See the caveats in the documentation: https://pandas.pydata.org/pandas-docs/stable/user_guide/indexing.html#returning-a-view-versus-a-copy\n",
      "  \"\"\"Entry point for launching an IPython kernel.\n"
     ]
    }
   ],
   "source": [
    "reduced_df[\"act_tag\"] = reduced_df[\"act_tag\"].apply(lambda x: damsl_act_tag(x))"
   ]
  },
  {
   "cell_type": "code",
   "execution_count": 9,
   "metadata": {},
   "outputs": [
    {
     "data": {
      "text/plain": [
       "0                                                   Okay. /\n",
       "1                                                   Okay. /\n",
       "2                   {D So, } what do you think about it?  /\n",
       "3                                                Should, -/\n",
       "4         {F Um, } I like [ the idea of nursing homes [ ...\n",
       "                                ...                        \n",
       "223601    {D you know, }  I don't mind spending the extr...\n",
       "223602                                            Uh-huh. /\n",
       "223603    -- [ if, + {D you know, } even if ] they pass ...\n",
       "223604                    I'm not a real big seat belt, - /\n",
       "223605                                      my, {F uh, } -/\n",
       "Name: text, Length: 223606, dtype: object"
      ]
     },
     "execution_count": 9,
     "metadata": {},
     "output_type": "execute_result"
    }
   ],
   "source": [
    "reduced_df['text']"
   ]
  },
  {
   "cell_type": "markdown",
   "metadata": {
    "colab_type": "text",
    "id": "0UNy0vvhhqpD"
   },
   "source": [
    "There are 43 tags in this dataset. Some of the tags are Yes-No-Question('qy'), Statement-non-opinion('sd') and Statement-opinion('sv'). Tags information can be found here http://compprag.christopherpotts.net/swda.html#tags. \n"
   ]
  },
  {
   "cell_type": "markdown",
   "metadata": {
    "colab_type": "text",
    "id": "9biiyP8UiGDe"
   },
   "source": [
    "To get unique tags:"
   ]
  },
  {
   "cell_type": "code",
   "execution_count": 10,
   "metadata": {
    "colab": {},
    "colab_type": "code",
    "id": "BrhW8gyLfQQK"
   },
   "outputs": [],
   "source": [
    "unique_tags = set()\n",
    "for tag in reduced_df['act_tag']:\n",
    "    unique_tags.add(tag)"
   ]
  },
  {
   "cell_type": "code",
   "execution_count": 11,
   "metadata": {
    "colab": {},
    "colab_type": "code",
    "id": "LMOX5KwgiPmu"
   },
   "outputs": [],
   "source": [
    "one_hot_encoding_dic = pd.get_dummies(list(unique_tags))\n"
   ]
  },
  {
   "cell_type": "code",
   "execution_count": 12,
   "metadata": {
    "colab": {},
    "colab_type": "code",
    "id": "ZPHPCxE3iPby"
   },
   "outputs": [],
   "source": [
    "tags_encoding = []\n",
    "for i in range(0, len(reduced_df)):\n",
    "    tags_encoding.append(one_hot_encoding_dic[reduced_df['act_tag'].iloc[i]])"
   ]
  },
  {
   "cell_type": "markdown",
   "metadata": {
    "colab_type": "text",
    "id": "LVI8QyVzjqWh"
   },
   "source": [
    "The tags are one hot encoded."
   ]
  },
  {
   "cell_type": "markdown",
   "metadata": {
    "colab_type": "text",
    "id": "SQJTiffPjUtu"
   },
   "source": [
    "To create sentence embeddings:"
   ]
  },
  {
   "cell_type": "code",
   "execution_count": 13,
   "metadata": {
    "colab": {},
    "colab_type": "code",
    "id": "PmkyD1TfjWGO"
   },
   "outputs": [],
   "source": [
    "sentences = []\n",
    "for i in range(0, len(reduced_df)):\n",
    "    sentences.append(reduced_df['text'].iloc[i].split(\" \"))\n"
   ]
  },
  {
   "cell_type": "code",
   "execution_count": 14,
   "metadata": {
    "colab": {},
    "colab_type": "code",
    "id": "MlD6L6e3jV-7"
   },
   "outputs": [],
   "source": [
    "wordvectors = {}\n",
    "index = 1\n",
    "for s in sentences:\n",
    "    for w in s:\n",
    "        if w not in wordvectors:\n",
    "            wordvectors[w] = index\n",
    "            index += 1"
   ]
  },
  {
   "cell_type": "code",
   "execution_count": 15,
   "metadata": {
    "colab": {},
    "colab_type": "code",
    "id": "e7_cjDHrjV1c"
   },
   "outputs": [],
   "source": [
    "# Max length of 137\n",
    "MAX_LENGTH = len(max(sentences, key=len))"
   ]
  },
  {
   "cell_type": "code",
   "execution_count": 16,
   "metadata": {
    "colab": {},
    "colab_type": "code",
    "id": "LX6DidEvjVWs"
   },
   "outputs": [],
   "source": [
    "sentence_embeddings = []\n",
    "for s in sentences:\n",
    "    sentence_emb = []\n",
    "    for w in s:\n",
    "        sentence_emb.append(wordvectors[w])\n",
    "    sentence_embeddings.append(sentence_emb)\n"
   ]
  },
  {
   "cell_type": "markdown",
   "metadata": {
    "colab_type": "text",
    "id": "Nr4iEyNTjmlu"
   },
   "source": [
    "Then we split the dataset into test and train."
   ]
  },
  {
   "cell_type": "code",
   "execution_count": 17,
   "metadata": {
    "colab": {},
    "colab_type": "code",
    "id": "GiNZ-iI_jnOF"
   },
   "outputs": [],
   "source": [
    "from sklearn.model_selection import train_test_split\n",
    "import numpy as np\n",
    "X_train, X_test, y_train, y_test = train_test_split(sentence_embeddings, np.array(tags_encoding))\n"
   ]
  },
  {
   "cell_type": "markdown",
   "metadata": {
    "colab_type": "text",
    "id": "_RqMeWe_jron"
   },
   "source": [
    "And pad the sentences with zero to make all sentences of equal length.\n"
   ]
  },
  {
   "cell_type": "code",
   "execution_count": 18,
   "metadata": {
    "colab": {},
    "colab_type": "code",
    "id": "yqD7DvzRGRY7"
   },
   "outputs": [],
   "source": [
    "MAX_LENGTH = 137"
   ]
  },
  {
   "cell_type": "code",
   "execution_count": 19,
   "metadata": {
    "colab": {},
    "colab_type": "code",
    "id": "Ai9cwv82jufe"
   },
   "outputs": [],
   "source": [
    "from keras.preprocessing.sequence import pad_sequences\n",
    " \n",
    "train_sentences_X = pad_sequences(X_train, maxlen=MAX_LENGTH, padding='post')\n",
    "test_sentences_X = pad_sequences(X_test, maxlen=MAX_LENGTH, padding='post')"
   ]
  },
  {
   "cell_type": "markdown",
   "metadata": {
    "colab": {},
    "colab_type": "code",
    "id": "Z-AO0mle-fLO"
   },
   "source": [
    "Split Train into Train and Validation - about 10% into validation - In order to validate the model as it is training"
   ]
  },
  {
   "cell_type": "code",
   "execution_count": 20,
   "metadata": {
    "colab": {},
    "colab_type": "code",
    "id": "517zYSQLXkbn"
   },
   "outputs": [],
   "source": [
    "\n",
    "\n",
    "train_input = train_sentences_X[:140000]\n",
    "val_input = train_sentences_X[140000:]\n",
    "\n",
    "train_labels = y_train[:140000]\n",
    "val_labels = y_train[140000:]\n"
   ]
  },
  {
   "cell_type": "markdown",
   "metadata": {
    "colab_type": "text",
    "id": "kHJbZDtk7N-3"
   },
   "source": [
    "# Model 1 - \n",
    "\n",
    "The first approach we'll try is to treat DA tagging as a standard multi-class text classification task, in the way you've done before with sentiment analysis and other tasks. Each utterance will be treated independently as a text to be classified with its DA tag label. This model has an architecture of:\n",
    "\n",
    "- Embedding  \n",
    "- BLSTM  \n",
    "- Fully Connected Layer\n",
    "- Softmax Activation"
   ]
  },
  {
   "cell_type": "markdown",
   "metadata": {
    "colab_type": "text",
    "id": "FItlHC1Fjz6y"
   },
   "source": [
    " The model architecture is as follows: Embedding Layer (to generate word embeddings) Next layer Bidirectional LSTM. Feed forward layer with number of neurons = number of tags. Softmax activation to get the probabilities.\n"
   ]
  },
  {
   "cell_type": "code",
   "execution_count": 20,
   "metadata": {
    "colab": {},
    "colab_type": "code",
    "id": "M97Sw5iv-lEU"
   },
   "outputs": [],
   "source": [
    "VOCAB_SIZE = len(wordvectors) # 43,731\n",
    "MAX_LENGTH = len(max(sentences, key=len))\n",
    "EMBED_SIZE = 100 # arbitary\n",
    "HIDDEN_SIZE = len(unique_tags) "
   ]
  },
  {
   "cell_type": "code",
   "execution_count": 23,
   "metadata": {},
   "outputs": [
    {
     "name": "stdout",
     "output_type": "stream",
     "text": [
      "Model: \"sequential_2\"\n",
      "_________________________________________________________________\n",
      "Layer (type)                 Output Shape              Param #   \n",
      "=================================================================\n",
      "embedding_2 (Embedding)      (None, 137, 100)          4373100   \n",
      "_________________________________________________________________\n",
      "bidirectional_2 (Bidirection (None, 137, 86)           49536     \n",
      "_________________________________________________________________\n",
      "bidirectional_3 (Bidirection (None, 86)                44720     \n",
      "_________________________________________________________________\n",
      "dense_2 (Dense)              (None, 43)                3741      \n",
      "_________________________________________________________________\n",
      "activation_2 (Activation)    (None, 43)                0         \n",
      "=================================================================\n",
      "Total params: 4,471,097\n",
      "Trainable params: 4,471,097\n",
      "Non-trainable params: 0\n",
      "_________________________________________________________________\n"
     ]
    }
   ],
   "source": [
    "from keras.models import Sequential\n",
    "from keras.layers import LSTM\n",
    "from keras.layers import Dense\n",
    "from keras.layers import Dropout, InputLayer, Bidirectional, TimeDistributed, Activation, Embedding\n",
    "from keras.optimizers import Adam\n",
    "\n",
    "#Building the network\n",
    "\n",
    "# Include 2 BLSTM layers, in order to capture both the forward and backward hidden states\n",
    "\n",
    "# Embedding layer\n",
    "# Bidirectional 1\n",
    "# Bidirectional 2\n",
    "# Dense layer\n",
    "# Activation\n",
    "##\n",
    "model = Sequential()\n",
    "model.add(Embedding(VOCAB_SIZE,EMBED_SIZE,input_length=MAX_LENGTH))\n",
    "model.add(Bidirectional(LSTM(HIDDEN_SIZE,return_sequences=True,recurrent_dropout=0.7)))\n",
    "model.add(Bidirectional(LSTM(HIDDEN_SIZE,recurrent_dropout=0.7)))\n",
    "model.add(Dense(HIDDEN_SIZE))\n",
    "# model.add(TimeDistributed(Dense(1)))\n",
    "model.add(Activation('sigmoid'))\n",
    "##\n",
    "model.compile(loss='categorical_crossentropy',optimizer='adam',metrics=['accuracy'])\n",
    "\n",
    "model.summary()"
   ]
  },
  {
   "cell_type": "code",
   "execution_count": 24,
   "metadata": {
    "colab": {
     "base_uri": "https://localhost:8080/",
     "height": 205
    },
    "colab_type": "code",
    "id": "OeiLkgD3Arpl",
    "outputId": "dbf7ed58-571c-4ab2-b624-bcd98ed6eedf"
   },
   "outputs": [
    {
     "name": "stdout",
     "output_type": "stream",
     "text": [
      "Train on 140000 samples, validate on 27704 samples\n",
      "Epoch 1/3\n",
      "140000/140000 [==============================] - 199s 1ms/step - loss: 2.0552 - accuracy: 0.3849 - val_loss: 1.3632 - val_accuracy: 0.6115\n",
      "Epoch 2/3\n",
      "140000/140000 [==============================] - 198s 1ms/step - loss: 1.2218 - accuracy: 0.6415 - val_loss: 1.1332 - val_accuracy: 0.6623\n",
      "Epoch 3/3\n",
      "140000/140000 [==============================] - 198s 1ms/step - loss: 1.0326 - accuracy: 0.6983 - val_loss: 1.0491 - val_accuracy: 0.6903\n"
     ]
    }
   ],
   "source": [
    "# Train the model - using validation \n",
    "history = model.fit(train_input,\n",
    "                    train_labels,\n",
    "                    epochs=3,\n",
    "                    batch_size=256,\n",
    "                    validation_data=(val_input, val_labels),\n",
    "                    verbose=1)"
   ]
  },
  {
   "cell_type": "code",
   "execution_count": 30,
   "metadata": {
    "colab": {},
    "colab_type": "code",
    "id": "2LkONUKQkSrL"
   },
   "outputs": [
    {
     "name": "stdout",
     "output_type": "stream",
     "text": [
      "55902/55902 [==============================] - 67s 1ms/step\n"
     ]
    }
   ],
   "source": [
    "score = model.evaluate(test_sentences_X, y_test, batch_size=100)"
   ]
  },
  {
   "cell_type": "code",
   "execution_count": 29,
   "metadata": {
    "colab": {},
    "colab_type": "code",
    "id": "Ab0ZL1dqkTY4"
   },
   "outputs": [
    {
     "name": "stdout",
     "output_type": "stream",
     "text": [
      "Overall Accuracy: 68.79181265830994\n"
     ]
    }
   ],
   "source": [
    "print(\"Overall Accuracy:\", score[1]*100)\n"
   ]
  },
  {
   "cell_type": "markdown",
   "metadata": {
    "colab_type": "text",
    "id": "LhMViQVSPY1J"
   },
   "source": [
    "## Evaluation\n",
    "\n",
    "\n",
    "The overall accuracy is 67%, an effective accuracy for this task."
   ]
  },
  {
   "cell_type": "markdown",
   "metadata": {
    "colab_type": "text",
    "id": "XHwoVCEwjEz7"
   },
   "source": [
    "In addition to overall accuracy, you need to look at the accuracy of some minority classes. Signal-non-understanding ('br') is a good indicator of \"other-repair\" or cases in which the other conversational participant attempts to repair the speaker's error. Summarize/reformulate ('bf') has been used in dialogue summarization. Report the accuracy for these classes and some frequent errors you notice the system makes in predicting them. What do you think the reasons are？"
   ]
  },
  {
   "cell_type": "markdown",
   "metadata": {
    "colab_type": "text",
    "id": "H7owA1f27se8"
   },
   "source": [
    "## Minority Classes"
   ]
  },
  {
   "cell_type": "code",
   "execution_count": 31,
   "metadata": {
    "colab": {},
    "colab_type": "code",
    "id": "UZ8BwgDxNcIr"
   },
   "outputs": [
    {
     "name": "stdout",
     "output_type": "stream",
     "text": [
      "167704/167704 [==============================] - 201s 1ms/step\n",
      "Accuracy on training data: 0.7213364243507385% \n",
      " Error on training data: 0.2786635756492615\n",
      "55902/55902 [==============================] - 66s 1ms/step\n",
      "Accuracy on test data: 0.6879181265830994% \n",
      " Error on test data: 0.31208187341690063\n"
     ]
    }
   ],
   "source": [
    "# Generate predictions for the test data\n",
    "pred_train= model.predict(train_sentences_X)\n",
    "scores = model.evaluate(train_sentences_X, y_train, batch_size=100)\n",
    "print('Accuracy on training data: {}% \\n Error on training data: {}'.format(scores[1], 1 - scores[1]))   \n",
    " \n",
    "pred_test= model.predict(test_sentences_X)\n",
    "scores2 = model.evaluate(test_sentences_X, y_test, batch_size=100)\n",
    "print('Accuracy on test data: {}% \\n Error on test data: {}'.format(scores2[1], 1 - scores2[1]))    "
   ]
  },
  {
   "cell_type": "code",
   "execution_count": 84,
   "metadata": {
    "colab": {},
    "colab_type": "code",
    "id": "5I26g20qQdzF"
   },
   "outputs": [
    {
     "name": "stdout",
     "output_type": "stream",
     "text": [
      "Normalized confusion matrix\n"
     ]
    },
    {
     "data": {
      "image/png": "[encoded data removed]",
      "text/plain": [
       "<Figure size 1728x1584 with 2 Axes>"
      ]
     },
     "metadata": {
      "needs_background": "light"
     },
     "output_type": "display_data"
    }
   ],
   "source": [
    "# Build the confusion matrix off these predictions\n",
    "from sklearn.metrics import confusion_matrix, classification_report\n",
    "from sklearn.metrics import plot_confusion_matrix\n",
    "import itertools\n",
    "matrix = confusion_matrix(y_test.argmax(axis=1), pred_test.argmax(axis=1))\n",
    "# classification_report(y_test.argmax(axis=1), pred_test.argmax(axis=1), target_names=one_hot_encoding_dic.columns)\n",
    "\n",
    "def plot_confusion_matrix(cm, classes,\n",
    "                          normalize=False,\n",
    "                          title='Confusion matrix',\n",
    "                          cmap=plt.cm.Blues):\n",
    "    \"\"\"\n",
    "    This function prints and plots the confusion matrix.\n",
    "    Normalization can be applied by setting `normalize=True`.\n",
    "    \"\"\"\n",
    "    if normalize:\n",
    "        cm = cm.astype('float') / cm.sum(axis=1)[:, np.newaxis]\n",
    "        print(\"Normalized confusion matrix\")\n",
    "    else:\n",
    "        print('Confusion matrix, without normalization')\n",
    "\n",
    "    # print(cm)\n",
    "\n",
    "    plt.imshow(cm, interpolation='nearest', cmap=cmap)\n",
    "    plt.title(title)\n",
    "    plt.colorbar()\n",
    "    tick_marks = np.arange(len(classes))\n",
    "    plt.xticks(tick_marks, classes, rotation=90)\n",
    "    plt.yticks(tick_marks, classes)\n",
    "\n",
    "    fmt = '.2f' if normalize else 'd'\n",
    "    thresh = cm.max() / 2.\n",
    "    for i, j in itertools.product(range(cm.shape[0]), range(cm.shape[1])):\n",
    "        plt.text(j, i, format(cm[i, j], fmt),\n",
    "                 horizontalalignment=\"center\",\n",
    "                 color=\"white\" if cm[i, j] > thresh else \"black\")\n",
    "\n",
    "    plt.tight_layout()\n",
    "    plt.ylabel('True label')\n",
    "    plt.xlabel('Predicted label')\n",
    "    \n",
    "\n",
    "# y_pred = model.predict(x_test);\n",
    "cnf_matrix = confusion_matrix(np.argmax(y_test, axis=1), np.argmax(pred_test, axis=1))\n",
    "\n",
    "# Plot normalized confusion matrix\n",
    "fig = plt.figure()\n",
    "fig.set_size_inches(24, 22, forward=True)\n",
    "#fig.align_labels()\n",
    "\n",
    "# fig.subplots_adjust(left=0.0, right=1.0, bottom=0.0, top=1.0)\n",
    "plot_confusion_matrix(cnf_matrix, classes=np.asarray(one_hot_encoding_dic.columns), normalize=True,\n",
    "                      title='Normalized confusion matrix')\n",
    "\n",
    "# fig.savefig(\"txt_classification-smote\" + str(num_epochs) + \".png\", pad_inches=5.0)\n",
    "\n"
   ]
  },
  {
   "cell_type": "code",
   "execution_count": 85,
   "metadata": {
    "colab": {},
    "colab_type": "code",
    "id": "muWtF2t0W0zd"
   },
   "outputs": [
    {
     "name": "stdout",
     "output_type": "stream",
     "text": [
      "bf 0.8951406649616368\n",
      "br 0.0\n"
     ]
    }
   ],
   "source": [
    "# Calculate Accuracies for \"br\" and \"bf\"\n",
    "#Now the normalize the diagonal entries\n",
    "# cnf_matrix = cnf_matrix.astype('float') / cnf_matrix.sum(axis=1)[:, np.newaxis]\n",
    "#array([[1.        , 0.        , 0.        ],\n",
    "#      [1.        , 0.        , 0.        ],\n",
    "#      [0.        , 0.33333333, 0.66666667]])\n",
    "\n",
    "#The diagonal entries are the accuracies of each class\n",
    "cnf_matrix = matrix.astype('float') / cnf_matrix.sum(axis=1)[:, np.newaxis]\n",
    "for i,j in zip(one_hot_encoding_dic.columns,cnf_matrix.diagonal()):\n",
    "    if i=='br' or i=='bf':\n",
    "        print(i,j)\n",
    "#array([1.        , 0.        , 0.66\n"
   ]
  },
  {
   "cell_type": "markdown",
   "metadata": {
    "colab_type": "text",
    "id": "HdnpWLggZ-6z"
   },
   "source": [
    "\n",
    "Due to the reduced lack of training data for the minority classes, these minority classifiers will not be very confident in classification, as they have not been fully optimised. The frequent classifiers will be more optimised and will generate more confident scores for all examples, effectively crowding out the less confident minority classifiers. \n",
    "\n",
    "\n"
   ]
  },
  {
   "cell_type": "markdown",
   "metadata": {
    "colab_type": "text",
    "id": "BZ16sE5F7x9e"
   },
   "source": [
    "# Model 2 - Balanced Network"
   ]
  },
  {
   "cell_type": "markdown",
   "metadata": {
    "colab_type": "text",
    "id": "hKHbOs4WkFaP"
   },
   "source": [
    "\n",
    "One thing we can do to try to improve performance is therefore to balance the data more sensibly. As the dataset is highly imbalanced, we can simply weight up the minority classes proportionally to their underrepresentation while training. "
   ]
  },
  {
   "cell_type": "code",
   "execution_count": 90,
   "metadata": {
    "colab": {},
    "colab_type": "code",
    "id": "6L4kNdf6kGEa"
   },
   "outputs": [],
   "source": [
    "import numpy as np\n",
    "from sklearn.utils.class_weight import compute_class_weight\n",
    "\n",
    "y_integers = np.argmax(tags_encoding, axis=1)\n",
    "class_weights = compute_class_weight('balanced', np.unique(y_integers), y_integers)\n",
    "d_class_weights = dict(enumerate(class_weights))"
   ]
  },
  {
   "cell_type": "code",
   "execution_count": 99,
   "metadata": {},
   "outputs": [
    {
     "data": {
      "text/plain": [
       "{0: 15.072868217054264,\n",
       " 1: 23.11173126614987,\n",
       " 2: 65.82455107447748,\n",
       " 3: 24.762569213732004,\n",
       " 4: 50.48679160081282,\n",
       " 5: 17.391771019677996,\n",
       " 6: 55.91547886971743,\n",
       " 7: 0.06896462388610163,\n",
       " 8: 1.4138497919749105,\n",
       " 9: 1.0840399280558102,\n",
       " 10: 6.1106222501571335,\n",
       " 11: 1.7105722154222767,\n",
       " 12: 4.23809253046758,\n",
       " 13: 65.00174418604651,\n",
       " 14: 44.44563705028821,\n",
       " 15: 3.7736861646471125,\n",
       " 16: 0.27821622892749026,\n",
       " 17: 8.996781202220971,\n",
       " 18: 17.16217668278456,\n",
       " 19: 66.66845557543232,\n",
       " 20: 5.411175374488783,\n",
       " 21: 50.00134168157424,\n",
       " 22: 6.915079168728353,\n",
       " 23: 4.91971573782755,\n",
       " 24: 7.914976461010229,\n",
       " 25: 0.33159925614613706,\n",
       " 26: 2.613135444665186,\n",
       " 27: 1.0924662888411178,\n",
       " 28: 4.2554333346020625,\n",
       " 29: 7.547372329294225,\n",
       " 30: 5.273975187508845,\n",
       " 31: 0.19603194989571837,\n",
       " 32: 25.121447028423773,\n",
       " 33: 0.13548733839357288,\n",
       " 34: 47.273995771670194,\n",
       " 35: 49.52513842746401,\n",
       " 36: 0.4660876162842808,\n",
       " 37: 18.182306066026996,\n",
       " 38: 4.272916626855975,\n",
       " 39: 9.33597762097616,\n",
       " 40: 2.011659394539157,\n",
       " 41: 3.972604686694974,\n",
       " 42: 7.123478814909206}"
      ]
     },
     "execution_count": 99,
     "metadata": {},
     "output_type": "execute_result"
    }
   ],
   "source": [
    "d_class_weights"
   ]
  },
  {
   "cell_type": "code",
   "execution_count": 91,
   "metadata": {},
   "outputs": [],
   "source": [
    "VOCAB_SIZE = len(wordvectors) # 43,731\n",
    "MAX_LENGTH = len(max(sentences, key=len))\n",
    "EMBED_SIZE = 100 # arbitary\n",
    "HIDDEN_SIZE = len(unique_tags) "
   ]
  },
  {
   "cell_type": "markdown",
   "metadata": {
    "colab_type": "text",
    "id": "zF1UM-ZMZoa1"
   },
   "source": [
    "## Define & Train the model"
   ]
  },
  {
   "cell_type": "code",
   "execution_count": 109,
   "metadata": {
    "colab": {},
    "colab_type": "code",
    "id": "xIRgRAzOPSAZ"
   },
   "outputs": [
    {
     "name": "stdout",
     "output_type": "stream",
     "text": [
      "Model: \"sequential_8\"\n",
      "_________________________________________________________________\n",
      "Layer (type)                 Output Shape              Param #   \n",
      "=================================================================\n",
      "embedding_8 (Embedding)      (None, 137, 100)          4373100   \n",
      "_________________________________________________________________\n",
      "bidirectional_14 (Bidirectio (None, 86)                49536     \n",
      "_________________________________________________________________\n",
      "dense_8 (Dense)              (None, 43)                3741      \n",
      "_________________________________________________________________\n",
      "activation_8 (Activation)    (None, 43)                0         \n",
      "=================================================================\n",
      "Total params: 4,426,377\n",
      "Trainable params: 4,426,377\n",
      "Non-trainable params: 0\n",
      "_________________________________________________________________\n"
     ]
    }
   ],
   "source": [
    "# Re-built the model for the balanced training\n",
    "from keras.models import Sequential\n",
    "from keras.layers import LSTM\n",
    "from keras.layers import Dense\n",
    "from keras.layers import Dropout, InputLayer, Bidirectional, TimeDistributed, Activation, Embedding\n",
    "from keras.optimizers import Adam\n",
    "\n",
    "#Building the network\n",
    "\n",
    "# Include 2 BLSTM layers, in order to capture both the forward and backward hidden states\n",
    "\n",
    "# Embedding layer\n",
    "# Bidirectional 1\n",
    "# Bidirectional 2\n",
    "# Dense layer\n",
    "# Activation\n",
    "##\n",
    "model_balanced = Sequential()\n",
    "model_balanced.add(Embedding(VOCAB_SIZE,EMBED_SIZE,input_length=MAX_LENGTH))\n",
    "# model_balanced.add(Bidirectional(LSTM(HIDDEN_SIZE,return_sequences=True,recurrent_dropout=0.7)))\n",
    "model_balanced.add(Bidirectional(LSTM(HIDDEN_SIZE,recurrent_dropout=0.7)))\n",
    "model_balanced.add(Dense(HIDDEN_SIZE))\n",
    "# model.add(TimeDistributed(Dense(1)))\n",
    "model_balanced.add(Activation('sigmoid'))\n",
    "##\n",
    "model_balanced.compile(loss='categorical_crossentropy',optimizer='adam',metrics=['accuracy'], )\n",
    "\n",
    "model_balanced.summary()\n"
   ]
  },
  {
   "cell_type": "code",
   "execution_count": 110,
   "metadata": {
    "colab": {},
    "colab_type": "code",
    "id": "xB2McUREkL4B"
   },
   "outputs": [
    {
     "name": "stdout",
     "output_type": "stream",
     "text": [
      "Train on 140000 samples, validate on 27704 samples\n",
      "Epoch 1/20\n",
      "140000/140000 [==============================] - 105s 751us/step - loss: 3.4882 - accuracy: 0.2358 - val_loss: 2.8830 - val_accuracy: 0.3668\n",
      "Epoch 2/20\n",
      "140000/140000 [==============================] - 103s 739us/step - loss: 2.4307 - accuracy: 0.3901 - val_loss: 2.0595 - val_accuracy: 0.4241\n",
      "Epoch 3/20\n",
      "140000/140000 [==============================] - 104s 741us/step - loss: 1.8213 - accuracy: 0.4368 - val_loss: 1.8901 - val_accuracy: 0.4464\n",
      "Epoch 4/20\n",
      "140000/140000 [==============================] - 103s 737us/step - loss: 1.4742 - accuracy: 0.4595 - val_loss: 1.7797 - val_accuracy: 0.4735\n",
      "Epoch 5/20\n",
      "140000/140000 [==============================] - 104s 742us/step - loss: 1.2285 - accuracy: 0.4976 - val_loss: 1.7691 - val_accuracy: 0.4497\n",
      "Epoch 6/20\n",
      "140000/140000 [==============================] - 103s 733us/step - loss: 1.0408 - accuracy: 0.5274 - val_loss: 1.6945 - val_accuracy: 0.4856\n",
      "Epoch 7/20\n",
      "140000/140000 [==============================] - 102s 730us/step - loss: 0.9161 - accuracy: 0.5566 - val_loss: 1.7087 - val_accuracy: 0.4760\n",
      "Epoch 8/20\n",
      "140000/140000 [==============================] - 103s 733us/step - loss: 0.8170 - accuracy: 0.5843 - val_loss: 1.6215 - val_accuracy: 0.4730\n",
      "Epoch 9/20\n",
      "140000/140000 [==============================] - 104s 740us/step - loss: 0.7498 - accuracy: 0.6047 - val_loss: 1.6698 - val_accuracy: 0.5014\n",
      "Epoch 10/20\n",
      "140000/140000 [==============================] - 104s 744us/step - loss: 0.6967 - accuracy: 0.6193 - val_loss: 1.6181 - val_accuracy: 0.5208\n",
      "Epoch 11/20\n",
      "140000/140000 [==============================] - 105s 746us/step - loss: 0.6525 - accuracy: 0.6322 - val_loss: 1.6030 - val_accuracy: 0.5164\n",
      "Epoch 12/20\n",
      "140000/140000 [==============================] - 103s 737us/step - loss: 0.6258 - accuracy: 0.6439 - val_loss: 1.6052 - val_accuracy: 0.4953\n",
      "Epoch 13/20\n",
      "140000/140000 [==============================] - 103s 739us/step - loss: 0.6011 - accuracy: 0.6536 - val_loss: 1.5769 - val_accuracy: 0.5345\n",
      "Epoch 14/20\n",
      "140000/140000 [==============================] - 104s 740us/step - loss: 0.5777 - accuracy: 0.6628 - val_loss: 1.6030 - val_accuracy: 0.5361\n",
      "Epoch 15/20\n",
      "140000/140000 [==============================] - 103s 738us/step - loss: 0.5603 - accuracy: 0.6697 - val_loss: 1.5729 - val_accuracy: 0.5380\n",
      "Epoch 16/20\n",
      "140000/140000 [==============================] - 104s 740us/step - loss: 0.5436 - accuracy: 0.6747 - val_loss: 1.6162 - val_accuracy: 0.5300\n",
      "Epoch 17/20\n",
      "140000/140000 [==============================] - 104s 742us/step - loss: 0.5335 - accuracy: 0.6825 - val_loss: 1.5564 - val_accuracy: 0.5460\n",
      "Epoch 18/20\n",
      "140000/140000 [==============================] - 104s 744us/step - loss: 0.5200 - accuracy: 0.6880 - val_loss: 1.5902 - val_accuracy: 0.5468\n",
      "Epoch 19/20\n",
      "140000/140000 [==============================] - 103s 737us/step - loss: 0.5106 - accuracy: 0.6937 - val_loss: 1.6159 - val_accuracy: 0.5326\n",
      "Epoch 20/20\n",
      "140000/140000 [==============================] - 104s 740us/step - loss: 0.5001 - accuracy: 0.6949 - val_loss: 1.6397 - val_accuracy: 0.5339\n"
     ]
    }
   ],
   "source": [
    "# Train the balanced network -  takes  time to achieve good accuracy\n",
    "# Train the model - using validation \n",
    "history = model_balanced.fit(train_input,\n",
    "                    train_labels,\n",
    "                    epochs=20,\n",
    "                    batch_size=256,\n",
    "                    validation_data=(val_input, val_labels),\n",
    "                    class_weight=d_class_weights,\n",
    "                    verbose=1)"
   ]
  },
  {
   "cell_type": "markdown",
   "metadata": {
    "colab_type": "text",
    "id": "DJPjlMclZtw2"
   },
   "source": [
    "## Test the model"
   ]
  },
  {
   "cell_type": "code",
   "execution_count": 111,
   "metadata": {
    "colab": {},
    "colab_type": "code",
    "id": "8UMAMGpJRINC"
   },
   "outputs": [
    {
     "name": "stdout",
     "output_type": "stream",
     "text": [
      "55902/55902 [==============================] - 34s 606us/step\n"
     ]
    }
   ],
   "source": [
    "# Overall Accuracy\n",
    "score = model_balanced.evaluate(test_sentences_X, y_test, batch_size=100)"
   ]
  },
  {
   "cell_type": "code",
   "execution_count": 112,
   "metadata": {
    "colab": {},
    "colab_type": "code",
    "id": "0xzLIkTarjei"
   },
   "outputs": [
    {
     "name": "stdout",
     "output_type": "stream",
     "text": [
      "Overall Accuracy: 53.29862833023071\n"
     ]
    }
   ],
   "source": [
    "print(\"Overall Accuracy:\", score[1]*100)"
   ]
  },
  {
   "cell_type": "code",
   "execution_count": 115,
   "metadata": {
    "colab": {},
    "colab_type": "code",
    "id": "qkULcz2igEW3"
   },
   "outputs": [],
   "source": [
    "# Generate predictions for the test data\n",
    "label_pred = model_balanced.predict(test_sentences_X, batch_size=100)"
   ]
  },
  {
   "cell_type": "markdown",
   "metadata": {
    "colab_type": "text",
    "id": "hq7i7giWZ4_l"
   },
   "source": [
    "## Balanced network evaluation"
   ]
  },
  {
   "cell_type": "markdown",
   "metadata": {
    "colab_type": "text",
    "id": "fM7VWweco0Et"
   },
   "source": [
    "Report the overall accuracy and the accuracy of  'br' and 'bf'  classes. Suggest other ways to handle imbalanced classes."
   ]
  },
  {
   "cell_type": "code",
   "execution_count": 116,
   "metadata": {
    "colab": {},
    "colab_type": "code",
    "id": "4jNfWmSNgRvT"
   },
   "outputs": [
    {
     "name": "stdout",
     "output_type": "stream",
     "text": [
      "bf 0.80306905370844\n",
      "br 0.3116883116883117\n"
     ]
    }
   ],
   "source": [
    "# Build the confusion matrix off these predictions\n",
    "\n",
    "matrix_balanced = sklearn.metrics.confusion_matrix(y_test.argmax(axis=1), label_pred.argmax(axis=1))\n",
    "\n",
    "# Calculate Accuracies for \"br\" and \"bf\"\n",
    "cnf_matrix = matrix_balanced.astype('float') / cnf_matrix.sum(axis=1)[:, np.newaxis]\n",
    "for i,j in zip(one_hot_encoding_dic.columns,cnf_matrix.diagonal()):\n",
    "    if i=='br' or i=='bf':\n",
    "        print(i,j)\n"
   ]
  },
  {
   "cell_type": "markdown",
   "metadata": {
    "colab_type": "text",
    "id": "Zi9GyVUvPcrF"
   },
   "source": [
    "\n",
    "\n",
    "### Accuracies\n",
    "\n",
    "\n",
    "\n",
    "### Explanation\n",
    "\n",
    "\n",
    "### Other ways to handle imbalanced classes\n",
    "\n",
    "\n",
    "- \n",
    "\n",
    "- "
   ]
  },
  {
   "cell_type": "markdown",
   "metadata": {
    "colab_type": "text",
    "id": "fW4g5mQkkaFv"
   },
   "source": [
    "Can we improve things by using context information?  Next we try to build a model which predicts DA tag from the sequence of \n",
    "previous DA tags, plus the utterance representation. "
   ]
  },
  {
   "cell_type": "markdown",
   "metadata": {
    "colab_type": "text",
    "id": "WfrGWuZ6nk4y"
   },
   "source": [
    "# Using Context for Dialog Act Classification\n",
    "\n",
    "The second approach we will try is a hierarchical approach to DA tagging. We expect there is valuable sequential information among the DA tags. So in this section we apply a BiLSTM on top of the sentence CNN representation. The CNN model learns textual information in each utterance for DA classification, acting like the text classifier from Model 1 above. Then we use a bidirectional-LSTM (BLSTM) above that to learn how to use the context before and after the current utterance to improve the output."
   ]
  },
  {
   "cell_type": "markdown",
   "metadata": {
    "colab_type": "text",
    "id": "7qyPpNaK-2mb"
   },
   "source": [
    "## Define the model\n",
    "\n",
    "This model has an architecture of:\n",
    "\n",
    "- Word Embedding\n",
    "- CNN\n",
    "- Bidirectional LSTM\n",
    "- Fully-Connected output\n",
    "\n"
   ]
  },
  {
   "cell_type": "markdown",
   "metadata": {
    "colab_type": "text",
    "id": "DuJLqgjWqcIf"
   },
   "source": [
    "## CNN\n",
    "\n",
    "\n",
    "This is a classical CNN layer used to convolve over embedings tensor and gether useful information from it. The data is represented by hierarchy of features, which can be modelled using a CNN. We transform/reshape conv output to 2d matrix. Then we pass it to the max pooling layer that applies the max pool operation on windows of different sizes."
   ]
  },
  {
   "cell_type": "code",
   "execution_count": 21,
   "metadata": {
    "colab": {},
    "colab_type": "code",
    "id": "XA5INtFl-fM0"
   },
   "outputs": [
    {
     "name": "stdout",
     "output_type": "stream",
     "text": [
      "WARNING:tensorflow:From /homes/nv304/virtpy3/lib/python3.6/site-packages/tensorflow/python/ops/resource_variable_ops.py:435: colocate_with (from tensorflow.python.framework.ops) is deprecated and will be removed in a future version.\n",
      "Instructions for updating:\n",
      "Colocations handled automatically by placer.\n"
     ]
    }
   ],
   "source": [
    "from keras.models import Sequential\n",
    "from keras.layers import LSTM\n",
    "from keras.layers import Dense\n",
    "from keras import Model,Input\n",
    "# from keras.layers.merge import Concatenate\n",
    "from keras.layers import Dropout, InputLayer, Bidirectional, TimeDistributed, Activation, Embedding, Reshape, concatenate, Conv2D, BatchNormalization, MaxPool2D, Flatten\n",
    "from keras.optimizers import Adam\n",
    "\n",
    "filter_sizes = [3,4,5]\n",
    "num_filters = 64\n",
    "drop = 0.2\n",
    "VOCAB_SIZE = len(wordvectors) # 43,731\n",
    "MAX_LENGTH = len(max(sentences, key=len))\n",
    "EMBED_SIZE = 100 # arbitary\n",
    "HIDDEN_SIZE = len(unique_tags) \n",
    "\n",
    "# CNN model\n",
    "inputs = Input(shape=(MAX_LENGTH, ), dtype='int32')\n",
    "embedding = Embedding(input_dim=VOCAB_SIZE, output_dim=EMBED_SIZE, input_length=MAX_LENGTH)(inputs)\n",
    "reshape = Reshape((MAX_LENGTH, EMBED_SIZE, 1))(embedding)\n",
    "\n",
    "# 3 convolutions\n",
    "conv_0 = Conv2D(num_filters, kernel_size=(filter_sizes[0], EMBED_SIZE), strides=1, padding='valid', kernel_initializer='normal', activation='relu')(reshape)\n",
    "bn_0 = BatchNormalization()(conv_0)\n",
    "conv_1 = Conv2D(num_filters, kernel_size=(filter_sizes[1], EMBED_SIZE), strides=1, padding='valid', kernel_initializer='normal', activation='relu')(reshape)\n",
    "bn_1 = BatchNormalization()(conv_1)\n",
    "conv_2 = Conv2D(num_filters, kernel_size=(filter_sizes[2], EMBED_SIZE), strides=1, padding='valid', kernel_initializer='normal', activation='relu')(reshape)\n",
    "bn_2 = BatchNormalization()(conv_2)\n",
    "\n",
    "# maxpool for 3 layers\n",
    "maxpool_0 = MaxPool2D(pool_size=(MAX_LENGTH - filter_sizes[0] + 1, 1), padding='valid')(bn_0)\n",
    "maxpool_1 = MaxPool2D(pool_size=(MAX_LENGTH - filter_sizes[1] + 1, 1), padding='valid')(bn_1)\n",
    "maxpool_2 = MaxPool2D(pool_size=(MAX_LENGTH - filter_sizes[2] + 1, 1), padding='valid')(bn_2)\n",
    "\n",
    "# concatenate tensors\n",
    "# concatenate_tensors = Concatenate()([maxpool_0, maxpool_1, maxpool_2]) # dim 4\n",
    "concatenate_tensors = concatenate([maxpool_0, maxpool_1,maxpool_2],axis=-1)\n",
    "# flatten concatenated tensors\n",
    "flatten_concat = Flatten()(concatenate_tensors) # dim 2\n",
    "# dense layer (dense_1)\n",
    "dense_1 = Dense(HIDDEN_SIZE)(flatten_concat) # dim 2\n",
    "# dropout_1\n",
    "dropout_1 = Dropout(drop)(dense_1) # dim 2"
   ]
  },
  {
   "cell_type": "markdown",
   "metadata": {
    "colab_type": "text",
    "id": "wDuERMw7-rAV"
   },
   "source": [
    "## BLSTM\n",
    "\n",
    "This is used to create LSTM layers. The data we’re working with has temporal properties which we want to model as well — hence the use of a LSTM. You should create a BiLSTM."
   ]
  },
  {
   "cell_type": "code",
   "execution_count": 22,
   "metadata": {
    "colab": {},
    "colab_type": "code",
    "id": "pFGp2EWI-fM7"
   },
   "outputs": [],
   "source": [
    "# BLSTM model\n",
    "time_xx = TimeDistributed(Dense(HIDDEN_SIZE))(concatenate_tensors)\n",
    "time_xx_reshape = Reshape((time_xx.shape[1]*time_xx.shape[2],int(time_xx.shape[3])),input_shape=time_xx.shape[1:4])(time_xx)\n",
    "# https://github.com/keras-team/keras/issues/11425\n",
    "\n",
    "# Bidirectional 1\n",
    "b1 = Bidirectional(LSTM(HIDDEN_SIZE, return_sequences=True))(time_xx_reshape)\n",
    "# Bidirectional 2\n",
    "b2 = Bidirectional(LSTM(HIDDEN_SIZE))(b1)\n",
    "# Dense layer (dense_2)\n",
    "dense_2 = Dense(HIDDEN_SIZE)(b2)\n",
    "# dropout_2\n",
    "dropout_2 = Dropout(drop)(dense_2)\n"
   ]
  },
  {
   "cell_type": "markdown",
   "metadata": {
    "colab_type": "text",
    "id": "7wluAkx6AQUb"
   },
   "source": [
    "Concatenate 2 last layers and create the output layer"
   ]
  },
  {
   "cell_type": "code",
   "execution_count": 23,
   "metadata": {
    "colab": {},
    "colab_type": "code",
    "id": "kzrhgkX2-fNE"
   },
   "outputs": [
    {
     "name": "stdout",
     "output_type": "stream",
     "text": [
      "Model: \"model_1\"\n",
      "__________________________________________________________________________________________________\n",
      "Layer (type)                    Output Shape         Param #     Connected to                     \n",
      "==================================================================================================\n",
      "input_1 (InputLayer)            (None, 137)          0                                            \n",
      "__________________________________________________________________________________________________\n",
      "embedding_1 (Embedding)         (None, 137, 100)     4373100     input_1[0][0]                    \n",
      "__________________________________________________________________________________________________\n",
      "reshape_1 (Reshape)             (None, 137, 100, 1)  0           embedding_1[0][0]                \n",
      "__________________________________________________________________________________________________\n",
      "conv2d_1 (Conv2D)               (None, 135, 1, 64)   19264       reshape_1[0][0]                  \n",
      "__________________________________________________________________________________________________\n",
      "conv2d_2 (Conv2D)               (None, 134, 1, 64)   25664       reshape_1[0][0]                  \n",
      "__________________________________________________________________________________________________\n",
      "conv2d_3 (Conv2D)               (None, 133, 1, 64)   32064       reshape_1[0][0]                  \n",
      "__________________________________________________________________________________________________\n",
      "batch_normalization_1 (BatchNor (None, 135, 1, 64)   256         conv2d_1[0][0]                   \n",
      "__________________________________________________________________________________________________\n",
      "batch_normalization_2 (BatchNor (None, 134, 1, 64)   256         conv2d_2[0][0]                   \n",
      "__________________________________________________________________________________________________\n",
      "batch_normalization_3 (BatchNor (None, 133, 1, 64)   256         conv2d_3[0][0]                   \n",
      "__________________________________________________________________________________________________\n",
      "max_pooling2d_1 (MaxPooling2D)  (None, 1, 1, 64)     0           batch_normalization_1[0][0]      \n",
      "__________________________________________________________________________________________________\n",
      "max_pooling2d_2 (MaxPooling2D)  (None, 1, 1, 64)     0           batch_normalization_2[0][0]      \n",
      "__________________________________________________________________________________________________\n",
      "max_pooling2d_3 (MaxPooling2D)  (None, 1, 1, 64)     0           batch_normalization_3[0][0]      \n",
      "__________________________________________________________________________________________________\n",
      "concatenate_1 (Concatenate)     (None, 1, 1, 192)    0           max_pooling2d_1[0][0]            \n",
      "                                                                 max_pooling2d_2[0][0]            \n",
      "                                                                 max_pooling2d_3[0][0]            \n",
      "__________________________________________________________________________________________________\n",
      "time_distributed_1 (TimeDistrib (None, 1, 1, 43)     8299        concatenate_1[0][0]              \n",
      "__________________________________________________________________________________________________\n",
      "reshape_2 (Reshape)             (None, Dimension(1), 0           time_distributed_1[0][0]         \n",
      "__________________________________________________________________________________________________\n",
      "bidirectional_1 (Bidirectional) (None, Dimension(1), 29928       reshape_2[0][0]                  \n",
      "__________________________________________________________________________________________________\n",
      "flatten_1 (Flatten)             (None, 192)          0           concatenate_1[0][0]              \n",
      "__________________________________________________________________________________________________\n",
      "bidirectional_2 (Bidirectional) (None, 86)           44720       bidirectional_1[0][0]            \n",
      "__________________________________________________________________________________________________\n",
      "dense_1 (Dense)                 (None, 43)           8299        flatten_1[0][0]                  \n",
      "__________________________________________________________________________________________________\n",
      "dense_3 (Dense)                 (None, 43)           3741        bidirectional_2[0][0]            \n",
      "__________________________________________________________________________________________________\n",
      "dropout_1 (Dropout)             (None, 43)           0           dense_1[0][0]                    \n",
      "__________________________________________________________________________________________________\n",
      "dropout_2 (Dropout)             (None, 43)           0           dense_3[0][0]                    \n",
      "__________________________________________________________________________________________________\n",
      "concatenate_2 (Concatenate)     (None, 86)           0           dropout_1[0][0]                  \n",
      "                                                                 dropout_2[0][0]                  \n",
      "__________________________________________________________________________________________________\n",
      "dense_4 (Dense)                 (None, 43)           3741        concatenate_2[0][0]              \n",
      "__________________________________________________________________________________________________\n",
      "activation_1 (Activation)       (None, 43)           0           dense_4[0][0]                    \n",
      "==================================================================================================\n",
      "Total params: 4,549,588\n",
      "Trainable params: 4,549,204\n",
      "Non-trainable params: 384\n",
      "__________________________________________________________________________________________________\n"
     ]
    }
   ],
   "source": [
    "# concatenate 2 final layers\n",
    "y = concatenate([dropout_1, dropout_2],axis = -1)\n",
    "# output\n",
    "# out = Activation('sigmoid')(y)\n",
    "out = Dense(HIDDEN_SIZE)(y)\n",
    "out = Activation('sigmoid')(out)\n",
    "m = Model(inputs,out)\n",
    "m.compile(loss='categorical_crossentropy',optimizer='sgd',metrics=['accuracy'], )\n",
    "m.summary()\n"
   ]
  },
  {
   "cell_type": "code",
   "execution_count": 35,
   "metadata": {},
   "outputs": [
    {
     "name": "stdout",
     "output_type": "stream",
     "text": [
      "WARNING: pip is being invoked by an old script wrapper. This will fail in a future version of pip.\n",
      "Please see https://github.com/pypa/pip/issues/5599 for advice on fixing the underlying issue.\n",
      "To avoid this problem you can invoke Python with '-m pip' instead of running pip directly.\n",
      "Requirement already satisfied: pydot in /homes/nv304/virtpy3/lib/python3.6/site-packages (1.4.1)\n",
      "Requirement already satisfied: pyparsing>=2.1.4 in /homes/nv304/virtpy3/lib/python3.6/site-packages (from pydot) (2.4.7)\n"
     ]
    }
   ],
   "source": [
    "!pip install pydot"
   ]
  },
  {
   "cell_type": "code",
   "execution_count": 36,
   "metadata": {},
   "outputs": [
    {
     "ename": "ImportError",
     "evalue": "Failed to import `pydot`. Please install `pydot`. For example with `pip install pydot`.",
     "output_type": "error",
     "traceback": [
      "\u001b[0;31m---------------------------------------------------------------------------\u001b[0m",
      "\u001b[0;31mImportError\u001b[0m                               Traceback (most recent call last)",
      "\u001b[0;32m<ipython-input-36-660a0851a3ce>\u001b[0m in \u001b[0;36m<module>\u001b[0;34m\u001b[0m\n\u001b[1;32m      2\u001b[0m \u001b[0;32mfrom\u001b[0m \u001b[0mIPython\u001b[0m\u001b[0;34m.\u001b[0m\u001b[0mdisplay\u001b[0m \u001b[0;32mimport\u001b[0m \u001b[0mSVG\u001b[0m\u001b[0;34m\u001b[0m\u001b[0;34m\u001b[0m\u001b[0m\n\u001b[1;32m      3\u001b[0m \u001b[0;32mfrom\u001b[0m \u001b[0mkeras\u001b[0m\u001b[0;34m.\u001b[0m\u001b[0mutils\u001b[0m \u001b[0;32mimport\u001b[0m \u001b[0mvis_utils\u001b[0m\u001b[0;34m\u001b[0m\u001b[0;34m\u001b[0m\u001b[0m\n\u001b[0;32m----> 4\u001b[0;31m \u001b[0mSVG\u001b[0m\u001b[0;34m(\u001b[0m\u001b[0mvis_utils\u001b[0m\u001b[0;34m.\u001b[0m\u001b[0mmodel_to_dot\u001b[0m\u001b[0;34m(\u001b[0m\u001b[0mm\u001b[0m\u001b[0;34m,\u001b[0m \u001b[0mshow_shapes\u001b[0m\u001b[0;34m=\u001b[0m\u001b[0;32mTrue\u001b[0m\u001b[0;34m,\u001b[0m\u001b[0mshow_layer_names\u001b[0m\u001b[0;34m=\u001b[0m\u001b[0;32mTrue\u001b[0m\u001b[0;34m)\u001b[0m\u001b[0;34m.\u001b[0m\u001b[0mcreate\u001b[0m\u001b[0;34m(\u001b[0m\u001b[0mprog\u001b[0m\u001b[0;34m=\u001b[0m\u001b[0;34m'dot'\u001b[0m\u001b[0;34m,\u001b[0m \u001b[0mformat\u001b[0m\u001b[0;34m=\u001b[0m\u001b[0;34m'svg'\u001b[0m\u001b[0;34m)\u001b[0m\u001b[0;34m)\u001b[0m\u001b[0;34m\u001b[0m\u001b[0;34m\u001b[0m\u001b[0m\n\u001b[0m",
      "\u001b[0;32m~/virtpy3/lib/python3.6/site-packages/keras/utils/vis_utils.py\u001b[0m in \u001b[0;36mmodel_to_dot\u001b[0;34m(model, show_shapes, show_layer_names, rankdir, expand_nested, dpi, subgraph)\u001b[0m\n\u001b[1;32m     77\u001b[0m     \u001b[0;32mfrom\u001b[0m \u001b[0;34m.\u001b[0m\u001b[0;34m.\u001b[0m\u001b[0mmodels\u001b[0m \u001b[0;32mimport\u001b[0m \u001b[0mSequential\u001b[0m\u001b[0;34m\u001b[0m\u001b[0;34m\u001b[0m\u001b[0m\n\u001b[1;32m     78\u001b[0m \u001b[0;34m\u001b[0m\u001b[0m\n\u001b[0;32m---> 79\u001b[0;31m     \u001b[0m_check_pydot\u001b[0m\u001b[0;34m(\u001b[0m\u001b[0;34m)\u001b[0m\u001b[0;34m\u001b[0m\u001b[0;34m\u001b[0m\u001b[0m\n\u001b[0m\u001b[1;32m     80\u001b[0m     \u001b[0;32mif\u001b[0m \u001b[0msubgraph\u001b[0m\u001b[0;34m:\u001b[0m\u001b[0;34m\u001b[0m\u001b[0;34m\u001b[0m\u001b[0m\n\u001b[1;32m     81\u001b[0m         \u001b[0mdot\u001b[0m \u001b[0;34m=\u001b[0m \u001b[0mpydot\u001b[0m\u001b[0;34m.\u001b[0m\u001b[0mCluster\u001b[0m\u001b[0;34m(\u001b[0m\u001b[0mstyle\u001b[0m\u001b[0;34m=\u001b[0m\u001b[0;34m'dashed'\u001b[0m\u001b[0;34m,\u001b[0m \u001b[0mgraph_name\u001b[0m\u001b[0;34m=\u001b[0m\u001b[0mmodel\u001b[0m\u001b[0;34m.\u001b[0m\u001b[0mname\u001b[0m\u001b[0;34m)\u001b[0m\u001b[0;34m\u001b[0m\u001b[0;34m\u001b[0m\u001b[0m\n",
      "\u001b[0;32m~/virtpy3/lib/python3.6/site-packages/keras/utils/vis_utils.py\u001b[0m in \u001b[0;36m_check_pydot\u001b[0;34m()\u001b[0m\n\u001b[1;32m     20\u001b[0m     \u001b[0;32mif\u001b[0m \u001b[0mpydot\u001b[0m \u001b[0;32mis\u001b[0m \u001b[0;32mNone\u001b[0m\u001b[0;34m:\u001b[0m\u001b[0;34m\u001b[0m\u001b[0;34m\u001b[0m\u001b[0m\n\u001b[1;32m     21\u001b[0m         raise ImportError(\n\u001b[0;32m---> 22\u001b[0;31m             \u001b[0;34m'Failed to import `pydot`. '\u001b[0m\u001b[0;34m\u001b[0m\u001b[0;34m\u001b[0m\u001b[0m\n\u001b[0m\u001b[1;32m     23\u001b[0m             \u001b[0;34m'Please install `pydot`. '\u001b[0m\u001b[0;34m\u001b[0m\u001b[0;34m\u001b[0m\u001b[0m\n\u001b[1;32m     24\u001b[0m             'For example with `pip install pydot`.')\n",
      "\u001b[0;31mImportError\u001b[0m: Failed to import `pydot`. Please install `pydot`. For example with `pip install pydot`."
     ]
    }
   ],
   "source": [
    "import pydot\n",
    "from IPython.display import SVG\n",
    "from keras.utils import vis_utils\n",
    "SVG(vis_utils.model_to_dot(m, show_shapes=True,show_layer_names=True).create(prog='dot', format='svg'))"
   ]
  },
  {
   "cell_type": "code",
   "execution_count": 24,
   "metadata": {
    "colab": {},
    "colab_type": "code",
    "id": "3Jneg-GD-fNJ"
   },
   "outputs": [
    {
     "name": "stdout",
     "output_type": "stream",
     "text": [
      "WARNING:tensorflow:From /homes/nv304/virtpy3/lib/python3.6/site-packages/tensorflow/python/ops/math_ops.py:3066: to_int32 (from tensorflow.python.ops.math_ops) is deprecated and will be removed in a future version.\n",
      "Instructions for updating:\n",
      "Use tf.cast instead.\n",
      "Train on 140000 samples, validate on 27704 samples\n",
      "Epoch 1/30\n",
      "140000/140000 [==============================] - 16s 115us/step - loss: 1.8030 - accuracy: 0.5263 - val_loss: 1.3179 - val_accuracy: 0.6083\n",
      "Epoch 2/30\n",
      "140000/140000 [==============================] - 13s 89us/step - loss: 1.3007 - accuracy: 0.6280 - val_loss: 1.1731 - val_accuracy: 0.6477\n",
      "Epoch 3/30\n",
      "140000/140000 [==============================] - 13s 92us/step - loss: 1.1790 - accuracy: 0.6568 - val_loss: 1.1718 - val_accuracy: 0.6200\n",
      "Epoch 4/30\n",
      "140000/140000 [==============================] - 13s 91us/step - loss: 1.1060 - accuracy: 0.6720 - val_loss: 1.0704 - val_accuracy: 0.6680\n",
      "Epoch 5/30\n",
      "140000/140000 [==============================] - 13s 90us/step - loss: 1.0563 - accuracy: 0.6833 - val_loss: 1.0211 - val_accuracy: 0.6868\n",
      "Epoch 6/30\n",
      "140000/140000 [==============================] - 13s 92us/step - loss: 1.0181 - accuracy: 0.6925 - val_loss: 1.0082 - val_accuracy: 0.6877\n",
      "Epoch 7/30\n",
      "140000/140000 [==============================] - 13s 91us/step - loss: 0.9876 - accuracy: 0.6992 - val_loss: 1.0081 - val_accuracy: 0.6893\n",
      "Epoch 8/30\n",
      "140000/140000 [==============================] - 13s 94us/step - loss: 0.9622 - accuracy: 0.7078 - val_loss: 0.9776 - val_accuracy: 0.6970\n",
      "Epoch 9/30\n",
      "140000/140000 [==============================] - 13s 91us/step - loss: 0.9416 - accuracy: 0.7116 - val_loss: 1.0283 - val_accuracy: 0.6839\n",
      "Epoch 10/30\n",
      "140000/140000 [==============================] - 13s 91us/step - loss: 0.9220 - accuracy: 0.7166 - val_loss: 0.9505 - val_accuracy: 0.7037\n",
      "Epoch 11/30\n",
      "140000/140000 [==============================] - 13s 91us/step - loss: 0.9048 - accuracy: 0.7193 - val_loss: 0.9538 - val_accuracy: 0.7016\n",
      "Epoch 12/30\n",
      "140000/140000 [==============================] - 13s 92us/step - loss: 0.8853 - accuracy: 0.7246 - val_loss: 0.9586 - val_accuracy: 0.7030\n",
      "Epoch 13/30\n",
      "140000/140000 [==============================] - 13s 91us/step - loss: 0.8720 - accuracy: 0.7283 - val_loss: 0.9402 - val_accuracy: 0.7089\n",
      "Epoch 14/30\n",
      "140000/140000 [==============================] - 13s 92us/step - loss: 0.8557 - accuracy: 0.7328 - val_loss: 0.9667 - val_accuracy: 0.7026\n",
      "Epoch 15/30\n",
      "140000/140000 [==============================] - 13s 92us/step - loss: 0.8408 - accuracy: 0.7365 - val_loss: 0.9579 - val_accuracy: 0.7053\n",
      "Epoch 16/30\n",
      "140000/140000 [==============================] - 13s 93us/step - loss: 0.8267 - accuracy: 0.7403 - val_loss: 0.9472 - val_accuracy: 0.7064\n",
      "Epoch 17/30\n",
      "140000/140000 [==============================] - 13s 91us/step - loss: 0.8143 - accuracy: 0.7443 - val_loss: 0.9563 - val_accuracy: 0.7067\n",
      "Epoch 18/30\n",
      "140000/140000 [==============================] - 13s 92us/step - loss: 0.7992 - accuracy: 0.7482 - val_loss: 0.9395 - val_accuracy: 0.7052\n",
      "Epoch 19/30\n",
      "140000/140000 [==============================] - 13s 91us/step - loss: 0.7863 - accuracy: 0.7527 - val_loss: 0.9419 - val_accuracy: 0.7039\n",
      "Epoch 20/30\n",
      "140000/140000 [==============================] - 13s 91us/step - loss: 0.7730 - accuracy: 0.7560 - val_loss: 0.9622 - val_accuracy: 0.7062\n",
      "Epoch 21/30\n",
      "140000/140000 [==============================] - 13s 92us/step - loss: 0.7603 - accuracy: 0.7600 - val_loss: 0.9662 - val_accuracy: 0.7014\n",
      "Epoch 22/30\n",
      "140000/140000 [==============================] - 13s 92us/step - loss: 0.7473 - accuracy: 0.7628 - val_loss: 1.0116 - val_accuracy: 0.7028\n",
      "Epoch 23/30\n",
      "140000/140000 [==============================] - 13s 94us/step - loss: 0.7341 - accuracy: 0.7667 - val_loss: 0.9583 - val_accuracy: 0.7071\n",
      "Epoch 24/30\n",
      "140000/140000 [==============================] - 13s 93us/step - loss: 0.7232 - accuracy: 0.7711 - val_loss: 1.0269 - val_accuracy: 0.6837\n",
      "Epoch 25/30\n",
      "140000/140000 [==============================] - 13s 95us/step - loss: 0.7089 - accuracy: 0.7740 - val_loss: 0.9887 - val_accuracy: 0.7050\n",
      "Epoch 26/30\n",
      "140000/140000 [==============================] - 13s 94us/step - loss: 0.6972 - accuracy: 0.7782 - val_loss: 0.9804 - val_accuracy: 0.7066\n",
      "Epoch 27/30\n",
      "140000/140000 [==============================] - 13s 93us/step - loss: 0.6877 - accuracy: 0.7810 - val_loss: 1.1913 - val_accuracy: 0.6864\n",
      "Epoch 28/30\n",
      "140000/140000 [==============================] - 13s 90us/step - loss: 0.6740 - accuracy: 0.7857 - val_loss: 1.0303 - val_accuracy: 0.7015\n",
      "Epoch 29/30\n",
      "140000/140000 [==============================] - 13s 93us/step - loss: 0.6604 - accuracy: 0.7900 - val_loss: 1.0153 - val_accuracy: 0.7093\n",
      "Epoch 30/30\n",
      "140000/140000 [==============================] - 13s 93us/step - loss: 0.6470 - accuracy: 0.7941 - val_loss: 1.0462 - val_accuracy: 0.6920\n"
     ]
    }
   ],
   "source": [
    "# Train the model - using validation \n",
    "history = m.fit(train_input,\n",
    "                    train_labels,\n",
    "                    epochs=30,\n",
    "                    batch_size=128,\n",
    "                    validation_data=(val_input, val_labels),\n",
    "                    verbose=1)\n"
   ]
  },
  {
   "cell_type": "code",
   "execution_count": 25,
   "metadata": {
    "colab": {},
    "colab_type": "code",
    "id": "MSMRSX1u-fNO"
   },
   "outputs": [
    {
     "name": "stdout",
     "output_type": "stream",
     "text": [
      "55902/55902 [==============================] - 2s 38us/step\n"
     ]
    }
   ],
   "source": [
    "score = m.evaluate(test_sentences_X, y_test, batch_size=100)"
   ]
  },
  {
   "cell_type": "code",
   "execution_count": 26,
   "metadata": {
    "colab": {},
    "colab_type": "code",
    "id": "3qFMsXNS-fNS"
   },
   "outputs": [
    {
     "name": "stdout",
     "output_type": "stream",
     "text": [
      "Overall Accuracy: 69.4966197013855\n"
     ]
    }
   ],
   "source": [
    "print(\"Overall Accuracy:\", score[1]*100)"
   ]
  },
  {
   "cell_type": "code",
   "execution_count": 27,
   "metadata": {},
   "outputs": [],
   "source": [
    "# Generate predictions for the test data\n",
    "label_pred = m.predict(test_sentences_X, batch_size=100)"
   ]
  },
  {
   "cell_type": "code",
   "execution_count": 28,
   "metadata": {},
   "outputs": [],
   "source": [
    "from sklearn.metrics import confusion_matrix, classification_report\n",
    "from sklearn.metrics import plot_confusion_matrix\n",
    "import itertools"
   ]
  },
  {
   "cell_type": "code",
   "execution_count": 29,
   "metadata": {},
   "outputs": [],
   "source": [
    "cnf_matrix = confusion_matrix(np.argmax(y_test, axis=1), np.argmax(label_pred, axis=1))"
   ]
  },
  {
   "cell_type": "code",
   "execution_count": 30,
   "metadata": {},
   "outputs": [
    {
     "name": "stdout",
     "output_type": "stream",
     "text": [
      "bf 0.3968253968253968\n",
      "br 0.0755813953488372\n"
     ]
    }
   ],
   "source": [
    "# Build the confusion matrix off these predictions\n",
    "\n",
    "matrix = sklearn.metrics.confusion_matrix(y_test.argmax(axis=1), label_pred.argmax(axis=1))\n",
    "\n",
    "# Calculate Accuracies for \"br\" and \"bf\"\n",
    "cnf_matrix_ = matrix.astype('float') / cnf_matrix.sum(axis=1)[:, np.newaxis]\n",
    "for i,j in zip(one_hot_encoding_dic.columns,cnf_matrix_.diagonal()):\n",
    "    if i=='br' or i=='bf':\n",
    "        print(i,j)\n"
   ]
  },
  {
   "cell_type": "markdown",
   "metadata": {
    "colab_type": "text",
    "id": "RKMmrfuisKGJ"
   },
   "source": [
    "Report your overall accuracy. Did context help disambiguate and better predict the minority classes ('br' and 'bf')? What are frequent errors? Show one positive example where adding context changed the prediction.\n",
    "\n",
    "\n"
   ]
  },
  {
   "cell_type": "markdown",
   "metadata": {
    "colab_type": "text",
    "id": "QmO6hVsWTaNr"
   },
   "source": [
    "### Minority Classes\n",
    "\n"
   ]
  },
  {
   "cell_type": "markdown",
   "metadata": {
    "colab_type": "text",
    "id": "gUZt48JgrE34"
   },
   "source": [
    "# Advanced:  Bert-Based Model for Dialogue Act Tagging"
   ]
  },
  {
   "cell_type": "markdown",
   "metadata": {
    "colab_type": "text",
    "id": "zE63Q5guuPdA"
   },
   "source": [
    "In the last section we want to use BERT and leverage contextual word embeddings, following on from the last lab you've \n",
    "just done. This is an advanced part of the assignment and worth 10 marks (20%) in total. You could use your BERT-based text classifier here (instead of the CNN utterance-level classifier) and see if a pre-trained BERT language model helps. The domain difference from conversational data is one possible downside to using BERT. Explore some techniques to efficiently transfer the knowledge from conversational data and to improve model performance on DA tagging."
   ]
  },
  {
   "cell_type": "code",
   "execution_count": null,
   "metadata": {},
   "outputs": [],
   "source": []
  }
 ],
 "metadata": {
  "accelerator": "GPU",
  "colab": {
   "collapsed_sections": [],
   "name": "lab-11.ipynb",
   "provenance": []
  },
  "kernelspec": {
   "display_name": "Python 3",
   "language": "python",
   "name": "python3"
  },
  "language_info": {
   "codemirror_mode": {
    "name": "ipython",
    "version": 3
   },
   "file_extension": ".py",
   "mimetype": "text/x-python",
   "name": "python",
   "nbconvert_exporter": "python",
   "pygments_lexer": "ipython3",
   "version": "3.6.9"
  }
 },
 "nbformat": 4,
 "nbformat_minor": 1
}
