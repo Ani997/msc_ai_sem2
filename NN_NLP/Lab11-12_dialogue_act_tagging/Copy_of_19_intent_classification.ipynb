{
  "nbformat": 4,
  "nbformat_minor": 0,
  "metadata": {
    "colab": {
      "name": "Copy of 19.intent_classification.ipynb",
      "provenance": [],
      "collapsed_sections": [],
      "toc_visible": true,
      "machine_shape": "hm"
    },
    "kernelspec": {
      "name": "python3",
      "display_name": "Python 3"
    },
    "accelerator": "TPU"
  },
  "cells": [
    {
      "cell_type": "markdown",
      "metadata": {
        "id": "ROSg9T9EzYDf",
        "colab_type": "text"
      },
      "source": [
        "# Intent Recognition with BERT using Keras and TensorFlow 2"
      ]
    },
    {
      "cell_type": "code",
      "metadata": {
        "id": "LV210YNdrKIi",
        "colab_type": "code",
        "colab": {}
      },
      "source": [
        "!nvidia-smi"
      ],
      "execution_count": 0,
      "outputs": []
    },
    {
      "cell_type": "code",
      "metadata": {
        "id": "WaaST8ILn0oN",
        "colab_type": "code",
        "colab": {
          "base_uri": "https://localhost:8080/",
          "height": 114
        },
        "outputId": "2e989ec8-5805-448a-86b0-a05e18d1eabb"
      },
      "source": [
        "!pip install tensorflow-gpu >> /dev/null"
      ],
      "execution_count": 2,
      "outputs": [
        {
          "output_type": "stream",
          "text": [
            "\u001b[31mERROR: tensorflow 2.2.0rc3 has requirement gast==0.3.3, but you'll have gast 0.2.2 which is incompatible.\u001b[0m\n",
            "\u001b[31mERROR: tensorflow 2.2.0rc3 has requirement tensorboard<2.3.0,>=2.2.0, but you'll have tensorboard 2.1.1 which is incompatible.\u001b[0m\n",
            "\u001b[31mERROR: tensorflow 2.2.0rc3 has requirement tensorflow-estimator<2.3.0,>=2.2.0rc0, but you'll have tensorflow-estimator 2.1.0 which is incompatible.\u001b[0m\n",
            "\u001b[31mERROR: tensorflow-probability 0.10.0rc0 has requirement gast>=0.3.2, but you'll have gast 0.2.2 which is incompatible.\u001b[0m\n"
          ],
          "name": "stdout"
        }
      ]
    },
    {
      "cell_type": "code",
      "metadata": {
        "id": "WTWu7zZeKhfV",
        "colab_type": "code",
        "colab": {}
      },
      "source": [
        "!pip install --upgrade grpcio >> /dev/null"
      ],
      "execution_count": 0,
      "outputs": []
    },
    {
      "cell_type": "code",
      "metadata": {
        "id": "zCRkokr-n26J",
        "colab_type": "code",
        "colab": {}
      },
      "source": [
        "!pip install tqdm  >> /dev/null"
      ],
      "execution_count": 0,
      "outputs": []
    },
    {
      "cell_type": "code",
      "metadata": {
        "id": "-zgaripn6hjX",
        "colab_type": "code",
        "colab": {}
      },
      "source": [
        "!pip install bert-for-tf2 >> /dev/null"
      ],
      "execution_count": 0,
      "outputs": []
    },
    {
      "cell_type": "code",
      "metadata": {
        "id": "9nd4u1Qz6ms5",
        "colab_type": "code",
        "colab": {}
      },
      "source": [
        "!pip install sentencepiece >> /dev/null"
      ],
      "execution_count": 0,
      "outputs": []
    },
    {
      "cell_type": "code",
      "metadata": {
        "id": "VLPwBaua6jf2",
        "colab_type": "code",
        "colab": {}
      },
      "source": [
        "import os, glob\n",
        "from tqdm import tqdm\n",
        "import pandas as pd\n",
        "import numpy as np\n",
        "import tensorflow as tf\n",
        "from tensorflow.keras.models import Model \n",
        "from tensorflow.keras.layers import Dense\n",
        "from tensorflow.keras import backend as K\n",
        "from tensorflow.keras.utils import plot_model\n",
        "\n",
        "import bert\n",
        "from bert import BertModelLayer\n",
        "from bert.loader import StockBertConfig, map_stock_config_to_params, load_stock_weights\n",
        "from bert.tokenization.bert_tokenization import FullTokenizer\n",
        "\n",
        "import matplotlib.pyplot as plt\n",
        "from sklearn.metrics import confusion_matrix, classification_report\n",
        "from collections import Counter"
      ],
      "execution_count": 0,
      "outputs": []
    },
    {
      "cell_type": "markdown",
      "metadata": {
        "id": "CzkSXum8RzGM",
        "colab_type": "text"
      },
      "source": [
        "# Data\n",
        "\n",
        "Unzip swda.zip and drop all the extra columns keep text and tag and create three datasets in train.csv, val.csv and test.csv "
      ]
    },
    {
      "cell_type": "code",
      "metadata": {
        "id": "efW3Y6NDMUs1",
        "colab_type": "code",
        "colab": {}
      },
      "source": [
        "!unzip swda.zip > /dev/null"
      ],
      "execution_count": 0,
      "outputs": []
    },
    {
      "cell_type": "code",
      "metadata": {
        "id": "cUGGqUiaMp5w",
        "colab_type": "code",
        "colab": {}
      },
      "source": [
        "f = glob.glob(\"swda/sw*/sw*.csv\")\n",
        "frames = []\n",
        "for i in range(0, len(f)):\n",
        "    frames.append(pd.read_csv(f[i]))\n",
        "\n",
        "result = pd.concat(frames, ignore_index=True)\n",
        "result.to_csv('swda_all_data.csv',index=False)"
      ],
      "execution_count": 0,
      "outputs": []
    },
    {
      "cell_type": "code",
      "metadata": {
        "id": "A2D0IFhUMwdM",
        "colab_type": "code",
        "colab": {
          "base_uri": "https://localhost:8080/",
          "height": 888
        },
        "outputId": "b1f3ddc8-9918-475b-ee56-bcb2e462b429"
      },
      "source": [
        "reduced_df = result[['act_tag','text']]\n",
        "# Imported from \"https://github.com/cgpotts/swda\"\n",
        "# Convert the combination tags to the generic 43 tags\n",
        "\n",
        "import re\n",
        "def damsl_act_tag(input):\n",
        "        \"\"\"\n",
        "        Seeks to duplicate the tag simplification described at the\n",
        "        Coders' Manual: http://www.stanford.edu/~jurafsky/ws97/manual.august1.html\n",
        "        \"\"\"\n",
        "        d_tags = []\n",
        "        tags = re.split(r\"\\s*[,;]\\s*\", input)\n",
        "        for tag in tags:\n",
        "            if tag in ('qy^d', 'qw^d', 'b^m'): pass\n",
        "            elif tag == 'nn^e': tag = 'ng'\n",
        "            elif tag == 'ny^e': tag = 'na'\n",
        "            else: \n",
        "                tag = re.sub(r'(.)\\^.*', r'\\1', tag)\n",
        "                tag = re.sub(r'[\\(\\)@*]', '', tag)            \n",
        "                if tag in ('qr', 'qy'):                         tag = 'qy'\n",
        "                elif tag in ('fe', 'ba'):                       tag = 'ba'\n",
        "                elif tag in ('oo', 'co', 'cc'):                 tag = 'oo_co_cc'\n",
        "                elif tag in ('fx', 'sv'):                       tag = 'sv'\n",
        "                elif tag in ('aap', 'am'):                      tag = 'aap_am'\n",
        "                elif tag in ('arp', 'nd'):                      tag = 'arp_nd'\n",
        "                elif tag in ('fo', 'o', 'fw', '\"', 'by', 'bc'): tag = 'fo_o_fw_\"_by_bc'            \n",
        "            d_tags.append(tag)\n",
        "        # Dan J says (p.c.) that it makes sense to take the first;\n",
        "        # there are only a handful of examples with 2 tags here.\n",
        "        return d_tags[0]\n",
        "\n",
        "reduced_df[\"act_tag\"] = reduced_df[\"act_tag\"].apply(lambda x: damsl_act_tag(x))\n",
        "dummies = pd.get_dummies(reduced_df[[\"act_tag\"]])\n",
        "res = pd.concat([reduced_df, dummies], axis=1)\n",
        "# res = res.drop([\"act_tag\"], axis=1)\n",
        "res[]"
      ],
      "execution_count": 147,
      "outputs": [
        {
          "output_type": "stream",
          "text": [
            "/usr/local/lib/python3.6/dist-packages/ipykernel_launcher.py:32: SettingWithCopyWarning: \n",
            "A value is trying to be set on a copy of a slice from a DataFrame.\n",
            "Try using .loc[row_indexer,col_indexer] = value instead\n",
            "\n",
            "See the caveats in the documentation: https://pandas.pydata.org/pandas-docs/stable/user_guide/indexing.html#returning-a-view-versus-a-copy\n"
          ],
          "name": "stderr"
        },
        {
          "output_type": "execute_result",
          "data": {
            "text/html": [
              "<div>\n",
              "<style scoped>\n",
              "    .dataframe tbody tr th:only-of-type {\n",
              "        vertical-align: middle;\n",
              "    }\n",
              "\n",
              "    .dataframe tbody tr th {\n",
              "        vertical-align: top;\n",
              "    }\n",
              "\n",
              "    .dataframe thead th {\n",
              "        text-align: right;\n",
              "    }\n",
              "</style>\n",
              "<table border=\"1\" class=\"dataframe\">\n",
              "  <thead>\n",
              "    <tr style=\"text-align: right;\">\n",
              "      <th></th>\n",
              "      <th>act_tag</th>\n",
              "      <th>text</th>\n",
              "      <th>act_tag_%</th>\n",
              "      <th>act_tag_+</th>\n",
              "      <th>act_tag_^2</th>\n",
              "      <th>act_tag_^g</th>\n",
              "      <th>act_tag_^h</th>\n",
              "      <th>act_tag_^q</th>\n",
              "      <th>act_tag_aa</th>\n",
              "      <th>act_tag_aap_am</th>\n",
              "      <th>act_tag_ad</th>\n",
              "      <th>act_tag_ar</th>\n",
              "      <th>act_tag_arp_nd</th>\n",
              "      <th>act_tag_b</th>\n",
              "      <th>act_tag_b^m</th>\n",
              "      <th>act_tag_ba</th>\n",
              "      <th>act_tag_bd</th>\n",
              "      <th>act_tag_bf</th>\n",
              "      <th>act_tag_bh</th>\n",
              "      <th>act_tag_bk</th>\n",
              "      <th>act_tag_br</th>\n",
              "      <th>act_tag_fa</th>\n",
              "      <th>act_tag_fc</th>\n",
              "      <th>act_tag_fo_o_fw_\"_by_bc</th>\n",
              "      <th>act_tag_fp</th>\n",
              "      <th>act_tag_ft</th>\n",
              "      <th>act_tag_h</th>\n",
              "      <th>act_tag_na</th>\n",
              "      <th>act_tag_ng</th>\n",
              "      <th>act_tag_nn</th>\n",
              "      <th>act_tag_no</th>\n",
              "      <th>act_tag_ny</th>\n",
              "      <th>act_tag_oo_co_cc</th>\n",
              "      <th>act_tag_qh</th>\n",
              "      <th>act_tag_qo</th>\n",
              "      <th>act_tag_qrr</th>\n",
              "      <th>act_tag_qw</th>\n",
              "      <th>act_tag_qw^d</th>\n",
              "      <th>act_tag_qy</th>\n",
              "      <th>act_tag_qy^d</th>\n",
              "      <th>act_tag_sd</th>\n",
              "      <th>act_tag_sv</th>\n",
              "      <th>act_tag_t1</th>\n",
              "      <th>act_tag_t3</th>\n",
              "      <th>act_tag_x</th>\n",
              "    </tr>\n",
              "  </thead>\n",
              "  <tbody>\n",
              "    <tr>\n",
              "      <th>0</th>\n",
              "      <td>sd</td>\n",
              "      <td>Our community doesn't really have any organize...</td>\n",
              "      <td>0</td>\n",
              "      <td>0</td>\n",
              "      <td>0</td>\n",
              "      <td>0</td>\n",
              "      <td>0</td>\n",
              "      <td>0</td>\n",
              "      <td>0</td>\n",
              "      <td>0</td>\n",
              "      <td>0</td>\n",
              "      <td>0</td>\n",
              "      <td>0</td>\n",
              "      <td>0</td>\n",
              "      <td>0</td>\n",
              "      <td>0</td>\n",
              "      <td>0</td>\n",
              "      <td>0</td>\n",
              "      <td>0</td>\n",
              "      <td>0</td>\n",
              "      <td>0</td>\n",
              "      <td>0</td>\n",
              "      <td>0</td>\n",
              "      <td>0</td>\n",
              "      <td>0</td>\n",
              "      <td>0</td>\n",
              "      <td>0</td>\n",
              "      <td>0</td>\n",
              "      <td>0</td>\n",
              "      <td>0</td>\n",
              "      <td>0</td>\n",
              "      <td>0</td>\n",
              "      <td>0</td>\n",
              "      <td>0</td>\n",
              "      <td>0</td>\n",
              "      <td>0</td>\n",
              "      <td>0</td>\n",
              "      <td>0</td>\n",
              "      <td>0</td>\n",
              "      <td>0</td>\n",
              "      <td>1</td>\n",
              "      <td>0</td>\n",
              "      <td>0</td>\n",
              "      <td>0</td>\n",
              "      <td>0</td>\n",
              "    </tr>\n",
              "    <tr>\n",
              "      <th>1</th>\n",
              "      <td>qw</td>\n",
              "      <td>Where do you live? /</td>\n",
              "      <td>0</td>\n",
              "      <td>0</td>\n",
              "      <td>0</td>\n",
              "      <td>0</td>\n",
              "      <td>0</td>\n",
              "      <td>0</td>\n",
              "      <td>0</td>\n",
              "      <td>0</td>\n",
              "      <td>0</td>\n",
              "      <td>0</td>\n",
              "      <td>0</td>\n",
              "      <td>0</td>\n",
              "      <td>0</td>\n",
              "      <td>0</td>\n",
              "      <td>0</td>\n",
              "      <td>0</td>\n",
              "      <td>0</td>\n",
              "      <td>0</td>\n",
              "      <td>0</td>\n",
              "      <td>0</td>\n",
              "      <td>0</td>\n",
              "      <td>0</td>\n",
              "      <td>0</td>\n",
              "      <td>0</td>\n",
              "      <td>0</td>\n",
              "      <td>0</td>\n",
              "      <td>0</td>\n",
              "      <td>0</td>\n",
              "      <td>0</td>\n",
              "      <td>0</td>\n",
              "      <td>0</td>\n",
              "      <td>0</td>\n",
              "      <td>0</td>\n",
              "      <td>0</td>\n",
              "      <td>1</td>\n",
              "      <td>0</td>\n",
              "      <td>0</td>\n",
              "      <td>0</td>\n",
              "      <td>0</td>\n",
              "      <td>0</td>\n",
              "      <td>0</td>\n",
              "      <td>0</td>\n",
              "      <td>0</td>\n",
              "    </tr>\n",
              "    <tr>\n",
              "      <th>2</th>\n",
              "      <td>sd</td>\n",
              "      <td>I live in San Antonio. /</td>\n",
              "      <td>0</td>\n",
              "      <td>0</td>\n",
              "      <td>0</td>\n",
              "      <td>0</td>\n",
              "      <td>0</td>\n",
              "      <td>0</td>\n",
              "      <td>0</td>\n",
              "      <td>0</td>\n",
              "      <td>0</td>\n",
              "      <td>0</td>\n",
              "      <td>0</td>\n",
              "      <td>0</td>\n",
              "      <td>0</td>\n",
              "      <td>0</td>\n",
              "      <td>0</td>\n",
              "      <td>0</td>\n",
              "      <td>0</td>\n",
              "      <td>0</td>\n",
              "      <td>0</td>\n",
              "      <td>0</td>\n",
              "      <td>0</td>\n",
              "      <td>0</td>\n",
              "      <td>0</td>\n",
              "      <td>0</td>\n",
              "      <td>0</td>\n",
              "      <td>0</td>\n",
              "      <td>0</td>\n",
              "      <td>0</td>\n",
              "      <td>0</td>\n",
              "      <td>0</td>\n",
              "      <td>0</td>\n",
              "      <td>0</td>\n",
              "      <td>0</td>\n",
              "      <td>0</td>\n",
              "      <td>0</td>\n",
              "      <td>0</td>\n",
              "      <td>0</td>\n",
              "      <td>0</td>\n",
              "      <td>1</td>\n",
              "      <td>0</td>\n",
              "      <td>0</td>\n",
              "      <td>0</td>\n",
              "      <td>0</td>\n",
              "    </tr>\n",
              "    <tr>\n",
              "      <th>3</th>\n",
              "      <td>ba</td>\n",
              "      <td>San Antonio! /</td>\n",
              "      <td>0</td>\n",
              "      <td>0</td>\n",
              "      <td>0</td>\n",
              "      <td>0</td>\n",
              "      <td>0</td>\n",
              "      <td>0</td>\n",
              "      <td>0</td>\n",
              "      <td>0</td>\n",
              "      <td>0</td>\n",
              "      <td>0</td>\n",
              "      <td>0</td>\n",
              "      <td>0</td>\n",
              "      <td>0</td>\n",
              "      <td>1</td>\n",
              "      <td>0</td>\n",
              "      <td>0</td>\n",
              "      <td>0</td>\n",
              "      <td>0</td>\n",
              "      <td>0</td>\n",
              "      <td>0</td>\n",
              "      <td>0</td>\n",
              "      <td>0</td>\n",
              "      <td>0</td>\n",
              "      <td>0</td>\n",
              "      <td>0</td>\n",
              "      <td>0</td>\n",
              "      <td>0</td>\n",
              "      <td>0</td>\n",
              "      <td>0</td>\n",
              "      <td>0</td>\n",
              "      <td>0</td>\n",
              "      <td>0</td>\n",
              "      <td>0</td>\n",
              "      <td>0</td>\n",
              "      <td>0</td>\n",
              "      <td>0</td>\n",
              "      <td>0</td>\n",
              "      <td>0</td>\n",
              "      <td>0</td>\n",
              "      <td>0</td>\n",
              "      <td>0</td>\n",
              "      <td>0</td>\n",
              "      <td>0</td>\n",
              "    </tr>\n",
              "    <tr>\n",
              "      <th>4</th>\n",
              "      <td>b</td>\n",
              "      <td>Uh-huh. /</td>\n",
              "      <td>0</td>\n",
              "      <td>0</td>\n",
              "      <td>0</td>\n",
              "      <td>0</td>\n",
              "      <td>0</td>\n",
              "      <td>0</td>\n",
              "      <td>0</td>\n",
              "      <td>0</td>\n",
              "      <td>0</td>\n",
              "      <td>0</td>\n",
              "      <td>0</td>\n",
              "      <td>1</td>\n",
              "      <td>0</td>\n",
              "      <td>0</td>\n",
              "      <td>0</td>\n",
              "      <td>0</td>\n",
              "      <td>0</td>\n",
              "      <td>0</td>\n",
              "      <td>0</td>\n",
              "      <td>0</td>\n",
              "      <td>0</td>\n",
              "      <td>0</td>\n",
              "      <td>0</td>\n",
              "      <td>0</td>\n",
              "      <td>0</td>\n",
              "      <td>0</td>\n",
              "      <td>0</td>\n",
              "      <td>0</td>\n",
              "      <td>0</td>\n",
              "      <td>0</td>\n",
              "      <td>0</td>\n",
              "      <td>0</td>\n",
              "      <td>0</td>\n",
              "      <td>0</td>\n",
              "      <td>0</td>\n",
              "      <td>0</td>\n",
              "      <td>0</td>\n",
              "      <td>0</td>\n",
              "      <td>0</td>\n",
              "      <td>0</td>\n",
              "      <td>0</td>\n",
              "      <td>0</td>\n",
              "      <td>0</td>\n",
              "    </tr>\n",
              "    <tr>\n",
              "      <th>...</th>\n",
              "      <td>...</td>\n",
              "      <td>...</td>\n",
              "      <td>...</td>\n",
              "      <td>...</td>\n",
              "      <td>...</td>\n",
              "      <td>...</td>\n",
              "      <td>...</td>\n",
              "      <td>...</td>\n",
              "      <td>...</td>\n",
              "      <td>...</td>\n",
              "      <td>...</td>\n",
              "      <td>...</td>\n",
              "      <td>...</td>\n",
              "      <td>...</td>\n",
              "      <td>...</td>\n",
              "      <td>...</td>\n",
              "      <td>...</td>\n",
              "      <td>...</td>\n",
              "      <td>...</td>\n",
              "      <td>...</td>\n",
              "      <td>...</td>\n",
              "      <td>...</td>\n",
              "      <td>...</td>\n",
              "      <td>...</td>\n",
              "      <td>...</td>\n",
              "      <td>...</td>\n",
              "      <td>...</td>\n",
              "      <td>...</td>\n",
              "      <td>...</td>\n",
              "      <td>...</td>\n",
              "      <td>...</td>\n",
              "      <td>...</td>\n",
              "      <td>...</td>\n",
              "      <td>...</td>\n",
              "      <td>...</td>\n",
              "      <td>...</td>\n",
              "      <td>...</td>\n",
              "      <td>...</td>\n",
              "      <td>...</td>\n",
              "      <td>...</td>\n",
              "      <td>...</td>\n",
              "      <td>...</td>\n",
              "      <td>...</td>\n",
              "      <td>...</td>\n",
              "      <td>...</td>\n",
              "    </tr>\n",
              "    <tr>\n",
              "      <th>223601</th>\n",
              "      <td>sv</td>\n",
              "      <td>In reality, I think, what they were doing is b...</td>\n",
              "      <td>0</td>\n",
              "      <td>0</td>\n",
              "      <td>0</td>\n",
              "      <td>0</td>\n",
              "      <td>0</td>\n",
              "      <td>0</td>\n",
              "      <td>0</td>\n",
              "      <td>0</td>\n",
              "      <td>0</td>\n",
              "      <td>0</td>\n",
              "      <td>0</td>\n",
              "      <td>0</td>\n",
              "      <td>0</td>\n",
              "      <td>0</td>\n",
              "      <td>0</td>\n",
              "      <td>0</td>\n",
              "      <td>0</td>\n",
              "      <td>0</td>\n",
              "      <td>0</td>\n",
              "      <td>0</td>\n",
              "      <td>0</td>\n",
              "      <td>0</td>\n",
              "      <td>0</td>\n",
              "      <td>0</td>\n",
              "      <td>0</td>\n",
              "      <td>0</td>\n",
              "      <td>0</td>\n",
              "      <td>0</td>\n",
              "      <td>0</td>\n",
              "      <td>0</td>\n",
              "      <td>0</td>\n",
              "      <td>0</td>\n",
              "      <td>0</td>\n",
              "      <td>0</td>\n",
              "      <td>0</td>\n",
              "      <td>0</td>\n",
              "      <td>0</td>\n",
              "      <td>0</td>\n",
              "      <td>0</td>\n",
              "      <td>1</td>\n",
              "      <td>0</td>\n",
              "      <td>0</td>\n",
              "      <td>0</td>\n",
              "    </tr>\n",
              "    <tr>\n",
              "      <th>223602</th>\n",
              "      <td>%</td>\n",
              "      <td>not that they, - /</td>\n",
              "      <td>1</td>\n",
              "      <td>0</td>\n",
              "      <td>0</td>\n",
              "      <td>0</td>\n",
              "      <td>0</td>\n",
              "      <td>0</td>\n",
              "      <td>0</td>\n",
              "      <td>0</td>\n",
              "      <td>0</td>\n",
              "      <td>0</td>\n",
              "      <td>0</td>\n",
              "      <td>0</td>\n",
              "      <td>0</td>\n",
              "      <td>0</td>\n",
              "      <td>0</td>\n",
              "      <td>0</td>\n",
              "      <td>0</td>\n",
              "      <td>0</td>\n",
              "      <td>0</td>\n",
              "      <td>0</td>\n",
              "      <td>0</td>\n",
              "      <td>0</td>\n",
              "      <td>0</td>\n",
              "      <td>0</td>\n",
              "      <td>0</td>\n",
              "      <td>0</td>\n",
              "      <td>0</td>\n",
              "      <td>0</td>\n",
              "      <td>0</td>\n",
              "      <td>0</td>\n",
              "      <td>0</td>\n",
              "      <td>0</td>\n",
              "      <td>0</td>\n",
              "      <td>0</td>\n",
              "      <td>0</td>\n",
              "      <td>0</td>\n",
              "      <td>0</td>\n",
              "      <td>0</td>\n",
              "      <td>0</td>\n",
              "      <td>0</td>\n",
              "      <td>0</td>\n",
              "      <td>0</td>\n",
              "      <td>0</td>\n",
              "    </tr>\n",
              "    <tr>\n",
              "      <th>223603</th>\n",
              "      <td>sd</td>\n",
              "      <td>[ I'm, + I'm ] not sure the Catholic church [ ...</td>\n",
              "      <td>0</td>\n",
              "      <td>0</td>\n",
              "      <td>0</td>\n",
              "      <td>0</td>\n",
              "      <td>0</td>\n",
              "      <td>0</td>\n",
              "      <td>0</td>\n",
              "      <td>0</td>\n",
              "      <td>0</td>\n",
              "      <td>0</td>\n",
              "      <td>0</td>\n",
              "      <td>0</td>\n",
              "      <td>0</td>\n",
              "      <td>0</td>\n",
              "      <td>0</td>\n",
              "      <td>0</td>\n",
              "      <td>0</td>\n",
              "      <td>0</td>\n",
              "      <td>0</td>\n",
              "      <td>0</td>\n",
              "      <td>0</td>\n",
              "      <td>0</td>\n",
              "      <td>0</td>\n",
              "      <td>0</td>\n",
              "      <td>0</td>\n",
              "      <td>0</td>\n",
              "      <td>0</td>\n",
              "      <td>0</td>\n",
              "      <td>0</td>\n",
              "      <td>0</td>\n",
              "      <td>0</td>\n",
              "      <td>0</td>\n",
              "      <td>0</td>\n",
              "      <td>0</td>\n",
              "      <td>0</td>\n",
              "      <td>0</td>\n",
              "      <td>0</td>\n",
              "      <td>0</td>\n",
              "      <td>1</td>\n",
              "      <td>0</td>\n",
              "      <td>0</td>\n",
              "      <td>0</td>\n",
              "      <td>0</td>\n",
              "    </tr>\n",
              "    <tr>\n",
              "      <th>223604</th>\n",
              "      <td>%</td>\n",
              "      <td>{C but, } {D you know, } if ... -/</td>\n",
              "      <td>1</td>\n",
              "      <td>0</td>\n",
              "      <td>0</td>\n",
              "      <td>0</td>\n",
              "      <td>0</td>\n",
              "      <td>0</td>\n",
              "      <td>0</td>\n",
              "      <td>0</td>\n",
              "      <td>0</td>\n",
              "      <td>0</td>\n",
              "      <td>0</td>\n",
              "      <td>0</td>\n",
              "      <td>0</td>\n",
              "      <td>0</td>\n",
              "      <td>0</td>\n",
              "      <td>0</td>\n",
              "      <td>0</td>\n",
              "      <td>0</td>\n",
              "      <td>0</td>\n",
              "      <td>0</td>\n",
              "      <td>0</td>\n",
              "      <td>0</td>\n",
              "      <td>0</td>\n",
              "      <td>0</td>\n",
              "      <td>0</td>\n",
              "      <td>0</td>\n",
              "      <td>0</td>\n",
              "      <td>0</td>\n",
              "      <td>0</td>\n",
              "      <td>0</td>\n",
              "      <td>0</td>\n",
              "      <td>0</td>\n",
              "      <td>0</td>\n",
              "      <td>0</td>\n",
              "      <td>0</td>\n",
              "      <td>0</td>\n",
              "      <td>0</td>\n",
              "      <td>0</td>\n",
              "      <td>0</td>\n",
              "      <td>0</td>\n",
              "      <td>0</td>\n",
              "      <td>0</td>\n",
              "      <td>0</td>\n",
              "    </tr>\n",
              "    <tr>\n",
              "      <th>223605</th>\n",
              "      <td>b</td>\n",
              "      <td>Right. /</td>\n",
              "      <td>0</td>\n",
              "      <td>0</td>\n",
              "      <td>0</td>\n",
              "      <td>0</td>\n",
              "      <td>0</td>\n",
              "      <td>0</td>\n",
              "      <td>0</td>\n",
              "      <td>0</td>\n",
              "      <td>0</td>\n",
              "      <td>0</td>\n",
              "      <td>0</td>\n",
              "      <td>1</td>\n",
              "      <td>0</td>\n",
              "      <td>0</td>\n",
              "      <td>0</td>\n",
              "      <td>0</td>\n",
              "      <td>0</td>\n",
              "      <td>0</td>\n",
              "      <td>0</td>\n",
              "      <td>0</td>\n",
              "      <td>0</td>\n",
              "      <td>0</td>\n",
              "      <td>0</td>\n",
              "      <td>0</td>\n",
              "      <td>0</td>\n",
              "      <td>0</td>\n",
              "      <td>0</td>\n",
              "      <td>0</td>\n",
              "      <td>0</td>\n",
              "      <td>0</td>\n",
              "      <td>0</td>\n",
              "      <td>0</td>\n",
              "      <td>0</td>\n",
              "      <td>0</td>\n",
              "      <td>0</td>\n",
              "      <td>0</td>\n",
              "      <td>0</td>\n",
              "      <td>0</td>\n",
              "      <td>0</td>\n",
              "      <td>0</td>\n",
              "      <td>0</td>\n",
              "      <td>0</td>\n",
              "      <td>0</td>\n",
              "    </tr>\n",
              "  </tbody>\n",
              "</table>\n",
              "<p>223606 rows × 45 columns</p>\n",
              "</div>"
            ],
            "text/plain": [
              "       act_tag  ... act_tag_x\n",
              "0           sd  ...         0\n",
              "1           qw  ...         0\n",
              "2           sd  ...         0\n",
              "3           ba  ...         0\n",
              "4            b  ...         0\n",
              "...        ...  ...       ...\n",
              "223601      sv  ...         0\n",
              "223602       %  ...         0\n",
              "223603      sd  ...         0\n",
              "223604       %  ...         0\n",
              "223605       b  ...         0\n",
              "\n",
              "[223606 rows x 45 columns]"
            ]
          },
          "metadata": {
            "tags": []
          },
          "execution_count": 147
        }
      ]
    },
    {
      "cell_type": "code",
      "metadata": {
        "id": "5RNKtsTSTPhh",
        "colab_type": "code",
        "colab": {}
      },
      "source": [
        "train = res[0:140000]\n",
        "val = res[140000:167704]\n",
        "test = res[167704:]\n",
        "train.to_csv(\"train.csv\",index=False)\n",
        "val.to_csv(\"val.csv\",index=False)\n",
        "test.to_csv(\"test.csv\",index=False)\n",
        "train = pd.read_csv(\"train.csv\")\n",
        "valid = pd.read_csv(\"val.csv\")\n",
        "test = pd.read_csv(\"test.csv\")"
      ],
      "execution_count": 0,
      "outputs": []
    },
    {
      "cell_type": "code",
      "metadata": {
        "id": "Nw4hUCMgTdmE",
        "colab_type": "code",
        "colab": {}
      },
      "source": [
        "# train = train.append(valid).reset_index(drop=True)"
      ],
      "execution_count": 0,
      "outputs": []
    },
    {
      "cell_type": "code",
      "metadata": {
        "id": "VsILJQbMgGlt",
        "colab_type": "code",
        "outputId": "cd94ff5f-71cb-4172-9461-b8e2aab7b019",
        "colab": {
          "base_uri": "https://localhost:8080/",
          "height": 36
        }
      },
      "source": [
        "train.shape,test.shape,val.shape"
      ],
      "execution_count": 132,
      "outputs": [
        {
          "output_type": "execute_result",
          "data": {
            "text/plain": [
              "((140000, 44), (55902, 44), (27704, 44))"
            ]
          },
          "metadata": {
            "tags": []
          },
          "execution_count": 132
        }
      ]
    },
    {
      "cell_type": "markdown",
      "metadata": {
        "id": "Nc23faMAR--V",
        "colab_type": "text"
      },
      "source": [
        "# Get Pre-trained BERT model "
      ]
    },
    {
      "cell_type": "markdown",
      "metadata": {
        "id": "xEcPk0ZTv3r5",
        "colab_type": "text"
      },
      "source": [
        "We would be using `uncased_L-12_H-768_A-12` version of BERT which has 12 layers and returns 768 hidden parameters."
      ]
    },
    {
      "cell_type": "code",
      "metadata": {
        "id": "-P2y2g3m8Ytp",
        "colab_type": "code",
        "outputId": "6189ff16-d56d-460b-c64c-abe26d4c6ecd",
        "colab": {
          "base_uri": "https://localhost:8080/",
          "height": 230
        }
      },
      "source": [
        "!wget https://storage.googleapis.com/bert_models/2018_10_18/uncased_L-12_H-768_A-12.zip"
      ],
      "execution_count": 16,
      "outputs": [
        {
          "output_type": "stream",
          "text": [
            "--2020-04-27 13:53:23--  https://storage.googleapis.com/bert_models/2018_10_18/uncased_L-12_H-768_A-12.zip\n",
            "Resolving storage.googleapis.com (storage.googleapis.com)... 173.194.194.128, 2607:f8b0:4001:c15::80\n",
            "Connecting to storage.googleapis.com (storage.googleapis.com)|173.194.194.128|:443... connected.\n",
            "HTTP request sent, awaiting response... 200 OK\n",
            "Length: 407727028 (389M) [application/zip]\n",
            "Saving to: ‘uncased_L-12_H-768_A-12.zip’\n",
            "\n",
            "uncased_L-12_H-768_ 100%[===================>] 388.84M  27.9MB/s    in 16s     \n",
            "\n",
            "2020-04-27 13:53:39 (24.6 MB/s) - ‘uncased_L-12_H-768_A-12.zip’ saved [407727028/407727028]\n",
            "\n"
          ],
          "name": "stdout"
        }
      ]
    },
    {
      "cell_type": "code",
      "metadata": {
        "id": "ARivu75M8fqM",
        "colab_type": "code",
        "outputId": "6363e554-99f5-484a-b100-68293c925964",
        "colab": {
          "base_uri": "https://localhost:8080/",
          "height": 153
        }
      },
      "source": [
        "!unzip uncased_L-12_H-768_A-12.zip"
      ],
      "execution_count": 17,
      "outputs": [
        {
          "output_type": "stream",
          "text": [
            "Archive:  uncased_L-12_H-768_A-12.zip\n",
            "   creating: uncased_L-12_H-768_A-12/\n",
            "  inflating: uncased_L-12_H-768_A-12/bert_model.ckpt.meta  \n",
            "  inflating: uncased_L-12_H-768_A-12/bert_model.ckpt.data-00000-of-00001  \n",
            "  inflating: uncased_L-12_H-768_A-12/vocab.txt  \n",
            "  inflating: uncased_L-12_H-768_A-12/bert_model.ckpt.index  \n",
            "  inflating: uncased_L-12_H-768_A-12/bert_config.json  \n"
          ],
          "name": "stdout"
        }
      ]
    },
    {
      "cell_type": "code",
      "metadata": {
        "id": "4Cgl9mvs8hAl",
        "colab_type": "code",
        "colab": {}
      },
      "source": [
        "os.makedirs(\"model\")"
      ],
      "execution_count": 0,
      "outputs": []
    },
    {
      "cell_type": "code",
      "metadata": {
        "id": "QoY4PY-w9FkN",
        "colab_type": "code",
        "colab": {}
      },
      "source": [
        "!mv uncased_L-12_H-768_A-12/ model"
      ],
      "execution_count": 0,
      "outputs": []
    },
    {
      "cell_type": "code",
      "metadata": {
        "id": "LbvjbsEb9Ndv",
        "colab_type": "code",
        "colab": {}
      },
      "source": [
        "bert_model_name=\"uncased_L-12_H-768_A-12\"\n",
        "bert_ckpt_dir = os.path.join(\"model/\", bert_model_name)\n",
        "bert_ckpt_file = os.path.join(bert_ckpt_dir, \"bert_model.ckpt\")\n",
        "bert_config_file = os.path.join(bert_ckpt_dir, \"bert_config.json\")"
      ],
      "execution_count": 0,
      "outputs": []
    },
    {
      "cell_type": "markdown",
      "metadata": {
        "id": "3os6qeC6SB-M",
        "colab_type": "text"
      },
      "source": [
        "## Preprocessing of Data"
      ]
    },
    {
      "cell_type": "markdown",
      "metadata": {
        "id": "a10yTlWWwfxX",
        "colab_type": "text"
      },
      "source": [
        "Preprocessing the Data as BERT would expect."
      ]
    },
    {
      "cell_type": "code",
      "metadata": {
        "id": "TApTW_wLxoA9",
        "colab_type": "code",
        "colab": {}
      },
      "source": [
        "class ProcessData:\n",
        "\n",
        "  def __init__(self, train, test, tokenizer: FullTokenizer, classes, max_seq_len=192):\n",
        "    self.tokenizer = tokenizer\n",
        "    self.max_seq_len = 0\n",
        "    self.classes = classes\n",
        "    \n",
        "    ((self.train_x, self.train_y), (self.test_x, self.test_y), (self.val_x, self.val_y)) = map(self.convert_text_to_examples, [train, test, val])\n",
        "\n",
        "    self.max_seq_len = min(self.max_seq_len, max_seq_len)\n",
        "    print(\"Max Seq Len\", self.max_seq_len)\n",
        "    self.train_x, self.test_x, self.val_x = map(self.add_pad, [self.train_x, self.test_x, self.val_x])\n",
        "\n",
        "  def convert_text_to_examples(self, df):\n",
        "    x, y = [], []\n",
        "    \n",
        "    for _, row in tqdm(df.iterrows()):\n",
        "      text, label = row[0], np.asarray(row[1:],dtype=np.float32)\n",
        "      tokens = self.tokenizer.tokenize(text)\n",
        "      tokens = [\"[CLS]\"] + tokens + [\"[SEP]\"]\n",
        "      token_ids = self.tokenizer.convert_tokens_to_ids(tokens)\n",
        "      self.max_seq_len = max(self.max_seq_len, len(token_ids))\n",
        "      x.append(token_ids)\n",
        "      y.append(label)\n",
        "\n",
        "    return np.array(x), np.array(y)\n",
        "\n",
        "  def add_pad(self, ids):\n",
        "    x = []\n",
        "    for input_ids in ids:\n",
        "      input_ids = input_ids[:min(len(input_ids), self.max_seq_len - 2)]\n",
        "      input_ids = input_ids + [0] * (self.max_seq_len - len(input_ids))\n",
        "      x.append(np.array(input_ids))\n",
        "    return np.array(x)"
      ],
      "execution_count": 0,
      "outputs": []
    },
    {
      "cell_type": "code",
      "metadata": {
        "id": "qQWpVG464BuO",
        "colab_type": "code",
        "colab": {}
      },
      "source": [
        "tokenizer = FullTokenizer(vocab_file=os.path.join(bert_ckpt_dir, \"vocab.txt\"))"
      ],
      "execution_count": 0,
      "outputs": []
    },
    {
      "cell_type": "code",
      "metadata": {
        "colab_type": "code",
        "outputId": "740722dc-53a1-4d2b-e440-c5c35c076917",
        "id": "4KGLY60CDD1S",
        "colab": {
          "base_uri": "https://localhost:8080/",
          "height": 94
        }
      },
      "source": [
        "classes = 43\n",
        "\n",
        "data = ProcessData(train, test, tokenizer, classes, max_seq_len=128)"
      ],
      "execution_count": 36,
      "outputs": [
        {
          "output_type": "stream",
          "text": [
            "140000it [01:00, 2307.48it/s]\n",
            "55902it [00:23, 2358.82it/s]\n",
            "27704it [00:11, 2358.17it/s]\n"
          ],
          "name": "stderr"
        },
        {
          "output_type": "stream",
          "text": [
            "Max Seq Len 128\n"
          ],
          "name": "stdout"
        }
      ]
    },
    {
      "cell_type": "code",
      "metadata": {
        "id": "xnGGC53P9nC8",
        "colab_type": "code",
        "colab": {}
      },
      "source": [
        "from tensorflow.keras.layers import Lambda, Input, LSTM, RepeatVector, Dense, Dropout, InputLayer, Bidirectional, TimeDistributed, Activation, Embedding, Reshape, concatenate, Conv2D, BatchNormalization, MaxPool2D, Flatten\n",
        "\n",
        "HIDDEN_SIZE = 43\n",
        "drop = 0.2\n",
        "# https://github.com/kpe/bert-for-tf2\n",
        "def create_model(max_seq_len, bert_ckpt_file):\n",
        "  \"\"\"\n",
        "  Use the pre-trained BERT model over LSTM\n",
        "  \"\"\"\n",
        "  with tf.io.gfile.GFile(bert_config_file, \"r\") as reader:\n",
        "      bc = StockBertConfig.from_json_string(reader.read())\n",
        "      bert_params = map_stock_config_to_params(bc)\n",
        "      bert_params.adapter_size = None\n",
        "      bert = BertModelLayer.from_params(bert_params, name=\"bert\")\n",
        "        \n",
        "  input_ids = Input(shape=(max_seq_len, ), dtype='int32', name=\"input_ids\")\n",
        "  # BERT out\n",
        "  bert_output = bert(input_ids)\n",
        "  # to get the output dmin of form (none,128,768) --> (none,768) \n",
        "  lmd_out = Lambda(lambda seq: seq[:, 0, :])(bert_output)\n",
        "  dense_1 = Dense(units=768, activation=\"tanh\")(lmd_out)\n",
        "  dropout_1 = Dropout(0.5)(dense_1)\n",
        "\n",
        "\n",
        "  # LSTM expect (batch_size, timesteps, features) or (num_samples, timesteps, channels) \n",
        "  # using BERT output (none,128,768) to distribute over time(128) for LSTM\n",
        "  timexx = TimeDistributed(Dense(max_seq_len))(bert_output)\n",
        "  # Bidirectional 1\n",
        "  b1 = Bidirectional(LSTM(HIDDEN_SIZE, return_sequences=True))(timexx)\n",
        "  # Bidirectional 2\n",
        "  b2 = Bidirectional(LSTM(HIDDEN_SIZE))(b1)\n",
        "  # Dense layer (dense_2)\n",
        "  dense_2 = Dense(HIDDEN_SIZE)(b2)\n",
        "  # dropout_2\n",
        "  dropout_2 = Dropout(drop)(dense_2)\n",
        "\n",
        "\n",
        "  # concatenate 2 final layers\n",
        "  y = concatenate([dropout_1, dropout_2],axis = -1)\n",
        "  # output\n",
        "  out = Dense(HIDDEN_SIZE)(y)\n",
        "  out = Activation('sigmoid')(out)\n",
        "  \n",
        "\n",
        "  model = Model(inputs=input_ids, outputs=out)\n",
        "  model.build(input_shape=(None, max_seq_len))\n",
        "\n",
        "  load_stock_weights(bert, bert_ckpt_file)\n",
        "        \n",
        "  return model"
      ],
      "execution_count": 0,
      "outputs": []
    },
    {
      "cell_type": "code",
      "metadata": {
        "id": "1AFsUefcA323",
        "colab_type": "code",
        "outputId": "4edf82fb-880e-4f89-f25b-656e0eb0daaf",
        "colab": {
          "base_uri": "https://localhost:8080/",
          "height": 947
        }
      },
      "source": [
        "model = create_model(data.max_seq_len, bert_ckpt_file)\n",
        "model.summary()"
      ],
      "execution_count": 38,
      "outputs": [
        {
          "output_type": "stream",
          "text": [
            "Done loading 196 BERT weights from: model/uncased_L-12_H-768_A-12/bert_model.ckpt into <bert.model.BertModelLayer object at 0x7f6aa3d72f28> (prefix:bert). Count of weights not found in the checkpoint was: [0]. Count of weights with mismatched shape: [0]\n",
            "Unused weights from checkpoint: \n",
            "\tbert/embeddings/token_type_embeddings\n",
            "\tbert/pooler/dense/bias\n",
            "\tbert/pooler/dense/kernel\n",
            "\tcls/predictions/output_bias\n",
            "\tcls/predictions/transform/LayerNorm/beta\n",
            "\tcls/predictions/transform/LayerNorm/gamma\n",
            "\tcls/predictions/transform/dense/bias\n",
            "\tcls/predictions/transform/dense/kernel\n",
            "\tcls/seq_relationship/output_bias\n",
            "\tcls/seq_relationship/output_weights\n",
            "Model: \"model\"\n",
            "__________________________________________________________________________________________________\n",
            "Layer (type)                    Output Shape         Param #     Connected to                     \n",
            "==================================================================================================\n",
            "input_ids (InputLayer)          [(None, 128)]        0                                            \n",
            "__________________________________________________________________________________________________\n",
            "bert (BertModelLayer)           (None, 128, 768)     108890112   input_ids[0][0]                  \n",
            "__________________________________________________________________________________________________\n",
            "time_distributed (TimeDistribut (None, 128, 128)     98432       bert[0][0]                       \n",
            "__________________________________________________________________________________________________\n",
            "bidirectional (Bidirectional)   (None, 128, 86)      59168       time_distributed[0][0]           \n",
            "__________________________________________________________________________________________________\n",
            "lambda (Lambda)                 (None, 768)          0           bert[0][0]                       \n",
            "__________________________________________________________________________________________________\n",
            "bidirectional_1 (Bidirectional) (None, 86)           44720       bidirectional[0][0]              \n",
            "__________________________________________________________________________________________________\n",
            "dense (Dense)                   (None, 768)          590592      lambda[0][0]                     \n",
            "__________________________________________________________________________________________________\n",
            "dense_2 (Dense)                 (None, 43)           3741        bidirectional_1[0][0]            \n",
            "__________________________________________________________________________________________________\n",
            "dropout (Dropout)               (None, 768)          0           dense[0][0]                      \n",
            "__________________________________________________________________________________________________\n",
            "dropout_1 (Dropout)             (None, 43)           0           dense_2[0][0]                    \n",
            "__________________________________________________________________________________________________\n",
            "concatenate (Concatenate)       (None, 811)          0           dropout[0][0]                    \n",
            "                                                                 dropout_1[0][0]                  \n",
            "__________________________________________________________________________________________________\n",
            "dense_3 (Dense)                 (None, 43)           34916       concatenate[0][0]                \n",
            "__________________________________________________________________________________________________\n",
            "activation (Activation)         (None, 43)           0           dense_3[0][0]                    \n",
            "==================================================================================================\n",
            "Total params: 109,721,681\n",
            "Trainable params: 109,721,681\n",
            "Non-trainable params: 0\n",
            "__________________________________________________________________________________________________\n"
          ],
          "name": "stdout"
        }
      ]
    },
    {
      "cell_type": "code",
      "metadata": {
        "id": "6RmNul8vQkpz",
        "colab_type": "code",
        "outputId": "e121d529-4736-4fb2-a86a-c8ddf2e8a7aa",
        "colab": {
          "base_uri": "https://localhost:8080/",
          "height": 953
        }
      },
      "source": [
        "plot_model(model, to_file='model.png')"
      ],
      "execution_count": 39,
      "outputs": [
        {
          "output_type": "execute_result",
          "data": {
            "image/png": "[encoded data removed]",
            "text/plain": [
              "<IPython.core.display.Image object>"
            ]
          },
          "metadata": {
            "tags": []
          },
          "execution_count": 39
        }
      ]
    },
    {
      "cell_type": "markdown",
      "metadata": {
        "id": "67GbMH3WRvZg",
        "colab_type": "text"
      },
      "source": [
        "## Training"
      ]
    },
    {
      "cell_type": "code",
      "metadata": {
        "id": "gY8p6pDEHzmR",
        "colab_type": "code",
        "colab": {}
      },
      "source": [
        "def train_test_input_fn(batch_size=256):\n",
        "    # Convert the inputs to a Dataset.\n",
        "    dataset_train = tf.data.Dataset.from_tensor_slices((data.train_x,data.train_y))\n",
        "    dataset_test = tf.data.Dataset.from_tensor_slices((data.test_x,data.test_y))\n",
        "    dataset_val = tf.data.Dataset.from_tensor_slices((data.val_x,data.val_y))\n",
        "    # Shuffle, repeat, and batch the examples.\n",
        "    dataset_train = dataset_train.cache()\n",
        "    dataset_train = dataset_train.shuffle(1000, reshuffle_each_iteration=True)\n",
        "    dataset_train = dataset_train.repeat()\n",
        "    dataset_train = dataset_train.batch(batch_size, drop_remainder=True)\n",
        "    dataset_test = dataset_test.cache()\n",
        "    dataset_test = dataset_test.shuffle(1000, reshuffle_each_iteration=True)\n",
        "    dataset_test = dataset_test.repeat()\n",
        "    dataset_test = dataset_test.batch(batch_size, drop_remainder=True)\n",
        "    dataset_val = dataset_val.cache()\n",
        "    dataset_val = dataset_val.shuffle(1000, reshuffle_each_iteration=True)\n",
        "    dataset_val = dataset_val.repeat()\n",
        "    dataset_val = dataset_val.batch(batch_size, drop_remainder=True)\n",
        "    # Return the dataset.\n",
        "    return dataset_train,dataset_test,dataset_val\n"
      ],
      "execution_count": 0,
      "outputs": []
    },
    {
      "cell_type": "code",
      "metadata": {
        "id": "-Qxbah2qH9Z4",
        "colab_type": "code",
        "outputId": "e7e7b2da-4b78-4fd1-8039-1dd90003d4db",
        "colab": {
          "base_uri": "https://localhost:8080/",
          "height": 36
        }
      },
      "source": [
        "try:\n",
        "    device_name = os.environ['COLAB_TPU_ADDR']\n",
        "    TPU_ADDRESS = 'grpc://' + device_name\n",
        "    print('Found TPU at: {}'.format(TPU_ADDRESS))\n",
        "except KeyError:\n",
        "    print('TPU not found')"
      ],
      "execution_count": 41,
      "outputs": [
        {
          "output_type": "stream",
          "text": [
            "Found TPU at: grpc://10.97.103.2:8470\n"
          ],
          "name": "stdout"
        }
      ]
    },
    {
      "cell_type": "code",
      "metadata": {
        "id": "DzR2thzkNh-C",
        "colab_type": "code",
        "outputId": "8ce756da-7623-45a6-8cc5-a9c40863d643",
        "colab": {
          "base_uri": "https://localhost:8080/",
          "height": 812
        }
      },
      "source": [
        "resolver = tf.distribute.cluster_resolver.TPUClusterResolver(tpu='grpc://' + os.environ['COLAB_TPU_ADDR'])\n",
        "tf.config.experimental_connect_to_cluster(resolver)\n",
        "# This is the TPU initialization code that has to be at the beginning.\n",
        "tf.tpu.experimental.initialize_tpu_system(resolver)\n",
        "strategy = tf.distribute.experimental.TPUStrategy(resolver)\n"
      ],
      "execution_count": 42,
      "outputs": [
        {
          "output_type": "stream",
          "text": [
            "INFO:tensorflow:Initializing the TPU system: 10.97.103.2:8470\n"
          ],
          "name": "stdout"
        },
        {
          "output_type": "stream",
          "text": [
            "INFO:tensorflow:Initializing the TPU system: 10.97.103.2:8470\n"
          ],
          "name": "stderr"
        },
        {
          "output_type": "stream",
          "text": [
            "INFO:tensorflow:Clearing out eager caches\n"
          ],
          "name": "stdout"
        },
        {
          "output_type": "stream",
          "text": [
            "INFO:tensorflow:Clearing out eager caches\n"
          ],
          "name": "stderr"
        },
        {
          "output_type": "stream",
          "text": [
            "INFO:tensorflow:Finished initializing TPU system.\n"
          ],
          "name": "stdout"
        },
        {
          "output_type": "stream",
          "text": [
            "INFO:tensorflow:Finished initializing TPU system.\n"
          ],
          "name": "stderr"
        },
        {
          "output_type": "stream",
          "text": [
            "INFO:tensorflow:Found TPU system:\n"
          ],
          "name": "stdout"
        },
        {
          "output_type": "stream",
          "text": [
            "INFO:tensorflow:Found TPU system:\n"
          ],
          "name": "stderr"
        },
        {
          "output_type": "stream",
          "text": [
            "INFO:tensorflow:*** Num TPU Cores: 8\n"
          ],
          "name": "stdout"
        },
        {
          "output_type": "stream",
          "text": [
            "INFO:tensorflow:*** Num TPU Cores: 8\n"
          ],
          "name": "stderr"
        },
        {
          "output_type": "stream",
          "text": [
            "INFO:tensorflow:*** Num TPU Workers: 1\n"
          ],
          "name": "stdout"
        },
        {
          "output_type": "stream",
          "text": [
            "INFO:tensorflow:*** Num TPU Workers: 1\n"
          ],
          "name": "stderr"
        },
        {
          "output_type": "stream",
          "text": [
            "INFO:tensorflow:*** Num TPU Cores Per Worker: 8\n"
          ],
          "name": "stdout"
        },
        {
          "output_type": "stream",
          "text": [
            "INFO:tensorflow:*** Num TPU Cores Per Worker: 8\n"
          ],
          "name": "stderr"
        },
        {
          "output_type": "stream",
          "text": [
            "INFO:tensorflow:*** Available Device: _DeviceAttributes(/job:localhost/replica:0/task:0/device:CPU:0, CPU, 0, 0)\n"
          ],
          "name": "stdout"
        },
        {
          "output_type": "stream",
          "text": [
            "INFO:tensorflow:*** Available Device: _DeviceAttributes(/job:localhost/replica:0/task:0/device:CPU:0, CPU, 0, 0)\n"
          ],
          "name": "stderr"
        },
        {
          "output_type": "stream",
          "text": [
            "INFO:tensorflow:*** Available Device: _DeviceAttributes(/job:localhost/replica:0/task:0/device:XLA_CPU:0, XLA_CPU, 0, 0)\n"
          ],
          "name": "stdout"
        },
        {
          "output_type": "stream",
          "text": [
            "INFO:tensorflow:*** Available Device: _DeviceAttributes(/job:localhost/replica:0/task:0/device:XLA_CPU:0, XLA_CPU, 0, 0)\n"
          ],
          "name": "stderr"
        },
        {
          "output_type": "stream",
          "text": [
            "INFO:tensorflow:*** Available Device: _DeviceAttributes(/job:worker/replica:0/task:0/device:CPU:0, CPU, 0, 0)\n"
          ],
          "name": "stdout"
        },
        {
          "output_type": "stream",
          "text": [
            "INFO:tensorflow:*** Available Device: _DeviceAttributes(/job:worker/replica:0/task:0/device:CPU:0, CPU, 0, 0)\n"
          ],
          "name": "stderr"
        },
        {
          "output_type": "stream",
          "text": [
            "INFO:tensorflow:*** Available Device: _DeviceAttributes(/job:worker/replica:0/task:0/device:TPU:0, TPU, 0, 0)\n"
          ],
          "name": "stdout"
        },
        {
          "output_type": "stream",
          "text": [
            "INFO:tensorflow:*** Available Device: _DeviceAttributes(/job:worker/replica:0/task:0/device:TPU:0, TPU, 0, 0)\n"
          ],
          "name": "stderr"
        },
        {
          "output_type": "stream",
          "text": [
            "INFO:tensorflow:*** Available Device: _DeviceAttributes(/job:worker/replica:0/task:0/device:TPU:1, TPU, 0, 0)\n"
          ],
          "name": "stdout"
        },
        {
          "output_type": "stream",
          "text": [
            "INFO:tensorflow:*** Available Device: _DeviceAttributes(/job:worker/replica:0/task:0/device:TPU:1, TPU, 0, 0)\n"
          ],
          "name": "stderr"
        },
        {
          "output_type": "stream",
          "text": [
            "INFO:tensorflow:*** Available Device: _DeviceAttributes(/job:worker/replica:0/task:0/device:TPU:2, TPU, 0, 0)\n"
          ],
          "name": "stdout"
        },
        {
          "output_type": "stream",
          "text": [
            "INFO:tensorflow:*** Available Device: _DeviceAttributes(/job:worker/replica:0/task:0/device:TPU:2, TPU, 0, 0)\n"
          ],
          "name": "stderr"
        },
        {
          "output_type": "stream",
          "text": [
            "INFO:tensorflow:*** Available Device: _DeviceAttributes(/job:worker/replica:0/task:0/device:TPU:3, TPU, 0, 0)\n"
          ],
          "name": "stdout"
        },
        {
          "output_type": "stream",
          "text": [
            "INFO:tensorflow:*** Available Device: _DeviceAttributes(/job:worker/replica:0/task:0/device:TPU:3, TPU, 0, 0)\n"
          ],
          "name": "stderr"
        },
        {
          "output_type": "stream",
          "text": [
            "INFO:tensorflow:*** Available Device: _DeviceAttributes(/job:worker/replica:0/task:0/device:TPU:4, TPU, 0, 0)\n"
          ],
          "name": "stdout"
        },
        {
          "output_type": "stream",
          "text": [
            "INFO:tensorflow:*** Available Device: _DeviceAttributes(/job:worker/replica:0/task:0/device:TPU:4, TPU, 0, 0)\n"
          ],
          "name": "stderr"
        },
        {
          "output_type": "stream",
          "text": [
            "INFO:tensorflow:*** Available Device: _DeviceAttributes(/job:worker/replica:0/task:0/device:TPU:5, TPU, 0, 0)\n"
          ],
          "name": "stdout"
        },
        {
          "output_type": "stream",
          "text": [
            "INFO:tensorflow:*** Available Device: _DeviceAttributes(/job:worker/replica:0/task:0/device:TPU:5, TPU, 0, 0)\n"
          ],
          "name": "stderr"
        },
        {
          "output_type": "stream",
          "text": [
            "INFO:tensorflow:*** Available Device: _DeviceAttributes(/job:worker/replica:0/task:0/device:TPU:6, TPU, 0, 0)\n"
          ],
          "name": "stdout"
        },
        {
          "output_type": "stream",
          "text": [
            "INFO:tensorflow:*** Available Device: _DeviceAttributes(/job:worker/replica:0/task:0/device:TPU:6, TPU, 0, 0)\n"
          ],
          "name": "stderr"
        },
        {
          "output_type": "stream",
          "text": [
            "INFO:tensorflow:*** Available Device: _DeviceAttributes(/job:worker/replica:0/task:0/device:TPU:7, TPU, 0, 0)\n"
          ],
          "name": "stdout"
        },
        {
          "output_type": "stream",
          "text": [
            "INFO:tensorflow:*** Available Device: _DeviceAttributes(/job:worker/replica:0/task:0/device:TPU:7, TPU, 0, 0)\n"
          ],
          "name": "stderr"
        },
        {
          "output_type": "stream",
          "text": [
            "INFO:tensorflow:*** Available Device: _DeviceAttributes(/job:worker/replica:0/task:0/device:TPU_SYSTEM:0, TPU_SYSTEM, 0, 0)\n"
          ],
          "name": "stdout"
        },
        {
          "output_type": "stream",
          "text": [
            "INFO:tensorflow:*** Available Device: _DeviceAttributes(/job:worker/replica:0/task:0/device:TPU_SYSTEM:0, TPU_SYSTEM, 0, 0)\n"
          ],
          "name": "stderr"
        },
        {
          "output_type": "stream",
          "text": [
            "INFO:tensorflow:*** Available Device: _DeviceAttributes(/job:worker/replica:0/task:0/device:XLA_CPU:0, XLA_CPU, 0, 0)\n"
          ],
          "name": "stdout"
        },
        {
          "output_type": "stream",
          "text": [
            "INFO:tensorflow:*** Available Device: _DeviceAttributes(/job:worker/replica:0/task:0/device:XLA_CPU:0, XLA_CPU, 0, 0)\n"
          ],
          "name": "stderr"
        }
      ]
    },
    {
      "cell_type": "code",
      "metadata": {
        "id": "7js_k2UUIGEd",
        "colab_type": "code",
        "outputId": "204226aa-6f81-4137-df16-35cf0aef93c1",
        "colab": {
          "base_uri": "https://localhost:8080/",
          "height": 1000
        }
      },
      "source": [
        "with strategy.scope():\n",
        "  model = create_model(data.max_seq_len, bert_ckpt_file)\n",
        "  model.compile(loss='categorical_crossentropy',optimizer='sgd',metrics=['accuracy'], )\n",
        "\n",
        "train_dataset, test_dataset, val_dataset = train_test_input_fn()\n",
        "\n",
        "model.fit(train_dataset,\n",
        "          epochs=20,\n",
        "          steps_per_epoch = 128,\n",
        "          validation_data=val_dataset,\n",
        "          validation_steps=3\n",
        "          )\n"
      ],
      "execution_count": 47,
      "outputs": [
        {
          "output_type": "stream",
          "text": [
            "Done loading 196 BERT weights from: model/uncased_L-12_H-768_A-12/bert_model.ckpt into <bert.model.BertModelLayer object at 0x7f69e300a518> (prefix:bert_4). Count of weights not found in the checkpoint was: [0]. Count of weights with mismatched shape: [0]\n",
            "Unused weights from checkpoint: \n",
            "\tbert/embeddings/token_type_embeddings\n",
            "\tbert/pooler/dense/bias\n",
            "\tbert/pooler/dense/kernel\n",
            "\tcls/predictions/output_bias\n",
            "\tcls/predictions/transform/LayerNorm/beta\n",
            "\tcls/predictions/transform/LayerNorm/gamma\n",
            "\tcls/predictions/transform/dense/bias\n",
            "\tcls/predictions/transform/dense/kernel\n",
            "\tcls/seq_relationship/output_bias\n",
            "\tcls/seq_relationship/output_weights\n",
            "Train for 128 steps, validate for 3 steps\n",
            "Epoch 1/20\n",
            "128/128 [==============================] - 59s 460ms/step - loss: 2.5963 - accuracy: 0.2951 - val_loss: 2.0958 - val_accuracy: 0.3060\n",
            "Epoch 2/20\n",
            "128/128 [==============================] - 23s 182ms/step - loss: 1.9598 - accuracy: 0.5086 - val_loss: 1.5838 - val_accuracy: 0.5430\n",
            "Epoch 3/20\n",
            "128/128 [==============================] - 23s 183ms/step - loss: 1.6421 - accuracy: 0.5395 - val_loss: 1.4411 - val_accuracy: 0.5911\n",
            "Epoch 4/20\n",
            "128/128 [==============================] - 23s 183ms/step - loss: 1.4069 - accuracy: 0.6195 - val_loss: 1.2428 - val_accuracy: 0.6302\n",
            "Epoch 5/20\n",
            "128/128 [==============================] - 23s 183ms/step - loss: 1.3774 - accuracy: 0.6040 - val_loss: 1.1697 - val_accuracy: 0.6367\n",
            "Epoch 6/20\n",
            "128/128 [==============================] - 23s 183ms/step - loss: 1.2484 - accuracy: 0.6492 - val_loss: 1.0407 - val_accuracy: 0.6654\n",
            "Epoch 7/20\n",
            "128/128 [==============================] - 23s 183ms/step - loss: 1.1809 - accuracy: 0.6460 - val_loss: 1.0161 - val_accuracy: 0.6979\n",
            "Epoch 8/20\n",
            "128/128 [==============================] - 23s 183ms/step - loss: 1.0784 - accuracy: 0.6866 - val_loss: 0.9937 - val_accuracy: 0.6784\n",
            "Epoch 9/20\n",
            "128/128 [==============================] - 23s 182ms/step - loss: 1.1104 - accuracy: 0.6747 - val_loss: 0.9901 - val_accuracy: 0.7057\n",
            "Epoch 10/20\n",
            "128/128 [==============================] - 23s 183ms/step - loss: 1.0994 - accuracy: 0.6821 - val_loss: 0.9012 - val_accuracy: 0.7305\n",
            "Epoch 11/20\n",
            "128/128 [==============================] - 23s 183ms/step - loss: 1.0127 - accuracy: 0.7051 - val_loss: 0.9104 - val_accuracy: 0.7305\n",
            "Epoch 12/20\n",
            "128/128 [==============================] - 23s 183ms/step - loss: 0.9404 - accuracy: 0.7249 - val_loss: 0.9334 - val_accuracy: 0.7201\n",
            "Epoch 13/20\n",
            "128/128 [==============================] - 23s 183ms/step - loss: 0.9475 - accuracy: 0.7225 - val_loss: 0.9280 - val_accuracy: 0.7344\n",
            "Epoch 14/20\n",
            "128/128 [==============================] - 23s 183ms/step - loss: 1.0359 - accuracy: 0.6960 - val_loss: 0.8959 - val_accuracy: 0.7383\n",
            "Epoch 15/20\n",
            "128/128 [==============================] - 23s 183ms/step - loss: 0.9179 - accuracy: 0.7328 - val_loss: 0.8391 - val_accuracy: 0.7461\n",
            "Epoch 16/20\n",
            "128/128 [==============================] - 23s 183ms/step - loss: 0.8860 - accuracy: 0.7349 - val_loss: 0.9068 - val_accuracy: 0.7305\n",
            "Epoch 17/20\n",
            "128/128 [==============================] - 23s 183ms/step - loss: 0.8520 - accuracy: 0.7428 - val_loss: 0.8155 - val_accuracy: 0.7578\n",
            "Epoch 18/20\n",
            "128/128 [==============================] - 23s 183ms/step - loss: 0.9523 - accuracy: 0.7174 - val_loss: 0.8649 - val_accuracy: 0.7474\n",
            "Epoch 19/20\n",
            "128/128 [==============================] - 23s 183ms/step - loss: 0.8849 - accuracy: 0.7410 - val_loss: 0.8203 - val_accuracy: 0.7539\n",
            "Epoch 20/20\n",
            "128/128 [==============================] - 23s 183ms/step - loss: 0.8553 - accuracy: 0.7448 - val_loss: 0.9182 - val_accuracy: 0.7253\n"
          ],
          "name": "stdout"
        },
        {
          "output_type": "execute_result",
          "data": {
            "text/plain": [
              "<tensorflow.python.keras.callbacks.History at 0x7f69e200e160>"
            ]
          },
          "metadata": {
            "tags": []
          },
          "execution_count": 47
        }
      ]
    },
    {
      "cell_type": "code",
      "metadata": {
        "id": "WzXYlqoM4gTN",
        "colab_type": "code",
        "colab": {
          "base_uri": "https://localhost:8080/",
          "height": 36
        },
        "outputId": "7904d09a-895f-4f70-859d-8cc394c3f314"
      },
      "source": [
        "score = model.evaluate(test_dataset,steps=3) "
      ],
      "execution_count": 136,
      "outputs": [
        {
          "output_type": "stream",
          "text": [
            "3/3 [==============================] - 8s 3s/step - loss: 0.8044 - accuracy: 0.7500\n"
          ],
          "name": "stdout"
        }
      ]
    },
    {
      "cell_type": "code",
      "metadata": {
        "id": "DqSwUJn_4ikL",
        "colab_type": "code",
        "colab": {
          "base_uri": "https://localhost:8080/",
          "height": 36
        },
        "outputId": "cdf11fbb-3e32-4288-d6a9-99631350c02c"
      },
      "source": [
        "print(\"Overall Accuracy:\", score[1]*100)"
      ],
      "execution_count": 137,
      "outputs": [
        {
          "output_type": "stream",
          "text": [
            "Overall Accuracy: 75.0\n"
          ],
          "name": "stdout"
        }
      ]
    },
    {
      "cell_type": "markdown",
      "metadata": {
        "id": "E54_n8Ce4k8k",
        "colab_type": "text"
      },
      "source": [
        "Evaluation"
      ]
    },
    {
      "cell_type": "markdown",
      "metadata": {
        "id": "6_HSYX-k4vz1",
        "colab_type": "text"
      },
      "source": [
        "The overall accuracy is "
      ]
    },
    {
      "cell_type": "markdown",
      "metadata": {
        "id": "nGqQS-aB4znA",
        "colab_type": "text"
      },
      "source": [
        "### Minority Class"
      ]
    },
    {
      "cell_type": "code",
      "metadata": {
        "id": "BVMiaTLa4y4x",
        "colab_type": "code",
        "colab": {}
      },
      "source": [
        "# Generate predictions for the test data\n",
        "pred_test = model.predict(test_dataset,steps=218) # 55902/256"
      ],
      "execution_count": 0,
      "outputs": []
    },
    {
      "cell_type": "code",
      "metadata": {
        "id": "1rYTpfZS4PRg",
        "colab_type": "code",
        "colab": {
          "base_uri": "https://localhost:8080/",
          "height": 95
        },
        "outputId": "7c7254b3-e4dc-4d8d-9c81-343243a79568"
      },
      "source": [
        "from collections import Counter\n",
        "y_test = [np.asarray(row[1:],dtype=np.float32) for row in test.values]\n",
        "pred_1d = np.argmax(pred_test, axis=1)\n",
        "test_1d = np.argmax(y_test, axis=1)\n",
        "\n",
        "print(\"Predicted Class: \", Counter(list(pred_1d)))\n",
        "print(\"Test Class: \", Counter(list(test_1d)))\n",
        "# print(\"One hot encoded dict class: \", one_hot_encoding_dict)"
      ],
      "execution_count": 142,
      "outputs": [
        {
          "output_type": "stream",
          "text": [
            "55808\n",
            "Predicted Class:  Counter({38: 25370, 11: 11471, 1: 3933, 0: 3805, 39: 3341, 6: 2088, 36: 1415, 34: 880, 42: 874, 13: 733, 27: 623, 20: 356, 24: 279, 16: 219, 17: 167, 4: 55, 8: 55, 37: 52, 21: 32, 22: 27, 18: 24, 29: 6, 12: 2, 15: 1})\n",
            "Test Class:  Counter({38: 18478, 11: 9287, 39: 6505, 1: 4592, 0: 4141, 6: 3057, 36: 1341, 13: 1264, 42: 823, 29: 792, 20: 656, 34: 530, 27: 432, 21: 408, 17: 333, 24: 313, 37: 254, 16: 251, 25: 235, 31: 213, 4: 186, 5: 185, 2: 177, 8: 177, 15: 176, 32: 170, 12: 165, 9: 99, 18: 86, 28: 83, 26: 75, 10: 60, 33: 47, 40: 41, 14: 41, 22: 41, 7: 37, 19: 33, 30: 33, 41: 31, 3: 29, 35: 18, 23: 7})\n"
          ],
          "name": "stdout"
        }
      ]
    },
    {
      "cell_type": "code",
      "metadata": {
        "id": "wZTkwg7-1INt",
        "colab_type": "code",
        "colab": {
          "base_uri": "https://localhost:8080/",
          "height": 36
        },
        "outputId": "ebe03b6a-236a-4440-e942-88f8d6bb373e"
      },
      "source": [
        ""
      ],
      "execution_count": 143,
      "outputs": [
        {
          "output_type": "execute_result",
          "data": {
            "text/plain": [
              "(55808, 55902)"
            ]
          },
          "metadata": {
            "tags": []
          },
          "execution_count": 143
        }
      ]
    },
    {
      "cell_type": "code",
      "metadata": {
        "id": "cYb3paPZXNdE",
        "colab_type": "code",
        "colab": {}
      },
      "source": [
        "# Build the confusion matrix off these predictions\n",
        "# matrix = confusion_matrix(y_test.argmax(axis=1), pred_test.argmax(axis=1))\n",
        "cnf_matrix = confusion_matrix(np.argmax(y_test, axis=1), np.argmax(pred_test, axis=1))"
      ],
      "execution_count": 0,
      "outputs": []
    },
    {
      "cell_type": "code",
      "metadata": {
        "id": "qByXHZiejGpH",
        "colab_type": "code",
        "colab": {
          "base_uri": "https://localhost:8080/",
          "height": 908
        },
        "outputId": "56846429-a74a-4852-ab4b-e02570e52dda"
      },
      "source": [
        "pred_1d"
      ],
      "execution_count": 120,
      "outputs": [
        {
          "output_type": "execute_result",
          "data": {
            "text/plain": [
              "array([38, 36, 38, 38, 38,  6, 38, 38, 39, 11, 38, 38, 11, 38, 38, 11, 38,\n",
              "       38, 38, 38, 38, 38, 38, 38, 36, 39, 11, 38,  0, 38, 38, 38, 39,  6,\n",
              "       38, 11, 38, 38, 11, 39,  0,  1,  1, 27, 11, 17, 38, 11, 11, 38, 11,\n",
              "       38, 38, 38, 11, 39, 38, 11, 39, 38, 38,  6, 13, 11, 38, 36, 39, 38,\n",
              "        0, 39, 38, 17, 11, 11, 11, 11, 11, 38, 38, 11, 38, 38,  1, 39, 38,\n",
              "       38, 38, 11, 11, 11, 38, 27, 38, 38, 11, 36, 38, 11, 17, 38,  6, 38,\n",
              "        6, 38, 39, 38, 38, 11, 27,  0, 38, 11, 11,  0, 27, 11, 11, 38, 38,\n",
              "       39,  1,  0, 39, 11, 38, 38, 38, 38, 38, 11, 13, 38,  1, 11, 38, 38,\n",
              "       38,  1, 11, 38, 39, 38, 38, 38,  0, 11, 11,  0, 38, 38, 38, 38,  0,\n",
              "        6, 38, 11, 38, 38, 38, 17, 38, 38, 11, 38, 38, 42, 38, 13,  1, 11,\n",
              "       38, 38, 11, 38, 38, 13,  1, 38, 11, 27, 38, 38, 38, 38, 38, 38, 38,\n",
              "       38,  0, 38, 38, 17, 11,  0,  0, 39, 38, 11, 13, 38, 38, 11, 38, 27,\n",
              "       38, 38, 38, 38,  0, 38, 11, 38, 38, 38, 38, 36, 11, 11, 38,  0, 39,\n",
              "       38, 38,  0, 38, 38, 39, 38, 38,  1, 34, 13, 11, 34,  0, 38, 38, 38,\n",
              "       38, 38, 11, 11, 38, 38, 11,  0, 38, 36, 38, 38, 38, 38, 11, 38, 11,\n",
              "       38, 38, 11, 38, 38, 39, 38,  0,  0,  0, 38, 38, 11, 11, 11, 38, 38,\n",
              "       39,  0,  0, 39, 38, 13, 38, 27,  1, 38,  0, 38, 36,  6, 38, 20, 39,\n",
              "       38,  6, 38, 13,  6, 17, 38, 38, 38, 11, 38,  1, 39,  1,  6, 38, 11,\n",
              "       38, 39, 11, 38,  1,  0, 17,  0, 38, 24, 38, 38, 38, 36, 11, 38,  1,\n",
              "       38, 38, 38, 11, 11, 11, 38,  1, 38, 38, 11, 38, 11,  0, 11, 38, 39,\n",
              "       11,  1, 38, 38, 38, 38, 38, 38, 38, 38, 24, 38,  6, 36, 38,  1, 11,\n",
              "       11, 38, 38, 38, 38, 11, 38, 38, 11, 38, 38, 38, 11, 38,  0, 38, 11,\n",
              "        6, 11,  0, 38, 38, 38, 38, 36,  0,  0, 39, 38, 11, 38, 39, 11, 11,\n",
              "       38, 11, 38, 11, 11, 38, 38, 38, 38, 38, 39,  1, 38, 34, 38, 13, 38,\n",
              "       36, 11, 11, 36, 11, 11, 38, 38, 38, 38,  0,  6, 38, 38,  1, 11, 38,\n",
              "       11, 24, 34, 38, 38, 38, 38, 38,  0, 24,  0, 38, 38, 39, 38, 11, 38,\n",
              "       36, 34, 11, 38,  1,  0,  0,  4, 11, 11, 27, 27, 17, 38, 11,  1, 11,\n",
              "       38, 38, 11, 13, 11, 36, 38, 38, 38, 38,  6, 38, 11, 34, 38, 11, 11,\n",
              "       36, 38, 38, 38, 38, 11,  1, 11, 11, 11, 11, 38, 11, 11, 38,  0,  0,\n",
              "        0,  1, 38, 36, 38, 38, 38, 11, 38,  1, 38, 11, 38, 11, 38,  4, 38,\n",
              "       38,  0, 38, 38, 36,  6,  0, 34, 11, 24, 38, 11, 38, 11, 11, 38, 38,\n",
              "       38, 38, 38, 38, 11, 39, 38, 38, 38, 38,  1, 38, 11, 34, 38, 38, 38,\n",
              "       11, 11,  1, 42, 36,  0, 11, 34, 38,  0, 38, 38, 38, 39, 38, 38, 11,\n",
              "       11, 11, 38, 38, 38, 38, 39,  0, 27, 11, 38, 11,  0,  6, 38, 38, 11,\n",
              "        0, 38, 39, 38, 11, 11, 39, 38, 38, 38, 36, 38, 39, 38, 38, 38, 38,\n",
              "       38,  0, 38, 38, 38, 38, 11, 11, 38, 11, 11, 38, 38, 11,  0, 11, 38,\n",
              "        1, 11,  0, 11, 38, 38, 36, 17, 24, 11, 11, 38, 38, 36, 38, 38, 11,\n",
              "       11, 39, 24, 38, 38, 11, 38,  0,  0, 34, 38,  0, 11, 38, 11, 11,  1,\n",
              "        0, 38, 38, 42, 11, 38, 38, 38, 42, 38, 11, 38, 38, 39, 11, 11, 39,\n",
              "        0, 38, 38, 38, 11, 11,  0, 38, 39,  0, 38, 38, 38, 38,  0, 38,  1,\n",
              "       38, 39, 38, 39, 38, 39, 38,  6, 16, 39, 38,  6, 38, 38,  0, 11, 38,\n",
              "        0, 39,  4, 39,  0, 11, 38, 38, 38, 38, 38, 39, 36,  1, 11, 38, 38,\n",
              "       38, 38, 42, 38, 36, 38, 38, 11, 38, 11,  0,  1, 38, 38, 11, 11, 11,\n",
              "        1, 39, 38, 38, 11, 38, 39, 11, 38, 38, 38, 38, 36, 11, 39, 11, 38,\n",
              "       38, 38, 39, 38, 38, 24, 11, 38, 38, 34, 38, 11, 38, 38, 17,  1, 38,\n",
              "        1, 11,  0])"
            ]
          },
          "metadata": {
            "tags": []
          },
          "execution_count": 120
        }
      ]
    },
    {
      "cell_type": "markdown",
      "metadata": {
        "id": "1npbTSBRj0Bt",
        "colab_type": "text"
      },
      "source": [
        "# References\n",
        "\n",
        "- https://mccormickml.com/2019/07/22/BERT-fine-tuning/\n",
        "- https://github.com/snipsco/nlu-benchmark/tree/master/2017-06-custom-intent-engines\n",
        "- https://jalammar.github.io/illustrated-bert/\n",
        "- https://towardsdatascience.com/bert-for-dummies-step-by-step-tutorial-fb90890ffe03\n",
        "- https://www.reddit.com/r/MachineLearning/comments/ao23cp/p_how_to_use_bert_in_kaggle_competitions_a/"
      ]
    }
  ]
}