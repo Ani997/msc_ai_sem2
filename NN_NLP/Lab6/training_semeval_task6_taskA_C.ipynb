{
  "nbformat": 4,
  "nbformat_minor": 0,
  "metadata": {
    "kernelspec": {
      "name": "python3",
      "display_name": "Python 3"
    },
    "language_info": {
      "codemirror_mode": {
        "name": "ipython",
        "version": 3
      },
      "file_extension": ".py",
      "mimetype": "text/x-python",
      "name": "python",
      "nbconvert_exporter": "python",
      "pygments_lexer": "ipython3",
      "version": "3.6.8"
    },
    "colab": {
      "name": "training_semeval_task6-taskA-C.ipynb",
      "provenance": []
    },
    "accelerator": "GPU"
  },
  "cells": [
    {
      "cell_type": "code",
      "metadata": {
        "id": "3eu0HpHN_09n",
        "colab_type": "code",
        "colab": {
          "base_uri": "https://localhost:8080/",
          "height": 85
        },
        "outputId": "6027a6f0-7065-4811-92e4-898b5cdab086"
      },
      "source": [
        "from keras.layers import Input, Dense, Embedding, Convolution1D, MaxPooling1D, MaxPooling2D, Convolution2D, LSTM\n",
        "from keras.layers import Reshape, Flatten, Dropout, Concatenate\n",
        "from keras.layers import Lambda, GlobalAveragePooling1D, Dense, Embedding\n",
        "from keras.regularizers import l2, l1\n",
        "from keras import regularizers\n",
        "from keras.callbacks import ModelCheckpoint\n",
        "from keras.optimizers import Adam\n",
        "from keras.models import Sequential\n",
        "from sklearn.model_selection import train_test_split\n",
        "import numpy as np\n",
        "import matplotlib.pyplot as plt\n",
        "from keras.preprocessing.text import one_hot as oneHOT\n",
        "from keras.preprocessing.sequence import pad_sequences"
      ],
      "execution_count": 1,
      "outputs": [
        {
          "output_type": "stream",
          "text": [
            "Using TensorFlow backend.\n"
          ],
          "name": "stderr"
        },
        {
          "output_type": "display_data",
          "data": {
            "text/html": [
              "<p style=\"color: red;\">\n",
              "The default version of TensorFlow in Colab will soon switch to TensorFlow 2.x.<br>\n",
              "We recommend you <a href=\"https://www.tensorflow.org/guide/migrate\" target=\"_blank\">upgrade</a> now \n",
              "or ensure your notebook will continue to use TensorFlow 1.x via the <code>%tensorflow_version 1.x</code> magic:\n",
              "<a href=\"https://colab.research.google.com/notebooks/tensorflow_version.ipynb\" target=\"_blank\">more info</a>.</p>\n"
            ],
            "text/plain": [
              "<IPython.core.display.HTML object>"
            ]
          },
          "metadata": {
            "tags": []
          }
        }
      ]
    },
    {
      "cell_type": "code",
      "metadata": {
        "id": "V4QtxxgY_094",
        "colab_type": "code",
        "colab": {}
      },
      "source": [
        "import pandas as pd\n",
        "import numpy as np\n",
        "df_tweet = pd.read_csv(\"data/processed_tweet2.csv\")\n",
        "import ast\n",
        "df_tweet['tweet_pr_st1'] = df_tweet.apply(lambda x: ast.literal_eval(x.tweet_pr_st1),axis =1)\n",
        "df_tweet['tweet_pr_st2'] = df_tweet.apply(lambda x: ast.literal_eval(x.tweet_pr_st2),axis =1)\n",
        "\n",
        "# df_tweet['subtask_a'] = df_tweet.apply(lambda x: 0 if x.subtask_a=='NOT' else 1,axis = 1)\n",
        "# df_tweet['subtask_b'] = df_tweet.apply(lambda x: 1 if x.subtask_b=='UNT' else 2 if x.subtask_b=='TIN' else 0,axis = 1)\n",
        "# df_tweet['subtask_c'] = df_tweet.apply(lambda x: 2 if (x.subtask_b=='TIN' and x.subtask_a=='OFF' and x.subtask_c=='IND') else 3 if (x.subtask_b=='TIN' and x.subtask_a=='OFF' and x.subtask_c=='GRP') else 4 if (x.subtask_b=='TIN' and x.subtask_a=='OFF' and x.subtask_c =='OTH') else 1 if (x.subtask_a=='OFF' and x.subtask_b=='UNT') else 0,axis = 1)\n",
        "\n",
        "def conditions(x):\n",
        "    if (x.subtask_b=='TIN' and x.subtask_a=='OFF' and x.subtask_c=='IND'):\n",
        "        return 2\n",
        "    elif (x.subtask_b=='TIN' and x.subtask_a=='OFF' and x.subtask_c=='GRP'): \n",
        "        return 3\n",
        "    elif (x.subtask_b=='TIN' and x.subtask_a=='OFF' and x.subtask_c =='OTH'):\n",
        "        return 4        \n",
        "    elif (x.subtask_a=='OFF' and x.subtask_b=='UNT'):\n",
        "        return 1\n",
        "    else:\n",
        "        return 0\n",
        "    # return 2 if (x.subtask_b=='TIN' and x.subtask_a=='OFF' and x.subtask_c=='IND') else 3 if (x.subtask_b=='TIN' and x.subtask_a=='OFF' and x.subtask_c=='GRP') else 4 if (x.subtask_b=='TIN' and x.subtask_a=='OFF' and x.subtask_c =='OTH') else 1 if (x.subtask_a=='OFF' and x.subtask_b=='UNT') else 0\n",
        "\n",
        "df_tweet['subtask_c_'] = df_tweet.apply(conditions,axis=1)\n",
        "\n",
        "# df['subtask_c_'] = np.where(df['subtask_c']>=50, 'yes', 'no')"
      ],
      "execution_count": 0,
      "outputs": []
    },
    {
      "cell_type": "code",
      "metadata": {
        "id": "w94wqiaC2GdW",
        "colab_type": "code",
        "colab": {
          "base_uri": "https://localhost:8080/",
          "height": 296
        },
        "outputId": "04a7430a-7b0b-4688-bd7b-e14982e503c8"
      },
      "source": [
        "df_tweet.groupby(['subtask_c_']).count()['id'].plot.bar()"
      ],
      "execution_count": 3,
      "outputs": [
        {
          "output_type": "execute_result",
          "data": {
            "text/plain": [
              "<matplotlib.axes._subplots.AxesSubplot at 0x7f4b92114cf8>"
            ]
          },
          "metadata": {
            "tags": []
          },
          "execution_count": 3
        },
        {
          "output_type": "display_data",
          "data": {
            "image/png": "[encoded data removed]",
            "text/plain": [
              "<Figure size 432x288 with 1 Axes>"
            ]
          },
          "metadata": {
            "tags": []
          }
        }
      ]
    },
    {
      "cell_type": "code",
      "metadata": {
        "id": "3y7t8sRf_0-E",
        "colab_type": "code",
        "colab": {}
      },
      "source": [
        "normalised_corpus = list(df_tweet['tweet_pr_st2'])\n",
        "labels = list(df_tweet['subtask_c'])"
      ],
      "execution_count": 0,
      "outputs": []
    },
    {
      "cell_type": "code",
      "metadata": {
        "id": "WYggLFu2_0-N",
        "colab_type": "code",
        "colab": {}
      },
      "source": [
        "normalised_corpus[:3]"
      ],
      "execution_count": 0,
      "outputs": []
    },
    {
      "cell_type": "code",
      "metadata": {
        "id": "AkfJ6XZM_0-W",
        "colab_type": "code",
        "colab": {}
      },
      "source": [
        "import collections, itertools\n",
        "word_counter = collections.Counter(list(itertools.chain.from_iterable(normalised_corpus)))"
      ],
      "execution_count": 0,
      "outputs": []
    },
    {
      "cell_type": "code",
      "metadata": {
        "id": "_mF2eI0h_0-e",
        "colab_type": "code",
        "colab": {
          "base_uri": "https://localhost:8080/",
          "height": 36
        },
        "outputId": "fff5d439-e3d9-44f8-8261-6a408347d41b"
      },
      "source": [
        "word_ids = list(set(list(itertools.chain.from_iterable(normalised_corpus))))\n",
        "len(word_ids)"
      ],
      "execution_count": 6,
      "outputs": [
        {
          "output_type": "execute_result",
          "data": {
            "text/plain": [
              "13910"
            ]
          },
          "metadata": {
            "tags": []
          },
          "execution_count": 6
        }
      ]
    },
    {
      "cell_type": "code",
      "metadata": {
        "id": "vFtr7lOo_0-l",
        "colab_type": "code",
        "colab": {}
      },
      "source": [
        "word2idx = {}\n",
        "word2idx = {token:id+3 for id,token in enumerate(word_ids)}\n",
        "word2idx['<PAD>'] = 0\n",
        "word2idx['<START>'] = 1\n",
        "word2idx['<UNK>'] = 2\n",
        "word2idx['<UNUSED>'] = 3\n",
        "\n",
        "# word_index = {k:(v+3) for k,v in word_index.items()}\n",
        "# word_index[\"<PAD>\"] = 0\n",
        "# word_index[\"<START>\"] = 1\n",
        "# word_index[\"<UNK>\"] = 2  \n",
        "# word_index[\"<UNUSED>\"] = 3"
      ],
      "execution_count": 0,
      "outputs": []
    },
    {
      "cell_type": "code",
      "metadata": {
        "id": "RMG_34Gf_0-r",
        "colab_type": "code",
        "colab": {}
      },
      "source": [
        "idx2word = {v: k for k,v in word2idx.items()}"
      ],
      "execution_count": 0,
      "outputs": []
    },
    {
      "cell_type": "code",
      "metadata": {
        "id": "uD73tmyo_0-y",
        "colab_type": "code",
        "colab": {}
      },
      "source": [
        "sents_as_ids = []\n",
        "for i in range(len(normalised_corpus)):\n",
        "    sents_as_ids.append([word2idx[j] for j in normalised_corpus[i]])"
      ],
      "execution_count": 0,
      "outputs": []
    },
    {
      "cell_type": "code",
      "metadata": {
        "id": "QQVcs4sv_0-5",
        "colab_type": "code",
        "colab": {}
      },
      "source": [
        "normalised_corpus[0:3]"
      ],
      "execution_count": 0,
      "outputs": []
    },
    {
      "cell_type": "code",
      "metadata": {
        "id": "LhxUGWLz_0_B",
        "colab_type": "code",
        "colab": {}
      },
      "source": [
        "sents_as_ids[0:3]"
      ],
      "execution_count": 0,
      "outputs": []
    },
    {
      "cell_type": "code",
      "metadata": {
        "id": "Q_FmU4fV_0_K",
        "colab_type": "code",
        "colab": {}
      },
      "source": [
        "vocab_size = len(word_ids) + 3\n",
        "maxlen=50"
      ],
      "execution_count": 0,
      "outputs": []
    },
    {
      "cell_type": "code",
      "metadata": {
        "id": "JI-0FOzY_0_R",
        "colab_type": "code",
        "colab": {}
      },
      "source": [
        "def one_hot(labels):\n",
        "    from sklearn.preprocessing import OneHotEncoder\n",
        "    encoder = OneHotEncoder()\n",
        "    return encoder.fit_transform(np.array(labels).reshape(-1,1)).toarray()\n",
        "\n",
        "labels = one_hot(labels)"
      ],
      "execution_count": 0,
      "outputs": []
    },
    {
      "cell_type": "code",
      "metadata": {
        "id": "oGNMN0Dd_0_X",
        "colab_type": "code",
        "colab": {}
      },
      "source": [
        "def readGloveFile(gloveFile):\n",
        "    with open(gloveFile, 'r') as f:\n",
        "        wordToGlove = {}  \n",
        "        wordToIndex = {}  \n",
        "        indexToWord = {}  \n",
        "\n",
        "        for line in f:\n",
        "            record = line.strip().split()\n",
        "            token = record[0] \n",
        "            wordToGlove[token] = np.array(record[1:], dtype=np.float64) \n",
        "            \n",
        "        tokens = sorted(wordToGlove.keys())\n",
        "        for idx, tok in enumerate(tokens):\n",
        "            kerasIdx = idx + 1  \n",
        "            wordToIndex[tok] = kerasIdx \n",
        "            indexToWord[kerasIdx] = tok \n",
        "\n",
        "    return wordToIndex, indexToWord, wordToGlove"
      ],
      "execution_count": 0,
      "outputs": []
    },
    {
      "cell_type": "code",
      "metadata": {
        "id": "gCrqCrX2_0_d",
        "colab_type": "code",
        "colab": {}
      },
      "source": [
        "def createPretrainedEmbeddingLayer(wordToGlove, wordToIndex, isTrainable):\n",
        "    vocabLen = len(wordToIndex) + 1  \n",
        "    embDim = next(iter(wordToGlove.values())).shape[0]  \n",
        "   \n",
        "    embeddingMatrix = np.zeros((vocabLen, embDim))  \n",
        "    for word, index in wordToIndex.items():\n",
        "        embeddingMatrix[index, :] = wordToGlove[word] \n",
        "\n",
        "    embeddingLayer = Embedding(vocabLen, embDim, embeddings_initializer=Constant(embeddingMatrix), trainable=isTrainable)\n",
        "    return embeddingLayer"
      ],
      "execution_count": 0,
      "outputs": []
    },
    {
      "cell_type": "code",
      "metadata": {
        "id": "CYsIYbDk_0_h",
        "colab_type": "code",
        "colab": {}
      },
      "source": [
        "from sklearn.model_selection import train_test_split\n",
        "train_data,test_data,train_labels,test_labels = train_test_split(sents_as_ids,labels,test_size=0.2,stratify=labels)\n",
        "\n",
        "X_train_enc = pad_sequences(train_data,\n",
        "                            value=word2idx[\"<PAD>\"],\n",
        "                            padding='post',\n",
        "                            maxlen=50)\n",
        "X_test_enc = pad_sequences(test_data,\n",
        "                            value=word2idx[\"<PAD>\"],\n",
        "                            padding='post',\n",
        "                            maxlen=50)\n"
      ],
      "execution_count": 0,
      "outputs": []
    },
    {
      "cell_type": "code",
      "metadata": {
        "id": "l5VvyO3V_0_n",
        "colab_type": "code",
        "colab": {
          "base_uri": "https://localhost:8080/",
          "height": 308
        },
        "outputId": "2aa1b8b7-2ee7-4e70-86b5-89e9100da5f3"
      },
      "source": [
        "# put the code here\n",
        "!pip install chakin\n",
        "import chakin\n",
        "chakin.download(number=12, save_dir='./')\n",
        "\n",
        "import os\n",
        "os.system(\"unzip './glove.6B.zip' \")\n",
        "from tensorflow.contrib.keras.api.keras.initializers import Constant\n",
        "wordToIndex, indexToWord, wordToGlove = readGloveFile('glove.6B.300d.txt')\n",
        "embeddingLayer = createPretrainedEmbeddingLayer(wordToGlove, wordToIndex, isTrainable=True)\n",
        "# os.system(\"rm 'embeddings/glove.6B.zip'\")"
      ],
      "execution_count": 16,
      "outputs": [
        {
          "output_type": "stream",
          "text": [
            "Collecting chakin\n",
            "  Downloading https://files.pythonhosted.org/packages/ca/3f/ca2f63451c0ab47970a6ab1d39d96118e70b6e73125529cea767c31368a3/chakin-0.0.8-py3-none-any.whl\n",
            "Requirement already satisfied: progressbar2>=3.20.0 in /usr/local/lib/python3.6/dist-packages (from chakin) (3.38.0)\n",
            "Requirement already satisfied: pandas>=0.20.1 in /usr/local/lib/python3.6/dist-packages (from chakin) (0.25.3)\n",
            "Requirement already satisfied: six>=1.10.0 in /usr/local/lib/python3.6/dist-packages (from chakin) (1.12.0)\n",
            "Requirement already satisfied: python-utils>=2.3.0 in /usr/local/lib/python3.6/dist-packages (from progressbar2>=3.20.0->chakin) (2.3.0)\n",
            "Requirement already satisfied: python-dateutil>=2.6.1 in /usr/local/lib/python3.6/dist-packages (from pandas>=0.20.1->chakin) (2.6.1)\n",
            "Requirement already satisfied: pytz>=2017.2 in /usr/local/lib/python3.6/dist-packages (from pandas>=0.20.1->chakin) (2018.9)\n",
            "Requirement already satisfied: numpy>=1.13.3 in /usr/local/lib/python3.6/dist-packages (from pandas>=0.20.1->chakin) (1.17.5)\n",
            "Installing collected packages: chakin\n",
            "Successfully installed chakin-0.0.8\n"
          ],
          "name": "stdout"
        },
        {
          "output_type": "stream",
          "text": [
            "Test: 100% ||                                      | Time:  0:06:29   2.1 MiB/s\n"
          ],
          "name": "stderr"
        },
        {
          "output_type": "stream",
          "text": [
            "WARNING:tensorflow:From /usr/local/lib/python3.6/dist-packages/keras/backend/tensorflow_backend.py:66: The name tf.get_default_graph is deprecated. Please use tf.compat.v1.get_default_graph instead.\n",
            "\n"
          ],
          "name": "stdout"
        }
      ]
    },
    {
      "cell_type": "code",
      "metadata": {
        "id": "tMtj9HGV_0_t",
        "colab_type": "code",
        "colab": {}
      },
      "source": [
        "# from keras.preprocessing.sequence import pad_sequences\n",
        "# from sklearn.model_selection import train_test_split\n",
        "# MAXIMUM_LENGTH = 500\n",
        "# train_data,test_data,train_labels,test_labels = train_test_split(sents_as_ids,labels,test_size=0.2,stratify=labels)\n",
        "\n",
        "# preprocessed_train_data = pad_sequences(train_data,maxlen=MAXIMUM_LENGTH)\n",
        "# processed_test_data = pad_sequences(test_data,maxlen=MAXIMUM_LENGTH)"
      ],
      "execution_count": 0,
      "outputs": []
    },
    {
      "cell_type": "code",
      "metadata": {
        "id": "3RZdV3Mh_0_x",
        "colab_type": "code",
        "colab": {}
      },
      "source": [
        "# print('Length of sample train_data before preprocessing:', len(train_data[1]), type(train_data[1]))"
      ],
      "execution_count": 0,
      "outputs": []
    },
    {
      "cell_type": "code",
      "metadata": {
        "id": "fgjA08y-_0_2",
        "colab_type": "code",
        "colab": {}
      },
      "source": [
        "# print('Length of sample train_data after preprocessing:', len(preprocessed_train_data[1]), type(train_data[1]))"
      ],
      "execution_count": 0,
      "outputs": []
    },
    {
      "cell_type": "code",
      "metadata": {
        "id": "WGAiETzW_0_8",
        "colab_type": "code",
        "colab": {
          "base_uri": "https://localhost:8080/",
          "height": 386
        },
        "outputId": "cf3f8029-541b-4e00-90f9-061f8a635e42"
      },
      "source": [
        "model = Sequential()\n",
        "EMBED_SIZE = 100\n",
        "model.add(embeddingLayer)\n",
        "# model.add(Embedding(vocab_size,EMBED_SIZE,input_length=MAXIMUM_LENGTH))\n",
        "# model.add(Dropout(0.08))\n",
        "model.add(LSTM(100, activation='tanh'))\n",
        "# model.add(Dropout(0.08))\n",
        "model.add(Dense(train_labels.shape[1],activation='softmax'))\n",
        "# put the code here\n",
        "# model = Sequential()\n",
        "# model.add(Embedding(vocab_size, 30, input_length=MAXIMUM_LENGTH))\n",
        "# model.add(Convolution1D(64,5,activation=\"relu\"))\n",
        "# model.add(Dropout(0.5))\n",
        "# model.add(Convolution1D(32,3,activation=\"relu\"))\n",
        "# model.add(Dropout(0.5))\n",
        "# model.add(Convolution1D(16,3,activation=\"sigmoid\"))\n",
        "# model.add(MaxPooling1D(5))\n",
        "# model.add(Flatten())\n",
        "# model.add(Dense(train_labels.shape[1],activation='softmax'))\n",
        "# model.compile(loss='categorical_crossentropy', optimizer='adam',metrics=['accuracy'])\n",
        "model.summary()\n",
        "\n"
      ],
      "execution_count": 17,
      "outputs": [
        {
          "output_type": "stream",
          "text": [
            "WARNING:tensorflow:From /usr/local/lib/python3.6/dist-packages/keras/backend/tensorflow_backend.py:541: The name tf.placeholder is deprecated. Please use tf.compat.v1.placeholder instead.\n",
            "\n",
            "WARNING:tensorflow:From /usr/local/lib/python3.6/dist-packages/keras/backend/tensorflow_backend.py:4432: The name tf.random_uniform is deprecated. Please use tf.random.uniform instead.\n",
            "\n",
            "Model: \"sequential_1\"\n",
            "_________________________________________________________________\n",
            "Layer (type)                 Output Shape              Param #   \n",
            "=================================================================\n",
            "embedding_1 (Embedding)      (None, None, 300)         120000300 \n",
            "_________________________________________________________________\n",
            "lstm_1 (LSTM)                (None, 100)               160400    \n",
            "_________________________________________________________________\n",
            "dense_1 (Dense)              (None, 4)                 404       \n",
            "=================================================================\n",
            "Total params: 120,161,104\n",
            "Trainable params: 120,161,104\n",
            "Non-trainable params: 0\n",
            "_________________________________________________________________\n"
          ],
          "name": "stdout"
        }
      ]
    },
    {
      "cell_type": "code",
      "metadata": {
        "id": "qGl5c7sI_1AD",
        "colab_type": "code",
        "colab": {
          "base_uri": "https://localhost:8080/",
          "height": 812
        },
        "outputId": "4e70aff5-43ce-4a99-ee62-43c870e4e054"
      },
      "source": [
        "model.compile(loss='binary_crossentropy',optimizer='adam',metrics=['accuracy'])\n",
        "\n",
        "# X_val = np.array(X_train_enc[:10000])\n",
        "# partial_X_train = np.array(X_train_enc[10000:])\n",
        "\n",
        "history = model.fit(X_train_enc,\n",
        "                    train_labels,\n",
        "                    epochs=5,\n",
        "                    batch_size=64,\n",
        "                    validation_split=0.2,\n",
        "                    verbose=1)\n"
      ],
      "execution_count": 18,
      "outputs": [
        {
          "output_type": "stream",
          "text": [
            "WARNING:tensorflow:From /usr/local/lib/python3.6/dist-packages/keras/optimizers.py:793: The name tf.train.Optimizer is deprecated. Please use tf.compat.v1.train.Optimizer instead.\n",
            "\n",
            "WARNING:tensorflow:From /usr/local/lib/python3.6/dist-packages/keras/backend/tensorflow_backend.py:3657: The name tf.log is deprecated. Please use tf.math.log instead.\n",
            "\n",
            "WARNING:tensorflow:From /usr/local/lib/python3.6/dist-packages/tensorflow_core/python/ops/nn_impl.py:183: where (from tensorflow.python.ops.array_ops) is deprecated and will be removed in a future version.\n",
            "Instructions for updating:\n",
            "Use tf.where in 2.0, which has the same broadcast rule as np.where\n",
            "WARNING:tensorflow:From /usr/local/lib/python3.6/dist-packages/keras/backend/tensorflow_backend.py:1033: The name tf.assign_add is deprecated. Please use tf.compat.v1.assign_add instead.\n",
            "\n",
            "WARNING:tensorflow:From /usr/local/lib/python3.6/dist-packages/keras/backend/tensorflow_backend.py:1020: The name tf.assign is deprecated. Please use tf.compat.v1.assign instead.\n",
            "\n",
            "WARNING:tensorflow:From /usr/local/lib/python3.6/dist-packages/keras/backend/tensorflow_backend.py:3005: The name tf.Session is deprecated. Please use tf.compat.v1.Session instead.\n",
            "\n",
            "Train on 8440 samples, validate on 2110 samples\n",
            "Epoch 1/7\n",
            "WARNING:tensorflow:From /usr/local/lib/python3.6/dist-packages/keras/backend/tensorflow_backend.py:190: The name tf.get_default_session is deprecated. Please use tf.compat.v1.get_default_session instead.\n",
            "\n",
            "WARNING:tensorflow:From /usr/local/lib/python3.6/dist-packages/keras/backend/tensorflow_backend.py:197: The name tf.ConfigProto is deprecated. Please use tf.compat.v1.ConfigProto instead.\n",
            "\n"
          ],
          "name": "stdout"
        },
        {
          "output_type": "stream",
          "text": [
            "/usr/local/lib/python3.6/dist-packages/tensorflow_core/python/framework/indexed_slices.py:421: UserWarning: Converting sparse IndexedSlices to a dense Tensor with 120000300 elements. This may consume a large amount of memory.\n",
            "  num_elements)\n"
          ],
          "name": "stderr"
        },
        {
          "output_type": "stream",
          "text": [
            "WARNING:tensorflow:From /usr/local/lib/python3.6/dist-packages/keras/backend/tensorflow_backend.py:207: The name tf.global_variables is deprecated. Please use tf.compat.v1.global_variables instead.\n",
            "\n",
            "WARNING:tensorflow:From /usr/local/lib/python3.6/dist-packages/keras/backend/tensorflow_backend.py:216: The name tf.is_variable_initialized is deprecated. Please use tf.compat.v1.is_variable_initialized instead.\n",
            "\n",
            "WARNING:tensorflow:From /usr/local/lib/python3.6/dist-packages/keras/backend/tensorflow_backend.py:223: The name tf.variables_initializer is deprecated. Please use tf.compat.v1.variables_initializer instead.\n",
            "\n",
            "8440/8440 [==============================] - 36s 4ms/step - loss: 0.3882 - acc: 0.8457 - val_loss: 0.3812 - val_acc: 0.8504\n",
            "Epoch 2/7\n",
            "8440/8440 [==============================] - 20s 2ms/step - loss: 0.3718 - acc: 0.8531 - val_loss: 0.3680 - val_acc: 0.8509\n",
            "Epoch 3/7\n",
            "8440/8440 [==============================] - 20s 2ms/step - loss: 0.3400 - acc: 0.8635 - val_loss: 0.3620 - val_acc: 0.8537\n",
            "Epoch 4/7\n",
            "8440/8440 [==============================] - 20s 2ms/step - loss: 0.2889 - acc: 0.8828 - val_loss: 0.3544 - val_acc: 0.8601\n",
            "Epoch 5/7\n",
            "8440/8440 [==============================] - 20s 2ms/step - loss: 0.2530 - acc: 0.8966 - val_loss: 0.3848 - val_acc: 0.8415\n",
            "Epoch 6/7\n",
            "8440/8440 [==============================] - 20s 2ms/step - loss: 0.2263 - acc: 0.9083 - val_loss: 0.4109 - val_acc: 0.8331\n",
            "Epoch 7/7\n",
            "8440/8440 [==============================] - 20s 2ms/step - loss: 0.2026 - acc: 0.9204 - val_loss: 0.4165 - val_acc: 0.8275\n"
          ],
          "name": "stdout"
        }
      ]
    },
    {
      "cell_type": "code",
      "metadata": {
        "id": "CeHj8mioLJzR",
        "colab_type": "code",
        "colab": {
          "base_uri": "https://localhost:8080/",
          "height": 56
        },
        "outputId": "18bdbd64-f46e-4539-b264-a31ccfd2d1a5"
      },
      "source": [
        "results = model.evaluate(X_test_enc, test_labels)\n",
        "print(results)"
      ],
      "execution_count": 19,
      "outputs": [
        {
          "output_type": "stream",
          "text": [
            "2638/2638 [==============================] - 1s 468us/step\n",
            "[0.42076714862197345, 0.8285633055344959]\n"
          ],
          "name": "stdout"
        }
      ]
    },
    {
      "cell_type": "code",
      "metadata": {
        "id": "VWHJtkoYOSNN",
        "colab_type": "code",
        "colab": {
          "base_uri": "https://localhost:8080/",
          "height": 295
        },
        "outputId": "97b54eae-04a8-4047-a7df-88c11601093c"
      },
      "source": [
        "import matplotlib.pyplot as plt\n",
        "\n",
        "history_dict = history.history\n",
        "\n",
        "acc = history_dict['acc']\n",
        "val_acc = history_dict['val_acc']\n",
        "loss = history_dict['loss']\n",
        "val_loss = history_dict['val_loss']\n",
        "\n",
        "epochs = range(1, len(acc) + 1)\n",
        "\n",
        "plt.plot(epochs, acc, 'bo', label='Training acc')\n",
        "plt.plot(epochs, val_acc, 'b', label='Validation acc')\n",
        "plt.title('Training and validation accuracy')\n",
        "plt.xlabel('Epochs')\n",
        "plt.ylabel('Accuracy')\n",
        "plt.legend()\n",
        "\n",
        "plt.show()"
      ],
      "execution_count": 20,
      "outputs": [
        {
          "output_type": "display_data",
          "data": {
            "image/png": "[encoded data removed]",
            "text/plain": [
              "<Figure size 432x288 with 1 Axes>"
            ]
          },
          "metadata": {
            "tags": []
          }
        }
      ]
    },
    {
      "cell_type": "code",
      "metadata": {
        "id": "Vj4L7JPhQCeL",
        "colab_type": "code",
        "colab": {
          "base_uri": "https://localhost:8080/",
          "height": 560
        },
        "outputId": "bebc4087-ba54-4306-966f-866959c62eb1"
      },
      "source": [
        "# put the code here\n",
        "model2 = Sequential()\n",
        "model2.add(embeddingLayer)\n",
        "# model2.add(Convolution1D(64,5,activation=\"relu\"))\n",
        "# model2.add(Dropout(0.5))\n",
        "# model2.add(Convolution1D(32,3,activation=\"relu\"))\n",
        "# model2.add(Dropout(0.5))\n",
        "# model2.add(Convolution1D(16,3,activation=\"sigmoid\"))\n",
        "# model2.add(MaxPooling1D(5))\n",
        "# model2.add(Flatten())\n",
        "# model2.add(Dense(train_labels.shape[1],activation='softmax'))\n",
        "# model2.compile(loss='categorical_crossentropy', optimizer='adam',metrics=['accuracy'])\n",
        "model2.add(Dropout(0.2))\n",
        "model2.add(Convolution1D(64, 5, activation='relu'))\n",
        "model2.add(MaxPooling1D(pool_size=4))\n",
        "model2.add(LSTM(100))\n",
        "model2.add(Dense(train_labels.shape[1],activation='softmax'))\n",
        "model2.summary()"
      ],
      "execution_count": 21,
      "outputs": [
        {
          "output_type": "stream",
          "text": [
            "WARNING:tensorflow:From /usr/local/lib/python3.6/dist-packages/keras/backend/tensorflow_backend.py:148: The name tf.placeholder_with_default is deprecated. Please use tf.compat.v1.placeholder_with_default instead.\n",
            "\n",
            "WARNING:tensorflow:From /usr/local/lib/python3.6/dist-packages/keras/backend/tensorflow_backend.py:3733: calling dropout (from tensorflow.python.ops.nn_ops) with keep_prob is deprecated and will be removed in a future version.\n",
            "Instructions for updating:\n",
            "Please use `rate` instead of `keep_prob`. Rate should be set to `rate = 1 - keep_prob`.\n",
            "WARNING:tensorflow:From /usr/local/lib/python3.6/dist-packages/keras/backend/tensorflow_backend.py:4267: The name tf.nn.max_pool is deprecated. Please use tf.nn.max_pool2d instead.\n",
            "\n",
            "Model: \"sequential_2\"\n",
            "_________________________________________________________________\n",
            "Layer (type)                 Output Shape              Param #   \n",
            "=================================================================\n",
            "embedding_1 (Embedding)      (None, None, 300)         120000300 \n",
            "_________________________________________________________________\n",
            "dropout_1 (Dropout)          (None, None, 300)         0         \n",
            "_________________________________________________________________\n",
            "conv1d_1 (Conv1D)            (None, None, 64)          96064     \n",
            "_________________________________________________________________\n",
            "max_pooling1d_1 (MaxPooling1 (None, None, 64)          0         \n",
            "_________________________________________________________________\n",
            "lstm_2 (LSTM)                (None, 100)               66000     \n",
            "_________________________________________________________________\n",
            "dense_2 (Dense)              (None, 4)                 404       \n",
            "=================================================================\n",
            "Total params: 120,162,768\n",
            "Trainable params: 120,162,768\n",
            "Non-trainable params: 0\n",
            "_________________________________________________________________\n"
          ],
          "name": "stdout"
        }
      ]
    },
    {
      "cell_type": "code",
      "metadata": {
        "id": "ONUyN2KqUT9Z",
        "colab_type": "code",
        "colab": {
          "base_uri": "https://localhost:8080/",
          "height": 289
        },
        "outputId": "90045276-4c46-4b85-8a24-d1ad2d2f8ea9"
      },
      "source": [
        "model2.compile(loss='categorical_crossentropy', optimizer='adam',metrics=['accuracy'])\n",
        "\n",
        "# X_val = np.array(X_train_enc[:10000])\n",
        "# partial_X_train = np.array(X_train_enc[10000:])\n",
        "\n",
        "history = model2.fit(X_train_enc,\n",
        "                    train_labels,\n",
        "                    epochs=5,\n",
        "                    batch_size=256,\n",
        "                    validation_split=0.2,\n",
        "                    verbose=1)"
      ],
      "execution_count": 23,
      "outputs": [
        {
          "output_type": "stream",
          "text": [
            "/usr/local/lib/python3.6/dist-packages/tensorflow_core/python/framework/indexed_slices.py:421: UserWarning: Converting sparse IndexedSlices to a dense Tensor with 120000300 elements. This may consume a large amount of memory.\n",
            "  num_elements)\n"
          ],
          "name": "stderr"
        },
        {
          "output_type": "stream",
          "text": [
            "Train on 8440 samples, validate on 2110 samples\n",
            "Epoch 1/5\n",
            "8440/8440 [==============================] - 12s 1ms/step - loss: 0.9485 - acc: 0.7013 - val_loss: 0.8645 - val_acc: 0.7009\n",
            "Epoch 2/5\n",
            "8440/8440 [==============================] - 3s 412us/step - loss: 0.7046 - acc: 0.7392 - val_loss: 0.9738 - val_acc: 0.7052\n",
            "Epoch 3/5\n",
            "8440/8440 [==============================] - 3s 410us/step - loss: 0.4851 - acc: 0.8212 - val_loss: 1.0057 - val_acc: 0.6844\n",
            "Epoch 4/5\n",
            "8440/8440 [==============================] - 3s 410us/step - loss: 0.4372 - acc: 0.8505 - val_loss: 1.0501 - val_acc: 0.6512\n",
            "Epoch 5/5\n",
            "8440/8440 [==============================] - 3s 406us/step - loss: 0.3906 - acc: 0.8678 - val_loss: 1.1486 - val_acc: 0.6242\n"
          ],
          "name": "stdout"
        }
      ]
    },
    {
      "cell_type": "code",
      "metadata": {
        "id": "9enOFOY6Zf3G",
        "colab_type": "code",
        "colab": {
          "base_uri": "https://localhost:8080/",
          "height": 56
        },
        "outputId": "b09aa16f-8f23-4d67-e37c-d1a831239c66"
      },
      "source": [
        "results = model2.evaluate(X_test_enc, test_labels)\n",
        "print(results)"
      ],
      "execution_count": 24,
      "outputs": [
        {
          "output_type": "stream",
          "text": [
            "2638/2638 [==============================] - 0s 168us/step\n",
            "[1.2025372794941576, 0.6152388174213904]\n"
          ],
          "name": "stdout"
        }
      ]
    },
    {
      "cell_type": "code",
      "metadata": {
        "id": "edQToTUQZiyL",
        "colab_type": "code",
        "colab": {
          "base_uri": "https://localhost:8080/",
          "height": 295
        },
        "outputId": "29a24d1d-00b9-4c38-fad8-50814b43e60e"
      },
      "source": [
        "import matplotlib.pyplot as plt\n",
        "\n",
        "history_dict = history.history\n",
        "\n",
        "acc = history_dict['acc']\n",
        "val_acc = history_dict['val_acc']\n",
        "loss = history_dict['loss']\n",
        "val_loss = history_dict['val_loss']\n",
        "\n",
        "epochs = range(1, len(acc) + 1)\n",
        "\n",
        "plt.plot(epochs, acc, 'bo', label='Training acc')\n",
        "plt.plot(epochs, val_acc, 'b', label='Validation acc')\n",
        "plt.title('Training and validation accuracy')\n",
        "plt.xlabel('Epochs')\n",
        "plt.ylabel('Accuracy')\n",
        "plt.legend()\n",
        "\n",
        "plt.show()"
      ],
      "execution_count": 25,
      "outputs": [
        {
          "output_type": "display_data",
          "data": {
            "image/png": "[encoded data removed]",
            "text/plain": [
              "<Figure size 432x288 with 1 Axes>"
            ]
          },
          "metadata": {
            "tags": []
          }
        }
      ]
    }
  ]
}