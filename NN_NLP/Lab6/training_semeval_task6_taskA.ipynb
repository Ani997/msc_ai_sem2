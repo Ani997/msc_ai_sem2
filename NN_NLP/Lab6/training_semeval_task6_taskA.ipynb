{
 "cells": [
  {
   "cell_type": "code",
   "execution_count": 11,
   "metadata": {
    "colab": {
     "base_uri": "https://localhost:8080/",
     "height": 85
    },
    "colab_type": "code",
    "id": "3eu0HpHN_09n",
    "outputId": "164dd89d-cd6d-469c-852b-5db20089defc"
   },
   "outputs": [
    {
     "name": "stderr",
     "output_type": "stream",
     "text": [
      "Using TensorFlow backend.\n"
     ]
    },
    {
     "data": {
      "text/html": [
       "<p style=\"color: red;\">\n",
       "The default version of TensorFlow in Colab will soon switch to TensorFlow 2.x.<br>\n",
       "We recommend you <a href=\"https://www.tensorflow.org/guide/migrate\" target=\"_blank\">upgrade</a> now \n",
       "or ensure your notebook will continue to use TensorFlow 1.x via the <code>%tensorflow_version 1.x</code> magic:\n",
       "<a href=\"https://colab.research.google.com/notebooks/tensorflow_version.ipynb\" target=\"_blank\">more info</a>.</p>\n"
      ],
      "text/plain": [
       "<IPython.core.display.HTML object>"
      ]
     },
     "metadata": {
      "tags": []
     },
     "output_type": "display_data"
    }
   ],
   "source": [
    "from keras.layers import Input, Dense, Embedding, Convolution1D, MaxPooling1D, MaxPooling2D, Convolution2D, LSTM\n",
    "from keras.layers import Reshape, Flatten, Dropout, Concatenate\n",
    "from keras.layers import Lambda, GlobalAveragePooling1D, Dense, Embedding\n",
    "from keras.regularizers import l2, l1\n",
    "from keras import regularizers\n",
    "from keras.callbacks import ModelCheckpoint\n",
    "from keras.optimizers import Adam\n",
    "from keras.models import Sequential\n",
    "from sklearn.model_selection import train_test_split\n",
    "import numpy as np\n",
    "import matplotlib.pyplot as plt\n",
    "from keras.preprocessing.text import one_hot as oneHOT\n",
    "from keras.preprocessing.sequence import pad_sequences"
   ]
  },
  {
   "cell_type": "code",
   "execution_count": 0,
   "metadata": {
    "colab": {},
    "colab_type": "code",
    "id": "V4QtxxgY_094"
   },
   "outputs": [],
   "source": [
    "import pandas as pd\n",
    "import numpy as np\n",
    "df_tweet = pd.read_csv(\"data/processed_tweet2.csv\")\n",
    "import ast\n",
    "df_tweet['tweet_pr_st1'] = df_tweet.apply(lambda x: ast.literal_eval(x.tweet_pr_st1),axis =1)\n",
    "df_tweet['tweet_pr_st2'] = df_tweet.apply(lambda x: ast.literal_eval(x.tweet_pr_st2),axis =1)\n",
    "\n",
    "df_tweet['subtask_a'] = df_tweet.apply(lambda x: 0 if x.subtask_a=='NOT' else 1,axis = 1)\n",
    "df_tweet['subtask_b'] = df_tweet.apply(lambda x: 1 if x.subtask_b=='UNT' else 2 if x.subtask_b=='TIN' else 0,axis = 1)\n",
    "df_tweet['subtask_c'] = df_tweet.apply(lambda x: 2 if x.subtask_c=='IND' else 3 if x.subtask_c=='GRP' else 4 if x.subtask_c =='OTH' else 0,axis = 1)\n",
    "\n"
   ]
  },
  {
   "cell_type": "code",
   "execution_count": 0,
   "metadata": {
    "colab": {},
    "colab_type": "code",
    "id": "3y7t8sRf_0-E"
   },
   "outputs": [],
   "source": [
    "normalised_corpus = list(df_tweet['tweet_pr_st2'])\n",
    "labels = list(df_tweet['subtask_a'])"
   ]
  },
  {
   "cell_type": "code",
   "execution_count": 0,
   "metadata": {
    "colab": {},
    "colab_type": "code",
    "id": "WYggLFu2_0-N"
   },
   "outputs": [],
   "source": [
    "normalised_corpus[:3]"
   ]
  },
  {
   "cell_type": "code",
   "execution_count": 0,
   "metadata": {
    "colab": {},
    "colab_type": "code",
    "id": "AkfJ6XZM_0-W"
   },
   "outputs": [],
   "source": [
    "import collections, itertools\n",
    "word_counter = collections.Counter(list(itertools.chain.from_iterable(normalised_corpus)))"
   ]
  },
  {
   "cell_type": "code",
   "execution_count": 4,
   "metadata": {
    "colab": {
     "base_uri": "https://localhost:8080/",
     "height": 36
    },
    "colab_type": "code",
    "id": "_mF2eI0h_0-e",
    "outputId": "7cede3b7-a528-427b-d7f8-200659faec9c"
   },
   "outputs": [
    {
     "data": {
      "text/plain": [
       "13910"
      ]
     },
     "execution_count": 4,
     "metadata": {
      "tags": []
     },
     "output_type": "execute_result"
    }
   ],
   "source": [
    "word_ids = list(set(list(itertools.chain.from_iterable(normalised_corpus))))\n",
    "len(word_ids)"
   ]
  },
  {
   "cell_type": "code",
   "execution_count": 0,
   "metadata": {
    "colab": {},
    "colab_type": "code",
    "id": "vFtr7lOo_0-l"
   },
   "outputs": [],
   "source": [
    "word2idx = {}\n",
    "word2idx = {token:id+3 for id,token in enumerate(word_ids)}\n",
    "word2idx['<PAD>'] = 0\n",
    "word2idx['<START>'] = 1\n",
    "word2idx['<UNK>'] = 2\n",
    "word2idx['<UNUSED>'] = 3\n",
    "\n",
    "# word_index = {k:(v+3) for k,v in word_index.items()}\n",
    "# word_index[\"<PAD>\"] = 0\n",
    "# word_index[\"<START>\"] = 1\n",
    "# word_index[\"<UNK>\"] = 2  \n",
    "# word_index[\"<UNUSED>\"] = 3"
   ]
  },
  {
   "cell_type": "code",
   "execution_count": 0,
   "metadata": {
    "colab": {},
    "colab_type": "code",
    "id": "RMG_34Gf_0-r"
   },
   "outputs": [],
   "source": [
    "idx2word = {v: k for k,v in word2idx.items()}"
   ]
  },
  {
   "cell_type": "code",
   "execution_count": 0,
   "metadata": {
    "colab": {},
    "colab_type": "code",
    "id": "uD73tmyo_0-y"
   },
   "outputs": [],
   "source": [
    "sents_as_ids = []\n",
    "for i in range(len(normalised_corpus)):\n",
    "    sents_as_ids.append([word2idx[j] for j in normalised_corpus[i]])"
   ]
  },
  {
   "cell_type": "code",
   "execution_count": 0,
   "metadata": {
    "colab": {},
    "colab_type": "code",
    "id": "QQVcs4sv_0-5"
   },
   "outputs": [],
   "source": [
    "normalised_corpus[0:3]"
   ]
  },
  {
   "cell_type": "code",
   "execution_count": 0,
   "metadata": {
    "colab": {},
    "colab_type": "code",
    "id": "LhxUGWLz_0_B"
   },
   "outputs": [],
   "source": [
    "sents_as_ids[0:3]"
   ]
  },
  {
   "cell_type": "code",
   "execution_count": 0,
   "metadata": {
    "colab": {},
    "colab_type": "code",
    "id": "Q_FmU4fV_0_K"
   },
   "outputs": [],
   "source": [
    "vocab_size = len(word_ids) + 3\n",
    "maxlen=50"
   ]
  },
  {
   "cell_type": "code",
   "execution_count": 0,
   "metadata": {
    "colab": {},
    "colab_type": "code",
    "id": "JI-0FOzY_0_R"
   },
   "outputs": [],
   "source": [
    "# def one_hot(labels):\n",
    "#     from sklearn.preprocessing import OneHotEncoder\n",
    "#     encoder = OneHotEncoder()\n",
    "#     return encoder.fit_transform(np.array(labels).reshape(-1,1)).toarray()\n",
    "\n",
    "# labels = one_hot(labels)"
   ]
  },
  {
   "cell_type": "code",
   "execution_count": 0,
   "metadata": {
    "colab": {},
    "colab_type": "code",
    "id": "oGNMN0Dd_0_X"
   },
   "outputs": [],
   "source": [
    "def readGloveFile(gloveFile):\n",
    "    with open(gloveFile, 'r') as f:\n",
    "        wordToGlove = {}  \n",
    "        wordToIndex = {}  \n",
    "        indexToWord = {}  \n",
    "\n",
    "        for line in f:\n",
    "            record = line.strip().split()\n",
    "            token = record[0] \n",
    "            wordToGlove[token] = np.array(record[1:], dtype=np.float64) \n",
    "            \n",
    "        tokens = sorted(wordToGlove.keys())\n",
    "        for idx, tok in enumerate(tokens):\n",
    "            kerasIdx = idx + 1  \n",
    "            wordToIndex[tok] = kerasIdx \n",
    "            indexToWord[kerasIdx] = tok \n",
    "\n",
    "    return wordToIndex, indexToWord, wordToGlove"
   ]
  },
  {
   "cell_type": "code",
   "execution_count": 0,
   "metadata": {
    "colab": {},
    "colab_type": "code",
    "id": "gCrqCrX2_0_d"
   },
   "outputs": [],
   "source": [
    "def createPretrainedEmbeddingLayer(wordToGlove, wordToIndex, isTrainable):\n",
    "    vocabLen = len(wordToIndex) + 1  \n",
    "    embDim = next(iter(wordToGlove.values())).shape[0]  \n",
    "   \n",
    "    embeddingMatrix = np.zeros((vocabLen, embDim))  \n",
    "    for word, index in wordToIndex.items():\n",
    "        embeddingMatrix[index, :] = wordToGlove[word] \n",
    "\n",
    "    embeddingLayer = Embedding(vocabLen, embDim, embeddings_initializer=Constant(embeddingMatrix), trainable=isTrainable)\n",
    "    return embeddingLayer"
   ]
  },
  {
   "cell_type": "code",
   "execution_count": 0,
   "metadata": {
    "colab": {},
    "colab_type": "code",
    "id": "CYsIYbDk_0_h"
   },
   "outputs": [],
   "source": [
    "train_data,test_data,train_labels,test_labels = train_test_split(sents_as_ids,labels,test_size=0.2,stratify=labels)\n",
    "\n",
    "X_train_enc = pad_sequences(train_data,\n",
    "                            value=word2idx[\"<PAD>\"],\n",
    "                            padding='post',\n",
    "                            maxlen=50)\n",
    "X_test_enc = pad_sequences(test_data,\n",
    "                            value=word2idx[\"<PAD>\"],\n",
    "                            padding='post',\n",
    "                            maxlen=50)\n"
   ]
  },
  {
   "cell_type": "code",
   "execution_count": 0,
   "metadata": {
    "colab": {},
    "colab_type": "code",
    "id": "l5VvyO3V_0_n"
   },
   "outputs": [],
   "source": [
    "# put the code here\n",
    "# !pip install chakin\n",
    "# import chakin\n",
    "# chakin.download(number=12, save_dir='./')\n",
    "\n",
    "# import os\n",
    "# os.system(\"unzip './glove.6B.zip' \")\n",
    "from tensorflow.contrib.keras.api.keras.initializers import Constant\n",
    "wordToIndex, indexToWord, wordToGlove = readGloveFile('glove.6B.300d.txt')\n",
    "embeddingLayer = createPretrainedEmbeddingLayer(wordToGlove, wordToIndex, isTrainable=True)\n",
    "# os.system(\"rm 'embeddings/glove.6B.zip'\")"
   ]
  },
  {
   "cell_type": "code",
   "execution_count": 0,
   "metadata": {
    "colab": {},
    "colab_type": "code",
    "id": "tMtj9HGV_0_t"
   },
   "outputs": [],
   "source": [
    "# from keras.preprocessing.sequence import pad_sequences\n",
    "# from sklearn.model_selection import train_test_split\n",
    "# MAXIMUM_LENGTH = 500\n",
    "# train_data,test_data,train_labels,test_labels = train_test_split(sents_as_ids,labels,test_size=0.2,stratify=labels)\n",
    "\n",
    "# preprocessed_train_data = pad_sequences(train_data,maxlen=MAXIMUM_LENGTH)\n",
    "# processed_test_data = pad_sequences(test_data,maxlen=MAXIMUM_LENGTH)"
   ]
  },
  {
   "cell_type": "code",
   "execution_count": 0,
   "metadata": {
    "colab": {},
    "colab_type": "code",
    "id": "3RZdV3Mh_0_x"
   },
   "outputs": [],
   "source": [
    "# print('Length of sample train_data before preprocessing:', len(train_data[1]), type(train_data[1]))"
   ]
  },
  {
   "cell_type": "code",
   "execution_count": 0,
   "metadata": {
    "colab": {},
    "colab_type": "code",
    "id": "fgjA08y-_0_2"
   },
   "outputs": [],
   "source": [
    "# print('Length of sample train_data after preprocessing:', len(preprocessed_train_data[1]), type(train_data[1]))"
   ]
  },
  {
   "cell_type": "code",
   "execution_count": 20,
   "metadata": {
    "colab": {
     "base_uri": "https://localhost:8080/",
     "height": 288
    },
    "colab_type": "code",
    "id": "WGAiETzW_0_8",
    "outputId": "36a72492-3ff3-45e6-97e6-3cdf0fb7a5b6"
   },
   "outputs": [
    {
     "name": "stdout",
     "output_type": "stream",
     "text": [
      "Model: \"sequential_2\"\n",
      "_________________________________________________________________\n",
      "Layer (type)                 Output Shape              Param #   \n",
      "=================================================================\n",
      "embedding_1 (Embedding)      (None, None, 300)         120000300 \n",
      "_________________________________________________________________\n",
      "lstm_2 (LSTM)                (None, 100)               160400    \n",
      "_________________________________________________________________\n",
      "dense_2 (Dense)              (None, 1)                 101       \n",
      "=================================================================\n",
      "Total params: 120,160,801\n",
      "Trainable params: 120,160,801\n",
      "Non-trainable params: 0\n",
      "_________________________________________________________________\n"
     ]
    }
   ],
   "source": [
    "model = Sequential()\n",
    "EMBED_SIZE = 100\n",
    "model.add(embeddingLayer)\n",
    "# model.add(Embedding(vocab_size,EMBED_SIZE,input_length=MAXIMUM_LENGTH))\n",
    "model.add(LSTM(100, activation='tanh'))\n",
    "model.add(Dense(1,activation='sigmoid',input_shape=(1,)))\n",
    "model.compile(loss='binary_crossentropy',optimizer='adam',metrics=['accuracy'])\n",
    "# put the code here\n",
    "# model = Sequential()\n",
    "# model.add(Embedding(vocab_size, 30, input_length=MAXIMUM_LENGTH))\n",
    "# model.add(Convolution1D(64,5,activation=\"relu\"))\n",
    "# model.add(Dropout(0.5))\n",
    "# model.add(Convolution1D(32,3,activation=\"relu\"))\n",
    "# model.add(Dropout(0.5))\n",
    "# model.add(Convolution1D(16,3,activation=\"sigmoid\"))\n",
    "# model.add(MaxPooling1D(5))\n",
    "# model.add(Flatten())\n",
    "# model.add(Dense(train_labels.shape[1],activation='softmax'))\n",
    "# model.compile(loss='categorical_crossentropy', optimizer='adam',metrics=['accuracy'])\n",
    "model.summary()\n",
    "\n"
   ]
  },
  {
   "cell_type": "code",
   "execution_count": 21,
   "metadata": {
    "colab": {
     "base_uri": "https://localhost:8080/",
     "height": 1000
    },
    "colab_type": "code",
    "id": "qGl5c7sI_1AD",
    "outputId": "bc6ed7c0-18e6-4dd8-ff4d-fe04d5250a05"
   },
   "outputs": [
    {
     "name": "stdout",
     "output_type": "stream",
     "text": [
      "WARNING:tensorflow:From /usr/local/lib/python3.6/dist-packages/keras/backend/tensorflow_backend.py:1033: The name tf.assign_add is deprecated. Please use tf.compat.v1.assign_add instead.\n",
      "\n",
      "WARNING:tensorflow:From /usr/local/lib/python3.6/dist-packages/keras/backend/tensorflow_backend.py:1020: The name tf.assign is deprecated. Please use tf.compat.v1.assign instead.\n",
      "\n",
      "WARNING:tensorflow:From /usr/local/lib/python3.6/dist-packages/keras/backend/tensorflow_backend.py:3005: The name tf.Session is deprecated. Please use tf.compat.v1.Session instead.\n",
      "\n",
      "Train on 9706 samples, validate on 844 samples\n",
      "Epoch 1/15\n",
      "WARNING:tensorflow:From /usr/local/lib/python3.6/dist-packages/keras/backend/tensorflow_backend.py:190: The name tf.get_default_session is deprecated. Please use tf.compat.v1.get_default_session instead.\n",
      "\n",
      "WARNING:tensorflow:From /usr/local/lib/python3.6/dist-packages/keras/backend/tensorflow_backend.py:197: The name tf.ConfigProto is deprecated. Please use tf.compat.v1.ConfigProto instead.\n",
      "\n"
     ]
    },
    {
     "name": "stderr",
     "output_type": "stream",
     "text": [
      "/usr/local/lib/python3.6/dist-packages/tensorflow_core/python/framework/indexed_slices.py:421: UserWarning: Converting sparse IndexedSlices to a dense Tensor with 120000300 elements. This may consume a large amount of memory.\n",
      "  num_elements)\n"
     ]
    },
    {
     "name": "stdout",
     "output_type": "stream",
     "text": [
      "WARNING:tensorflow:From /usr/local/lib/python3.6/dist-packages/keras/backend/tensorflow_backend.py:207: The name tf.global_variables is deprecated. Please use tf.compat.v1.global_variables instead.\n",
      "\n",
      "WARNING:tensorflow:From /usr/local/lib/python3.6/dist-packages/keras/backend/tensorflow_backend.py:216: The name tf.is_variable_initialized is deprecated. Please use tf.compat.v1.is_variable_initialized instead.\n",
      "\n",
      "WARNING:tensorflow:From /usr/local/lib/python3.6/dist-packages/keras/backend/tensorflow_backend.py:223: The name tf.variables_initializer is deprecated. Please use tf.compat.v1.variables_initializer instead.\n",
      "\n",
      "9706/9706 [==============================] - 44s 4ms/step - loss: 0.6412 - acc: 0.6652 - val_loss: 0.6320 - val_acc: 0.6742\n",
      "Epoch 2/15\n",
      "9706/9706 [==============================] - 28s 3ms/step - loss: 0.6382 - acc: 0.6662 - val_loss: 0.6306 - val_acc: 0.6742\n",
      "Epoch 3/15\n",
      "9706/9706 [==============================] - 28s 3ms/step - loss: 0.6362 - acc: 0.6661 - val_loss: 0.6276 - val_acc: 0.6742\n",
      "Epoch 4/15\n",
      "9706/9706 [==============================] - 28s 3ms/step - loss: 0.5687 - acc: 0.7117 - val_loss: 0.5435 - val_acc: 0.7630\n",
      "Epoch 5/15\n",
      "9706/9706 [==============================] - 28s 3ms/step - loss: 0.4477 - acc: 0.8042 - val_loss: 0.5296 - val_acc: 0.7547\n",
      "Epoch 6/15\n",
      "9706/9706 [==============================] - 28s 3ms/step - loss: 0.3606 - acc: 0.8599 - val_loss: 0.5656 - val_acc: 0.7678\n",
      "Epoch 7/15\n",
      "9706/9706 [==============================] - 28s 3ms/step - loss: 0.2938 - acc: 0.8946 - val_loss: 0.6129 - val_acc: 0.7453\n",
      "Epoch 8/15\n",
      "9706/9706 [==============================] - 28s 3ms/step - loss: 0.2459 - acc: 0.9164 - val_loss: 0.7296 - val_acc: 0.7453\n",
      "Epoch 9/15\n",
      "9706/9706 [==============================] - 28s 3ms/step - loss: 0.2130 - acc: 0.9292 - val_loss: 0.7748 - val_acc: 0.7168\n",
      "Epoch 10/15\n",
      "9706/9706 [==============================] - 28s 3ms/step - loss: 0.1880 - acc: 0.9404 - val_loss: 0.7715 - val_acc: 0.7429\n",
      "Epoch 11/15\n",
      "9706/9706 [==============================] - 28s 3ms/step - loss: 0.1692 - acc: 0.9469 - val_loss: 0.7565 - val_acc: 0.7334\n",
      "Epoch 12/15\n",
      "9706/9706 [==============================] - 29s 3ms/step - loss: 0.1538 - acc: 0.9533 - val_loss: 0.8374 - val_acc: 0.7536\n",
      "Epoch 13/15\n",
      "9706/9706 [==============================] - 29s 3ms/step - loss: 0.1423 - acc: 0.9555 - val_loss: 0.7980 - val_acc: 0.7524\n",
      "Epoch 14/15\n",
      "9706/9706 [==============================] - 29s 3ms/step - loss: 0.1274 - acc: 0.9598 - val_loss: 0.9019 - val_acc: 0.7405\n",
      "Epoch 15/15\n",
      "9706/9706 [==============================] - 29s 3ms/step - loss: 0.1240 - acc: 0.9628 - val_loss: 0.8559 - val_acc: 0.7464\n"
     ]
    },
    {
     "ename": "NameError",
     "evalue": "ignored",
     "output_type": "error",
     "traceback": [
      "\u001b[0;31m---------------------------------------------------------------------------\u001b[0m",
      "\u001b[0;31mNameError\u001b[0m                                 Traceback (most recent call last)",
      "\u001b[0;32m<ipython-input-21-d6018a7c92b6>\u001b[0m in \u001b[0;36m<module>\u001b[0;34m()\u001b[0m\n\u001b[1;32m     13\u001b[0m                     verbose=1)\n\u001b[1;32m     14\u001b[0m \u001b[0;34m\u001b[0m\u001b[0m\n\u001b[0;32m---> 15\u001b[0;31m \u001b[0mresults\u001b[0m \u001b[0;34m=\u001b[0m \u001b[0mmodel\u001b[0m\u001b[0;34m.\u001b[0m\u001b[0mevaluate\u001b[0m\u001b[0;34m(\u001b[0m\u001b[0mX_test_enc\u001b[0m\u001b[0;34m,\u001b[0m \u001b[0my_test\u001b[0m\u001b[0;34m)\u001b[0m\u001b[0;34m\u001b[0m\u001b[0;34m\u001b[0m\u001b[0m\n\u001b[0m\u001b[1;32m     16\u001b[0m \u001b[0mprint\u001b[0m\u001b[0;34m(\u001b[0m\u001b[0mresults\u001b[0m\u001b[0;34m)\u001b[0m\u001b[0;34m\u001b[0m\u001b[0;34m\u001b[0m\u001b[0m\n",
      "\u001b[0;31mNameError\u001b[0m: name 'y_test' is not defined"
     ]
    }
   ],
   "source": [
    "model.compile(optimizer='adam',\n",
    "              loss='binary_crossentropy',\n",
    "              metrics=['accuracy'])\n",
    "\n",
    "# X_val = np.array(X_train_enc[:10000])\n",
    "# partial_X_train = np.array(X_train_enc[10000:])\n",
    "\n",
    "history = model.fit(X_train_enc,\n",
    "                    train_labels,\n",
    "                    epochs=15,\n",
    "                    batch_size=64,\n",
    "                    validation_split=0.08,\n",
    "                    verbose=1)\n"
   ]
  },
  {
   "cell_type": "code",
   "execution_count": 22,
   "metadata": {
    "colab": {
     "base_uri": "https://localhost:8080/",
     "height": 56
    },
    "colab_type": "code",
    "id": "CeHj8mioLJzR",
    "outputId": "4c535e93-8a8b-4798-a163-1ef97fb191e6"
   },
   "outputs": [
    {
     "name": "stdout",
     "output_type": "stream",
     "text": [
      "2638/2638 [==============================] - 1s 416us/step\n",
      "[0.910130309236149, 0.7179681577404129]\n"
     ]
    }
   ],
   "source": [
    "results = model.evaluate(X_test_enc, test_labels)\n",
    "print(results)"
   ]
  },
  {
   "cell_type": "code",
   "execution_count": 24,
   "metadata": {
    "colab": {
     "base_uri": "https://localhost:8080/",
     "height": 295
    },
    "colab_type": "code",
    "id": "VWHJtkoYOSNN",
    "outputId": "7d636748-bff2-4e6a-a21b-5aeaedf3c52c"
   },
   "outputs": [
    {
     "data": {
      "image/png": "[encoded data removed]",
      "text/plain": [
       "<Figure size 432x288 with 1 Axes>"
      ]
     },
     "metadata": {
      "tags": []
     },
     "output_type": "display_data"
    }
   ],
   "source": [
    "import matplotlib.pyplot as plt\n",
    "\n",
    "history_dict = history.history\n",
    "\n",
    "acc = history_dict['acc']\n",
    "val_acc = history_dict['val_acc']\n",
    "loss = history_dict['loss']\n",
    "val_loss = history_dict['val_loss']\n",
    "\n",
    "epochs = range(1, len(acc) + 1)\n",
    "\n",
    "plt.plot(epochs, acc, 'bo', label='Training acc')\n",
    "plt.plot(epochs, val_acc, 'b', label='Validation acc')\n",
    "plt.title('Training and validation accuracy')\n",
    "plt.xlabel('Epochs')\n",
    "plt.ylabel('Accuracy')\n",
    "plt.legend()\n",
    "\n",
    "plt.show()"
   ]
  },
  {
   "cell_type": "code",
   "execution_count": 17,
   "metadata": {
    "colab": {
     "base_uri": "https://localhost:8080/",
     "height": 404
    },
    "colab_type": "code",
    "id": "Vj4L7JPhQCeL",
    "outputId": "ff05a0c5-cef7-4048-dd65-81b5639c195a"
   },
   "outputs": [
    {
     "name": "stdout",
     "output_type": "stream",
     "text": [
      "Model: \"sequential_2\"\n",
      "_________________________________________________________________\n",
      "Layer (type)                 Output Shape              Param #   \n",
      "=================================================================\n",
      "embedding_2 (Embedding)      (None, None, 300)         120000300 \n",
      "_________________________________________________________________\n",
      "dropout_2 (Dropout)          (None, None, 300)         0         \n",
      "_________________________________________________________________\n",
      "conv1d_2 (Conv1D)            (None, None, 64)          96064     \n",
      "_________________________________________________________________\n",
      "max_pooling1d_2 (MaxPooling1 (None, None, 64)          0         \n",
      "_________________________________________________________________\n",
      "lstm_2 (LSTM)                (None, 100)               66000     \n",
      "_________________________________________________________________\n",
      "dense_2 (Dense)              (None, 1)                 101       \n",
      "=================================================================\n",
      "Total params: 120,162,465\n",
      "Trainable params: 120,162,465\n",
      "Non-trainable params: 0\n",
      "_________________________________________________________________\n"
     ]
    }
   ],
   "source": [
    "# put the code here\n",
    "model = Sequential()\n",
    "model.add(embeddingLayer)\n",
    "# model.add(Convolution1D(64,5,activation=\"relu\"))\n",
    "# model.add(Dropout(0.5))\n",
    "# model.add(Convolution1D(32,3,activation=\"relu\"))\n",
    "# model.add(Dropout(0.5))\n",
    "# model.add(Convolution1D(16,3,activation=\"sigmoid\"))\n",
    "# model.add(MaxPooling1D(5))\n",
    "# model.add(Flatten())\n",
    "# model.add(Dense(train_labels.shape[1],activation='softmax'))\n",
    "# model.compile(loss='categorical_crossentropy', optimizer='adam',metrics=['accuracy'])\n",
    "model.add(Dropout(0.2))\n",
    "model.add(Convolution1D(64, 5, activation='relu'))\n",
    "model.add(MaxPooling1D(pool_size=4))\n",
    "model.add(LSTM(100))\n",
    "model.add(Dense(1, activation='sigmoid'))\n",
    "model.summary()"
   ]
  },
  {
   "cell_type": "code",
   "execution_count": 18,
   "metadata": {
    "colab": {
     "base_uri": "https://localhost:8080/",
     "height": 289
    },
    "colab_type": "code",
    "id": "ONUyN2KqUT9Z",
    "outputId": "a8334695-1448-4a5a-cee2-86012ca2aad6"
   },
   "outputs": [
    {
     "name": "stderr",
     "output_type": "stream",
     "text": [
      "/usr/local/lib/python3.6/dist-packages/tensorflow_core/python/framework/indexed_slices.py:421: UserWarning: Converting sparse IndexedSlices to a dense Tensor with 120000300 elements. This may consume a large amount of memory.\n",
      "  num_elements)\n"
     ]
    },
    {
     "name": "stdout",
     "output_type": "stream",
     "text": [
      "Train on 8440 samples, validate on 2110 samples\n",
      "Epoch 1/5\n",
      "8440/8440 [==============================] - 11s 1ms/step - loss: 0.6451 - acc: 0.6604 - val_loss: 0.6340 - val_acc: 0.6668\n",
      "Epoch 2/5\n",
      "8440/8440 [==============================] - 6s 662us/step - loss: 0.6334 - acc: 0.6664 - val_loss: 0.6336 - val_acc: 0.6668\n",
      "Epoch 3/5\n",
      "8440/8440 [==============================] - 6s 661us/step - loss: 0.5948 - acc: 0.6925 - val_loss: 0.5662 - val_acc: 0.7166\n",
      "Epoch 4/5\n",
      "8440/8440 [==============================] - 6s 656us/step - loss: 0.4775 - acc: 0.7802 - val_loss: 0.5678 - val_acc: 0.7261\n",
      "Epoch 5/5\n",
      "8440/8440 [==============================] - 6s 662us/step - loss: 0.3539 - acc: 0.8531 - val_loss: 0.6243 - val_acc: 0.7346\n"
     ]
    }
   ],
   "source": [
    "model.compile(optimizer='adam',\n",
    "              loss='binary_crossentropy',\n",
    "              metrics=['accuracy'])\n",
    "\n",
    "# X_val = np.array(X_train_enc[:10000])\n",
    "# partial_X_train = np.array(X_train_enc[10000:])\n",
    "\n",
    "history = model.fit(X_train_enc,\n",
    "                    train_labels,\n",
    "                    epochs=5,\n",
    "                    batch_size=256,\n",
    "                    validation_split=0.2,\n",
    "                    verbose=1)"
   ]
  },
  {
   "cell_type": "code",
   "execution_count": 19,
   "metadata": {
    "colab": {
     "base_uri": "https://localhost:8080/",
     "height": 56
    },
    "colab_type": "code",
    "id": "9enOFOY6Zf3G",
    "outputId": "970be746-685c-42a6-aaa0-8de2c81f063f"
   },
   "outputs": [
    {
     "name": "stdout",
     "output_type": "stream",
     "text": [
      "2638/2638 [==============================] - 0s 153us/step\n",
      "[0.6401778528462584, 0.722137983230319]\n"
     ]
    }
   ],
   "source": [
    "results = model.evaluate(X_test_enc, test_labels)\n",
    "print(results)"
   ]
  },
  {
   "cell_type": "code",
   "execution_count": 20,
   "metadata": {
    "colab": {
     "base_uri": "https://localhost:8080/",
     "height": 295
    },
    "colab_type": "code",
    "id": "edQToTUQZiyL",
    "outputId": "54c99063-f7db-499a-f6e8-64d6aeba5fce"
   },
   "outputs": [
    {
     "data": {
      "image/png": "[encoded data removed]",
      "text/plain": [
       "<Figure size 432x288 with 1 Axes>"
      ]
     },
     "metadata": {
      "tags": []
     },
     "output_type": "display_data"
    }
   ],
   "source": [
    "import matplotlib.pyplot as plt\n",
    "\n",
    "history_dict = history.history\n",
    "\n",
    "acc = history_dict['acc']\n",
    "val_acc = history_dict['val_acc']\n",
    "loss = history_dict['loss']\n",
    "val_loss = history_dict['val_loss']\n",
    "\n",
    "epochs = range(1, len(acc) + 1)\n",
    "\n",
    "plt.plot(epochs, acc, 'bo', label='Training acc')\n",
    "plt.plot(epochs, val_acc, 'b', label='Validation acc')\n",
    "plt.title('Training and validation accuracy')\n",
    "plt.xlabel('Epochs')\n",
    "plt.ylabel('Accuracy')\n",
    "plt.legend()\n",
    "\n",
    "plt.show()"
   ]
  }
 ],
 "metadata": {
  "accelerator": "GPU",
  "colab": {
   "name": "training_semeval_task6-taskA.ipynb",
   "provenance": []
  },
  "kernelspec": {
   "display_name": "Python 3",
   "language": "python",
   "name": "python3"
  },
  "language_info": {
   "codemirror_mode": {
    "name": "ipython",
    "version": 3
   },
   "file_extension": ".py",
   "mimetype": "text/x-python",
   "name": "python",
   "nbconvert_exporter": "python",
   "pygments_lexer": "ipython3",
   "version": "3.6.8"
  }
 },
 "nbformat": 4,
 "nbformat_minor": 1
}
