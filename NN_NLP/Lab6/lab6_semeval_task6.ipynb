{
 "cells": [
  {
   "cell_type": "code",
   "execution_count": 1,
   "metadata": {
    "colab": {},
    "colab_type": "code",
    "id": "A-XIU8TzOlZa"
   },
   "outputs": [],
   "source": [
    "# !wget -qO ./OLIDv1.0.zip https://sites.google.com/site/offensevalsharedtask/olid/OLIDv1.0.zip\n",
    "# !mkdir -p ./data\n",
    "# !unzip -qqo ./OLIDv1.0.zip -d data/\n",
    "# !wget -qO ./contractions.py \"https://raw.github.com/neerajvashistha/msc_ai_sem1/master/Lab/NLP/Lab 2 (Assessed)-20191014/contractions.py\"\n",
    "# !wget -qO ./emo_unicode.py   \"https://raw.githubusercontent.com/NeelShah18/emot/master/emot/emo_unicode.py\"\n",
    "# !pip -q install ekphrasis \n",
    "# !pip -q install emoji --upgrade\n",
    "# !pip -q install pyspellchecker\n",
    "# !pip -q install dask[dataframe] "
   ]
  },
  {
   "cell_type": "code",
   "execution_count": 28,
   "metadata": {
    "colab": {},
    "colab_type": "code",
    "id": "2o9DFHtQSE6s",
    "outputId": "54b29a4f-69a6-41aa-c7f1-adc054052bf6"
   },
   "outputs": [
    {
     "name": "stdout",
     "output_type": "stream",
     "text": [
      "Reading english - 1grams ...\n",
      "Reading english - 2grams ...\n"
     ]
    }
   ],
   "source": [
    "import pandas as pd\n",
    "from contractions import general_contraction\n",
    "from emo_unicode import EMOTICONS_EMO\n",
    "from emo_unicode import EMOTICONS\n",
    "import re\n",
    "import string\n",
    "from ekphrasis.classes.segmenter import Segmenter\n",
    "import emoji\n",
    "from ekphrasis.classes.tokenizer import SocialTokenizer\n",
    "import string,re\n",
    "import time\n",
    "\n",
    "punct = string.punctuation\n",
    "\n",
    "punct = string.punctuation.replace('\\\\','')\n",
    "punct2 = punct.replace('!','').replace('?','')+'#'\n",
    "\n",
    "from spellchecker import SpellChecker\n",
    "seg = Segmenter() \n",
    "spell = SpellChecker()\n",
    "social_tokenizer = SocialTokenizer(lowercase=False).tokenize\n",
    "\n",
    "\n",
    "df_tweet = pd.read_csv('./data/olid-training-v1.0.tsv',sep='\\t')#.head(1000)"
   ]
  },
  {
   "cell_type": "code",
   "execution_count": 3,
   "metadata": {
    "colab": {
     "base_uri": "https://localhost:8080/",
     "height": 211
    },
    "colab_type": "code",
    "id": "Y7UfsZb7TL2A",
    "outputId": "78fa1f30-89eb-40bc-9cca-65b87de74f16"
   },
   "outputs": [
    {
     "name": "stdout",
     "output_type": "stream",
     "text": [
      "<class 'pandas.core.frame.DataFrame'>\n",
      "RangeIndex: 13240 entries, 0 to 13239\n",
      "Data columns (total 5 columns):\n",
      "id           13240 non-null int64\n",
      "tweet        13240 non-null object\n",
      "subtask_a    13240 non-null object\n",
      "subtask_b    4400 non-null object\n",
      "subtask_c    3876 non-null object\n",
      "dtypes: int64(1), object(4)\n",
      "memory usage: 517.3+ KB\n"
     ]
    }
   ],
   "source": [
    "df_tweet.info()"
   ]
  },
  {
   "cell_type": "code",
   "execution_count": 29,
   "metadata": {
    "colab": {},
    "colab_type": "code",
    "id": "_17i2oC0DCge",
    "outputId": "7c510554-b628-4b9e-9b4a-341a75d22e41"
   },
   "outputs": [],
   "source": [
    "def _replace_mul_special_char(astr):\n",
    "#     return [re.sub(\"[\"+i+\"]+\", i, astr) if i in astr else x for x in punct]\n",
    "    def _replace(string, char): \n",
    "#         print(char)\n",
    "        pattern = \"\\\\\"+ char + '{2,}'  \n",
    "#         print(pattern)\n",
    "        string = re.sub(pattern, char, string) \n",
    "        return string \n",
    "\n",
    "    for i in punct:\n",
    "        if i in astr:\n",
    "            astr = _replace(astr,i)\n",
    "    return astr\n",
    "\n",
    "# s = [\"so i believe :::::::-)) that :-]]\",'but what i say :-) !!! I lknow  ://','0 we wil see when the time comes :\\\\']\n",
    "# for i in s:\n",
    "#     print(_replace_mul_special_char(i))\n",
    "     "
   ]
  },
  {
   "cell_type": "code",
   "execution_count": 30,
   "metadata": {
    "colab": {},
    "colab_type": "code",
    "id": "5PS_RWbqDCgj",
    "outputId": "f09a74bd-6971-4bcc-c4f9-22ee5472df08"
   },
   "outputs": [],
   "source": [
    "def _clean_list(alist):\n",
    "    alist = ' '.join(alist).split(' ')\n",
    "    for t in range(len(alist)):\n",
    "        if len(alist[t].split(' ')) > 0:\n",
    "            alist[t] = re.sub('[^A-Za-z*]+', ' ', ' '.join(alist[t].split())).strip()\n",
    "    return list(filter(None, alist))\n",
    "\n",
    "# a = ['', 'canada', 'does       not', 'need', 'another', 'cuck!', 'we', 'already', 'have', 'enough', '# looney   left', '#   liberals', 'f*   king', 'up', 'our', 'great', 'country   !', '#q   proofs', '# trudeau must go']\n",
    "# a = ['']\n",
    "# _clean_list(a)"
   ]
  },
  {
   "cell_type": "code",
   "execution_count": 31,
   "metadata": {
    "colab": {},
    "colab_type": "code",
    "id": "gsxRi5ahDCgo",
    "outputId": "2cc2386f-9b5b-49e6-f051-b2a92ca17499"
   },
   "outputs": [
    {
     "name": "stdout",
     "output_type": "stream",
     "text": [
      "@USER Canada doesn’t need another CUCK! We already have enough #LooneyLeft #Liberals f**king up our great country! #Qproofs #TrudeauMustGo\n",
      "['canada', 'does', 'not', 'need', 'another', 'cuck', 'we', 'already', 'have', 'enough', 'looney', 'left', 'liberals', 'f*', 'king', 'up', 'our', 'great', 'country', 'q', 'proofs', 'trudeau', 'must', 'go']\n"
     ]
    }
   ],
   "source": [
    "# Lowercasing\n",
    "# Removing URLs, @USER, all the following charachters “ :. , — ˜ ”, digits and single quotation marks except for abbreviations and possessors (e.g. u’re → u’re, but about’ → about)\n",
    "# !@#$%^&*()[]{};:,./<>?\\|`~-=_+\n",
    "# Using ‘=’, ‘!’, ‘?’ and ‘/’ as token splitters (e.g. something!important → something important)\n",
    "# Parsing hashtags (See Christos Baziotis et. al. 2017)\n",
    "\n",
    "\n",
    "\n",
    "\n",
    "def _replace_use_dict(adict,tokens):    \n",
    "    return [seg.segment(adict.get(n, n)) if len(n)>5 else adict.get(n, n) for n in tokens ]\n",
    "\n",
    "def _spell_correction(alist):\n",
    "    return map(lambda word: word if word not in spell else spell.correction(word), alist)\n",
    "\n",
    "\n",
    "punct2 = punct.replace('!','').replace('?','')+'#'\n",
    "\n",
    "def preprocessing(x):\n",
    "    x = x.replace('@USER','').replace('URL','').replace('’',\"'\")\n",
    "    x = str(x).lower()\n",
    "    x = _replace_mul_special_char(x)\n",
    "    x = emoji.demojize(x)\n",
    "    xt = x.split(' ')\n",
    "    xt1 = _replace_use_dict(general_contraction,xt)    \n",
    "    xt2 = _replace_use_dict(EMOTICONS_EMO,xt1)\n",
    "    xt3 = _replace_use_dict(EMOTICONS,xt2)\n",
    "    xt4 = _clean_list(xt3)\n",
    "    xtf = ' '.join(xt4).split(' ')\n",
    "    return xtf\n",
    "\n",
    "print(df_tweet.tweet[9])\n",
    "print(preprocessing(df_tweet.tweet[9]))\n",
    "# for i in range(100):\n",
    "#     print(preprocessing(df_tweet.tweet[i]))\n"
   ]
  },
  {
   "cell_type": "code",
   "execution_count": 7,
   "metadata": {
    "colab": {},
    "colab_type": "code",
    "id": "SgPAYn_ITXGM"
   },
   "outputs": [],
   "source": [
    "# startt = time.time()\n",
    "# df_tweet['tweet_pr_st1'] = df_tweet.apply(lambda x: preprocessing(x['tweet']),axis=1)\n",
    "# endt = time.time()\n",
    "# print('total time: ', endt-startt)"
   ]
  },
  {
   "cell_type": "code",
   "execution_count": 32,
   "metadata": {
    "colab": {},
    "colab_type": "code",
    "id": "JoL6L4dvDCg9"
   },
   "outputs": [
    {
     "name": "stdout",
     "output_type": "stream",
     "text": [
      "total time:  541.0534737110138\n"
     ]
    }
   ],
   "source": [
    "startt = time.time()\n",
    "from dask import dataframe as dd\n",
    "from dask.multiprocessing import get\n",
    "from multiprocessing import cpu_count\n",
    "nCores = cpu_count() - 1\n",
    "\n",
    "# my_df.apply(lambda x: nearest_street(x.lat,x.lon),axis=1)\n",
    "# df_tweet['tweet'] = df.apply(lambda x: preprocessing(x['tweet']),axis=1)\n",
    "\n",
    "df_tweet['tweet_pr_st1']  = dd.from_pandas(df_tweet,npartitions=nCores).\\\n",
    "               map_partitions(\n",
    "                  lambda df : df.apply(\n",
    "                     lambda x : preprocessing(x.tweet),axis=1)).\\\n",
    "               compute(scheduler='processes')\n",
    "endt = time.time()\n",
    "print('total time: ', endt-startt)"
   ]
  },
  {
   "cell_type": "code",
   "execution_count": 33,
   "metadata": {},
   "outputs": [
    {
     "data": {
      "text/plain": [
       "(13240, 6)"
      ]
     },
     "execution_count": 33,
     "metadata": {},
     "output_type": "execute_result"
    }
   ],
   "source": [
    "df_tweet.shape"
   ]
  },
  {
   "cell_type": "code",
   "execution_count": 36,
   "metadata": {},
   "outputs": [
    {
     "data": {
      "text/html": [
       "<div>\n",
       "<style scoped>\n",
       "    .dataframe tbody tr th:only-of-type {\n",
       "        vertical-align: middle;\n",
       "    }\n",
       "\n",
       "    .dataframe tbody tr th {\n",
       "        vertical-align: top;\n",
       "    }\n",
       "\n",
       "    .dataframe thead th {\n",
       "        text-align: right;\n",
       "    }\n",
       "</style>\n",
       "<table border=\"1\" class=\"dataframe\">\n",
       "  <thead>\n",
       "    <tr style=\"text-align: right;\">\n",
       "      <th></th>\n",
       "      <th>id</th>\n",
       "      <th>tweet</th>\n",
       "      <th>subtask_a</th>\n",
       "      <th>subtask_b</th>\n",
       "      <th>subtask_c</th>\n",
       "      <th>tweet_pr_st1</th>\n",
       "    </tr>\n",
       "  </thead>\n",
       "  <tbody>\n",
       "    <tr>\n",
       "      <th>0</th>\n",
       "      <td>86426</td>\n",
       "      <td>@USER She should ask a few native Americans wh...</td>\n",
       "      <td>OFF</td>\n",
       "      <td>UNT</td>\n",
       "      <td>NaN</td>\n",
       "      <td>[she, should, ask, a, few, native, americans, ...</td>\n",
       "    </tr>\n",
       "    <tr>\n",
       "      <th>1</th>\n",
       "      <td>90194</td>\n",
       "      <td>@USER @USER Go home you’re drunk!!! @USER #MAG...</td>\n",
       "      <td>OFF</td>\n",
       "      <td>TIN</td>\n",
       "      <td>IND</td>\n",
       "      <td>[go, home, you, are, drunk, maga, trump, oncom...</td>\n",
       "    </tr>\n",
       "    <tr>\n",
       "      <th>2</th>\n",
       "      <td>16820</td>\n",
       "      <td>Amazon is investigating Chinese employees who ...</td>\n",
       "      <td>NOT</td>\n",
       "      <td>NaN</td>\n",
       "      <td>NaN</td>\n",
       "      <td>[amazon, is, investigating, chinese, employees...</td>\n",
       "    </tr>\n",
       "    <tr>\n",
       "      <th>3</th>\n",
       "      <td>62688</td>\n",
       "      <td>@USER Someone should'veTaken\" this piece of sh...</td>\n",
       "      <td>OFF</td>\n",
       "      <td>UNT</td>\n",
       "      <td>NaN</td>\n",
       "      <td>[someone, should, vetaken, this, piece, of, sh...</td>\n",
       "    </tr>\n",
       "    <tr>\n",
       "      <th>4</th>\n",
       "      <td>43605</td>\n",
       "      <td>@USER @USER Obama wanted liberals &amp;amp; illega...</td>\n",
       "      <td>NOT</td>\n",
       "      <td>NaN</td>\n",
       "      <td>NaN</td>\n",
       "      <td>[obama, wanted, liberals, amp, illegals, to, m...</td>\n",
       "    </tr>\n",
       "    <tr>\n",
       "      <th>...</th>\n",
       "      <td>...</td>\n",
       "      <td>...</td>\n",
       "      <td>...</td>\n",
       "      <td>...</td>\n",
       "      <td>...</td>\n",
       "      <td>...</td>\n",
       "    </tr>\n",
       "    <tr>\n",
       "      <th>13235</th>\n",
       "      <td>95338</td>\n",
       "      <td>@USER Sometimes I get strong vibes from people...</td>\n",
       "      <td>OFF</td>\n",
       "      <td>TIN</td>\n",
       "      <td>IND</td>\n",
       "      <td>[sometimes, i, get, strong, vibes, from, peopl...</td>\n",
       "    </tr>\n",
       "    <tr>\n",
       "      <th>13236</th>\n",
       "      <td>67210</td>\n",
       "      <td>Benidorm ✅  Creamfields ✅  Maga ✅   Not too sh...</td>\n",
       "      <td>NOT</td>\n",
       "      <td>NaN</td>\n",
       "      <td>NaN</td>\n",
       "      <td>[benidorm, white, heavy, check, mark, creamfie...</td>\n",
       "    </tr>\n",
       "    <tr>\n",
       "      <th>13237</th>\n",
       "      <td>82921</td>\n",
       "      <td>@USER And why report this garbage.  We don't g...</td>\n",
       "      <td>OFF</td>\n",
       "      <td>TIN</td>\n",
       "      <td>OTH</td>\n",
       "      <td>[and, why, report, this, garbage, we, do, not,...</td>\n",
       "    </tr>\n",
       "    <tr>\n",
       "      <th>13238</th>\n",
       "      <td>27429</td>\n",
       "      <td>@USER Pussy</td>\n",
       "      <td>OFF</td>\n",
       "      <td>UNT</td>\n",
       "      <td>NaN</td>\n",
       "      <td>[pussy]</td>\n",
       "    </tr>\n",
       "    <tr>\n",
       "      <th>13239</th>\n",
       "      <td>46552</td>\n",
       "      <td>#Spanishrevenge vs. #justice #HumanRights and ...</td>\n",
       "      <td>NOT</td>\n",
       "      <td>NaN</td>\n",
       "      <td>NaN</td>\n",
       "      <td>[spanish, revenge, vs, justice, human, rights,...</td>\n",
       "    </tr>\n",
       "  </tbody>\n",
       "</table>\n",
       "<p>13240 rows × 6 columns</p>\n",
       "</div>"
      ],
      "text/plain": [
       "          id                                              tweet subtask_a  \\\n",
       "0      86426  @USER She should ask a few native Americans wh...       OFF   \n",
       "1      90194  @USER @USER Go home you’re drunk!!! @USER #MAG...       OFF   \n",
       "2      16820  Amazon is investigating Chinese employees who ...       NOT   \n",
       "3      62688  @USER Someone should'veTaken\" this piece of sh...       OFF   \n",
       "4      43605  @USER @USER Obama wanted liberals &amp; illega...       NOT   \n",
       "...      ...                                                ...       ...   \n",
       "13235  95338  @USER Sometimes I get strong vibes from people...       OFF   \n",
       "13236  67210  Benidorm ✅  Creamfields ✅  Maga ✅   Not too sh...       NOT   \n",
       "13237  82921  @USER And why report this garbage.  We don't g...       OFF   \n",
       "13238  27429                                        @USER Pussy       OFF   \n",
       "13239  46552  #Spanishrevenge vs. #justice #HumanRights and ...       NOT   \n",
       "\n",
       "      subtask_b subtask_c                                       tweet_pr_st1  \n",
       "0           UNT       NaN  [she, should, ask, a, few, native, americans, ...  \n",
       "1           TIN       IND  [go, home, you, are, drunk, maga, trump, oncom...  \n",
       "2           NaN       NaN  [amazon, is, investigating, chinese, employees...  \n",
       "3           UNT       NaN  [someone, should, vetaken, this, piece, of, sh...  \n",
       "4           NaN       NaN  [obama, wanted, liberals, amp, illegals, to, m...  \n",
       "...         ...       ...                                                ...  \n",
       "13235       TIN       IND  [sometimes, i, get, strong, vibes, from, peopl...  \n",
       "13236       NaN       NaN  [benidorm, white, heavy, check, mark, creamfie...  \n",
       "13237       TIN       OTH  [and, why, report, this, garbage, we, do, not,...  \n",
       "13238       UNT       NaN                                            [pussy]  \n",
       "13239       NaN       NaN  [spanish, revenge, vs, justice, human, rights,...  \n",
       "\n",
       "[13240 rows x 6 columns]"
      ]
     },
     "execution_count": 36,
     "metadata": {},
     "output_type": "execute_result"
    }
   ],
   "source": [
    "for i in df_tweet['tweet_pr_st1'][0:100]"
   ]
  },
  {
   "cell_type": "code",
   "execution_count": 10,
   "metadata": {
    "colab": {},
    "colab_type": "code",
    "id": "GGRnk79LjVMN"
   },
   "outputs": [],
   "source": [
    "# df_tweet['tweet_pr_st1'] = df_tweet.apply(lambda x: ' '.join(x.tweet_pr_st1),axis = 1)"
   ]
  },
  {
   "cell_type": "code",
   "execution_count": 37,
   "metadata": {
    "colab": {},
    "colab_type": "code",
    "id": "XlGyYBUBDChF"
   },
   "outputs": [],
   "source": [
    "df_tweet.to_csv('data/processed_tweet.csv',index=False)"
   ]
  },
  {
   "cell_type": "code",
   "execution_count": 157,
   "metadata": {
    "colab": {},
    "colab_type": "code",
    "id": "bMKJjCzaDnQw"
   },
   "outputs": [],
   "source": [
    "# import pandas as pd\n",
    "df_tweet = pd.read_csv(\"data/processed_tweet.csv\")\n",
    "import ast\n",
    "df_tweet['tweet_pr_st1'] = df_tweet.apply(lambda x: ast.literal_eval(x.tweet_pr_st1),axis =1)"
   ]
  },
  {
   "cell_type": "code",
   "execution_count": 158,
   "metadata": {
    "colab": {
     "base_uri": "https://localhost:8080/",
     "height": 385
    },
    "colab_type": "code",
    "id": "bVMj6yEljP8e",
    "outputId": "f5e5000b-40f4-4708-9b7c-a40ecdc481c3"
   },
   "outputs": [
    {
     "name": "stderr",
     "output_type": "stream",
     "text": [
      "[nltk_data] Downloading package stopwords to /home/nv/nltk_data...\n",
      "[nltk_data]   Package stopwords is already up-to-date!\n",
      "[nltk_data] Downloading package averaged_perceptron_tagger to\n",
      "[nltk_data]     /home/nv/nltk_data...\n",
      "[nltk_data]   Package averaged_perceptron_tagger is already up-to-\n",
      "[nltk_data]       date!\n",
      "[nltk_data] Downloading package wordnet to /home/nv/nltk_data...\n",
      "[nltk_data]   Package wordnet is already up-to-date!\n"
     ]
    },
    {
     "data": {
      "text/plain": [
       "True"
      ]
     },
     "execution_count": 158,
     "metadata": {},
     "output_type": "execute_result"
    }
   ],
   "source": [
    "# !wget https://raw.githubusercontent.com/neerajvashistha/msc_ai_sem1/master/Lab/NLP/processed_tweet.txt\n",
    "import nltk\n",
    "nltk.download('stopwords')\n",
    "nltk.download('averaged_perceptron_tagger')\n",
    "nltk.download('wordnet')"
   ]
  },
  {
   "cell_type": "code",
   "execution_count": 14,
   "metadata": {
    "colab": {
     "base_uri": "https://localhost:8080/",
     "height": 211
    },
    "colab_type": "code",
    "id": "z8SFdY3SjR-u",
    "outputId": "6e592f4a-c470-4ef7-8ea7-4f91e4b5fbca"
   },
   "outputs": [],
   "source": [
    "# import pandas as pd\n",
    "# import numpy as np\n",
    "# df_tweet = pd.read_csv('./processed_tweet.txt')\n",
    "# df_tweet.info()"
   ]
  },
  {
   "cell_type": "code",
   "execution_count": 159,
   "metadata": {
    "colab": {},
    "colab_type": "code",
    "id": "mPezFvIgjvqh"
   },
   "outputs": [],
   "source": [
    "from nltk.corpus import stopwords\n",
    "import re\n",
    "def remove_stopwords(tweet):    \n",
    "    stop = set(stopwords.words(\"english\"))\n",
    "    other = ['user']\n",
    "    data = [w for w in tweet if w not in stop and not re.match(r\"[^a-zA-Z\\d\\s]+\", w) and w not in other and len(w) >= 2 ]\n",
    "    return data"
   ]
  },
  {
   "cell_type": "code",
   "execution_count": 160,
   "metadata": {
    "colab": {},
    "colab_type": "code",
    "id": "5U1_g4nUksfq"
   },
   "outputs": [],
   "source": [
    "from nltk.stem import WordNetLemmatizer\n",
    "wnl = WordNetLemmatizer()\n",
    "from nltk import pos_tag\n",
    "from nltk.corpus import wordnet\n",
    "def get_pos(word):\n",
    "    tag = pos_tag([word])[0][1]\n",
    "    if tag.startswith('J'):\n",
    "        return wordnet.ADJ\n",
    "    elif tag.startswith('V'):\n",
    "        return wordnet.VERB\n",
    "    elif tag.startswith('N'):\n",
    "        return wordnet.NOUN\n",
    "    elif tag.startswith('R'):\n",
    "        return wordnet.ADV\n",
    "    else:\n",
    "        return wordnet.NOUN\n",
    "\n",
    "def lemmatize(tweet):\n",
    "    if tweet:\n",
    "        data = [wnl.lemmatize(str(word), pos=get_pos(str(word))) for word in tweet]\n",
    "        return data\n",
    "    else:\n",
    "        return []\n",
    "    \n",
    "# tweet = df_tweet_task_a.tweet[21]\n",
    "# print(tweet)\n",
    "# print(remove_stopwords(tweet))\n",
    "# print(lemmatize(tweet))"
   ]
  },
  {
   "cell_type": "code",
   "execution_count": 161,
   "metadata": {
    "colab": {},
    "colab_type": "code",
    "id": "sgi2kPKWmKRh"
   },
   "outputs": [],
   "source": [
    "df_tweet['tweet_pr_st2'] = df_tweet.apply(lambda x: lemmatize(remove_stopwords(x.tweet_pr_st1)),axis =1)"
   ]
  },
  {
   "cell_type": "code",
   "execution_count": 162,
   "metadata": {},
   "outputs": [
    {
     "data": {
      "text/plain": [
       "id              52\n",
       "tweet           52\n",
       "subtask_a       52\n",
       "subtask_b        1\n",
       "subtask_c        1\n",
       "tweet_pr_st1    52\n",
       "tweet_pr_st2    52\n",
       "dtype: int64"
      ]
     },
     "execution_count": 162,
     "metadata": {},
     "output_type": "execute_result"
    }
   ],
   "source": [
    "df_tweet[df_tweet['tweet_pr_st2'].str.len()<=0].count()"
   ]
  },
  {
   "cell_type": "code",
   "execution_count": 163,
   "metadata": {
    "colab": {
     "base_uri": "https://localhost:8080/",
     "height": 1000
    },
    "colab_type": "code",
    "id": "V86wrujznkaQ",
    "outputId": "7cd27ff4-8a0b-4a5f-b743-02464a180b44"
   },
   "outputs": [
    {
     "name": "stdout",
     "output_type": "stream",
     "text": [
      "@USER he is ** ['he', 'is'] ** [] NOT 0\n",
      "@USER @USER He is. ** ['he', 'is'] ** [] NOT 0\n",
      "@USER He IS in!!! ** ['he', 'is', 'in'] ** [] NOT 0\n",
      "@USER @USER @USER they aren't.... ** ['they', 'are', 'n', 't'] ** [] NOT 0\n",
      "@USER As they should be ** ['as', 'they', 'should', 'be'] ** [] NOT 0\n",
      "@USER Here he is: @USER ** ['here', 'he', 'is'] ** [] NOT 0\n",
      "@USER @USER Me too! ** ['me', 'too'] ** [] NOT 0\n",
      "@USER you are here! ** ['you', 'are', 'here'] ** [] NOT 0\n",
      "@USER @USER @USER @USER @USER @USER @USER @USER @USER @USER @USER @USER @USER @USER @USER @USER @USER @USER @USER @USER @USER @USER @USER @USER @USER @USER @USER @USER @USER @USER @USER @USER @USER @USER @USER @USER @USER @USER @USER @USER @USER @USER @USER @USER @USER @USER @USER @USER @USER @USER She is. ** ['she', 'is'] ** [] NOT 0\n",
      "@USER It’s more what she does than who she is ** ['it', 'is', 'more', 'what', 'she', 'does', 'than', 'who', 'she', 'is'] ** [] OFF 0\n",
      "@USER There she is... URL ** ['there', 'she', 'is'] ** [] NOT 0\n",
      "@USER He is ** ['he', 'is'] ** [] NOT 0\n",
      "@USER @USER He is URL ** ['he', 'is'] ** [] NOT 0\n",
      "@USER She\" is a he.\" ** ['she', 'is', 'a', 'he'] ** [] NOT 0\n",
      "@USER But he IS. ** ['but', 'he', 'is'] ** [] NOT 0\n",
      "@USER He is URL ** ['he', 'is'] ** [] NOT 0\n",
      "@USER @USER @USER @USER Here is 7  URL ** ['here', 'is'] ** [] NOT 0\n",
      "@USER @USER He is. ** ['he', 'is'] ** [] NOT 0\n",
      "@USER @USER Both of them..... ** ['both', 'of', 'them'] ** [] NOT 0\n",
      "@USER You are not ** ['you', 'are', 'not'] ** [] NOT 0\n",
      "@USER No it’s not. ** ['no', 'it', 'is', 'not'] ** [] NOT 0\n",
      "@USER she is you aren’t ** ['she', 'is', 'you', 'are', 'not'] ** [] NOT 0\n",
      "@USER You should do it ** ['you', 'should', 'do', 'it'] ** [] NOT 0\n",
      "@USER And there you have it... ** ['and', 'there', 'you', 'have', 'it'] ** [] NOT 0\n",
      "@USER AS IT SHOULD BE! ** ['as', 'it', 'should', 'be'] ** [] NOT 0\n",
      "@USER @USER She is! ** ['she', 'is'] ** [] NOT 0\n",
      "@USER HE IS ** ['he', 'is'] ** [] NOT 0\n",
      "@USER Because she is ** ['because', 'she', 'is'] ** [] NOT 0\n",
      "@USER As she should be. ** ['as', 'she', 'should', 'be'] ** [] NOT 0\n",
      "@USER @USER @USER So what if she is! ** ['so', 'what', 'if', 'she', 'is'] ** [] NOT 0\n",
      "@USER You are. ** ['you', 'are'] ** [] NOT 0\n",
      "@USER She is! ** ['she', 'is'] ** [] NOT 0\n",
      "@USER Here she is........ URL ** ['here', 'she', 'is'] ** [] NOT 0\n",
      "@USER As if.... ** ['as', 'if'] ** [] NOT 0\n",
      "@USER @USER what? ** ['what'] ** [] NOT 0\n",
      "@USER @USER @USER @USER How so? ** ['how', 'so'] ** [] NOT 0\n",
      "@USER she is ** ['she', 'is'] ** [] NOT 0\n",
      "@USER He. Is. Here. For. Her. ** ['he', 'is', 'here', 'for', 'her'] ** [] NOT 0\n",
      "@USER It does? ** ['it', 'does'] ** [] NOT 0\n",
      "@USER @USER @USER He is ** ['he', 'is'] ** [] NOT 0\n",
      "@USER Here she is ** ['here', 'she', 'is'] ** [] NOT 0\n",
      "@USER @USER She is! ** ['she', 'is'] ** [] NOT 0\n",
      "@USER @USER @USER He is not ** ['he', 'is', 'not'] ** [] NOT 0\n",
      "@USER And ... what? ** ['and', 'what'] ** [] NOT 0\n",
      "@USER @USER He is what he is by now. ** ['he', 'is', 'what', 'he', 'is', 'by', 'now'] ** [] NOT 0\n",
      "@USER @USER You are ....... ** ['you', 'are'] ** [] NOT 0\n",
      "@USER @USER @USER @USER @USER @USER @USER @USER @USER @USER @USER @USER @USER @USER @USER @USER @USER @USER @USER @USER @USER @USER @USER @USER @USER @USER @USER @USER @USER @USER @USER @USER @USER @USER @USER @USER @USER @USER @USER @USER @USER @USER @USER @USER @USER @USER @USER @USER @USER @USER Did I? ** ['did', 'i'] ** [] NOT 0\n",
      "@USER She is ** ['she', 'is'] ** [] NOT 0\n",
      "@USER You are here ** ['you', 'are', 'here'] ** [] NOT 0\n",
      "@USER You are... ** ['you', 'are'] ** [] NOT 0\n",
      "@USER He is.\"\" ** ['he', 'is'] ** [] NOT 0\n",
      "@USER @USER @USER He is. ** ['he', 'is'] ** [] NOT 0\n",
      "Removing not useful instances 52\n",
      "Not useful include  1  offensive category instances\n"
     ]
    }
   ],
   "source": [
    "for i,k in enumerate(list(df_tweet[\"tweet_pr_st2\"].str.len())):\n",
    "    if k<=0:\n",
    "        print(df_tweet['tweet'][i],\"**\",df_tweet['tweet_pr_st1'][i],\"**\",df_tweet['tweet_pr_st2'][i],df_tweet['subtask_a'][i],k)\n",
    "import numpy as np\n",
    "df_tweet['len_tweet_pr_st2'] = df_tweet[\"tweet_pr_st2\"].str.len()\n",
    "print(\"Removing not useful instances\", df_tweet[df_tweet['len_tweet_pr_st2']<=0].id.count())\n",
    "print(\"Not useful include \", df_tweet[df_tweet['len_tweet_pr_st2']<=0].subtask_b.count(),' offensive category instances')\n",
    "drop_indices = df_tweet[df_tweet['len_tweet_pr_st2']<=0].index\n",
    "df_tweet.drop(drop_indices , inplace=True)"
   ]
  },
  {
   "cell_type": "code",
   "execution_count": 20,
   "metadata": {
    "colab": {
     "base_uri": "https://localhost:8080/",
     "height": 36
    },
    "colab_type": "code",
    "id": "WkpNhTypqaxG",
    "outputId": "1e301bdd-c4dc-4831-e5ce-efd7e330fd4e"
   },
   "outputs": [],
   "source": [
    "# df_tweet['subtask_a'][8347]"
   ]
  },
  {
   "cell_type": "code",
   "execution_count": 164,
   "metadata": {
    "colab": {
     "base_uri": "https://localhost:8080/",
     "height": 388
    },
    "colab_type": "code",
    "id": "MsHvxzCUjbtG",
    "outputId": "decbdbdc-9f96-4296-e1c9-ea3dd053d380"
   },
   "outputs": [
    {
     "name": "stdout",
     "output_type": "stream",
     "text": [
      "Subtask A categories ['OFF' 'NOT']\n",
      "Subtask A offensive tweet count 4399\n",
      "Subtask A Non offensive tweet count 8789\n",
      "Total trainable tweets 13188\n"
     ]
    },
    {
     "data": {
      "text/plain": [
       "<matplotlib.axes._subplots.AxesSubplot at 0x7f9ce4fc12e8>"
      ]
     },
     "execution_count": 164,
     "metadata": {},
     "output_type": "execute_result"
    },
    {
     "data": {
      "image/png": "[encoded data removed]",
      "text/plain": [
       "<Figure size 432x288 with 1 Axes>"
      ]
     },
     "metadata": {
      "needs_background": "light"
     },
     "output_type": "display_data"
    }
   ],
   "source": [
    "print('Subtask A categories',df_tweet['subtask_a'].unique())\n",
    "print('Subtask A offensive tweet count',df_tweet[df_tweet['subtask_a']=='OFF'].subtask_a.count())\n",
    "print('Subtask A Non offensive tweet count',df_tweet[df_tweet['subtask_a']=='NOT'].subtask_a.count())\n",
    "print('Total trainable tweets',df_tweet['subtask_a'].count())\n",
    "df_tweet.groupby(['subtask_a']).count()['id'].plot.bar()"
   ]
  },
  {
   "cell_type": "code",
   "execution_count": 165,
   "metadata": {
    "colab": {
     "base_uri": "https://localhost:8080/",
     "height": 407
    },
    "colab_type": "code",
    "id": "C1YHQaCBjfS_",
    "outputId": "ff7c96af-c3b8-4f4b-bc2e-9c53ab07d5d8"
   },
   "outputs": [
    {
     "name": "stdout",
     "output_type": "stream",
     "text": [
      "Subtask B categories ['UNT' 'TIN' nan] total\n",
      "Subtask B untargetted offensive tweet count  524\n",
      "Subtask B targetted offensive tweet count 3875\n",
      "Subtask B Non offensive tweet count 8789\n",
      "Subtask B Total trainable tweets 4399\n"
     ]
    },
    {
     "data": {
      "text/plain": [
       "<matplotlib.axes._subplots.AxesSubplot at 0x7f9c752efc18>"
      ]
     },
     "execution_count": 165,
     "metadata": {},
     "output_type": "execute_result"
    },
    {
     "data": {
      "image/png": "[encoded data removed]",
      "text/plain": [
       "<Figure size 432x288 with 1 Axes>"
      ]
     },
     "metadata": {
      "needs_background": "light"
     },
     "output_type": "display_data"
    }
   ],
   "source": [
    "print('Subtask B categories',df_tweet['subtask_b'].unique(),'total')\n",
    "print('Subtask B untargetted offensive tweet count ',df_tweet[df_tweet['subtask_b']=='UNT'].subtask_b.count())\n",
    "print('Subtask B targetted offensive tweet count',df_tweet[df_tweet['subtask_b']=='TIN'].subtask_b.count())\n",
    "print('Subtask B Non offensive tweet count',df_tweet['subtask_b'].isnull().sum())\n",
    "print('Subtask B Total trainable tweets',df_tweet['subtask_b'].isin(['UNT','TIN']).sum())\n",
    "df_tweet.groupby(['subtask_b']).count()['id'].plot.bar()"
   ]
  },
  {
   "cell_type": "code",
   "execution_count": 166,
   "metadata": {
    "colab": {
     "base_uri": "https://localhost:8080/",
     "height": 429
    },
    "colab_type": "code",
    "id": "8z-HyWK3jiuI",
    "outputId": "b84f937c-75ab-46a7-dfe6-48e1bf175efc"
   },
   "outputs": [
    {
     "name": "stdout",
     "output_type": "stream",
     "text": [
      "Subtask C categories [nan 'IND' 'OTH' 'GRP']\n",
      "Subtask C targetted indiviual offensive tweet count 2406\n",
      "Subtask C targetted group offensive tweet count 1074\n",
      "Subtask C targetted other offensive tweet count 395\n",
      "Subtask C Non offensive tweet count 9313\n",
      "Subtask C Total trainable tweets 3875\n"
     ]
    },
    {
     "data": {
      "text/plain": [
       "<matplotlib.axes._subplots.AxesSubplot at 0x7f9c7451c0b8>"
      ]
     },
     "execution_count": 166,
     "metadata": {},
     "output_type": "execute_result"
    },
    {
     "data": {
      "image/png": "[encoded data removed]",
      "text/plain": [
       "<Figure size 432x288 with 1 Axes>"
      ]
     },
     "metadata": {
      "needs_background": "light"
     },
     "output_type": "display_data"
    }
   ],
   "source": [
    "print('Subtask C categories',df_tweet['subtask_c'].unique())\n",
    "print('Subtask C targetted indiviual offensive tweet count',df_tweet[df_tweet['subtask_c']=='IND'].subtask_c.count())\n",
    "print('Subtask C targetted group offensive tweet count',df_tweet[df_tweet['subtask_c']=='GRP'].subtask_c.count())\n",
    "print('Subtask C targetted other offensive tweet count',df_tweet[df_tweet['subtask_c']=='OTH'].subtask_c.count())\n",
    "print('Subtask C Non offensive tweet count',df_tweet['subtask_c'].isnull().sum())\n",
    "print('Subtask C Total trainable tweets',df_tweet['subtask_c'].isin(['IND','GRP','OTH']).sum())\n",
    "df_tweet.groupby(['subtask_c']).count()['id'].plot.bar()"
   ]
  },
  {
   "cell_type": "code",
   "execution_count": null,
   "metadata": {
    "colab": {},
    "colab_type": "code",
    "id": "GRcIltn5l4Zd"
   },
   "outputs": [],
   "source": []
  },
  {
   "cell_type": "code",
   "execution_count": 167,
   "metadata": {
    "colab": {},
    "colab_type": "code",
    "id": "lAfHqZbYjmkX"
   },
   "outputs": [],
   "source": [
    "#0 - Not offensive\n",
    "#1 - Offensive untargeted\n",
    "#2 - Offensive targeted indiviualds\n",
    "#3 - Offensive targeted groups \n",
    "#4 - Offensive targeted others\n",
    "\n",
    "df_tweet['subtask_a'] = df_tweet.apply(lambda x: 0 if x.subtask_a=='NOT' else 1,axis = 1)\n",
    "df_tweet['subtask_b'] = df_tweet.apply(lambda x: 1 if x.subtask_b=='UNT' else 2 if x.subtask_b=='TIN' else 0,axis = 1)\n",
    "df_tweet['subtask_c'] = df_tweet.apply(lambda x: 2 if x.subtask_c=='IND' else 3 if x.subtask_c=='GRP' else 4 if x.subtask_c =='OTH' else 0,axis = 1)\n",
    "\n"
   ]
  },
  {
   "cell_type": "code",
   "execution_count": 168,
   "metadata": {},
   "outputs": [
    {
     "data": {
      "text/plain": [
       "array([1, 0])"
      ]
     },
     "execution_count": 168,
     "metadata": {},
     "output_type": "execute_result"
    }
   ],
   "source": [
    "df_tweet['subtask_a'].unique()"
   ]
  },
  {
   "cell_type": "code",
   "execution_count": 169,
   "metadata": {
    "colab": {
     "base_uri": "https://localhost:8080/",
     "height": 36
    },
    "colab_type": "code",
    "id": "NYVSvMemjp5C",
    "outputId": "5c7f4c67-e6e8-4147-d718-0113ad81eab5"
   },
   "outputs": [
    {
     "name": "stdout",
     "output_type": "stream",
     "text": [
      "(13188, 3) (4399, 3) (3875, 3)\n"
     ]
    }
   ],
   "source": [
    "df_tweet_task_a = df_tweet[['id','tweet_pr_st2','subtask_a']].copy()\n",
    "df_tweet_task_b = df_tweet[['id','tweet_pr_st2','subtask_b']].copy()\n",
    "df_tweet_task_b = df_tweet_task_b.loc[(df_tweet_task_b['subtask_b']!=0)]\n",
    "df_tweet_task_c = df_tweet[['id','tweet_pr_st2','subtask_c']].copy()\n",
    "df_tweet_task_c = df_tweet_task_c.loc[(df_tweet_task_c['subtask_c']!=0)]\n",
    "print(df_tweet_task_a.shape,df_tweet_task_b.shape,df_tweet_task_c.shape)\n",
    "# the above get the total traiable tweets for each sub task"
   ]
  },
  {
   "cell_type": "code",
   "execution_count": 170,
   "metadata": {
    "colab": {},
    "colab_type": "code",
    "id": "_PFqXHfZjshN"
   },
   "outputs": [],
   "source": [
    "# shuffle the data\n",
    "df_tweet_task_a = df_tweet_task_a.sample(frac=1).reset_index(drop=True)\n",
    "df_tweet_task_b = df_tweet_task_b.sample(frac=1).reset_index(drop=True)\n",
    "df_tweet_task_c = df_tweet_task_c.sample(frac=1).reset_index(drop=True)"
   ]
  },
  {
   "cell_type": "code",
   "execution_count": 171,
   "metadata": {
    "colab": {
     "base_uri": "https://localhost:8080/",
     "height": 75
    },
    "colab_type": "code",
    "id": "898vUE95kyjP",
    "outputId": "52050f03-7bee-400e-eeae-2e2a53f872e3"
   },
   "outputs": [],
   "source": [
    "from sklearn.model_selection import train_test_split\n",
    "data = list(df_tweet_task_a['tweet_pr_st2'])\n",
    "labels = list(df_tweet_task_a['subtask_a'])\n",
    "tr_data,tst_data,tr_labels,tst_labels = train_test_split(np.array(data),labels,test_size=0.2,stratify=labels)\n",
    "# X_train, X_test, y_train, y_test = train_test_split(\n",
    "#     data, labels, test_size=0.2, random_state=1, stratify=labels)\n",
    "# X_train, X_val, y_train, y_val = train_test_split(\n",
    "#     X_train, y_train, test_size=0.25, random_state=1, stratify=y_train)"
   ]
  },
  {
   "cell_type": "code",
   "execution_count": 172,
   "metadata": {},
   "outputs": [
    {
     "name": "stdout",
     "output_type": "stream",
     "text": [
      "10550\n",
      "3519\n"
     ]
    }
   ],
   "source": [
    "print(len(tr_labels))\n",
    "print(len([i for i in tr_labels if i !=0]))"
   ]
  },
  {
   "cell_type": "code",
   "execution_count": 173,
   "metadata": {
    "colab": {},
    "colab_type": "code",
    "id": "T3FWOBAKlrhg"
   },
   "outputs": [],
   "source": [
    "# vct = Vectorizer('count')\n",
    "# vct.vectorize(tr_data)\n",
    "# def count(self):\n",
    "#     vectorizer = CountVectorizer(**self.params)\n",
    "#     untokenized_data =[' '.join(tweet) for tweet in self.data]\n",
    "#     if not self.vectorizer:\n",
    "#         self.vectorizer = vectorizer.fit(untokenized_data)\n",
    "#     self.vectors = self.vectorizer.transform(untokenized_data).toarray()\n",
    "#     self.vocab_length = len(self.vectorizer.vocabulary_.keys())\n",
    "#     return self.vector\n",
    "\n",
    "from sklearn.feature_extraction.text import CountVectorizer\n",
    "\n",
    "vectorizer = CountVectorizer()\n",
    "untokenized_data = [' '.join(tweet) for tweet in data]\n",
    "# print(data)\n",
    "vectorizer = vectorizer.fit(untokenized_data)\n",
    "vectors = vectorizer.transform(untokenized_data).toarray()\n",
    "vocab_length = len(vectorizer.vocabulary_.keys())"
   ]
  },
  {
   "cell_type": "code",
   "execution_count": 174,
   "metadata": {},
   "outputs": [],
   "source": [
    "from keras.layers import Input, Dense, Embedding, Convolution1D, MaxPooling1D, MaxPooling2D, Convolution2D, LSTM\n",
    "from keras.layers import Reshape, Flatten, Dropout, Concatenate\n",
    "from keras.regularizers import l2, l1\n",
    "from keras import regularizers\n",
    "from keras.callbacks import ModelCheckpoint\n",
    "from keras.optimizers import Adam\n",
    "from keras.models import Sequential\n",
    "from sklearn.model_selection import train_test_split\n",
    "import numpy as np\n",
    "import matplotlib.pyplot as plt\n",
    "from keras.preprocessing.text import one_hot as oneHOT\n",
    "from keras.preprocessing.sequence import pad_sequences\n",
    "def encode_corpus(data):\n",
    "    encoded_docs = [oneHOT(' '.join(d), vocab_length) for d in data]\n",
    "    return pad_sequences(encoded_docs, maxlen=max_len, padding='post')"
   ]
  },
  {
   "cell_type": "code",
   "execution_count": 175,
   "metadata": {},
   "outputs": [],
   "source": [
    "\n",
    "def one_hot(labels):\n",
    "    from sklearn.preprocessing import OneHotEncoder\n",
    "    encoder = OneHotEncoder()\n",
    "    return encoder.fit_transform(np.array(labels).reshape(-1,1)).toarray()\n"
   ]
  },
  {
   "cell_type": "code",
   "execution_count": 176,
   "metadata": {},
   "outputs": [],
   "source": [
    "# model=DeepLearner(tr_data,tr_labels,vocab_length=vct.vocab_length,model_type='CNN')\n",
    "# model.train(epochs=20)\n",
    "\n",
    "# acc = model.test_and_plot(tst_data,tst_labels)\n",
    "\n",
    "# print('Accuracy:',acc)\n",
    "training_data = tr_data\n",
    "training_labels = tr_labels\n",
    "tr_data, val_data, tr_labels, val_labels = train_test_split(np.array(tr_data),tr_labels, test_size=0.35,stratify=tr_labels)\n"
   ]
  },
  {
   "cell_type": "code",
   "execution_count": 177,
   "metadata": {},
   "outputs": [],
   "source": [
    "# tr_labels[0:100]"
   ]
  },
  {
   "cell_type": "code",
   "execution_count": 178,
   "metadata": {},
   "outputs": [
    {
     "name": "stderr",
     "output_type": "stream",
     "text": [
      "/home/nv/virtpy3tf/lib/python3.6/site-packages/sklearn/preprocessing/_encoders.py:415: FutureWarning: The handling of integer data will change in version 0.22. Currently, the categories are determined based on the range [0, max(values)], while in the future they will be determined based on the unique values.\n",
      "If you want the future behaviour and silence this warning, you can specify \"categories='auto'\".\n",
      "In case you used a LabelEncoder before this OneHotEncoder to convert the categories to integers, then you can now use the OneHotEncoder directly.\n",
      "  warnings.warn(msg, FutureWarning)\n",
      "/home/nv/virtpy3tf/lib/python3.6/site-packages/sklearn/preprocessing/_encoders.py:415: FutureWarning: The handling of integer data will change in version 0.22. Currently, the categories are determined based on the range [0, max(values)], while in the future they will be determined based on the unique values.\n",
      "If you want the future behaviour and silence this warning, you can specify \"categories='auto'\".\n",
      "In case you used a LabelEncoder before this OneHotEncoder to convert the categories to integers, then you can now use the OneHotEncoder directly.\n",
      "  warnings.warn(msg, FutureWarning)\n"
     ]
    }
   ],
   "source": [
    "tr_labels = one_hot(tr_labels)\n",
    "val_labels = one_hot(val_labels)\n",
    "\n",
    "max_len = max(len(max(tr_data,key=lambda x:len(x))),len(max(val_data,key=lambda x:len(x))))\n",
    "tr_data =  encode_corpus(tr_data)\n",
    "val_data = encode_corpus(val_data)"
   ]
  },
  {
   "cell_type": "code",
   "execution_count": 179,
   "metadata": {},
   "outputs": [],
   "source": [
    "# tr_labels[0:100]"
   ]
  },
  {
   "cell_type": "code",
   "execution_count": null,
   "metadata": {},
   "outputs": [],
   "source": []
  },
  {
   "cell_type": "code",
   "execution_count": 180,
   "metadata": {},
   "outputs": [
    {
     "name": "stdout",
     "output_type": "stream",
     "text": [
      "_________________________________________________________________\n",
      "Layer (type)                 Output Shape              Param #   \n",
      "=================================================================\n",
      "embedding_4 (Embedding)      (None, 74, 30)            415800    \n",
      "_________________________________________________________________\n",
      "conv1d_10 (Conv1D)           (None, 70, 64)            9664      \n",
      "_________________________________________________________________\n",
      "dropout_7 (Dropout)          (None, 70, 64)            0         \n",
      "_________________________________________________________________\n",
      "conv1d_11 (Conv1D)           (None, 68, 32)            6176      \n",
      "_________________________________________________________________\n",
      "dropout_8 (Dropout)          (None, 68, 32)            0         \n",
      "_________________________________________________________________\n",
      "conv1d_12 (Conv1D)           (None, 66, 16)            1552      \n",
      "_________________________________________________________________\n",
      "max_pooling1d_4 (MaxPooling1 (None, 13, 16)            0         \n",
      "_________________________________________________________________\n",
      "flatten_4 (Flatten)          (None, 208)               0         \n",
      "_________________________________________________________________\n",
      "dense_3 (Dense)              (None, 2)                 418       \n",
      "=================================================================\n",
      "Total params: 433,610\n",
      "Trainable params: 433,610\n",
      "Non-trainable params: 0\n",
      "_________________________________________________________________\n"
     ]
    }
   ],
   "source": [
    "model = Sequential()\n",
    "model.add(Embedding(vocab_length, 30, input_length=max_len))\n",
    "model.add(Convolution1D(64,5,activation=\"relu\"))\n",
    "model.add(Dropout(0.5))\n",
    "model.add(Convolution1D(32,3,activation=\"relu\"))\n",
    "model.add(Dropout(0.5))\n",
    "model.add(Convolution1D(16,3,activation=\"sigmoid\"))\n",
    "model.add(MaxPooling1D(5))\n",
    "model.add(Flatten())\n",
    "model.add(Dense(tr_labels.shape[1],activation='softmax'))\n",
    "model.compile(loss='categorical_crossentropy', optimizer='adam',metrics=['accuracy'])\n",
    "model.summary()"
   ]
  },
  {
   "cell_type": "code",
   "execution_count": 181,
   "metadata": {},
   "outputs": [
    {
     "name": "stdout",
     "output_type": "stream",
     "text": [
      "WARNING:tensorflow:From /home/nv/virtpy3tf/lib/python3.6/site-packages/tensorflow/python/ops/math_ops.py:3066: to_int32 (from tensorflow.python.ops.math_ops) is deprecated and will be removed in a future version.\n",
      "Instructions for updating:\n",
      "Use tf.cast instead.\n",
      "Train on 6857 samples, validate on 3693 samples\n",
      "Epoch 1/40\n",
      "6857/6857 [==============================] - 26s 4ms/step - loss: 0.6616 - acc: 0.6450 - val_loss: 0.6423 - val_acc: 0.6664\n",
      "Epoch 2/40\n",
      "6857/6857 [==============================] - 2s 346us/step - loss: 0.6375 - acc: 0.6665 - val_loss: 0.6359 - val_acc: 0.6664\n",
      "Epoch 3/40\n",
      "6857/6857 [==============================] - 2s 347us/step - loss: 0.6284 - acc: 0.6684 - val_loss: 0.6054 - val_acc: 0.6780\n",
      "Epoch 4/40\n",
      "6857/6857 [==============================] - 2s 347us/step - loss: 0.5190 - acc: 0.7458 - val_loss: 0.5825 - val_acc: 0.6927\n",
      "Epoch 5/40\n",
      "6857/6857 [==============================] - 2s 346us/step - loss: 0.3811 - acc: 0.8418 - val_loss: 0.6305 - val_acc: 0.7178\n",
      "Epoch 6/40\n",
      "6857/6857 [==============================] - 2s 349us/step - loss: 0.3107 - acc: 0.8881 - val_loss: 0.6696 - val_acc: 0.7143\n",
      "Epoch 7/40\n",
      "6857/6857 [==============================] - 2s 348us/step - loss: 0.2536 - acc: 0.9135 - val_loss: 0.7385 - val_acc: 0.7035\n",
      "Epoch 8/40\n",
      "6857/6857 [==============================] - 2s 347us/step - loss: 0.2130 - acc: 0.9300 - val_loss: 0.8098 - val_acc: 0.6897\n",
      "Epoch 9/40\n",
      "6857/6857 [==============================] - 2s 348us/step - loss: 0.1791 - acc: 0.9436 - val_loss: 0.8537 - val_acc: 0.7002\n",
      "Epoch 10/40\n",
      "6857/6857 [==============================] - 2s 356us/step - loss: 0.1556 - acc: 0.9530 - val_loss: 0.9184 - val_acc: 0.6992\n",
      "Epoch 11/40\n",
      "6857/6857 [==============================] - 2s 351us/step - loss: 0.1345 - acc: 0.9597 - val_loss: 0.9568 - val_acc: 0.7032\n",
      "Epoch 12/40\n",
      "6857/6857 [==============================] - 2s 352us/step - loss: 0.1214 - acc: 0.9631 - val_loss: 1.0386 - val_acc: 0.6859\n",
      "Epoch 13/40\n",
      "6857/6857 [==============================] - 2s 352us/step - loss: 0.1079 - acc: 0.9691 - val_loss: 1.0674 - val_acc: 0.6959\n",
      "Epoch 14/40\n",
      "6857/6857 [==============================] - 2s 353us/step - loss: 0.0946 - acc: 0.9749 - val_loss: 1.1127 - val_acc: 0.6943\n",
      "Epoch 15/40\n",
      "6857/6857 [==============================] - 2s 352us/step - loss: 0.0865 - acc: 0.9736 - val_loss: 1.1502 - val_acc: 0.6962\n",
      "Epoch 16/40\n",
      "6857/6857 [==============================] - 2s 352us/step - loss: 0.0761 - acc: 0.9783 - val_loss: 1.1817 - val_acc: 0.7035\n",
      "Epoch 17/40\n",
      "6857/6857 [==============================] - 2s 353us/step - loss: 0.0700 - acc: 0.9802 - val_loss: 1.2389 - val_acc: 0.6921\n",
      "Epoch 18/40\n",
      "6857/6857 [==============================] - 2s 353us/step - loss: 0.0645 - acc: 0.9806 - val_loss: 1.2728 - val_acc: 0.7002\n",
      "Epoch 19/40\n",
      "6857/6857 [==============================] - 2s 353us/step - loss: 0.0594 - acc: 0.9825 - val_loss: 1.3074 - val_acc: 0.6973\n",
      "Epoch 20/40\n",
      "6857/6857 [==============================] - 2s 353us/step - loss: 0.0536 - acc: 0.9845 - val_loss: 1.3484 - val_acc: 0.6978\n",
      "Epoch 21/40\n",
      "6857/6857 [==============================] - 2s 353us/step - loss: 0.0485 - acc: 0.9863 - val_loss: 1.3967 - val_acc: 0.6921\n",
      "Epoch 22/40\n",
      "6857/6857 [==============================] - 2s 352us/step - loss: 0.0495 - acc: 0.9848 - val_loss: 1.4352 - val_acc: 0.6916\n",
      "Epoch 23/40\n",
      "6857/6857 [==============================] - 2s 352us/step - loss: 0.0476 - acc: 0.9851 - val_loss: 1.4681 - val_acc: 0.6889\n",
      "Epoch 24/40\n",
      "6857/6857 [==============================] - 2s 355us/step - loss: 0.0452 - acc: 0.9864 - val_loss: 1.5024 - val_acc: 0.6908\n",
      "Epoch 25/40\n",
      "6857/6857 [==============================] - 2s 353us/step - loss: 0.0406 - acc: 0.9886 - val_loss: 1.5230 - val_acc: 0.7000\n",
      "Epoch 26/40\n",
      "6857/6857 [==============================] - 2s 353us/step - loss: 0.0450 - acc: 0.9869 - val_loss: 1.5535 - val_acc: 0.6859\n",
      "Epoch 27/40\n",
      "6857/6857 [==============================] - 2s 351us/step - loss: 0.0395 - acc: 0.9880 - val_loss: 1.5700 - val_acc: 0.6927\n",
      "Epoch 28/40\n",
      "6857/6857 [==============================] - 2s 358us/step - loss: 0.0422 - acc: 0.9857 - val_loss: 1.6052 - val_acc: 0.6799\n",
      "Epoch 29/40\n",
      "6857/6857 [==============================] - 2s 350us/step - loss: 0.0348 - acc: 0.9901 - val_loss: 1.6257 - val_acc: 0.6848\n",
      "Epoch 30/40\n",
      "6857/6857 [==============================] - 2s 349us/step - loss: 0.0331 - acc: 0.9899 - val_loss: 1.6520 - val_acc: 0.6905\n",
      "Epoch 31/40\n",
      "6857/6857 [==============================] - 2s 355us/step - loss: 0.0317 - acc: 0.9911 - val_loss: 1.6766 - val_acc: 0.6837\n",
      "Epoch 32/40\n",
      "6857/6857 [==============================] - 2s 356us/step - loss: 0.0303 - acc: 0.9912 - val_loss: 1.6992 - val_acc: 0.6829\n",
      "Epoch 33/40\n",
      "6857/6857 [==============================] - 2s 352us/step - loss: 0.0348 - acc: 0.9892 - val_loss: 1.7490 - val_acc: 0.6696\n",
      "Epoch 34/40\n",
      "6857/6857 [==============================] - 2s 351us/step - loss: 0.0306 - acc: 0.9908 - val_loss: 1.7436 - val_acc: 0.6908\n",
      "Epoch 35/40\n",
      "6857/6857 [==============================] - 2s 350us/step - loss: 0.0298 - acc: 0.9912 - val_loss: 1.7579 - val_acc: 0.6900\n",
      "Epoch 36/40\n",
      "6857/6857 [==============================] - 2s 350us/step - loss: 0.0256 - acc: 0.9930 - val_loss: 1.7745 - val_acc: 0.6921\n",
      "Epoch 37/40\n",
      "6857/6857 [==============================] - 2s 350us/step - loss: 0.0238 - acc: 0.9933 - val_loss: 1.8183 - val_acc: 0.6891\n",
      "Epoch 38/40\n",
      "6857/6857 [==============================] - 2s 347us/step - loss: 0.0245 - acc: 0.9930 - val_loss: 1.8413 - val_acc: 0.6908\n",
      "Epoch 39/40\n",
      "6857/6857 [==============================] - 2s 347us/step - loss: 0.0235 - acc: 0.9940 - val_loss: 1.8575 - val_acc: 0.6891\n",
      "Epoch 40/40\n",
      "6857/6857 [==============================] - 2s 348us/step - loss: 0.0232 - acc: 0.9933 - val_loss: 1.8686 - val_acc: 0.6816\n"
     ]
    }
   ],
   "source": [
    "history = model.fit(tr_data,\n",
    "                    tr_labels,\n",
    "                    epochs=40,\n",
    "                    batch_size=64,\n",
    "                    validation_data=(val_data, val_labels),\n",
    "                    verbose=1)\n",
    "# model.fit(self.tr_data, self.tr_labels, batch_size=batch_size, epochs=epochs, verbose=1, validation_data=(self.val_data, self.val_labels))  # starts training\n"
   ]
  },
  {
   "cell_type": "code",
   "execution_count": 183,
   "metadata": {},
   "outputs": [
    {
     "name": "stderr",
     "output_type": "stream",
     "text": [
      "/home/nv/virtpy3tf/lib/python3.6/site-packages/sklearn/preprocessing/_encoders.py:415: FutureWarning: The handling of integer data will change in version 0.22. Currently, the categories are determined based on the range [0, max(values)], while in the future they will be determined based on the unique values.\n",
      "If you want the future behaviour and silence this warning, you can specify \"categories='auto'\".\n",
      "In case you used a LabelEncoder before this OneHotEncoder to convert the categories to integers, then you can now use the OneHotEncoder directly.\n",
      "  warnings.warn(msg, FutureWarning)\n"
     ]
    },
    {
     "name": "stdout",
     "output_type": "stream",
     "text": [
      "2638/2638 [==============================] - 1s 334us/step\n"
     ]
    }
   ],
   "source": [
    "tst_labels = one_hot(tst_labels)\n",
    "\n",
    "tst_data =  encode_corpus(tst_data)\n",
    "results = model.evaluate(tst_data, tst_labels)"
   ]
  },
  {
   "cell_type": "code",
   "execution_count": 184,
   "metadata": {},
   "outputs": [
    {
     "data": {
      "text/plain": [
       "[1.7811075678099457, 0.6963608794993212]"
      ]
     },
     "execution_count": 184,
     "metadata": {},
     "output_type": "execute_result"
    }
   ],
   "source": [
    "results"
   ]
  },
  {
   "cell_type": "code",
   "execution_count": 185,
   "metadata": {},
   "outputs": [
    {
     "data": {
      "image/png": "[encoded data removed]",
      "text/plain": [
       "<Figure size 432x288 with 1 Axes>"
      ]
     },
     "metadata": {
      "needs_background": "light"
     },
     "output_type": "display_data"
    }
   ],
   "source": [
    "import matplotlib.pyplot as plt\n",
    "\n",
    "history_dict = history.history\n",
    "\n",
    "acc = history_dict['acc']\n",
    "val_acc = history_dict['val_acc']\n",
    "loss = history_dict['loss']\n",
    "val_loss = history_dict['val_loss']\n",
    "\n",
    "epochs = range(1, len(acc) + 1)\n",
    "\n",
    "plt.plot(epochs, acc, 'bo', label='Training acc')\n",
    "plt.plot(epochs, val_acc, 'b', label='Validation acc')\n",
    "plt.title('Training and validation accuracy')\n",
    "plt.xlabel('Epochs')\n",
    "plt.ylabel('Accuracy')\n",
    "plt.legend()\n",
    "\n",
    "plt.show()"
   ]
  }
 ],
 "metadata": {
  "accelerator": "GPU",
  "colab": {
   "collapsed_sections": [],
   "name": "lab6-semeval-task6",
   "provenance": []
  },
  "kernelspec": {
   "display_name": "Python 3",
   "language": "python",
   "name": "python3"
  },
  "language_info": {
   "codemirror_mode": {
    "name": "ipython",
    "version": 3
   },
   "file_extension": ".py",
   "mimetype": "text/x-python",
   "name": "python",
   "nbconvert_exporter": "python",
   "pygments_lexer": "ipython3",
   "version": "3.6.8"
  }
 },
 "nbformat": 4,
 "nbformat_minor": 1
}
