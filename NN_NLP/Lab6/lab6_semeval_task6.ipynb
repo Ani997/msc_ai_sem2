{
  "nbformat": 4,
  "nbformat_minor": 0,
  "metadata": {
    "accelerator": "GPU",
    "colab": {
      "name": "lab6-semeval-task6",
      "provenance": [],
      "collapsed_sections": []
    },
    "kernelspec": {
      "display_name": "Python 3",
      "language": "python",
      "name": "python3"
    },
    "language_info": {
      "codemirror_mode": {
        "name": "ipython",
        "version": 3
      },
      "file_extension": ".py",
      "mimetype": "text/x-python",
      "name": "python",
      "nbconvert_exporter": "python",
      "pygments_lexer": "ipython3",
      "version": "3.6.8"
    }
  },
  "cells": [
    {
      "cell_type": "markdown",
      "metadata": {
        "id": "OlpcgzbCQoGy",
        "colab_type": "text"
      },
      "source": [
        "Installing few requirements below and assuming Tensorflow, keras, numpy and sklearn are preinstalled"
      ]
    },
    {
      "cell_type": "code",
      "metadata": {
        "colab_type": "code",
        "id": "A-XIU8TzOlZa",
        "colab": {}
      },
      "source": [
        "# !wget -qO ./OLIDv1.0.zip https://sites.google.com/site/offensevalsharedtask/olid/OLIDv1.0.zip\n",
        "# !mkdir -p ./data\n",
        "# !unzip -qqo ./OLIDv1.0.zip -d data/\n",
        "# !wget -qO ./contractions.py \"https://raw.github.com/neerajvashistha/msc_ai_sem1/master/Lab/NLP/Lab 2 (Assessed)-20191014/contractions.py\"\n",
        "# !wget -qO ./emo_unicode.py   \"https://raw.githubusercontent.com/NeelShah18/emot/master/emot/emo_unicode.py\"\n",
        "# !pip -q install ekphrasis \n",
        "# !pip -q install emoji --upgrade\n",
        "# !pip -q install pyspellchecker\n",
        "# !pip -q install dask[dataframe] "
      ],
      "execution_count": 0,
      "outputs": []
    },
    {
      "cell_type": "markdown",
      "metadata": {
        "id": "2R0T08zPQoHT",
        "colab_type": "text"
      },
      "source": [
        "# Preprocessing"
      ]
    },
    {
      "cell_type": "code",
      "metadata": {
        "colab_type": "code",
        "id": "2o9DFHtQSE6s",
        "outputId": "1aa8167a-cf2a-4fa3-8879-37032336a3c0",
        "colab": {
          "base_uri": "https://localhost:8080/",
          "height": 191
        }
      },
      "source": [
        "import pandas as pd\n",
        "from contractions import general_contraction\n",
        "from emo_unicode import EMOTICONS_EMO\n",
        "from emo_unicode import EMOTICONS\n",
        "import re\n",
        "import string\n",
        "from ekphrasis.classes.segmenter import Segmenter\n",
        "import emoji\n",
        "from ekphrasis.classes.tokenizer import SocialTokenizer\n",
        "import string,re\n",
        "import time\n",
        "\n",
        "punct = string.punctuation\n",
        "\n",
        "punct = string.punctuation.replace('\\\\','')\n",
        "punct2 = punct.replace('!','').replace('?','')+'#'\n",
        "\n",
        "from spellchecker import SpellChecker\n",
        "seg = Segmenter() \n",
        "spell = SpellChecker()\n",
        "social_tokenizer = SocialTokenizer(lowercase=False).tokenize\n",
        "\n",
        "\n",
        "df_tweet = pd.read_csv('./data/olid-training-v1.0.tsv',sep='\\t')#.head(1000)"
      ],
      "execution_count": 0,
      "outputs": [
        {
          "output_type": "stream",
          "text": [
            "Reading english - 1grams ...\n",
            "Reading english - 2grams ...\n"
          ],
          "name": "stdout"
        }
      ]
    },
    {
      "cell_type": "code",
      "metadata": {
        "colab_type": "code",
        "id": "Y7UfsZb7TL2A",
        "outputId": "03beb631-d729-425e-b3ca-5d2fca999c85",
        "colab": {
          "base_uri": "https://localhost:8080/",
          "height": 211
        }
      },
      "source": [
        "df_tweet.info() #brief of what kind of data is present"
      ],
      "execution_count": 0,
      "outputs": [
        {
          "output_type": "stream",
          "text": [
            "<class 'pandas.core.frame.DataFrame'>\n",
            "RangeIndex: 13240 entries, 0 to 13239\n",
            "Data columns (total 5 columns):\n",
            "id           13240 non-null int64\n",
            "tweet        13240 non-null object\n",
            "subtask_a    13240 non-null object\n",
            "subtask_b    4400 non-null object\n",
            "subtask_c    3876 non-null object\n",
            "dtypes: int64(1), object(4)\n",
            "memory usage: 517.3+ KB\n"
          ],
          "name": "stdout"
        }
      ]
    },
    {
      "cell_type": "code",
      "metadata": {
        "colab_type": "code",
        "id": "_17i2oC0DCge",
        "colab": {}
      },
      "source": [
        "def _replace_mul_special_char(astr):\n",
        "    '''\n",
        "    remove multiple occuring special characters such as !!! -> ! \n",
        "    and :-)))))))))) -> :-) \n",
        "    input: astr, string\n",
        "    return: string\n",
        "    '''\n",
        "    def _replace(string, char): \n",
        "        pattern = \"\\\\\"+ char + '{2,}'  \n",
        "        string = re.sub(pattern, char, string) \n",
        "        return string \n",
        "\n",
        "    for i in punct:\n",
        "        if i in astr:\n",
        "            astr = _replace(astr,i)\n",
        "    return astr\n",
        "\n",
        "# s = [\"so i believe :::::::-)) that :-]]\",'but what i say :-) !!! I lknow  ://','0 we wil see when the time comes :\\\\']\n",
        "# for i in s:\n",
        "#     print(_replace_mul_special_char(i))\n",
        "     "
      ],
      "execution_count": 0,
      "outputs": []
    },
    {
      "cell_type": "code",
      "metadata": {
        "colab_type": "code",
        "id": "5PS_RWbqDCgj",
        "colab": {}
      },
      "source": [
        "def _clean_list(alist):\n",
        "    '''\n",
        "    fliters out the clutter present in the elements of the list \n",
        "    input: alist, list\n",
        "    return: list\n",
        "    '''\n",
        "    alist = ' '.join(alist).split(' ')\n",
        "    for t in range(len(alist)):\n",
        "        if len(alist[t].split(' ')) > 0:\n",
        "            alist[t] = re.sub('[^A-Za-z*]+', ' ', ' '.join(alist[t].split())).strip()\n",
        "    return list(filter(None, alist))\n",
        "\n",
        "# a = ['', 'canada', 'does       not', 'need', 'another', 'cuck!', 'we', 'already', 'have', 'enough', '# looney   left', '#   liberals', 'f*   king', 'up', 'our', 'great', 'country   !', '#q   proofs', '# trudeau must go']\n",
        "# a = ['']\n",
        "# _clean_list(a)"
      ],
      "execution_count": 0,
      "outputs": []
    },
    {
      "cell_type": "code",
      "metadata": {
        "id": "ISuURk87QoH7",
        "colab_type": "code",
        "colab": {}
      },
      "source": [
        "def _replace_use_dict(adict,tokens):\n",
        "    '''\n",
        "    utility function for preprocessing\n",
        "    input: adict,token, (dict,list)\n",
        "    return: list\n",
        "    '''\n",
        "    return [seg.segment(adict.get(n, n)) if len(n)>5 else adict.get(n, n) for n in tokens ]\n",
        "\n",
        "def _spell_correction(alist):\n",
        "    '''\n",
        "    utility function for spelling correction\n",
        "    input: alist, list\n",
        "    return: list\n",
        "    '''\n",
        "    return map(lambda word: word if word not in spell else spell.correction(word), alist)"
      ],
      "execution_count": 0,
      "outputs": []
    },
    {
      "cell_type": "markdown",
      "metadata": {
        "id": "dSFA_ZSMQoIE",
        "colab_type": "text"
      },
      "source": [
        "### Stage 1 Preprocesing steps\n",
        "The Preprocessing is carried out in following way and is referenced from https://github.com/cicl2018/semeval-2019-task-6-HAD\n",
        "1. Lowercasing\n",
        "2. Removing URLs, @USER, all the following charachters “ :. , — ˜ ”, digits and single quotation marks except for abbreviations and possessors (e.g. u’re → u’re, but about’ → about)\n",
        "3. `!@#%^&*()[]{};:,./<>?\\|``~-=_+`\n",
        "4. Using ‘=’, ‘!’, ‘?’ and ‘/’ as token splitters (e.g. something!important → something important)\n",
        "5. Parsing hashtags (See Christos Baziotis et. al. 2017)"
      ]
    },
    {
      "cell_type": "code",
      "metadata": {
        "colab_type": "code",
        "id": "gsxRi5ahDCgo",
        "colab": {}
      },
      "source": [
        "punct2 = punct.replace('!','').replace('?','')+'#'\n",
        "\n",
        "def preprocessing(x):\n",
        "    x = x.replace('@USER','').replace('URL','').replace('’',\"'\")\n",
        "    x = str(x).lower()\n",
        "    x = _replace_mul_special_char(x)\n",
        "    x = emoji.demojize(x) # unicode emoji to text meaning\n",
        "    xt = x.split(' ')\n",
        "    xt1 = _replace_use_dict(general_contraction,xt) # they've -> they have, contraction expansion   \n",
        "    xt2 = _replace_use_dict(EMOTICONS_EMO,xt1) #  text emoji to text meaning\n",
        "    xt3 = _replace_use_dict(EMOTICONS,xt2) #  text emoji to text meaning\n",
        "    xt4 = _clean_list(xt3) \n",
        "    xtf = ' '.join(xt4).split(' ')\n",
        "    return xtf\n",
        "\n",
        "# print(df_tweet.tweet[9])\n",
        "# print(preprocessing(df_tweet.tweet[9]))\n",
        "# for i in range(100):\n",
        "#     print(preprocessing(df_tweet.tweet[i]))\n"
      ],
      "execution_count": 0,
      "outputs": []
    },
    {
      "cell_type": "code",
      "metadata": {
        "colab_type": "code",
        "id": "SgPAYn_ITXGM",
        "colab": {}
      },
      "source": [
        "# Single core pre-processing of text\n",
        "# startt = time.time()\n",
        "# df_tweet['tweet_pr_st1'] = df_tweet.apply(lambda x: preprocessing(x['tweet']),axis=1)\n",
        "# endt = time.time()\n",
        "# print('total time: ', endt-startt)"
      ],
      "execution_count": 0,
      "outputs": []
    },
    {
      "cell_type": "code",
      "metadata": {
        "colab_type": "code",
        "id": "JoL6L4dvDCg9",
        "colab": {},
        "outputId": "49a10500-e585-468f-b69e-f954880da9da"
      },
      "source": [
        "# Multi core pre-processing of text\n",
        "startt = time.time()\n",
        "from dask import dataframe as dd\n",
        "from dask.multiprocessing import get\n",
        "from multiprocessing import cpu_count\n",
        "nCores = cpu_count() - 1\n",
        "\n",
        "# my_df.apply(lambda x: nearest_street(x.lat,x.lon),axis=1)\n",
        "# df_tweet['tweet'] = df.apply(lambda x: preprocessing(x['tweet']),axis=1)\n",
        "\n",
        "df_tweet['tweet_pr_st1']  = dd.from_pandas(df_tweet,npartitions=nCores).\\\n",
        "               map_partitions(\n",
        "                  lambda df : df.apply(\n",
        "                     lambda x : preprocessing(x.tweet),axis=1)).\\\n",
        "               compute(scheduler='processes')\n",
        "endt = time.time()\n",
        "print('total time: ', endt-startt)"
      ],
      "execution_count": 0,
      "outputs": [
        {
          "output_type": "stream",
          "text": [
            "total time:  666.0358140468597\n"
          ],
          "name": "stdout"
        }
      ]
    },
    {
      "cell_type": "code",
      "metadata": {
        "colab_type": "code",
        "id": "ZZbHINqwAWMm",
        "outputId": "6c2d20d0-8313-49a6-cc29-e77ba2d3b2d9",
        "colab": {}
      },
      "source": [
        "df_tweet.shape"
      ],
      "execution_count": 0,
      "outputs": [
        {
          "output_type": "execute_result",
          "data": {
            "text/plain": [
              "(13240, 6)"
            ]
          },
          "metadata": {
            "tags": []
          },
          "execution_count": 9
        }
      ]
    },
    {
      "cell_type": "code",
      "metadata": {
        "id": "eeAgnYyXQoIp",
        "colab_type": "code",
        "colab": {},
        "outputId": "1de7d55b-2297-46a6-be9c-4ebe92f55041"
      },
      "source": [
        "df_tweet.head(5)"
      ],
      "execution_count": 0,
      "outputs": [
        {
          "output_type": "execute_result",
          "data": {
            "text/html": [
              "<div>\n",
              "<style scoped>\n",
              "    .dataframe tbody tr th:only-of-type {\n",
              "        vertical-align: middle;\n",
              "    }\n",
              "\n",
              "    .dataframe tbody tr th {\n",
              "        vertical-align: top;\n",
              "    }\n",
              "\n",
              "    .dataframe thead th {\n",
              "        text-align: right;\n",
              "    }\n",
              "</style>\n",
              "<table border=\"1\" class=\"dataframe\">\n",
              "  <thead>\n",
              "    <tr style=\"text-align: right;\">\n",
              "      <th></th>\n",
              "      <th>id</th>\n",
              "      <th>tweet</th>\n",
              "      <th>subtask_a</th>\n",
              "      <th>subtask_b</th>\n",
              "      <th>subtask_c</th>\n",
              "      <th>tweet_pr_st1</th>\n",
              "    </tr>\n",
              "  </thead>\n",
              "  <tbody>\n",
              "    <tr>\n",
              "      <th>0</th>\n",
              "      <td>86426</td>\n",
              "      <td>@USER She should ask a few native Americans wh...</td>\n",
              "      <td>OFF</td>\n",
              "      <td>UNT</td>\n",
              "      <td>NaN</td>\n",
              "      <td>[she, should, ask, a, few, native, americans, ...</td>\n",
              "    </tr>\n",
              "    <tr>\n",
              "      <th>1</th>\n",
              "      <td>90194</td>\n",
              "      <td>@USER @USER Go home you’re drunk!!! @USER #MAG...</td>\n",
              "      <td>OFF</td>\n",
              "      <td>TIN</td>\n",
              "      <td>IND</td>\n",
              "      <td>[go, home, you, are, drunk, maga, trump, oncom...</td>\n",
              "    </tr>\n",
              "    <tr>\n",
              "      <th>2</th>\n",
              "      <td>16820</td>\n",
              "      <td>Amazon is investigating Chinese employees who ...</td>\n",
              "      <td>NOT</td>\n",
              "      <td>NaN</td>\n",
              "      <td>NaN</td>\n",
              "      <td>[amazon, is, investigating, chinese, employees...</td>\n",
              "    </tr>\n",
              "    <tr>\n",
              "      <th>3</th>\n",
              "      <td>62688</td>\n",
              "      <td>@USER Someone should'veTaken\" this piece of sh...</td>\n",
              "      <td>OFF</td>\n",
              "      <td>UNT</td>\n",
              "      <td>NaN</td>\n",
              "      <td>[someone, should, vetaken, this, piece, of, sh...</td>\n",
              "    </tr>\n",
              "    <tr>\n",
              "      <th>4</th>\n",
              "      <td>43605</td>\n",
              "      <td>@USER @USER Obama wanted liberals &amp;amp; illega...</td>\n",
              "      <td>NOT</td>\n",
              "      <td>NaN</td>\n",
              "      <td>NaN</td>\n",
              "      <td>[obama, wanted, liberals, amp, illegals, to, m...</td>\n",
              "    </tr>\n",
              "  </tbody>\n",
              "</table>\n",
              "</div>"
            ],
            "text/plain": [
              "      id                                              tweet subtask_a  \\\n",
              "0  86426  @USER She should ask a few native Americans wh...       OFF   \n",
              "1  90194  @USER @USER Go home you’re drunk!!! @USER #MAG...       OFF   \n",
              "2  16820  Amazon is investigating Chinese employees who ...       NOT   \n",
              "3  62688  @USER Someone should'veTaken\" this piece of sh...       OFF   \n",
              "4  43605  @USER @USER Obama wanted liberals &amp; illega...       NOT   \n",
              "\n",
              "  subtask_b subtask_c                                       tweet_pr_st1  \n",
              "0       UNT       NaN  [she, should, ask, a, few, native, americans, ...  \n",
              "1       TIN       IND  [go, home, you, are, drunk, maga, trump, oncom...  \n",
              "2       NaN       NaN  [amazon, is, investigating, chinese, employees...  \n",
              "3       UNT       NaN  [someone, should, vetaken, this, piece, of, sh...  \n",
              "4       NaN       NaN  [obama, wanted, liberals, amp, illegals, to, m...  "
            ]
          },
          "metadata": {
            "tags": []
          },
          "execution_count": 10
        }
      ]
    },
    {
      "cell_type": "code",
      "metadata": {
        "colab_type": "code",
        "id": "GGRnk79LjVMN",
        "colab": {}
      },
      "source": [
        "Stage 1 of Preprocessing completed"
      ],
      "execution_count": 0,
      "outputs": []
    },
    {
      "cell_type": "code",
      "metadata": {
        "colab_type": "code",
        "id": "XlGyYBUBDChF",
        "colab": {}
      },
      "source": [
        "df_tweet.to_csv('data/processed_tweet.csv',index=False)"
      ],
      "execution_count": 0,
      "outputs": []
    },
    {
      "cell_type": "markdown",
      "metadata": {
        "id": "PIsBYpGbQoI8",
        "colab_type": "text"
      },
      "source": [
        "### Stage 2 Preprocessing Steps\n",
        "1. Stopword removal\n",
        "2. lemmatisation"
      ]
    },
    {
      "cell_type": "code",
      "metadata": {
        "colab_type": "code",
        "id": "bMKJjCzaDnQw",
        "colab": {},
        "outputId": "4c15d14c-41dc-46fd-f809-84501384e52a"
      },
      "source": [
        "import pandas as pd\n",
        "import numpy as np\n",
        "df_tweet = pd.read_csv(\"data/processed_tweet.csv\")\n",
        "import ast\n",
        "df_tweet['tweet_pr_st1'] = df_tweet.apply(lambda x: ast.literal_eval(x.tweet_pr_st1),axis =1)\n",
        "df_tweet.info()"
      ],
      "execution_count": 0,
      "outputs": [
        {
          "output_type": "stream",
          "text": [
            "<class 'pandas.core.frame.DataFrame'>\n",
            "RangeIndex: 13240 entries, 0 to 13239\n",
            "Data columns (total 6 columns):\n",
            "id              13240 non-null int64\n",
            "tweet           13240 non-null object\n",
            "subtask_a       13240 non-null object\n",
            "subtask_b       4400 non-null object\n",
            "subtask_c       3876 non-null object\n",
            "tweet_pr_st1    13240 non-null object\n",
            "dtypes: int64(1), object(5)\n",
            "memory usage: 620.8+ KB\n"
          ],
          "name": "stdout"
        }
      ]
    },
    {
      "cell_type": "code",
      "metadata": {
        "colab_type": "code",
        "id": "bVMj6yEljP8e",
        "outputId": "f5e5000b-40f4-4708-9b7c-a40ecdc481c3",
        "colab": {
          "base_uri": "https://localhost:8080/",
          "height": 385
        }
      },
      "source": [
        "import nltk\n",
        "nltk.download('stopwords')\n",
        "nltk.download('averaged_perceptron_tagger')\n",
        "nltk.download('wordnet')"
      ],
      "execution_count": 0,
      "outputs": [
        {
          "output_type": "stream",
          "text": [
            "[nltk_data] Downloading package stopwords to /home/nv/nltk_data...\n",
            "[nltk_data]   Package stopwords is already up-to-date!\n",
            "[nltk_data] Downloading package averaged_perceptron_tagger to\n",
            "[nltk_data]     /home/nv/nltk_data...\n",
            "[nltk_data]   Package averaged_perceptron_tagger is already up-to-\n",
            "[nltk_data]       date!\n",
            "[nltk_data] Downloading package wordnet to /home/nv/nltk_data...\n",
            "[nltk_data]   Package wordnet is already up-to-date!\n"
          ],
          "name": "stderr"
        },
        {
          "output_type": "execute_result",
          "data": {
            "text/plain": [
              "True"
            ]
          },
          "metadata": {
            "tags": []
          },
          "execution_count": 12
        }
      ]
    },
    {
      "cell_type": "code",
      "metadata": {
        "colab_type": "code",
        "id": "mPezFvIgjvqh",
        "colab": {}
      },
      "source": [
        "from nltk.corpus import stopwords\n",
        "import re\n",
        "def _remove_stopwords(tweet):\n",
        "    '''\n",
        "    removing stopwords + any other char other than alpha-numeric\n",
        "    input: tweet, list\n",
        "    return: list\n",
        "    '''\n",
        "    stop = set(stopwords.words(\"english\"))\n",
        "    other = ['user']\n",
        "    data = [w for w in tweet if w not in stop and not re.match(r\"[^a-zA-Z\\d\\s]+\", w) and w not in other and len(w) >= 2 ]\n",
        "    return data"
      ],
      "execution_count": 0,
      "outputs": []
    },
    {
      "cell_type": "code",
      "metadata": {
        "colab_type": "code",
        "id": "5U1_g4nUksfq",
        "colab": {}
      },
      "source": [
        "from nltk.stem import WordNetLemmatizer\n",
        "wnl = WordNetLemmatizer()\n",
        "from nltk import pos_tag\n",
        "from nltk.corpus import wordnet\n",
        "def get_pos(word):\n",
        "    tag = pos_tag([word])[0][1]\n",
        "    if tag.startswith('J'):\n",
        "        return wordnet.ADJ\n",
        "    elif tag.startswith('V'):\n",
        "        return wordnet.VERB\n",
        "    elif tag.startswith('N'):\n",
        "        return wordnet.NOUN\n",
        "    elif tag.startswith('R'):\n",
        "        return wordnet.ADV\n",
        "    else:\n",
        "        return wordnet.NOUN\n",
        "\n",
        "def lemmatize(tweet):\n",
        "    '''\n",
        "    finding Lemma of the word \n",
        "    input: tweet, list\n",
        "    return: list\n",
        "    '''\n",
        "    if tweet:\n",
        "        data = [wnl.lemmatize(str(word), pos=get_pos(str(word))) for word in tweet]\n",
        "        return data\n",
        "    else:\n",
        "        return []\n",
        "    \n",
        "# tweet = df_tweet_task_a.tweet[21]\n",
        "# print(tweet)\n",
        "# print(remove_stopwords(tweet))\n",
        "# print(lemmatize(tweet))"
      ],
      "execution_count": 0,
      "outputs": []
    },
    {
      "cell_type": "code",
      "metadata": {
        "colab_type": "code",
        "id": "sgi2kPKWmKRh",
        "colab": {}
      },
      "source": [
        "df_tweet['tweet_pr_st2'] = df_tweet.apply(lambda x: lemmatize(_remove_stopwords(x.tweet_pr_st1)),axis =1)"
      ],
      "execution_count": 0,
      "outputs": []
    },
    {
      "cell_type": "markdown",
      "metadata": {
        "id": "0Tc1DsFsQoJe",
        "colab_type": "text"
      },
      "source": [
        "After above operation, performing clean up of unwanted empty instances"
      ]
    },
    {
      "cell_type": "code",
      "metadata": {
        "colab_type": "code",
        "id": "-5O76qn9AWNt",
        "outputId": "9e8bad12-69cf-41c2-93f1-e7f0ba1fef81",
        "colab": {}
      },
      "source": [
        "# Number of tweets in each category containing redundant data\n",
        "df_tweet[df_tweet['tweet_pr_st2'].str.len()<=0].count()"
      ],
      "execution_count": 0,
      "outputs": [
        {
          "output_type": "execute_result",
          "data": {
            "text/plain": [
              "id              52\n",
              "tweet           52\n",
              "subtask_a       52\n",
              "subtask_b        1\n",
              "subtask_c        1\n",
              "tweet_pr_st1    52\n",
              "tweet_pr_st2    52\n",
              "dtype: int64"
            ]
          },
          "metadata": {
            "tags": []
          },
          "execution_count": 16
        }
      ]
    },
    {
      "cell_type": "code",
      "metadata": {
        "colab_type": "code",
        "id": "V86wrujznkaQ",
        "outputId": "7cd27ff4-8a0b-4a5f-b743-02464a180b44",
        "colab": {
          "base_uri": "https://localhost:8080/",
          "height": 1000
        }
      },
      "source": [
        "# Original tweet ** stage_1_preprocessing ** stage_2_preprocessing ** len(stage_2_preprocessing)\n",
        "for i,k in enumerate(list(df_tweet[\"tweet_pr_st2\"].str.len())):\n",
        "    if k<=0:\n",
        "        print(df_tweet['tweet'][i],\"**\",df_tweet['tweet_pr_st1'][i],\"**\",df_tweet['tweet_pr_st2'][i],df_tweet['subtask_a'][i],k)"
      ],
      "execution_count": 0,
      "outputs": [
        {
          "output_type": "stream",
          "text": [
            "@USER he is ** ['he', 'is'] ** [] NOT 0\n",
            "@USER @USER He is. ** ['he', 'is'] ** [] NOT 0\n",
            "@USER He IS in!!! ** ['he', 'is', 'in'] ** [] NOT 0\n",
            "@USER @USER @USER they aren't.... ** ['they', 'are', 'n', 't'] ** [] NOT 0\n",
            "@USER As they should be ** ['as', 'they', 'should', 'be'] ** [] NOT 0\n",
            "@USER Here he is: @USER ** ['here', 'he', 'is'] ** [] NOT 0\n",
            "@USER @USER Me too! ** ['me', 'too'] ** [] NOT 0\n",
            "@USER you are here! ** ['you', 'are', 'here'] ** [] NOT 0\n",
            "@USER @USER @USER @USER @USER @USER @USER @USER @USER @USER @USER @USER @USER @USER @USER @USER @USER @USER @USER @USER @USER @USER @USER @USER @USER @USER @USER @USER @USER @USER @USER @USER @USER @USER @USER @USER @USER @USER @USER @USER @USER @USER @USER @USER @USER @USER @USER @USER @USER @USER She is. ** ['she', 'is'] ** [] NOT 0\n",
            "@USER It’s more what she does than who she is ** ['it', 'is', 'more', 'what', 'she', 'does', 'than', 'who', 'she', 'is'] ** [] OFF 0\n",
            "@USER There she is... URL ** ['there', 'she', 'is'] ** [] NOT 0\n",
            "@USER He is ** ['he', 'is'] ** [] NOT 0\n",
            "@USER @USER He is URL ** ['he', 'is'] ** [] NOT 0\n",
            "@USER She\" is a he.\" ** ['she', 'is', 'a', 'he'] ** [] NOT 0\n",
            "@USER But he IS. ** ['but', 'he', 'is'] ** [] NOT 0\n",
            "@USER He is URL ** ['he', 'is'] ** [] NOT 0\n",
            "@USER @USER @USER @USER Here is 7  URL ** ['here', 'is'] ** [] NOT 0\n",
            "@USER @USER He is. ** ['he', 'is'] ** [] NOT 0\n",
            "@USER @USER Both of them..... ** ['both', 'of', 'them'] ** [] NOT 0\n",
            "@USER You are not ** ['you', 'are', 'not'] ** [] NOT 0\n",
            "@USER No it’s not. ** ['no', 'it', 'is', 'not'] ** [] NOT 0\n",
            "@USER she is you aren’t ** ['she', 'is', 'you', 'are', 'not'] ** [] NOT 0\n",
            "@USER You should do it ** ['you', 'should', 'do', 'it'] ** [] NOT 0\n",
            "@USER And there you have it... ** ['and', 'there', 'you', 'have', 'it'] ** [] NOT 0\n",
            "@USER AS IT SHOULD BE! ** ['as', 'it', 'should', 'be'] ** [] NOT 0\n",
            "@USER @USER She is! ** ['she', 'is'] ** [] NOT 0\n",
            "@USER HE IS ** ['he', 'is'] ** [] NOT 0\n",
            "@USER Because she is ** ['because', 'she', 'is'] ** [] NOT 0\n",
            "@USER As she should be. ** ['as', 'she', 'should', 'be'] ** [] NOT 0\n",
            "@USER @USER @USER So what if she is! ** ['so', 'what', 'if', 'she', 'is'] ** [] NOT 0\n",
            "@USER You are. ** ['you', 'are'] ** [] NOT 0\n",
            "@USER She is! ** ['she', 'is'] ** [] NOT 0\n",
            "@USER Here she is........ URL ** ['here', 'she', 'is'] ** [] NOT 0\n",
            "@USER As if.... ** ['as', 'if'] ** [] NOT 0\n",
            "@USER @USER what? ** ['what'] ** [] NOT 0\n",
            "@USER @USER @USER @USER How so? ** ['how', 'so'] ** [] NOT 0\n",
            "@USER she is ** ['she', 'is'] ** [] NOT 0\n",
            "@USER He. Is. Here. For. Her. ** ['he', 'is', 'here', 'for', 'her'] ** [] NOT 0\n",
            "@USER It does? ** ['it', 'does'] ** [] NOT 0\n",
            "@USER @USER @USER He is ** ['he', 'is'] ** [] NOT 0\n",
            "@USER Here she is ** ['here', 'she', 'is'] ** [] NOT 0\n",
            "@USER @USER She is! ** ['she', 'is'] ** [] NOT 0\n",
            "@USER @USER @USER He is not ** ['he', 'is', 'not'] ** [] NOT 0\n",
            "@USER And ... what? ** ['and', 'what'] ** [] NOT 0\n",
            "@USER @USER He is what he is by now. ** ['he', 'is', 'what', 'he', 'is', 'by', 'now'] ** [] NOT 0\n",
            "@USER @USER You are ....... ** ['you', 'are'] ** [] NOT 0\n",
            "@USER @USER @USER @USER @USER @USER @USER @USER @USER @USER @USER @USER @USER @USER @USER @USER @USER @USER @USER @USER @USER @USER @USER @USER @USER @USER @USER @USER @USER @USER @USER @USER @USER @USER @USER @USER @USER @USER @USER @USER @USER @USER @USER @USER @USER @USER @USER @USER @USER @USER Did I? ** ['did', 'i'] ** [] NOT 0\n",
            "@USER She is ** ['she', 'is'] ** [] NOT 0\n",
            "@USER You are here ** ['you', 'are', 'here'] ** [] NOT 0\n",
            "@USER You are... ** ['you', 'are'] ** [] NOT 0\n",
            "@USER He is.\"\" ** ['he', 'is'] ** [] NOT 0\n",
            "@USER @USER @USER He is. ** ['he', 'is'] ** [] NOT 0\n",
            "Removing not useful instances 52\n",
            "Not useful include  1  offensive category instances\n"
          ],
          "name": "stdout"
        }
      ]
    },
    {
      "cell_type": "markdown",
      "metadata": {
        "id": "tRHmvssqQoJu",
        "colab_type": "text"
      },
      "source": [
        "Dropping redundant instances"
      ]
    },
    {
      "cell_type": "code",
      "metadata": {
        "id": "ZfsB40nOQoJw",
        "colab_type": "code",
        "colab": {},
        "outputId": "88f28a1a-18b4-4622-aac6-0e0dd17a92bb"
      },
      "source": [
        "import numpy as np\n",
        "df_tweet['len_tweet_pr_st2'] = df_tweet[\"tweet_pr_st2\"].str.len()\n",
        "print(\"Removing not useful instances\", df_tweet[df_tweet['len_tweet_pr_st2']<=0].id.count())\n",
        "print(\"Not useful include \", df_tweet[df_tweet['len_tweet_pr_st2']<=0].subtask_b.count(),' offensive category instances')\n",
        "drop_indices = df_tweet[df_tweet['len_tweet_pr_st2']<=0].index\n",
        "df_tweet.drop(drop_indices , inplace=True)"
      ],
      "execution_count": 0,
      "outputs": [
        {
          "output_type": "stream",
          "text": [
            "Removing not useful instances 52\n",
            "Not useful include  1  offensive category instances\n"
          ],
          "name": "stdout"
        }
      ]
    },
    {
      "cell_type": "code",
      "metadata": {
        "id": "JAl9fWh9QoJ3",
        "colab_type": "code",
        "colab": {}
      },
      "source": [
        "df_tweet.to_csv('data/processed_tweet2.csv',index=False)"
      ],
      "execution_count": 0,
      "outputs": []
    },
    {
      "cell_type": "markdown",
      "metadata": {
        "id": "mjVwRp6XQoJ7",
        "colab_type": "text"
      },
      "source": [
        "Stage 2 Preprocessing completed"
      ]
    },
    {
      "cell_type": "markdown",
      "metadata": {
        "id": "0fANamZ6QoJ9",
        "colab_type": "text"
      },
      "source": [
        "# Exploratory Data Analysis"
      ]
    },
    {
      "cell_type": "markdown",
      "metadata": {
        "id": "JH-VZxRlQoJ-",
        "colab_type": "text"
      },
      "source": [
        "Understanding distribution of tweets in various categories"
      ]
    },
    {
      "cell_type": "code",
      "metadata": {
        "colab_type": "code",
        "id": "MsHvxzCUjbtG",
        "outputId": "decbdbdc-9f96-4296-e1c9-ea3dd053d380",
        "colab": {
          "base_uri": "https://localhost:8080/",
          "height": 388
        }
      },
      "source": [
        "print('Subtask A categories',df_tweet['subtask_a'].unique())\n",
        "print('Subtask A offensive tweet count',df_tweet[df_tweet['subtask_a']=='OFF'].subtask_a.count())\n",
        "print('Subtask A Non offensive tweet count',df_tweet[df_tweet['subtask_a']=='NOT'].subtask_a.count())\n",
        "print('Total trainable tweets',df_tweet['subtask_a'].count())\n",
        "df_tweet.groupby(['subtask_a']).count()['id'].plot.bar()"
      ],
      "execution_count": 0,
      "outputs": [
        {
          "output_type": "stream",
          "text": [
            "Subtask A categories ['OFF' 'NOT']\n",
            "Subtask A offensive tweet count 4399\n",
            "Subtask A Non offensive tweet count 8789\n",
            "Total trainable tweets 13188\n"
          ],
          "name": "stdout"
        },
        {
          "output_type": "execute_result",
          "data": {
            "text/plain": [
              "<matplotlib.axes._subplots.AxesSubplot at 0x7f1169435ef0>"
            ]
          },
          "metadata": {
            "tags": []
          },
          "execution_count": 19
        },
        {
          "output_type": "display_data",
          "data": {
            "image/png": "[encoded data removed]",
            "text/plain": [
              "<Figure size 432x288 with 1 Axes>"
            ]
          },
          "metadata": {
            "tags": [],
            "needs_background": "light"
          }
        }
      ]
    },
    {
      "cell_type": "code",
      "metadata": {
        "colab_type": "code",
        "id": "C1YHQaCBjfS_",
        "outputId": "ff7c96af-c3b8-4f4b-bc2e-9c53ab07d5d8",
        "colab": {
          "base_uri": "https://localhost:8080/",
          "height": 407
        }
      },
      "source": [
        "print('Subtask B categories',df_tweet['subtask_b'].unique(),'total')\n",
        "print('Subtask B untargetted offensive tweet count ',df_tweet[df_tweet['subtask_b']=='UNT'].subtask_b.count())\n",
        "print('Subtask B targetted offensive tweet count',df_tweet[df_tweet['subtask_b']=='TIN'].subtask_b.count())\n",
        "print('Subtask B Non offensive tweet count',df_tweet['subtask_b'].isnull().sum())\n",
        "print('Subtask B Total trainable tweets',df_tweet['subtask_b'].isin(['UNT','TIN']).sum())\n",
        "df_tweet.groupby(['subtask_b']).count()['id'].plot.bar()"
      ],
      "execution_count": 0,
      "outputs": [
        {
          "output_type": "stream",
          "text": [
            "Subtask B categories ['UNT' 'TIN' nan] total\n",
            "Subtask B untargetted offensive tweet count  524\n",
            "Subtask B targetted offensive tweet count 3875\n",
            "Subtask B Non offensive tweet count 8789\n",
            "Subtask B Total trainable tweets 4399\n"
          ],
          "name": "stdout"
        },
        {
          "output_type": "execute_result",
          "data": {
            "text/plain": [
              "<matplotlib.axes._subplots.AxesSubplot at 0x7f1169420320>"
            ]
          },
          "metadata": {
            "tags": []
          },
          "execution_count": 20
        },
        {
          "output_type": "display_data",
          "data": {
            "image/png": "[encoded data removed]",
            "text/plain": [
              "<Figure size 432x288 with 1 Axes>"
            ]
          },
          "metadata": {
            "tags": [],
            "needs_background": "light"
          }
        }
      ]
    },
    {
      "cell_type": "code",
      "metadata": {
        "colab_type": "code",
        "id": "8z-HyWK3jiuI",
        "outputId": "b84f937c-75ab-46a7-dfe6-48e1bf175efc",
        "colab": {
          "base_uri": "https://localhost:8080/",
          "height": 429
        }
      },
      "source": [
        "print('Subtask C categories',df_tweet['subtask_c'].unique())\n",
        "print('Subtask C targetted indiviual offensive tweet count',df_tweet[df_tweet['subtask_c']=='IND'].subtask_c.count())\n",
        "print('Subtask C targetted group offensive tweet count',df_tweet[df_tweet['subtask_c']=='GRP'].subtask_c.count())\n",
        "print('Subtask C targetted other offensive tweet count',df_tweet[df_tweet['subtask_c']=='OTH'].subtask_c.count())\n",
        "print('Subtask C Non offensive tweet count',df_tweet['subtask_c'].isnull().sum())\n",
        "print('Subtask C Total trainable tweets',df_tweet['subtask_c'].isin(['IND','GRP','OTH']).sum())\n",
        "df_tweet.groupby(['subtask_c']).count()['id'].plot.bar()"
      ],
      "execution_count": 0,
      "outputs": [
        {
          "output_type": "stream",
          "text": [
            "Subtask C categories [nan 'IND' 'OTH' 'GRP']\n",
            "Subtask C targetted indiviual offensive tweet count 2406\n",
            "Subtask C targetted group offensive tweet count 1074\n",
            "Subtask C targetted other offensive tweet count 395\n",
            "Subtask C Non offensive tweet count 9313\n",
            "Subtask C Total trainable tweets 3875\n"
          ],
          "name": "stdout"
        },
        {
          "output_type": "execute_result",
          "data": {
            "text/plain": [
              "<matplotlib.axes._subplots.AxesSubplot at 0x7f1168f54470>"
            ]
          },
          "metadata": {
            "tags": []
          },
          "execution_count": 21
        },
        {
          "output_type": "display_data",
          "data": {
            "image/png": "[encoded data removed]",
            "text/plain": [
              "<Figure size 432x288 with 1 Axes>"
            ]
          },
          "metadata": {
            "tags": [],
            "needs_background": "light"
          }
        }
      ]
    },
    {
      "cell_type": "markdown",
      "metadata": {
        "id": "8GNSKU40QoKM",
        "colab_type": "text"
      },
      "source": [
        "# Model Building - Task A"
      ]
    },
    {
      "cell_type": "markdown",
      "metadata": {
        "id": "Tjnt4Ao4QoKO",
        "colab_type": "text"
      },
      "source": [
        "The first task is to mark the tweet as being offensive or not offensive. Below are the steps followed\n",
        "1. read the stage 2 preprocessed tweet data\n",
        "2. convert the data into train, test and train_labels and test_labels\n",
        "3. create a LSTM network\n",
        "    3.1 build glove embedding layer\n",
        "4. fit the train, train_labels to the network\n",
        "5. evaluate the results\n",
        "\n",
        "Same steps are carried out for CNN model also."
      ]
    },
    {
      "cell_type": "code",
      "metadata": {
        "id": "QBq6q8VGQoKQ",
        "colab_type": "code",
        "colab": {}
      },
      "source": [
        "import pandas as pd\n",
        "import numpy as np\n",
        "df_tweet = pd.read_csv(\"data/processed_tweet2.csv\")\n",
        "import ast\n",
        "df_tweet['tweet_pr_st1'] = df_tweet.apply(lambda x: ast.literal_eval(x.tweet_pr_st1),axis =1)\n",
        "df_tweet['tweet_pr_st2'] = df_tweet.apply(lambda x: ast.literal_eval(x.tweet_pr_st2),axis =1)"
      ],
      "execution_count": 0,
      "outputs": []
    },
    {
      "cell_type": "code",
      "metadata": {
        "colab_type": "code",
        "id": "lAfHqZbYjmkX",
        "colab": {}
      },
      "source": [
        "#0 - Not offensive\n",
        "#1 - Offensive untargeted\n",
        "#2 - Offensive targeted indiviualds\n",
        "#3 - Offensive targeted groups \n",
        "#4 - Offensive targeted others\n",
        "\n",
        "df_tweet['subtask_a'] = df_tweet.apply(lambda x: 0 if x.subtask_a=='NOT' else 1,axis = 1)"
      ],
      "execution_count": 0,
      "outputs": []
    },
    {
      "cell_type": "code",
      "metadata": {
        "colab_type": "code",
        "id": "kBHxmWByAWOk",
        "outputId": "c910d4bc-9fc7-44b4-e194-395ff3e8ce7d",
        "colab": {
          "base_uri": "https://localhost:8080/",
          "height": 296
        }
      },
      "source": [
        "# visvualise the distribution\n",
        "df_tweet.groupby(['subtask_a']).count()['id'].plot.bar()"
      ],
      "execution_count": 3,
      "outputs": [
        {
          "output_type": "execute_result",
          "data": {
            "text/plain": [
              "<matplotlib.axes._subplots.AxesSubplot at 0x7f1062ea5320>"
            ]
          },
          "metadata": {
            "tags": []
          },
          "execution_count": 3
        },
        {
          "output_type": "display_data",
          "data": {
            "image/png": "[encoded data removed]",
            "text/plain": [
              "<Figure size 432x288 with 1 Axes>"
            ]
          },
          "metadata": {
            "tags": []
          }
        }
      ]
    },
    {
      "cell_type": "markdown",
      "metadata": {
        "id": "hza1Jd2rQoKd",
        "colab_type": "text"
      },
      "source": [
        "## Readying the inputs for Model \n",
        "word_ids - unique word vocab\n",
        "\n",
        "word2idx,- word -> index\n",
        "\n",
        "idx2word, - index -> word\n",
        "\n",
        "and sents_as_ids -> sentence in form of index"
      ]
    },
    {
      "cell_type": "code",
      "metadata": {
        "id": "X_9PreA2QoKe",
        "colab_type": "code",
        "colab": {}
      },
      "source": [
        "normalised_corpus = list(df_tweet['tweet_pr_st2'])\n",
        "labels = list(df_tweet['subtask_a'])"
      ],
      "execution_count": 0,
      "outputs": []
    },
    {
      "cell_type": "code",
      "metadata": {
        "id": "zbcEhWscQoKi",
        "colab_type": "code",
        "colab": {}
      },
      "source": [
        "import collections, itertools\n",
        "word_counter = collections.Counter(list(itertools.chain.from_iterable(normalised_corpus)))"
      ],
      "execution_count": 0,
      "outputs": []
    },
    {
      "cell_type": "code",
      "metadata": {
        "id": "LcsVfy-RQoKm",
        "colab_type": "code",
        "colab": {
          "base_uri": "https://localhost:8080/",
          "height": 36
        },
        "outputId": "49c7c96b-59fe-4dbc-c4bc-a703cd2fad35"
      },
      "source": [
        "word_ids = list(set(list(itertools.chain.from_iterable(normalised_corpus))))\n",
        "print(\"Unique number of words\",len(word_ids))"
      ],
      "execution_count": 6,
      "outputs": [
        {
          "output_type": "stream",
          "text": [
            "Unique number of words 13910\n"
          ],
          "name": "stdout"
        }
      ]
    },
    {
      "cell_type": "code",
      "metadata": {
        "id": "CpoE5QIUQoKq",
        "colab_type": "code",
        "colab": {}
      },
      "source": [
        "word2idx = {}\n",
        "word2idx = {token:id+3 for id,token in enumerate(word_ids)}\n",
        "word2idx['<PAD>'] = 0\n",
        "word2idx['<START>'] = 1\n",
        "word2idx['<UNK>'] = 2\n",
        "word2idx['<UNUSED>'] = 3"
      ],
      "execution_count": 0,
      "outputs": []
    },
    {
      "cell_type": "code",
      "metadata": {
        "id": "LFk6LaRZQoKu",
        "colab_type": "code",
        "colab": {}
      },
      "source": [
        "idx2word = {v: k for k,v in word2idx.items()}"
      ],
      "execution_count": 0,
      "outputs": []
    },
    {
      "cell_type": "code",
      "metadata": {
        "id": "oXTDoVThQoKy",
        "colab_type": "code",
        "colab": {}
      },
      "source": [
        "sents_as_ids = []\n",
        "for i in range(len(normalised_corpus)):\n",
        "    sents_as_ids.append([word2idx[j] for j in normalised_corpus[i]])"
      ],
      "execution_count": 0,
      "outputs": []
    },
    {
      "cell_type": "code",
      "metadata": {
        "id": "dVVwwa98QoK1",
        "colab_type": "code",
        "colab": {}
      },
      "source": [
        "vocab_size = len(word_ids) + 3\n",
        "maxlen=50"
      ],
      "execution_count": 0,
      "outputs": []
    },
    {
      "cell_type": "code",
      "metadata": {
        "id": "aSWi-mOhQoK3",
        "colab_type": "code",
        "colab": {
          "base_uri": "https://localhost:8080/",
          "height": 85
        },
        "outputId": "e57647e7-be60-47f1-e20b-8b532562acf9"
      },
      "source": [
        "from keras.layers import Input, Dense, Embedding, Convolution1D, MaxPooling1D, LSTM\n",
        "from keras.layers import Reshape, Flatten, Dropout, Concatenate\n",
        "from keras.layers import Lambda, GlobalAveragePooling1D, Dense, Embedding\n",
        "from keras.models import Sequential\n",
        "from sklearn.model_selection import train_test_split\n",
        "from keras.preprocessing.sequence import pad_sequences"
      ],
      "execution_count": 11,
      "outputs": [
        {
          "output_type": "stream",
          "text": [
            "Using TensorFlow backend.\n"
          ],
          "name": "stderr"
        },
        {
          "output_type": "display_data",
          "data": {
            "text/html": [
              "<p style=\"color: red;\">\n",
              "The default version of TensorFlow in Colab will soon switch to TensorFlow 2.x.<br>\n",
              "We recommend you <a href=\"https://www.tensorflow.org/guide/migrate\" target=\"_blank\">upgrade</a> now \n",
              "or ensure your notebook will continue to use TensorFlow 1.x via the <code>%tensorflow_version 1.x</code> magic:\n",
              "<a href=\"https://colab.research.google.com/notebooks/tensorflow_version.ipynb\" target=\"_blank\">more info</a>.</p>\n"
            ],
            "text/plain": [
              "<IPython.core.display.HTML object>"
            ]
          },
          "metadata": {
            "tags": []
          }
        }
      ]
    },
    {
      "cell_type": "code",
      "metadata": {
        "id": "h0DAI9kpQoK8",
        "colab_type": "code",
        "colab": {}
      },
      "source": [
        "def readGloveFile(gloveFile):\n",
        "    '''\n",
        "    read the glove vector and return \n",
        "    input: gloveFile, string, path of file\n",
        "    return: wordToIndex, indexToWord, wordToGlove, embeddings\n",
        "    '''\n",
        "    with open(gloveFile, 'r') as f:\n",
        "        wordToGlove = {}  \n",
        "        wordToIndex = {}  \n",
        "        indexToWord = {}  \n",
        "\n",
        "        for line in f:\n",
        "            record = line.strip().split()\n",
        "            token = record[0] \n",
        "            wordToGlove[token] = np.array(record[1:], dtype=np.float64) \n",
        "            \n",
        "        tokens = sorted(wordToGlove.keys())\n",
        "        for idx, tok in enumerate(tokens):\n",
        "            kerasIdx = idx + 1  \n",
        "            wordToIndex[tok] = kerasIdx \n",
        "            indexToWord[kerasIdx] = tok \n",
        "\n",
        "    return wordToIndex, indexToWord, wordToGlove"
      ],
      "execution_count": 0,
      "outputs": []
    },
    {
      "cell_type": "code",
      "metadata": {
        "id": "MJHa1pddQoLC",
        "colab_type": "code",
        "colab": {}
      },
      "source": [
        "def createPretrainedEmbeddingLayer(wordToGlove, wordToIndex, isTrainable):\n",
        "    '''\n",
        "    create embedding layer and return using the glove vectors\n",
        "    '''\n",
        "    vocabLen = len(wordToIndex) + 1  \n",
        "    embDim = next(iter(wordToGlove.values())).shape[0]  \n",
        "   \n",
        "    embeddingMatrix = np.zeros((vocabLen, embDim))  \n",
        "    for word, index in wordToIndex.items():\n",
        "        embeddingMatrix[index, :] = wordToGlove[word] \n",
        "\n",
        "    embeddingLayer = Embedding(vocabLen, embDim, embeddings_initializer=Constant(embeddingMatrix), trainable=isTrainable)\n",
        "    return embeddingLayer"
      ],
      "execution_count": 0,
      "outputs": []
    },
    {
      "cell_type": "code",
      "metadata": {
        "id": "6Gh7ubKIQoLH",
        "colab_type": "code",
        "colab": {}
      },
      "source": [
        "#test - train 20-80 split\n",
        "train_data,test_data,train_labels,test_labels = train_test_split(sents_as_ids,labels,test_size=0.2,stratify=labels)\n",
        "\n",
        "# ecnoding the train and test data with padding '00' at the end\n",
        "X_train_enc = pad_sequences(train_data,\n",
        "                            value=word2idx[\"<PAD>\"],\n",
        "                            padding='post',\n",
        "                            maxlen=maxlen)\n",
        "X_test_enc = pad_sequences(test_data,\n",
        "                            value=word2idx[\"<PAD>\"],\n",
        "                            padding='post',\n",
        "                            maxlen=maxlen)"
      ],
      "execution_count": 0,
      "outputs": []
    },
    {
      "cell_type": "markdown",
      "metadata": {
        "id": "AdD3Z8daQoLL",
        "colab_type": "text"
      },
      "source": [
        "#### if glove.6B.zip does not exist please uncomment the below,\n",
        "#### for simplicity it should exist in current working dir "
      ]
    },
    {
      "cell_type": "code",
      "metadata": {
        "id": "Em32C5PPQoLN",
        "colab_type": "code",
        "colab": {
          "base_uri": "https://localhost:8080/",
          "height": 289
        },
        "outputId": "eef23428-bfa8-4b4f-d877-c0cf4e496615"
      },
      "source": [
        "# !pip install chakin\n",
        "# import chakin\n",
        "# chakin.download(number=12, save_dir='./')\n",
        "\n",
        "# import os\n",
        "# os.system(\"unzip './glove.6B.zip' \")\n",
        "# # os.system(\"rm './glove.6B.zip'\")"
      ],
      "execution_count": 16,
      "outputs": [
        {
          "output_type": "stream",
          "text": [
            "Collecting chakin\n",
            "  Downloading https://files.pythonhosted.org/packages/ca/3f/ca2f63451c0ab47970a6ab1d39d96118e70b6e73125529cea767c31368a3/chakin-0.0.8-py3-none-any.whl\n",
            "Requirement already satisfied: pandas>=0.20.1 in /usr/local/lib/python3.6/dist-packages (from chakin) (0.25.3)\n",
            "Requirement already satisfied: six>=1.10.0 in /usr/local/lib/python3.6/dist-packages (from chakin) (1.12.0)\n",
            "Requirement already satisfied: progressbar2>=3.20.0 in /usr/local/lib/python3.6/dist-packages (from chakin) (3.38.0)\n",
            "Requirement already satisfied: numpy>=1.13.3 in /usr/local/lib/python3.6/dist-packages (from pandas>=0.20.1->chakin) (1.17.5)\n",
            "Requirement already satisfied: python-dateutil>=2.6.1 in /usr/local/lib/python3.6/dist-packages (from pandas>=0.20.1->chakin) (2.6.1)\n",
            "Requirement already satisfied: pytz>=2017.2 in /usr/local/lib/python3.6/dist-packages (from pandas>=0.20.1->chakin) (2018.9)\n",
            "Requirement already satisfied: python-utils>=2.3.0 in /usr/local/lib/python3.6/dist-packages (from progressbar2>=3.20.0->chakin) (2.3.0)\n",
            "Installing collected packages: chakin\n",
            "Successfully installed chakin-0.0.8\n"
          ],
          "name": "stdout"
        },
        {
          "output_type": "stream",
          "text": [
            "Test: 100% ||                                      | Time:  0:06:29   2.1 MiB/s\n"
          ],
          "name": "stderr"
        },
        {
          "output_type": "execute_result",
          "data": {
            "text/plain": [
              "0"
            ]
          },
          "metadata": {
            "tags": []
          },
          "execution_count": 16
        }
      ]
    },
    {
      "cell_type": "markdown",
      "metadata": {
        "id": "i_FIvAhcQoLU",
        "colab_type": "text"
      },
      "source": [
        "Build the embedding layer"
      ]
    },
    {
      "cell_type": "code",
      "metadata": {
        "id": "N12A6RA1QoLV",
        "colab_type": "code",
        "colab": {
          "base_uri": "https://localhost:8080/",
          "height": 76
        },
        "outputId": "ac59f312-1757-4078-a5e1-ef8b766b0441"
      },
      "source": [
        "from tensorflow.contrib.keras.api.keras.initializers import Constant\n",
        "wordToIndex, indexToWord, wordToGlove = readGloveFile('glove.6B.300d.txt')\n",
        "embeddingLayer = createPretrainedEmbeddingLayer(wordToGlove, wordToIndex, isTrainable=True)"
      ],
      "execution_count": 15,
      "outputs": [
        {
          "output_type": "stream",
          "text": [
            "WARNING:tensorflow:From /usr/local/lib/python3.6/dist-packages/keras/backend/tensorflow_backend.py:66: The name tf.get_default_graph is deprecated. Please use tf.compat.v1.get_default_graph instead.\n",
            "\n"
          ],
          "name": "stdout"
        }
      ]
    },
    {
      "cell_type": "markdown",
      "metadata": {
        "id": "8rXqxHO9QoLZ",
        "colab_type": "text"
      },
      "source": [
        "### LSTM model Part A"
      ]
    },
    {
      "cell_type": "code",
      "metadata": {
        "id": "cYL0rdlwQoLZ",
        "colab_type": "code",
        "colab": {
          "base_uri": "https://localhost:8080/",
          "height": 366
        },
        "outputId": "c723d1db-512f-4951-cf88-67117deff491"
      },
      "source": [
        "model1 = Sequential()\n",
        "EMBED_SIZE = 100\n",
        "model1.add(embeddingLayer)\n",
        "model1.add(Dropout(0.2))\n",
        "model1.add(LSTM(100, activation='tanh'))\n",
        "model1.add(Dropout(0.2))\n",
        "model1.add(Dense(1,activation='sigmoid',input_shape=(1,)))\n",
        "model1.summary()"
      ],
      "execution_count": 49,
      "outputs": [
        {
          "output_type": "stream",
          "text": [
            "Model: \"sequential_4\"\n",
            "_________________________________________________________________\n",
            "Layer (type)                 Output Shape              Param #   \n",
            "=================================================================\n",
            "embedding_3 (Embedding)      (None, None, 300)         120000300 \n",
            "_________________________________________________________________\n",
            "dropout_6 (Dropout)          (None, None, 300)         0         \n",
            "_________________________________________________________________\n",
            "lstm_4 (LSTM)                (None, 100)               160400    \n",
            "_________________________________________________________________\n",
            "dropout_7 (Dropout)          (None, 100)               0         \n",
            "_________________________________________________________________\n",
            "dense_3 (Dense)              (None, 1)                 101       \n",
            "=================================================================\n",
            "Total params: 120,160,801\n",
            "Trainable params: 120,160,801\n",
            "Non-trainable params: 0\n",
            "_________________________________________________________________\n"
          ],
          "name": "stdout"
        }
      ]
    },
    {
      "cell_type": "code",
      "metadata": {
        "id": "a1zXDuh_QoLd",
        "colab_type": "code",
        "colab": {
          "base_uri": "https://localhost:8080/",
          "height": 812
        },
        "outputId": "4062543d-c979-4883-c6d1-30ba4a75fb62"
      },
      "source": [
        "model1.compile(optimizer='adam',\n",
        "              loss='binary_crossentropy',\n",
        "              metrics=['accuracy'])\n",
        "\n",
        "# X_val = np.array(X_train_enc[:10000])\n",
        "# partial_X_train = np.array(X_train_enc[10000:])\n",
        "\n",
        "history = model1.fit(X_train_enc,\n",
        "                    train_labels,\n",
        "                    epochs=7,\n",
        "                    batch_size=64,\n",
        "                    validation_split=0.2,\n",
        "                    verbose=1)"
      ],
      "execution_count": 17,
      "outputs": [
        {
          "output_type": "stream",
          "text": [
            "WARNING:tensorflow:From /usr/local/lib/python3.6/dist-packages/keras/optimizers.py:793: The name tf.train.Optimizer is deprecated. Please use tf.compat.v1.train.Optimizer instead.\n",
            "\n",
            "WARNING:tensorflow:From /usr/local/lib/python3.6/dist-packages/keras/backend/tensorflow_backend.py:3657: The name tf.log is deprecated. Please use tf.math.log instead.\n",
            "\n",
            "WARNING:tensorflow:From /usr/local/lib/python3.6/dist-packages/tensorflow_core/python/ops/nn_impl.py:183: where (from tensorflow.python.ops.array_ops) is deprecated and will be removed in a future version.\n",
            "Instructions for updating:\n",
            "Use tf.where in 2.0, which has the same broadcast rule as np.where\n",
            "WARNING:tensorflow:From /usr/local/lib/python3.6/dist-packages/keras/backend/tensorflow_backend.py:1033: The name tf.assign_add is deprecated. Please use tf.compat.v1.assign_add instead.\n",
            "\n",
            "WARNING:tensorflow:From /usr/local/lib/python3.6/dist-packages/keras/backend/tensorflow_backend.py:1020: The name tf.assign is deprecated. Please use tf.compat.v1.assign instead.\n",
            "\n",
            "WARNING:tensorflow:From /usr/local/lib/python3.6/dist-packages/keras/backend/tensorflow_backend.py:3005: The name tf.Session is deprecated. Please use tf.compat.v1.Session instead.\n",
            "\n",
            "Train on 8440 samples, validate on 2110 samples\n",
            "Epoch 1/7\n",
            "WARNING:tensorflow:From /usr/local/lib/python3.6/dist-packages/keras/backend/tensorflow_backend.py:190: The name tf.get_default_session is deprecated. Please use tf.compat.v1.get_default_session instead.\n",
            "\n",
            "WARNING:tensorflow:From /usr/local/lib/python3.6/dist-packages/keras/backend/tensorflow_backend.py:197: The name tf.ConfigProto is deprecated. Please use tf.compat.v1.ConfigProto instead.\n",
            "\n"
          ],
          "name": "stdout"
        },
        {
          "output_type": "stream",
          "text": [
            "/usr/local/lib/python3.6/dist-packages/tensorflow_core/python/framework/indexed_slices.py:421: UserWarning: Converting sparse IndexedSlices to a dense Tensor with 120000300 elements. This may consume a large amount of memory.\n",
            "  num_elements)\n"
          ],
          "name": "stderr"
        },
        {
          "output_type": "stream",
          "text": [
            "WARNING:tensorflow:From /usr/local/lib/python3.6/dist-packages/keras/backend/tensorflow_backend.py:207: The name tf.global_variables is deprecated. Please use tf.compat.v1.global_variables instead.\n",
            "\n",
            "WARNING:tensorflow:From /usr/local/lib/python3.6/dist-packages/keras/backend/tensorflow_backend.py:216: The name tf.is_variable_initialized is deprecated. Please use tf.compat.v1.is_variable_initialized instead.\n",
            "\n",
            "WARNING:tensorflow:From /usr/local/lib/python3.6/dist-packages/keras/backend/tensorflow_backend.py:223: The name tf.variables_initializer is deprecated. Please use tf.compat.v1.variables_initializer instead.\n",
            "\n",
            "8440/8440 [==============================] - 27s 3ms/step - loss: 0.6435 - acc: 0.6600 - val_loss: 0.6260 - val_acc: 0.6829\n",
            "Epoch 2/7\n",
            "8440/8440 [==============================] - 20s 2ms/step - loss: 0.6389 - acc: 0.6564 - val_loss: 0.6146 - val_acc: 0.6829\n",
            "Epoch 3/7\n",
            "8440/8440 [==============================] - 20s 2ms/step - loss: 0.6334 - acc: 0.6692 - val_loss: 0.6225 - val_acc: 0.6858\n",
            "Epoch 4/7\n",
            "8440/8440 [==============================] - 20s 2ms/step - loss: 0.6254 - acc: 0.6832 - val_loss: 0.6242 - val_acc: 0.6943\n",
            "Epoch 5/7\n",
            "8440/8440 [==============================] - 20s 2ms/step - loss: 0.6340 - acc: 0.6743 - val_loss: 0.6230 - val_acc: 0.6867\n",
            "Epoch 6/7\n",
            "8440/8440 [==============================] - 20s 2ms/step - loss: 0.6391 - acc: 0.6654 - val_loss: 0.6280 - val_acc: 0.6867\n",
            "Epoch 7/7\n",
            "8440/8440 [==============================] - 20s 2ms/step - loss: 0.6374 - acc: 0.6662 - val_loss: 0.6223 - val_acc: 0.6867\n"
          ],
          "name": "stdout"
        }
      ]
    },
    {
      "cell_type": "code",
      "metadata": {
        "id": "xnLHTXstQoLj",
        "colab_type": "code",
        "colab": {
          "base_uri": "https://localhost:8080/",
          "height": 56
        },
        "outputId": "821581c4-c93c-4cb7-9de5-7f6043f8130d"
      },
      "source": [
        "results = model1.evaluate(X_test_enc, test_labels)\n",
        "print(results)"
      ],
      "execution_count": 18,
      "outputs": [
        {
          "output_type": "stream",
          "text": [
            "2638/2638 [==============================] - 1s 476us/step\n",
            "[0.629784188594124, 0.673616376132835]\n"
          ],
          "name": "stdout"
        }
      ]
    },
    {
      "cell_type": "code",
      "metadata": {
        "id": "7UqDjuG5QoLm",
        "colab_type": "code",
        "colab": {
          "base_uri": "https://localhost:8080/",
          "height": 295
        },
        "outputId": "d6b39a62-3aea-4182-f563-3b4a8a9c4c5b"
      },
      "source": [
        "import matplotlib.pyplot as plt\n",
        "\n",
        "history_dict = history.history\n",
        "\n",
        "acc = history_dict['acc']\n",
        "val_acc = history_dict['val_acc']\n",
        "loss = history_dict['loss']\n",
        "val_loss = history_dict['val_loss']\n",
        "\n",
        "epochs = range(1, len(acc) + 1)\n",
        "\n",
        "plt.plot(epochs, acc, 'bo', label='Training acc')\n",
        "plt.plot(epochs, val_acc, 'b', label='Validation acc')\n",
        "plt.title('Training and validation accuracy')\n",
        "plt.xlabel('Epochs')\n",
        "plt.ylabel('Accuracy')\n",
        "plt.legend()\n",
        "\n",
        "plt.show()"
      ],
      "execution_count": 19,
      "outputs": [
        {
          "output_type": "display_data",
          "data": {
            "image/png": "[encoded data removed]",
            "text/plain": [
              "<Figure size 432x288 with 1 Axes>"
            ]
          },
          "metadata": {
            "tags": []
          }
        }
      ]
    },
    {
      "cell_type": "markdown",
      "metadata": {
        "id": "i8nZ4S7gQoLq",
        "colab_type": "text"
      },
      "source": [
        "Thus, LSTM model performance is very average with large validation error. We can see large overfitting in the network."
      ]
    },
    {
      "cell_type": "markdown",
      "metadata": {
        "id": "hFenns3oQoLr",
        "colab_type": "text"
      },
      "source": [
        "### CNN model Part A"
      ]
    },
    {
      "cell_type": "code",
      "metadata": {
        "id": "qkhkNe_QQoL9",
        "colab_type": "code",
        "colab": {
          "base_uri": "https://localhost:8080/",
          "height": 404
        },
        "outputId": "72b77ec9-cdad-48ca-e983-b6c09c92d4a9"
      },
      "source": [
        "model2 = Sequential()\n",
        "embeddingLayer = createPretrainedEmbeddingLayer(wordToGlove, wordToIndex, isTrainable=True)\n",
        "model2.add(embeddingLayer)\n",
        "model2.add(Dropout(0.2))\n",
        "model2.add(Convolution1D(64, 5, activation='relu'))\n",
        "model2.add(MaxPooling1D(pool_size=4))\n",
        "model2.add(LSTM(100))\n",
        "model2.add(Dense(1, activation='sigmoid'))\n",
        "model2.summary()"
      ],
      "execution_count": 50,
      "outputs": [
        {
          "output_type": "stream",
          "text": [
            "Model: \"sequential_5\"\n",
            "_________________________________________________________________\n",
            "Layer (type)                 Output Shape              Param #   \n",
            "=================================================================\n",
            "embedding_4 (Embedding)      (None, None, 300)         120000300 \n",
            "_________________________________________________________________\n",
            "dropout_8 (Dropout)          (None, None, 300)         0         \n",
            "_________________________________________________________________\n",
            "conv1d_2 (Conv1D)            (None, None, 64)          96064     \n",
            "_________________________________________________________________\n",
            "max_pooling1d_2 (MaxPooling1 (None, None, 64)          0         \n",
            "_________________________________________________________________\n",
            "lstm_5 (LSTM)                (None, 100)               66000     \n",
            "_________________________________________________________________\n",
            "dense_4 (Dense)              (None, 1)                 101       \n",
            "=================================================================\n",
            "Total params: 120,162,465\n",
            "Trainable params: 120,162,465\n",
            "Non-trainable params: 0\n",
            "_________________________________________________________________\n"
          ],
          "name": "stdout"
        }
      ]
    },
    {
      "cell_type": "code",
      "metadata": {
        "id": "dPdrHAxcQoMA",
        "colab_type": "code",
        "colab": {
          "base_uri": "https://localhost:8080/",
          "height": 289
        },
        "outputId": "e0692375-1271-487c-b16a-75e6d22a3e67"
      },
      "source": [
        "model2.compile(optimizer='adam',\n",
        "              loss='binary_crossentropy',\n",
        "              metrics=['accuracy'])\n",
        "\n",
        "# X_val = np.array(X_train_enc[:10000])\n",
        "# partial_X_train = np.array(X_train_enc[10000:])\n",
        "\n",
        "history = model2.fit(X_train_enc,\n",
        "                    train_labels,\n",
        "                    epochs=5,\n",
        "                    batch_size=256,\n",
        "                    validation_split=0.2,\n",
        "                    verbose=1)"
      ],
      "execution_count": 21,
      "outputs": [
        {
          "output_type": "stream",
          "text": [
            "/usr/local/lib/python3.6/dist-packages/tensorflow_core/python/framework/indexed_slices.py:421: UserWarning: Converting sparse IndexedSlices to a dense Tensor with 120000300 elements. This may consume a large amount of memory.\n",
            "  num_elements)\n"
          ],
          "name": "stderr"
        },
        {
          "output_type": "stream",
          "text": [
            "Train on 8440 samples, validate on 2110 samples\n",
            "Epoch 1/5\n",
            "8440/8440 [==============================] - 12s 1ms/step - loss: 0.6371 - acc: 0.6591 - val_loss: 0.6015 - val_acc: 0.6877\n",
            "Epoch 2/5\n",
            "8440/8440 [==============================] - 3s 412us/step - loss: 0.5245 - acc: 0.7430 - val_loss: 0.5720 - val_acc: 0.7346\n",
            "Epoch 3/5\n",
            "8440/8440 [==============================] - 3s 409us/step - loss: 0.4041 - acc: 0.8268 - val_loss: 0.5900 - val_acc: 0.7526\n",
            "Epoch 4/5\n",
            "8440/8440 [==============================] - 3s 412us/step - loss: 0.3209 - acc: 0.8697 - val_loss: 0.6049 - val_acc: 0.7597\n",
            "Epoch 5/5\n",
            "8440/8440 [==============================] - 3s 411us/step - loss: 0.2481 - acc: 0.9076 - val_loss: 0.6929 - val_acc: 0.7275\n"
          ],
          "name": "stdout"
        }
      ]
    },
    {
      "cell_type": "code",
      "metadata": {
        "id": "UH0Rscn1QoMD",
        "colab_type": "code",
        "colab": {
          "base_uri": "https://localhost:8080/",
          "height": 56
        },
        "outputId": "ce758a98-d0e7-4fce-cf3d-1bbf56caad7c"
      },
      "source": [
        "results = model2.evaluate(X_test_enc, test_labels)\n",
        "print(results)"
      ],
      "execution_count": 22,
      "outputs": [
        {
          "output_type": "stream",
          "text": [
            "2638/2638 [==============================] - 0s 178us/step\n",
            "[0.6717062422142868, 0.739575436026694]\n"
          ],
          "name": "stdout"
        }
      ]
    },
    {
      "cell_type": "code",
      "metadata": {
        "id": "k2MfJBxRQoMG",
        "colab_type": "code",
        "colab": {
          "base_uri": "https://localhost:8080/",
          "height": 295
        },
        "outputId": "8b0c62c8-af33-4726-802b-cc67dbf77909"
      },
      "source": [
        "import matplotlib.pyplot as plt\n",
        "\n",
        "history_dict = history.history\n",
        "\n",
        "acc = history_dict['acc']\n",
        "val_acc = history_dict['val_acc']\n",
        "loss = history_dict['loss']\n",
        "val_loss = history_dict['val_loss']\n",
        "\n",
        "epochs = range(1, len(acc) + 1)\n",
        "\n",
        "plt.plot(epochs, acc, 'bo', label='Training acc')\n",
        "plt.plot(epochs, val_acc, 'b', label='Validation acc')\n",
        "plt.title('Training and validation accuracy')\n",
        "plt.xlabel('Epochs')\n",
        "plt.ylabel('Accuracy')\n",
        "plt.legend()\n",
        "\n",
        "plt.show()"
      ],
      "execution_count": 23,
      "outputs": [
        {
          "output_type": "display_data",
          "data": {
            "image/png": "[encoded data removed]",
            "text/plain": [
              "<Figure size 432x288 with 1 Axes>"
            ]
          },
          "metadata": {
            "tags": []
          }
        }
      ]
    },
    {
      "cell_type": "markdown",
      "metadata": {
        "id": "xs_zKofSRbAZ",
        "colab_type": "text"
      },
      "source": [
        "Thus, CNN performance can be improved by laying out better architurere as we can see although a ver good accuracy is obtained but the model is highly over fitted."
      ]
    },
    {
      "cell_type": "markdown",
      "metadata": {
        "id": "ummjWwe_RxmI",
        "colab_type": "text"
      },
      "source": [
        "# Model Building - Task B"
      ]
    },
    {
      "cell_type": "markdown",
      "metadata": {
        "id": "KwzmI9_8SeqT",
        "colab_type": "text"
      },
      "source": [
        "In this task we have to not only identify the Offnsive (OFF) and not offensive (NOT) tweet but also if the the tweet is directed or not and if it is then if it directed to an individual, group or others"
      ]
    },
    {
      "cell_type": "code",
      "metadata": {
        "id": "_7Vx6VnWRO7L",
        "colab_type": "code",
        "colab": {}
      },
      "source": [
        "import pandas as pd\n",
        "import numpy as np\n",
        "df_tweet = pd.read_csv(\"data/processed_tweet2.csv\")\n",
        "import ast\n",
        "df_tweet['tweet_pr_st1'] = df_tweet.apply(lambda x: ast.literal_eval(x.tweet_pr_st1),axis =1)\n",
        "df_tweet['tweet_pr_st2'] = df_tweet.apply(lambda x: ast.literal_eval(x.tweet_pr_st2),axis =1)\n",
        "\n",
        "def conditions(x):\n",
        "    '''\n",
        "    coverting the data to more usuable form\n",
        "    'NOT' -> 0\n",
        "    'OFF-UNT' - > 1\n",
        "    'TIN-OFF-IND' -> 2\n",
        "    'TIN-OFF-GRP' -> 3\n",
        "    'TIN-OFF-OTH' -> 4\n",
        "    ''\n",
        "    '''\n",
        "    if (x.subtask_b=='TIN' and x.subtask_a=='OFF' and x.subtask_c=='IND'):\n",
        "        return 2\n",
        "    elif (x.subtask_b=='TIN' and x.subtask_a=='OFF' and x.subtask_c=='GRP'): \n",
        "        return 3\n",
        "    elif (x.subtask_b=='TIN' and x.subtask_a=='OFF' and x.subtask_c =='OTH'):\n",
        "        return 4        \n",
        "    elif (x.subtask_a=='OFF' and x.subtask_b=='UNT'):\n",
        "        return 1\n",
        "    else:\n",
        "        return 0\n",
        "    # return 2 if (x.subtask_b=='TIN' and x.subtask_a=='OFF' and x.subtask_c=='IND') else 3 if (x.subtask_b=='TIN' and x.subtask_a=='OFF' and x.subtask_c=='GRP') else 4 if (x.subtask_b=='TIN' and x.subtask_a=='OFF' and x.subtask_c =='OTH') else 1 if (x.subtask_a=='OFF' and x.subtask_b=='UNT') else 0\n",
        "\n",
        "df_tweet['subtask_c'] = df_tweet.apply(conditions,axis=1)"
      ],
      "execution_count": 0,
      "outputs": []
    },
    {
      "cell_type": "code",
      "metadata": {
        "id": "JdZA8gOaSESd",
        "colab_type": "code",
        "colab": {
          "base_uri": "https://localhost:8080/",
          "height": 296
        },
        "outputId": "61dc69e5-0294-4031-ab46-de6619682f0d"
      },
      "source": [
        "# visualising the distribution\n",
        "df_tweet.groupby(['subtask_c']).count()['id'].plot.bar()"
      ],
      "execution_count": 17,
      "outputs": [
        {
          "output_type": "execute_result",
          "data": {
            "text/plain": [
              "<matplotlib.axes._subplots.AxesSubplot at 0x7f10140b73c8>"
            ]
          },
          "metadata": {
            "tags": []
          },
          "execution_count": 17
        },
        {
          "output_type": "display_data",
          "data": {
            "image/png": "[encoded data removed]",
            "text/plain": [
              "<Figure size 432x288 with 1 Axes>"
            ]
          },
          "metadata": {
            "tags": []
          }
        }
      ]
    },
    {
      "cell_type": "code",
      "metadata": {
        "id": "4IrUr1qnScOV",
        "colab_type": "code",
        "colab": {}
      },
      "source": [
        "labels = list(df_tweet['subtask_c'])"
      ],
      "execution_count": 0,
      "outputs": []
    },
    {
      "cell_type": "code",
      "metadata": {
        "id": "3QWZlKjGU9Dz",
        "colab_type": "code",
        "colab": {}
      },
      "source": [
        "# converting the labels to onehot encoded form\n",
        "def one_hot(labels):\n",
        "    from sklearn.preprocessing import OneHotEncoder\n",
        "    encoder = OneHotEncoder()\n",
        "    return encoder.fit_transform(np.array(labels).reshape(-1,1)).toarray()\n",
        "\n",
        "labels = one_hot(labels)"
      ],
      "execution_count": 0,
      "outputs": []
    },
    {
      "cell_type": "code",
      "metadata": {
        "id": "E5XxCYlHWoQ1",
        "colab_type": "code",
        "colab": {}
      },
      "source": [
        "from sklearn.model_selection import train_test_split\n",
        "train_data,test_data,train_labels,test_labels = train_test_split(sents_as_ids,labels,test_size=0.2,stratify=labels)\n",
        "\n",
        "X_train_enc = pad_sequences(train_data,\n",
        "                            value=word2idx[\"<PAD>\"],\n",
        "                            padding='post',\n",
        "                            maxlen=50)\n",
        "X_test_enc = pad_sequences(test_data,\n",
        "                            value=word2idx[\"<PAD>\"],\n",
        "                            padding='post',\n",
        "                            maxlen=50)"
      ],
      "execution_count": 0,
      "outputs": []
    },
    {
      "cell_type": "code",
      "metadata": {
        "id": "emClCSLcVzrf",
        "colab_type": "code",
        "colab": {
          "base_uri": "https://localhost:8080/",
          "height": 560
        },
        "outputId": "e8aae414-0762-4a69-fa58-5b36ad40dc4f"
      },
      "source": [
        "model3 = Sequential()\n",
        "EMBED_SIZE = 100\n",
        "embeddingLayer = createPretrainedEmbeddingLayer(wordToGlove, wordToIndex, isTrainable=True)\n",
        "model3.add(embeddingLayer)\n",
        "model3.add(Dropout(0.08))\n",
        "model3.add(LSTM(100, activation='tanh'))\n",
        "model3.add(Dropout(0.08))\n",
        "model3.add(Dense(train_labels.shape[1],activation='softmax'))\n",
        "model3.summary()"
      ],
      "execution_count": 21,
      "outputs": [
        {
          "output_type": "stream",
          "text": [
            "WARNING:tensorflow:From /usr/local/lib/python3.6/dist-packages/keras/backend/tensorflow_backend.py:541: The name tf.placeholder is deprecated. Please use tf.compat.v1.placeholder instead.\n",
            "\n",
            "WARNING:tensorflow:From /usr/local/lib/python3.6/dist-packages/keras/backend/tensorflow_backend.py:148: The name tf.placeholder_with_default is deprecated. Please use tf.compat.v1.placeholder_with_default instead.\n",
            "\n",
            "WARNING:tensorflow:From /usr/local/lib/python3.6/dist-packages/keras/backend/tensorflow_backend.py:3733: calling dropout (from tensorflow.python.ops.nn_ops) with keep_prob is deprecated and will be removed in a future version.\n",
            "Instructions for updating:\n",
            "Please use `rate` instead of `keep_prob`. Rate should be set to `rate = 1 - keep_prob`.\n",
            "WARNING:tensorflow:From /usr/local/lib/python3.6/dist-packages/keras/backend/tensorflow_backend.py:4432: The name tf.random_uniform is deprecated. Please use tf.random.uniform instead.\n",
            "\n",
            "Model: \"sequential_1\"\n",
            "_________________________________________________________________\n",
            "Layer (type)                 Output Shape              Param #   \n",
            "=================================================================\n",
            "embedding_2 (Embedding)      (None, None, 300)         120000300 \n",
            "_________________________________________________________________\n",
            "dropout_1 (Dropout)          (None, None, 300)         0         \n",
            "_________________________________________________________________\n",
            "lstm_1 (LSTM)                (None, 100)               160400    \n",
            "_________________________________________________________________\n",
            "dropout_2 (Dropout)          (None, 100)               0         \n",
            "_________________________________________________________________\n",
            "dense_1 (Dense)              (None, 5)                 505       \n",
            "=================================================================\n",
            "Total params: 120,161,205\n",
            "Trainable params: 120,161,205\n",
            "Non-trainable params: 0\n",
            "_________________________________________________________________\n"
          ],
          "name": "stdout"
        }
      ]
    },
    {
      "cell_type": "code",
      "metadata": {
        "id": "w4WQwtRDV8CY",
        "colab_type": "code",
        "colab": {
          "base_uri": "https://localhost:8080/",
          "height": 734
        },
        "outputId": "7cd1d81b-3019-4dca-a895-e79203494a0b"
      },
      "source": [
        "model3.compile(loss='binary_crossentropy',optimizer='adam',metrics=['accuracy'])\n",
        "\n",
        "# X_val = np.array(X_train_enc[:10000])\n",
        "# partial_X_train = np.array(X_train_enc[10000:])\n",
        "\n",
        "history = model3.fit(X_train_enc,\n",
        "                    train_labels,\n",
        "                    epochs=5,\n",
        "                    batch_size=64,\n",
        "                    validation_split=0.2,\n",
        "                    verbose=1)\n"
      ],
      "execution_count": 22,
      "outputs": [
        {
          "output_type": "stream",
          "text": [
            "WARNING:tensorflow:From /usr/local/lib/python3.6/dist-packages/keras/optimizers.py:793: The name tf.train.Optimizer is deprecated. Please use tf.compat.v1.train.Optimizer instead.\n",
            "\n",
            "WARNING:tensorflow:From /usr/local/lib/python3.6/dist-packages/keras/backend/tensorflow_backend.py:3657: The name tf.log is deprecated. Please use tf.math.log instead.\n",
            "\n",
            "WARNING:tensorflow:From /usr/local/lib/python3.6/dist-packages/tensorflow_core/python/ops/nn_impl.py:183: where (from tensorflow.python.ops.array_ops) is deprecated and will be removed in a future version.\n",
            "Instructions for updating:\n",
            "Use tf.where in 2.0, which has the same broadcast rule as np.where\n",
            "WARNING:tensorflow:From /usr/local/lib/python3.6/dist-packages/keras/backend/tensorflow_backend.py:1033: The name tf.assign_add is deprecated. Please use tf.compat.v1.assign_add instead.\n",
            "\n",
            "WARNING:tensorflow:From /usr/local/lib/python3.6/dist-packages/keras/backend/tensorflow_backend.py:1020: The name tf.assign is deprecated. Please use tf.compat.v1.assign instead.\n",
            "\n",
            "WARNING:tensorflow:From /usr/local/lib/python3.6/dist-packages/keras/backend/tensorflow_backend.py:3005: The name tf.Session is deprecated. Please use tf.compat.v1.Session instead.\n",
            "\n",
            "Train on 8440 samples, validate on 2110 samples\n",
            "Epoch 1/5\n",
            "WARNING:tensorflow:From /usr/local/lib/python3.6/dist-packages/keras/backend/tensorflow_backend.py:190: The name tf.get_default_session is deprecated. Please use tf.compat.v1.get_default_session instead.\n",
            "\n",
            "WARNING:tensorflow:From /usr/local/lib/python3.6/dist-packages/keras/backend/tensorflow_backend.py:197: The name tf.ConfigProto is deprecated. Please use tf.compat.v1.ConfigProto instead.\n",
            "\n"
          ],
          "name": "stdout"
        },
        {
          "output_type": "stream",
          "text": [
            "/usr/local/lib/python3.6/dist-packages/tensorflow_core/python/framework/indexed_slices.py:421: UserWarning: Converting sparse IndexedSlices to a dense Tensor with 120000300 elements. This may consume a large amount of memory.\n",
            "  num_elements)\n"
          ],
          "name": "stderr"
        },
        {
          "output_type": "stream",
          "text": [
            "WARNING:tensorflow:From /usr/local/lib/python3.6/dist-packages/keras/backend/tensorflow_backend.py:207: The name tf.global_variables is deprecated. Please use tf.compat.v1.global_variables instead.\n",
            "\n",
            "WARNING:tensorflow:From /usr/local/lib/python3.6/dist-packages/keras/backend/tensorflow_backend.py:216: The name tf.is_variable_initialized is deprecated. Please use tf.compat.v1.is_variable_initialized instead.\n",
            "\n",
            "WARNING:tensorflow:From /usr/local/lib/python3.6/dist-packages/keras/backend/tensorflow_backend.py:223: The name tf.variables_initializer is deprecated. Please use tf.compat.v1.variables_initializer instead.\n",
            "\n",
            "8440/8440 [==============================] - 36s 4ms/step - loss: 0.3513 - acc: 0.8615 - val_loss: 0.3359 - val_acc: 0.8693\n",
            "Epoch 2/5\n",
            "8440/8440 [==============================] - 20s 2ms/step - loss: 0.3418 - acc: 0.8658 - val_loss: 0.3344 - val_acc: 0.8693\n",
            "Epoch 3/5\n",
            "8440/8440 [==============================] - 20s 2ms/step - loss: 0.3291 - acc: 0.8729 - val_loss: 0.3233 - val_acc: 0.8809\n",
            "Epoch 4/5\n",
            "8440/8440 [==============================] - 20s 2ms/step - loss: 0.2898 - acc: 0.8914 - val_loss: 0.3175 - val_acc: 0.8861\n",
            "Epoch 5/5\n",
            "8440/8440 [==============================] - 20s 2ms/step - loss: 0.2571 - acc: 0.9033 - val_loss: 0.3310 - val_acc: 0.8713\n"
          ],
          "name": "stdout"
        }
      ]
    },
    {
      "cell_type": "code",
      "metadata": {
        "id": "0uMSnuDzWADa",
        "colab_type": "code",
        "colab": {
          "base_uri": "https://localhost:8080/",
          "height": 295
        },
        "outputId": "f4afee97-b899-4f40-e1ac-11235a1b7669"
      },
      "source": [
        "import matplotlib.pyplot as plt\n",
        "\n",
        "history_dict = history.history\n",
        "\n",
        "acc = history_dict['acc']\n",
        "val_acc = history_dict['val_acc']\n",
        "loss = history_dict['loss']\n",
        "val_loss = history_dict['val_loss']\n",
        "\n",
        "epochs = range(1, len(acc) + 1)\n",
        "\n",
        "plt.plot(epochs, acc, 'bo', label='Training acc')\n",
        "plt.plot(epochs, val_acc, 'b', label='Validation acc')\n",
        "plt.title('Training and validation accuracy')\n",
        "plt.xlabel('Epochs')\n",
        "plt.ylabel('Accuracy')\n",
        "plt.legend()\n",
        "\n",
        "plt.show()"
      ],
      "execution_count": 23,
      "outputs": [
        {
          "output_type": "display_data",
          "data": {
            "image/png": "[encoded data removed]",
            "text/plain": [
              "<Figure size 432x288 with 1 Axes>"
            ]
          },
          "metadata": {
            "tags": []
          }
        }
      ]
    },
    {
      "cell_type": "code",
      "metadata": {
        "id": "VVr_WvftWEri",
        "colab_type": "code",
        "colab": {
          "base_uri": "https://localhost:8080/",
          "height": 463
        },
        "outputId": "ce5ff4eb-78dc-443b-f192-94a39dded9f9"
      },
      "source": [
        "model4 = Sequential()\n",
        "model4.add(embeddingLayer)\n",
        "# model4.add(Convolution1D(64,5,activation=\"relu\"))\n",
        "# model4.add(Dropout(0.5))\n",
        "# model4.add(Convolution1D(32,3,activation=\"relu\"))\n",
        "# model4.add(Dropout(0.5))\n",
        "# model4.add(Convolution1D(16,3,activation=\"sigmoid\"))\n",
        "# model4.add(MaxPooling1D(5))\n",
        "# model4.add(Flatten())\n",
        "# model4.add(Dense(train_labels.shape[1],activation='softmax'))\n",
        "# model4.compile(loss='categorical_crossentropy', optimizer='adam',metrics=['accuracy'])\n",
        "model4.add(Dropout(0.2))\n",
        "model4.add(Convolution1D(64, 5, activation='relu'))\n",
        "model4.add(MaxPooling1D(pool_size=4))\n",
        "model4.add(LSTM(100))\n",
        "model4.add(Dense(train_labels.shape[1],activation='softmax'))\n",
        "model4.summary()"
      ],
      "execution_count": 24,
      "outputs": [
        {
          "output_type": "stream",
          "text": [
            "WARNING:tensorflow:From /usr/local/lib/python3.6/dist-packages/keras/backend/tensorflow_backend.py:4267: The name tf.nn.max_pool is deprecated. Please use tf.nn.max_pool2d instead.\n",
            "\n",
            "Model: \"sequential_2\"\n",
            "_________________________________________________________________\n",
            "Layer (type)                 Output Shape              Param #   \n",
            "=================================================================\n",
            "embedding_2 (Embedding)      (None, None, 300)         120000300 \n",
            "_________________________________________________________________\n",
            "dropout_3 (Dropout)          (None, None, 300)         0         \n",
            "_________________________________________________________________\n",
            "conv1d_1 (Conv1D)            (None, None, 64)          96064     \n",
            "_________________________________________________________________\n",
            "max_pooling1d_1 (MaxPooling1 (None, None, 64)          0         \n",
            "_________________________________________________________________\n",
            "lstm_2 (LSTM)                (None, 100)               66000     \n",
            "_________________________________________________________________\n",
            "dense_2 (Dense)              (None, 5)                 505       \n",
            "=================================================================\n",
            "Total params: 120,162,869\n",
            "Trainable params: 120,162,869\n",
            "Non-trainable params: 0\n",
            "_________________________________________________________________\n"
          ],
          "name": "stdout"
        }
      ]
    },
    {
      "cell_type": "code",
      "metadata": {
        "id": "-Fe-gHElYUzk",
        "colab_type": "code",
        "colab": {
          "base_uri": "https://localhost:8080/",
          "height": 289
        },
        "outputId": "2c6a8e78-5692-4417-acbe-b30622c237ca"
      },
      "source": [
        "model4.compile(loss='binary_crossentropy',optimizer='adam',metrics=['accuracy'])\n",
        "\n",
        "# X_val = np.array(X_train_enc[:10000])\n",
        "# partial_X_train = np.array(X_train_enc[10000:])\n",
        "\n",
        "history = model4.fit(X_train_enc,\n",
        "                    train_labels,\n",
        "                    epochs=5,\n",
        "                    batch_size=64,\n",
        "                    validation_split=0.2,\n",
        "                    verbose=1)\n"
      ],
      "execution_count": 26,
      "outputs": [
        {
          "output_type": "stream",
          "text": [
            "/usr/local/lib/python3.6/dist-packages/tensorflow_core/python/framework/indexed_slices.py:421: UserWarning: Converting sparse IndexedSlices to a dense Tensor with 120000300 elements. This may consume a large amount of memory.\n",
            "  num_elements)\n"
          ],
          "name": "stderr"
        },
        {
          "output_type": "stream",
          "text": [
            "Train on 8440 samples, validate on 2110 samples\n",
            "Epoch 1/5\n",
            "8440/8440 [==============================] - 21s 3ms/step - loss: 0.3050 - acc: 0.8812 - val_loss: 0.3101 - val_acc: 0.8871\n",
            "Epoch 2/5\n",
            "8440/8440 [==============================] - 13s 2ms/step - loss: 0.2304 - acc: 0.9109 - val_loss: 0.3246 - val_acc: 0.8779\n",
            "Epoch 3/5\n",
            "8440/8440 [==============================] - 13s 2ms/step - loss: 0.2104 - acc: 0.9183 - val_loss: 0.3491 - val_acc: 0.8771\n",
            "Epoch 4/5\n",
            "8440/8440 [==============================] - 13s 2ms/step - loss: 0.1913 - acc: 0.9257 - val_loss: 0.3563 - val_acc: 0.8852\n",
            "Epoch 5/5\n",
            "8440/8440 [==============================] - 13s 2ms/step - loss: 0.1728 - acc: 0.9337 - val_loss: 0.3753 - val_acc: 0.8733\n"
          ],
          "name": "stdout"
        }
      ]
    },
    {
      "cell_type": "code",
      "metadata": {
        "id": "WjBLRbfMY09A",
        "colab_type": "code",
        "colab": {
          "base_uri": "https://localhost:8080/",
          "height": 295
        },
        "outputId": "b4fb74c6-9dcc-4319-bb7b-9573269cc1e1"
      },
      "source": [
        "import matplotlib.pyplot as plt\n",
        "\n",
        "history_dict = history.history\n",
        "\n",
        "acc = history_dict['acc']\n",
        "val_acc = history_dict['val_acc']\n",
        "loss = history_dict['loss']\n",
        "val_loss = history_dict['val_loss']\n",
        "\n",
        "epochs = range(1, len(acc) + 1)\n",
        "\n",
        "plt.plot(epochs, acc, 'bo', label='Training acc')\n",
        "plt.plot(epochs, val_acc, 'b', label='Validation acc')\n",
        "plt.title('Training and validation accuracy')\n",
        "plt.xlabel('Epochs')\n",
        "plt.ylabel('Accuracy')\n",
        "plt.legend()\n",
        "\n",
        "plt.show()"
      ],
      "execution_count": 27,
      "outputs": [
        {
          "output_type": "display_data",
          "data": {
            "image/png": "[encoded data removed]",
            "text/plain": [
              "<Figure size 432x288 with 1 Axes>"
            ]
          },
          "metadata": {
            "tags": []
          }
        }
      ]
    }
  ]
}