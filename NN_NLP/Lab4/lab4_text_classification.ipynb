{
  "nbformat": 4,
  "nbformat_minor": 0,
  "metadata": {
    "accelerator": "GPU",
    "colab": {
      "name": "lab4_text_classification.ipynb",
      "provenance": [],
      "collapsed_sections": [],
      "toc_visible": true
    },
    "kernelspec": {
      "display_name": "Python 3",
      "language": "python",
      "name": "python3"
    },
    "language_info": {
      "codemirror_mode": {
        "name": "ipython",
        "version": 3
      },
      "file_extension": ".py",
      "mimetype": "text/x-python",
      "name": "python",
      "nbconvert_exporter": "python",
      "pygments_lexer": "ipython3",
      "version": "3.6.8"
    }
  },
  "cells": [
    {
      "cell_type": "markdown",
      "metadata": {
        "colab_type": "text",
        "id": "hExKCzh6doIW"
      },
      "source": [
        "# Lab 4 - Neural Network Classifier Using Simple Word Embeddings\n",
        "\n",
        "\n",
        "\n",
        "---\n",
        "\n",
        "\n",
        "\n",
        "\n",
        "\n",
        "\n",
        "\n",
        "\n",
        "\n",
        "\n",
        "\n",
        "\n",
        "\n"
      ]
    },
    {
      "cell_type": "markdown",
      "metadata": {
        "colab_type": "text",
        "id": "HixoFOoCIJ7V"
      },
      "source": [
        "In this session, we demonstrate how to solve a text classification task using simple \n",
        "feedforward neural network classifier. We will use IMDB Large Movie Review Dataset to train a binary classification model, able to predict whether a review is positive or negative. First, our network takes one-hot word vectors as input, averages them to make one vector and trains a \n",
        "fully-connected layer to predict the output. In the second part, we replace the one-hot vectors with the word embeddings and add a layer to see how much that improves the performance.\n",
        "\n",
        "We are going to use Keras Sequential API in this session. The Sequential API allows you to make models layer-by-layer. But it is not straightforward to define models where layers connect to more than just the previous and next layers. "
      ]
    },
    {
      "cell_type": "code",
      "metadata": {
        "colab_type": "code",
        "id": "m8fpBfhBpupy",
        "colab": {
          "base_uri": "https://localhost:8080/",
          "height": 85
        },
        "outputId": "c3f31534-ac7f-4967-88c9-38befda1271c"
      },
      "source": [
        "import keras\n",
        "import numpy as np\n",
        "from keras.layers import Lambda, GlobalAveragePooling1D, Dense, Embedding\n",
        "from keras import backend as K\n",
        "from keras.models import Sequential\n"
      ],
      "execution_count": 1,
      "outputs": [
        {
          "output_type": "stream",
          "text": [
            "Using TensorFlow backend.\n"
          ],
          "name": "stderr"
        },
        {
          "output_type": "display_data",
          "data": {
            "text/html": [
              "<p style=\"color: red;\">\n",
              "The default version of TensorFlow in Colab will soon switch to TensorFlow 2.x.<br>\n",
              "We recommend you <a href=\"https://www.tensorflow.org/guide/migrate\" target=\"_blank\">upgrade</a> now \n",
              "or ensure your notebook will continue to use TensorFlow 1.x via the <code>%tensorflow_version 1.x</code> magic:\n",
              "<a href=\"https://colab.research.google.com/notebooks/tensorflow_version.ipynb\" target=\"_blank\">more info</a>.</p>\n"
            ],
            "text/plain": [
              "<IPython.core.display.HTML object>"
            ]
          },
          "metadata": {
            "tags": []
          }
        }
      ]
    },
    {
      "cell_type": "markdown",
      "metadata": {
        "colab_type": "text",
        "id": "cqvPQvgvPv1W"
      },
      "source": [
        "### Downloading data"
      ]
    },
    {
      "cell_type": "markdown",
      "metadata": {
        "colab_type": "text",
        "id": "EundMtGPpCdf"
      },
      "source": [
        "The dataset we will be using is the IMDB Large Movie Review Dataset, which consists of 50000 labeled movie reviews. These are split into 25,000 reviews for training and 25,000 reviews for testing. The  dataset contains an even number of positive and negative reviews, so randomly guessing yields 50% accuracy. The data is preprocessed. For text classification, it is ususal to limit the size of the vocabulary to stop the dataset from becoming too sparse, creating possible overfitting. We keep the top 10,000 most frequently occurring words in the training data.\n"
      ]
    },
    {
      "cell_type": "code",
      "metadata": {
        "colab_type": "code",
        "id": "NyuSzkafqNca",
        "colab": {}
      },
      "source": [
        "imdb = keras.datasets.imdb\n",
        "(X_train, y_train), (X_test, y_test) = imdb.load_data(num_words=10000)"
      ],
      "execution_count": 0,
      "outputs": []
    },
    {
      "cell_type": "markdown",
      "metadata": {
        "colab_type": "text",
        "id": "6U4iCV9-rmay"
      },
      "source": [
        "We now can start playing around with the data, let’s first see the length:"
      ]
    },
    {
      "cell_type": "code",
      "metadata": {
        "colab_type": "code",
        "id": "h-gjWRAuqg5s",
        "colab": {
          "base_uri": "https://localhost:8080/",
          "height": 36
        },
        "outputId": "c652dc38-d1e3-4de1-d105-ab1713207f3b"
      },
      "source": [
        "print(\"Training entries: {}, labels: {}\".format(len(X_train), len(y_train)))"
      ],
      "execution_count": 3,
      "outputs": [
        {
          "output_type": "stream",
          "text": [
            "Training entries: 25000, labels: 25000\n"
          ],
          "name": "stdout"
        }
      ]
    },
    {
      "cell_type": "markdown",
      "metadata": {
        "colab_type": "text",
        "id": "MTRZrpcyr-4x"
      },
      "source": [
        "The  reviews have been converted to integers and each integer represents a  word in a dictionary. "
      ]
    },
    {
      "cell_type": "code",
      "metadata": {
        "colab_type": "code",
        "id": "79Ev72Kgq4XL",
        "colab": {
          "base_uri": "https://localhost:8080/",
          "height": 1000
        },
        "outputId": "4b3583a7-c7e0-49b7-95df-41658d676600"
      },
      "source": [
        " X_train[0]"
      ],
      "execution_count": 4,
      "outputs": [
        {
          "output_type": "execute_result",
          "data": {
            "text/plain": [
              "[1,\n",
              " 14,\n",
              " 22,\n",
              " 16,\n",
              " 43,\n",
              " 530,\n",
              " 973,\n",
              " 1622,\n",
              " 1385,\n",
              " 65,\n",
              " 458,\n",
              " 4468,\n",
              " 66,\n",
              " 3941,\n",
              " 4,\n",
              " 173,\n",
              " 36,\n",
              " 256,\n",
              " 5,\n",
              " 25,\n",
              " 100,\n",
              " 43,\n",
              " 838,\n",
              " 112,\n",
              " 50,\n",
              " 670,\n",
              " 2,\n",
              " 9,\n",
              " 35,\n",
              " 480,\n",
              " 284,\n",
              " 5,\n",
              " 150,\n",
              " 4,\n",
              " 172,\n",
              " 112,\n",
              " 167,\n",
              " 2,\n",
              " 336,\n",
              " 385,\n",
              " 39,\n",
              " 4,\n",
              " 172,\n",
              " 4536,\n",
              " 1111,\n",
              " 17,\n",
              " 546,\n",
              " 38,\n",
              " 13,\n",
              " 447,\n",
              " 4,\n",
              " 192,\n",
              " 50,\n",
              " 16,\n",
              " 6,\n",
              " 147,\n",
              " 2025,\n",
              " 19,\n",
              " 14,\n",
              " 22,\n",
              " 4,\n",
              " 1920,\n",
              " 4613,\n",
              " 469,\n",
              " 4,\n",
              " 22,\n",
              " 71,\n",
              " 87,\n",
              " 12,\n",
              " 16,\n",
              " 43,\n",
              " 530,\n",
              " 38,\n",
              " 76,\n",
              " 15,\n",
              " 13,\n",
              " 1247,\n",
              " 4,\n",
              " 22,\n",
              " 17,\n",
              " 515,\n",
              " 17,\n",
              " 12,\n",
              " 16,\n",
              " 626,\n",
              " 18,\n",
              " 2,\n",
              " 5,\n",
              " 62,\n",
              " 386,\n",
              " 12,\n",
              " 8,\n",
              " 316,\n",
              " 8,\n",
              " 106,\n",
              " 5,\n",
              " 4,\n",
              " 2223,\n",
              " 5244,\n",
              " 16,\n",
              " 480,\n",
              " 66,\n",
              " 3785,\n",
              " 33,\n",
              " 4,\n",
              " 130,\n",
              " 12,\n",
              " 16,\n",
              " 38,\n",
              " 619,\n",
              " 5,\n",
              " 25,\n",
              " 124,\n",
              " 51,\n",
              " 36,\n",
              " 135,\n",
              " 48,\n",
              " 25,\n",
              " 1415,\n",
              " 33,\n",
              " 6,\n",
              " 22,\n",
              " 12,\n",
              " 215,\n",
              " 28,\n",
              " 77,\n",
              " 52,\n",
              " 5,\n",
              " 14,\n",
              " 407,\n",
              " 16,\n",
              " 82,\n",
              " 2,\n",
              " 8,\n",
              " 4,\n",
              " 107,\n",
              " 117,\n",
              " 5952,\n",
              " 15,\n",
              " 256,\n",
              " 4,\n",
              " 2,\n",
              " 7,\n",
              " 3766,\n",
              " 5,\n",
              " 723,\n",
              " 36,\n",
              " 71,\n",
              " 43,\n",
              " 530,\n",
              " 476,\n",
              " 26,\n",
              " 400,\n",
              " 317,\n",
              " 46,\n",
              " 7,\n",
              " 4,\n",
              " 2,\n",
              " 1029,\n",
              " 13,\n",
              " 104,\n",
              " 88,\n",
              " 4,\n",
              " 381,\n",
              " 15,\n",
              " 297,\n",
              " 98,\n",
              " 32,\n",
              " 2071,\n",
              " 56,\n",
              " 26,\n",
              " 141,\n",
              " 6,\n",
              " 194,\n",
              " 7486,\n",
              " 18,\n",
              " 4,\n",
              " 226,\n",
              " 22,\n",
              " 21,\n",
              " 134,\n",
              " 476,\n",
              " 26,\n",
              " 480,\n",
              " 5,\n",
              " 144,\n",
              " 30,\n",
              " 5535,\n",
              " 18,\n",
              " 51,\n",
              " 36,\n",
              " 28,\n",
              " 224,\n",
              " 92,\n",
              " 25,\n",
              " 104,\n",
              " 4,\n",
              " 226,\n",
              " 65,\n",
              " 16,\n",
              " 38,\n",
              " 1334,\n",
              " 88,\n",
              " 12,\n",
              " 16,\n",
              " 283,\n",
              " 5,\n",
              " 16,\n",
              " 4472,\n",
              " 113,\n",
              " 103,\n",
              " 32,\n",
              " 15,\n",
              " 16,\n",
              " 5345,\n",
              " 19,\n",
              " 178,\n",
              " 32]"
            ]
          },
          "metadata": {
            "tags": []
          },
          "execution_count": 4
        }
      ]
    },
    {
      "cell_type": "markdown",
      "metadata": {
        "colab_type": "text",
        "id": "Tvuu4KhStqei"
      },
      "source": [
        "We can convert integers back to words by querying a dictionary object that contains the integer to string mapping:"
      ]
    },
    {
      "cell_type": "code",
      "metadata": {
        "colab_type": "code",
        "id": "gMCH1OoDrSNR",
        "colab": {}
      },
      "source": [
        "\n",
        "word_index = imdb.get_word_index()"
      ],
      "execution_count": 0,
      "outputs": []
    },
    {
      "cell_type": "markdown",
      "metadata": {
        "colab_type": "text",
        "id": "5IreFXgruZot"
      },
      "source": [
        "Index 1 represents the beginning of the sentence and the index 2 is assigned to all unknown tokens. Index 0 will be used for padding."
      ]
    },
    {
      "cell_type": "code",
      "metadata": {
        "colab_type": "code",
        "id": "abIb7Fe5u3GQ",
        "colab": {}
      },
      "source": [
        "\n",
        "word_index = {k:(v+3) for k,v in word_index.items()}\n",
        "word_index[\"<PAD>\"] = 0\n",
        "word_index[\"<START>\"] = 1\n",
        "word_index[\"<UNK>\"] = 2  \n",
        "word_index[\"<UNUSED>\"] = 3"
      ],
      "execution_count": 0,
      "outputs": []
    },
    {
      "cell_type": "markdown",
      "metadata": {
        "colab_type": "text",
        "id": "9TnnSuspvC5b"
      },
      "source": [
        "To reverse key and values in a dictionary:"
      ]
    },
    {
      "cell_type": "code",
      "metadata": {
        "colab_type": "code",
        "id": "nKOiVVXQu-_I",
        "colab": {}
      },
      "source": [
        "reverse_word_index = dict([(value, key) for (key, value) in word_index.items()])"
      ],
      "execution_count": 0,
      "outputs": []
    },
    {
      "cell_type": "markdown",
      "metadata": {
        "colab_type": "text",
        "id": "ZmTJEm8xvUvW"
      },
      "source": [
        "To view a word:"
      ]
    },
    {
      "cell_type": "code",
      "metadata": {
        "colab_type": "code",
        "id": "SqN5jgVKvJJZ",
        "colab": {
          "base_uri": "https://localhost:8080/",
          "height": 36
        },
        "outputId": "a9da5b6a-fd7f-4e9f-8f55-0e99dadd6886"
      },
      "source": [
        "reverse_word_index[25]"
      ],
      "execution_count": 8,
      "outputs": [
        {
          "output_type": "execute_result",
          "data": {
            "text/plain": [
              "'you'"
            ]
          },
          "metadata": {
            "tags": []
          },
          "execution_count": 8
        }
      ]
    },
    {
      "cell_type": "markdown",
      "metadata": {
        "colab_type": "text",
        "id": "Q6QjrzgVvrYn"
      },
      "source": [
        "And to recreate the whole sentence from our training data we define decode_review:\n"
      ]
    },
    {
      "cell_type": "code",
      "metadata": {
        "colab_type": "code",
        "id": "wvrKeMgxvWlv",
        "colab": {}
      },
      "source": [
        "def decode_review(text):\n",
        "    return ' '.join([reverse_word_index.get(i, '?') for i in text])"
      ],
      "execution_count": 0,
      "outputs": []
    },
    {
      "cell_type": "code",
      "metadata": {
        "colab_type": "code",
        "id": "Sxg4YA_NvdRg",
        "colab": {
          "base_uri": "https://localhost:8080/",
          "height": 56
        },
        "outputId": "1fc8b401-16d4-4a69-99ab-0b7326737f96"
      },
      "source": [
        "decode_review(X_train[10])"
      ],
      "execution_count": 10,
      "outputs": [
        {
          "output_type": "execute_result",
          "data": {
            "text/plain": [
              "\"<START> french horror cinema has seen something of a revival over the last couple of years with great films such as inside and <UNK> romance <UNK> on to the scene <UNK> <UNK> the revival just slightly but stands head and shoulders over most modern horror titles and is surely one of the best french horror films ever made <UNK> was obviously shot on a low budget but this is made up for in far more ways than one by the originality of the film and this in turn is <UNK> by the excellent writing and acting that ensure the film is a winner the plot focuses on two main ideas prison and black magic the central character is a man named <UNK> sent to prison for fraud he is put in a cell with three others the quietly insane <UNK> body building <UNK> marcus and his retarded boyfriend daisy after a short while in the cell together they stumble upon a hiding place in the wall that contains an old <UNK> after <UNK> part of it they soon realise its magical powers and realise they may be able to use it to break through the prison walls br br black magic is a very interesting topic and i'm actually quite surprised that there aren't more films based on it as there's so much scope for things to do with it it's fair to say that <UNK> makes the best of it's <UNK> as despite it's <UNK> the film never actually feels restrained and manages to flow well throughout director eric <UNK> provides a great atmosphere for the film the fact that most of it takes place inside the central prison cell <UNK> that the film feels very claustrophobic and this immensely benefits the central idea of the prisoners wanting to use magic to break out of the cell it's very easy to get behind them it's often said that the unknown is the thing that really <UNK> people and this film proves that as the director <UNK> that we can never really be sure of exactly what is round the corner and this helps to ensure that <UNK> actually does manage to be quite frightening the film is memorable for a lot of reasons outside the central plot the characters are all very interesting in their own way and the fact that the book itself almost takes on its own character is very well done anyone worried that the film won't deliver by the end won't be disappointed either as the ending both makes sense and manages to be quite horrifying overall <UNK> is a truly great horror film and one of the best of the decade highly recommended viewing\""
            ]
          },
          "metadata": {
            "tags": []
          },
          "execution_count": 10
        }
      ]
    },
    {
      "cell_type": "markdown",
      "metadata": {
        "colab_type": "text",
        "id": "c8gIzXncfaJK"
      },
      "source": [
        "### Creating One-hot word vectors"
      ]
    },
    {
      "cell_type": "markdown",
      "metadata": {
        "colab_type": "text",
        "id": "B9W4yb3rv_E0"
      },
      "source": [
        "It is  common to use one-hot representation as input in Natural Language Processing tasks. In Keras, the Embedding layer takes an index as an input and convert it to one-hot vector with the length of the vocabulary size. Then multiplies these vectors by a normal weight matrix. But there is no way to only get a one-hot vector as the output of a layer in Keras. To solve this we use Lambda() layer and a function that creates the one-hot layer. "
      ]
    },
    {
      "cell_type": "code",
      "metadata": {
        "colab_type": "code",
        "id": "RPO_pK9zH4C5",
        "colab": {}
      },
      "source": [
        "def OneHot(input_dim=None, input_length=None):\n",
        "    \n",
        "    if input_dim is None or input_length is None:\n",
        "        raise TypeError(\"input_dim or input_length is not set\")\n",
        "\n",
        "    \n",
        "    def _one_hot(x, num_classes):\n",
        "        return K.one_hot(K.cast(x, 'uint8'),\n",
        "                          num_classes=num_classes)\n",
        "\n",
        "    return Lambda(_one_hot,\n",
        "                  arguments={'num_classes': input_dim},\n",
        "                  input_shape=(input_length,))"
      ],
      "execution_count": 0,
      "outputs": []
    },
    {
      "cell_type": "markdown",
      "metadata": {
        "colab_type": "text",
        "id": "364d3MAw0ez9"
      },
      "source": [
        "input_dim refers to the length of the one-hot vector and input_length refers to the length of the input sequence. Since the input to K.one_hot should be an integer tensor, we cast x to one (Keras passes around float tensors by default).\n",
        "\n"
      ]
    },
    {
      "cell_type": "markdown",
      "metadata": {
        "colab_type": "text",
        "id": "VHz76GNA2M4r"
      },
      "source": [
        " Each text sequence has in most cases different length of words. Here, we fill sequences with a pad token (0) to fit the size. This special tokens is then masked not to be accounted in averaging, loss calculation etc. We set the maximum length to 256."
      ]
    },
    {
      "cell_type": "markdown",
      "metadata": {
        "colab_type": "text",
        "id": "9G_o7PsvgSFt"
      },
      "source": [
        "### Preparing input data"
      ]
    },
    {
      "cell_type": "code",
      "metadata": {
        "colab_type": "code",
        "id": "jiFn7sd_wF5j",
        "colab": {}
      },
      "source": [
        "VOCAB_SIZE = 10000\n",
        "MAX_SEQUENCE_LENGTH = 256\n",
        "\n",
        "X_train_enc = keras.preprocessing.sequence.pad_sequences(X_train,\n",
        "                                                        value=word_index[\"<PAD>\"],\n",
        "                                                        padding='post',\n",
        "                                                        maxlen=256)\n",
        "\n",
        "X_test_enc = keras.preprocessing.sequence.pad_sequences(X_test,\n",
        "                                                       value=word_index[\"<PAD>\"],\n",
        "                                                       padding='post',\n",
        "                                                       maxlen=256)"
      ],
      "execution_count": 0,
      "outputs": []
    },
    {
      "cell_type": "markdown",
      "metadata": {
        "colab_type": "text",
        "id": "kcjFH1wKF_7d"
      },
      "source": [
        "And to view a padded review:"
      ]
    },
    {
      "cell_type": "code",
      "metadata": {
        "colab_type": "code",
        "id": "zwH4dcfW_a18",
        "colab": {
          "base_uri": "https://localhost:8080/",
          "height": 385
        },
        "outputId": "aeff975f-ca00-4bd2-8b04-628ad924c727"
      },
      "source": [
        "print(X_train_enc[1])\n"
      ],
      "execution_count": 13,
      "outputs": [
        {
          "output_type": "stream",
          "text": [
            "[   1  194 1153  194 8255   78  228    5    6 1463 4369 5012  134   26\n",
            "    4  715    8  118 1634   14  394   20   13  119  954  189  102    5\n",
            "  207  110 3103   21   14   69  188    8   30   23    7    4  249  126\n",
            "   93    4  114    9 2300 1523    5  647    4  116    9   35 8163    4\n",
            "  229    9  340 1322    4  118    9    4  130 4901   19    4 1002    5\n",
            "   89   29  952   46   37    4  455    9   45   43   38 1543 1905  398\n",
            "    4 1649   26 6853    5  163   11 3215    2    4 1153    9  194  775\n",
            "    7 8255    2  349 2637  148  605    2 8003   15  123  125   68    2\n",
            " 6853   15  349  165 4362   98    5    4  228    9   43    2 1157   15\n",
            "  299  120    5  120  174   11  220  175  136   50    9 4373  228 8255\n",
            "    5    2  656  245 2350    5    4 9837  131  152  491   18    2   32\n",
            " 7464 1212   14    9    6  371   78   22  625   64 1382    9    8  168\n",
            "  145   23    4 1690   15   16    4 1355    5   28    6   52  154  462\n",
            "   33   89   78  285   16  145   95    0    0    0    0    0    0    0\n",
            "    0    0    0    0    0    0    0    0    0    0    0    0    0    0\n",
            "    0    0    0    0    0    0    0    0    0    0    0    0    0    0\n",
            "    0    0    0    0    0    0    0    0    0    0    0    0    0    0\n",
            "    0    0    0    0    0    0    0    0    0    0    0    0    0    0\n",
            "    0    0    0    0]\n"
          ],
          "name": "stdout"
        }
      ]
    },
    {
      "cell_type": "markdown",
      "metadata": {
        "colab_type": "text",
        "id": "F1zcxFwNGepA"
      },
      "source": [
        "Now we want to build the neural network model. We  are going to have a hidden layer with 16 hidden units. \n",
        "\n",
        "First, we want to transform each index to an embedded vector and then average all vectors to a single one. It has been showed that unweighted average of word vectors outperforms many complicated networks that model semantic and syntactic compositionality. As an example you can take a look at this: (http://anthology.aclweb.org/P/P15/P15-1162.pdf)\n",
        "\n",
        "To average we need to ignore padded zeros:"
      ]
    },
    {
      "cell_type": "code",
      "metadata": {
        "colab_type": "code",
        "id": "Yi04MLIvJOGZ",
        "colab": {}
      },
      "source": [
        "class GlobalAveragePooling1DMasked(GlobalAveragePooling1D):\n",
        "    def call(self, x, mask=None):\n",
        "        if mask != None:\n",
        "            return K.sum(x, axis=1) / K.sum(mask, axis=1)\n",
        "        else:\n",
        "            return super().call(x)\n"
      ],
      "execution_count": 0,
      "outputs": []
    },
    {
      "cell_type": "markdown",
      "metadata": {
        "colab_type": "text",
        "id": "whgIIB5ggjna"
      },
      "source": [
        "### Neural Network model using one-hot vectors"
      ]
    },
    {
      "cell_type": "markdown",
      "metadata": {
        "colab_type": "text",
        "id": "jlOLnlnSJgrU"
      },
      "source": [
        "The first layer is an one-hot layer. The second layer is to compute average on all word vectors in a sentence without considering padding. The  output vector is piped through a fully-connected layer. The last layer is connected with a single output node with the sigmoid activation function. The final value is a float between 0 and 1. \n",
        "The vocabulary count of the movie reviews (10000) is used as the input shape. At the end we visualize the model summary."
      ]
    },
    {
      "cell_type": "code",
      "metadata": {
        "colab_type": "code",
        "id": "_Pn83gBbxiK7",
        "colab": {
          "base_uri": "https://localhost:8080/",
          "height": 424
        },
        "outputId": "9e3623d7-1d5a-4c8c-e945-2a30ba494a38"
      },
      "source": [
        "# put your code here\n",
        "model = Sequential()\n",
        "model.add(OneHot(VOCAB_SIZE,input_length=MAX_SEQUENCE_LENGTH))\n",
        "model.add(GlobalAveragePooling1D())\n",
        "model.add(Dense(1,activation='sigmoid'))\n",
        "model.summary()"
      ],
      "execution_count": 15,
      "outputs": [
        {
          "output_type": "stream",
          "text": [
            "WARNING:tensorflow:From /usr/local/lib/python3.6/dist-packages/keras/backend/tensorflow_backend.py:66: The name tf.get_default_graph is deprecated. Please use tf.compat.v1.get_default_graph instead.\n",
            "\n",
            "WARNING:tensorflow:From /usr/local/lib/python3.6/dist-packages/keras/backend/tensorflow_backend.py:541: The name tf.placeholder is deprecated. Please use tf.compat.v1.placeholder instead.\n",
            "\n",
            "WARNING:tensorflow:From /usr/local/lib/python3.6/dist-packages/keras/backend/tensorflow_backend.py:4432: The name tf.random_uniform is deprecated. Please use tf.random.uniform instead.\n",
            "\n",
            "Model: \"sequential_1\"\n",
            "_________________________________________________________________\n",
            "Layer (type)                 Output Shape              Param #   \n",
            "=================================================================\n",
            "lambda_1 (Lambda)            (None, 256, 10000)        0         \n",
            "_________________________________________________________________\n",
            "global_average_pooling1d_1 ( (None, 10000)             0         \n",
            "_________________________________________________________________\n",
            "dense_1 (Dense)              (None, 1)                 10001     \n",
            "=================================================================\n",
            "Total params: 10,001\n",
            "Trainable params: 10,001\n",
            "Non-trainable params: 0\n",
            "_________________________________________________________________\n"
          ],
          "name": "stdout"
        }
      ]
    },
    {
      "cell_type": "markdown",
      "metadata": {
        "colab_type": "text",
        "id": "_Mz96xpCgvTj"
      },
      "source": [
        "### Training the model"
      ]
    },
    {
      "cell_type": "markdown",
      "metadata": {
        "colab_type": "text",
        "id": "F3HbW_IKLqwT"
      },
      "source": [
        "To compile the model we need a loss function and an optimizer. We use binary_crossentropy loss function which is just a special case of categorical cross entropy. We also use Adam optimizer that can be used instead of the classical stochastic gradient descent procedure to update network weights iterative based in training data. You can read more about it here:\n",
        "(https://arxiv.org/abs/1412.6980v8\n",
        ")\n"
      ]
    },
    {
      "cell_type": "code",
      "metadata": {
        "colab_type": "code",
        "id": "qh1PWTNMxjUw",
        "colab": {
          "base_uri": "https://localhost:8080/",
          "height": 173
        },
        "outputId": "6ca6a5e1-dd85-43a2-f65c-4581d0714f87"
      },
      "source": [
        "model.compile(optimizer='adam',\n",
        "              loss='binary_crossentropy',\n",
        "              metrics=['accuracy'])"
      ],
      "execution_count": 16,
      "outputs": [
        {
          "output_type": "stream",
          "text": [
            "WARNING:tensorflow:From /usr/local/lib/python3.6/dist-packages/keras/optimizers.py:793: The name tf.train.Optimizer is deprecated. Please use tf.compat.v1.train.Optimizer instead.\n",
            "\n",
            "WARNING:tensorflow:From /usr/local/lib/python3.6/dist-packages/keras/backend/tensorflow_backend.py:3657: The name tf.log is deprecated. Please use tf.math.log instead.\n",
            "\n",
            "WARNING:tensorflow:From /usr/local/lib/python3.6/dist-packages/tensorflow_core/python/ops/nn_impl.py:183: where (from tensorflow.python.ops.array_ops) is deprecated and will be removed in a future version.\n",
            "Instructions for updating:\n",
            "Use tf.where in 2.0, which has the same broadcast rule as np.where\n"
          ],
          "name": "stdout"
        }
      ]
    },
    {
      "cell_type": "markdown",
      "metadata": {
        "colab_type": "text",
        "id": "E1jwQQqCN5Ia"
      },
      "source": [
        "When training, we want to check the accuracy of the model on data it hasn't seen before. So we create a validation set:"
      ]
    },
    {
      "cell_type": "code",
      "metadata": {
        "colab_type": "code",
        "id": "f5lAqzQlxjSM",
        "colab": {}
      },
      "source": [
        "X_val = np.array(X_train_enc[:10000])\n",
        "partial_X_train = np.array(X_train_enc[10000:])\n",
        "\n",
        "y_val = np.array(y_train[:10000])\n",
        "partial_y_train = np.array(y_train[10000:])"
      ],
      "execution_count": 0,
      "outputs": []
    },
    {
      "cell_type": "markdown",
      "metadata": {
        "colab_type": "text",
        "id": "E8Kpo5G3OJEY"
      },
      "source": [
        "Then we start to train the model for 40 epochs in mini-batches of 512 samples and monitor the model's loss and accuracy on the validation set."
      ]
    },
    {
      "cell_type": "code",
      "metadata": {
        "colab_type": "code",
        "id": "99_z39KAxjPi",
        "colab": {
          "base_uri": "https://localhost:8080/",
          "height": 1000
        },
        "outputId": "077b3a61-76e2-4521-9658-241d6bcdd9bb"
      },
      "source": [
        "history = model.fit(partial_X_train,\n",
        "                    partial_y_train,\n",
        "                    epochs=40,\n",
        "                    batch_size=512,\n",
        "                    validation_data=(X_val, y_val),\n",
        "                    verbose=1)"
      ],
      "execution_count": 18,
      "outputs": [
        {
          "output_type": "stream",
          "text": [
            "WARNING:tensorflow:From /usr/local/lib/python3.6/dist-packages/keras/backend/tensorflow_backend.py:1033: The name tf.assign_add is deprecated. Please use tf.compat.v1.assign_add instead.\n",
            "\n",
            "WARNING:tensorflow:From /usr/local/lib/python3.6/dist-packages/keras/backend/tensorflow_backend.py:1020: The name tf.assign is deprecated. Please use tf.compat.v1.assign instead.\n",
            "\n",
            "WARNING:tensorflow:From /usr/local/lib/python3.6/dist-packages/keras/backend/tensorflow_backend.py:3005: The name tf.Session is deprecated. Please use tf.compat.v1.Session instead.\n",
            "\n",
            "Train on 15000 samples, validate on 10000 samples\n",
            "Epoch 1/40\n",
            "WARNING:tensorflow:From /usr/local/lib/python3.6/dist-packages/keras/backend/tensorflow_backend.py:190: The name tf.get_default_session is deprecated. Please use tf.compat.v1.get_default_session instead.\n",
            "\n",
            "WARNING:tensorflow:From /usr/local/lib/python3.6/dist-packages/keras/backend/tensorflow_backend.py:197: The name tf.ConfigProto is deprecated. Please use tf.compat.v1.ConfigProto instead.\n",
            "\n",
            "WARNING:tensorflow:From /usr/local/lib/python3.6/dist-packages/keras/backend/tensorflow_backend.py:207: The name tf.global_variables is deprecated. Please use tf.compat.v1.global_variables instead.\n",
            "\n",
            "WARNING:tensorflow:From /usr/local/lib/python3.6/dist-packages/keras/backend/tensorflow_backend.py:216: The name tf.is_variable_initialized is deprecated. Please use tf.compat.v1.is_variable_initialized instead.\n",
            "\n",
            "WARNING:tensorflow:From /usr/local/lib/python3.6/dist-packages/keras/backend/tensorflow_backend.py:223: The name tf.variables_initializer is deprecated. Please use tf.compat.v1.variables_initializer instead.\n",
            "\n",
            "15000/15000 [==============================] - 7s 478us/step - loss: 0.6930 - acc: 0.5039 - val_loss: 0.6928 - val_acc: 0.4963\n",
            "Epoch 2/40\n",
            "15000/15000 [==============================] - 6s 402us/step - loss: 0.6926 - acc: 0.5103 - val_loss: 0.6925 - val_acc: 0.5095\n",
            "Epoch 3/40\n",
            "15000/15000 [==============================] - 6s 405us/step - loss: 0.6922 - acc: 0.5291 - val_loss: 0.6921 - val_acc: 0.5305\n",
            "Epoch 4/40\n",
            "15000/15000 [==============================] - 6s 407us/step - loss: 0.6918 - acc: 0.5845 - val_loss: 0.6917 - val_acc: 0.6004\n",
            "Epoch 5/40\n",
            "15000/15000 [==============================] - 6s 408us/step - loss: 0.6914 - acc: 0.6161 - val_loss: 0.6913 - val_acc: 0.6173\n",
            "Epoch 6/40\n",
            "15000/15000 [==============================] - 6s 410us/step - loss: 0.6910 - acc: 0.6635 - val_loss: 0.6909 - val_acc: 0.6653\n",
            "Epoch 7/40\n",
            "15000/15000 [==============================] - 6s 409us/step - loss: 0.6906 - acc: 0.6510 - val_loss: 0.6906 - val_acc: 0.6370\n",
            "Epoch 8/40\n",
            "15000/15000 [==============================] - 6s 411us/step - loss: 0.6902 - acc: 0.6255 - val_loss: 0.6903 - val_acc: 0.6011\n",
            "Epoch 9/40\n",
            "15000/15000 [==============================] - 6s 412us/step - loss: 0.6898 - acc: 0.6022 - val_loss: 0.6899 - val_acc: 0.6198\n",
            "Epoch 10/40\n",
            "15000/15000 [==============================] - 6s 413us/step - loss: 0.6894 - acc: 0.6434 - val_loss: 0.6895 - val_acc: 0.6519\n",
            "Epoch 11/40\n",
            "15000/15000 [==============================] - 6s 413us/step - loss: 0.6890 - acc: 0.6650 - val_loss: 0.6891 - val_acc: 0.6525\n",
            "Epoch 12/40\n",
            "15000/15000 [==============================] - 6s 413us/step - loss: 0.6886 - acc: 0.6616 - val_loss: 0.6888 - val_acc: 0.6558\n",
            "Epoch 13/40\n",
            "15000/15000 [==============================] - 6s 414us/step - loss: 0.6882 - acc: 0.6619 - val_loss: 0.6884 - val_acc: 0.6617\n",
            "Epoch 14/40\n",
            "15000/15000 [==============================] - 6s 415us/step - loss: 0.6878 - acc: 0.6673 - val_loss: 0.6880 - val_acc: 0.6642\n",
            "Epoch 15/40\n",
            "15000/15000 [==============================] - 6s 415us/step - loss: 0.6874 - acc: 0.6720 - val_loss: 0.6877 - val_acc: 0.6650\n",
            "Epoch 16/40\n",
            "15000/15000 [==============================] - 6s 418us/step - loss: 0.6870 - acc: 0.6760 - val_loss: 0.6873 - val_acc: 0.6652\n",
            "Epoch 17/40\n",
            "15000/15000 [==============================] - 6s 417us/step - loss: 0.6867 - acc: 0.6733 - val_loss: 0.6870 - val_acc: 0.6668\n",
            "Epoch 18/40\n",
            "15000/15000 [==============================] - 6s 418us/step - loss: 0.6863 - acc: 0.6703 - val_loss: 0.6866 - val_acc: 0.6634\n",
            "Epoch 19/40\n",
            "15000/15000 [==============================] - 6s 418us/step - loss: 0.6859 - acc: 0.6695 - val_loss: 0.6862 - val_acc: 0.6655\n",
            "Epoch 20/40\n",
            "15000/15000 [==============================] - 6s 417us/step - loss: 0.6855 - acc: 0.6761 - val_loss: 0.6859 - val_acc: 0.6669\n",
            "Epoch 21/40\n",
            "15000/15000 [==============================] - 6s 417us/step - loss: 0.6851 - acc: 0.6779 - val_loss: 0.6855 - val_acc: 0.6667\n",
            "Epoch 22/40\n",
            "15000/15000 [==============================] - 6s 417us/step - loss: 0.6847 - acc: 0.6756 - val_loss: 0.6852 - val_acc: 0.6680\n",
            "Epoch 23/40\n",
            "15000/15000 [==============================] - 6s 417us/step - loss: 0.6844 - acc: 0.6778 - val_loss: 0.6848 - val_acc: 0.6679\n",
            "Epoch 24/40\n",
            "15000/15000 [==============================] - 6s 416us/step - loss: 0.6840 - acc: 0.6793 - val_loss: 0.6845 - val_acc: 0.6686\n",
            "Epoch 25/40\n",
            "15000/15000 [==============================] - 6s 417us/step - loss: 0.6836 - acc: 0.6781 - val_loss: 0.6841 - val_acc: 0.6680\n",
            "Epoch 26/40\n",
            "15000/15000 [==============================] - 6s 415us/step - loss: 0.6832 - acc: 0.6785 - val_loss: 0.6838 - val_acc: 0.6689\n",
            "Epoch 27/40\n",
            "15000/15000 [==============================] - 6s 416us/step - loss: 0.6829 - acc: 0.6799 - val_loss: 0.6834 - val_acc: 0.6692\n",
            "Epoch 28/40\n",
            "15000/15000 [==============================] - 6s 418us/step - loss: 0.6825 - acc: 0.6786 - val_loss: 0.6831 - val_acc: 0.6689\n",
            "Epoch 29/40\n",
            "15000/15000 [==============================] - 6s 418us/step - loss: 0.6821 - acc: 0.6781 - val_loss: 0.6828 - val_acc: 0.6676\n",
            "Epoch 30/40\n",
            "15000/15000 [==============================] - 6s 417us/step - loss: 0.6818 - acc: 0.6787 - val_loss: 0.6824 - val_acc: 0.6707\n",
            "Epoch 31/40\n",
            "15000/15000 [==============================] - 6s 417us/step - loss: 0.6814 - acc: 0.6788 - val_loss: 0.6821 - val_acc: 0.6690\n",
            "Epoch 32/40\n",
            "15000/15000 [==============================] - 6s 418us/step - loss: 0.6810 - acc: 0.6801 - val_loss: 0.6817 - val_acc: 0.6702\n",
            "Epoch 33/40\n",
            "15000/15000 [==============================] - 6s 418us/step - loss: 0.6807 - acc: 0.6813 - val_loss: 0.6814 - val_acc: 0.6704\n",
            "Epoch 34/40\n",
            "15000/15000 [==============================] - 6s 416us/step - loss: 0.6803 - acc: 0.6807 - val_loss: 0.6811 - val_acc: 0.6721\n",
            "Epoch 35/40\n",
            "15000/15000 [==============================] - 6s 418us/step - loss: 0.6799 - acc: 0.6791 - val_loss: 0.6808 - val_acc: 0.6708\n",
            "Epoch 36/40\n",
            "15000/15000 [==============================] - 6s 417us/step - loss: 0.6796 - acc: 0.6801 - val_loss: 0.6804 - val_acc: 0.6710\n",
            "Epoch 37/40\n",
            "15000/15000 [==============================] - 6s 416us/step - loss: 0.6792 - acc: 0.6807 - val_loss: 0.6800 - val_acc: 0.6722\n",
            "Epoch 38/40\n",
            "15000/15000 [==============================] - 6s 418us/step - loss: 0.6789 - acc: 0.6799 - val_loss: 0.6797 - val_acc: 0.6729\n",
            "Epoch 39/40\n",
            "15000/15000 [==============================] - 6s 418us/step - loss: 0.6785 - acc: 0.6815 - val_loss: 0.6794 - val_acc: 0.6709\n",
            "Epoch 40/40\n",
            "15000/15000 [==============================] - 6s 417us/step - loss: 0.6782 - acc: 0.6818 - val_loss: 0.6790 - val_acc: 0.6711\n"
          ],
          "name": "stdout"
        }
      ]
    },
    {
      "cell_type": "markdown",
      "metadata": {
        "colab_type": "text",
        "id": "i_9a_rybhG5J"
      },
      "source": [
        "### Evaluating the model"
      ]
    },
    {
      "cell_type": "markdown",
      "metadata": {
        "colab_type": "text",
        "id": "EYLH8kOgOo9W"
      },
      "source": [
        "To evaulate the model on test data:"
      ]
    },
    {
      "cell_type": "code",
      "metadata": {
        "colab_type": "code",
        "id": "CFMt2Q7b3taP",
        "colab": {
          "base_uri": "https://localhost:8080/",
          "height": 36
        },
        "outputId": "03ae708a-ef54-4305-c9e2-151314167619"
      },
      "source": [
        "results = model.evaluate(X_test_enc, y_test)"
      ],
      "execution_count": 19,
      "outputs": [
        {
          "output_type": "stream",
          "text": [
            "25000/25000 [==============================] - 7s 270us/step\n"
          ],
          "name": "stdout"
        }
      ]
    },
    {
      "cell_type": "code",
      "metadata": {
        "colab_type": "code",
        "id": "9RrKiPHcAmQU",
        "colab": {
          "base_uri": "https://localhost:8080/",
          "height": 36
        },
        "outputId": "419d4fe7-80ef-45c9-8b45-40ae95e1f744"
      },
      "source": [
        "print(results)\n",
        "# loss, accuracay "
      ],
      "execution_count": 20,
      "outputs": [
        {
          "output_type": "stream",
          "text": [
            "[0.6787935314750672, 0.6778]\n"
          ],
          "name": "stdout"
        }
      ]
    },
    {
      "cell_type": "markdown",
      "metadata": {
        "colab_type": "text",
        "id": "pW7IpHxMO6qp"
      },
      "source": [
        "Our first model accuracy using one-hot vectors is \n",
        "\n",
        "\n",
        "\n"
      ]
    },
    {
      "cell_type": "markdown",
      "metadata": {
        "colab_type": "text",
        "id": "OwZk_yoWhPJB"
      },
      "source": [
        "### Plotting the accuracy graph"
      ]
    },
    {
      "cell_type": "markdown",
      "metadata": {
        "colab_type": "text",
        "id": "JIDPH1J7PMzN"
      },
      "source": [
        "To plot a graph of accuracy and loss over time we can use Matplotlib:"
      ]
    },
    {
      "cell_type": "code",
      "metadata": {
        "colab_type": "code",
        "id": "LS9k2vvSAqB7",
        "colab": {
          "base_uri": "https://localhost:8080/",
          "height": 295
        },
        "outputId": "8faf5892-0189-46d3-ed3e-783fc9e8234a"
      },
      "source": [
        "import matplotlib.pyplot as plt\n",
        "\n",
        "history_dict = history.history\n",
        "\n",
        "acc = history_dict['acc']\n",
        "val_acc = history_dict['val_acc']\n",
        "loss = history_dict['loss']\n",
        "val_loss = history_dict['val_loss']\n",
        "\n",
        "epochs = range(1, len(acc) + 1)\n",
        "\n",
        "plt.plot(epochs, acc, 'bo', label='Training acc')\n",
        "plt.plot(epochs, val_acc, 'b', label='Validation acc')\n",
        "plt.title('Training and validation accuracy')\n",
        "plt.xlabel('Epochs')\n",
        "plt.ylabel('Accuracy')\n",
        "plt.legend()\n",
        "\n",
        "plt.show()"
      ],
      "execution_count": 21,
      "outputs": [
        {
          "output_type": "display_data",
          "data": {
            "image/png": "[encoded data removed]",
            "text/plain": [
              "<Figure size 432x288 with 1 Axes>"
            ]
          },
          "metadata": {
            "tags": []
          }
        }
      ]
    },
    {
      "cell_type": "code",
      "metadata": {
        "id": "8QCewvf_1yD0",
        "colab_type": "code",
        "colab": {
          "base_uri": "https://localhost:8080/",
          "height": 36
        },
        "outputId": "64e8d39f-4a38-4f31-bd4c-823bc74a869c"
      },
      "source": [
        "VOCAB_SIZE"
      ],
      "execution_count": 22,
      "outputs": [
        {
          "output_type": "execute_result",
          "data": {
            "text/plain": [
              "10000"
            ]
          },
          "metadata": {
            "tags": []
          },
          "execution_count": 22
        }
      ]
    },
    {
      "cell_type": "markdown",
      "metadata": {
        "colab_type": "text",
        "id": "a7OwOQw4h8RX"
      },
      "source": [
        "### Neural Network model using word embeddings"
      ]
    },
    {
      "cell_type": "markdown",
      "metadata": {
        "colab_type": "text",
        "id": "l-QzOMO_P4jc"
      },
      "source": [
        "Now instead of one-hot vectors, we want to use embedding. We change our first layer in model1 to an Embedding layer. This layer takes the integer-encoded vocabulary and looks up the embedding vector for each word-index. These vectors are learned as the model trains. The vectors add a dimension to the output array. The resulting dimensions are: (batch, sequence, embedding)."
      ]
    },
    {
      "cell_type": "code",
      "metadata": {
        "colab_type": "code",
        "id": "MFrCsL-NBFVL",
        "colab": {
          "base_uri": "https://localhost:8080/",
          "height": 1000
        },
        "outputId": "8b0d630c-025f-4f26-9995-5549d6ec0795"
      },
      "source": [
        "VOCAB_SIZE= 10000\n",
        "model2 = Sequential()\n",
        "model2.add(Embedding(VOCAB_SIZE,16,input_length=MAX_SEQUENCE_LENGTH))\n",
        "model2.add(GlobalAveragePooling1D())\n",
        "model2.add(Dense(1,activation='sigmoid'))\n",
        "# put the code here\n",
        "\n",
        "model2.compile(optimizer='adam',\n",
        "              loss='binary_crossentropy',\n",
        "              metrics=['accuracy'])\n",
        "\n",
        "X_val = np.array(X_train_enc[:10000])\n",
        "partial_X_train = np.array(X_train_enc[10000:])\n",
        "\n",
        "history2 = model2.fit(partial_X_train,\n",
        "                    partial_y_train,\n",
        "                    epochs=40,\n",
        "                    batch_size=512,\n",
        "                    validation_data=(X_val, y_val),\n",
        "                    verbose=1)\n",
        "\n",
        "results = model2.evaluate(X_test_enc, y_test)\n",
        "print(results)"
      ],
      "execution_count": 23,
      "outputs": [
        {
          "output_type": "stream",
          "text": [
            "Train on 15000 samples, validate on 10000 samples\n",
            "Epoch 1/40\n",
            "15000/15000 [==============================] - 0s 23us/step - loss: 0.6919 - acc: 0.6141 - val_loss: 0.6905 - val_acc: 0.6891\n",
            "Epoch 2/40\n",
            "15000/15000 [==============================] - 0s 11us/step - loss: 0.6885 - acc: 0.7282 - val_loss: 0.6869 - val_acc: 0.7310\n",
            "Epoch 3/40\n",
            "15000/15000 [==============================] - 0s 12us/step - loss: 0.6839 - acc: 0.7435 - val_loss: 0.6821 - val_acc: 0.7318\n",
            "Epoch 4/40\n",
            "15000/15000 [==============================] - 0s 12us/step - loss: 0.6780 - acc: 0.7475 - val_loss: 0.6761 - val_acc: 0.7392\n",
            "Epoch 5/40\n",
            "15000/15000 [==============================] - 0s 11us/step - loss: 0.6706 - acc: 0.7547 - val_loss: 0.6687 - val_acc: 0.7413\n",
            "Epoch 6/40\n",
            "15000/15000 [==============================] - 0s 11us/step - loss: 0.6619 - acc: 0.7621 - val_loss: 0.6603 - val_acc: 0.7471\n",
            "Epoch 7/40\n",
            "15000/15000 [==============================] - 0s 11us/step - loss: 0.6521 - acc: 0.7647 - val_loss: 0.6510 - val_acc: 0.7513\n",
            "Epoch 8/40\n",
            "15000/15000 [==============================] - 0s 11us/step - loss: 0.6414 - acc: 0.7681 - val_loss: 0.6410 - val_acc: 0.7550\n",
            "Epoch 9/40\n",
            "15000/15000 [==============================] - 0s 12us/step - loss: 0.6299 - acc: 0.7729 - val_loss: 0.6304 - val_acc: 0.7605\n",
            "Epoch 10/40\n",
            "15000/15000 [==============================] - 0s 12us/step - loss: 0.6179 - acc: 0.7793 - val_loss: 0.6193 - val_acc: 0.7658\n",
            "Epoch 11/40\n",
            "15000/15000 [==============================] - 0s 11us/step - loss: 0.6055 - acc: 0.7845 - val_loss: 0.6081 - val_acc: 0.7693\n",
            "Epoch 12/40\n",
            "15000/15000 [==============================] - 0s 12us/step - loss: 0.5931 - acc: 0.7905 - val_loss: 0.5967 - val_acc: 0.7762\n",
            "Epoch 13/40\n",
            "15000/15000 [==============================] - 0s 11us/step - loss: 0.5804 - acc: 0.7971 - val_loss: 0.5855 - val_acc: 0.7819\n",
            "Epoch 14/40\n",
            "15000/15000 [==============================] - 0s 13us/step - loss: 0.5678 - acc: 0.8031 - val_loss: 0.5741 - val_acc: 0.7869\n",
            "Epoch 15/40\n",
            "15000/15000 [==============================] - 0s 12us/step - loss: 0.5553 - acc: 0.8079 - val_loss: 0.5629 - val_acc: 0.7929\n",
            "Epoch 16/40\n",
            "15000/15000 [==============================] - 0s 12us/step - loss: 0.5428 - acc: 0.8144 - val_loss: 0.5519 - val_acc: 0.7978\n",
            "Epoch 17/40\n",
            "15000/15000 [==============================] - 0s 12us/step - loss: 0.5306 - acc: 0.8217 - val_loss: 0.5410 - val_acc: 0.8032\n",
            "Epoch 18/40\n",
            "15000/15000 [==============================] - 0s 12us/step - loss: 0.5187 - acc: 0.8271 - val_loss: 0.5304 - val_acc: 0.8083\n",
            "Epoch 19/40\n",
            "15000/15000 [==============================] - 0s 11us/step - loss: 0.5071 - acc: 0.8309 - val_loss: 0.5202 - val_acc: 0.8133\n",
            "Epoch 20/40\n",
            "15000/15000 [==============================] - 0s 12us/step - loss: 0.4958 - acc: 0.8361 - val_loss: 0.5102 - val_acc: 0.8171\n",
            "Epoch 21/40\n",
            "15000/15000 [==============================] - 0s 11us/step - loss: 0.4849 - acc: 0.8411 - val_loss: 0.5005 - val_acc: 0.8210\n",
            "Epoch 22/40\n",
            "15000/15000 [==============================] - 0s 11us/step - loss: 0.4743 - acc: 0.8445 - val_loss: 0.4914 - val_acc: 0.8250\n",
            "Epoch 23/40\n",
            "15000/15000 [==============================] - 0s 12us/step - loss: 0.4641 - acc: 0.8494 - val_loss: 0.4823 - val_acc: 0.8294\n",
            "Epoch 24/40\n",
            "15000/15000 [==============================] - 0s 12us/step - loss: 0.4542 - acc: 0.8531 - val_loss: 0.4737 - val_acc: 0.8314\n",
            "Epoch 25/40\n",
            "15000/15000 [==============================] - 0s 12us/step - loss: 0.4447 - acc: 0.8569 - val_loss: 0.4655 - val_acc: 0.8338\n",
            "Epoch 26/40\n",
            "15000/15000 [==============================] - 0s 12us/step - loss: 0.4357 - acc: 0.8595 - val_loss: 0.4576 - val_acc: 0.8358\n",
            "Epoch 27/40\n",
            "15000/15000 [==============================] - 0s 12us/step - loss: 0.4269 - acc: 0.8627 - val_loss: 0.4501 - val_acc: 0.8386\n",
            "Epoch 28/40\n",
            "15000/15000 [==============================] - 0s 11us/step - loss: 0.4184 - acc: 0.8647 - val_loss: 0.4430 - val_acc: 0.8423\n",
            "Epoch 29/40\n",
            "15000/15000 [==============================] - 0s 11us/step - loss: 0.4103 - acc: 0.8692 - val_loss: 0.4361 - val_acc: 0.8444\n",
            "Epoch 30/40\n",
            "15000/15000 [==============================] - 0s 11us/step - loss: 0.4025 - acc: 0.8725 - val_loss: 0.4295 - val_acc: 0.8464\n",
            "Epoch 31/40\n",
            "15000/15000 [==============================] - 0s 11us/step - loss: 0.3950 - acc: 0.8739 - val_loss: 0.4233 - val_acc: 0.8490\n",
            "Epoch 32/40\n",
            "15000/15000 [==============================] - 0s 11us/step - loss: 0.3879 - acc: 0.8761 - val_loss: 0.4173 - val_acc: 0.8497\n",
            "Epoch 33/40\n",
            "15000/15000 [==============================] - 0s 12us/step - loss: 0.3810 - acc: 0.8783 - val_loss: 0.4117 - val_acc: 0.8512\n",
            "Epoch 34/40\n",
            "15000/15000 [==============================] - 0s 12us/step - loss: 0.3744 - acc: 0.8800 - val_loss: 0.4063 - val_acc: 0.8526\n",
            "Epoch 35/40\n",
            "15000/15000 [==============================] - 0s 11us/step - loss: 0.3681 - acc: 0.8827 - val_loss: 0.4011 - val_acc: 0.8542\n",
            "Epoch 36/40\n",
            "15000/15000 [==============================] - 0s 11us/step - loss: 0.3619 - acc: 0.8843 - val_loss: 0.3961 - val_acc: 0.8563\n",
            "Epoch 37/40\n",
            "15000/15000 [==============================] - 0s 11us/step - loss: 0.3562 - acc: 0.8862 - val_loss: 0.3915 - val_acc: 0.8552\n",
            "Epoch 38/40\n",
            "15000/15000 [==============================] - 0s 12us/step - loss: 0.3504 - acc: 0.8879 - val_loss: 0.3870 - val_acc: 0.8571\n",
            "Epoch 39/40\n",
            "15000/15000 [==============================] - 0s 12us/step - loss: 0.3448 - acc: 0.8893 - val_loss: 0.3828 - val_acc: 0.8606\n",
            "Epoch 40/40\n",
            "15000/15000 [==============================] - 0s 12us/step - loss: 0.3395 - acc: 0.8909 - val_loss: 0.3787 - val_acc: 0.8599\n",
            "25000/25000 [==============================] - 1s 35us/step\n",
            "[0.3874320946025848, 0.85464]\n"
          ],
          "name": "stdout"
        }
      ]
    },
    {
      "cell_type": "code",
      "metadata": {
        "colab_type": "code",
        "id": "I4zIPJDcTPq3",
        "colab": {
          "base_uri": "https://localhost:8080/",
          "height": 36
        },
        "outputId": "5489a4e0-d216-4db2-ee60-40f0d58a841d"
      },
      "source": [
        "results = model2.evaluate(X_test_enc, y_test)"
      ],
      "execution_count": 24,
      "outputs": [
        {
          "output_type": "stream",
          "text": [
            "25000/25000 [==============================] - 1s 36us/step\n"
          ],
          "name": "stdout"
        }
      ]
    },
    {
      "cell_type": "code",
      "metadata": {
        "colab_type": "code",
        "id": "waS96edDTRyL",
        "colab": {
          "base_uri": "https://localhost:8080/",
          "height": 36
        },
        "outputId": "f2dfbb6f-3c3d-435b-c24b-b21a5730a03f"
      },
      "source": [
        "print (results)"
      ],
      "execution_count": 25,
      "outputs": [
        {
          "output_type": "stream",
          "text": [
            "[0.3874320946025848, 0.85464]\n"
          ],
          "name": "stdout"
        }
      ]
    },
    {
      "cell_type": "code",
      "metadata": {
        "colab_type": "code",
        "id": "XB7aveVzTC5a",
        "colab": {
          "base_uri": "https://localhost:8080/",
          "height": 295
        },
        "outputId": "27fcd326-b982-4433-ae95-795a1d365d86"
      },
      "source": [
        "import matplotlib.pyplot as plt\n",
        "\n",
        "history_dict = history2.history\n",
        "\n",
        "acc = history_dict['acc']\n",
        "val_acc = history_dict['val_acc']\n",
        "loss = history_dict['loss']\n",
        "val_loss = history_dict['val_loss']\n",
        "\n",
        "epochs = range(1, len(acc) + 1)\n",
        "\n",
        "plt.plot(epochs, acc, 'bo', label='Training acc')\n",
        "plt.plot(epochs, val_acc, 'b', label='Validation acc')\n",
        "plt.title('Training and validation accuracy')\n",
        "plt.xlabel('Epochs')\n",
        "plt.ylabel('Accuracy')\n",
        "plt.legend()\n",
        "\n",
        "plt.show()"
      ],
      "execution_count": 26,
      "outputs": [
        {
          "output_type": "display_data",
          "data": {
            "image/png": "[encoded data removed]",
            "text/plain": [
              "<Figure size 432x288 with 1 Axes>"
            ]
          },
          "metadata": {
            "tags": []
          }
        }
      ]
    },
    {
      "cell_type": "markdown",
      "metadata": {
        "colab_type": "text",
        "id": "7FBpTc_rXGvQ"
      },
      "source": [
        "The accuracy of model2 is 87%. Using Embedding layer instead of one-hot layer improved the performance."
      ]
    },
    {
      "cell_type": "markdown",
      "metadata": {
        "colab_type": "text",
        "id": "--020hfG6rN2"
      },
      "source": [
        "### Using pre-trained word embeddings"
      ]
    },
    {
      "cell_type": "markdown",
      "metadata": {
        "colab_type": "text",
        "id": "J4gBeOyi4gkM"
      },
      "source": [
        "The Embedding layer can be used to load a pre-trained word embedding model. We are going to use GloVe embeddings, which you can read about it here (https://nlp.stanford.edu/projects/glove/). GloVe stands for \"Global Vectors for Word Representation\". It's a somewhat popular embedding technique based on factorizing a matrix of word co-occurence statistics. You can download GloVe and we can seed the Keras Embedding layer with weights from the pre-trained embedding for the words in your dataset.\n",
        "First, we need to read GloVe and map words to GloVe:\n"
      ]
    },
    {
      "cell_type": "code",
      "metadata": {
        "id": "mOsgGRXg77cq",
        "colab_type": "code",
        "colab": {}
      },
      "source": [
        "# import chakin\n",
        "# chakin.download(number=12, save_dir='./')"
      ],
      "execution_count": 0,
      "outputs": []
    },
    {
      "cell_type": "code",
      "metadata": {
        "colab_type": "code",
        "id": "f_PypdqG9Iis",
        "colab": {}
      },
      "source": [
        "def readGloveFile(gloveFile):\n",
        "    with open(gloveFile, 'r') as f:\n",
        "        wordToGlove = {}  \n",
        "        wordToIndex = {}  \n",
        "        indexToWord = {}  \n",
        "\n",
        "        for line in f:\n",
        "            record = line.strip().split()\n",
        "            token = record[0] \n",
        "            wordToGlove[token] = np.array(record[1:], dtype=np.float64) \n",
        "            \n",
        "        tokens = sorted(wordToGlove.keys())\n",
        "        for idx, tok in enumerate(tokens):\n",
        "            kerasIdx = idx + 1  \n",
        "            wordToIndex[tok] = kerasIdx \n",
        "            indexToWord[kerasIdx] = tok \n",
        "\n",
        "    return wordToIndex, indexToWord, wordToGlove"
      ],
      "execution_count": 0,
      "outputs": []
    },
    {
      "cell_type": "markdown",
      "metadata": {
        "colab_type": "text",
        "id": "ZcIZ3dq59bCh"
      },
      "source": [
        "Now, we create our pre-trained Embedding layer:"
      ]
    },
    {
      "cell_type": "code",
      "metadata": {
        "colab_type": "code",
        "id": "gembn7VM3ex8",
        "colab": {}
      },
      "source": [
        "def createPretrainedEmbeddingLayer(wordToGlove, wordToIndex, isTrainable):\n",
        "    vocabLen = len(wordToIndex) + 1  \n",
        "    embDim = next(iter(wordToGlove.values())).shape[0]  \n",
        "   \n",
        "    embeddingMatrix = np.zeros((vocabLen, embDim))  \n",
        "    for word, index in wordToIndex.items():\n",
        "        embeddingMatrix[index, :] = wordToGlove[word] \n",
        "\n",
        "    embeddingLayer = Embedding(vocabLen, embDim, embeddings_initializer=Constant(embeddingMatrix), trainable=isTrainable)\n",
        "    return embeddingLayer"
      ],
      "execution_count": 0,
      "outputs": []
    },
    {
      "cell_type": "markdown",
      "metadata": {
        "colab_type": "text",
        "id": "HGxciLK4-xOr"
      },
      "source": [
        "We freeze the weights. To create the model:"
      ]
    },
    {
      "cell_type": "code",
      "metadata": {
        "colab_type": "code",
        "id": "PZCPUM0W_Drc",
        "colab": {
          "base_uri": "https://localhost:8080/",
          "height": 36
        },
        "outputId": "6a96de20-4f47-4939-ce6d-88a827e70486"
      },
      "source": [
        "# put the code here\n",
        "import os\n",
        "os.system(\"unzip './glove.6B.zip' \")\n",
        "from tensorflow.contrib.keras.api.keras.initializers import Constant\n",
        "wordToIndex, indexToWord, wordToGlove = readGloveFile('./glove.6B.300d.txt')\n",
        "embeddingLayer = createPretrainedEmbeddingLayer(wordToGlove, wordToIndex, isTrainable=False)\n",
        "os.system(\"rm './glove.6B.zip'\")"
      ],
      "execution_count": 45,
      "outputs": [
        {
          "output_type": "execute_result",
          "data": {
            "text/plain": [
              "256"
            ]
          },
          "metadata": {
            "tags": []
          },
          "execution_count": 45
        }
      ]
    },
    {
      "cell_type": "markdown",
      "metadata": {
        "colab_type": "text",
        "id": "M-bZ5SCHiIMl"
      },
      "source": [
        "### Adding another hidden layer to the network"
      ]
    },
    {
      "cell_type": "markdown",
      "metadata": {
        "colab_type": "text",
        "id": "ZbZ6UBDfbjea"
      },
      "source": [
        "In model3, we only add another dense layer to see if that improves the performance."
      ]
    },
    {
      "cell_type": "code",
      "metadata": {
        "colab_type": "code",
        "id": "Vw0le1YjDdCa",
        "colab": {}
      },
      "source": [
        "# put your code here\n",
        "model3 = Sequential()\n",
        "# model3.add(Embedding(VOCAB_SIZE,16,input_length=MAX_SEQUENCE_LENGTH))\n",
        "model3.add(embeddingLayer)\n",
        "model3.add(GlobalAveragePooling1D())\n",
        "model3.add(Dense(1,activation='sigmoid'))"
      ],
      "execution_count": 0,
      "outputs": []
    },
    {
      "cell_type": "code",
      "metadata": {
        "id": "TgiSSc-dI_05",
        "colab_type": "code",
        "colab": {
          "base_uri": "https://localhost:8080/",
          "height": 1000
        },
        "outputId": "08d46ef6-4728-418e-f971-0b795976cccc"
      },
      "source": [
        "model3.compile(optimizer='adam',\n",
        "              loss='binary_crossentropy',\n",
        "              metrics=['accuracy'])\n",
        "\n",
        "X_val = np.array(X_train_enc[:10000])\n",
        "partial_X_train = np.array(X_train_enc[10000:])\n",
        "\n",
        "history3 = model3.fit(partial_X_train,\n",
        "                    partial_y_train,\n",
        "                    epochs=40,\n",
        "                    batch_size=512,\n",
        "                    validation_data=(X_val, y_val),\n",
        "                    verbose=1)\n",
        "\n",
        "results = model3.evaluate(X_test_enc, y_test)\n",
        "print(results)"
      ],
      "execution_count": 48,
      "outputs": [
        {
          "output_type": "stream",
          "text": [
            "Train on 15000 samples, validate on 10000 samples\n",
            "Epoch 1/40\n",
            "15000/15000 [==============================] - 1s 43us/step - loss: 0.6469 - acc: 0.6499 - val_loss: 0.6490 - val_acc: 0.6423\n",
            "Epoch 2/40\n",
            "15000/15000 [==============================] - 0s 19us/step - loss: 0.6459 - acc: 0.6510 - val_loss: 0.6480 - val_acc: 0.6428\n",
            "Epoch 3/40\n",
            "15000/15000 [==============================] - 0s 19us/step - loss: 0.6451 - acc: 0.6511 - val_loss: 0.6472 - val_acc: 0.6415\n",
            "Epoch 4/40\n",
            "15000/15000 [==============================] - 0s 19us/step - loss: 0.6442 - acc: 0.6511 - val_loss: 0.6463 - val_acc: 0.6457\n",
            "Epoch 5/40\n",
            "15000/15000 [==============================] - 0s 19us/step - loss: 0.6432 - acc: 0.6541 - val_loss: 0.6455 - val_acc: 0.6473\n",
            "Epoch 6/40\n",
            "15000/15000 [==============================] - 0s 19us/step - loss: 0.6424 - acc: 0.6551 - val_loss: 0.6453 - val_acc: 0.6472\n",
            "Epoch 7/40\n",
            "15000/15000 [==============================] - 0s 19us/step - loss: 0.6417 - acc: 0.6560 - val_loss: 0.6442 - val_acc: 0.6484\n",
            "Epoch 8/40\n",
            "15000/15000 [==============================] - 0s 19us/step - loss: 0.6408 - acc: 0.6556 - val_loss: 0.6432 - val_acc: 0.6496\n",
            "Epoch 9/40\n",
            "15000/15000 [==============================] - 0s 19us/step - loss: 0.6400 - acc: 0.6581 - val_loss: 0.6425 - val_acc: 0.6508\n",
            "Epoch 10/40\n",
            "15000/15000 [==============================] - 0s 19us/step - loss: 0.6391 - acc: 0.6596 - val_loss: 0.6418 - val_acc: 0.6520\n",
            "Epoch 11/40\n",
            "15000/15000 [==============================] - 0s 18us/step - loss: 0.6383 - acc: 0.6603 - val_loss: 0.6410 - val_acc: 0.6542\n",
            "Epoch 12/40\n",
            "15000/15000 [==============================] - 0s 19us/step - loss: 0.6376 - acc: 0.6624 - val_loss: 0.6405 - val_acc: 0.6533\n",
            "Epoch 13/40\n",
            "15000/15000 [==============================] - 0s 19us/step - loss: 0.6368 - acc: 0.6607 - val_loss: 0.6397 - val_acc: 0.6548\n",
            "Epoch 14/40\n",
            "15000/15000 [==============================] - 0s 19us/step - loss: 0.6361 - acc: 0.6650 - val_loss: 0.6390 - val_acc: 0.6554\n",
            "Epoch 15/40\n",
            "15000/15000 [==============================] - 0s 19us/step - loss: 0.6353 - acc: 0.6640 - val_loss: 0.6388 - val_acc: 0.6562\n",
            "Epoch 16/40\n",
            "15000/15000 [==============================] - 0s 19us/step - loss: 0.6347 - acc: 0.6631 - val_loss: 0.6379 - val_acc: 0.6577\n",
            "Epoch 17/40\n",
            "15000/15000 [==============================] - 0s 19us/step - loss: 0.6339 - acc: 0.6652 - val_loss: 0.6371 - val_acc: 0.6578\n",
            "Epoch 18/40\n",
            "15000/15000 [==============================] - 0s 19us/step - loss: 0.6333 - acc: 0.6648 - val_loss: 0.6365 - val_acc: 0.6594\n",
            "Epoch 19/40\n",
            "15000/15000 [==============================] - 0s 19us/step - loss: 0.6326 - acc: 0.6669 - val_loss: 0.6358 - val_acc: 0.6597\n",
            "Epoch 20/40\n",
            "15000/15000 [==============================] - 0s 19us/step - loss: 0.6319 - acc: 0.6677 - val_loss: 0.6353 - val_acc: 0.6616\n",
            "Epoch 21/40\n",
            "15000/15000 [==============================] - 0s 19us/step - loss: 0.6313 - acc: 0.6677 - val_loss: 0.6347 - val_acc: 0.6618\n",
            "Epoch 22/40\n",
            "15000/15000 [==============================] - 0s 19us/step - loss: 0.6306 - acc: 0.6678 - val_loss: 0.6339 - val_acc: 0.6632\n",
            "Epoch 23/40\n",
            "15000/15000 [==============================] - 0s 19us/step - loss: 0.6300 - acc: 0.6683 - val_loss: 0.6333 - val_acc: 0.6634\n",
            "Epoch 24/40\n",
            "15000/15000 [==============================] - 0s 19us/step - loss: 0.6292 - acc: 0.6695 - val_loss: 0.6327 - val_acc: 0.6642\n",
            "Epoch 25/40\n",
            "15000/15000 [==============================] - 0s 19us/step - loss: 0.6286 - acc: 0.6717 - val_loss: 0.6325 - val_acc: 0.6655\n",
            "Epoch 26/40\n",
            "15000/15000 [==============================] - 0s 19us/step - loss: 0.6281 - acc: 0.6709 - val_loss: 0.6317 - val_acc: 0.6660\n",
            "Epoch 27/40\n",
            "15000/15000 [==============================] - 0s 19us/step - loss: 0.6275 - acc: 0.6715 - val_loss: 0.6311 - val_acc: 0.6664\n",
            "Epoch 28/40\n",
            "15000/15000 [==============================] - 0s 19us/step - loss: 0.6268 - acc: 0.6715 - val_loss: 0.6305 - val_acc: 0.6674\n",
            "Epoch 29/40\n",
            "15000/15000 [==============================] - 0s 19us/step - loss: 0.6264 - acc: 0.6715 - val_loss: 0.6302 - val_acc: 0.6678\n",
            "Epoch 30/40\n",
            "15000/15000 [==============================] - 0s 19us/step - loss: 0.6256 - acc: 0.6723 - val_loss: 0.6296 - val_acc: 0.6678\n",
            "Epoch 31/40\n",
            "15000/15000 [==============================] - 0s 19us/step - loss: 0.6250 - acc: 0.6733 - val_loss: 0.6290 - val_acc: 0.6692\n",
            "Epoch 32/40\n",
            "15000/15000 [==============================] - 0s 19us/step - loss: 0.6245 - acc: 0.6743 - val_loss: 0.6285 - val_acc: 0.6689\n",
            "Epoch 33/40\n",
            "15000/15000 [==============================] - 0s 19us/step - loss: 0.6239 - acc: 0.6740 - val_loss: 0.6279 - val_acc: 0.6700\n",
            "Epoch 34/40\n",
            "15000/15000 [==============================] - 0s 19us/step - loss: 0.6233 - acc: 0.6742 - val_loss: 0.6276 - val_acc: 0.6697\n",
            "Epoch 35/40\n",
            "15000/15000 [==============================] - 0s 19us/step - loss: 0.6228 - acc: 0.6758 - val_loss: 0.6270 - val_acc: 0.6707\n",
            "Epoch 36/40\n",
            "15000/15000 [==============================] - 0s 19us/step - loss: 0.6222 - acc: 0.6769 - val_loss: 0.6266 - val_acc: 0.6713\n",
            "Epoch 37/40\n",
            "15000/15000 [==============================] - 0s 19us/step - loss: 0.6217 - acc: 0.6765 - val_loss: 0.6260 - val_acc: 0.6717\n",
            "Epoch 38/40\n",
            "15000/15000 [==============================] - 0s 19us/step - loss: 0.6212 - acc: 0.6773 - val_loss: 0.6254 - val_acc: 0.6735\n",
            "Epoch 39/40\n",
            "15000/15000 [==============================] - 0s 20us/step - loss: 0.6206 - acc: 0.6777 - val_loss: 0.6249 - val_acc: 0.6741\n",
            "Epoch 40/40\n",
            "15000/15000 [==============================] - 0s 19us/step - loss: 0.6201 - acc: 0.6802 - val_loss: 0.6248 - val_acc: 0.6710\n",
            "25000/25000 [==============================] - 1s 36us/step\n",
            "[0.625195871181488, 0.66732]\n"
          ],
          "name": "stdout"
        }
      ]
    },
    {
      "cell_type": "code",
      "metadata": {
        "id": "2vSN29uCKQ_L",
        "colab_type": "code",
        "colab": {
          "base_uri": "https://localhost:8080/",
          "height": 56
        },
        "outputId": "da9423c7-c4a1-4a22-a496-2f0672db6c88"
      },
      "source": [
        "results = model3.evaluate(X_test_enc, y_test)\n",
        "print(results)"
      ],
      "execution_count": 49,
      "outputs": [
        {
          "output_type": "stream",
          "text": [
            "25000/25000 [==============================] - 1s 37us/step\n",
            "[0.625195871181488, 0.66732]\n"
          ],
          "name": "stdout"
        }
      ]
    },
    {
      "cell_type": "code",
      "metadata": {
        "colab_type": "code",
        "id": "QtsdVeW7UgCu",
        "colab": {
          "base_uri": "https://localhost:8080/",
          "height": 295
        },
        "outputId": "42f432f8-4756-4636-9ec5-fc0345a29ba8"
      },
      "source": [
        "import matplotlib.pyplot as plt\n",
        "\n",
        "history_dict = history3.history\n",
        "\n",
        "acc = history_dict['acc']\n",
        "val_acc = history_dict['val_acc']\n",
        "loss = history_dict['loss']\n",
        "val_loss = history_dict['val_loss']\n",
        "\n",
        "epochs = range(1, len(acc) + 1)\n",
        "\n",
        "plt.plot(epochs, acc, 'bo', label='Training acc')\n",
        "plt.plot(epochs, val_acc, 'b', label='Validation acc')\n",
        "plt.title('Training and validation accuracy')\n",
        "plt.xlabel('Epochs')\n",
        "plt.ylabel('Accuracy')\n",
        "plt.legend()\n",
        "\n",
        "plt.show()"
      ],
      "execution_count": 50,
      "outputs": [
        {
          "output_type": "display_data",
          "data": {
            "image/png": "[encoded data removed]",
            "text/plain": [
              "<Figure size 432x288 with 1 Axes>"
            ]
          },
          "metadata": {
            "tags": []
          }
        }
      ]
    },
    {
      "cell_type": "markdown",
      "metadata": {
        "colab_type": "text",
        "id": "Kx--Ytk3ZbLo"
      },
      "source": [
        "The accuracy of model3 with an additional layer is 85%. Adding more layers can help you to extract more features. But we can do that upto a certain extent. After some point, instead of extracting features, we tend to overfit the data. Overfitting can lead to errors in some or the other form like false positives. It is not easy to choose the number of units in a hidden layer or the number of hidden layers in a neural network. For many applications, one hidden layer is enough. As a general rule, the number of units in that hidden layer is between the number of inputs and the number of outputs.\n",
        " The best way to decide on the number of units and hidden layers is to try various parameters. Train several neural networks with different numbers of hidden layers and neurons, and monitor the performance of them. You will have to experiment using a series of different architectures. \n",
        "\n",
        "\n",
        "\n"
      ]
    },
    {
      "cell_type": "markdown",
      "metadata": {
        "colab_type": "text",
        "id": "gn2GSV4ioyO2"
      },
      "source": [
        "\n",
        "\n",
        "---\n",
        "\n"
      ]
    },
    {
      "cell_type": "code",
      "metadata": {
        "colab_type": "code",
        "id": "XYC6DykEox2w",
        "colab": {}
      },
      "source": [
        ""
      ],
      "execution_count": 0,
      "outputs": []
    },
    {
      "cell_type": "markdown",
      "metadata": {
        "colab_type": "text",
        "id": "GsCJ01StlgCx"
      },
      "source": [
        "This tutorial is substantially based on this document:\n",
        "https://www.tensorflow.org/tutorials/keras/basic_text_classification\n",
        "\n",
        "To read more about Sequential APIs you can go to: https://keras.io/getting-started/sequential-model-guide/\n",
        "\n",
        "The one-hot word vector layer is taken from:\n",
        "https://fdalvi.github.io/blog/2018-04-07-keras-sequential-onehot/\n"
      ]
    },
    {
      "cell_type": "code",
      "metadata": {
        "colab_type": "code",
        "id": "jL0UovfaE9GE",
        "colab": {}
      },
      "source": [
        ""
      ],
      "execution_count": 0,
      "outputs": []
    }
  ]
}