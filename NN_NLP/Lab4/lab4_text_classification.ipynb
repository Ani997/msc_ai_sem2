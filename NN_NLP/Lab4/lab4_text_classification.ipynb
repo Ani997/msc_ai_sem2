{
 "cells": [
  {
   "cell_type": "markdown",
   "metadata": {
    "colab_type": "text",
    "id": "hExKCzh6doIW"
   },
   "source": [
    "# Lab 4 - Neural Network Classifier Using Simple Word Embeddings\n",
    "\n",
    "\n",
    "\n",
    "---\n",
    "\n",
    "\n",
    "\n",
    "\n",
    "\n",
    "\n",
    "\n",
    "\n",
    "\n",
    "\n",
    "\n",
    "\n",
    "\n"
   ]
  },
  {
   "cell_type": "markdown",
   "metadata": {
    "colab_type": "text",
    "id": "HixoFOoCIJ7V"
   },
   "source": [
    "In this session, we demonstrate how to solve a text classification task using simple \n",
    "feedforward neural network classifier. We will use IMDB Large Movie Review Dataset to train a binary classification model, able to predict whether a review is positive or negative. First, our network takes one-hot word vectors as input, averages them to make one vector and trains a \n",
    "fully-connected layer to predict the output. In the second part, we replace the one-hot vectors with the word embeddings and add a layer to see how much that improves the performance.\n",
    "\n",
    "We are going to use Keras Sequential API in this session. The Sequential API allows you to make models layer-by-layer. But it is not straightforward to define models where layers connect to more than just the previous and next layers. "
   ]
  },
  {
   "cell_type": "code",
   "execution_count": 1,
   "metadata": {
    "colab": {},
    "colab_type": "code",
    "id": "m8fpBfhBpupy"
   },
   "outputs": [
    {
     "name": "stderr",
     "output_type": "stream",
     "text": [
      "Using TensorFlow backend.\n"
     ]
    }
   ],
   "source": [
    "import keras\n",
    "import numpy as np\n",
    "from keras.layers import Lambda, GlobalAveragePooling1D, Dense, Embedding\n",
    "from keras import backend as K\n",
    "from keras.models import Sequential\n"
   ]
  },
  {
   "cell_type": "markdown",
   "metadata": {
    "colab_type": "text",
    "id": "cqvPQvgvPv1W"
   },
   "source": [
    "### Downloading data"
   ]
  },
  {
   "cell_type": "markdown",
   "metadata": {
    "colab_type": "text",
    "id": "EundMtGPpCdf"
   },
   "source": [
    "The dataset we will be using is the IMDB Large Movie Review Dataset, which consists of 50000 labeled movie reviews. These are split into 25,000 reviews for training and 25,000 reviews for testing. The  dataset contains an even number of positive and negative reviews, so randomly guessing yields 50% accuracy. The data is preprocessed. For text classification, it is ususal to limit the size of the vocabulary to stop the dataset from becoming too sparse, creating possible overfitting. We keep the top 10,000 most frequently occurring words in the training data.\n"
   ]
  },
  {
   "cell_type": "code",
   "execution_count": 2,
   "metadata": {
    "colab": {},
    "colab_type": "code",
    "id": "NyuSzkafqNca"
   },
   "outputs": [],
   "source": [
    "imdb = keras.datasets.imdb\n",
    "(X_train, y_train), (X_test, y_test) = imdb.load_data(num_words=10000)"
   ]
  },
  {
   "cell_type": "markdown",
   "metadata": {
    "colab_type": "text",
    "id": "6U4iCV9-rmay"
   },
   "source": [
    "We now can start playing around with the data, let’s first see the length:"
   ]
  },
  {
   "cell_type": "code",
   "execution_count": 29,
   "metadata": {
    "colab": {
     "base_uri": "https://localhost:8080/",
     "height": 36
    },
    "colab_type": "code",
    "id": "h-gjWRAuqg5s",
    "outputId": "42a11476-4bb4-438d-ac95-2bc45363229d"
   },
   "outputs": [
    {
     "name": "stdout",
     "output_type": "stream",
     "text": [
      "Training entries: 25000, labels: 25000\n"
     ]
    }
   ],
   "source": [
    "print(\"Training entries: {}, labels: {}\".format(len(X_train), len(y_train)))"
   ]
  },
  {
   "cell_type": "markdown",
   "metadata": {
    "colab_type": "text",
    "id": "MTRZrpcyr-4x"
   },
   "source": [
    "The  reviews have been converted to integers and each integer represents a  word in a dictionary. "
   ]
  },
  {
   "cell_type": "code",
   "execution_count": 0,
   "metadata": {
    "colab": {},
    "colab_type": "code",
    "id": "79Ev72Kgq4XL"
   },
   "outputs": [],
   "source": [
    " X_train[0]"
   ]
  },
  {
   "cell_type": "markdown",
   "metadata": {
    "colab_type": "text",
    "id": "Tvuu4KhStqei"
   },
   "source": [
    "We can convert integers back to words by querying a dictionary object that contains the integer to string mapping:"
   ]
  },
  {
   "cell_type": "code",
   "execution_count": 0,
   "metadata": {
    "colab": {},
    "colab_type": "code",
    "id": "gMCH1OoDrSNR"
   },
   "outputs": [],
   "source": [
    "\n",
    "word_index = imdb.get_word_index()"
   ]
  },
  {
   "cell_type": "markdown",
   "metadata": {
    "colab_type": "text",
    "id": "5IreFXgruZot"
   },
   "source": [
    "Index 1 represents the beginning of the sentence and the index 2 is assigned to all unknown tokens. Index 0 will be used for padding."
   ]
  },
  {
   "cell_type": "code",
   "execution_count": 0,
   "metadata": {
    "colab": {},
    "colab_type": "code",
    "id": "abIb7Fe5u3GQ"
   },
   "outputs": [],
   "source": [
    "\n",
    "word_index = {k:(v+3) for k,v in word_index.items()}\n",
    "word_index[\"<PAD>\"] = 0\n",
    "word_index[\"<START>\"] = 1\n",
    "word_index[\"<UNK>\"] = 2  \n",
    "word_index[\"<UNUSED>\"] = 3"
   ]
  },
  {
   "cell_type": "markdown",
   "metadata": {
    "colab_type": "text",
    "id": "9TnnSuspvC5b"
   },
   "source": [
    "To reverse key and values in a dictionary:"
   ]
  },
  {
   "cell_type": "code",
   "execution_count": 0,
   "metadata": {
    "colab": {},
    "colab_type": "code",
    "id": "nKOiVVXQu-_I"
   },
   "outputs": [],
   "source": [
    "reverse_word_index = dict([(value, key) for (key, value) in word_index.items()])"
   ]
  },
  {
   "cell_type": "markdown",
   "metadata": {
    "colab_type": "text",
    "id": "ZmTJEm8xvUvW"
   },
   "source": [
    "To view a word:"
   ]
  },
  {
   "cell_type": "code",
   "execution_count": 33,
   "metadata": {
    "colab": {
     "base_uri": "https://localhost:8080/",
     "height": 36
    },
    "colab_type": "code",
    "id": "SqN5jgVKvJJZ",
    "outputId": "71c8ab13-e4f1-4204-ec4d-f415765b7a60"
   },
   "outputs": [
    {
     "data": {
      "text/plain": [
       "'you'"
      ]
     },
     "execution_count": 33,
     "metadata": {
      "tags": []
     },
     "output_type": "execute_result"
    }
   ],
   "source": [
    "reverse_word_index[25]"
   ]
  },
  {
   "cell_type": "markdown",
   "metadata": {
    "colab_type": "text",
    "id": "Q6QjrzgVvrYn"
   },
   "source": [
    "And to recreate the whole sentence from our training data we define decode_review:\n"
   ]
  },
  {
   "cell_type": "code",
   "execution_count": 0,
   "metadata": {
    "colab": {},
    "colab_type": "code",
    "id": "wvrKeMgxvWlv"
   },
   "outputs": [],
   "source": [
    "def decode_review(text):\n",
    "    return ' '.join([reverse_word_index.get(i, '?') for i in text])"
   ]
  },
  {
   "cell_type": "code",
   "execution_count": 0,
   "metadata": {
    "colab": {},
    "colab_type": "code",
    "id": "Sxg4YA_NvdRg"
   },
   "outputs": [],
   "source": [
    "decode_review(X_train[10])"
   ]
  },
  {
   "cell_type": "markdown",
   "metadata": {
    "colab_type": "text",
    "id": "c8gIzXncfaJK"
   },
   "source": [
    "### Creating One-hot word vectors"
   ]
  },
  {
   "cell_type": "markdown",
   "metadata": {
    "colab_type": "text",
    "id": "B9W4yb3rv_E0"
   },
   "source": [
    "It is  common to use one-hot representation as input in Natural Language Processing tasks. In Keras, the Embedding layer takes an index as an input and convert it to one-hot vector with the length of the vocabulary size. Then multiplies these vectors by a normal weight matrix. But there is no way to only get a one-hot vector as the output of a layer in Keras. To solve this we use Lambda() layer and a function that creates the one-hot layer. "
   ]
  },
  {
   "cell_type": "code",
   "execution_count": 0,
   "metadata": {
    "colab": {},
    "colab_type": "code",
    "id": "RPO_pK9zH4C5"
   },
   "outputs": [],
   "source": [
    "def OneHot(input_dim=None, input_length=None):\n",
    "    \n",
    "    if input_dim is None or input_length is None:\n",
    "        raise TypeError(\"input_dim or input_length is not set\")\n",
    "\n",
    "    \n",
    "    def _one_hot(x, num_classes):\n",
    "        return K.one_hot(K.cast(x, 'uint8'),\n",
    "                          num_classes=num_classes)\n",
    "\n",
    "    return Lambda(_one_hot,\n",
    "                  arguments={'num_classes': input_dim},\n",
    "                  input_shape=(input_length,))"
   ]
  },
  {
   "cell_type": "markdown",
   "metadata": {
    "colab_type": "text",
    "id": "364d3MAw0ez9"
   },
   "source": [
    "input_dim refers to the length of the one-hot vector and input_length refers to the length of the input sequence. Since the input to K.one_hot should be an integer tensor, we cast x to one (Keras passes around float tensors by default).\n",
    "\n"
   ]
  },
  {
   "cell_type": "markdown",
   "metadata": {
    "colab_type": "text",
    "id": "VHz76GNA2M4r"
   },
   "source": [
    " Each text sequence has in most cases different length of words. Here, we fill sequences with a pad token (0) to fit the size. This special tokens is then masked not to be accounted in averaging, loss calculation etc. We set the maximum length to 256."
   ]
  },
  {
   "cell_type": "markdown",
   "metadata": {
    "colab_type": "text",
    "id": "9G_o7PsvgSFt"
   },
   "source": [
    "### Preparing input data"
   ]
  },
  {
   "cell_type": "code",
   "execution_count": 0,
   "metadata": {
    "colab": {},
    "colab_type": "code",
    "id": "jiFn7sd_wF5j"
   },
   "outputs": [],
   "source": [
    "VOCAB_SIZE = 10000\n",
    "MAX_SEQUENCE_LENGTH = 256\n",
    "\n",
    "X_train_enc = keras.preprocessing.sequence.pad_sequences(X_train,\n",
    "                                                        value=word_index[\"<PAD>\"],\n",
    "                                                        padding='post',\n",
    "                                                        maxlen=256)\n",
    "\n",
    "X_test_enc = keras.preprocessing.sequence.pad_sequences(X_test,\n",
    "                                                       value=word_index[\"<PAD>\"],\n",
    "                                                       padding='post',\n",
    "                                                       maxlen=256)"
   ]
  },
  {
   "cell_type": "markdown",
   "metadata": {
    "colab_type": "text",
    "id": "kcjFH1wKF_7d"
   },
   "source": [
    "And to view a padded review:"
   ]
  },
  {
   "cell_type": "code",
   "execution_count": 37,
   "metadata": {
    "colab": {
     "base_uri": "https://localhost:8080/",
     "height": 385
    },
    "colab_type": "code",
    "id": "zwH4dcfW_a18",
    "outputId": "8410ee40-6936-4557-f3ac-2f865214f56f"
   },
   "outputs": [
    {
     "name": "stdout",
     "output_type": "stream",
     "text": [
      "[   1  194 1153  194 8255   78  228    5    6 1463 4369 5012  134   26\n",
      "    4  715    8  118 1634   14  394   20   13  119  954  189  102    5\n",
      "  207  110 3103   21   14   69  188    8   30   23    7    4  249  126\n",
      "   93    4  114    9 2300 1523    5  647    4  116    9   35 8163    4\n",
      "  229    9  340 1322    4  118    9    4  130 4901   19    4 1002    5\n",
      "   89   29  952   46   37    4  455    9   45   43   38 1543 1905  398\n",
      "    4 1649   26 6853    5  163   11 3215    2    4 1153    9  194  775\n",
      "    7 8255    2  349 2637  148  605    2 8003   15  123  125   68    2\n",
      " 6853   15  349  165 4362   98    5    4  228    9   43    2 1157   15\n",
      "  299  120    5  120  174   11  220  175  136   50    9 4373  228 8255\n",
      "    5    2  656  245 2350    5    4 9837  131  152  491   18    2   32\n",
      " 7464 1212   14    9    6  371   78   22  625   64 1382    9    8  168\n",
      "  145   23    4 1690   15   16    4 1355    5   28    6   52  154  462\n",
      "   33   89   78  285   16  145   95    0    0    0    0    0    0    0\n",
      "    0    0    0    0    0    0    0    0    0    0    0    0    0    0\n",
      "    0    0    0    0    0    0    0    0    0    0    0    0    0    0\n",
      "    0    0    0    0    0    0    0    0    0    0    0    0    0    0\n",
      "    0    0    0    0    0    0    0    0    0    0    0    0    0    0\n",
      "    0    0    0    0]\n"
     ]
    }
   ],
   "source": [
    "print(X_train_enc[1])\n"
   ]
  },
  {
   "cell_type": "markdown",
   "metadata": {
    "colab_type": "text",
    "id": "F1zcxFwNGepA"
   },
   "source": [
    "Now we want to build the neural network model. We  are going to have a hidden layer with 16 hidden units. \n",
    "\n",
    "First, we want to transform each index to an embedded vector and then average all vectors to a single one. It has been showed that unweighted average of word vectors outperforms many complicated networks that model semantic and syntactic compositionality. As an example you can take a look at this: (http://anthology.aclweb.org/P/P15/P15-1162.pdf)\n",
    "\n",
    "To average we need to ignore padded zeros:"
   ]
  },
  {
   "cell_type": "code",
   "execution_count": 0,
   "metadata": {
    "colab": {},
    "colab_type": "code",
    "id": "Yi04MLIvJOGZ"
   },
   "outputs": [],
   "source": [
    "class GlobalAveragePooling1DMasked(GlobalAveragePooling1D):\n",
    "    def call(self, x, mask=None):\n",
    "        if mask != None:\n",
    "            return K.sum(x, axis=1) / K.sum(mask, axis=1)\n",
    "        else:\n",
    "            return super().call(x)\n"
   ]
  },
  {
   "cell_type": "markdown",
   "metadata": {
    "colab_type": "text",
    "id": "whgIIB5ggjna"
   },
   "source": [
    "### Neural Network model using one-hot vectors"
   ]
  },
  {
   "cell_type": "markdown",
   "metadata": {
    "colab_type": "text",
    "id": "jlOLnlnSJgrU"
   },
   "source": [
    "The first layer is an one-hot layer. The second layer is to compute average on all word vectors in a sentence without considering padding. The  output vector is piped through a fully-connected layer. The last layer is connected with a single output node with the sigmoid activation function. The final value is a float between 0 and 1. \n",
    "The vocabulary count of the movie reviews (10000) is used as the input shape. At the end we visualize the model summary."
   ]
  },
  {
   "cell_type": "code",
   "execution_count": 50,
   "metadata": {
    "colab": {
     "base_uri": "https://localhost:8080/",
     "height": 327
    },
    "colab_type": "code",
    "id": "_Pn83gBbxiK7",
    "outputId": "c297daca-b8a3-432a-a067-a2d145289ee9"
   },
   "outputs": [
    {
     "name": "stdout",
     "output_type": "stream",
     "text": [
      "Model: \"sequential_5\"\n",
      "_________________________________________________________________\n",
      "Layer (type)                 Output Shape              Param #   \n",
      "=================================================================\n",
      "lambda_4 (Lambda)            (None, 256, 10000)        0         \n",
      "_________________________________________________________________\n",
      "global_average_pooling1d_mas (None, 10000)             0         \n",
      "_________________________________________________________________\n",
      "dense_8 (Dense)              (None, 16)                160016    \n",
      "_________________________________________________________________\n",
      "dense_9 (Dense)              (None, 1)                 17        \n",
      "=================================================================\n",
      "Total params: 160,033\n",
      "Trainable params: 160,033\n",
      "Non-trainable params: 0\n",
      "_________________________________________________________________\n"
     ]
    }
   ],
   "source": [
    "# put your code here\n",
    "model = Sequential()\n",
    "model.add(OneHot(VOCAB_SIZE,input_length=MAX_SEQUENCE_LENGTH))\n",
    "model.add(GlobalAveragePooling1DMasked())\n",
    "model.add(Dense(16,activation='relu'))\n",
    "model.add(Dense(1,activation='sigmoid'))\n",
    "model.summary()"
   ]
  },
  {
   "cell_type": "markdown",
   "metadata": {
    "colab_type": "text",
    "id": "_Mz96xpCgvTj"
   },
   "source": [
    "### Training the model"
   ]
  },
  {
   "cell_type": "markdown",
   "metadata": {
    "colab_type": "text",
    "id": "F3HbW_IKLqwT"
   },
   "source": [
    "To compile the model we need a loss function and an optimizer. We use binary_crossentropy loss function which is just a special case of categorical cross entropy. We also use Adam optimizer that can be used instead of the classical stochastic gradient descent procedure to update network weights iterative based in training data. You can read more about it here:\n",
    "(https://arxiv.org/abs/1412.6980v8\n",
    ")\n"
   ]
  },
  {
   "cell_type": "code",
   "execution_count": 0,
   "metadata": {
    "colab": {},
    "colab_type": "code",
    "id": "qh1PWTNMxjUw"
   },
   "outputs": [],
   "source": [
    "model.compile(optimizer='adam',\n",
    "              loss='binary_crossentropy',\n",
    "              metrics=['accuracy'])"
   ]
  },
  {
   "cell_type": "markdown",
   "metadata": {
    "colab_type": "text",
    "id": "E1jwQQqCN5Ia"
   },
   "source": [
    "When training, we want to check the accuracy of the model on data it hasn't seen before. So we create a validation set:"
   ]
  },
  {
   "cell_type": "code",
   "execution_count": 0,
   "metadata": {
    "colab": {},
    "colab_type": "code",
    "id": "f5lAqzQlxjSM"
   },
   "outputs": [],
   "source": [
    "X_val = np.array(X_train_enc[:10000])\n",
    "partial_X_train = np.array(X_train_enc[10000:])\n",
    "\n",
    "y_val = np.array(y_train[:10000])\n",
    "partial_y_train = np.array(y_train[10000:])"
   ]
  },
  {
   "cell_type": "markdown",
   "metadata": {
    "colab_type": "text",
    "id": "E8Kpo5G3OJEY"
   },
   "source": [
    "Then we start to train the model for 40 epochs in mini-batches of 512 samples and monitor the model's loss and accuracy on the validation set."
   ]
  },
  {
   "cell_type": "code",
   "execution_count": 53,
   "metadata": {
    "colab": {
     "base_uri": "https://localhost:8080/",
     "height": 1000
    },
    "colab_type": "code",
    "id": "99_z39KAxjPi",
    "outputId": "a9e1e70b-1cc7-4c46-cf59-1a3ab9f5e274"
   },
   "outputs": [
    {
     "name": "stdout",
     "output_type": "stream",
     "text": [
      "Train on 15000 samples, validate on 10000 samples\n",
      "Epoch 1/40\n",
      "15000/15000 [==============================] - 4s 251us/step - loss: 0.6926 - acc: 0.5543 - val_loss: 0.6920 - val_acc: 0.5720\n",
      "Epoch 2/40\n",
      "15000/15000 [==============================] - 3s 222us/step - loss: 0.6909 - acc: 0.6052 - val_loss: 0.6900 - val_acc: 0.6651\n",
      "Epoch 3/40\n",
      "15000/15000 [==============================] - 3s 223us/step - loss: 0.6888 - acc: 0.6694 - val_loss: 0.6879 - val_acc: 0.6486\n",
      "Epoch 4/40\n",
      "15000/15000 [==============================] - 3s 224us/step - loss: 0.6862 - acc: 0.6478 - val_loss: 0.6851 - val_acc: 0.6494\n",
      "Epoch 5/40\n",
      "15000/15000 [==============================] - 3s 225us/step - loss: 0.6832 - acc: 0.6701 - val_loss: 0.6820 - val_acc: 0.6755\n",
      "Epoch 6/40\n",
      "15000/15000 [==============================] - 3s 226us/step - loss: 0.6797 - acc: 0.6685 - val_loss: 0.6788 - val_acc: 0.6697\n",
      "Epoch 7/40\n",
      "15000/15000 [==============================] - 3s 228us/step - loss: 0.6758 - acc: 0.6808 - val_loss: 0.6748 - val_acc: 0.6675\n",
      "Epoch 8/40\n",
      "15000/15000 [==============================] - 3s 229us/step - loss: 0.6716 - acc: 0.6824 - val_loss: 0.6710 - val_acc: 0.6765\n",
      "Epoch 9/40\n",
      "15000/15000 [==============================] - 3s 229us/step - loss: 0.6671 - acc: 0.6863 - val_loss: 0.6665 - val_acc: 0.6810\n",
      "Epoch 10/40\n",
      "15000/15000 [==============================] - 3s 230us/step - loss: 0.6623 - acc: 0.6884 - val_loss: 0.6619 - val_acc: 0.6841\n",
      "Epoch 11/40\n",
      "15000/15000 [==============================] - 3s 231us/step - loss: 0.6573 - acc: 0.6894 - val_loss: 0.6571 - val_acc: 0.6823\n",
      "Epoch 12/40\n",
      "15000/15000 [==============================] - 3s 232us/step - loss: 0.6523 - acc: 0.6921 - val_loss: 0.6524 - val_acc: 0.6896\n",
      "Epoch 13/40\n",
      "15000/15000 [==============================] - 3s 229us/step - loss: 0.6472 - acc: 0.6929 - val_loss: 0.6477 - val_acc: 0.6901\n",
      "Epoch 14/40\n",
      "15000/15000 [==============================] - 3s 229us/step - loss: 0.6421 - acc: 0.6970 - val_loss: 0.6427 - val_acc: 0.6903\n",
      "Epoch 15/40\n",
      "15000/15000 [==============================] - 3s 229us/step - loss: 0.6369 - acc: 0.6977 - val_loss: 0.6379 - val_acc: 0.6913\n",
      "Epoch 16/40\n",
      "15000/15000 [==============================] - 3s 228us/step - loss: 0.6318 - acc: 0.6991 - val_loss: 0.6333 - val_acc: 0.6986\n",
      "Epoch 17/40\n",
      "15000/15000 [==============================] - 3s 227us/step - loss: 0.6267 - acc: 0.7033 - val_loss: 0.6286 - val_acc: 0.6996\n",
      "Epoch 18/40\n",
      "15000/15000 [==============================] - 3s 227us/step - loss: 0.6218 - acc: 0.7047 - val_loss: 0.6243 - val_acc: 0.7032\n",
      "Epoch 19/40\n",
      "15000/15000 [==============================] - 3s 226us/step - loss: 0.6167 - acc: 0.7068 - val_loss: 0.6191 - val_acc: 0.7009\n",
      "Epoch 20/40\n",
      "15000/15000 [==============================] - 3s 225us/step - loss: 0.6120 - acc: 0.7069 - val_loss: 0.6146 - val_acc: 0.6997\n",
      "Epoch 21/40\n",
      "15000/15000 [==============================] - 3s 224us/step - loss: 0.6072 - acc: 0.7121 - val_loss: 0.6103 - val_acc: 0.7089\n",
      "Epoch 22/40\n",
      "15000/15000 [==============================] - 3s 225us/step - loss: 0.6026 - acc: 0.7137 - val_loss: 0.6064 - val_acc: 0.7120\n",
      "Epoch 23/40\n",
      "15000/15000 [==============================] - 3s 224us/step - loss: 0.5982 - acc: 0.7171 - val_loss: 0.6017 - val_acc: 0.7127\n",
      "Epoch 24/40\n",
      "15000/15000 [==============================] - 3s 223us/step - loss: 0.5938 - acc: 0.7193 - val_loss: 0.5976 - val_acc: 0.7109\n",
      "Epoch 25/40\n",
      "15000/15000 [==============================] - 3s 224us/step - loss: 0.5894 - acc: 0.7209 - val_loss: 0.5953 - val_acc: 0.7140\n",
      "Epoch 26/40\n",
      "15000/15000 [==============================] - 3s 223us/step - loss: 0.5858 - acc: 0.7207 - val_loss: 0.5901 - val_acc: 0.7187\n",
      "Epoch 27/40\n",
      "15000/15000 [==============================] - 3s 224us/step - loss: 0.5818 - acc: 0.7249 - val_loss: 0.5877 - val_acc: 0.7180\n",
      "Epoch 28/40\n",
      "15000/15000 [==============================] - 3s 224us/step - loss: 0.5778 - acc: 0.7258 - val_loss: 0.5828 - val_acc: 0.7190\n",
      "Epoch 29/40\n",
      "15000/15000 [==============================] - 3s 224us/step - loss: 0.5743 - acc: 0.7291 - val_loss: 0.5794 - val_acc: 0.7246\n",
      "Epoch 30/40\n",
      "15000/15000 [==============================] - 3s 225us/step - loss: 0.5708 - acc: 0.7290 - val_loss: 0.5762 - val_acc: 0.7229\n",
      "Epoch 31/40\n",
      "15000/15000 [==============================] - 3s 225us/step - loss: 0.5676 - acc: 0.7313 - val_loss: 0.5733 - val_acc: 0.7222\n",
      "Epoch 32/40\n",
      "15000/15000 [==============================] - 3s 226us/step - loss: 0.5644 - acc: 0.7333 - val_loss: 0.5701 - val_acc: 0.7273\n",
      "Epoch 33/40\n",
      "15000/15000 [==============================] - 3s 226us/step - loss: 0.5612 - acc: 0.7338 - val_loss: 0.5671 - val_acc: 0.7284\n",
      "Epoch 34/40\n",
      "15000/15000 [==============================] - 3s 226us/step - loss: 0.5582 - acc: 0.7369 - val_loss: 0.5644 - val_acc: 0.7303\n",
      "Epoch 35/40\n",
      "15000/15000 [==============================] - 3s 226us/step - loss: 0.5555 - acc: 0.7377 - val_loss: 0.5618 - val_acc: 0.7306\n",
      "Epoch 36/40\n",
      "15000/15000 [==============================] - 3s 229us/step - loss: 0.5528 - acc: 0.7389 - val_loss: 0.5593 - val_acc: 0.7335\n",
      "Epoch 37/40\n",
      "15000/15000 [==============================] - 3s 228us/step - loss: 0.5501 - acc: 0.7404 - val_loss: 0.5574 - val_acc: 0.7340\n",
      "Epoch 38/40\n",
      "15000/15000 [==============================] - 3s 227us/step - loss: 0.5478 - acc: 0.7411 - val_loss: 0.5545 - val_acc: 0.7346\n",
      "Epoch 39/40\n",
      "15000/15000 [==============================] - 3s 227us/step - loss: 0.5455 - acc: 0.7426 - val_loss: 0.5524 - val_acc: 0.7372\n",
      "Epoch 40/40\n",
      "15000/15000 [==============================] - 3s 226us/step - loss: 0.5433 - acc: 0.7433 - val_loss: 0.5507 - val_acc: 0.7362\n"
     ]
    }
   ],
   "source": [
    "history = model.fit(partial_X_train,\n",
    "                    partial_y_train,\n",
    "                    epochs=40,\n",
    "                    batch_size=512,\n",
    "                    validation_data=(X_val, y_val),\n",
    "                    verbose=1)"
   ]
  },
  {
   "cell_type": "markdown",
   "metadata": {
    "colab_type": "text",
    "id": "i_9a_rybhG5J"
   },
   "source": [
    "### Evaluating the model"
   ]
  },
  {
   "cell_type": "markdown",
   "metadata": {
    "colab_type": "text",
    "id": "EYLH8kOgOo9W"
   },
   "source": [
    "To evaulate the model on test data:"
   ]
  },
  {
   "cell_type": "code",
   "execution_count": 54,
   "metadata": {
    "colab": {
     "base_uri": "https://localhost:8080/",
     "height": 36
    },
    "colab_type": "code",
    "id": "CFMt2Q7b3taP",
    "outputId": "c5443ca6-ab2e-4bb9-f573-34e73c618487"
   },
   "outputs": [
    {
     "name": "stdout",
     "output_type": "stream",
     "text": [
      "25000/25000 [==============================] - 4s 153us/step\n"
     ]
    }
   ],
   "source": [
    "results = model.evaluate(X_test_enc, y_test)"
   ]
  },
  {
   "cell_type": "code",
   "execution_count": 55,
   "metadata": {
    "colab": {
     "base_uri": "https://localhost:8080/",
     "height": 36
    },
    "colab_type": "code",
    "id": "9RrKiPHcAmQU",
    "outputId": "33bea862-cbfb-46da-d50b-31d4293dc324"
   },
   "outputs": [
    {
     "name": "stdout",
     "output_type": "stream",
     "text": [
      "[0.5500492589950562, 0.73816]\n"
     ]
    }
   ],
   "source": [
    "print(results)\n",
    "# loss, accuracay "
   ]
  },
  {
   "cell_type": "markdown",
   "metadata": {
    "colab_type": "text",
    "id": "pW7IpHxMO6qp"
   },
   "source": [
    "Our first model accuracy using one-hot vectors is \n",
    "\n",
    "\n",
    "\n"
   ]
  },
  {
   "cell_type": "markdown",
   "metadata": {
    "colab_type": "text",
    "id": "OwZk_yoWhPJB"
   },
   "source": [
    "### Plotting the accuracy graph"
   ]
  },
  {
   "cell_type": "markdown",
   "metadata": {
    "colab_type": "text",
    "id": "JIDPH1J7PMzN"
   },
   "source": [
    "To plot a graph of accuracy and loss over time we can use Matplotlib:"
   ]
  },
  {
   "cell_type": "code",
   "execution_count": 56,
   "metadata": {
    "colab": {
     "base_uri": "https://localhost:8080/",
     "height": 295
    },
    "colab_type": "code",
    "id": "LS9k2vvSAqB7",
    "outputId": "614e07d0-e840-45d4-ce19-581f7844cdb8"
   },
   "outputs": [
    {
     "data": {
      "image/png": "[encoded data removed]",
      "text/plain": [
       "<Figure size 432x288 with 1 Axes>"
      ]
     },
     "metadata": {
      "tags": []
     },
     "output_type": "display_data"
    }
   ],
   "source": [
    "import matplotlib.pyplot as plt\n",
    "\n",
    "history_dict = history.history\n",
    "\n",
    "acc = history_dict['acc']\n",
    "val_acc = history_dict['val_acc']\n",
    "loss = history_dict['loss']\n",
    "val_loss = history_dict['val_loss']\n",
    "\n",
    "epochs = range(1, len(acc) + 1)\n",
    "\n",
    "plt.plot(epochs, acc, 'bo', label='Training acc')\n",
    "plt.plot(epochs, val_acc, 'b', label='Validation acc')\n",
    "plt.title('Training and validation accuracy')\n",
    "plt.xlabel('Epochs')\n",
    "plt.ylabel('Accuracy')\n",
    "plt.legend()\n",
    "\n",
    "plt.show()"
   ]
  },
  {
   "cell_type": "code",
   "execution_count": 21,
   "metadata": {
    "colab": {
     "base_uri": "https://localhost:8080/",
     "height": 36
    },
    "colab_type": "code",
    "id": "8QCewvf_1yD0",
    "outputId": "48708c46-5f79-447a-9b03-a66e2b4ac1bb"
   },
   "outputs": [
    {
     "data": {
      "text/plain": [
       "10000"
      ]
     },
     "execution_count": 21,
     "metadata": {
      "tags": []
     },
     "output_type": "execute_result"
    }
   ],
   "source": [
    "VOCAB_SIZE"
   ]
  },
  {
   "cell_type": "markdown",
   "metadata": {
    "colab_type": "text",
    "id": "a7OwOQw4h8RX"
   },
   "source": [
    "### Neural Network model using word embeddings"
   ]
  },
  {
   "cell_type": "markdown",
   "metadata": {
    "colab_type": "text",
    "id": "l-QzOMO_P4jc"
   },
   "source": [
    "Now instead of one-hot vectors, we want to use embedding. We change our first layer in model1 to an Embedding layer. This layer takes the integer-encoded vocabulary and looks up the embedding vector for each word-index. These vectors are learned as the model trains. The vectors add a dimension to the output array. The resulting dimensions are: (batch, sequence, embedding)."
   ]
  },
  {
   "cell_type": "code",
   "execution_count": 57,
   "metadata": {
    "colab": {
     "base_uri": "https://localhost:8080/",
     "height": 1000
    },
    "colab_type": "code",
    "id": "MFrCsL-NBFVL",
    "outputId": "5863b38e-f1f9-410d-ce95-bd8bbfaef3bc"
   },
   "outputs": [
    {
     "name": "stdout",
     "output_type": "stream",
     "text": [
      "Train on 15000 samples, validate on 10000 samples\n",
      "Epoch 1/40\n",
      "15000/15000 [==============================] - 1s 38us/step - loss: 0.6921 - acc: 0.5464 - val_loss: 0.6902 - val_acc: 0.6077\n",
      "Epoch 2/40\n",
      "15000/15000 [==============================] - 0s 12us/step - loss: 0.6862 - acc: 0.6616 - val_loss: 0.6817 - val_acc: 0.6790\n",
      "Epoch 3/40\n",
      "15000/15000 [==============================] - 0s 12us/step - loss: 0.6733 - acc: 0.7391 - val_loss: 0.6654 - val_acc: 0.7475\n",
      "Epoch 4/40\n",
      "15000/15000 [==============================] - 0s 13us/step - loss: 0.6499 - acc: 0.7673 - val_loss: 0.6385 - val_acc: 0.7716\n",
      "Epoch 5/40\n",
      "15000/15000 [==============================] - 0s 13us/step - loss: 0.6151 - acc: 0.7921 - val_loss: 0.6020 - val_acc: 0.7892\n",
      "Epoch 6/40\n",
      "15000/15000 [==============================] - 0s 12us/step - loss: 0.5711 - acc: 0.8153 - val_loss: 0.5587 - val_acc: 0.7950\n",
      "Epoch 7/40\n",
      "15000/15000 [==============================] - 0s 13us/step - loss: 0.5230 - acc: 0.8319 - val_loss: 0.5145 - val_acc: 0.8221\n",
      "Epoch 8/40\n",
      "15000/15000 [==============================] - 0s 12us/step - loss: 0.4749 - acc: 0.8499 - val_loss: 0.4726 - val_acc: 0.8360\n",
      "Epoch 9/40\n",
      "15000/15000 [==============================] - 0s 12us/step - loss: 0.4305 - acc: 0.8646 - val_loss: 0.4361 - val_acc: 0.8466\n",
      "Epoch 10/40\n",
      "15000/15000 [==============================] - 0s 13us/step - loss: 0.3916 - acc: 0.8749 - val_loss: 0.4055 - val_acc: 0.8540\n",
      "Epoch 11/40\n",
      "15000/15000 [==============================] - 0s 12us/step - loss: 0.3586 - acc: 0.8848 - val_loss: 0.3807 - val_acc: 0.8612\n",
      "Epoch 12/40\n",
      "15000/15000 [==============================] - 0s 11us/step - loss: 0.3316 - acc: 0.8915 - val_loss: 0.3611 - val_acc: 0.8647\n",
      "Epoch 13/40\n",
      "15000/15000 [==============================] - 0s 12us/step - loss: 0.3087 - acc: 0.8962 - val_loss: 0.3465 - val_acc: 0.8663\n",
      "Epoch 14/40\n",
      "15000/15000 [==============================] - 0s 12us/step - loss: 0.2882 - acc: 0.9027 - val_loss: 0.3328 - val_acc: 0.8738\n",
      "Epoch 15/40\n",
      "15000/15000 [==============================] - 0s 13us/step - loss: 0.2707 - acc: 0.9076 - val_loss: 0.3225 - val_acc: 0.8753\n",
      "Epoch 16/40\n",
      "15000/15000 [==============================] - 0s 11us/step - loss: 0.2555 - acc: 0.9109 - val_loss: 0.3151 - val_acc: 0.8766\n",
      "Epoch 17/40\n",
      "15000/15000 [==============================] - 0s 11us/step - loss: 0.2413 - acc: 0.9170 - val_loss: 0.3073 - val_acc: 0.8792\n",
      "Epoch 18/40\n",
      "15000/15000 [==============================] - 0s 12us/step - loss: 0.2290 - acc: 0.9208 - val_loss: 0.3014 - val_acc: 0.8813\n",
      "Epoch 19/40\n",
      "15000/15000 [==============================] - 0s 12us/step - loss: 0.2178 - acc: 0.9253 - val_loss: 0.2970 - val_acc: 0.8821\n",
      "Epoch 20/40\n",
      "15000/15000 [==============================] - 0s 11us/step - loss: 0.2071 - acc: 0.9291 - val_loss: 0.2930 - val_acc: 0.8820\n",
      "Epoch 21/40\n",
      "15000/15000 [==============================] - 0s 12us/step - loss: 0.1974 - acc: 0.9335 - val_loss: 0.2902 - val_acc: 0.8838\n",
      "Epoch 22/40\n",
      "15000/15000 [==============================] - 0s 12us/step - loss: 0.1881 - acc: 0.9373 - val_loss: 0.2881 - val_acc: 0.8842\n",
      "Epoch 23/40\n",
      "15000/15000 [==============================] - 0s 11us/step - loss: 0.1798 - acc: 0.9415 - val_loss: 0.2864 - val_acc: 0.8844\n",
      "Epoch 24/40\n",
      "15000/15000 [==============================] - 0s 13us/step - loss: 0.1721 - acc: 0.9439 - val_loss: 0.2858 - val_acc: 0.8851\n",
      "Epoch 25/40\n",
      "15000/15000 [==============================] - 0s 13us/step - loss: 0.1646 - acc: 0.9480 - val_loss: 0.2849 - val_acc: 0.8845\n",
      "Epoch 26/40\n",
      "15000/15000 [==============================] - 0s 11us/step - loss: 0.1575 - acc: 0.9507 - val_loss: 0.2845 - val_acc: 0.8846\n",
      "Epoch 27/40\n",
      "15000/15000 [==============================] - 0s 12us/step - loss: 0.1511 - acc: 0.9533 - val_loss: 0.2849 - val_acc: 0.8847\n",
      "Epoch 28/40\n",
      "15000/15000 [==============================] - 0s 13us/step - loss: 0.1447 - acc: 0.9553 - val_loss: 0.2852 - val_acc: 0.8847\n",
      "Epoch 29/40\n",
      "15000/15000 [==============================] - 0s 13us/step - loss: 0.1392 - acc: 0.9590 - val_loss: 0.2866 - val_acc: 0.8861\n",
      "Epoch 30/40\n",
      "15000/15000 [==============================] - 0s 13us/step - loss: 0.1337 - acc: 0.9604 - val_loss: 0.2876 - val_acc: 0.8852\n",
      "Epoch 31/40\n",
      "15000/15000 [==============================] - 0s 13us/step - loss: 0.1280 - acc: 0.9630 - val_loss: 0.2910 - val_acc: 0.8844\n",
      "Epoch 32/40\n",
      "15000/15000 [==============================] - 0s 13us/step - loss: 0.1230 - acc: 0.9655 - val_loss: 0.2910 - val_acc: 0.8863\n",
      "Epoch 33/40\n",
      "15000/15000 [==============================] - 0s 13us/step - loss: 0.1184 - acc: 0.9664 - val_loss: 0.2926 - val_acc: 0.8848\n",
      "Epoch 34/40\n",
      "15000/15000 [==============================] - 0s 12us/step - loss: 0.1150 - acc: 0.9677 - val_loss: 0.2954 - val_acc: 0.8844\n",
      "Epoch 35/40\n",
      "15000/15000 [==============================] - 0s 14us/step - loss: 0.1096 - acc: 0.9702 - val_loss: 0.2981 - val_acc: 0.8841\n",
      "Epoch 36/40\n",
      "15000/15000 [==============================] - 0s 13us/step - loss: 0.1051 - acc: 0.9719 - val_loss: 0.3006 - val_acc: 0.8839\n",
      "Epoch 37/40\n",
      "15000/15000 [==============================] - 0s 13us/step - loss: 0.1015 - acc: 0.9739 - val_loss: 0.3034 - val_acc: 0.8841\n",
      "Epoch 38/40\n",
      "15000/15000 [==============================] - 0s 12us/step - loss: 0.0972 - acc: 0.9752 - val_loss: 0.3072 - val_acc: 0.8828\n",
      "Epoch 39/40\n",
      "15000/15000 [==============================] - 0s 14us/step - loss: 0.0936 - acc: 0.9766 - val_loss: 0.3092 - val_acc: 0.8827\n",
      "Epoch 40/40\n",
      "15000/15000 [==============================] - 0s 15us/step - loss: 0.0901 - acc: 0.9779 - val_loss: 0.3135 - val_acc: 0.8822\n",
      "25000/25000 [==============================] - 1s 41us/step\n",
      "[0.3335925381374359, 0.87232]\n"
     ]
    }
   ],
   "source": [
    "VOCAB_SIZE= 10000\n",
    "model2 = Sequential()\n",
    "model2.add(Embedding(VOCAB_SIZE,16,input_length=MAX_SEQUENCE_LENGTH))\n",
    "model2.add(GlobalAveragePooling1DMasked())\n",
    "model2.add(Dense(16,activation='relu'))\n",
    "model2.add(Dense(1,activation='sigmoid'))\n",
    "# put the code here\n",
    "\n",
    "model2.compile(optimizer='adam',\n",
    "              loss='binary_crossentropy',\n",
    "              metrics=['accuracy'])\n",
    "\n",
    "X_val = np.array(X_train_enc[:10000])\n",
    "partial_X_train = np.array(X_train_enc[10000:])\n",
    "\n",
    "history2 = model2.fit(partial_X_train,\n",
    "                    partial_y_train,\n",
    "                    epochs=40,\n",
    "                    batch_size=512,\n",
    "                    validation_data=(X_val, y_val),\n",
    "                    verbose=1)\n",
    "\n",
    "results = model2.evaluate(X_test_enc, y_test)\n",
    "print(results)"
   ]
  },
  {
   "cell_type": "code",
   "execution_count": 58,
   "metadata": {
    "colab": {
     "base_uri": "https://localhost:8080/",
     "height": 36
    },
    "colab_type": "code",
    "id": "I4zIPJDcTPq3",
    "outputId": "82531398-bdbf-42a3-ab74-cdc4dcd79095"
   },
   "outputs": [
    {
     "name": "stdout",
     "output_type": "stream",
     "text": [
      "25000/25000 [==============================] - 1s 42us/step\n"
     ]
    }
   ],
   "source": [
    "results = model2.evaluate(X_test_enc, y_test)"
   ]
  },
  {
   "cell_type": "code",
   "execution_count": 59,
   "metadata": {
    "colab": {
     "base_uri": "https://localhost:8080/",
     "height": 36
    },
    "colab_type": "code",
    "id": "waS96edDTRyL",
    "outputId": "9098cb45-1f8c-45b5-c15d-7c197c3e5534"
   },
   "outputs": [
    {
     "name": "stdout",
     "output_type": "stream",
     "text": [
      "[0.3335925381374359, 0.87232]\n"
     ]
    }
   ],
   "source": [
    "print (results)"
   ]
  },
  {
   "cell_type": "code",
   "execution_count": 60,
   "metadata": {
    "colab": {
     "base_uri": "https://localhost:8080/",
     "height": 295
    },
    "colab_type": "code",
    "id": "XB7aveVzTC5a",
    "outputId": "f6670546-5db6-4e80-c719-f8025c9cf965"
   },
   "outputs": [
    {
     "data": {
      "image/png": "[encoded data removed]",
      "text/plain": [
       "<Figure size 432x288 with 1 Axes>"
      ]
     },
     "metadata": {
      "tags": []
     },
     "output_type": "display_data"
    }
   ],
   "source": [
    "import matplotlib.pyplot as plt\n",
    "\n",
    "history_dict = history2.history\n",
    "\n",
    "acc = history_dict['acc']\n",
    "val_acc = history_dict['val_acc']\n",
    "loss = history_dict['loss']\n",
    "val_loss = history_dict['val_loss']\n",
    "\n",
    "epochs = range(1, len(acc) + 1)\n",
    "\n",
    "plt.plot(epochs, acc, 'bo', label='Training acc')\n",
    "plt.plot(epochs, val_acc, 'b', label='Validation acc')\n",
    "plt.title('Training and validation accuracy')\n",
    "plt.xlabel('Epochs')\n",
    "plt.ylabel('Accuracy')\n",
    "plt.legend()\n",
    "\n",
    "plt.show()"
   ]
  },
  {
   "cell_type": "markdown",
   "metadata": {
    "colab_type": "text",
    "id": "7FBpTc_rXGvQ"
   },
   "source": [
    "The accuracy of model2 is 87%. Using Embedding layer instead of one-hot layer improved the performance."
   ]
  },
  {
   "cell_type": "markdown",
   "metadata": {
    "colab_type": "text",
    "id": "--020hfG6rN2"
   },
   "source": [
    "### Using pre-trained word embeddings"
   ]
  },
  {
   "cell_type": "markdown",
   "metadata": {
    "colab_type": "text",
    "id": "J4gBeOyi4gkM"
   },
   "source": [
    "The Embedding layer can be used to load a pre-trained word embedding model. We are going to use GloVe embeddings, which you can read about it here (https://nlp.stanford.edu/projects/glove/). GloVe stands for \"Global Vectors for Word Representation\". It's a somewhat popular embedding technique based on factorizing a matrix of word co-occurence statistics. You can download GloVe and we can seed the Keras Embedding layer with weights from the pre-trained embedding for the words in your dataset.\n",
    "First, we need to read GloVe and map words to GloVe:\n"
   ]
  },
  {
   "cell_type": "code",
   "execution_count": 61,
   "metadata": {
    "colab": {
     "base_uri": "https://localhost:8080/",
     "height": 289
    },
    "colab_type": "code",
    "id": "mOsgGRXg77cq",
    "outputId": "9370b45b-11ef-4393-e374-fcb6af457de8"
   },
   "outputs": [
    {
     "name": "stdout",
     "output_type": "stream",
     "text": [
      "Collecting chakin\n",
      "  Downloading https://files.pythonhosted.org/packages/ca/3f/ca2f63451c0ab47970a6ab1d39d96118e70b6e73125529cea767c31368a3/chakin-0.0.8-py3-none-any.whl\n",
      "Requirement already satisfied: progressbar2>=3.20.0 in /usr/local/lib/python3.6/dist-packages (from chakin) (3.38.0)\n",
      "Requirement already satisfied: six>=1.10.0 in /usr/local/lib/python3.6/dist-packages (from chakin) (1.12.0)\n",
      "Requirement already satisfied: pandas>=0.20.1 in /usr/local/lib/python3.6/dist-packages (from chakin) (0.25.3)\n",
      "Requirement already satisfied: python-utils>=2.3.0 in /usr/local/lib/python3.6/dist-packages (from progressbar2>=3.20.0->chakin) (2.3.0)\n",
      "Requirement already satisfied: pytz>=2017.2 in /usr/local/lib/python3.6/dist-packages (from pandas>=0.20.1->chakin) (2018.9)\n",
      "Requirement already satisfied: numpy>=1.13.3 in /usr/local/lib/python3.6/dist-packages (from pandas>=0.20.1->chakin) (1.17.5)\n",
      "Requirement already satisfied: python-dateutil>=2.6.1 in /usr/local/lib/python3.6/dist-packages (from pandas>=0.20.1->chakin) (2.6.1)\n",
      "Installing collected packages: chakin\n",
      "Successfully installed chakin-0.0.8\n"
     ]
    },
    {
     "name": "stderr",
     "output_type": "stream",
     "text": [
      "Test: 100% ||                                      | Time:  0:06:27   2.1 MiB/s\n"
     ]
    },
    {
     "data": {
      "text/plain": [
       "'./glove.6B.zip'"
      ]
     },
     "execution_count": 61,
     "metadata": {
      "tags": []
     },
     "output_type": "execute_result"
    }
   ],
   "source": [
    "!pip install chakin\n",
    "import chakin\n",
    "chakin.download(number=12, save_dir='./')"
   ]
  },
  {
   "cell_type": "code",
   "execution_count": 0,
   "metadata": {
    "colab": {},
    "colab_type": "code",
    "id": "f_PypdqG9Iis"
   },
   "outputs": [],
   "source": [
    "def readGloveFile(gloveFile):\n",
    "    with open(gloveFile, 'r') as f:\n",
    "        wordToGlove = {}  \n",
    "        wordToIndex = {}  \n",
    "        indexToWord = {}  \n",
    "\n",
    "        for line in f:\n",
    "            record = line.strip().split()\n",
    "            token = record[0] \n",
    "            wordToGlove[token] = np.array(record[1:], dtype=np.float64) \n",
    "            \n",
    "        tokens = sorted(wordToGlove.keys())\n",
    "        for idx, tok in enumerate(tokens):\n",
    "            kerasIdx = idx + 1  \n",
    "            wordToIndex[tok] = kerasIdx \n",
    "            indexToWord[kerasIdx] = tok \n",
    "\n",
    "    return wordToIndex, indexToWord, wordToGlove"
   ]
  },
  {
   "cell_type": "markdown",
   "metadata": {
    "colab_type": "text",
    "id": "ZcIZ3dq59bCh"
   },
   "source": [
    "Now, we create our pre-trained Embedding layer:"
   ]
  },
  {
   "cell_type": "code",
   "execution_count": 0,
   "metadata": {
    "colab": {},
    "colab_type": "code",
    "id": "gembn7VM3ex8"
   },
   "outputs": [],
   "source": [
    "def createPretrainedEmbeddingLayer(wordToGlove, wordToIndex, isTrainable):\n",
    "    vocabLen = len(wordToIndex) + 1  \n",
    "    embDim = next(iter(wordToGlove.values())).shape[0]  \n",
    "   \n",
    "    embeddingMatrix = np.zeros((vocabLen, embDim))  \n",
    "    for word, index in wordToIndex.items():\n",
    "        embeddingMatrix[index, :] = wordToGlove[word] \n",
    "\n",
    "    embeddingLayer = Embedding(vocabLen, embDim, embeddings_initializer=Constant(embeddingMatrix), trainable=isTrainable)\n",
    "    return embeddingLayer"
   ]
  },
  {
   "cell_type": "markdown",
   "metadata": {
    "colab_type": "text",
    "id": "HGxciLK4-xOr"
   },
   "source": [
    "We freeze the weights. To create the model:"
   ]
  },
  {
   "cell_type": "code",
   "execution_count": 0,
   "metadata": {
    "colab": {},
    "colab_type": "code",
    "id": "PZCPUM0W_Drc"
   },
   "outputs": [],
   "source": [
    "# put the code here\n",
    "import os\n",
    "# os.system(\"unzip './glove.6B.zip' \")\n",
    "from tensorflow.contrib.keras.api.keras.initializers import Constant\n",
    "wordToIndex, indexToWord, wordToGlove = readGloveFile('./glove.6B.300d.txt')\n",
    "embeddingLayer = createPretrainedEmbeddingLayer(wordToGlove, wordToIndex, isTrainable=True)\n",
    "# os.system(\"rm './glove.6B.zip'\")"
   ]
  },
  {
   "cell_type": "markdown",
   "metadata": {
    "colab_type": "text",
    "id": "M-bZ5SCHiIMl"
   },
   "source": [
    "### Adding another hidden layer to the network"
   ]
  },
  {
   "cell_type": "markdown",
   "metadata": {
    "colab_type": "text",
    "id": "ZbZ6UBDfbjea"
   },
   "source": [
    "In model3, we only add another dense layer to see if that improves the performance."
   ]
  },
  {
   "cell_type": "code",
   "execution_count": 0,
   "metadata": {
    "colab": {},
    "colab_type": "code",
    "id": "Vw0le1YjDdCa"
   },
   "outputs": [],
   "source": [
    "# put your code here\n",
    "model3 = Sequential()\n",
    "# model3.add(Embedding(VOCAB_SIZE,16,input_length=MAX_SEQUENCE_LENGTH))\n",
    "model3.add(embeddingLayer)\n",
    "model3.add(GlobalAveragePooling1DMasked())\n",
    "model3.add(Dense(16,activation='relu'))\n",
    "model3.add(Dense(1,activation='sigmoid'))"
   ]
  },
  {
   "cell_type": "code",
   "execution_count": 71,
   "metadata": {
    "colab": {
     "base_uri": "https://localhost:8080/",
     "height": 1000
    },
    "colab_type": "code",
    "id": "TgiSSc-dI_05",
    "outputId": "6d86dbd1-7a3c-4ce1-ddfc-7f64e418f5e6"
   },
   "outputs": [
    {
     "name": "stderr",
     "output_type": "stream",
     "text": [
      "/usr/local/lib/python3.6/dist-packages/tensorflow_core/python/framework/indexed_slices.py:421: UserWarning: Converting sparse IndexedSlices to a dense Tensor with 120000300 elements. This may consume a large amount of memory.\n",
      "  num_elements)\n"
     ]
    },
    {
     "name": "stdout",
     "output_type": "stream",
     "text": [
      "Train on 15000 samples, validate on 10000 samples\n",
      "Epoch 1/40\n",
      "15000/15000 [==============================] - 8s 541us/step - loss: 0.6855 - acc: 0.5761 - val_loss: 0.6744 - val_acc: 0.6283\n",
      "Epoch 2/40\n",
      "15000/15000 [==============================] - 3s 190us/step - loss: 0.6570 - acc: 0.6768 - val_loss: 0.6393 - val_acc: 0.6912\n",
      "Epoch 3/40\n",
      "15000/15000 [==============================] - 3s 191us/step - loss: 0.6083 - acc: 0.7225 - val_loss: 0.5818 - val_acc: 0.7416\n",
      "Epoch 4/40\n",
      "15000/15000 [==============================] - 3s 191us/step - loss: 0.5346 - acc: 0.7811 - val_loss: 0.5042 - val_acc: 0.8000\n",
      "Epoch 5/40\n",
      "15000/15000 [==============================] - 3s 191us/step - loss: 0.4516 - acc: 0.8307 - val_loss: 0.4328 - val_acc: 0.8351\n",
      "Epoch 6/40\n",
      "15000/15000 [==============================] - 3s 190us/step - loss: 0.3803 - acc: 0.8596 - val_loss: 0.3821 - val_acc: 0.8518\n",
      "Epoch 7/40\n",
      "15000/15000 [==============================] - 3s 191us/step - loss: 0.3276 - acc: 0.8797 - val_loss: 0.3475 - val_acc: 0.8646\n",
      "Epoch 8/40\n",
      "15000/15000 [==============================] - 3s 191us/step - loss: 0.2900 - acc: 0.8914 - val_loss: 0.3274 - val_acc: 0.8708\n",
      "Epoch 9/40\n",
      "15000/15000 [==============================] - 3s 190us/step - loss: 0.2585 - acc: 0.9060 - val_loss: 0.3109 - val_acc: 0.8749\n",
      "Epoch 10/40\n",
      "15000/15000 [==============================] - 3s 191us/step - loss: 0.2336 - acc: 0.9145 - val_loss: 0.3013 - val_acc: 0.8783\n",
      "Epoch 11/40\n",
      "15000/15000 [==============================] - 3s 189us/step - loss: 0.2128 - acc: 0.9244 - val_loss: 0.2958 - val_acc: 0.8798\n",
      "Epoch 12/40\n",
      "15000/15000 [==============================] - 3s 191us/step - loss: 0.1933 - acc: 0.9322 - val_loss: 0.2905 - val_acc: 0.8839\n",
      "Epoch 13/40\n",
      "15000/15000 [==============================] - 3s 193us/step - loss: 0.1768 - acc: 0.9399 - val_loss: 0.2892 - val_acc: 0.8856\n",
      "Epoch 14/40\n",
      "15000/15000 [==============================] - 3s 192us/step - loss: 0.1624 - acc: 0.9468 - val_loss: 0.2964 - val_acc: 0.8790\n",
      "Epoch 15/40\n",
      "15000/15000 [==============================] - 3s 192us/step - loss: 0.1505 - acc: 0.9517 - val_loss: 0.2936 - val_acc: 0.8841\n",
      "Epoch 16/40\n",
      "15000/15000 [==============================] - 3s 192us/step - loss: 0.1378 - acc: 0.9577 - val_loss: 0.2936 - val_acc: 0.8850\n",
      "Epoch 17/40\n",
      "15000/15000 [==============================] - 3s 192us/step - loss: 0.1266 - acc: 0.9624 - val_loss: 0.3019 - val_acc: 0.8823\n",
      "Epoch 18/40\n",
      "15000/15000 [==============================] - 3s 191us/step - loss: 0.1197 - acc: 0.9642 - val_loss: 0.3030 - val_acc: 0.8831\n",
      "Epoch 19/40\n",
      "15000/15000 [==============================] - 3s 191us/step - loss: 0.1080 - acc: 0.9695 - val_loss: 0.3090 - val_acc: 0.8824\n",
      "Epoch 20/40\n",
      "15000/15000 [==============================] - 3s 193us/step - loss: 0.1003 - acc: 0.9716 - val_loss: 0.3177 - val_acc: 0.8791\n",
      "Epoch 21/40\n",
      "15000/15000 [==============================] - 3s 191us/step - loss: 0.0931 - acc: 0.9754 - val_loss: 0.3210 - val_acc: 0.8812\n",
      "Epoch 22/40\n",
      "15000/15000 [==============================] - 3s 191us/step - loss: 0.0855 - acc: 0.9779 - val_loss: 0.3289 - val_acc: 0.8806\n",
      "Epoch 23/40\n",
      "15000/15000 [==============================] - 3s 191us/step - loss: 0.0794 - acc: 0.9805 - val_loss: 0.3392 - val_acc: 0.8797\n",
      "Epoch 24/40\n",
      "15000/15000 [==============================] - 3s 191us/step - loss: 0.0742 - acc: 0.9826 - val_loss: 0.3454 - val_acc: 0.8774\n",
      "Epoch 25/40\n",
      "15000/15000 [==============================] - 3s 192us/step - loss: 0.0678 - acc: 0.9849 - val_loss: 0.3580 - val_acc: 0.8774\n",
      "Epoch 26/40\n",
      "15000/15000 [==============================] - 3s 194us/step - loss: 0.0624 - acc: 0.9863 - val_loss: 0.3666 - val_acc: 0.8762\n",
      "Epoch 27/40\n",
      "15000/15000 [==============================] - 3s 194us/step - loss: 0.0571 - acc: 0.9884 - val_loss: 0.3798 - val_acc: 0.8738\n",
      "Epoch 28/40\n",
      "15000/15000 [==============================] - 3s 193us/step - loss: 0.0521 - acc: 0.9898 - val_loss: 0.3892 - val_acc: 0.8744\n",
      "Epoch 29/40\n",
      "15000/15000 [==============================] - 3s 194us/step - loss: 0.0483 - acc: 0.9913 - val_loss: 0.4015 - val_acc: 0.8729\n",
      "Epoch 30/40\n",
      "15000/15000 [==============================] - 3s 192us/step - loss: 0.0446 - acc: 0.9921 - val_loss: 0.4141 - val_acc: 0.8726\n",
      "Epoch 31/40\n",
      "15000/15000 [==============================] - 3s 192us/step - loss: 0.0411 - acc: 0.9939 - val_loss: 0.4259 - val_acc: 0.8724\n",
      "Epoch 32/40\n",
      "15000/15000 [==============================] - 3s 193us/step - loss: 0.0382 - acc: 0.9944 - val_loss: 0.4373 - val_acc: 0.8708\n",
      "Epoch 33/40\n",
      "15000/15000 [==============================] - 3s 194us/step - loss: 0.0354 - acc: 0.9947 - val_loss: 0.4496 - val_acc: 0.8702\n",
      "Epoch 34/40\n",
      "15000/15000 [==============================] - 3s 196us/step - loss: 0.0327 - acc: 0.9955 - val_loss: 0.4658 - val_acc: 0.8677\n",
      "Epoch 35/40\n",
      "15000/15000 [==============================] - 3s 193us/step - loss: 0.0302 - acc: 0.9965 - val_loss: 0.4737 - val_acc: 0.8693\n",
      "Epoch 36/40\n",
      "15000/15000 [==============================] - 3s 195us/step - loss: 0.0274 - acc: 0.9966 - val_loss: 0.4803 - val_acc: 0.8683\n",
      "Epoch 37/40\n",
      "15000/15000 [==============================] - 3s 192us/step - loss: 0.0248 - acc: 0.9971 - val_loss: 0.4934 - val_acc: 0.8681\n",
      "Epoch 38/40\n",
      "15000/15000 [==============================] - 3s 192us/step - loss: 0.0234 - acc: 0.9973 - val_loss: 0.5048 - val_acc: 0.8674\n",
      "Epoch 39/40\n",
      "15000/15000 [==============================] - 3s 194us/step - loss: 0.0217 - acc: 0.9982 - val_loss: 0.5146 - val_acc: 0.8653\n",
      "Epoch 40/40\n",
      "15000/15000 [==============================] - 3s 195us/step - loss: 0.0197 - acc: 0.9983 - val_loss: 0.5243 - val_acc: 0.8652\n",
      "25000/25000 [==============================] - 1s 42us/step\n",
      "[0.5604358990383148, 0.8528]\n"
     ]
    }
   ],
   "source": [
    "model3.compile(optimizer='adam',\n",
    "              loss='binary_crossentropy',\n",
    "              metrics=['accuracy'])\n",
    "\n",
    "X_val = np.array(X_train_enc[:10000])\n",
    "partial_X_train = np.array(X_train_enc[10000:])\n",
    "\n",
    "history3 = model3.fit(partial_X_train,\n",
    "                    partial_y_train,\n",
    "                    epochs=40,\n",
    "                    batch_size=512,\n",
    "                    validation_data=(X_val, y_val),\n",
    "                    verbose=1)\n",
    "\n",
    "results = model3.evaluate(X_test_enc, y_test)\n",
    "print(results)"
   ]
  },
  {
   "cell_type": "code",
   "execution_count": 72,
   "metadata": {
    "colab": {
     "base_uri": "https://localhost:8080/",
     "height": 56
    },
    "colab_type": "code",
    "id": "2vSN29uCKQ_L",
    "outputId": "561d94aa-8c29-46c8-b315-92f36450beb3"
   },
   "outputs": [
    {
     "name": "stdout",
     "output_type": "stream",
     "text": [
      "25000/25000 [==============================] - 1s 41us/step\n",
      "[0.5604358990383148, 0.8528]\n"
     ]
    }
   ],
   "source": [
    "results = model3.evaluate(X_test_enc, y_test)\n",
    "print(results)"
   ]
  },
  {
   "cell_type": "code",
   "execution_count": 73,
   "metadata": {
    "colab": {
     "base_uri": "https://localhost:8080/",
     "height": 295
    },
    "colab_type": "code",
    "id": "QtsdVeW7UgCu",
    "outputId": "b37ee091-3a01-431c-cbbe-0a8a59ebc791"
   },
   "outputs": [
    {
     "data": {
      "image/png": "[encoded data removed]",
      "text/plain": [
       "<Figure size 432x288 with 1 Axes>"
      ]
     },
     "metadata": {
      "tags": []
     },
     "output_type": "display_data"
    }
   ],
   "source": [
    "import matplotlib.pyplot as plt\n",
    "\n",
    "history_dict = history3.history\n",
    "\n",
    "acc = history_dict['acc']\n",
    "val_acc = history_dict['val_acc']\n",
    "loss = history_dict['loss']\n",
    "val_loss = history_dict['val_loss']\n",
    "\n",
    "epochs = range(1, len(acc) + 1)\n",
    "\n",
    "plt.plot(epochs, acc, 'bo', label='Training acc')\n",
    "plt.plot(epochs, val_acc, 'b', label='Validation acc')\n",
    "plt.title('Training and validation accuracy')\n",
    "plt.xlabel('Epochs')\n",
    "plt.ylabel('Accuracy')\n",
    "plt.legend()\n",
    "\n",
    "plt.show()"
   ]
  },
  {
   "cell_type": "markdown",
   "metadata": {
    "colab_type": "text",
    "id": "Kx--Ytk3ZbLo"
   },
   "source": [
    "The accuracy of model3 with an additional layer is 85%. Adding more layers can help you to extract more features. But we can do that upto a certain extent. After some point, instead of extracting features, we tend to overfit the data. Overfitting can lead to errors in some or the other form like false positives. It is not easy to choose the number of units in a hidden layer or the number of hidden layers in a neural network. For many applications, one hidden layer is enough. As a general rule, the number of units in that hidden layer is between the number of inputs and the number of outputs.\n",
    " The best way to decide on the number of units and hidden layers is to try various parameters. Train several neural networks with different numbers of hidden layers and neurons, and monitor the performance of them. You will have to experiment using a series of different architectures. \n",
    "\n",
    "\n",
    "\n"
   ]
  },
  {
   "cell_type": "markdown",
   "metadata": {
    "colab_type": "text",
    "id": "gn2GSV4ioyO2"
   },
   "source": [
    "\n",
    "\n",
    "---\n",
    "\n"
   ]
  },
  {
   "cell_type": "code",
   "execution_count": 0,
   "metadata": {
    "colab": {},
    "colab_type": "code",
    "id": "XYC6DykEox2w"
   },
   "outputs": [],
   "source": []
  },
  {
   "cell_type": "markdown",
   "metadata": {
    "colab_type": "text",
    "id": "GsCJ01StlgCx"
   },
   "source": [
    "This tutorial is substantially based on this document:\n",
    "https://www.tensorflow.org/tutorials/keras/basic_text_classification\n",
    "\n",
    "To read more about Sequential APIs you can go to: https://keras.io/getting-started/sequential-model-guide/\n",
    "\n",
    "The one-hot word vector layer is taken from:\n",
    "https://fdalvi.github.io/blog/2018-04-07-keras-sequential-onehot/\n"
   ]
  },
  {
   "cell_type": "code",
   "execution_count": 0,
   "metadata": {
    "colab": {},
    "colab_type": "code",
    "id": "jL0UovfaE9GE"
   },
   "outputs": [],
   "source": []
  }
 ],
 "metadata": {
  "accelerator": "GPU",
  "colab": {
   "collapsed_sections": [],
   "name": "lab4_text_classification.ipynb",
   "provenance": []
  },
  "kernelspec": {
   "display_name": "Python 3",
   "language": "python",
   "name": "python3"
  },
  "language_info": {
   "codemirror_mode": {
    "name": "ipython",
    "version": 3
   },
   "file_extension": ".py",
   "mimetype": "text/x-python",
   "name": "python",
   "nbconvert_exporter": "python",
   "pygments_lexer": "ipython3",
   "version": "3.6.8"
  }
 },
 "nbformat": 4,
 "nbformat_minor": 1
}
