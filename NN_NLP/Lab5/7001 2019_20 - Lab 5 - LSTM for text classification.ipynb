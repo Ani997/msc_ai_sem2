{
  "nbformat": 4,
  "nbformat_minor": 0,
  "metadata": {
    "kernelspec": {
      "name": "python3",
      "display_name": "Python 3"
    },
    "language_info": {
      "codemirror_mode": {
        "name": "ipython",
        "version": 3
      },
      "file_extension": ".py",
      "mimetype": "text/x-python",
      "name": "python",
      "nbconvert_exporter": "python",
      "pygments_lexer": "ipython3",
      "version": "3.6.8"
    },
    "colab": {
      "name": "7001 2019_20 - Lab 5 - LSTM for text classification.ipynb",
      "provenance": [],
      "collapsed_sections": []
    },
    "accelerator": "GPU"
  },
  "cells": [
    {
      "cell_type": "code",
      "metadata": {
        "id": "DtsARztQ5WdD",
        "colab_type": "code",
        "colab": {}
      },
      "source": [
        "import keras\n",
        "import numpy as np\n",
        "from keras.models import Sequential\n",
        "from keras.layers import Embedding, LSTM, Dense, Dropout, Bidirectional\n",
        "imdb = keras.datasets.imdb"
      ],
      "execution_count": 0,
      "outputs": []
    },
    {
      "cell_type": "code",
      "metadata": {
        "id": "si6nGAEU5WdT",
        "colab_type": "code",
        "colab": {}
      },
      "source": [
        "VOCAB_SIZE = 10000"
      ],
      "execution_count": 0,
      "outputs": []
    },
    {
      "cell_type": "code",
      "metadata": {
        "id": "n3tfEa1A5Wdh",
        "colab_type": "code",
        "colab": {}
      },
      "source": [
        "INDEX_FROM = 3 #EDITED\n",
        "(train_data,train_labels),(test_data,test_labels) = imdb.load_data(num_words=VOCAB_SIZE,index_from=INDEX_FROM)"
      ],
      "execution_count": 0,
      "outputs": []
    },
    {
      "cell_type": "code",
      "metadata": {
        "id": "3plXd5e55Wdq",
        "colab_type": "code",
        "outputId": "2aa3e9f4-c49b-4f52-b919-19863e6d6617",
        "colab": {
          "base_uri": "https://localhost:8080/",
          "height": 52
        }
      },
      "source": [
        "print('\\n Sample label:', test_labels[1])"
      ],
      "execution_count": 0,
      "outputs": [
        {
          "output_type": "stream",
          "text": [
            "\n",
            " Sample label: 1\n"
          ],
          "name": "stdout"
        }
      ]
    },
    {
      "cell_type": "code",
      "metadata": {
        "id": "Z96pVtr_5Wd0",
        "colab_type": "code",
        "outputId": "d032d15d-cac3-468e-9f78-0b20edbcf953",
        "colab": {
          "base_uri": "https://localhost:8080/",
          "height": 54
        }
      },
      "source": [
        "print('Sample review:', train_data[0])"
      ],
      "execution_count": 0,
      "outputs": [
        {
          "output_type": "stream",
          "text": [
            "Sample review: [1, 14, 22, 16, 43, 530, 973, 1622, 1385, 65, 458, 4468, 66, 3941, 4, 173, 36, 256, 5, 25, 100, 43, 838, 112, 50, 670, 2, 9, 35, 480, 284, 5, 150, 4, 172, 112, 167, 2, 336, 385, 39, 4, 172, 4536, 1111, 17, 546, 38, 13, 447, 4, 192, 50, 16, 6, 147, 2025, 19, 14, 22, 4, 1920, 4613, 469, 4, 22, 71, 87, 12, 16, 43, 530, 38, 76, 15, 13, 1247, 4, 22, 17, 515, 17, 12, 16, 626, 18, 2, 5, 62, 386, 12, 8, 316, 8, 106, 5, 4, 2223, 5244, 16, 480, 66, 3785, 33, 4, 130, 12, 16, 38, 619, 5, 25, 124, 51, 36, 135, 48, 25, 1415, 33, 6, 22, 12, 215, 28, 77, 52, 5, 14, 407, 16, 82, 2, 8, 4, 107, 117, 5952, 15, 256, 4, 2, 7, 3766, 5, 723, 36, 71, 43, 530, 476, 26, 400, 317, 46, 7, 4, 2, 1029, 13, 104, 88, 4, 381, 15, 297, 98, 32, 2071, 56, 26, 141, 6, 194, 7486, 18, 4, 226, 22, 21, 134, 476, 26, 480, 5, 144, 30, 5535, 18, 51, 36, 28, 224, 92, 25, 104, 4, 226, 65, 16, 38, 1334, 88, 12, 16, 283, 5, 16, 4472, 113, 103, 32, 15, 16, 5345, 19, 178, 32]\n"
          ],
          "name": "stdout"
        }
      ]
    },
    {
      "cell_type": "code",
      "metadata": {
        "id": "zC3JUG7j5Wd-",
        "colab_type": "code",
        "colab": {}
      },
      "source": [
        "from keras.preprocessing.sequence import pad_sequences\n",
        "MAXIMUM_LENGTH = 500\n",
        "preprocessed_train_data = pad_sequences(train_data,maxlen=MAXIMUM_LENGTH)\n",
        "processed_test_data = pad_sequences(test_data,maxlen=MAXIMUM_LENGTH)"
      ],
      "execution_count": 0,
      "outputs": []
    },
    {
      "cell_type": "code",
      "metadata": {
        "id": "nD6ke2vO5WeF",
        "colab_type": "code",
        "outputId": "7e61d9d7-8ffd-4a49-f928-89fc2423d2ac",
        "colab": {
          "base_uri": "https://localhost:8080/",
          "height": 52
        }
      },
      "source": [
        "print('Length of sample train_data before preprocessing:', len(train_data[1]), type(train_data[1]))\n",
        "print('Length of sample train_data after preprocessing:', len(preprocessed_train_data[0]), type(preprocessed_train_data[1]))"
      ],
      "execution_count": 0,
      "outputs": [
        {
          "output_type": "stream",
          "text": [
            "Length of sample train_data before preprocessing: 189 <class 'list'>\n",
            "Length of sample train_data after preprocessing: 500 <class 'numpy.ndarray'>\n"
          ],
          "name": "stdout"
        }
      ]
    },
    {
      "cell_type": "code",
      "metadata": {
        "id": "cSpkYzUO5WeV",
        "colab_type": "code",
        "outputId": "8b743d98-926b-4831-d4e6-8dfd81e68108",
        "colab": {
          "base_uri": "https://localhost:8080/",
          "height": 243
        }
      },
      "source": [
        "model = Sequential()\n",
        "EMBED_SIZE = 100\n",
        "# model.add()\n",
        "model.add(Embedding(VOCAB_SIZE,EMBED_SIZE,input_length=MAXIMUM_LENGTH))\n",
        "model.add(LSTM(100, activation='tanh'))\n",
        "model.add(Dense(1,activation='sigmoid',input_shape=(1,)))\n",
        "model.compile(loss='binary_crossentropy',optimizer='adam',metrics=['accuracy'])"
      ],
      "execution_count": 0,
      "outputs": [
        {
          "output_type": "stream",
          "text": [
            "WARNING:tensorflow:From /usr/local/lib/python3.6/dist-packages/keras/backend/tensorflow_backend.py:66: The name tf.get_default_graph is deprecated. Please use tf.compat.v1.get_default_graph instead.\n",
            "\n",
            "WARNING:tensorflow:From /usr/local/lib/python3.6/dist-packages/keras/backend/tensorflow_backend.py:541: The name tf.placeholder is deprecated. Please use tf.compat.v1.placeholder instead.\n",
            "\n",
            "WARNING:tensorflow:From /usr/local/lib/python3.6/dist-packages/keras/backend/tensorflow_backend.py:4432: The name tf.random_uniform is deprecated. Please use tf.random.uniform instead.\n",
            "\n",
            "WARNING:tensorflow:From /usr/local/lib/python3.6/dist-packages/keras/optimizers.py:793: The name tf.train.Optimizer is deprecated. Please use tf.compat.v1.train.Optimizer instead.\n",
            "\n",
            "WARNING:tensorflow:From /usr/local/lib/python3.6/dist-packages/keras/backend/tensorflow_backend.py:3657: The name tf.log is deprecated. Please use tf.math.log instead.\n",
            "\n",
            "WARNING:tensorflow:From /usr/local/lib/python3.6/dist-packages/tensorflow_core/python/ops/nn_impl.py:183: where (from tensorflow.python.ops.array_ops) is deprecated and will be removed in a future version.\n",
            "Instructions for updating:\n",
            "Use tf.where in 2.0, which has the same broadcast rule as np.where\n"
          ],
          "name": "stdout"
        }
      ]
    },
    {
      "cell_type": "code",
      "metadata": {
        "id": "i7wCzJeb5Wec",
        "colab_type": "code",
        "outputId": "0090cacf-8af7-4078-8e0d-cd9500b82544",
        "colab": {
          "base_uri": "https://localhost:8080/",
          "height": 278
        }
      },
      "source": [
        "print(model.summary())"
      ],
      "execution_count": 0,
      "outputs": [
        {
          "output_type": "stream",
          "text": [
            "Model: \"sequential_1\"\n",
            "_________________________________________________________________\n",
            "Layer (type)                 Output Shape              Param #   \n",
            "=================================================================\n",
            "embedding_1 (Embedding)      (None, 500, 100)          1000000   \n",
            "_________________________________________________________________\n",
            "lstm_1 (LSTM)                (None, 100)               80400     \n",
            "_________________________________________________________________\n",
            "dense_1 (Dense)              (None, 1)                 101       \n",
            "=================================================================\n",
            "Total params: 1,080,501\n",
            "Trainable params: 1,080,501\n",
            "Non-trainable params: 0\n",
            "_________________________________________________________________\n",
            "None\n"
          ],
          "name": "stdout"
        }
      ]
    },
    {
      "cell_type": "code",
      "metadata": {
        "id": "pni-qxi55Wek",
        "colab_type": "code",
        "outputId": "a6e5abf1-6038-4b7b-876d-684cb9684444",
        "colab": {
          "base_uri": "https://localhost:8080/",
          "height": 561
        }
      },
      "source": [
        "# from keras.utils import plot_mode\n",
        "from IPython.display import SVG\n",
        "from keras.utils import vis_utils\n",
        "SVG(vis_utils.model_to_dot(model, show_shapes=True, show_layer_names=True).create(prog='dot', format='svg'))"
      ],
      "execution_count": 0,
      "outputs": [
        {
          "output_type": "execute_result",
          "data": {
            "text/plain": [
              "<IPython.core.display.SVG object>"
            ],
            "image/svg+xml": "<svg height=\"405pt\" viewBox=\"0.00 0.00 358.00 304.00\" width=\"477pt\" xmlns=\"http://www.w3.org/2000/svg\" xmlns:xlink=\"http://www.w3.org/1999/xlink\">\n<g class=\"graph\" id=\"graph0\" transform=\"scale(1.3333 1.3333) rotate(0) translate(4 300)\">\n<title>G</title>\n<polygon fill=\"#ffffff\" points=\"-4,4 -4,-300 354,-300 354,4 -4,4\" stroke=\"transparent\"/>\n<!-- 139815204313632 -->\n<g class=\"node\" id=\"node1\">\n<title>139815204313632</title>\n<polygon fill=\"none\" points=\"0,-249.5 0,-295.5 350,-295.5 350,-249.5 0,-249.5\" stroke=\"#000000\"/>\n<text fill=\"#000000\" font-family=\"Times,serif\" font-size=\"14.00\" text-anchor=\"middle\" x=\"102.5\" y=\"-268.8\">embedding_1_input: InputLayer</text>\n<polyline fill=\"none\" points=\"205,-249.5 205,-295.5 \" stroke=\"#000000\"/>\n<text fill=\"#000000\" font-family=\"Times,serif\" font-size=\"14.00\" text-anchor=\"middle\" x=\"234\" y=\"-280.3\">input:</text>\n<polyline fill=\"none\" points=\"205,-272.5 263,-272.5 \" stroke=\"#000000\"/>\n<text fill=\"#000000\" font-family=\"Times,serif\" font-size=\"14.00\" text-anchor=\"middle\" x=\"234\" y=\"-257.3\">output:</text>\n<polyline fill=\"none\" points=\"263,-249.5 263,-295.5 \" stroke=\"#000000\"/>\n<text fill=\"#000000\" font-family=\"Times,serif\" font-size=\"14.00\" text-anchor=\"middle\" x=\"306.5\" y=\"-280.3\">(None, 500)</text>\n<polyline fill=\"none\" points=\"263,-272.5 350,-272.5 \" stroke=\"#000000\"/>\n<text fill=\"#000000\" font-family=\"Times,serif\" font-size=\"14.00\" text-anchor=\"middle\" x=\"306.5\" y=\"-257.3\">(None, 500)</text>\n</g>\n<!-- 139815436441920 -->\n<g class=\"node\" id=\"node2\">\n<title>139815436441920</title>\n<polygon fill=\"none\" points=\"2,-166.5 2,-212.5 348,-212.5 348,-166.5 2,-166.5\" stroke=\"#000000\"/>\n<text fill=\"#000000\" font-family=\"Times,serif\" font-size=\"14.00\" text-anchor=\"middle\" x=\"87.5\" y=\"-185.8\">embedding_1: Embedding</text>\n<polyline fill=\"none\" points=\"173,-166.5 173,-212.5 \" stroke=\"#000000\"/>\n<text fill=\"#000000\" font-family=\"Times,serif\" font-size=\"14.00\" text-anchor=\"middle\" x=\"202\" y=\"-197.3\">input:</text>\n<polyline fill=\"none\" points=\"173,-189.5 231,-189.5 \" stroke=\"#000000\"/>\n<text fill=\"#000000\" font-family=\"Times,serif\" font-size=\"14.00\" text-anchor=\"middle\" x=\"202\" y=\"-174.3\">output:</text>\n<polyline fill=\"none\" points=\"231,-166.5 231,-212.5 \" stroke=\"#000000\"/>\n<text fill=\"#000000\" font-family=\"Times,serif\" font-size=\"14.00\" text-anchor=\"middle\" x=\"289.5\" y=\"-197.3\">(None, 500)</text>\n<polyline fill=\"none\" points=\"231,-189.5 348,-189.5 \" stroke=\"#000000\"/>\n<text fill=\"#000000\" font-family=\"Times,serif\" font-size=\"14.00\" text-anchor=\"middle\" x=\"289.5\" y=\"-174.3\">(None, 500, 100)</text>\n</g>\n<!-- 139815204313632&#45;&gt;139815436441920 -->\n<g class=\"edge\" id=\"edge1\">\n<title>139815204313632-&gt;139815436441920</title>\n<path d=\"M175,-249.3799C175,-241.1745 175,-231.7679 175,-222.8786\" fill=\"none\" stroke=\"#000000\"/>\n<polygon fill=\"#000000\" points=\"178.5001,-222.784 175,-212.784 171.5001,-222.784 178.5001,-222.784\" stroke=\"#000000\"/>\n</g>\n<!-- 139815204313016 -->\n<g class=\"node\" id=\"node3\">\n<title>139815204313016</title>\n<polygon fill=\"none\" points=\"36.5,-83.5 36.5,-129.5 313.5,-129.5 313.5,-83.5 36.5,-83.5\" stroke=\"#000000\"/>\n<text fill=\"#000000\" font-family=\"Times,serif\" font-size=\"14.00\" text-anchor=\"middle\" x=\"87.5\" y=\"-102.8\">lstm_1: LSTM</text>\n<polyline fill=\"none\" points=\"138.5,-83.5 138.5,-129.5 \" stroke=\"#000000\"/>\n<text fill=\"#000000\" font-family=\"Times,serif\" font-size=\"14.00\" text-anchor=\"middle\" x=\"167.5\" y=\"-114.3\">input:</text>\n<polyline fill=\"none\" points=\"138.5,-106.5 196.5,-106.5 \" stroke=\"#000000\"/>\n<text fill=\"#000000\" font-family=\"Times,serif\" font-size=\"14.00\" text-anchor=\"middle\" x=\"167.5\" y=\"-91.3\">output:</text>\n<polyline fill=\"none\" points=\"196.5,-83.5 196.5,-129.5 \" stroke=\"#000000\"/>\n<text fill=\"#000000\" font-family=\"Times,serif\" font-size=\"14.00\" text-anchor=\"middle\" x=\"255\" y=\"-114.3\">(None, 500, 100)</text>\n<polyline fill=\"none\" points=\"196.5,-106.5 313.5,-106.5 \" stroke=\"#000000\"/>\n<text fill=\"#000000\" font-family=\"Times,serif\" font-size=\"14.00\" text-anchor=\"middle\" x=\"255\" y=\"-91.3\">(None, 100)</text>\n</g>\n<!-- 139815436441920&#45;&gt;139815204313016 -->\n<g class=\"edge\" id=\"edge2\">\n<title>139815436441920-&gt;139815204313016</title>\n<path d=\"M175,-166.3799C175,-158.1745 175,-148.7679 175,-139.8786\" fill=\"none\" stroke=\"#000000\"/>\n<polygon fill=\"#000000\" points=\"178.5001,-139.784 175,-129.784 171.5001,-139.784 178.5001,-139.784\" stroke=\"#000000\"/>\n</g>\n<!-- 139815204313968 -->\n<g class=\"node\" id=\"node4\">\n<title>139815204313968</title>\n<polygon fill=\"none\" points=\"49,-.5 49,-46.5 301,-46.5 301,-.5 49,-.5\" stroke=\"#000000\"/>\n<text fill=\"#000000\" font-family=\"Times,serif\" font-size=\"14.00\" text-anchor=\"middle\" x=\"102.5\" y=\"-19.8\">dense_1: Dense</text>\n<polyline fill=\"none\" points=\"156,-.5 156,-46.5 \" stroke=\"#000000\"/>\n<text fill=\"#000000\" font-family=\"Times,serif\" font-size=\"14.00\" text-anchor=\"middle\" x=\"185\" y=\"-31.3\">input:</text>\n<polyline fill=\"none\" points=\"156,-23.5 214,-23.5 \" stroke=\"#000000\"/>\n<text fill=\"#000000\" font-family=\"Times,serif\" font-size=\"14.00\" text-anchor=\"middle\" x=\"185\" y=\"-8.3\">output:</text>\n<polyline fill=\"none\" points=\"214,-.5 214,-46.5 \" stroke=\"#000000\"/>\n<text fill=\"#000000\" font-family=\"Times,serif\" font-size=\"14.00\" text-anchor=\"middle\" x=\"257.5\" y=\"-31.3\">(None, 100)</text>\n<polyline fill=\"none\" points=\"214,-23.5 301,-23.5 \" stroke=\"#000000\"/>\n<text fill=\"#000000\" font-family=\"Times,serif\" font-size=\"14.00\" text-anchor=\"middle\" x=\"257.5\" y=\"-8.3\">(None, 1)</text>\n</g>\n<!-- 139815204313016&#45;&gt;139815204313968 -->\n<g class=\"edge\" id=\"edge3\">\n<title>139815204313016-&gt;139815204313968</title>\n<path d=\"M175,-83.3799C175,-75.1745 175,-65.7679 175,-56.8786\" fill=\"none\" stroke=\"#000000\"/>\n<polygon fill=\"#000000\" points=\"178.5001,-56.784 175,-46.784 171.5001,-56.784 178.5001,-56.784\" stroke=\"#000000\"/>\n</g>\n</g>\n</svg>"
          },
          "metadata": {
            "tags": []
          },
          "execution_count": 11
        }
      ]
    },
    {
      "cell_type": "code",
      "metadata": {
        "id": "7Y9pPxKF5Weu",
        "colab_type": "code",
        "outputId": "e8e8602d-465e-4c69-c9de-75879b49d1cc",
        "colab": {
          "base_uri": "https://localhost:8080/",
          "height": 416
        }
      },
      "source": [
        "history = model.fit(preprocessed_train_data,\n",
        "                    train_labels,\n",
        "                    epochs=3,\n",
        "                    batch_size=512,\n",
        "                    validation_split=0.08,\n",
        "                    verbose=1)"
      ],
      "execution_count": 0,
      "outputs": [
        {
          "output_type": "stream",
          "text": [
            "WARNING:tensorflow:From /usr/local/lib/python3.6/dist-packages/keras/backend/tensorflow_backend.py:1033: The name tf.assign_add is deprecated. Please use tf.compat.v1.assign_add instead.\n",
            "\n",
            "WARNING:tensorflow:From /usr/local/lib/python3.6/dist-packages/keras/backend/tensorflow_backend.py:1020: The name tf.assign is deprecated. Please use tf.compat.v1.assign instead.\n",
            "\n",
            "WARNING:tensorflow:From /usr/local/lib/python3.6/dist-packages/keras/backend/tensorflow_backend.py:3005: The name tf.Session is deprecated. Please use tf.compat.v1.Session instead.\n",
            "\n",
            "Train on 23000 samples, validate on 2000 samples\n",
            "Epoch 1/3\n",
            "WARNING:tensorflow:From /usr/local/lib/python3.6/dist-packages/keras/backend/tensorflow_backend.py:190: The name tf.get_default_session is deprecated. Please use tf.compat.v1.get_default_session instead.\n",
            "\n",
            "WARNING:tensorflow:From /usr/local/lib/python3.6/dist-packages/keras/backend/tensorflow_backend.py:197: The name tf.ConfigProto is deprecated. Please use tf.compat.v1.ConfigProto instead.\n",
            "\n",
            "WARNING:tensorflow:From /usr/local/lib/python3.6/dist-packages/keras/backend/tensorflow_backend.py:207: The name tf.global_variables is deprecated. Please use tf.compat.v1.global_variables instead.\n",
            "\n",
            "WARNING:tensorflow:From /usr/local/lib/python3.6/dist-packages/keras/backend/tensorflow_backend.py:216: The name tf.is_variable_initialized is deprecated. Please use tf.compat.v1.is_variable_initialized instead.\n",
            "\n",
            "WARNING:tensorflow:From /usr/local/lib/python3.6/dist-packages/keras/backend/tensorflow_backend.py:223: The name tf.variables_initializer is deprecated. Please use tf.compat.v1.variables_initializer instead.\n",
            "\n",
            "23000/23000 [==============================] - 44s 2ms/step - loss: 0.6694 - acc: 0.6613 - val_loss: 0.6239 - val_acc: 0.7195\n",
            "Epoch 2/3\n",
            "23000/23000 [==============================] - 43s 2ms/step - loss: 0.4548 - acc: 0.8093 - val_loss: 0.3876 - val_acc: 0.8395\n",
            "Epoch 3/3\n",
            "23000/23000 [==============================] - 43s 2ms/step - loss: 0.2847 - acc: 0.8890 - val_loss: 0.3232 - val_acc: 0.8750\n"
          ],
          "name": "stdout"
        }
      ]
    },
    {
      "cell_type": "code",
      "metadata": {
        "id": "W1Atw2sb6BSA",
        "colab_type": "code",
        "outputId": "423dc1ec-6d9b-4aa1-afe0-0a03dfc97506",
        "colab": {
          "base_uri": "https://localhost:8080/",
          "height": 34
        }
      },
      "source": [
        "results = model.evaluate(processed_test_data, test_labels)"
      ],
      "execution_count": 0,
      "outputs": [
        {
          "output_type": "stream",
          "text": [
            "25000/25000 [==============================] - 282s 11ms/step\n"
          ],
          "name": "stdout"
        }
      ]
    },
    {
      "cell_type": "code",
      "metadata": {
        "id": "2jqV0YY36SJw",
        "colab_type": "code",
        "outputId": "7f50cf14-6bb3-4f94-b6ec-6e6f6180cfdf",
        "colab": {
          "base_uri": "https://localhost:8080/",
          "height": 34
        }
      },
      "source": [
        "print(results)\n",
        "# loss, accuracay "
      ],
      "execution_count": 0,
      "outputs": [
        {
          "output_type": "stream",
          "text": [
            "[0.3415896670007706, 0.86064]\n"
          ],
          "name": "stdout"
        }
      ]
    },
    {
      "cell_type": "code",
      "metadata": {
        "id": "KMCmT9fL6YJ0",
        "colab_type": "code",
        "outputId": "78aa840c-5907-4eec-9455-1f6b6a8dc889",
        "colab": {
          "base_uri": "https://localhost:8080/",
          "height": 295
        }
      },
      "source": [
        "import matplotlib.pyplot as plt\n",
        "\n",
        "history_dict = history.history\n",
        "\n",
        "acc = history_dict['acc']\n",
        "val_acc = history_dict['val_acc']\n",
        "loss = history_dict['loss']\n",
        "val_loss = history_dict['val_loss']\n",
        "\n",
        "epochs = range(1, len(acc) + 1)\n",
        "\n",
        "plt.plot(epochs, acc, 'bo', label='Training acc')\n",
        "plt.plot(epochs, val_acc, 'b', label='Validation acc')\n",
        "plt.title('Training and validation accuracy')\n",
        "plt.xlabel('Epochs')\n",
        "plt.ylabel('Accuracy')\n",
        "plt.legend()\n",
        "\n",
        "plt.show()"
      ],
      "execution_count": 0,
      "outputs": [
        {
          "output_type": "display_data",
          "data": {
            "image/png": "[encoded data removed]",
            "text/plain": [
              "<Figure size 432x288 with 1 Axes>"
            ]
          },
          "metadata": {
            "tags": []
          }
        }
      ]
    },
    {
      "cell_type": "code",
      "metadata": {
        "id": "s7kPZR4pZ4QH",
        "colab_type": "code",
        "colab": {}
      },
      "source": [
        "embed_layer = model.get_layer('embedding_1').get_weights()[0]"
      ],
      "execution_count": 0,
      "outputs": []
    },
    {
      "cell_type": "code",
      "metadata": {
        "id": "yi1fVTjUaEb1",
        "colab_type": "code",
        "outputId": "6c57b1eb-cb92-4a1b-a3b3-91391ae5069e",
        "colab": {
          "base_uri": "https://localhost:8080/",
          "height": 34
        }
      },
      "source": [
        "print('Shape of word_embeddings:', embed_layer.shape)"
      ],
      "execution_count": 0,
      "outputs": [
        {
          "output_type": "stream",
          "text": [
            "Shape of word_embeddings: (10000, 100)\n"
          ],
          "name": "stdout"
        }
      ]
    },
    {
      "cell_type": "code",
      "metadata": {
        "id": "NlHkYIbK5We1",
        "colab_type": "code",
        "colab": {}
      },
      "source": [
        "word2idx = imdb.get_word_index()\n",
        "word2idx = {k:(v+INDEX_FROM) for k,v in word2idx.items() if v < 9998}\n",
        "word2idx[\"<PAD>\"] = 0\n",
        "word2idx[\"<START>\"] = 1\n",
        "word2idx[\"<UNK>\"] = 2\n",
        "word2idx[\"<OTH>\"] = 3"
      ],
      "execution_count": 0,
      "outputs": []
    },
    {
      "cell_type": "code",
      "metadata": {
        "id": "kp3DupnDapI9",
        "colab_type": "code",
        "outputId": "d64c8169-8407-46d6-fcd6-7e41b63f3b46",
        "colab": {
          "base_uri": "https://localhost:8080/",
          "height": 54
        }
      },
      "source": [
        "idx2word = {v: k for k,v in word2idx.items()}\n",
        "print(' '.join(idx2word[idx] for idx in train_data[0]))"
      ],
      "execution_count": 0,
      "outputs": [
        {
          "output_type": "stream",
          "text": [
            "<START> this film was just brilliant casting location scenery story direction everyone's really suited the part they played and you could just imagine being there robert <UNK> is an amazing actor and now the same being director <UNK> father came from the same scottish island as myself so i loved the fact there was a real connection with this film the witty remarks throughout the film were great it was just brilliant so much that i bought the film as soon as it was released for <UNK> and would recommend it to everyone to watch and the fly fishing was amazing really cried at the end it was so sad and you know what they say if you cry at a film it must have been good and this definitely was also <UNK> to the two little boy's that played the <UNK> of norman and paul they were just brilliant children are often left out of the <UNK> list i think because the stars that play them all grown up are such a big profile for the whole film but these children are amazing and should be praised for what they have done don't you think the whole story was so lovely because it was true and was someone's life after all that was shared with us all\n"
          ],
          "name": "stdout"
        }
      ]
    },
    {
      "cell_type": "code",
      "metadata": {
        "id": "V4Oc-dc5dUvD",
        "colab_type": "code",
        "outputId": "12e7bc97-223a-4a09-8bd7-bff8eeece919",
        "colab": {
          "base_uri": "https://localhost:8080/",
          "height": 34
        }
      },
      "source": [
        "idx2word[4]"
      ],
      "execution_count": 0,
      "outputs": [
        {
          "output_type": "execute_result",
          "data": {
            "text/plain": [
              "'the'"
            ]
          },
          "metadata": {
            "tags": []
          },
          "execution_count": 39
        }
      ]
    },
    {
      "cell_type": "code",
      "metadata": {
        "id": "255vfMaNbl-H",
        "colab_type": "code",
        "outputId": "d2d4cbbc-28cb-4785-f772-e71bb1d4e052",
        "colab": {
          "base_uri": "https://localhost:8080/",
          "height": 54
        }
      },
      "source": [
        "# view the corresponding data\n",
        "print(train_data[0])"
      ],
      "execution_count": 0,
      "outputs": [
        {
          "output_type": "stream",
          "text": [
            "[1, 14, 22, 16, 43, 530, 973, 1622, 1385, 65, 458, 4468, 66, 3941, 4, 173, 36, 256, 5, 25, 100, 43, 838, 112, 50, 670, 2, 9, 35, 480, 284, 5, 150, 4, 172, 112, 167, 2, 336, 385, 39, 4, 172, 4536, 1111, 17, 546, 38, 13, 447, 4, 192, 50, 16, 6, 147, 2025, 19, 14, 22, 4, 1920, 4613, 469, 4, 22, 71, 87, 12, 16, 43, 530, 38, 76, 15, 13, 1247, 4, 22, 17, 515, 17, 12, 16, 626, 18, 2, 5, 62, 386, 12, 8, 316, 8, 106, 5, 4, 2223, 5244, 16, 480, 66, 3785, 33, 4, 130, 12, 16, 38, 619, 5, 25, 124, 51, 36, 135, 48, 25, 1415, 33, 6, 22, 12, 215, 28, 77, 52, 5, 14, 407, 16, 82, 2, 8, 4, 107, 117, 5952, 15, 256, 4, 2, 7, 3766, 5, 723, 36, 71, 43, 530, 476, 26, 400, 317, 46, 7, 4, 2, 1029, 13, 104, 88, 4, 381, 15, 297, 98, 32, 2071, 56, 26, 141, 6, 194, 7486, 18, 4, 226, 22, 21, 134, 476, 26, 480, 5, 144, 30, 5535, 18, 51, 36, 28, 224, 92, 25, 104, 4, 226, 65, 16, 38, 1334, 88, 12, 16, 283, 5, 16, 4472, 113, 103, 32, 15, 16, 5345, 19, 178, 32]\n"
          ],
          "name": "stdout"
        }
      ]
    },
    {
      "cell_type": "code",
      "metadata": {
        "id": "VDXaoSQ9bkjb",
        "colab_type": "code",
        "outputId": "2932087c-4a9d-4753-f70c-0e507003bdbd",
        "colab": {
          "base_uri": "https://localhost:8080/",
          "height": 412
        }
      },
      "source": [
        "import pandas as pd\n",
        "pd.DataFrame(embed_layer, index=list(idx2word.values())).head(10)"
      ],
      "execution_count": 0,
      "outputs": [
        {
          "output_type": "execute_result",
          "data": {
            "text/html": [
              "<div>\n",
              "<style scoped>\n",
              "    .dataframe tbody tr th:only-of-type {\n",
              "        vertical-align: middle;\n",
              "    }\n",
              "\n",
              "    .dataframe tbody tr th {\n",
              "        vertical-align: top;\n",
              "    }\n",
              "\n",
              "    .dataframe thead th {\n",
              "        text-align: right;\n",
              "    }\n",
              "</style>\n",
              "<table border=\"1\" class=\"dataframe\">\n",
              "  <thead>\n",
              "    <tr style=\"text-align: right;\">\n",
              "      <th></th>\n",
              "      <th>0</th>\n",
              "      <th>1</th>\n",
              "      <th>2</th>\n",
              "      <th>3</th>\n",
              "      <th>4</th>\n",
              "      <th>5</th>\n",
              "      <th>6</th>\n",
              "      <th>7</th>\n",
              "      <th>8</th>\n",
              "      <th>9</th>\n",
              "      <th>10</th>\n",
              "      <th>11</th>\n",
              "      <th>12</th>\n",
              "      <th>13</th>\n",
              "      <th>14</th>\n",
              "      <th>15</th>\n",
              "      <th>16</th>\n",
              "      <th>17</th>\n",
              "      <th>18</th>\n",
              "      <th>19</th>\n",
              "      <th>20</th>\n",
              "      <th>21</th>\n",
              "      <th>22</th>\n",
              "      <th>23</th>\n",
              "      <th>24</th>\n",
              "      <th>25</th>\n",
              "      <th>26</th>\n",
              "      <th>27</th>\n",
              "      <th>28</th>\n",
              "      <th>29</th>\n",
              "      <th>30</th>\n",
              "      <th>31</th>\n",
              "      <th>32</th>\n",
              "      <th>33</th>\n",
              "      <th>34</th>\n",
              "      <th>35</th>\n",
              "      <th>36</th>\n",
              "      <th>37</th>\n",
              "      <th>38</th>\n",
              "      <th>39</th>\n",
              "      <th>...</th>\n",
              "      <th>60</th>\n",
              "      <th>61</th>\n",
              "      <th>62</th>\n",
              "      <th>63</th>\n",
              "      <th>64</th>\n",
              "      <th>65</th>\n",
              "      <th>66</th>\n",
              "      <th>67</th>\n",
              "      <th>68</th>\n",
              "      <th>69</th>\n",
              "      <th>70</th>\n",
              "      <th>71</th>\n",
              "      <th>72</th>\n",
              "      <th>73</th>\n",
              "      <th>74</th>\n",
              "      <th>75</th>\n",
              "      <th>76</th>\n",
              "      <th>77</th>\n",
              "      <th>78</th>\n",
              "      <th>79</th>\n",
              "      <th>80</th>\n",
              "      <th>81</th>\n",
              "      <th>82</th>\n",
              "      <th>83</th>\n",
              "      <th>84</th>\n",
              "      <th>85</th>\n",
              "      <th>86</th>\n",
              "      <th>87</th>\n",
              "      <th>88</th>\n",
              "      <th>89</th>\n",
              "      <th>90</th>\n",
              "      <th>91</th>\n",
              "      <th>92</th>\n",
              "      <th>93</th>\n",
              "      <th>94</th>\n",
              "      <th>95</th>\n",
              "      <th>96</th>\n",
              "      <th>97</th>\n",
              "      <th>98</th>\n",
              "      <th>99</th>\n",
              "    </tr>\n",
              "  </thead>\n",
              "  <tbody>\n",
              "    <tr>\n",
              "      <th>woods</th>\n",
              "      <td>0.041655</td>\n",
              "      <td>-0.004162</td>\n",
              "      <td>0.036416</td>\n",
              "      <td>-0.007769</td>\n",
              "      <td>0.016623</td>\n",
              "      <td>0.022054</td>\n",
              "      <td>0.026495</td>\n",
              "      <td>0.014764</td>\n",
              "      <td>0.036713</td>\n",
              "      <td>-0.009974</td>\n",
              "      <td>-0.001728</td>\n",
              "      <td>-0.021609</td>\n",
              "      <td>0.034813</td>\n",
              "      <td>-0.049870</td>\n",
              "      <td>-0.011548</td>\n",
              "      <td>-0.036677</td>\n",
              "      <td>0.016397</td>\n",
              "      <td>-0.005125</td>\n",
              "      <td>-0.018056</td>\n",
              "      <td>-0.049129</td>\n",
              "      <td>0.047824</td>\n",
              "      <td>0.046190</td>\n",
              "      <td>0.033937</td>\n",
              "      <td>0.039844</td>\n",
              "      <td>0.028316</td>\n",
              "      <td>0.039815</td>\n",
              "      <td>-0.028185</td>\n",
              "      <td>-0.044396</td>\n",
              "      <td>0.021601</td>\n",
              "      <td>0.011067</td>\n",
              "      <td>0.023245</td>\n",
              "      <td>0.000964</td>\n",
              "      <td>-0.024844</td>\n",
              "      <td>0.015299</td>\n",
              "      <td>-0.022730</td>\n",
              "      <td>-0.085381</td>\n",
              "      <td>-0.050432</td>\n",
              "      <td>-0.014188</td>\n",
              "      <td>0.026361</td>\n",
              "      <td>-0.034851</td>\n",
              "      <td>...</td>\n",
              "      <td>-0.017855</td>\n",
              "      <td>-0.027354</td>\n",
              "      <td>0.025516</td>\n",
              "      <td>-0.035381</td>\n",
              "      <td>0.039882</td>\n",
              "      <td>-0.050876</td>\n",
              "      <td>-0.013886</td>\n",
              "      <td>-0.017816</td>\n",
              "      <td>0.008162</td>\n",
              "      <td>-0.010261</td>\n",
              "      <td>-0.025404</td>\n",
              "      <td>-0.042995</td>\n",
              "      <td>0.025539</td>\n",
              "      <td>-0.027961</td>\n",
              "      <td>0.026688</td>\n",
              "      <td>0.015168</td>\n",
              "      <td>0.007497</td>\n",
              "      <td>0.010241</td>\n",
              "      <td>-0.013562</td>\n",
              "      <td>-0.039898</td>\n",
              "      <td>-0.011123</td>\n",
              "      <td>0.005600</td>\n",
              "      <td>0.021640</td>\n",
              "      <td>0.026836</td>\n",
              "      <td>-0.031714</td>\n",
              "      <td>-0.003157</td>\n",
              "      <td>-0.003340</td>\n",
              "      <td>0.020189</td>\n",
              "      <td>-0.029569</td>\n",
              "      <td>-0.009565</td>\n",
              "      <td>-0.034549</td>\n",
              "      <td>0.009877</td>\n",
              "      <td>-0.007378</td>\n",
              "      <td>0.049964</td>\n",
              "      <td>0.025319</td>\n",
              "      <td>0.042448</td>\n",
              "      <td>0.002942</td>\n",
              "      <td>-0.052202</td>\n",
              "      <td>-0.008577</td>\n",
              "      <td>0.025173</td>\n",
              "    </tr>\n",
              "    <tr>\n",
              "      <th>hanging</th>\n",
              "      <td>-0.082972</td>\n",
              "      <td>-0.016331</td>\n",
              "      <td>0.105816</td>\n",
              "      <td>-0.033665</td>\n",
              "      <td>0.091190</td>\n",
              "      <td>0.104275</td>\n",
              "      <td>0.079178</td>\n",
              "      <td>0.061903</td>\n",
              "      <td>0.009602</td>\n",
              "      <td>-0.069079</td>\n",
              "      <td>0.014809</td>\n",
              "      <td>0.011380</td>\n",
              "      <td>0.064047</td>\n",
              "      <td>-0.044347</td>\n",
              "      <td>0.099338</td>\n",
              "      <td>0.075399</td>\n",
              "      <td>0.073625</td>\n",
              "      <td>-0.088891</td>\n",
              "      <td>0.108794</td>\n",
              "      <td>-0.082586</td>\n",
              "      <td>0.089626</td>\n",
              "      <td>-0.100837</td>\n",
              "      <td>-0.074302</td>\n",
              "      <td>0.037501</td>\n",
              "      <td>0.071762</td>\n",
              "      <td>-0.046468</td>\n",
              "      <td>0.011749</td>\n",
              "      <td>0.046723</td>\n",
              "      <td>0.054461</td>\n",
              "      <td>0.012830</td>\n",
              "      <td>0.108793</td>\n",
              "      <td>-0.102824</td>\n",
              "      <td>-0.103073</td>\n",
              "      <td>0.074117</td>\n",
              "      <td>0.102274</td>\n",
              "      <td>-0.100209</td>\n",
              "      <td>-0.006605</td>\n",
              "      <td>-0.102692</td>\n",
              "      <td>0.098304</td>\n",
              "      <td>-0.029560</td>\n",
              "      <td>...</td>\n",
              "      <td>-0.086856</td>\n",
              "      <td>0.053244</td>\n",
              "      <td>-0.085389</td>\n",
              "      <td>-0.051728</td>\n",
              "      <td>0.063859</td>\n",
              "      <td>0.046240</td>\n",
              "      <td>0.060594</td>\n",
              "      <td>-0.078094</td>\n",
              "      <td>-0.061810</td>\n",
              "      <td>-0.085487</td>\n",
              "      <td>-0.055433</td>\n",
              "      <td>0.028659</td>\n",
              "      <td>-0.043460</td>\n",
              "      <td>-0.059477</td>\n",
              "      <td>0.016672</td>\n",
              "      <td>-0.024160</td>\n",
              "      <td>-0.105245</td>\n",
              "      <td>0.089619</td>\n",
              "      <td>-0.013868</td>\n",
              "      <td>0.092630</td>\n",
              "      <td>0.050470</td>\n",
              "      <td>-0.077958</td>\n",
              "      <td>0.040463</td>\n",
              "      <td>0.067583</td>\n",
              "      <td>0.089672</td>\n",
              "      <td>-0.096181</td>\n",
              "      <td>-0.095689</td>\n",
              "      <td>-0.021505</td>\n",
              "      <td>-0.028151</td>\n",
              "      <td>-0.075566</td>\n",
              "      <td>-0.050387</td>\n",
              "      <td>-0.085399</td>\n",
              "      <td>0.037631</td>\n",
              "      <td>-0.074461</td>\n",
              "      <td>0.105975</td>\n",
              "      <td>0.098305</td>\n",
              "      <td>0.059620</td>\n",
              "      <td>0.033133</td>\n",
              "      <td>0.102802</td>\n",
              "      <td>-0.060900</td>\n",
              "    </tr>\n",
              "    <tr>\n",
              "      <th>woody</th>\n",
              "      <td>0.013392</td>\n",
              "      <td>-0.020555</td>\n",
              "      <td>-0.027443</td>\n",
              "      <td>0.027033</td>\n",
              "      <td>0.020650</td>\n",
              "      <td>-0.026620</td>\n",
              "      <td>-0.027263</td>\n",
              "      <td>-0.010436</td>\n",
              "      <td>-0.037825</td>\n",
              "      <td>0.014783</td>\n",
              "      <td>0.011266</td>\n",
              "      <td>0.011168</td>\n",
              "      <td>0.027373</td>\n",
              "      <td>-0.040281</td>\n",
              "      <td>-0.030182</td>\n",
              "      <td>0.001671</td>\n",
              "      <td>-0.036832</td>\n",
              "      <td>0.017497</td>\n",
              "      <td>-0.030775</td>\n",
              "      <td>-0.036609</td>\n",
              "      <td>-0.033408</td>\n",
              "      <td>0.011125</td>\n",
              "      <td>-0.029316</td>\n",
              "      <td>-0.040488</td>\n",
              "      <td>0.005400</td>\n",
              "      <td>0.049605</td>\n",
              "      <td>-0.016306</td>\n",
              "      <td>0.002617</td>\n",
              "      <td>0.016905</td>\n",
              "      <td>0.000711</td>\n",
              "      <td>-0.026655</td>\n",
              "      <td>-0.016161</td>\n",
              "      <td>0.022682</td>\n",
              "      <td>-0.026333</td>\n",
              "      <td>-0.021972</td>\n",
              "      <td>0.001108</td>\n",
              "      <td>-0.022658</td>\n",
              "      <td>-0.031877</td>\n",
              "      <td>-0.040647</td>\n",
              "      <td>-0.045587</td>\n",
              "      <td>...</td>\n",
              "      <td>0.043409</td>\n",
              "      <td>0.036542</td>\n",
              "      <td>0.016200</td>\n",
              "      <td>0.047142</td>\n",
              "      <td>0.038302</td>\n",
              "      <td>0.013677</td>\n",
              "      <td>0.031543</td>\n",
              "      <td>0.003324</td>\n",
              "      <td>-0.000153</td>\n",
              "      <td>0.015907</td>\n",
              "      <td>-0.015930</td>\n",
              "      <td>0.027380</td>\n",
              "      <td>0.007782</td>\n",
              "      <td>0.044739</td>\n",
              "      <td>-0.038391</td>\n",
              "      <td>0.026142</td>\n",
              "      <td>-0.026112</td>\n",
              "      <td>0.043953</td>\n",
              "      <td>-0.014712</td>\n",
              "      <td>0.025748</td>\n",
              "      <td>-0.007161</td>\n",
              "      <td>-0.010433</td>\n",
              "      <td>0.001630</td>\n",
              "      <td>0.031250</td>\n",
              "      <td>0.017887</td>\n",
              "      <td>0.047298</td>\n",
              "      <td>0.044818</td>\n",
              "      <td>-0.022556</td>\n",
              "      <td>0.055360</td>\n",
              "      <td>-0.029445</td>\n",
              "      <td>0.035271</td>\n",
              "      <td>-0.032640</td>\n",
              "      <td>0.001784</td>\n",
              "      <td>0.018452</td>\n",
              "      <td>-0.022201</td>\n",
              "      <td>0.019902</td>\n",
              "      <td>0.033573</td>\n",
              "      <td>-0.017589</td>\n",
              "      <td>-0.002092</td>\n",
              "      <td>-0.028191</td>\n",
              "    </tr>\n",
              "    <tr>\n",
              "      <th>arranged</th>\n",
              "      <td>0.018465</td>\n",
              "      <td>-0.046400</td>\n",
              "      <td>0.009407</td>\n",
              "      <td>-0.014207</td>\n",
              "      <td>-0.030123</td>\n",
              "      <td>0.031651</td>\n",
              "      <td>-0.014168</td>\n",
              "      <td>-0.024966</td>\n",
              "      <td>-0.021764</td>\n",
              "      <td>-0.037386</td>\n",
              "      <td>0.041274</td>\n",
              "      <td>-0.038032</td>\n",
              "      <td>0.004103</td>\n",
              "      <td>0.012300</td>\n",
              "      <td>-0.026567</td>\n",
              "      <td>-0.030294</td>\n",
              "      <td>0.010808</td>\n",
              "      <td>0.039688</td>\n",
              "      <td>-0.001576</td>\n",
              "      <td>-0.003757</td>\n",
              "      <td>0.046705</td>\n",
              "      <td>-0.002704</td>\n",
              "      <td>0.043823</td>\n",
              "      <td>0.040227</td>\n",
              "      <td>0.004956</td>\n",
              "      <td>0.003929</td>\n",
              "      <td>0.034458</td>\n",
              "      <td>-0.014105</td>\n",
              "      <td>0.012851</td>\n",
              "      <td>0.006164</td>\n",
              "      <td>0.005541</td>\n",
              "      <td>-0.042642</td>\n",
              "      <td>-0.012594</td>\n",
              "      <td>-0.013629</td>\n",
              "      <td>-0.027612</td>\n",
              "      <td>-0.037255</td>\n",
              "      <td>0.005652</td>\n",
              "      <td>0.034876</td>\n",
              "      <td>0.008897</td>\n",
              "      <td>-0.018437</td>\n",
              "      <td>...</td>\n",
              "      <td>0.028284</td>\n",
              "      <td>-0.010055</td>\n",
              "      <td>0.021464</td>\n",
              "      <td>-0.016378</td>\n",
              "      <td>-0.040229</td>\n",
              "      <td>0.037360</td>\n",
              "      <td>0.021523</td>\n",
              "      <td>0.033909</td>\n",
              "      <td>-0.020097</td>\n",
              "      <td>0.017273</td>\n",
              "      <td>0.034670</td>\n",
              "      <td>0.029690</td>\n",
              "      <td>0.048957</td>\n",
              "      <td>-0.003559</td>\n",
              "      <td>-0.049837</td>\n",
              "      <td>-0.020058</td>\n",
              "      <td>0.015046</td>\n",
              "      <td>0.011103</td>\n",
              "      <td>0.027600</td>\n",
              "      <td>-0.046230</td>\n",
              "      <td>0.033411</td>\n",
              "      <td>0.005548</td>\n",
              "      <td>-0.035584</td>\n",
              "      <td>-0.019439</td>\n",
              "      <td>-0.016700</td>\n",
              "      <td>-0.038198</td>\n",
              "      <td>-0.017340</td>\n",
              "      <td>-0.011759</td>\n",
              "      <td>0.010563</td>\n",
              "      <td>-0.020919</td>\n",
              "      <td>-0.029012</td>\n",
              "      <td>-0.038450</td>\n",
              "      <td>-0.033515</td>\n",
              "      <td>-0.021435</td>\n",
              "      <td>0.000384</td>\n",
              "      <td>-0.049744</td>\n",
              "      <td>0.004906</td>\n",
              "      <td>0.022047</td>\n",
              "      <td>0.036068</td>\n",
              "      <td>0.035959</td>\n",
              "    </tr>\n",
              "    <tr>\n",
              "      <th>bringing</th>\n",
              "      <td>0.042764</td>\n",
              "      <td>-0.046972</td>\n",
              "      <td>0.043886</td>\n",
              "      <td>-0.009221</td>\n",
              "      <td>-0.003381</td>\n",
              "      <td>0.020080</td>\n",
              "      <td>0.028148</td>\n",
              "      <td>0.041053</td>\n",
              "      <td>-0.024189</td>\n",
              "      <td>-0.008084</td>\n",
              "      <td>0.015990</td>\n",
              "      <td>-0.021423</td>\n",
              "      <td>0.015610</td>\n",
              "      <td>0.043142</td>\n",
              "      <td>-0.019883</td>\n",
              "      <td>-0.028176</td>\n",
              "      <td>0.032054</td>\n",
              "      <td>0.026647</td>\n",
              "      <td>-0.025404</td>\n",
              "      <td>-0.051763</td>\n",
              "      <td>0.044162</td>\n",
              "      <td>0.028525</td>\n",
              "      <td>-0.029989</td>\n",
              "      <td>0.035850</td>\n",
              "      <td>-0.011633</td>\n",
              "      <td>0.013341</td>\n",
              "      <td>0.047613</td>\n",
              "      <td>-0.002112</td>\n",
              "      <td>0.045146</td>\n",
              "      <td>-0.039808</td>\n",
              "      <td>-0.000357</td>\n",
              "      <td>-0.019349</td>\n",
              "      <td>0.015426</td>\n",
              "      <td>-0.018508</td>\n",
              "      <td>-0.045124</td>\n",
              "      <td>0.061393</td>\n",
              "      <td>0.015446</td>\n",
              "      <td>-0.004710</td>\n",
              "      <td>0.023161</td>\n",
              "      <td>0.002690</td>\n",
              "      <td>...</td>\n",
              "      <td>-0.026265</td>\n",
              "      <td>-0.016059</td>\n",
              "      <td>-0.008884</td>\n",
              "      <td>-0.047515</td>\n",
              "      <td>-0.008549</td>\n",
              "      <td>0.010963</td>\n",
              "      <td>0.041121</td>\n",
              "      <td>0.032719</td>\n",
              "      <td>-0.003078</td>\n",
              "      <td>0.025419</td>\n",
              "      <td>-0.038278</td>\n",
              "      <td>0.009944</td>\n",
              "      <td>-0.021587</td>\n",
              "      <td>-0.031465</td>\n",
              "      <td>-0.016280</td>\n",
              "      <td>-0.020746</td>\n",
              "      <td>0.008240</td>\n",
              "      <td>-0.002531</td>\n",
              "      <td>0.020164</td>\n",
              "      <td>-0.010524</td>\n",
              "      <td>0.031918</td>\n",
              "      <td>0.002738</td>\n",
              "      <td>0.002379</td>\n",
              "      <td>0.050366</td>\n",
              "      <td>-0.031625</td>\n",
              "      <td>0.027252</td>\n",
              "      <td>0.035007</td>\n",
              "      <td>-0.013026</td>\n",
              "      <td>0.013576</td>\n",
              "      <td>-0.009910</td>\n",
              "      <td>-0.048562</td>\n",
              "      <td>0.001458</td>\n",
              "      <td>-0.023978</td>\n",
              "      <td>-0.024617</td>\n",
              "      <td>-0.024406</td>\n",
              "      <td>-0.034152</td>\n",
              "      <td>0.038781</td>\n",
              "      <td>-0.029322</td>\n",
              "      <td>0.019147</td>\n",
              "      <td>-0.042291</td>\n",
              "    </tr>\n",
              "    <tr>\n",
              "      <th>wooden</th>\n",
              "      <td>0.004385</td>\n",
              "      <td>0.031105</td>\n",
              "      <td>0.037571</td>\n",
              "      <td>0.028378</td>\n",
              "      <td>-0.034475</td>\n",
              "      <td>0.061577</td>\n",
              "      <td>-0.033666</td>\n",
              "      <td>0.029742</td>\n",
              "      <td>0.058010</td>\n",
              "      <td>-0.042637</td>\n",
              "      <td>-0.004790</td>\n",
              "      <td>-0.006535</td>\n",
              "      <td>0.054952</td>\n",
              "      <td>-0.052776</td>\n",
              "      <td>-0.014487</td>\n",
              "      <td>-0.009874</td>\n",
              "      <td>0.030718</td>\n",
              "      <td>-0.034907</td>\n",
              "      <td>-0.034008</td>\n",
              "      <td>-0.012379</td>\n",
              "      <td>-0.004486</td>\n",
              "      <td>0.016254</td>\n",
              "      <td>0.017604</td>\n",
              "      <td>0.046196</td>\n",
              "      <td>0.009648</td>\n",
              "      <td>-0.004172</td>\n",
              "      <td>0.039925</td>\n",
              "      <td>0.049833</td>\n",
              "      <td>0.037995</td>\n",
              "      <td>0.059412</td>\n",
              "      <td>-0.030025</td>\n",
              "      <td>0.007968</td>\n",
              "      <td>-0.063398</td>\n",
              "      <td>0.036468</td>\n",
              "      <td>-0.027644</td>\n",
              "      <td>0.070229</td>\n",
              "      <td>-0.051420</td>\n",
              "      <td>-0.018271</td>\n",
              "      <td>0.050056</td>\n",
              "      <td>-0.022082</td>\n",
              "      <td>...</td>\n",
              "      <td>-0.030137</td>\n",
              "      <td>0.054787</td>\n",
              "      <td>0.015100</td>\n",
              "      <td>-0.007802</td>\n",
              "      <td>-0.030402</td>\n",
              "      <td>-0.035015</td>\n",
              "      <td>0.058183</td>\n",
              "      <td>-0.032366</td>\n",
              "      <td>0.001068</td>\n",
              "      <td>-0.020790</td>\n",
              "      <td>0.028455</td>\n",
              "      <td>0.055000</td>\n",
              "      <td>0.030150</td>\n",
              "      <td>0.034345</td>\n",
              "      <td>0.017421</td>\n",
              "      <td>0.028878</td>\n",
              "      <td>0.012905</td>\n",
              "      <td>0.014120</td>\n",
              "      <td>0.021631</td>\n",
              "      <td>-0.028939</td>\n",
              "      <td>0.033816</td>\n",
              "      <td>0.015885</td>\n",
              "      <td>0.025206</td>\n",
              "      <td>-0.008610</td>\n",
              "      <td>-0.017462</td>\n",
              "      <td>-0.055827</td>\n",
              "      <td>-0.044854</td>\n",
              "      <td>-0.056052</td>\n",
              "      <td>0.027766</td>\n",
              "      <td>-0.015925</td>\n",
              "      <td>-0.022478</td>\n",
              "      <td>0.016226</td>\n",
              "      <td>0.011894</td>\n",
              "      <td>-0.047653</td>\n",
              "      <td>-0.014966</td>\n",
              "      <td>0.014390</td>\n",
              "      <td>0.000154</td>\n",
              "      <td>-0.031879</td>\n",
              "      <td>-0.033841</td>\n",
              "      <td>0.016112</td>\n",
              "    </tr>\n",
              "    <tr>\n",
              "      <th>errors</th>\n",
              "      <td>0.014002</td>\n",
              "      <td>-0.040888</td>\n",
              "      <td>-0.041923</td>\n",
              "      <td>0.037209</td>\n",
              "      <td>0.044984</td>\n",
              "      <td>-0.033682</td>\n",
              "      <td>-0.026107</td>\n",
              "      <td>0.042839</td>\n",
              "      <td>0.020104</td>\n",
              "      <td>0.006873</td>\n",
              "      <td>0.032500</td>\n",
              "      <td>0.026664</td>\n",
              "      <td>0.007697</td>\n",
              "      <td>0.021611</td>\n",
              "      <td>0.026199</td>\n",
              "      <td>0.020822</td>\n",
              "      <td>0.005253</td>\n",
              "      <td>0.042114</td>\n",
              "      <td>0.002428</td>\n",
              "      <td>-0.040848</td>\n",
              "      <td>-0.033837</td>\n",
              "      <td>0.013839</td>\n",
              "      <td>0.022894</td>\n",
              "      <td>-0.007781</td>\n",
              "      <td>-0.000390</td>\n",
              "      <td>-0.043514</td>\n",
              "      <td>-0.039239</td>\n",
              "      <td>-0.014766</td>\n",
              "      <td>0.042495</td>\n",
              "      <td>-0.010768</td>\n",
              "      <td>0.041130</td>\n",
              "      <td>-0.001736</td>\n",
              "      <td>0.042953</td>\n",
              "      <td>-0.017085</td>\n",
              "      <td>0.041354</td>\n",
              "      <td>0.040768</td>\n",
              "      <td>0.012020</td>\n",
              "      <td>-0.014676</td>\n",
              "      <td>0.004515</td>\n",
              "      <td>0.013748</td>\n",
              "      <td>...</td>\n",
              "      <td>-0.027348</td>\n",
              "      <td>0.009208</td>\n",
              "      <td>-0.017746</td>\n",
              "      <td>-0.009175</td>\n",
              "      <td>-0.025358</td>\n",
              "      <td>0.045966</td>\n",
              "      <td>-0.011200</td>\n",
              "      <td>0.011704</td>\n",
              "      <td>0.037387</td>\n",
              "      <td>-0.040512</td>\n",
              "      <td>0.007285</td>\n",
              "      <td>-0.031092</td>\n",
              "      <td>0.005619</td>\n",
              "      <td>0.000974</td>\n",
              "      <td>0.015431</td>\n",
              "      <td>-0.051989</td>\n",
              "      <td>0.021712</td>\n",
              "      <td>-0.044348</td>\n",
              "      <td>0.010349</td>\n",
              "      <td>0.037559</td>\n",
              "      <td>0.033168</td>\n",
              "      <td>-0.050745</td>\n",
              "      <td>-0.003414</td>\n",
              "      <td>0.047275</td>\n",
              "      <td>0.050477</td>\n",
              "      <td>-0.052877</td>\n",
              "      <td>-0.052694</td>\n",
              "      <td>-0.041444</td>\n",
              "      <td>-0.040189</td>\n",
              "      <td>-0.002822</td>\n",
              "      <td>0.048427</td>\n",
              "      <td>-0.041261</td>\n",
              "      <td>0.011065</td>\n",
              "      <td>-0.036090</td>\n",
              "      <td>-0.034665</td>\n",
              "      <td>0.017607</td>\n",
              "      <td>-0.039637</td>\n",
              "      <td>-0.030113</td>\n",
              "      <td>-0.017530</td>\n",
              "      <td>0.024843</td>\n",
              "    </tr>\n",
              "    <tr>\n",
              "      <th>dialogs</th>\n",
              "      <td>0.018952</td>\n",
              "      <td>-0.020281</td>\n",
              "      <td>-0.005433</td>\n",
              "      <td>0.042308</td>\n",
              "      <td>-0.011580</td>\n",
              "      <td>0.030019</td>\n",
              "      <td>0.001348</td>\n",
              "      <td>-0.020349</td>\n",
              "      <td>0.011770</td>\n",
              "      <td>0.029064</td>\n",
              "      <td>-0.003157</td>\n",
              "      <td>0.014034</td>\n",
              "      <td>0.035418</td>\n",
              "      <td>0.021157</td>\n",
              "      <td>0.007283</td>\n",
              "      <td>0.029185</td>\n",
              "      <td>-0.035753</td>\n",
              "      <td>0.045979</td>\n",
              "      <td>0.020438</td>\n",
              "      <td>-0.031914</td>\n",
              "      <td>0.048843</td>\n",
              "      <td>0.023834</td>\n",
              "      <td>-0.005009</td>\n",
              "      <td>0.022426</td>\n",
              "      <td>-0.008205</td>\n",
              "      <td>-0.037502</td>\n",
              "      <td>0.011793</td>\n",
              "      <td>-0.017733</td>\n",
              "      <td>0.035517</td>\n",
              "      <td>-0.021463</td>\n",
              "      <td>0.004754</td>\n",
              "      <td>-0.023896</td>\n",
              "      <td>0.041727</td>\n",
              "      <td>0.015849</td>\n",
              "      <td>0.039049</td>\n",
              "      <td>0.002299</td>\n",
              "      <td>0.027937</td>\n",
              "      <td>-0.025744</td>\n",
              "      <td>-0.055389</td>\n",
              "      <td>-0.042912</td>\n",
              "      <td>...</td>\n",
              "      <td>0.010615</td>\n",
              "      <td>-0.026937</td>\n",
              "      <td>0.003170</td>\n",
              "      <td>0.023347</td>\n",
              "      <td>-0.002519</td>\n",
              "      <td>0.039142</td>\n",
              "      <td>-0.028037</td>\n",
              "      <td>0.011335</td>\n",
              "      <td>-0.001368</td>\n",
              "      <td>0.025000</td>\n",
              "      <td>0.044658</td>\n",
              "      <td>0.048086</td>\n",
              "      <td>0.044102</td>\n",
              "      <td>0.034380</td>\n",
              "      <td>0.004788</td>\n",
              "      <td>-0.024416</td>\n",
              "      <td>0.036285</td>\n",
              "      <td>-0.022013</td>\n",
              "      <td>0.047652</td>\n",
              "      <td>0.048341</td>\n",
              "      <td>-0.041101</td>\n",
              "      <td>0.038286</td>\n",
              "      <td>-0.024626</td>\n",
              "      <td>-0.034989</td>\n",
              "      <td>-0.041354</td>\n",
              "      <td>-0.018644</td>\n",
              "      <td>-0.009666</td>\n",
              "      <td>-0.047867</td>\n",
              "      <td>-0.024087</td>\n",
              "      <td>-0.033448</td>\n",
              "      <td>-0.045442</td>\n",
              "      <td>0.015630</td>\n",
              "      <td>0.033770</td>\n",
              "      <td>0.008040</td>\n",
              "      <td>-0.035873</td>\n",
              "      <td>-0.040106</td>\n",
              "      <td>0.029329</td>\n",
              "      <td>0.027860</td>\n",
              "      <td>0.044070</td>\n",
              "      <td>0.023782</td>\n",
              "    </tr>\n",
              "    <tr>\n",
              "      <th>kids</th>\n",
              "      <td>-0.034489</td>\n",
              "      <td>0.000870</td>\n",
              "      <td>0.018174</td>\n",
              "      <td>0.009877</td>\n",
              "      <td>-0.005438</td>\n",
              "      <td>-0.040377</td>\n",
              "      <td>-0.005262</td>\n",
              "      <td>-0.000340</td>\n",
              "      <td>0.023333</td>\n",
              "      <td>0.004649</td>\n",
              "      <td>0.021586</td>\n",
              "      <td>-0.021189</td>\n",
              "      <td>-0.037689</td>\n",
              "      <td>0.006802</td>\n",
              "      <td>0.039498</td>\n",
              "      <td>-0.013287</td>\n",
              "      <td>-0.056440</td>\n",
              "      <td>0.036614</td>\n",
              "      <td>0.023405</td>\n",
              "      <td>-0.021661</td>\n",
              "      <td>0.011845</td>\n",
              "      <td>-0.000009</td>\n",
              "      <td>-0.017144</td>\n",
              "      <td>0.036876</td>\n",
              "      <td>0.031082</td>\n",
              "      <td>0.037980</td>\n",
              "      <td>0.005203</td>\n",
              "      <td>0.011498</td>\n",
              "      <td>-0.044496</td>\n",
              "      <td>-0.004910</td>\n",
              "      <td>0.026195</td>\n",
              "      <td>0.041277</td>\n",
              "      <td>0.022374</td>\n",
              "      <td>-0.017617</td>\n",
              "      <td>-0.034033</td>\n",
              "      <td>-0.004542</td>\n",
              "      <td>0.012901</td>\n",
              "      <td>0.036773</td>\n",
              "      <td>-0.011414</td>\n",
              "      <td>0.003599</td>\n",
              "      <td>...</td>\n",
              "      <td>0.047117</td>\n",
              "      <td>0.002710</td>\n",
              "      <td>0.040320</td>\n",
              "      <td>-0.002004</td>\n",
              "      <td>0.020752</td>\n",
              "      <td>-0.049325</td>\n",
              "      <td>-0.008194</td>\n",
              "      <td>-0.032247</td>\n",
              "      <td>0.012059</td>\n",
              "      <td>0.038603</td>\n",
              "      <td>0.025416</td>\n",
              "      <td>0.011984</td>\n",
              "      <td>-0.030290</td>\n",
              "      <td>0.012260</td>\n",
              "      <td>-0.022326</td>\n",
              "      <td>-0.028227</td>\n",
              "      <td>-0.013745</td>\n",
              "      <td>0.031080</td>\n",
              "      <td>-0.031070</td>\n",
              "      <td>0.031797</td>\n",
              "      <td>-0.039138</td>\n",
              "      <td>-0.021027</td>\n",
              "      <td>0.033612</td>\n",
              "      <td>-0.004160</td>\n",
              "      <td>0.008767</td>\n",
              "      <td>0.024851</td>\n",
              "      <td>-0.032891</td>\n",
              "      <td>-0.028139</td>\n",
              "      <td>-0.016390</td>\n",
              "      <td>0.008589</td>\n",
              "      <td>0.040689</td>\n",
              "      <td>-0.043734</td>\n",
              "      <td>-0.039831</td>\n",
              "      <td>-0.014271</td>\n",
              "      <td>-0.010521</td>\n",
              "      <td>-0.027484</td>\n",
              "      <td>0.014288</td>\n",
              "      <td>0.013498</td>\n",
              "      <td>0.036581</td>\n",
              "      <td>-0.033564</td>\n",
              "    </tr>\n",
              "    <tr>\n",
              "      <th>uplifting</th>\n",
              "      <td>-0.050054</td>\n",
              "      <td>-0.004354</td>\n",
              "      <td>-0.035327</td>\n",
              "      <td>-0.058394</td>\n",
              "      <td>0.023651</td>\n",
              "      <td>0.055502</td>\n",
              "      <td>0.040410</td>\n",
              "      <td>0.035940</td>\n",
              "      <td>0.001735</td>\n",
              "      <td>-0.000746</td>\n",
              "      <td>-0.009256</td>\n",
              "      <td>0.016038</td>\n",
              "      <td>0.031975</td>\n",
              "      <td>-0.018742</td>\n",
              "      <td>-0.042719</td>\n",
              "      <td>0.042091</td>\n",
              "      <td>0.019398</td>\n",
              "      <td>-0.042532</td>\n",
              "      <td>0.039237</td>\n",
              "      <td>-0.048760</td>\n",
              "      <td>0.024061</td>\n",
              "      <td>-0.021305</td>\n",
              "      <td>-0.015302</td>\n",
              "      <td>-0.012554</td>\n",
              "      <td>-0.009690</td>\n",
              "      <td>0.019431</td>\n",
              "      <td>0.038048</td>\n",
              "      <td>0.051471</td>\n",
              "      <td>-0.021422</td>\n",
              "      <td>0.060606</td>\n",
              "      <td>-0.019853</td>\n",
              "      <td>-0.018579</td>\n",
              "      <td>-0.049638</td>\n",
              "      <td>-0.040303</td>\n",
              "      <td>-0.037059</td>\n",
              "      <td>-0.025285</td>\n",
              "      <td>-0.009335</td>\n",
              "      <td>-0.029739</td>\n",
              "      <td>0.064607</td>\n",
              "      <td>-0.001371</td>\n",
              "      <td>...</td>\n",
              "      <td>0.032883</td>\n",
              "      <td>0.010020</td>\n",
              "      <td>-0.000138</td>\n",
              "      <td>-0.021815</td>\n",
              "      <td>-0.016119</td>\n",
              "      <td>0.035169</td>\n",
              "      <td>-0.026248</td>\n",
              "      <td>0.024494</td>\n",
              "      <td>0.046990</td>\n",
              "      <td>-0.046451</td>\n",
              "      <td>0.020712</td>\n",
              "      <td>0.000288</td>\n",
              "      <td>0.014651</td>\n",
              "      <td>0.032593</td>\n",
              "      <td>-0.036650</td>\n",
              "      <td>-0.021874</td>\n",
              "      <td>0.026058</td>\n",
              "      <td>0.041599</td>\n",
              "      <td>-0.002592</td>\n",
              "      <td>0.045043</td>\n",
              "      <td>0.043075</td>\n",
              "      <td>-0.025006</td>\n",
              "      <td>-0.053563</td>\n",
              "      <td>-0.030491</td>\n",
              "      <td>-0.033852</td>\n",
              "      <td>0.001510</td>\n",
              "      <td>0.029871</td>\n",
              "      <td>-0.036374</td>\n",
              "      <td>-0.000438</td>\n",
              "      <td>-0.006139</td>\n",
              "      <td>0.020846</td>\n",
              "      <td>-0.038648</td>\n",
              "      <td>0.036052</td>\n",
              "      <td>-0.049002</td>\n",
              "      <td>-0.031878</td>\n",
              "      <td>0.032644</td>\n",
              "      <td>-0.042286</td>\n",
              "      <td>0.002792</td>\n",
              "      <td>-0.015255</td>\n",
              "      <td>0.002259</td>\n",
              "    </tr>\n",
              "  </tbody>\n",
              "</table>\n",
              "<p>10 rows × 100 columns</p>\n",
              "</div>"
            ],
            "text/plain": [
              "                 0         1         2   ...        97        98        99\n",
              "woods      0.041655 -0.004162  0.036416  ... -0.052202 -0.008577  0.025173\n",
              "hanging   -0.082972 -0.016331  0.105816  ...  0.033133  0.102802 -0.060900\n",
              "woody      0.013392 -0.020555 -0.027443  ... -0.017589 -0.002092 -0.028191\n",
              "arranged   0.018465 -0.046400  0.009407  ...  0.022047  0.036068  0.035959\n",
              "bringing   0.042764 -0.046972  0.043886  ... -0.029322  0.019147 -0.042291\n",
              "wooden     0.004385  0.031105  0.037571  ... -0.031879 -0.033841  0.016112\n",
              "errors     0.014002 -0.040888 -0.041923  ... -0.030113 -0.017530  0.024843\n",
              "dialogs    0.018952 -0.020281 -0.005433  ...  0.027860  0.044070  0.023782\n",
              "kids      -0.034489  0.000870  0.018174  ...  0.013498  0.036581 -0.033564\n",
              "uplifting -0.050054 -0.004354 -0.035327  ...  0.002792 -0.015255  0.002259\n",
              "\n",
              "[10 rows x 100 columns]"
            ]
          },
          "metadata": {
            "tags": []
          },
          "execution_count": 21
        }
      ]
    },
    {
      "cell_type": "code",
      "metadata": {
        "id": "cxr3pYHEcJFN",
        "colab_type": "code",
        "colab": {}
      },
      "source": [
        "from sklearn.metrics.pairwise import cosine_similarity\n",
        "similarity_matrix = cosine_similarity(embed_layer)"
      ],
      "execution_count": 0,
      "outputs": []
    },
    {
      "cell_type": "code",
      "metadata": {
        "id": "50rKyRcGfvAM",
        "colab_type": "code",
        "colab": {}
      },
      "source": [
        "from sklearn.manifold import TSNE\n",
        "import matplotlib.pyplot as plt"
      ],
      "execution_count": 0,
      "outputs": []
    },
    {
      "cell_type": "code",
      "metadata": {
        "id": "deubhO9mfzRQ",
        "colab_type": "code",
        "outputId": "981e3b29-61df-4250-d131-6d5cc60aef77",
        "colab": {
          "base_uri": "https://localhost:8080/",
          "height": 483
        }
      },
      "source": [
        "tsne = TSNE(perplexity=3, n_components=2, init='pca', n_iter=5000, method='exact')\n",
        "np.set_printoptions(suppress=True)\n",
        "plot_only = 50\n",
        "T = tsne.fit_transform(embed_layer[:plot_only, :])\n",
        "labels = [idx2word[i] for i in range(plot_only)]\n",
        "plt.figure(figsize=(14, 8))\n",
        "plt.scatter(T[:, 0], T[:, 1])\n",
        "\n",
        "for label, x, y in zip(labels, T[:, 0], T[:, 1]):\n",
        "    plt.annotate(label, xy=(x+1, y+1), xytext=(0, 0), textcoords='offset points', ha='right', va='bottom')"
      ],
      "execution_count": 0,
      "outputs": [
        {
          "output_type": "display_data",
          "data": {
            "image/png": "[encoded data removed]",
            "text/plain": [
              "<Figure size 1008x576 with 1 Axes>"
            ]
          },
          "metadata": {
            "tags": []
          }
        }
      ]
    },
    {
      "cell_type": "code",
      "metadata": {
        "id": "_pHtW6dYePUC",
        "colab_type": "code",
        "colab": {}
      },
      "source": [
        "# 1. Create a new model that is a copy of the model step 3.  \n",
        "# 2. To this new model, add two dropoutlayers, one between the embedding layer and the LSTM layer and another between the LSTM layer and the output layer. \n",
        "# 3. Repeat steps 4 and 5 for this model.  What do you observe?How about if you train this new model for 6 epochs instead?\n",
        "# 4.Experiment with compiling the model with batch sizes of 1, 32, len(training_data). What doyou observe?"
      ],
      "execution_count": 0,
      "outputs": []
    },
    {
      "cell_type": "code",
      "metadata": {
        "id": "6IZtF4vBeuJm",
        "colab_type": "code",
        "outputId": "9b3304c2-b0ba-42aa-e4f0-ec89b70884c7",
        "colab": {
          "base_uri": "https://localhost:8080/",
          "height": 347
        }
      },
      "source": [
        "model2 = Sequential()\n",
        "EMBED_SIZE = 100\n",
        "# model.add()\n",
        "model2.add(Embedding(VOCAB_SIZE,EMBED_SIZE,input_length=MAXIMUM_LENGTH))\n",
        "model2.add(Dropout(0.2))\n",
        "model2.add(LSTM(100, activation='tanh'))\n",
        "model2.add(Dropout(0.2))\n",
        "model2.add(Dense(1,activation='sigmoid',input_shape=(1,)))\n",
        "print(model2.summary())"
      ],
      "execution_count": 0,
      "outputs": [
        {
          "output_type": "stream",
          "text": [
            "Model: \"sequential_5\"\n",
            "_________________________________________________________________\n",
            "Layer (type)                 Output Shape              Param #   \n",
            "=================================================================\n",
            "embedding_5 (Embedding)      (None, 500, 100)          1000000   \n",
            "_________________________________________________________________\n",
            "dropout_5 (Dropout)          (None, 500, 100)          0         \n",
            "_________________________________________________________________\n",
            "lstm_4 (LSTM)                (None, 100)               80400     \n",
            "_________________________________________________________________\n",
            "dropout_6 (Dropout)          (None, 100)               0         \n",
            "_________________________________________________________________\n",
            "dense_4 (Dense)              (None, 1)                 101       \n",
            "=================================================================\n",
            "Total params: 1,080,501\n",
            "Trainable params: 1,080,501\n",
            "Non-trainable params: 0\n",
            "_________________________________________________________________\n",
            "None\n"
          ],
          "name": "stdout"
        }
      ]
    },
    {
      "cell_type": "code",
      "metadata": {
        "id": "IQOzzLegfIhm",
        "colab_type": "code",
        "colab": {}
      },
      "source": [
        "model2.compile(loss='binary_crossentropy',optimizer='adam',metrics=['accuracy'])"
      ],
      "execution_count": 0,
      "outputs": []
    },
    {
      "cell_type": "code",
      "metadata": {
        "id": "jZtjHyUDfUWB",
        "colab_type": "code",
        "outputId": "d2f76a93-3f69-43b3-c7b1-496de4e4a95b",
        "colab": {
          "base_uri": "https://localhost:8080/",
          "height": 243
        }
      },
      "source": [
        "history = model2.fit(preprocessed_train_data,\n",
        "                    train_labels,\n",
        "                    epochs=6,\n",
        "                    batch_size=512,\n",
        "                    validation_split=0.08,\n",
        "                    verbose=1)"
      ],
      "execution_count": 0,
      "outputs": [
        {
          "output_type": "stream",
          "text": [
            "Train on 23000 samples, validate on 2000 samples\n",
            "Epoch 1/6\n",
            "23000/23000 [==============================] - 45s 2ms/step - loss: 0.6629 - acc: 0.6537 - val_loss: 0.6134 - val_acc: 0.7200\n",
            "Epoch 2/6\n",
            "23000/23000 [==============================] - 44s 2ms/step - loss: 0.4564 - acc: 0.8085 - val_loss: 0.3700 - val_acc: 0.8425\n",
            "Epoch 3/6\n",
            "23000/23000 [==============================] - 44s 2ms/step - loss: 0.2848 - acc: 0.8855 - val_loss: 0.3410 - val_acc: 0.8585\n",
            "Epoch 4/6\n",
            "23000/23000 [==============================] - 44s 2ms/step - loss: 0.2040 - acc: 0.9239 - val_loss: 0.3259 - val_acc: 0.8795\n",
            "Epoch 5/6\n",
            "23000/23000 [==============================] - 43s 2ms/step - loss: 0.1625 - acc: 0.9443 - val_loss: 0.3318 - val_acc: 0.8765\n",
            "Epoch 6/6\n",
            "23000/23000 [==============================] - 44s 2ms/step - loss: 0.1274 - acc: 0.9581 - val_loss: 0.3510 - val_acc: 0.8705\n"
          ],
          "name": "stdout"
        }
      ]
    },
    {
      "cell_type": "code",
      "metadata": {
        "id": "om-pLtOkgTt_",
        "colab_type": "code",
        "outputId": "73e5f37a-0bae-4f01-fb40-867e7b75ba56",
        "colab": {
          "base_uri": "https://localhost:8080/",
          "height": 52
        }
      },
      "source": [
        "results = model2.evaluate(processed_test_data, test_labels)\n",
        "print(results)"
      ],
      "execution_count": 0,
      "outputs": [
        {
          "output_type": "stream",
          "text": [
            "25000/25000 [==============================] - 294s 12ms/step\n",
            "[0.3607836242961884, 0.86712]\n"
          ],
          "name": "stdout"
        }
      ]
    },
    {
      "cell_type": "code",
      "metadata": {
        "colab_type": "code",
        "outputId": "be855187-35ee-43dd-b9a3-6a2efdd364ca",
        "id": "jJn6Uq_cgche",
        "colab": {
          "base_uri": "https://localhost:8080/",
          "height": 295
        }
      },
      "source": [
        "import matplotlib.pyplot as plt\n",
        "\n",
        "history_dict = history.history\n",
        "\n",
        "acc = history_dict['acc']\n",
        "val_acc = history_dict['val_acc']\n",
        "loss = history_dict['loss']\n",
        "val_loss = history_dict['val_loss']\n",
        "\n",
        "epochs = range(1, len(acc) + 1)\n",
        "\n",
        "plt.plot(epochs, acc, 'bo', label='Training acc')\n",
        "plt.plot(epochs, val_acc, 'b', label='Validation acc')\n",
        "plt.title('Training and validation accuracy')\n",
        "plt.xlabel('Epochs')\n",
        "plt.ylabel('Accuracy')\n",
        "plt.legend()\n",
        "\n",
        "plt.show()"
      ],
      "execution_count": 0,
      "outputs": [
        {
          "output_type": "display_data",
          "data": {
            "image/png": "[encoded data removed]",
            "text/plain": [
              "<Figure size 432x288 with 1 Axes>"
            ]
          },
          "metadata": {
            "tags": []
          }
        }
      ]
    },
    {
      "cell_type": "code",
      "metadata": {
        "colab_type": "code",
        "id": "vr2eZNRafppl",
        "colab": {}
      },
      "source": [
        "# model3 = Sequential()\n",
        "# EMBED_SIZE = 100\n",
        "# # model.add()\n",
        "# model3.add(Embedding(VOCAB_SIZE,EMBED_SIZE,input_length=MAXIMUM_LENGTH))\n",
        "# model3.add(Dropout(0.2))\n",
        "# model3.add(Bidirectional(100, activation='tanh'))\n",
        "# model3.add(Dropout(0.2))\n",
        "# model3.add(Dense(1,activation='sigmoid',input_shape=(1,)))\n",
        "# print(model.summary())"
      ],
      "execution_count": 0,
      "outputs": []
    },
    {
      "cell_type": "code",
      "metadata": {
        "colab_type": "code",
        "id": "cveOur1wfvTi",
        "colab": {}
      },
      "source": [
        "# model3.compile(loss='binary_crossentropy',optimizer='adam',metrics=['accuracy'])"
      ],
      "execution_count": 0,
      "outputs": []
    },
    {
      "cell_type": "code",
      "metadata": {
        "colab_type": "code",
        "outputId": "46262fa9-5306-4596-9a36-097075b219f5",
        "id": "lzBXJ-Fjf13K",
        "colab": {
          "base_uri": "https://localhost:8080/",
          "height": 139
        }
      },
      "source": [
        "# history = model3.fit(preprocessed_train_data,\n",
        "#                     train_labels,\n",
        "#                     epochs=3,\n",
        "#                     batch_size=512,\n",
        "#                     validation_split=0.08,\n",
        "#                     verbose=1)"
      ],
      "execution_count": 0,
      "outputs": [
        {
          "output_type": "stream",
          "text": [
            "Train on 23000 samples, validate on 2000 samples\n",
            "Epoch 1/3\n",
            "23000/23000 [==============================] - 45s 2ms/step - loss: 0.6674 - acc: 0.6229 - val_loss: 0.6370 - val_acc: 0.7125\n",
            "Epoch 2/3\n",
            "23000/23000 [==============================] - 44s 2ms/step - loss: 0.5044 - acc: 0.7959 - val_loss: 0.3744 - val_acc: 0.8420\n",
            "Epoch 3/3\n",
            " 2560/23000 [==>...........................] - ETA: 37s - loss: 0.3246 - acc: 0.8691"
          ],
          "name": "stdout"
        }
      ]
    },
    {
      "cell_type": "code",
      "metadata": {
        "id": "hiyuVzgSuomS",
        "colab_type": "code",
        "colab": {}
      },
      "source": [
        "# import matplotlib.pyplot as plt\n",
        "\n",
        "# history_dict = history.history\n",
        "\n",
        "# acc = history_dict['acc']\n",
        "# val_acc = history_dict['val_acc']\n",
        "# loss = history_dict['loss']\n",
        "# val_loss = history_dict['val_loss']\n",
        "\n",
        "# epochs = range(1, len(acc) + 1)\n",
        "\n",
        "# plt.plot(epochs, acc, 'bo', label='Training acc')\n",
        "# plt.plot(epochs, val_acc, 'b', label='Validation acc')\n",
        "# plt.title('Training and validation accuracy')\n",
        "# plt.xlabel('Epochs')\n",
        "# plt.ylabel('Accuracy')\n",
        "# plt.legend()\n",
        "\n",
        "# plt.show()"
      ],
      "execution_count": 0,
      "outputs": []
    }
  ]
}