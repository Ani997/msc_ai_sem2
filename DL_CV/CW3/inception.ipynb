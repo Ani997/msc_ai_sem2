{
 "cells": [
  {
   "cell_type": "code",
   "execution_count": 1,
   "metadata": {},
   "outputs": [],
   "source": [
    "!mkdir -p model\n",
    "# !pip install scikit-plot > /dev/null"
   ]
  },
  {
   "cell_type": "code",
   "execution_count": 2,
   "metadata": {
    "scrolled": true
   },
   "outputs": [
    {
     "name": "stderr",
     "output_type": "stream",
     "text": [
      "Using TensorFlow backend.\n",
      "/homes/nv304/virtpy3/lib/python3.6/site-packages/tensorflow/python/framework/dtypes.py:526: FutureWarning: Passing (type, 1) or '1type' as a synonym of type is deprecated; in a future version of numpy, it will be understood as (type, (1,)) / '(1,)type'.\n",
      "  _np_qint8 = np.dtype([(\"qint8\", np.int8, 1)])\n",
      "/homes/nv304/virtpy3/lib/python3.6/site-packages/tensorflow/python/framework/dtypes.py:527: FutureWarning: Passing (type, 1) or '1type' as a synonym of type is deprecated; in a future version of numpy, it will be understood as (type, (1,)) / '(1,)type'.\n",
      "  _np_quint8 = np.dtype([(\"quint8\", np.uint8, 1)])\n",
      "/homes/nv304/virtpy3/lib/python3.6/site-packages/tensorflow/python/framework/dtypes.py:528: FutureWarning: Passing (type, 1) or '1type' as a synonym of type is deprecated; in a future version of numpy, it will be understood as (type, (1,)) / '(1,)type'.\n",
      "  _np_qint16 = np.dtype([(\"qint16\", np.int16, 1)])\n",
      "/homes/nv304/virtpy3/lib/python3.6/site-packages/tensorflow/python/framework/dtypes.py:529: FutureWarning: Passing (type, 1) or '1type' as a synonym of type is deprecated; in a future version of numpy, it will be understood as (type, (1,)) / '(1,)type'.\n",
      "  _np_quint16 = np.dtype([(\"quint16\", np.uint16, 1)])\n",
      "/homes/nv304/virtpy3/lib/python3.6/site-packages/tensorflow/python/framework/dtypes.py:530: FutureWarning: Passing (type, 1) or '1type' as a synonym of type is deprecated; in a future version of numpy, it will be understood as (type, (1,)) / '(1,)type'.\n",
      "  _np_qint32 = np.dtype([(\"qint32\", np.int32, 1)])\n",
      "/homes/nv304/virtpy3/lib/python3.6/site-packages/tensorflow/python/framework/dtypes.py:535: FutureWarning: Passing (type, 1) or '1type' as a synonym of type is deprecated; in a future version of numpy, it will be understood as (type, (1,)) / '(1,)type'.\n",
      "  np_resource = np.dtype([(\"resource\", np.ubyte, 1)])\n"
     ]
    }
   ],
   "source": [
    "import numpy as np\n",
    "import os,time\n",
    "import cv2\n",
    "import keras\n",
    "from keras import backend as K\n",
    "from keras import layers\n",
    "from keras.datasets import mnist\n",
    "from sklearn.model_selection import train_test_split\n",
    "import matplotlib.pyplot as plt \n",
    "import pandas as pd\n",
    "from tensorflow.keras.utils import plot_model"
   ]
  },
  {
   "cell_type": "code",
   "execution_count": 3,
   "metadata": {},
   "outputs": [],
   "source": [
    "batch_size = 128\n",
    "buffer_size = 10000\n",
    "steps_per_epoch = int(np.ceil(60000 / float(batch_size)))  # = 469\n",
    "epochs = 10\n",
    "num_classes = 10"
   ]
  },
  {
   "cell_type": "code",
   "execution_count": 4,
   "metadata": {},
   "outputs": [],
   "source": [
    "class ProcessData:\n",
    "    def __init__(self, train, test, val, num_classes=10, original_shape=(28,28), final_shape=(32,32)):\n",
    "        self.num_classes = num_classes\n",
    "        self.original_shape = original_shape\n",
    "        self.final_shape = final_shape\n",
    "        (x_train,y_train) = train\n",
    "        (x_test,y_test) = test\n",
    "        (x_val,y_val) = val\n",
    "        ((self.x_train, self.y_train), (self.x_test, self.y_test), (self.x_val, self.y_val)) = map(self.reshape_dims, [train, test, val])\n",
    "\n",
    "    def reshape_dims(self, d):\n",
    "        (x,y) = d\n",
    "        x = x.astype('float32')\n",
    "        x = x.reshape(x.shape[0], self.original_shape[0], self.original_shape[1], 1)\n",
    "        pad_0 = int((self.final_shape[0]-self.original_shape[0])/2)\n",
    "        pad_1 = int((self.final_shape[1]-self.original_shape[1])/2)\n",
    "        x = np.pad(x, ((0,0),(pad_0,pad_1),(pad_0,pad_1),(0,0)), 'constant')\n",
    "        x = np.stack((x,)*3, axis=-1)\n",
    "        x = x[:,:,:,0,:]\n",
    "        y = keras.utils.to_categorical(y, self.num_classes)\n",
    "        return x, y"
   ]
  },
  {
   "cell_type": "code",
   "execution_count": 5,
   "metadata": {},
   "outputs": [
    {
     "name": "stdout",
     "output_type": "stream",
     "text": [
      "(40200, 28, 28) (40200,)\n",
      "(19800, 28, 28) (19800,)\n",
      "(10000, 28, 28) (10000,)\n",
      "(40200, 224, 224, 3) (40200, 10)\n",
      "(19800, 224, 224, 3) (19800, 10)\n",
      "(10000, 224, 224, 3) (10000, 10)\n"
     ]
    }
   ],
   "source": [
    "(x_train, y_train), (x_test, y_test) = mnist.load_data()\n",
    "x_train, x_val, y_train, y_val = train_test_split(x_train, y_train, test_size=0.33, random_state=42)\n",
    "print(x_train.shape,y_train.shape)\n",
    "print(x_val.shape, y_val.shape)\n",
    "print(x_test.shape,y_test.shape)\n",
    "data = ProcessData((x_train, y_train), (x_test, y_test), (x_val, y_val), num_classes=10, original_shape=(28,28), final_shape=(224,224))\n",
    "print(data.x_train.shape,data.y_train.shape)\n",
    "print(data.x_val.shape, data.y_val.shape)\n",
    "print(data.x_test.shape,data.y_test.shape)"
   ]
  },
  {
   "cell_type": "code",
   "execution_count": 6,
   "metadata": {},
   "outputs": [
    {
     "name": "stderr",
     "output_type": "stream",
     "text": [
      "Clipping input data to the valid range for imshow with RGB data ([0..1] for floats or [0..255] for integers).\n"
     ]
    },
    {
     "name": "stdout",
     "output_type": "stream",
     "text": [
      "9\n"
     ]
    },
    {
     "data": {
      "image/png": "[encoded data removed]",
      "text/plain": [
       "<Figure size 72x72 with 1 Axes>"
      ]
     },
     "metadata": {
      "needs_background": "light"
     },
     "output_type": "display_data"
    }
   ],
   "source": [
    "import random\n",
    "%matplotlib inline\n",
    "\n",
    "index = random.randint(0, len(data.x_train))\n",
    "image = data.x_train[index].squeeze()\n",
    "\n",
    "plt.figure(figsize=(1,1))\n",
    "plt.imshow(image, cmap=\"gray\")\n",
    "print(y_train[index])"
   ]
  },
  {
   "cell_type": "code",
   "execution_count": 7,
   "metadata": {},
   "outputs": [
    {
     "name": "stdout",
     "output_type": "stream",
     "text": [
      "Train shape (40200, 224, 224, 3) (40200,)\n",
      "Val shape (19800, 224, 224, 3) (19800,)\n",
      "Test shape (10000, 224, 224, 3) (10000,)\n"
     ]
    }
   ],
   "source": [
    "print(\"Train shape\",data.x_train.shape, y_train.shape)\n",
    "print(\"Val shape\",data.x_val.shape, y_val.shape)\n",
    "print(\"Test shape\",data.x_test.shape, y_test.shape)"
   ]
  },
  {
   "cell_type": "code",
   "execution_count": 8,
   "metadata": {},
   "outputs": [],
   "source": [
    "def inception(x, filters):\n",
    "    # 1x1\n",
    "    path1 = layers.Conv2D(filters=filters[0], kernel_size=(1,1), strides=1, padding='same', activation='relu')(x)\n",
    "\n",
    "    # 1x1->3x3\n",
    "    path2 = layers.Conv2D(filters=filters[1][0], kernel_size=(1,1), strides=1, padding='same', activation='relu')(x)\n",
    "    path2 = layers.Conv2D(filters=filters[1][1], kernel_size=(3,3), strides=1, padding='same', activation='relu')(path2)\n",
    "    \n",
    "    # 1x1->5x5\n",
    "    path3 = layers.Conv2D(filters=filters[2][0], kernel_size=(1,1), strides=1, padding='same', activation='relu')(x)\n",
    "    path3 = layers.Conv2D(filters=filters[2][1], kernel_size=(5,5), strides=1, padding='same', activation='relu')(path3)\n",
    "\n",
    "    # 3x3->1x1\n",
    "    path4 = layers.MaxPooling2D(pool_size=(3,3), strides=1, padding='same')(x)\n",
    "    path4 = layers.Conv2D(filters=filters[3], kernel_size=(1,1), strides=1, padding='same', activation='relu')(path4)\n",
    "\n",
    "    return layers.Concatenate(axis=-1)([path1,path2,path3,path4])\n",
    "\n",
    "\n",
    "def auxiliary(x, num_classes,name=None):\n",
    "    layer = layers.AveragePooling2D(pool_size=(5,5), strides=3, padding='valid')(x)\n",
    "    layer = layers.Conv2D(filters=128, kernel_size=(1,1), strides=1, padding='same', activation='relu')(layer)\n",
    "    layer = layers.Flatten()(layer)\n",
    "    layer = layers.Dense(units=256, activation='relu')(layer)\n",
    "    layer = layers.Dropout(0.4)(layer)\n",
    "    layer = layers.Dense(units=num_classes, activation='softmax', name=name)(layer)\n",
    "    return layer\n",
    "\n",
    "\n",
    "def googlenet(layer_in,num_classes):\n",
    "#     layer_in = Input(shape=IMAGE_SHAPE)\n",
    "    \n",
    "    # stage-1\n",
    "    layer = layers.Conv2D(filters=64, kernel_size=(7,7), strides=2, padding='same', activation='relu')(layer_in)\n",
    "    layer = layers.MaxPooling2D(pool_size=(3,3), strides=2, padding='same')(layer)\n",
    "    layer = layers.BatchNormalization()(layer)\n",
    "\n",
    "    # stage-2\n",
    "    layer = layers.Conv2D(filters=64, kernel_size=(1,1), strides=1, padding='same', activation='relu')(layer)\n",
    "    layer = layers.Conv2D(filters=192, kernel_size=(3,3), strides=1, padding='same', activation='relu')(layer)\n",
    "    layer = layers.BatchNormalization()(layer)\n",
    "    layer = layers.MaxPooling2D(pool_size=(3,3), strides=2, padding='same')(layer)\n",
    "\n",
    "    # stage-3\n",
    "    layer = inception(layer, [ 64,  (96,128), (16,32), 32]) #3a\n",
    "    layer = inception(layer, [128, (128,192), (32,96), 64]) #3b\n",
    "    layer = layers.MaxPooling2D(pool_size=(3,3), strides=2, padding='same')(layer)\n",
    "    \n",
    "    # stage-4\n",
    "    layer = inception(layer, [192,  (96,208),  (16,48),  64]) #4a\n",
    "    aux1  = auxiliary(layer, num_classes, name='aux1')\n",
    "    layer = inception(layer, [160, (112,224),  (24,64),  64]) #4b\n",
    "    layer = inception(layer, [128, (128,256),  (24,64),  64]) #4c\n",
    "    layer = inception(layer, [112, (144,288),  (32,64),  64]) #4d\n",
    "    aux2  = auxiliary(layer, num_classes, name='aux2')\n",
    "    layer = inception(layer, [256, (160,320), (32,128), 128]) #4e\n",
    "    layer = layers.MaxPooling2D(pool_size=(3,3), strides=2, padding='same')(layer)\n",
    "    \n",
    "    # stage-5\n",
    "    layer = inception(layer, [256, (160,320), (32,128), 128]) #5a\n",
    "    layer = inception(layer, [384, (192,384), (48,128), 128]) #5b\n",
    "    layer = layers.AveragePooling2D(pool_size=(7,7), strides=1, padding='valid')(layer)\n",
    "    \n",
    "    # stage-6\n",
    "    layer = layers.Flatten()(layer)\n",
    "    layer = layers.Dropout(0.4)(layer)\n",
    "    layer = layers.Dense(units=256, activation='linear')(layer)\n",
    "    main = layers.Dense(units=num_classes, activation='softmax', name='main')(layer)\n",
    "    \n",
    "    return main, aux1, aux2\n",
    "#     model = Model(inputs=layer_in, outputs=[main, aux1, aux2])\n",
    "    \n",
    "#     return model\n"
   ]
  },
  {
   "cell_type": "code",
   "execution_count": 9,
   "metadata": {},
   "outputs": [
    {
     "name": "stdout",
     "output_type": "stream",
     "text": [
      "WARNING:tensorflow:From /homes/nv304/virtpy3/lib/python3.6/site-packages/tensorflow/python/ops/resource_variable_ops.py:435: colocate_with (from tensorflow.python.framework.ops) is deprecated and will be removed in a future version.\n",
      "Instructions for updating:\n",
      "Colocations handled automatically by placer.\n",
      "Model: \"model_1\"\n",
      "__________________________________________________________________________________________________\n",
      "Layer (type)                    Output Shape         Param #     Connected to                     \n",
      "==================================================================================================\n",
      "input_1 (InputLayer)            (None, 224, 224, 3)  0                                            \n",
      "__________________________________________________________________________________________________\n",
      "conv2d_1 (Conv2D)               (None, 112, 112, 64) 9472        input_1[0][0]                    \n",
      "__________________________________________________________________________________________________\n",
      "max_pooling2d_1 (MaxPooling2D)  (None, 56, 56, 64)   0           conv2d_1[0][0]                   \n",
      "__________________________________________________________________________________________________\n",
      "batch_normalization_1 (BatchNor (None, 56, 56, 64)   256         max_pooling2d_1[0][0]            \n",
      "__________________________________________________________________________________________________\n",
      "conv2d_2 (Conv2D)               (None, 56, 56, 64)   4160        batch_normalization_1[0][0]      \n",
      "__________________________________________________________________________________________________\n",
      "conv2d_3 (Conv2D)               (None, 56, 56, 192)  110784      conv2d_2[0][0]                   \n",
      "__________________________________________________________________________________________________\n",
      "batch_normalization_2 (BatchNor (None, 56, 56, 192)  768         conv2d_3[0][0]                   \n",
      "__________________________________________________________________________________________________\n",
      "max_pooling2d_2 (MaxPooling2D)  (None, 28, 28, 192)  0           batch_normalization_2[0][0]      \n",
      "__________________________________________________________________________________________________\n",
      "conv2d_5 (Conv2D)               (None, 28, 28, 96)   18528       max_pooling2d_2[0][0]            \n",
      "__________________________________________________________________________________________________\n",
      "conv2d_7 (Conv2D)               (None, 28, 28, 16)   3088        max_pooling2d_2[0][0]            \n",
      "__________________________________________________________________________________________________\n",
      "max_pooling2d_3 (MaxPooling2D)  (None, 28, 28, 192)  0           max_pooling2d_2[0][0]            \n",
      "__________________________________________________________________________________________________\n",
      "conv2d_4 (Conv2D)               (None, 28, 28, 64)   12352       max_pooling2d_2[0][0]            \n",
      "__________________________________________________________________________________________________\n",
      "conv2d_6 (Conv2D)               (None, 28, 28, 128)  110720      conv2d_5[0][0]                   \n",
      "__________________________________________________________________________________________________\n",
      "conv2d_8 (Conv2D)               (None, 28, 28, 32)   12832       conv2d_7[0][0]                   \n",
      "__________________________________________________________________________________________________\n",
      "conv2d_9 (Conv2D)               (None, 28, 28, 32)   6176        max_pooling2d_3[0][0]            \n",
      "__________________________________________________________________________________________________\n",
      "concatenate_1 (Concatenate)     (None, 28, 28, 256)  0           conv2d_4[0][0]                   \n",
      "                                                                 conv2d_6[0][0]                   \n",
      "                                                                 conv2d_8[0][0]                   \n",
      "                                                                 conv2d_9[0][0]                   \n",
      "__________________________________________________________________________________________________\n",
      "conv2d_11 (Conv2D)              (None, 28, 28, 128)  32896       concatenate_1[0][0]              \n",
      "__________________________________________________________________________________________________\n",
      "conv2d_13 (Conv2D)              (None, 28, 28, 32)   8224        concatenate_1[0][0]              \n",
      "__________________________________________________________________________________________________\n",
      "max_pooling2d_4 (MaxPooling2D)  (None, 28, 28, 256)  0           concatenate_1[0][0]              \n",
      "__________________________________________________________________________________________________\n",
      "conv2d_10 (Conv2D)              (None, 28, 28, 128)  32896       concatenate_1[0][0]              \n",
      "__________________________________________________________________________________________________\n",
      "conv2d_12 (Conv2D)              (None, 28, 28, 192)  221376      conv2d_11[0][0]                  \n",
      "__________________________________________________________________________________________________\n",
      "conv2d_14 (Conv2D)              (None, 28, 28, 96)   76896       conv2d_13[0][0]                  \n",
      "__________________________________________________________________________________________________\n",
      "conv2d_15 (Conv2D)              (None, 28, 28, 64)   16448       max_pooling2d_4[0][0]            \n",
      "__________________________________________________________________________________________________\n",
      "concatenate_2 (Concatenate)     (None, 28, 28, 480)  0           conv2d_10[0][0]                  \n",
      "                                                                 conv2d_12[0][0]                  \n",
      "                                                                 conv2d_14[0][0]                  \n",
      "                                                                 conv2d_15[0][0]                  \n",
      "__________________________________________________________________________________________________\n",
      "max_pooling2d_5 (MaxPooling2D)  (None, 14, 14, 480)  0           concatenate_2[0][0]              \n",
      "__________________________________________________________________________________________________\n",
      "conv2d_17 (Conv2D)              (None, 14, 14, 96)   46176       max_pooling2d_5[0][0]            \n",
      "__________________________________________________________________________________________________\n",
      "conv2d_19 (Conv2D)              (None, 14, 14, 16)   7696        max_pooling2d_5[0][0]            \n",
      "__________________________________________________________________________________________________\n",
      "max_pooling2d_6 (MaxPooling2D)  (None, 14, 14, 480)  0           max_pooling2d_5[0][0]            \n",
      "__________________________________________________________________________________________________\n",
      "conv2d_16 (Conv2D)              (None, 14, 14, 192)  92352       max_pooling2d_5[0][0]            \n",
      "__________________________________________________________________________________________________\n",
      "conv2d_18 (Conv2D)              (None, 14, 14, 208)  179920      conv2d_17[0][0]                  \n",
      "__________________________________________________________________________________________________\n",
      "conv2d_20 (Conv2D)              (None, 14, 14, 48)   19248       conv2d_19[0][0]                  \n",
      "__________________________________________________________________________________________________\n",
      "conv2d_21 (Conv2D)              (None, 14, 14, 64)   30784       max_pooling2d_6[0][0]            \n",
      "__________________________________________________________________________________________________\n",
      "concatenate_3 (Concatenate)     (None, 14, 14, 512)  0           conv2d_16[0][0]                  \n",
      "                                                                 conv2d_18[0][0]                  \n",
      "                                                                 conv2d_20[0][0]                  \n",
      "                                                                 conv2d_21[0][0]                  \n",
      "__________________________________________________________________________________________________\n",
      "conv2d_24 (Conv2D)              (None, 14, 14, 112)  57456       concatenate_3[0][0]              \n",
      "__________________________________________________________________________________________________\n",
      "conv2d_26 (Conv2D)              (None, 14, 14, 24)   12312       concatenate_3[0][0]              \n",
      "__________________________________________________________________________________________________\n",
      "max_pooling2d_7 (MaxPooling2D)  (None, 14, 14, 512)  0           concatenate_3[0][0]              \n",
      "__________________________________________________________________________________________________\n",
      "conv2d_23 (Conv2D)              (None, 14, 14, 160)  82080       concatenate_3[0][0]              \n",
      "__________________________________________________________________________________________________\n",
      "conv2d_25 (Conv2D)              (None, 14, 14, 224)  226016      conv2d_24[0][0]                  \n",
      "__________________________________________________________________________________________________\n",
      "conv2d_27 (Conv2D)              (None, 14, 14, 64)   38464       conv2d_26[0][0]                  \n",
      "__________________________________________________________________________________________________\n",
      "conv2d_28 (Conv2D)              (None, 14, 14, 64)   32832       max_pooling2d_7[0][0]            \n",
      "__________________________________________________________________________________________________\n",
      "concatenate_4 (Concatenate)     (None, 14, 14, 512)  0           conv2d_23[0][0]                  \n",
      "                                                                 conv2d_25[0][0]                  \n",
      "                                                                 conv2d_27[0][0]                  \n",
      "                                                                 conv2d_28[0][0]                  \n",
      "__________________________________________________________________________________________________\n",
      "conv2d_30 (Conv2D)              (None, 14, 14, 128)  65664       concatenate_4[0][0]              \n",
      "__________________________________________________________________________________________________\n",
      "conv2d_32 (Conv2D)              (None, 14, 14, 24)   12312       concatenate_4[0][0]              \n",
      "__________________________________________________________________________________________________\n",
      "max_pooling2d_8 (MaxPooling2D)  (None, 14, 14, 512)  0           concatenate_4[0][0]              \n",
      "__________________________________________________________________________________________________\n",
      "conv2d_29 (Conv2D)              (None, 14, 14, 128)  65664       concatenate_4[0][0]              \n",
      "__________________________________________________________________________________________________\n",
      "conv2d_31 (Conv2D)              (None, 14, 14, 256)  295168      conv2d_30[0][0]                  \n",
      "__________________________________________________________________________________________________\n",
      "conv2d_33 (Conv2D)              (None, 14, 14, 64)   38464       conv2d_32[0][0]                  \n",
      "__________________________________________________________________________________________________\n",
      "conv2d_34 (Conv2D)              (None, 14, 14, 64)   32832       max_pooling2d_8[0][0]            \n",
      "__________________________________________________________________________________________________\n",
      "concatenate_5 (Concatenate)     (None, 14, 14, 512)  0           conv2d_29[0][0]                  \n",
      "                                                                 conv2d_31[0][0]                  \n",
      "                                                                 conv2d_33[0][0]                  \n",
      "                                                                 conv2d_34[0][0]                  \n",
      "__________________________________________________________________________________________________\n",
      "conv2d_36 (Conv2D)              (None, 14, 14, 144)  73872       concatenate_5[0][0]              \n",
      "__________________________________________________________________________________________________\n",
      "conv2d_38 (Conv2D)              (None, 14, 14, 32)   16416       concatenate_5[0][0]              \n",
      "__________________________________________________________________________________________________\n",
      "max_pooling2d_9 (MaxPooling2D)  (None, 14, 14, 512)  0           concatenate_5[0][0]              \n",
      "__________________________________________________________________________________________________\n",
      "conv2d_35 (Conv2D)              (None, 14, 14, 112)  57456       concatenate_5[0][0]              \n",
      "__________________________________________________________________________________________________\n",
      "conv2d_37 (Conv2D)              (None, 14, 14, 288)  373536      conv2d_36[0][0]                  \n",
      "__________________________________________________________________________________________________\n",
      "conv2d_39 (Conv2D)              (None, 14, 14, 64)   51264       conv2d_38[0][0]                  \n",
      "__________________________________________________________________________________________________\n",
      "conv2d_40 (Conv2D)              (None, 14, 14, 64)   32832       max_pooling2d_9[0][0]            \n",
      "__________________________________________________________________________________________________\n",
      "concatenate_6 (Concatenate)     (None, 14, 14, 528)  0           conv2d_35[0][0]                  \n",
      "                                                                 conv2d_37[0][0]                  \n",
      "                                                                 conv2d_39[0][0]                  \n",
      "                                                                 conv2d_40[0][0]                  \n",
      "__________________________________________________________________________________________________\n",
      "conv2d_43 (Conv2D)              (None, 14, 14, 160)  84640       concatenate_6[0][0]              \n",
      "__________________________________________________________________________________________________\n",
      "conv2d_45 (Conv2D)              (None, 14, 14, 32)   16928       concatenate_6[0][0]              \n",
      "__________________________________________________________________________________________________\n",
      "max_pooling2d_10 (MaxPooling2D) (None, 14, 14, 528)  0           concatenate_6[0][0]              \n",
      "__________________________________________________________________________________________________\n",
      "conv2d_42 (Conv2D)              (None, 14, 14, 256)  135424      concatenate_6[0][0]              \n",
      "__________________________________________________________________________________________________\n",
      "conv2d_44 (Conv2D)              (None, 14, 14, 320)  461120      conv2d_43[0][0]                  \n",
      "__________________________________________________________________________________________________\n",
      "conv2d_46 (Conv2D)              (None, 14, 14, 128)  102528      conv2d_45[0][0]                  \n",
      "__________________________________________________________________________________________________\n",
      "conv2d_47 (Conv2D)              (None, 14, 14, 128)  67712       max_pooling2d_10[0][0]           \n",
      "__________________________________________________________________________________________________\n",
      "concatenate_7 (Concatenate)     (None, 14, 14, 832)  0           conv2d_42[0][0]                  \n",
      "                                                                 conv2d_44[0][0]                  \n",
      "                                                                 conv2d_46[0][0]                  \n",
      "                                                                 conv2d_47[0][0]                  \n",
      "__________________________________________________________________________________________________\n",
      "max_pooling2d_11 (MaxPooling2D) (None, 7, 7, 832)    0           concatenate_7[0][0]              \n",
      "__________________________________________________________________________________________________\n",
      "conv2d_49 (Conv2D)              (None, 7, 7, 160)    133280      max_pooling2d_11[0][0]           \n",
      "__________________________________________________________________________________________________\n",
      "conv2d_51 (Conv2D)              (None, 7, 7, 32)     26656       max_pooling2d_11[0][0]           \n",
      "__________________________________________________________________________________________________\n",
      "max_pooling2d_12 (MaxPooling2D) (None, 7, 7, 832)    0           max_pooling2d_11[0][0]           \n",
      "__________________________________________________________________________________________________\n",
      "conv2d_48 (Conv2D)              (None, 7, 7, 256)    213248      max_pooling2d_11[0][0]           \n",
      "__________________________________________________________________________________________________\n",
      "conv2d_50 (Conv2D)              (None, 7, 7, 320)    461120      conv2d_49[0][0]                  \n",
      "__________________________________________________________________________________________________\n",
      "conv2d_52 (Conv2D)              (None, 7, 7, 128)    102528      conv2d_51[0][0]                  \n",
      "__________________________________________________________________________________________________\n",
      "conv2d_53 (Conv2D)              (None, 7, 7, 128)    106624      max_pooling2d_12[0][0]           \n",
      "__________________________________________________________________________________________________\n",
      "concatenate_8 (Concatenate)     (None, 7, 7, 832)    0           conv2d_48[0][0]                  \n",
      "                                                                 conv2d_50[0][0]                  \n",
      "                                                                 conv2d_52[0][0]                  \n",
      "                                                                 conv2d_53[0][0]                  \n",
      "__________________________________________________________________________________________________\n",
      "conv2d_55 (Conv2D)              (None, 7, 7, 192)    159936      concatenate_8[0][0]              \n",
      "__________________________________________________________________________________________________\n",
      "conv2d_57 (Conv2D)              (None, 7, 7, 48)     39984       concatenate_8[0][0]              \n",
      "__________________________________________________________________________________________________\n",
      "max_pooling2d_13 (MaxPooling2D) (None, 7, 7, 832)    0           concatenate_8[0][0]              \n",
      "__________________________________________________________________________________________________\n",
      "conv2d_54 (Conv2D)              (None, 7, 7, 384)    319872      concatenate_8[0][0]              \n",
      "__________________________________________________________________________________________________\n",
      "conv2d_56 (Conv2D)              (None, 7, 7, 384)    663936      conv2d_55[0][0]                  \n",
      "__________________________________________________________________________________________________\n",
      "conv2d_58 (Conv2D)              (None, 7, 7, 128)    153728      conv2d_57[0][0]                  \n",
      "__________________________________________________________________________________________________\n",
      "conv2d_59 (Conv2D)              (None, 7, 7, 128)    106624      max_pooling2d_13[0][0]           \n",
      "__________________________________________________________________________________________________\n",
      "concatenate_9 (Concatenate)     (None, 7, 7, 1024)   0           conv2d_54[0][0]                  \n",
      "                                                                 conv2d_56[0][0]                  \n",
      "                                                                 conv2d_58[0][0]                  \n",
      "                                                                 conv2d_59[0][0]                  \n",
      "__________________________________________________________________________________________________\n",
      "average_pooling2d_1 (AveragePoo (None, 4, 4, 512)    0           concatenate_3[0][0]              \n",
      "__________________________________________________________________________________________________\n",
      "average_pooling2d_2 (AveragePoo (None, 4, 4, 528)    0           concatenate_6[0][0]              \n",
      "__________________________________________________________________________________________________\n",
      "average_pooling2d_3 (AveragePoo (None, 1, 1, 1024)   0           concatenate_9[0][0]              \n",
      "__________________________________________________________________________________________________\n",
      "conv2d_22 (Conv2D)              (None, 4, 4, 128)    65664       average_pooling2d_1[0][0]        \n",
      "__________________________________________________________________________________________________\n",
      "conv2d_41 (Conv2D)              (None, 4, 4, 128)    67712       average_pooling2d_2[0][0]        \n",
      "__________________________________________________________________________________________________\n",
      "flatten_3 (Flatten)             (None, 1024)         0           average_pooling2d_3[0][0]        \n",
      "__________________________________________________________________________________________________\n",
      "flatten_1 (Flatten)             (None, 2048)         0           conv2d_22[0][0]                  \n",
      "__________________________________________________________________________________________________\n",
      "flatten_2 (Flatten)             (None, 2048)         0           conv2d_41[0][0]                  \n",
      "__________________________________________________________________________________________________\n",
      "dropout_3 (Dropout)             (None, 1024)         0           flatten_3[0][0]                  \n",
      "__________________________________________________________________________________________________\n",
      "dense_1 (Dense)                 (None, 256)          524544      flatten_1[0][0]                  \n",
      "__________________________________________________________________________________________________\n",
      "dense_2 (Dense)                 (None, 256)          524544      flatten_2[0][0]                  \n",
      "__________________________________________________________________________________________________\n",
      "dense_3 (Dense)                 (None, 256)          262400      dropout_3[0][0]                  \n",
      "__________________________________________________________________________________________________\n",
      "dropout_1 (Dropout)             (None, 256)          0           dense_1[0][0]                    \n",
      "__________________________________________________________________________________________________\n",
      "dropout_2 (Dropout)             (None, 256)          0           dense_2[0][0]                    \n",
      "__________________________________________________________________________________________________\n",
      "main (Dense)                    (None, 10)           2570        dense_3[0][0]                    \n",
      "__________________________________________________________________________________________________\n",
      "aux1 (Dense)                    (None, 10)           2570        dropout_1[0][0]                  \n",
      "__________________________________________________________________________________________________\n",
      "aux2 (Dense)                    (None, 10)           2570        dropout_2[0][0]                  \n",
      "==================================================================================================\n",
      "Total params: 7,427,150\n",
      "Trainable params: 7,426,638\n",
      "Non-trainable params: 512\n",
      "__________________________________________________________________________________________________\n"
     ]
    }
   ],
   "source": [
    "input_shape = data.x_train.shape[1:]\n",
    "\n",
    "inputs = layers.Input(shape=input_shape)\n",
    "(main, aux1, aux2) = googlenet(inputs,num_classes)\n",
    "# model = keras.models.Model(inputs=inputs, outputs=model_output)\n",
    "model = keras.models.Model(inputs=inputs, outputs=[main, aux1, aux2])\n",
    "\n",
    "model.compile(loss='categorical_crossentropy',\n",
    "              optimizer='Adam',\n",
    "              metrics=['accuracy'])\n",
    "                 \n",
    "model.summary()"
   ]
  },
  {
   "cell_type": "code",
   "execution_count": 10,
   "metadata": {},
   "outputs": [],
   "source": [
    "plot_model(model, to_file='model/inception.png')"
   ]
  },
  {
   "cell_type": "code",
   "execution_count": 12,
   "metadata": {
    "scrolled": true
   },
   "outputs": [
    {
     "name": "stdout",
     "output_type": "stream",
     "text": [
      "WARNING:tensorflow:From /homes/nv304/virtpy3/lib/python3.6/site-packages/tensorflow/python/ops/math_ops.py:3066: to_int32 (from tensorflow.python.ops.math_ops) is deprecated and will be removed in a future version.\n",
      "Instructions for updating:\n",
      "Use tf.cast instead.\n",
      "Train on 40200 samples, validate on 19800 samples\n",
      "Epoch 1/10\n",
      "40200/40200 [==============================] - 112s 3ms/step - loss: 1.4101 - main_loss: 0.5395 - aux1_loss: 0.4140 - aux2_loss: 0.4526 - main_accuracy: 0.8172 - aux1_accuracy: 0.8652 - aux2_accuracy: 0.8469 - val_loss: 0.6938 - val_main_loss: 0.2651 - val_aux1_loss: 0.2007 - val_aux2_loss: 0.2283 - val_main_accuracy: 0.9236 - val_aux1_accuracy: 0.9346 - val_aux2_accuracy: 0.9307\n",
      "Epoch 2/10\n",
      "40200/40200 [==============================] - 105s 3ms/step - loss: 0.2530 - main_loss: 0.0967 - aux1_loss: 0.0721 - aux2_loss: 0.0834 - main_accuracy: 0.9752 - aux1_accuracy: 0.9796 - aux2_accuracy: 0.9784 - val_loss: 0.5266 - val_main_loss: 0.2288 - val_aux1_loss: 0.1463 - val_aux2_loss: 0.1521 - val_main_accuracy: 0.9424 - val_aux1_accuracy: 0.9526 - val_aux2_accuracy: 0.9554\n",
      "Epoch 3/10\n",
      "40200/40200 [==============================] - 106s 3ms/step - loss: 0.1874 - main_loss: 0.0721 - aux1_loss: 0.0540 - aux2_loss: 0.0609 - main_accuracy: 0.9814 - aux1_accuracy: 0.9846 - aux2_accuracy: 0.9835 - val_loss: 0.5833 - val_main_loss: 0.2388 - val_aux1_loss: 0.1604 - val_aux2_loss: 0.1840 - val_main_accuracy: 0.9346 - val_aux1_accuracy: 0.9497 - val_aux2_accuracy: 0.9451\n",
      "Epoch 4/10\n",
      "40200/40200 [==============================] - 106s 3ms/step - loss: 0.1651 - main_loss: 0.0634 - aux1_loss: 0.0472 - aux2_loss: 0.0540 - main_accuracy: 0.9846 - aux1_accuracy: 0.9863 - aux2_accuracy: 0.9864 - val_loss: 0.2188 - val_main_loss: 0.0848 - val_aux1_loss: 0.0668 - val_aux2_loss: 0.0673 - val_main_accuracy: 0.9787 - val_aux1_accuracy: 0.9830 - val_aux2_accuracy: 0.9821\n",
      "Epoch 5/10\n",
      "40200/40200 [==============================] - 106s 3ms/step - loss: 0.1300 - main_loss: 0.0495 - aux1_loss: 0.0370 - aux2_loss: 0.0433 - main_accuracy: 0.9874 - aux1_accuracy: 0.9897 - aux2_accuracy: 0.9883 - val_loss: 0.2410 - val_main_loss: 0.0934 - val_aux1_loss: 0.0721 - val_aux2_loss: 0.0765 - val_main_accuracy: 0.9773 - val_aux1_accuracy: 0.9812 - val_aux2_accuracy: 0.9802\n",
      "Epoch 6/10\n",
      "40200/40200 [==============================] - 106s 3ms/step - loss: 0.1309 - main_loss: 0.0512 - aux1_loss: 0.0355 - aux2_loss: 0.0438 - main_accuracy: 0.9884 - aux1_accuracy: 0.9899 - aux2_accuracy: 0.9894 - val_loss: 0.1754 - val_main_loss: 0.0689 - val_aux1_loss: 0.0509 - val_aux2_loss: 0.0555 - val_main_accuracy: 0.9813 - val_aux1_accuracy: 0.9844 - val_aux2_accuracy: 0.9839\n",
      "Epoch 7/10\n",
      "40200/40200 [==============================] - 106s 3ms/step - loss: 0.1043 - main_loss: 0.0401 - aux1_loss: 0.0303 - aux2_loss: 0.0336 - main_accuracy: 0.9904 - aux1_accuracy: 0.9913 - aux2_accuracy: 0.9910 - val_loss: 0.2625 - val_main_loss: 0.1025 - val_aux1_loss: 0.0733 - val_aux2_loss: 0.0878 - val_main_accuracy: 0.9754 - val_aux1_accuracy: 0.9813 - val_aux2_accuracy: 0.9788\n",
      "Epoch 8/10\n",
      "40200/40200 [==============================] - 106s 3ms/step - loss: 0.0884 - main_loss: 0.0331 - aux1_loss: 0.0262 - aux2_loss: 0.0288 - main_accuracy: 0.9919 - aux1_accuracy: 0.9929 - aux2_accuracy: 0.9927 - val_loss: 0.1778 - val_main_loss: 0.0680 - val_aux1_loss: 0.0496 - val_aux2_loss: 0.0606 - val_main_accuracy: 0.9837 - val_aux1_accuracy: 0.9865 - val_aux2_accuracy: 0.9850\n",
      "Epoch 9/10\n",
      "40200/40200 [==============================] - 106s 3ms/step - loss: 0.0852 - main_loss: 0.0325 - aux1_loss: 0.0251 - aux2_loss: 0.0274 - main_accuracy: 0.9920 - aux1_accuracy: 0.9932 - aux2_accuracy: 0.9931 - val_loss: 0.2090 - val_main_loss: 0.0783 - val_aux1_loss: 0.0651 - val_aux2_loss: 0.0655 - val_main_accuracy: 0.9827 - val_aux1_accuracy: 0.9835 - val_aux2_accuracy: 0.9840\n",
      "Epoch 10/10\n",
      "40200/40200 [==============================] - 106s 3ms/step - loss: 0.0794 - main_loss: 0.0301 - aux1_loss: 0.0231 - aux2_loss: 0.0260 - main_accuracy: 0.9928 - aux1_accuracy: 0.9931 - aux2_accuracy: 0.9930 - val_loss: 0.1588 - val_main_loss: 0.0557 - val_aux1_loss: 0.0478 - val_aux2_loss: 0.0556 - val_main_accuracy: 0.9893 - val_aux1_accuracy: 0.9893 - val_aux2_accuracy: 0.9890\n"
     ]
    }
   ],
   "source": [
    "start = time.time()\n",
    "history = model.fit(data.x_train, [data.y_train,data.y_train,data.y_train],\n",
    "                    batch_size=batch_size,\n",
    "                    epochs=epochs,\n",
    "                    verbose=1,\n",
    "                    validation_data=(data.x_val, [data.y_val,data.y_val,data.y_val]))\n",
    "end = time.time()\n",
    "total_exec_time = end - start"
   ]
  },
  {
   "cell_type": "code",
   "execution_count": 13,
   "metadata": {},
   "outputs": [],
   "source": [
    "# Save the model weights.\n",
    "weight_path = 'model/inception_wt.h5'\n",
    "model.save_weights(weight_path)"
   ]
  },
  {
   "cell_type": "code",
   "execution_count": 20,
   "metadata": {},
   "outputs": [
    {
     "name": "stdout",
     "output_type": "stream",
     "text": [
      "10000/10000 [==============================] - 11s 1ms/step\n",
      "Test loss: 0.10269188071524259\n",
      "Test accuracy: 0.03683982044458389\n",
      "Test accuracy: [0.10269188071524259, 0.03683982044458389, 0.029731865972280502, 0.03498481586575508, 0.9909999966621399, 0.9916999936103821, 0.9911999702453613]\n"
     ]
    }
   ],
   "source": [
    "score = model.evaluate(data.x_test, [data.y_test,data.y_test,data.y_test], verbose=1,batch_size=batch_size)\n",
    "print('Test loss:', score[0])\n",
    "print('Test accuracy:', score[4])\n",
    "print(score)"
   ]
  },
  {
   "cell_type": "code",
   "execution_count": 37,
   "metadata": {},
   "outputs": [
    {
     "data": {
      "text/plain": [
       "list"
      ]
     },
     "execution_count": 37,
     "metadata": {},
     "output_type": "execute_result"
    }
   ],
   "source": [
    "type(score)"
   ]
  },
  {
   "cell_type": "code",
   "execution_count": 39,
   "metadata": {},
   "outputs": [
    {
     "data": {
      "image/png": "[encoded data removed]",
      "text/plain": [
       "<Figure size 432x288 with 1 Axes>"
      ]
     },
     "metadata": {
      "needs_background": "light"
     },
     "output_type": "display_data"
    },
    {
     "data": {
      "image/png": "[encoded data removed]",
      "text/plain": [
       "<Figure size 432x288 with 1 Axes>"
      ]
     },
     "metadata": {
      "needs_background": "light"
     },
     "output_type": "display_data"
    },
    {
     "data": {
      "image/png": "[encoded data removed]",
      "text/plain": [
       "<Figure size 432x288 with 1 Axes>"
      ]
     },
     "metadata": {
      "needs_background": "light"
     },
     "output_type": "display_data"
    }
   ],
   "source": [
    "plt.plot(history.history['main_accuracy'])\n",
    "plt.plot(history.history['val_main_accuracy'])\n",
    "plt.plot(history.history['aux1_accuracy'])\n",
    "plt.plot(history.history['val_aux1_accuracy'])\n",
    "plt.plot(history.history['aux2_accuracy'])\n",
    "plt.plot(history.history['val_aux2_accuracy'])\n",
    "plt.title('model accuracy')\n",
    "plt.ylabel('accuracy')\n",
    "plt.xlabel('epoch')\n",
    "plt.legend(['main_accuracy', 'val_main_accuracy','aux1_accuracy','val_aux1_accuracy','aux2_accuracy','val_aux2_accuracy'], loc='upper left')\n",
    "plt.show()\n",
    "# loss\n",
    "plt.plot(history.history['loss'])\n",
    "plt.plot(history.history['val_loss'])\n",
    "plt.title('model loss')\n",
    "plt.ylabel('loss')\n",
    "plt.xlabel('epoch')\n",
    "plt.legend(['train', 'val'], loc='upper left')\n",
    "plt.show()\n",
    "# summarize history for loss\n",
    "plt.plot(history.history['main_loss'])\n",
    "plt.plot(history.history['val_main_loss'])\n",
    "plt.plot(history.history['aux1_loss'])\n",
    "plt.plot(history.history['val_aux1_loss'])\n",
    "plt.plot(history.history['aux2_loss'])\n",
    "plt.plot(history.history['val_aux2_loss'])\n",
    "plt.title('model loss')\n",
    "plt.ylabel('loss')\n",
    "plt.xlabel('epoch')\n",
    "plt.legend(['main_loss', 'val_main_loss','aux1_loss','val_aux1_loss','aux2_loss','val_aux2_loss'], loc='upper left')\n",
    "plt.show()"
   ]
  },
  {
   "cell_type": "code",
   "execution_count": 26,
   "metadata": {},
   "outputs": [],
   "source": [
    "predictions = model.predict(data.x_test, verbose=0)"
   ]
  },
  {
   "cell_type": "code",
   "execution_count": 29,
   "metadata": {},
   "outputs": [
    {
     "data": {
      "text/plain": [
       "<matplotlib.axes._subplots.AxesSubplot at 0x7f84b44b9940>"
      ]
     },
     "execution_count": 29,
     "metadata": {},
     "output_type": "execute_result"
    },
    {
     "data": {
      "image/png": "[encoded data removed]",
      "text/plain": [
       "<Figure size 504x504 with 2 Axes>"
      ]
     },
     "metadata": {
      "needs_background": "light"
     },
     "output_type": "display_data"
    }
   ],
   "source": [
    "# from sklearn.metrics import classification_report, confusion_matrix\n",
    "# confusion_matrix(np.argmax(data.y_test,axis=1),np.argmax(predictions,axis=1))\n",
    "import scikitplot as skplt\n",
    "skplt.metrics.plot_confusion_matrix(np.argmax(data.y_test,axis=1),np.argmax(predictions[0],axis=1), normalize=True,figsize = (7,7))"
   ]
  },
  {
   "cell_type": "code",
   "execution_count": 31,
   "metadata": {},
   "outputs": [
    {
     "data": {
      "text/plain": [
       "<matplotlib.axes._subplots.AxesSubplot at 0x7f83220d0dd8>"
      ]
     },
     "execution_count": 31,
     "metadata": {},
     "output_type": "execute_result"
    },
    {
     "data": {
      "image/png": "[encoded data removed]",
      "text/plain": [
       "<Figure size 504x504 with 2 Axes>"
      ]
     },
     "metadata": {
      "needs_background": "light"
     },
     "output_type": "display_data"
    }
   ],
   "source": [
    "skplt.metrics.plot_confusion_matrix(np.argmax(data.y_test,axis=1),np.argmax(predictions[2],axis=1), normalize=True,figsize = (7,7))"
   ]
  },
  {
   "cell_type": "markdown",
   "metadata": {},
   "source": [
    "### Error Analysis"
   ]
  },
  {
   "cell_type": "code",
   "execution_count": 36,
   "metadata": {},
   "outputs": [
    {
     "name": "stderr",
     "output_type": "stream",
     "text": [
      "Clipping input data to the valid range for imshow with RGB data ([0..1] for floats or [0..255] for integers).\n",
      "Clipping input data to the valid range for imshow with RGB data ([0..1] for floats or [0..255] for integers).\n",
      "Clipping input data to the valid range for imshow with RGB data ([0..1] for floats or [0..255] for integers).\n",
      "Clipping input data to the valid range for imshow with RGB data ([0..1] for floats or [0..255] for integers).\n",
      "Clipping input data to the valid range for imshow with RGB data ([0..1] for floats or [0..255] for integers).\n",
      "Clipping input data to the valid range for imshow with RGB data ([0..1] for floats or [0..255] for integers).\n",
      "Clipping input data to the valid range for imshow with RGB data ([0..1] for floats or [0..255] for integers).\n",
      "Clipping input data to the valid range for imshow with RGB data ([0..1] for floats or [0..255] for integers).\n",
      "Clipping input data to the valid range for imshow with RGB data ([0..1] for floats or [0..255] for integers).\n",
      "Clipping input data to the valid range for imshow with RGB data ([0..1] for floats or [0..255] for integers).\n"
     ]
    },
    {
     "data": {
      "image/png": "[encoded data removed]",
      "text/plain": [
       "<Figure size 1080x1080 with 10 Axes>"
      ]
     },
     "metadata": {
      "needs_background": "light"
     },
     "output_type": "display_data"
    },
    {
     "name": "stdout",
     "output_type": "stream",
     "text": [
      "True:          [7 2 1 0 4]\n",
      "classified as: [7 2 1 0 4]\n",
      "Error\n",
      "True:          [2 1 7 3 6]\n",
      "classified as: [4 7 9 5 5]\n"
     ]
    }
   ],
   "source": [
    "def test_accuracy():\n",
    "    err = []\n",
    "    tru = []\n",
    "    for i in range(predictions[0].shape[0]):\n",
    "        if (np.argmax(predictions[0][i]) == y_test[i]):\n",
    "            tru.append(i)\n",
    "        else:\n",
    "            err.append(i)\n",
    "    return tru, err\n",
    "\n",
    "p = test_accuracy()\n",
    "\n",
    "fig1 = plt.figure(figsize = (15,15))\n",
    "for i in range(5):\n",
    "    ax1 = fig1.add_subplot(1,5,i+1) \n",
    "    ax1.imshow(data.x_test[p[0][i]], interpolation='none', cmap=plt.cm.gray)\n",
    "    ax2 = fig1.add_subplot(2,5,i+6) \n",
    "    ax2.imshow(data.x_test[p[1][i+6]], interpolation='none', cmap=plt.cm.gray)\n",
    "plt.show()\n",
    "\n",
    "print(\"True:          {}\".format(np.argmax(data.y_test[p[0][0:5]], axis =1)))\n",
    "print(\"classified as: {}\".format(np.argmax(predictions[0][p[0][0:5]], axis=1)))\n",
    "print(\"Error Cases\")\n",
    "print(\"True:          {}\".format(np.argmax(data.y_test[p[1][6:11]], axis =1)))\n",
    "print(\"classified as: {}\".format(np.argmax(predictions[0][p[1][6:11]], axis=1)))"
   ]
  },
  {
   "cell_type": "code",
   "execution_count": 41,
   "metadata": {},
   "outputs": [
    {
     "data": {
      "text/html": [
       "<div>\n",
       "<style scoped>\n",
       "    .dataframe tbody tr th:only-of-type {\n",
       "        vertical-align: middle;\n",
       "    }\n",
       "\n",
       "    .dataframe tbody tr th {\n",
       "        vertical-align: top;\n",
       "    }\n",
       "\n",
       "    .dataframe thead th {\n",
       "        text-align: right;\n",
       "    }\n",
       "</style>\n",
       "<table border=\"1\" class=\"dataframe\">\n",
       "  <thead>\n",
       "    <tr style=\"text-align: right;\">\n",
       "      <th></th>\n",
       "      <th>aux1_accuracy</th>\n",
       "      <th>aux1_loss</th>\n",
       "      <th>aux2_accuracy</th>\n",
       "      <th>aux2_loss</th>\n",
       "      <th>input_dims</th>\n",
       "      <th>loss</th>\n",
       "      <th>main_accuracy</th>\n",
       "      <th>main_loss</th>\n",
       "      <th>model_name</th>\n",
       "      <th>test_accuracy</th>\n",
       "      <th>test_loss</th>\n",
       "      <th>training_time</th>\n",
       "      <th>val_aux1_accuracy</th>\n",
       "      <th>val_aux1_loss</th>\n",
       "      <th>val_aux2_accuracy</th>\n",
       "      <th>val_aux2_loss</th>\n",
       "      <th>val_loss</th>\n",
       "      <th>val_main_accuracy</th>\n",
       "      <th>val_main_loss</th>\n",
       "    </tr>\n",
       "  </thead>\n",
       "  <tbody>\n",
       "    <tr>\n",
       "      <th>0</th>\n",
       "      <td>[0.8652239, 0.9795522, 0.98455226, 0.98626864,...</td>\n",
       "      <td>[0.4139618, 0.07214648, 0.053974073, 0.0472065...</td>\n",
       "      <td>[0.84689057, 0.97838306, 0.9835323, 0.9864179,...</td>\n",
       "      <td>[0.45263106, 0.08343346, 0.060861364, 0.054031...</td>\n",
       "      <td>(224, 224, 3)</td>\n",
       "      <td>[1.4101210344668051, 0.2530039545589715, 0.187...</td>\n",
       "      <td>[0.8171642, 0.9752239, 0.9814428, 0.9845771, 0...</td>\n",
       "      <td>[0.5394552, 0.09671371, 0.07208996, 0.06339453...</td>\n",
       "      <td>VGG16</td>\n",
       "      <td>0.991</td>\n",
       "      <td>0.102692</td>\n",
       "      <td>0.0</td>\n",
       "      <td>[0.9345959424972534, 0.9525757431983948, 0.949...</td>\n",
       "      <td>[0.2006649523973465, 0.14627039432525635, 0.16...</td>\n",
       "      <td>[0.9306565523147583, 0.9554040431976318, 0.945...</td>\n",
       "      <td>[0.22831863164901733, 0.15207837522029877, 0.1...</td>\n",
       "      <td>[0.6937707616825296, 0.5265618304291156, 0.583...</td>\n",
       "      <td>[0.923585832118988, 0.9424242377281189, 0.9345...</td>\n",
       "      <td>[0.26508399844169617, 0.2287691980600357, 0.23...</td>\n",
       "    </tr>\n",
       "  </tbody>\n",
       "</table>\n",
       "</div>"
      ],
      "text/plain": [
       "                                       aux1_accuracy  \\\n",
       "0  [0.8652239, 0.9795522, 0.98455226, 0.98626864,...   \n",
       "\n",
       "                                           aux1_loss  \\\n",
       "0  [0.4139618, 0.07214648, 0.053974073, 0.0472065...   \n",
       "\n",
       "                                       aux2_accuracy  \\\n",
       "0  [0.84689057, 0.97838306, 0.9835323, 0.9864179,...   \n",
       "\n",
       "                                           aux2_loss     input_dims  \\\n",
       "0  [0.45263106, 0.08343346, 0.060861364, 0.054031...  (224, 224, 3)   \n",
       "\n",
       "                                                loss  \\\n",
       "0  [1.4101210344668051, 0.2530039545589715, 0.187...   \n",
       "\n",
       "                                       main_accuracy  \\\n",
       "0  [0.8171642, 0.9752239, 0.9814428, 0.9845771, 0...   \n",
       "\n",
       "                                           main_loss model_name  \\\n",
       "0  [0.5394552, 0.09671371, 0.07208996, 0.06339453...      VGG16   \n",
       "\n",
       "   test_accuracy  test_loss  training_time  \\\n",
       "0          0.991   0.102692            0.0   \n",
       "\n",
       "                                   val_aux1_accuracy  \\\n",
       "0  [0.9345959424972534, 0.9525757431983948, 0.949...   \n",
       "\n",
       "                                       val_aux1_loss  \\\n",
       "0  [0.2006649523973465, 0.14627039432525635, 0.16...   \n",
       "\n",
       "                                   val_aux2_accuracy  \\\n",
       "0  [0.9306565523147583, 0.9554040431976318, 0.945...   \n",
       "\n",
       "                                       val_aux2_loss  \\\n",
       "0  [0.22831863164901733, 0.15207837522029877, 0.1...   \n",
       "\n",
       "                                            val_loss  \\\n",
       "0  [0.6937707616825296, 0.5265618304291156, 0.583...   \n",
       "\n",
       "                                   val_main_accuracy  \\\n",
       "0  [0.923585832118988, 0.9424242377281189, 0.9345...   \n",
       "\n",
       "                                       val_main_loss  \n",
       "0  [0.26508399844169617, 0.2287691980600357, 0.23...  "
      ]
     },
     "execution_count": 41,
     "metadata": {},
     "output_type": "execute_result"
    }
   ],
   "source": [
    "hist = {}\n",
    "hist['model_name'] = 'VGG16'\n",
    "hist['input_dims'] = data.x_train.shape[1:]\n",
    "hist['training_time'] = total_exec_time\n",
    "hist = dict(hist, **history.history)\n",
    "hist['test_loss'] = score[0]\n",
    "hist['test_accuracy'] = score[4]\n",
    "np.save('model.txt',hist)\n",
    "\n",
    "result = pd.DataFrame()\n",
    "result = result.append(hist, ignore_index=True)\n",
    "result"
   ]
  },
  {
   "cell_type": "code",
   "execution_count": 42,
   "metadata": {},
   "outputs": [],
   "source": [
    "K.clear_session()"
   ]
  },
  {
   "cell_type": "code",
   "execution_count": null,
   "metadata": {},
   "outputs": [],
   "source": []
  }
 ],
 "metadata": {
  "kernelspec": {
   "display_name": "Python 3",
   "language": "python",
   "name": "python3"
  },
  "language_info": {
   "codemirror_mode": {
    "name": "ipython",
    "version": 3
   },
   "file_extension": ".py",
   "mimetype": "text/x-python",
   "name": "python",
   "nbconvert_exporter": "python",
   "pygments_lexer": "ipython3",
   "version": "3.6.9"
  }
 },
 "nbformat": 4,
 "nbformat_minor": 4
}
